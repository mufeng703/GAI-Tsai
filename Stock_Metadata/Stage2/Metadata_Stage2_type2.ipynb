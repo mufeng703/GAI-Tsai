{
 "cells": [
  {
   "cell_type": "code",
   "execution_count": 1,
   "id": "3f3fe50c",
   "metadata": {},
   "outputs": [],
   "source": [
    "import numpy as np\n",
    "import pandas as pd\n",
    "import plotly.graph_objects as go\n",
    "import plotly.express as px\n",
    "import datetime\n",
    "from scipy import stats\n",
    "import os"
   ]
  },
  {
   "cell_type": "markdown",
   "id": "9a556504",
   "metadata": {},
   "source": [
    "It should have a dropdown menu to show the columns, and several types of graphs to show the data available and the gaps, as well as descriptive statistics for the metadata and the SDG dataset.  The analysis should be for each SDG, GICS Sector, Country, and the relationship between them via heatmaps and other visualizations.   "
   ]
  },
  {
   "cell_type": "code",
   "execution_count": null,
   "id": "d9eb4473",
   "metadata": {},
   "outputs": [],
   "source": [
    "path = \"https://www.dropbox.com/s/fcpt5lejcf60n2e/SDG_Data_File_Daily.csv?dl=1\"\n",
    "df_sdg= pd.read_csv(path, error_bad_lines=False, index_col=0)\n",
    "\n",
    "df_sdg.head()"
   ]
  }
 ],
 "metadata": {
  "kernelspec": {
   "display_name": "Python 3",
   "language": "python",
   "name": "python3"
  },
  "language_info": {
   "codemirror_mode": {
    "name": "ipython",
    "version": 3
   },
   "file_extension": ".py",
   "mimetype": "text/x-python",
   "name": "python",
   "nbconvert_exporter": "python",
   "pygments_lexer": "ipython3",
   "version": "3.8.3"
  }
 },
 "nbformat": 4,
 "nbformat_minor": 5
}
