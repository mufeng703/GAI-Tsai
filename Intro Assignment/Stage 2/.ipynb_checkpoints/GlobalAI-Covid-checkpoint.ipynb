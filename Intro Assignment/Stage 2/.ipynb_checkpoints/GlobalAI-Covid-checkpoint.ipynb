{
 "cells": [
  {
   "cell_type": "code",
   "execution_count": 211,
   "id": "c4f18f0f",
   "metadata": {},
   "outputs": [],
   "source": [
    "import numpy as np\n",
    "import pandas as pd\n",
    "import plotly.graph_objects as go\n",
    "import plotly.express as px\n",
    "import datetime\n",
    "from scipy import stats\n",
    "import os\n"
   ]
  },
  {
   "cell_type": "code",
   "execution_count": 11,
   "id": "3c64996d",
   "metadata": {},
   "outputs": [
    {
     "name": "stderr",
     "output_type": "stream",
     "text": [
      "/Library/Frameworks/Python.framework/Versions/3.8/lib/python3.8/site-packages/numpy/lib/arraysetops.py:580: FutureWarning: elementwise comparison failed; returning scalar instead, but in the future will perform elementwise comparison\n",
      "  mask |= (ar1 == a)\n"
     ]
    },
    {
     "data": {
      "text/html": [
       "<div>\n",
       "<style scoped>\n",
       "    .dataframe tbody tr th:only-of-type {\n",
       "        vertical-align: middle;\n",
       "    }\n",
       "\n",
       "    .dataframe tbody tr th {\n",
       "        vertical-align: top;\n",
       "    }\n",
       "\n",
       "    .dataframe thead th {\n",
       "        text-align: right;\n",
       "    }\n",
       "</style>\n",
       "<table border=\"1\" class=\"dataframe\">\n",
       "  <thead>\n",
       "    <tr style=\"text-align: right;\">\n",
       "      <th></th>\n",
       "      <th>Timestamp</th>\n",
       "      <th>Ticker</th>\n",
       "      <th>ISIN</th>\n",
       "      <th>Company_Name</th>\n",
       "      <th>GICS Sector</th>\n",
       "      <th>SDG_1_ADJ</th>\n",
       "      <th>SDG_2_ADJ</th>\n",
       "      <th>SDG_3_ADJ</th>\n",
       "      <th>SDG_4_ADJ</th>\n",
       "      <th>SDG_5_ADJ</th>\n",
       "      <th>...</th>\n",
       "      <th>SDG_9_News_Volume</th>\n",
       "      <th>SDG_10_News_Volume</th>\n",
       "      <th>SDG_11_News_Volume</th>\n",
       "      <th>SDG_12_News_Volume</th>\n",
       "      <th>SDG_13_News_Volume</th>\n",
       "      <th>SDG_14_News_Volume</th>\n",
       "      <th>SDG_15_News_Volume</th>\n",
       "      <th>SDG_16_News_Volume</th>\n",
       "      <th>SDG_17_News_Volume</th>\n",
       "      <th>SDG_News_Volume_Mean</th>\n",
       "    </tr>\n",
       "  </thead>\n",
       "  <tbody>\n",
       "    <tr>\n",
       "      <th>0</th>\n",
       "      <td>2013-04-01</td>\n",
       "      <td>A</td>\n",
       "      <td>US00846U1016</td>\n",
       "      <td>agilent technologies inc</td>\n",
       "      <td>Health Care</td>\n",
       "      <td>NaN</td>\n",
       "      <td>NaN</td>\n",
       "      <td>NaN</td>\n",
       "      <td>NaN</td>\n",
       "      <td>NaN</td>\n",
       "      <td>...</td>\n",
       "      <td>NaN</td>\n",
       "      <td>NaN</td>\n",
       "      <td>NaN</td>\n",
       "      <td>NaN</td>\n",
       "      <td>NaN</td>\n",
       "      <td>NaN</td>\n",
       "      <td>NaN</td>\n",
       "      <td>NaN</td>\n",
       "      <td>NaN</td>\n",
       "      <td>NaN</td>\n",
       "    </tr>\n",
       "    <tr>\n",
       "      <th>1</th>\n",
       "      <td>2013-04-02</td>\n",
       "      <td>A</td>\n",
       "      <td>US00846U1016</td>\n",
       "      <td>agilent technologies inc</td>\n",
       "      <td>Health Care</td>\n",
       "      <td>NaN</td>\n",
       "      <td>NaN</td>\n",
       "      <td>NaN</td>\n",
       "      <td>NaN</td>\n",
       "      <td>NaN</td>\n",
       "      <td>...</td>\n",
       "      <td>NaN</td>\n",
       "      <td>NaN</td>\n",
       "      <td>NaN</td>\n",
       "      <td>NaN</td>\n",
       "      <td>NaN</td>\n",
       "      <td>NaN</td>\n",
       "      <td>NaN</td>\n",
       "      <td>NaN</td>\n",
       "      <td>NaN</td>\n",
       "      <td>NaN</td>\n",
       "    </tr>\n",
       "    <tr>\n",
       "      <th>2</th>\n",
       "      <td>2013-04-03</td>\n",
       "      <td>A</td>\n",
       "      <td>US00846U1016</td>\n",
       "      <td>agilent technologies inc</td>\n",
       "      <td>Health Care</td>\n",
       "      <td>NaN</td>\n",
       "      <td>NaN</td>\n",
       "      <td>NaN</td>\n",
       "      <td>NaN</td>\n",
       "      <td>NaN</td>\n",
       "      <td>...</td>\n",
       "      <td>NaN</td>\n",
       "      <td>NaN</td>\n",
       "      <td>NaN</td>\n",
       "      <td>NaN</td>\n",
       "      <td>NaN</td>\n",
       "      <td>NaN</td>\n",
       "      <td>NaN</td>\n",
       "      <td>NaN</td>\n",
       "      <td>NaN</td>\n",
       "      <td>NaN</td>\n",
       "    </tr>\n",
       "    <tr>\n",
       "      <th>3</th>\n",
       "      <td>2013-04-04</td>\n",
       "      <td>A</td>\n",
       "      <td>US00846U1016</td>\n",
       "      <td>agilent technologies inc</td>\n",
       "      <td>Health Care</td>\n",
       "      <td>NaN</td>\n",
       "      <td>NaN</td>\n",
       "      <td>NaN</td>\n",
       "      <td>NaN</td>\n",
       "      <td>NaN</td>\n",
       "      <td>...</td>\n",
       "      <td>NaN</td>\n",
       "      <td>NaN</td>\n",
       "      <td>NaN</td>\n",
       "      <td>NaN</td>\n",
       "      <td>NaN</td>\n",
       "      <td>NaN</td>\n",
       "      <td>NaN</td>\n",
       "      <td>NaN</td>\n",
       "      <td>NaN</td>\n",
       "      <td>NaN</td>\n",
       "    </tr>\n",
       "    <tr>\n",
       "      <th>4</th>\n",
       "      <td>2013-04-05</td>\n",
       "      <td>A</td>\n",
       "      <td>US00846U1016</td>\n",
       "      <td>agilent technologies inc</td>\n",
       "      <td>Health Care</td>\n",
       "      <td>NaN</td>\n",
       "      <td>NaN</td>\n",
       "      <td>NaN</td>\n",
       "      <td>NaN</td>\n",
       "      <td>NaN</td>\n",
       "      <td>...</td>\n",
       "      <td>NaN</td>\n",
       "      <td>NaN</td>\n",
       "      <td>NaN</td>\n",
       "      <td>NaN</td>\n",
       "      <td>NaN</td>\n",
       "      <td>NaN</td>\n",
       "      <td>NaN</td>\n",
       "      <td>NaN</td>\n",
       "      <td>NaN</td>\n",
       "      <td>NaN</td>\n",
       "    </tr>\n",
       "  </tbody>\n",
       "</table>\n",
       "<p>5 rows × 95 columns</p>\n",
       "</div>"
      ],
      "text/plain": [
       "    Timestamp Ticker          ISIN              Company_Name  GICS Sector  \\\n",
       "0  2013-04-01      A  US00846U1016  agilent technologies inc  Health Care   \n",
       "1  2013-04-02      A  US00846U1016  agilent technologies inc  Health Care   \n",
       "2  2013-04-03      A  US00846U1016  agilent technologies inc  Health Care   \n",
       "3  2013-04-04      A  US00846U1016  agilent technologies inc  Health Care   \n",
       "4  2013-04-05      A  US00846U1016  agilent technologies inc  Health Care   \n",
       "\n",
       "   SDG_1_ADJ  SDG_2_ADJ  SDG_3_ADJ  SDG_4_ADJ  SDG_5_ADJ  ...  \\\n",
       "0        NaN        NaN        NaN        NaN        NaN  ...   \n",
       "1        NaN        NaN        NaN        NaN        NaN  ...   \n",
       "2        NaN        NaN        NaN        NaN        NaN  ...   \n",
       "3        NaN        NaN        NaN        NaN        NaN  ...   \n",
       "4        NaN        NaN        NaN        NaN        NaN  ...   \n",
       "\n",
       "   SDG_9_News_Volume  SDG_10_News_Volume  SDG_11_News_Volume  \\\n",
       "0                NaN                 NaN                 NaN   \n",
       "1                NaN                 NaN                 NaN   \n",
       "2                NaN                 NaN                 NaN   \n",
       "3                NaN                 NaN                 NaN   \n",
       "4                NaN                 NaN                 NaN   \n",
       "\n",
       "   SDG_12_News_Volume  SDG_13_News_Volume  SDG_14_News_Volume  \\\n",
       "0                 NaN                 NaN                 NaN   \n",
       "1                 NaN                 NaN                 NaN   \n",
       "2                 NaN                 NaN                 NaN   \n",
       "3                 NaN                 NaN                 NaN   \n",
       "4                 NaN                 NaN                 NaN   \n",
       "\n",
       "   SDG_15_News_Volume  SDG_16_News_Volume  SDG_17_News_Volume  \\\n",
       "0                 NaN                 NaN                 NaN   \n",
       "1                 NaN                 NaN                 NaN   \n",
       "2                 NaN                 NaN                 NaN   \n",
       "3                 NaN                 NaN                 NaN   \n",
       "4                 NaN                 NaN                 NaN   \n",
       "\n",
       "   SDG_News_Volume_Mean  \n",
       "0                   NaN  \n",
       "1                   NaN  \n",
       "2                   NaN  \n",
       "3                   NaN  \n",
       "4                   NaN  \n",
       "\n",
       "[5 rows x 95 columns]"
      ]
     },
     "execution_count": 11,
     "metadata": {},
     "output_type": "execute_result"
    }
   ],
   "source": [
    "path = \"./Data/SDG_Adjusted_File_Daily.csv\"\n",
    "df_sdg_adj = pd.read_csv(path, index_col=0)\n",
    "\n",
    "df_sdg_adj.head()"
   ]
  },
  {
   "cell_type": "code",
   "execution_count": 12,
   "id": "84905cbd",
   "metadata": {},
   "outputs": [
    {
     "name": "stderr",
     "output_type": "stream",
     "text": [
      "/Library/Frameworks/Python.framework/Versions/3.8/lib/python3.8/site-packages/numpy/lib/arraysetops.py:580: FutureWarning: elementwise comparison failed; returning scalar instead, but in the future will perform elementwise comparison\n",
      "  mask |= (ar1 == a)\n"
     ]
    },
    {
     "data": {
      "text/html": [
       "<div>\n",
       "<style scoped>\n",
       "    .dataframe tbody tr th:only-of-type {\n",
       "        vertical-align: middle;\n",
       "    }\n",
       "\n",
       "    .dataframe tbody tr th {\n",
       "        vertical-align: top;\n",
       "    }\n",
       "\n",
       "    .dataframe thead th {\n",
       "        text-align: right;\n",
       "    }\n",
       "</style>\n",
       "<table border=\"1\" class=\"dataframe\">\n",
       "  <thead>\n",
       "    <tr style=\"text-align: right;\">\n",
       "      <th></th>\n",
       "      <th>Timestamp</th>\n",
       "      <th>Ticker</th>\n",
       "      <th>ISIN</th>\n",
       "      <th>Company_Name</th>\n",
       "      <th>GICS Sector</th>\n",
       "      <th>SDG_1</th>\n",
       "      <th>SDG_2</th>\n",
       "      <th>SDG_3</th>\n",
       "      <th>SDG_4</th>\n",
       "      <th>SDG_5</th>\n",
       "      <th>...</th>\n",
       "      <th>SDG_9_News_Volume</th>\n",
       "      <th>SDG_10_News_Volume</th>\n",
       "      <th>SDG_11_News_Volume</th>\n",
       "      <th>SDG_12_News_Volume</th>\n",
       "      <th>SDG_13_News_Volume</th>\n",
       "      <th>SDG_14_News_Volume</th>\n",
       "      <th>SDG_15_News_Volume</th>\n",
       "      <th>SDG_16_News_Volume</th>\n",
       "      <th>SDG_17_News_Volume</th>\n",
       "      <th>SDG_News_Volume_Mean</th>\n",
       "    </tr>\n",
       "  </thead>\n",
       "  <tbody>\n",
       "    <tr>\n",
       "      <th>0</th>\n",
       "      <td>2013-04-01</td>\n",
       "      <td>A</td>\n",
       "      <td>US00846U1016</td>\n",
       "      <td>agilent technologies inc</td>\n",
       "      <td>Health Care</td>\n",
       "      <td>NaN</td>\n",
       "      <td>NaN</td>\n",
       "      <td>NaN</td>\n",
       "      <td>NaN</td>\n",
       "      <td>NaN</td>\n",
       "      <td>...</td>\n",
       "      <td>NaN</td>\n",
       "      <td>NaN</td>\n",
       "      <td>NaN</td>\n",
       "      <td>NaN</td>\n",
       "      <td>NaN</td>\n",
       "      <td>NaN</td>\n",
       "      <td>NaN</td>\n",
       "      <td>NaN</td>\n",
       "      <td>NaN</td>\n",
       "      <td>NaN</td>\n",
       "    </tr>\n",
       "    <tr>\n",
       "      <th>1</th>\n",
       "      <td>2013-04-02</td>\n",
       "      <td>A</td>\n",
       "      <td>US00846U1016</td>\n",
       "      <td>agilent technologies inc</td>\n",
       "      <td>Health Care</td>\n",
       "      <td>NaN</td>\n",
       "      <td>NaN</td>\n",
       "      <td>NaN</td>\n",
       "      <td>NaN</td>\n",
       "      <td>NaN</td>\n",
       "      <td>...</td>\n",
       "      <td>NaN</td>\n",
       "      <td>NaN</td>\n",
       "      <td>NaN</td>\n",
       "      <td>NaN</td>\n",
       "      <td>NaN</td>\n",
       "      <td>NaN</td>\n",
       "      <td>NaN</td>\n",
       "      <td>NaN</td>\n",
       "      <td>NaN</td>\n",
       "      <td>NaN</td>\n",
       "    </tr>\n",
       "    <tr>\n",
       "      <th>2</th>\n",
       "      <td>2013-04-03</td>\n",
       "      <td>A</td>\n",
       "      <td>US00846U1016</td>\n",
       "      <td>agilent technologies inc</td>\n",
       "      <td>Health Care</td>\n",
       "      <td>NaN</td>\n",
       "      <td>NaN</td>\n",
       "      <td>NaN</td>\n",
       "      <td>NaN</td>\n",
       "      <td>NaN</td>\n",
       "      <td>...</td>\n",
       "      <td>NaN</td>\n",
       "      <td>NaN</td>\n",
       "      <td>NaN</td>\n",
       "      <td>NaN</td>\n",
       "      <td>NaN</td>\n",
       "      <td>NaN</td>\n",
       "      <td>NaN</td>\n",
       "      <td>NaN</td>\n",
       "      <td>NaN</td>\n",
       "      <td>NaN</td>\n",
       "    </tr>\n",
       "    <tr>\n",
       "      <th>3</th>\n",
       "      <td>2013-04-04</td>\n",
       "      <td>A</td>\n",
       "      <td>US00846U1016</td>\n",
       "      <td>agilent technologies inc</td>\n",
       "      <td>Health Care</td>\n",
       "      <td>NaN</td>\n",
       "      <td>NaN</td>\n",
       "      <td>NaN</td>\n",
       "      <td>NaN</td>\n",
       "      <td>NaN</td>\n",
       "      <td>...</td>\n",
       "      <td>NaN</td>\n",
       "      <td>NaN</td>\n",
       "      <td>NaN</td>\n",
       "      <td>NaN</td>\n",
       "      <td>NaN</td>\n",
       "      <td>NaN</td>\n",
       "      <td>NaN</td>\n",
       "      <td>NaN</td>\n",
       "      <td>NaN</td>\n",
       "      <td>NaN</td>\n",
       "    </tr>\n",
       "    <tr>\n",
       "      <th>4</th>\n",
       "      <td>2013-04-05</td>\n",
       "      <td>A</td>\n",
       "      <td>US00846U1016</td>\n",
       "      <td>agilent technologies inc</td>\n",
       "      <td>Health Care</td>\n",
       "      <td>NaN</td>\n",
       "      <td>NaN</td>\n",
       "      <td>NaN</td>\n",
       "      <td>NaN</td>\n",
       "      <td>NaN</td>\n",
       "      <td>...</td>\n",
       "      <td>NaN</td>\n",
       "      <td>NaN</td>\n",
       "      <td>NaN</td>\n",
       "      <td>NaN</td>\n",
       "      <td>NaN</td>\n",
       "      <td>NaN</td>\n",
       "      <td>NaN</td>\n",
       "      <td>NaN</td>\n",
       "      <td>NaN</td>\n",
       "      <td>NaN</td>\n",
       "    </tr>\n",
       "  </tbody>\n",
       "</table>\n",
       "<p>5 rows × 95 columns</p>\n",
       "</div>"
      ],
      "text/plain": [
       "    Timestamp Ticker          ISIN              Company_Name  GICS Sector  \\\n",
       "0  2013-04-01      A  US00846U1016  agilent technologies inc  Health Care   \n",
       "1  2013-04-02      A  US00846U1016  agilent technologies inc  Health Care   \n",
       "2  2013-04-03      A  US00846U1016  agilent technologies inc  Health Care   \n",
       "3  2013-04-04      A  US00846U1016  agilent technologies inc  Health Care   \n",
       "4  2013-04-05      A  US00846U1016  agilent technologies inc  Health Care   \n",
       "\n",
       "   SDG_1  SDG_2  SDG_3  SDG_4  SDG_5  ...  SDG_9_News_Volume  \\\n",
       "0    NaN    NaN    NaN    NaN    NaN  ...                NaN   \n",
       "1    NaN    NaN    NaN    NaN    NaN  ...                NaN   \n",
       "2    NaN    NaN    NaN    NaN    NaN  ...                NaN   \n",
       "3    NaN    NaN    NaN    NaN    NaN  ...                NaN   \n",
       "4    NaN    NaN    NaN    NaN    NaN  ...                NaN   \n",
       "\n",
       "   SDG_10_News_Volume  SDG_11_News_Volume  SDG_12_News_Volume  \\\n",
       "0                 NaN                 NaN                 NaN   \n",
       "1                 NaN                 NaN                 NaN   \n",
       "2                 NaN                 NaN                 NaN   \n",
       "3                 NaN                 NaN                 NaN   \n",
       "4                 NaN                 NaN                 NaN   \n",
       "\n",
       "   SDG_13_News_Volume  SDG_14_News_Volume  SDG_15_News_Volume  \\\n",
       "0                 NaN                 NaN                 NaN   \n",
       "1                 NaN                 NaN                 NaN   \n",
       "2                 NaN                 NaN                 NaN   \n",
       "3                 NaN                 NaN                 NaN   \n",
       "4                 NaN                 NaN                 NaN   \n",
       "\n",
       "   SDG_16_News_Volume  SDG_17_News_Volume  SDG_News_Volume_Mean  \n",
       "0                 NaN                 NaN                   NaN  \n",
       "1                 NaN                 NaN                   NaN  \n",
       "2                 NaN                 NaN                   NaN  \n",
       "3                 NaN                 NaN                   NaN  \n",
       "4                 NaN                 NaN                   NaN  \n",
       "\n",
       "[5 rows x 95 columns]"
      ]
     },
     "execution_count": 12,
     "metadata": {},
     "output_type": "execute_result"
    }
   ],
   "source": [
    "# load data\n",
    "path = \"./Data/SDG_Data_File_Daily.csv\"\n",
    "df_sdg = pd.read_csv(path, index_col=0)\n",
    "\n",
    "df_sdg.head()"
   ]
  },
  {
   "cell_type": "code",
   "execution_count": 13,
   "id": "a04eb764",
   "metadata": {},
   "outputs": [
    {
     "name": "stderr",
     "output_type": "stream",
     "text": [
      "/Library/Frameworks/Python.framework/Versions/3.8/lib/python3.8/site-packages/numpy/lib/arraysetops.py:580: FutureWarning: elementwise comparison failed; returning scalar instead, but in the future will perform elementwise comparison\n",
      "  mask |= (ar1 == a)\n"
     ]
    },
    {
     "data": {
      "text/html": [
       "<div>\n",
       "<style scoped>\n",
       "    .dataframe tbody tr th:only-of-type {\n",
       "        vertical-align: middle;\n",
       "    }\n",
       "\n",
       "    .dataframe tbody tr th {\n",
       "        vertical-align: top;\n",
       "    }\n",
       "\n",
       "    .dataframe thead th {\n",
       "        text-align: right;\n",
       "    }\n",
       "</style>\n",
       "<table border=\"1\" class=\"dataframe\">\n",
       "  <thead>\n",
       "    <tr style=\"text-align: right;\">\n",
       "      <th></th>\n",
       "      <th>Timestamp</th>\n",
       "      <th>Ticker</th>\n",
       "      <th>ISIN</th>\n",
       "      <th>Company_Name</th>\n",
       "      <th>GICS Sector</th>\n",
       "      <th>Sentiment</th>\n",
       "      <th>STS</th>\n",
       "      <th>LTS</th>\n",
       "      <th>Sentiment_STD</th>\n",
       "      <th>Sentiment_News_Volume</th>\n",
       "    </tr>\n",
       "  </thead>\n",
       "  <tbody>\n",
       "    <tr>\n",
       "      <th>0</th>\n",
       "      <td>2013-04-01</td>\n",
       "      <td>AOS</td>\n",
       "      <td>US8318652091</td>\n",
       "      <td>a. o. smith corp</td>\n",
       "      <td>Industrials</td>\n",
       "      <td>NaN</td>\n",
       "      <td>NaN</td>\n",
       "      <td>NaN</td>\n",
       "      <td>NaN</td>\n",
       "      <td>NaN</td>\n",
       "    </tr>\n",
       "    <tr>\n",
       "      <th>1</th>\n",
       "      <td>2013-04-02</td>\n",
       "      <td>AOS</td>\n",
       "      <td>US8318652091</td>\n",
       "      <td>a. o. smith corp</td>\n",
       "      <td>Industrials</td>\n",
       "      <td>NaN</td>\n",
       "      <td>NaN</td>\n",
       "      <td>NaN</td>\n",
       "      <td>NaN</td>\n",
       "      <td>NaN</td>\n",
       "    </tr>\n",
       "    <tr>\n",
       "      <th>2</th>\n",
       "      <td>2013-04-03</td>\n",
       "      <td>AOS</td>\n",
       "      <td>US8318652091</td>\n",
       "      <td>a. o. smith corp</td>\n",
       "      <td>Industrials</td>\n",
       "      <td>NaN</td>\n",
       "      <td>NaN</td>\n",
       "      <td>NaN</td>\n",
       "      <td>NaN</td>\n",
       "      <td>NaN</td>\n",
       "    </tr>\n",
       "    <tr>\n",
       "      <th>3</th>\n",
       "      <td>2013-04-04</td>\n",
       "      <td>AOS</td>\n",
       "      <td>US8318652091</td>\n",
       "      <td>a. o. smith corp</td>\n",
       "      <td>Industrials</td>\n",
       "      <td>NaN</td>\n",
       "      <td>NaN</td>\n",
       "      <td>NaN</td>\n",
       "      <td>NaN</td>\n",
       "      <td>NaN</td>\n",
       "    </tr>\n",
       "    <tr>\n",
       "      <th>4</th>\n",
       "      <td>2013-04-05</td>\n",
       "      <td>AOS</td>\n",
       "      <td>US8318652091</td>\n",
       "      <td>a. o. smith corp</td>\n",
       "      <td>Industrials</td>\n",
       "      <td>NaN</td>\n",
       "      <td>NaN</td>\n",
       "      <td>NaN</td>\n",
       "      <td>NaN</td>\n",
       "      <td>NaN</td>\n",
       "    </tr>\n",
       "  </tbody>\n",
       "</table>\n",
       "</div>"
      ],
      "text/plain": [
       "    Timestamp Ticker          ISIN      Company_Name  GICS Sector  Sentiment  \\\n",
       "0  2013-04-01    AOS  US8318652091  a. o. smith corp  Industrials        NaN   \n",
       "1  2013-04-02    AOS  US8318652091  a. o. smith corp  Industrials        NaN   \n",
       "2  2013-04-03    AOS  US8318652091  a. o. smith corp  Industrials        NaN   \n",
       "3  2013-04-04    AOS  US8318652091  a. o. smith corp  Industrials        NaN   \n",
       "4  2013-04-05    AOS  US8318652091  a. o. smith corp  Industrials        NaN   \n",
       "\n",
       "   STS  LTS  Sentiment_STD  Sentiment_News_Volume  \n",
       "0  NaN  NaN            NaN                    NaN  \n",
       "1  NaN  NaN            NaN                    NaN  \n",
       "2  NaN  NaN            NaN                    NaN  \n",
       "3  NaN  NaN            NaN                    NaN  \n",
       "4  NaN  NaN            NaN                    NaN  "
      ]
     },
     "execution_count": 13,
     "metadata": {},
     "output_type": "execute_result"
    }
   ],
   "source": [
    "path = \"./Data/Sentiment_Data_File_Daily.csv\"\n",
    "df_sent = pd.read_csv(path, index_col=0)\n",
    "\n",
    "df_sent.head()"
   ]
  },
  {
   "cell_type": "code",
   "execution_count": 9,
   "id": "09a67753",
   "metadata": {},
   "outputs": [
    {
     "data": {
      "text/html": [
       "<div>\n",
       "<style scoped>\n",
       "    .dataframe tbody tr th:only-of-type {\n",
       "        vertical-align: middle;\n",
       "    }\n",
       "\n",
       "    .dataframe tbody tr th {\n",
       "        vertical-align: top;\n",
       "    }\n",
       "\n",
       "    .dataframe thead th {\n",
       "        text-align: right;\n",
       "    }\n",
       "</style>\n",
       "<table border=\"1\" class=\"dataframe\">\n",
       "  <thead>\n",
       "    <tr style=\"text-align: right;\">\n",
       "      <th></th>\n",
       "      <th>Date</th>\n",
       "      <th>Description</th>\n",
       "    </tr>\n",
       "  </thead>\n",
       "  <tbody>\n",
       "    <tr>\n",
       "      <th>0</th>\n",
       "      <td>2019-12-12</td>\n",
       "      <td>A cluster of patients in Wuhan, Hubei Providen...</td>\n",
       "    </tr>\n",
       "    <tr>\n",
       "      <th>1</th>\n",
       "      <td>2019-12-31</td>\n",
       "      <td>The World Health Organization China Country Of...</td>\n",
       "    </tr>\n",
       "    <tr>\n",
       "      <th>2</th>\n",
       "      <td>2020-01-02</td>\n",
       "      <td>The World Health Organization activates its in...</td>\n",
       "    </tr>\n",
       "    <tr>\n",
       "      <th>3</th>\n",
       "      <td>2020-01-05</td>\n",
       "      <td>CDC’s National Center for Immunization and Res...</td>\n",
       "    </tr>\n",
       "    <tr>\n",
       "      <th>4</th>\n",
       "      <td>2020-01-05</td>\n",
       "      <td>Chinese public health official share the genet...</td>\n",
       "    </tr>\n",
       "    <tr>\n",
       "      <th>...</th>\n",
       "      <td>...</td>\n",
       "      <td>...</td>\n",
       "    </tr>\n",
       "    <tr>\n",
       "      <th>115</th>\n",
       "      <td>2021-10-29</td>\n",
       "      <td>New CDC study provides further evidence that C...</td>\n",
       "    </tr>\n",
       "    <tr>\n",
       "      <th>116</th>\n",
       "      <td>2021-11-02</td>\n",
       "      <td>CDC endorses ACIP recommendation that children...</td>\n",
       "    </tr>\n",
       "    <tr>\n",
       "      <th>117</th>\n",
       "      <td>2021-11-10</td>\n",
       "      <td>CDC and the World Health Organization report t...</td>\n",
       "    </tr>\n",
       "    <tr>\n",
       "      <th>118</th>\n",
       "      <td>2021-11-26</td>\n",
       "      <td>World Health Organization classifies a new var...</td>\n",
       "    </tr>\n",
       "    <tr>\n",
       "      <th>119</th>\n",
       "      <td>2021-11-29</td>\n",
       "      <td>CDC recommends that everyone over 18 years old...</td>\n",
       "    </tr>\n",
       "  </tbody>\n",
       "</table>\n",
       "<p>120 rows × 2 columns</p>\n",
       "</div>"
      ],
      "text/plain": [
       "          Date                                        Description\n",
       "0   2019-12-12  A cluster of patients in Wuhan, Hubei Providen...\n",
       "1   2019-12-31  The World Health Organization China Country Of...\n",
       "2   2020-01-02  The World Health Organization activates its in...\n",
       "3   2020-01-05  CDC’s National Center for Immunization and Res...\n",
       "4   2020-01-05  Chinese public health official share the genet...\n",
       "..         ...                                                ...\n",
       "115 2021-10-29  New CDC study provides further evidence that C...\n",
       "116 2021-11-02  CDC endorses ACIP recommendation that children...\n",
       "117 2021-11-10  CDC and the World Health Organization report t...\n",
       "118 2021-11-26  World Health Organization classifies a new var...\n",
       "119 2021-11-29  CDC recommends that everyone over 18 years old...\n",
       "\n",
       "[120 rows x 2 columns]"
      ]
     },
     "execution_count": 9,
     "metadata": {},
     "output_type": "execute_result"
    }
   ],
   "source": [
    "path = \"./Data/covid-timeline.xlsx\"\n",
    "df_time = pd.read_excel(path)  \n",
    "\n",
    "df_time"
   ]
  },
  {
   "cell_type": "code",
   "execution_count": 145,
   "id": "638f9ddc",
   "metadata": {
    "scrolled": true
   },
   "outputs": [
    {
     "name": "stderr",
     "output_type": "stream",
     "text": [
      "<ipython-input-145-d587fc721274>:4: SettingWithCopyWarning:\n",
      "\n",
      "\n",
      "A value is trying to be set on a copy of a slice from a DataFrame.\n",
      "Try using .loc[row_indexer,col_indexer] = value instead\n",
      "\n",
      "See the caveats in the documentation: https://pandas.pydata.org/pandas-docs/stable/user_guide/indexing.html#returning-a-view-versus-a-copy\n",
      "\n"
     ]
    }
   ],
   "source": [
    "df_AAPL = df_sdg.loc[df_sdg['Ticker'] == 'AAPL'].copy()\n",
    "\n",
    "df_time['Date'] = df_time['Date'].apply(pd.to_datetime, errors='coerce')\n",
    "df_AAPL['Timestamp'] = df_AAPL['Timestamp'].apply(pd.to_datetime, errors='coerce')"
   ]
  },
  {
   "cell_type": "code",
   "execution_count": 146,
   "id": "1d88ef07",
   "metadata": {},
   "outputs": [
    {
     "data": {
      "application/vnd.plotly.v1+json": {
       "config": {
        "plotlyServerURL": "https://plot.ly"
       },
       "data": [
        {
         "hovertemplate": "Timestamp=%{x}<br>SDG_Mean=%{y}<extra></extra>",
         "legendgroup": "",
         "line": {
          "color": "#636efa",
          "dash": "solid"
         },
         "marker": {
          "symbol": "circle"
         },
         "mode": "lines",
         "name": "",
         "showlegend": false,
         "type": "scattergl",
         "x": [
          "2013-04-01T00:00:00",
          "2013-04-02T00:00:00",
          "2013-04-03T00:00:00",
          "2013-04-04T00:00:00",
          "2013-04-05T00:00:00",
          "2013-04-06T00:00:00",
          "2013-04-07T00:00:00",
          "2013-04-08T00:00:00",
          "2013-04-09T00:00:00",
          "2013-04-10T00:00:00",
          "2013-04-11T00:00:00",
          "2013-04-12T00:00:00",
          "2013-04-13T00:00:00",
          "2013-04-14T00:00:00",
          "2013-04-15T00:00:00",
          "2013-04-16T00:00:00",
          "2013-04-17T00:00:00",
          "2013-04-18T00:00:00",
          "2013-04-19T00:00:00",
          "2013-04-20T00:00:00",
          "2013-04-21T00:00:00",
          "2013-04-22T00:00:00",
          "2013-04-23T00:00:00",
          "2013-04-24T00:00:00",
          "2013-04-25T00:00:00",
          "2013-04-26T00:00:00",
          "2013-04-27T00:00:00",
          "2013-04-28T00:00:00",
          "2013-04-29T00:00:00",
          "2013-04-30T00:00:00",
          "2013-05-01T00:00:00",
          "2013-05-02T00:00:00",
          "2013-05-03T00:00:00",
          "2013-05-04T00:00:00",
          "2013-05-05T00:00:00",
          "2013-05-06T00:00:00",
          "2013-05-07T00:00:00",
          "2013-05-08T00:00:00",
          "2013-05-09T00:00:00",
          "2013-05-10T00:00:00",
          "2013-05-11T00:00:00",
          "2013-05-12T00:00:00",
          "2013-05-13T00:00:00",
          "2013-05-14T00:00:00",
          "2013-05-15T00:00:00",
          "2013-05-16T00:00:00",
          "2013-05-17T00:00:00",
          "2013-05-18T00:00:00",
          "2013-05-19T00:00:00",
          "2013-05-20T00:00:00",
          "2013-05-21T00:00:00",
          "2013-05-22T00:00:00",
          "2013-05-23T00:00:00",
          "2013-05-24T00:00:00",
          "2013-05-25T00:00:00",
          "2013-05-26T00:00:00",
          "2013-05-27T00:00:00",
          "2013-05-28T00:00:00",
          "2013-05-29T00:00:00",
          "2013-05-30T00:00:00",
          "2013-05-31T00:00:00",
          "2013-06-01T00:00:00",
          "2013-06-02T00:00:00",
          "2013-06-03T00:00:00",
          "2013-06-04T00:00:00",
          "2013-06-05T00:00:00",
          "2013-06-06T00:00:00",
          "2013-06-07T00:00:00",
          "2013-06-08T00:00:00",
          "2013-06-09T00:00:00",
          "2013-06-10T00:00:00",
          "2013-06-11T00:00:00",
          "2013-06-12T00:00:00",
          "2013-06-13T00:00:00",
          "2013-06-14T00:00:00",
          "2013-06-15T00:00:00",
          "2013-06-16T00:00:00",
          "2013-06-17T00:00:00",
          "2013-06-18T00:00:00",
          "2013-06-19T00:00:00",
          "2013-06-20T00:00:00",
          "2013-06-21T00:00:00",
          "2013-06-22T00:00:00",
          "2013-06-23T00:00:00",
          "2013-06-24T00:00:00",
          "2013-06-25T00:00:00",
          "2013-06-26T00:00:00",
          "2013-06-27T00:00:00",
          "2013-06-28T00:00:00",
          "2013-06-29T00:00:00",
          "2013-06-30T00:00:00",
          "2013-07-01T00:00:00",
          "2013-07-02T00:00:00",
          "2013-07-03T00:00:00",
          "2013-07-04T00:00:00",
          "2013-07-05T00:00:00",
          "2013-07-06T00:00:00",
          "2013-07-07T00:00:00",
          "2013-07-08T00:00:00",
          "2013-07-09T00:00:00",
          "2013-07-10T00:00:00",
          "2013-07-11T00:00:00",
          "2013-07-12T00:00:00",
          "2013-07-13T00:00:00",
          "2013-07-14T00:00:00",
          "2013-07-15T00:00:00",
          "2013-07-16T00:00:00",
          "2013-07-17T00:00:00",
          "2013-07-18T00:00:00",
          "2013-07-19T00:00:00",
          "2013-07-20T00:00:00",
          "2013-07-21T00:00:00",
          "2013-07-22T00:00:00",
          "2013-07-23T00:00:00",
          "2013-07-24T00:00:00",
          "2013-07-25T00:00:00",
          "2013-07-26T00:00:00",
          "2013-07-27T00:00:00",
          "2013-07-28T00:00:00",
          "2013-07-29T00:00:00",
          "2013-07-30T00:00:00",
          "2013-07-31T00:00:00",
          "2013-08-01T00:00:00",
          "2013-08-02T00:00:00",
          "2013-08-03T00:00:00",
          "2013-08-04T00:00:00",
          "2013-08-05T00:00:00",
          "2013-08-06T00:00:00",
          "2013-08-07T00:00:00",
          "2013-08-08T00:00:00",
          "2013-08-09T00:00:00",
          "2013-08-10T00:00:00",
          "2013-08-11T00:00:00",
          "2013-08-12T00:00:00",
          "2013-08-13T00:00:00",
          "2013-08-14T00:00:00",
          "2013-08-15T00:00:00",
          "2013-08-16T00:00:00",
          "2013-08-17T00:00:00",
          "2013-08-18T00:00:00",
          "2013-08-19T00:00:00",
          "2013-08-20T00:00:00",
          "2013-08-21T00:00:00",
          "2013-08-22T00:00:00",
          "2013-08-23T00:00:00",
          "2013-08-24T00:00:00",
          "2013-08-25T00:00:00",
          "2013-08-26T00:00:00",
          "2013-08-27T00:00:00",
          "2013-08-28T00:00:00",
          "2013-08-29T00:00:00",
          "2013-08-30T00:00:00",
          "2013-08-31T00:00:00",
          "2013-09-01T00:00:00",
          "2013-09-02T00:00:00",
          "2013-09-03T00:00:00",
          "2013-09-04T00:00:00",
          "2013-09-05T00:00:00",
          "2013-09-06T00:00:00",
          "2013-09-07T00:00:00",
          "2013-09-08T00:00:00",
          "2013-09-09T00:00:00",
          "2013-09-10T00:00:00",
          "2013-09-11T00:00:00",
          "2013-09-12T00:00:00",
          "2013-09-13T00:00:00",
          "2013-09-14T00:00:00",
          "2013-09-15T00:00:00",
          "2013-09-16T00:00:00",
          "2013-09-17T00:00:00",
          "2013-09-18T00:00:00",
          "2013-09-19T00:00:00",
          "2013-09-20T00:00:00",
          "2013-09-21T00:00:00",
          "2013-09-22T00:00:00",
          "2013-09-23T00:00:00",
          "2013-09-24T00:00:00",
          "2013-09-25T00:00:00",
          "2013-09-26T00:00:00",
          "2013-09-27T00:00:00",
          "2013-09-28T00:00:00",
          "2013-09-29T00:00:00",
          "2013-09-30T00:00:00",
          "2013-10-01T00:00:00",
          "2013-10-02T00:00:00",
          "2013-10-03T00:00:00",
          "2013-10-04T00:00:00",
          "2013-10-05T00:00:00",
          "2013-10-06T00:00:00",
          "2013-10-07T00:00:00",
          "2013-10-08T00:00:00",
          "2013-10-09T00:00:00",
          "2013-10-10T00:00:00",
          "2013-10-11T00:00:00",
          "2013-10-12T00:00:00",
          "2013-10-13T00:00:00",
          "2013-10-14T00:00:00",
          "2013-10-15T00:00:00",
          "2013-10-16T00:00:00",
          "2013-10-17T00:00:00",
          "2013-10-18T00:00:00",
          "2013-10-19T00:00:00",
          "2013-10-20T00:00:00",
          "2013-10-21T00:00:00",
          "2013-10-22T00:00:00",
          "2013-10-23T00:00:00",
          "2013-10-24T00:00:00",
          "2013-10-25T00:00:00",
          "2013-10-26T00:00:00",
          "2013-10-27T00:00:00",
          "2013-10-28T00:00:00",
          "2013-10-29T00:00:00",
          "2013-10-30T00:00:00",
          "2013-10-31T00:00:00",
          "2013-11-01T00:00:00",
          "2013-11-02T00:00:00",
          "2013-11-03T00:00:00",
          "2013-11-04T00:00:00",
          "2013-11-05T00:00:00",
          "2013-11-06T00:00:00",
          "2013-11-07T00:00:00",
          "2013-11-08T00:00:00",
          "2013-11-09T00:00:00",
          "2013-11-10T00:00:00",
          "2013-11-11T00:00:00",
          "2013-11-12T00:00:00",
          "2013-11-13T00:00:00",
          "2013-11-14T00:00:00",
          "2013-11-15T00:00:00",
          "2013-11-16T00:00:00",
          "2013-11-17T00:00:00",
          "2013-11-18T00:00:00",
          "2013-11-19T00:00:00",
          "2013-11-20T00:00:00",
          "2013-11-21T00:00:00",
          "2013-11-22T00:00:00",
          "2013-11-23T00:00:00",
          "2013-11-24T00:00:00",
          "2013-11-25T00:00:00",
          "2013-11-26T00:00:00",
          "2013-11-27T00:00:00",
          "2013-11-28T00:00:00",
          "2013-11-29T00:00:00",
          "2013-11-30T00:00:00",
          "2013-12-01T00:00:00",
          "2013-12-02T00:00:00",
          "2013-12-03T00:00:00",
          "2013-12-04T00:00:00",
          "2013-12-05T00:00:00",
          "2013-12-06T00:00:00",
          "2013-12-07T00:00:00",
          "2013-12-08T00:00:00",
          "2013-12-09T00:00:00",
          "2013-12-10T00:00:00",
          "2013-12-11T00:00:00",
          "2013-12-12T00:00:00",
          "2013-12-13T00:00:00",
          "2013-12-14T00:00:00",
          "2013-12-15T00:00:00",
          "2013-12-16T00:00:00",
          "2013-12-17T00:00:00",
          "2013-12-18T00:00:00",
          "2013-12-19T00:00:00",
          "2013-12-20T00:00:00",
          "2013-12-21T00:00:00",
          "2013-12-22T00:00:00",
          "2013-12-23T00:00:00",
          "2013-12-24T00:00:00",
          "2013-12-25T00:00:00",
          "2013-12-26T00:00:00",
          "2013-12-27T00:00:00",
          "2013-12-28T00:00:00",
          "2013-12-29T00:00:00",
          "2013-12-30T00:00:00",
          "2013-12-31T00:00:00",
          "2014-01-01T00:00:00",
          "2014-01-02T00:00:00",
          "2014-01-03T00:00:00",
          "2014-01-04T00:00:00",
          "2014-01-05T00:00:00",
          "2014-01-06T00:00:00",
          "2014-01-07T00:00:00",
          "2014-01-08T00:00:00",
          "2014-01-09T00:00:00",
          "2014-01-10T00:00:00",
          "2014-01-11T00:00:00",
          "2014-01-12T00:00:00",
          "2014-01-13T00:00:00",
          "2014-01-14T00:00:00",
          "2014-01-15T00:00:00",
          "2014-01-16T00:00:00",
          "2014-01-17T00:00:00",
          "2014-01-18T00:00:00",
          "2014-01-19T00:00:00",
          "2014-01-20T00:00:00",
          "2014-01-21T00:00:00",
          "2014-01-22T00:00:00",
          "2014-01-23T00:00:00",
          "2014-01-24T00:00:00",
          "2014-01-25T00:00:00",
          "2014-01-26T00:00:00",
          "2014-01-27T00:00:00",
          "2014-01-28T00:00:00",
          "2014-01-29T00:00:00",
          "2014-01-30T00:00:00",
          "2014-01-31T00:00:00",
          "2014-02-01T00:00:00",
          "2014-02-02T00:00:00",
          "2014-02-03T00:00:00",
          "2014-02-04T00:00:00",
          "2014-02-05T00:00:00",
          "2014-02-06T00:00:00",
          "2014-02-07T00:00:00",
          "2014-02-08T00:00:00",
          "2014-02-09T00:00:00",
          "2014-02-10T00:00:00",
          "2014-02-11T00:00:00",
          "2014-02-12T00:00:00",
          "2014-02-13T00:00:00",
          "2014-02-14T00:00:00",
          "2014-02-15T00:00:00",
          "2014-02-16T00:00:00",
          "2014-02-17T00:00:00",
          "2014-02-18T00:00:00",
          "2014-02-19T00:00:00",
          "2014-02-20T00:00:00",
          "2014-02-21T00:00:00",
          "2014-02-22T00:00:00",
          "2014-02-23T00:00:00",
          "2014-02-24T00:00:00",
          "2014-02-25T00:00:00",
          "2014-02-26T00:00:00",
          "2014-02-27T00:00:00",
          "2014-02-28T00:00:00",
          "2014-03-01T00:00:00",
          "2014-03-02T00:00:00",
          "2014-03-03T00:00:00",
          "2014-03-04T00:00:00",
          "2014-03-05T00:00:00",
          "2014-03-06T00:00:00",
          "2014-03-07T00:00:00",
          "2014-03-08T00:00:00",
          "2014-03-09T00:00:00",
          "2014-03-10T00:00:00",
          "2014-03-11T00:00:00",
          "2014-03-12T00:00:00",
          "2014-03-13T00:00:00",
          "2014-03-14T00:00:00",
          "2014-03-15T00:00:00",
          "2014-03-16T00:00:00",
          "2014-03-17T00:00:00",
          "2014-03-18T00:00:00",
          "2014-03-19T00:00:00",
          "2014-03-20T00:00:00",
          "2014-03-21T00:00:00",
          "2014-03-22T00:00:00",
          "2014-03-23T00:00:00",
          "2014-03-24T00:00:00",
          "2014-03-25T00:00:00",
          "2014-03-26T00:00:00",
          "2014-03-27T00:00:00",
          "2014-03-28T00:00:00",
          "2014-03-29T00:00:00",
          "2014-03-30T00:00:00",
          "2014-03-31T00:00:00",
          "2014-04-01T00:00:00",
          "2014-04-02T00:00:00",
          "2014-04-03T00:00:00",
          "2014-04-04T00:00:00",
          "2014-04-05T00:00:00",
          "2014-04-06T00:00:00",
          "2014-04-07T00:00:00",
          "2014-04-08T00:00:00",
          "2014-04-09T00:00:00",
          "2014-04-10T00:00:00",
          "2014-04-11T00:00:00",
          "2014-04-12T00:00:00",
          "2014-04-13T00:00:00",
          "2014-04-14T00:00:00",
          "2014-04-15T00:00:00",
          "2014-04-16T00:00:00",
          "2014-04-17T00:00:00",
          "2014-04-18T00:00:00",
          "2014-04-19T00:00:00",
          "2014-04-20T00:00:00",
          "2014-04-21T00:00:00",
          "2014-04-22T00:00:00",
          "2014-04-23T00:00:00",
          "2014-04-24T00:00:00",
          "2014-04-25T00:00:00",
          "2014-04-26T00:00:00",
          "2014-04-27T00:00:00",
          "2014-04-28T00:00:00",
          "2014-04-29T00:00:00",
          "2014-04-30T00:00:00",
          "2014-05-01T00:00:00",
          "2014-05-02T00:00:00",
          "2014-05-03T00:00:00",
          "2014-05-04T00:00:00",
          "2014-05-05T00:00:00",
          "2014-05-06T00:00:00",
          "2014-05-07T00:00:00",
          "2014-05-08T00:00:00",
          "2014-05-09T00:00:00",
          "2014-05-10T00:00:00",
          "2014-05-11T00:00:00",
          "2014-05-12T00:00:00",
          "2014-05-13T00:00:00",
          "2014-05-14T00:00:00",
          "2014-05-15T00:00:00",
          "2014-05-16T00:00:00",
          "2014-05-17T00:00:00",
          "2014-05-18T00:00:00",
          "2014-05-19T00:00:00",
          "2014-05-20T00:00:00",
          "2014-05-21T00:00:00",
          "2014-05-22T00:00:00",
          "2014-05-23T00:00:00",
          "2014-05-24T00:00:00",
          "2014-05-25T00:00:00",
          "2014-05-26T00:00:00",
          "2014-05-27T00:00:00",
          "2014-05-28T00:00:00",
          "2014-05-29T00:00:00",
          "2014-05-30T00:00:00",
          "2014-05-31T00:00:00",
          "2014-06-01T00:00:00",
          "2014-06-02T00:00:00",
          "2014-06-03T00:00:00",
          "2014-06-04T00:00:00",
          "2014-06-05T00:00:00",
          "2014-06-06T00:00:00",
          "2014-06-07T00:00:00",
          "2014-06-08T00:00:00",
          "2014-06-09T00:00:00",
          "2014-06-10T00:00:00",
          "2014-06-11T00:00:00",
          "2014-06-12T00:00:00",
          "2014-06-13T00:00:00",
          "2014-06-14T00:00:00",
          "2014-06-15T00:00:00",
          "2014-06-16T00:00:00",
          "2014-06-17T00:00:00",
          "2014-06-18T00:00:00",
          "2014-06-19T00:00:00",
          "2014-06-20T00:00:00",
          "2014-06-21T00:00:00",
          "2014-06-22T00:00:00",
          "2014-06-23T00:00:00",
          "2014-06-24T00:00:00",
          "2014-06-25T00:00:00",
          "2014-06-26T00:00:00",
          "2014-06-27T00:00:00",
          "2014-06-28T00:00:00",
          "2014-06-29T00:00:00",
          "2014-06-30T00:00:00",
          "2014-07-01T00:00:00",
          "2014-07-02T00:00:00",
          "2014-07-03T00:00:00",
          "2014-07-04T00:00:00",
          "2014-07-05T00:00:00",
          "2014-07-06T00:00:00",
          "2014-07-07T00:00:00",
          "2014-07-08T00:00:00",
          "2014-07-09T00:00:00",
          "2014-07-10T00:00:00",
          "2014-07-11T00:00:00",
          "2014-07-12T00:00:00",
          "2014-07-13T00:00:00",
          "2014-07-14T00:00:00",
          "2014-07-15T00:00:00",
          "2014-07-16T00:00:00",
          "2014-07-17T00:00:00",
          "2014-07-18T00:00:00",
          "2014-07-19T00:00:00",
          "2014-07-20T00:00:00",
          "2014-07-21T00:00:00",
          "2014-07-22T00:00:00",
          "2014-07-23T00:00:00",
          "2014-07-24T00:00:00",
          "2014-07-25T00:00:00",
          "2014-07-26T00:00:00",
          "2014-07-27T00:00:00",
          "2014-07-28T00:00:00",
          "2014-07-29T00:00:00",
          "2014-07-30T00:00:00",
          "2014-07-31T00:00:00",
          "2014-08-01T00:00:00",
          "2014-08-02T00:00:00",
          "2014-08-03T00:00:00",
          "2014-08-04T00:00:00",
          "2014-08-05T00:00:00",
          "2014-08-06T00:00:00",
          "2014-08-07T00:00:00",
          "2014-08-08T00:00:00",
          "2014-08-09T00:00:00",
          "2014-08-10T00:00:00",
          "2014-08-11T00:00:00",
          "2014-08-12T00:00:00",
          "2014-08-13T00:00:00",
          "2014-08-14T00:00:00",
          "2014-08-15T00:00:00",
          "2014-08-16T00:00:00",
          "2014-08-17T00:00:00",
          "2014-08-18T00:00:00",
          "2014-08-19T00:00:00",
          "2014-08-20T00:00:00",
          "2014-08-21T00:00:00",
          "2014-08-22T00:00:00",
          "2014-08-23T00:00:00",
          "2014-08-24T00:00:00",
          "2014-08-25T00:00:00",
          "2014-08-26T00:00:00",
          "2014-08-27T00:00:00",
          "2014-08-28T00:00:00",
          "2014-08-29T00:00:00",
          "2014-08-30T00:00:00",
          "2014-08-31T00:00:00",
          "2014-09-01T00:00:00",
          "2014-09-02T00:00:00",
          "2014-09-03T00:00:00",
          "2014-09-04T00:00:00",
          "2014-09-05T00:00:00",
          "2014-09-06T00:00:00",
          "2014-09-07T00:00:00",
          "2014-09-08T00:00:00",
          "2014-09-09T00:00:00",
          "2014-09-10T00:00:00",
          "2014-09-11T00:00:00",
          "2014-09-12T00:00:00",
          "2014-09-13T00:00:00",
          "2014-09-14T00:00:00",
          "2014-09-15T00:00:00",
          "2014-09-16T00:00:00",
          "2014-09-17T00:00:00",
          "2014-09-18T00:00:00",
          "2014-09-19T00:00:00",
          "2014-09-20T00:00:00",
          "2014-09-21T00:00:00",
          "2014-09-22T00:00:00",
          "2014-09-23T00:00:00",
          "2014-09-24T00:00:00",
          "2014-09-25T00:00:00",
          "2014-09-26T00:00:00",
          "2014-09-27T00:00:00",
          "2014-09-28T00:00:00",
          "2014-09-29T00:00:00",
          "2014-09-30T00:00:00",
          "2014-10-01T00:00:00",
          "2014-10-02T00:00:00",
          "2014-10-03T00:00:00",
          "2014-10-04T00:00:00",
          "2014-10-05T00:00:00",
          "2014-10-06T00:00:00",
          "2014-10-07T00:00:00",
          "2014-10-08T00:00:00",
          "2014-10-09T00:00:00",
          "2014-10-10T00:00:00",
          "2014-10-11T00:00:00",
          "2014-10-12T00:00:00",
          "2014-10-13T00:00:00",
          "2014-10-14T00:00:00",
          "2014-10-15T00:00:00",
          "2014-10-16T00:00:00",
          "2014-10-17T00:00:00",
          "2014-10-18T00:00:00",
          "2014-10-19T00:00:00",
          "2014-10-20T00:00:00",
          "2014-10-21T00:00:00",
          "2014-10-22T00:00:00",
          "2014-10-23T00:00:00",
          "2014-10-24T00:00:00",
          "2014-10-25T00:00:00",
          "2014-10-26T00:00:00",
          "2014-10-27T00:00:00",
          "2014-10-28T00:00:00",
          "2014-10-29T00:00:00",
          "2014-10-30T00:00:00",
          "2014-10-31T00:00:00",
          "2014-11-01T00:00:00",
          "2014-11-02T00:00:00",
          "2014-11-03T00:00:00",
          "2014-11-04T00:00:00",
          "2014-11-05T00:00:00",
          "2014-11-06T00:00:00",
          "2014-11-07T00:00:00",
          "2014-11-08T00:00:00",
          "2014-11-09T00:00:00",
          "2014-11-10T00:00:00",
          "2014-11-11T00:00:00",
          "2014-11-12T00:00:00",
          "2014-11-13T00:00:00",
          "2014-11-14T00:00:00",
          "2014-11-15T00:00:00",
          "2014-11-16T00:00:00",
          "2014-11-17T00:00:00",
          "2014-11-18T00:00:00",
          "2014-11-19T00:00:00",
          "2014-11-20T00:00:00",
          "2014-11-21T00:00:00",
          "2014-11-22T00:00:00",
          "2014-11-23T00:00:00",
          "2014-11-24T00:00:00",
          "2014-11-25T00:00:00",
          "2014-11-26T00:00:00",
          "2014-11-27T00:00:00",
          "2014-11-28T00:00:00",
          "2014-11-29T00:00:00",
          "2014-11-30T00:00:00",
          "2014-12-01T00:00:00",
          "2014-12-02T00:00:00",
          "2014-12-03T00:00:00",
          "2014-12-04T00:00:00",
          "2014-12-05T00:00:00",
          "2014-12-06T00:00:00",
          "2014-12-07T00:00:00",
          "2014-12-08T00:00:00",
          "2014-12-09T00:00:00",
          "2014-12-10T00:00:00",
          "2014-12-11T00:00:00",
          "2014-12-12T00:00:00",
          "2014-12-13T00:00:00",
          "2014-12-14T00:00:00",
          "2014-12-15T00:00:00",
          "2014-12-16T00:00:00",
          "2014-12-17T00:00:00",
          "2014-12-18T00:00:00",
          "2014-12-19T00:00:00",
          "2014-12-20T00:00:00",
          "2014-12-21T00:00:00",
          "2014-12-22T00:00:00",
          "2014-12-23T00:00:00",
          "2014-12-24T00:00:00",
          "2014-12-25T00:00:00",
          "2014-12-26T00:00:00",
          "2014-12-27T00:00:00",
          "2014-12-28T00:00:00",
          "2014-12-29T00:00:00",
          "2014-12-30T00:00:00",
          "2014-12-31T00:00:00",
          "2015-01-01T00:00:00",
          "2015-01-02T00:00:00",
          "2015-01-03T00:00:00",
          "2015-01-04T00:00:00",
          "2015-01-05T00:00:00",
          "2015-01-06T00:00:00",
          "2015-01-07T00:00:00",
          "2015-01-08T00:00:00",
          "2015-01-09T00:00:00",
          "2015-01-10T00:00:00",
          "2015-01-11T00:00:00",
          "2015-01-12T00:00:00",
          "2015-01-13T00:00:00",
          "2015-01-14T00:00:00",
          "2015-01-15T00:00:00",
          "2015-01-16T00:00:00",
          "2015-01-17T00:00:00",
          "2015-01-18T00:00:00",
          "2015-01-19T00:00:00",
          "2015-01-20T00:00:00",
          "2015-01-21T00:00:00",
          "2015-01-22T00:00:00",
          "2015-01-23T00:00:00",
          "2015-01-24T00:00:00",
          "2015-01-25T00:00:00",
          "2015-01-26T00:00:00",
          "2015-01-27T00:00:00",
          "2015-01-28T00:00:00",
          "2015-01-29T00:00:00",
          "2015-01-30T00:00:00",
          "2015-01-31T00:00:00",
          "2015-02-01T00:00:00",
          "2015-02-02T00:00:00",
          "2015-02-03T00:00:00",
          "2015-02-04T00:00:00",
          "2015-02-05T00:00:00",
          "2015-02-06T00:00:00",
          "2015-02-07T00:00:00",
          "2015-02-08T00:00:00",
          "2015-02-09T00:00:00",
          "2015-02-10T00:00:00",
          "2015-02-11T00:00:00",
          "2015-02-12T00:00:00",
          "2015-02-13T00:00:00",
          "2015-02-14T00:00:00",
          "2015-02-15T00:00:00",
          "2015-02-16T00:00:00",
          "2015-02-17T00:00:00",
          "2015-02-18T00:00:00",
          "2015-02-19T00:00:00",
          "2015-02-20T00:00:00",
          "2015-02-21T00:00:00",
          "2015-02-22T00:00:00",
          "2015-02-23T00:00:00",
          "2015-02-24T00:00:00",
          "2015-02-25T00:00:00",
          "2015-02-26T00:00:00",
          "2015-02-27T00:00:00",
          "2015-02-28T00:00:00",
          "2015-03-01T00:00:00",
          "2015-03-02T00:00:00",
          "2015-03-03T00:00:00",
          "2015-03-04T00:00:00",
          "2015-03-05T00:00:00",
          "2015-03-06T00:00:00",
          "2015-03-07T00:00:00",
          "2015-03-08T00:00:00",
          "2015-03-09T00:00:00",
          "2015-03-10T00:00:00",
          "2015-03-11T00:00:00",
          "2015-03-12T00:00:00",
          "2015-03-13T00:00:00",
          "2015-03-14T00:00:00",
          "2015-03-15T00:00:00",
          "2015-03-16T00:00:00",
          "2015-03-17T00:00:00",
          "2015-03-18T00:00:00",
          "2015-03-19T00:00:00",
          "2015-03-20T00:00:00",
          "2015-03-21T00:00:00",
          "2015-03-22T00:00:00",
          "2015-03-23T00:00:00",
          "2015-03-24T00:00:00",
          "2015-03-25T00:00:00",
          "2015-03-26T00:00:00",
          "2015-03-27T00:00:00",
          "2015-03-28T00:00:00",
          "2015-03-29T00:00:00",
          "2015-03-30T00:00:00",
          "2015-03-31T00:00:00",
          "2015-04-01T00:00:00",
          "2015-04-02T00:00:00",
          "2015-04-03T00:00:00",
          "2015-04-04T00:00:00",
          "2015-04-05T00:00:00",
          "2015-04-06T00:00:00",
          "2015-04-07T00:00:00",
          "2015-04-08T00:00:00",
          "2015-04-09T00:00:00",
          "2015-04-10T00:00:00",
          "2015-04-11T00:00:00",
          "2015-04-12T00:00:00",
          "2015-04-13T00:00:00",
          "2015-04-14T00:00:00",
          "2015-04-15T00:00:00",
          "2015-04-16T00:00:00",
          "2015-04-17T00:00:00",
          "2015-04-18T00:00:00",
          "2015-04-19T00:00:00",
          "2015-04-20T00:00:00",
          "2015-04-21T00:00:00",
          "2015-04-22T00:00:00",
          "2015-04-23T00:00:00",
          "2015-04-24T00:00:00",
          "2015-04-25T00:00:00",
          "2015-04-26T00:00:00",
          "2015-04-27T00:00:00",
          "2015-04-28T00:00:00",
          "2015-04-29T00:00:00",
          "2015-04-30T00:00:00",
          "2015-05-01T00:00:00",
          "2015-05-02T00:00:00",
          "2015-05-03T00:00:00",
          "2015-05-04T00:00:00",
          "2015-05-05T00:00:00",
          "2015-05-06T00:00:00",
          "2015-05-07T00:00:00",
          "2015-05-08T00:00:00",
          "2015-05-09T00:00:00",
          "2015-05-10T00:00:00",
          "2015-05-11T00:00:00",
          "2015-05-12T00:00:00",
          "2015-05-13T00:00:00",
          "2015-05-14T00:00:00",
          "2015-05-15T00:00:00",
          "2015-05-16T00:00:00",
          "2015-05-17T00:00:00",
          "2015-05-18T00:00:00",
          "2015-05-19T00:00:00",
          "2015-05-20T00:00:00",
          "2015-05-21T00:00:00",
          "2015-05-22T00:00:00",
          "2015-05-23T00:00:00",
          "2015-05-24T00:00:00",
          "2015-05-25T00:00:00",
          "2015-05-26T00:00:00",
          "2015-05-27T00:00:00",
          "2015-05-28T00:00:00",
          "2015-05-29T00:00:00",
          "2015-05-30T00:00:00",
          "2015-05-31T00:00:00",
          "2015-06-01T00:00:00",
          "2015-06-02T00:00:00",
          "2015-06-03T00:00:00",
          "2015-06-04T00:00:00",
          "2015-06-05T00:00:00",
          "2015-06-06T00:00:00",
          "2015-06-07T00:00:00",
          "2015-06-08T00:00:00",
          "2015-06-09T00:00:00",
          "2015-06-10T00:00:00",
          "2015-06-11T00:00:00",
          "2015-06-12T00:00:00",
          "2015-06-13T00:00:00",
          "2015-06-14T00:00:00",
          "2015-06-15T00:00:00",
          "2015-06-16T00:00:00",
          "2015-06-17T00:00:00",
          "2015-06-18T00:00:00",
          "2015-06-19T00:00:00",
          "2015-06-20T00:00:00",
          "2015-06-21T00:00:00",
          "2015-06-22T00:00:00",
          "2015-06-23T00:00:00",
          "2015-06-24T00:00:00",
          "2015-06-25T00:00:00",
          "2015-06-26T00:00:00",
          "2015-06-27T00:00:00",
          "2015-06-28T00:00:00",
          "2015-06-29T00:00:00",
          "2015-06-30T00:00:00",
          "2015-07-01T00:00:00",
          "2015-07-02T00:00:00",
          "2015-07-03T00:00:00",
          "2015-07-04T00:00:00",
          "2015-07-05T00:00:00",
          "2015-07-06T00:00:00",
          "2015-07-07T00:00:00",
          "2015-07-08T00:00:00",
          "2015-07-09T00:00:00",
          "2015-07-10T00:00:00",
          "2015-07-11T00:00:00",
          "2015-07-12T00:00:00",
          "2015-07-13T00:00:00",
          "2015-07-14T00:00:00",
          "2015-07-15T00:00:00",
          "2015-07-16T00:00:00",
          "2015-07-17T00:00:00",
          "2015-07-18T00:00:00",
          "2015-07-19T00:00:00",
          "2015-07-20T00:00:00",
          "2015-07-21T00:00:00",
          "2015-07-22T00:00:00",
          "2015-07-23T00:00:00",
          "2015-07-24T00:00:00",
          "2015-07-25T00:00:00",
          "2015-07-26T00:00:00",
          "2015-07-27T00:00:00",
          "2015-07-28T00:00:00",
          "2015-07-29T00:00:00",
          "2015-07-30T00:00:00",
          "2015-07-31T00:00:00",
          "2015-08-01T00:00:00",
          "2015-08-02T00:00:00",
          "2015-08-03T00:00:00",
          "2015-08-04T00:00:00",
          "2015-08-05T00:00:00",
          "2015-08-06T00:00:00",
          "2015-08-07T00:00:00",
          "2015-08-08T00:00:00",
          "2015-08-09T00:00:00",
          "2015-08-10T00:00:00",
          "2015-08-11T00:00:00",
          "2015-08-12T00:00:00",
          "2015-08-13T00:00:00",
          "2015-08-14T00:00:00",
          "2015-08-15T00:00:00",
          "2015-08-16T00:00:00",
          "2015-08-17T00:00:00",
          "2015-08-18T00:00:00",
          "2015-08-19T00:00:00",
          "2015-08-20T00:00:00",
          "2015-08-21T00:00:00",
          "2015-08-22T00:00:00",
          "2015-08-23T00:00:00",
          "2015-08-24T00:00:00",
          "2015-08-25T00:00:00",
          "2015-08-26T00:00:00",
          "2015-08-27T00:00:00",
          "2015-08-28T00:00:00",
          "2015-08-29T00:00:00",
          "2015-08-30T00:00:00",
          "2015-08-31T00:00:00",
          "2015-09-01T00:00:00",
          "2015-09-02T00:00:00",
          "2015-09-03T00:00:00",
          "2015-09-04T00:00:00",
          "2015-09-05T00:00:00",
          "2015-09-06T00:00:00",
          "2015-09-07T00:00:00",
          "2015-09-08T00:00:00",
          "2015-09-09T00:00:00",
          "2015-09-10T00:00:00",
          "2015-09-11T00:00:00",
          "2015-09-12T00:00:00",
          "2015-09-13T00:00:00",
          "2015-09-14T00:00:00",
          "2015-09-15T00:00:00",
          "2015-09-16T00:00:00",
          "2015-09-17T00:00:00",
          "2015-09-18T00:00:00",
          "2015-09-19T00:00:00",
          "2015-09-20T00:00:00",
          "2015-09-21T00:00:00",
          "2015-09-22T00:00:00",
          "2015-09-23T00:00:00",
          "2015-09-24T00:00:00",
          "2015-09-25T00:00:00",
          "2015-09-26T00:00:00",
          "2015-09-27T00:00:00",
          "2015-09-28T00:00:00",
          "2015-09-29T00:00:00",
          "2015-09-30T00:00:00",
          "2015-10-01T00:00:00",
          "2015-10-02T00:00:00",
          "2015-10-03T00:00:00",
          "2015-10-04T00:00:00",
          "2015-10-05T00:00:00",
          "2015-10-06T00:00:00",
          "2015-10-07T00:00:00",
          "2015-10-08T00:00:00",
          "2015-10-09T00:00:00",
          "2015-10-10T00:00:00",
          "2015-10-11T00:00:00",
          "2015-10-12T00:00:00",
          "2015-10-13T00:00:00",
          "2015-10-14T00:00:00",
          "2015-10-15T00:00:00",
          "2015-10-16T00:00:00",
          "2015-10-17T00:00:00",
          "2015-10-18T00:00:00",
          "2015-10-19T00:00:00",
          "2015-10-20T00:00:00",
          "2015-10-21T00:00:00",
          "2015-10-22T00:00:00",
          "2015-10-23T00:00:00",
          "2015-10-24T00:00:00",
          "2015-10-25T00:00:00",
          "2015-10-26T00:00:00",
          "2015-10-27T00:00:00",
          "2015-10-28T00:00:00",
          "2015-10-29T00:00:00",
          "2015-10-30T00:00:00",
          "2015-10-31T00:00:00",
          "2015-11-01T00:00:00",
          "2015-11-02T00:00:00",
          "2015-11-03T00:00:00",
          "2015-11-04T00:00:00",
          "2015-11-05T00:00:00",
          "2015-11-06T00:00:00",
          "2015-11-07T00:00:00",
          "2015-11-08T00:00:00",
          "2015-11-09T00:00:00",
          "2015-11-10T00:00:00",
          "2015-11-11T00:00:00",
          "2015-11-12T00:00:00",
          "2015-11-13T00:00:00",
          "2015-11-14T00:00:00",
          "2015-11-15T00:00:00",
          "2015-11-16T00:00:00",
          "2015-11-17T00:00:00",
          "2015-11-18T00:00:00",
          "2015-11-19T00:00:00",
          "2015-11-20T00:00:00",
          "2015-11-21T00:00:00",
          "2015-11-22T00:00:00",
          "2015-11-23T00:00:00",
          "2015-11-24T00:00:00",
          "2015-11-25T00:00:00",
          "2015-11-26T00:00:00",
          "2015-11-27T00:00:00",
          "2015-11-28T00:00:00",
          "2015-11-29T00:00:00",
          "2015-11-30T00:00:00",
          "2015-12-01T00:00:00",
          "2015-12-02T00:00:00",
          "2015-12-03T00:00:00",
          "2015-12-04T00:00:00",
          "2015-12-05T00:00:00",
          "2015-12-06T00:00:00",
          "2015-12-07T00:00:00",
          "2015-12-08T00:00:00",
          "2015-12-09T00:00:00",
          "2015-12-10T00:00:00",
          "2015-12-11T00:00:00",
          "2015-12-12T00:00:00",
          "2015-12-13T00:00:00",
          "2015-12-14T00:00:00",
          "2015-12-15T00:00:00",
          "2015-12-16T00:00:00",
          "2015-12-17T00:00:00",
          "2015-12-18T00:00:00",
          "2015-12-19T00:00:00",
          "2015-12-20T00:00:00",
          "2015-12-21T00:00:00",
          "2015-12-22T00:00:00",
          "2015-12-23T00:00:00",
          "2015-12-24T00:00:00",
          "2015-12-25T00:00:00",
          "2015-12-26T00:00:00",
          "2015-12-27T00:00:00",
          "2015-12-28T00:00:00",
          "2015-12-29T00:00:00",
          "2015-12-30T00:00:00",
          "2015-12-31T00:00:00",
          "2016-01-01T00:00:00",
          "2016-01-02T00:00:00",
          "2016-01-03T00:00:00",
          "2016-01-04T00:00:00",
          "2016-01-05T00:00:00",
          "2016-01-06T00:00:00",
          "2016-01-07T00:00:00",
          "2016-01-08T00:00:00",
          "2016-01-09T00:00:00",
          "2016-01-10T00:00:00",
          "2016-01-11T00:00:00",
          "2016-01-12T00:00:00",
          "2016-01-13T00:00:00",
          "2016-01-14T00:00:00",
          "2016-01-15T00:00:00",
          "2016-01-16T00:00:00",
          "2016-01-17T00:00:00",
          "2016-01-18T00:00:00",
          "2016-01-19T00:00:00",
          "2016-01-20T00:00:00",
          "2016-01-21T00:00:00",
          "2016-01-22T00:00:00",
          "2016-01-23T00:00:00",
          "2016-01-24T00:00:00",
          "2016-01-25T00:00:00",
          "2016-01-26T00:00:00",
          "2016-01-27T00:00:00",
          "2016-01-28T00:00:00",
          "2016-01-29T00:00:00",
          "2016-01-30T00:00:00",
          "2016-01-31T00:00:00",
          "2016-02-01T00:00:00",
          "2016-02-02T00:00:00",
          "2016-02-03T00:00:00",
          "2016-02-04T00:00:00",
          "2016-02-05T00:00:00",
          "2016-02-06T00:00:00",
          "2016-02-07T00:00:00",
          "2016-02-08T00:00:00",
          "2016-02-09T00:00:00",
          "2016-02-10T00:00:00",
          "2016-02-11T00:00:00",
          "2016-02-12T00:00:00",
          "2016-02-13T00:00:00",
          "2016-02-14T00:00:00",
          "2016-02-15T00:00:00",
          "2016-02-16T00:00:00",
          "2016-02-17T00:00:00",
          "2016-02-18T00:00:00",
          "2016-02-19T00:00:00",
          "2016-02-20T00:00:00",
          "2016-02-21T00:00:00",
          "2016-02-22T00:00:00",
          "2016-02-23T00:00:00",
          "2016-02-24T00:00:00",
          "2016-02-25T00:00:00",
          "2016-02-26T00:00:00",
          "2016-02-27T00:00:00",
          "2016-02-28T00:00:00",
          "2016-02-29T00:00:00",
          "2016-03-01T00:00:00",
          "2016-03-02T00:00:00",
          "2016-03-03T00:00:00",
          "2016-03-04T00:00:00",
          "2016-03-05T00:00:00",
          "2016-03-06T00:00:00",
          "2016-03-07T00:00:00",
          "2016-03-08T00:00:00",
          "2016-03-09T00:00:00",
          "2016-03-10T00:00:00",
          "2016-03-11T00:00:00",
          "2016-03-12T00:00:00",
          "2016-03-13T00:00:00",
          "2016-03-14T00:00:00",
          "2016-03-15T00:00:00",
          "2016-03-16T00:00:00",
          "2016-03-17T00:00:00",
          "2016-03-18T00:00:00",
          "2016-03-19T00:00:00",
          "2016-03-20T00:00:00",
          "2016-03-21T00:00:00",
          "2016-03-22T00:00:00",
          "2016-03-23T00:00:00",
          "2016-03-24T00:00:00",
          "2016-03-25T00:00:00",
          "2016-03-26T00:00:00",
          "2016-03-27T00:00:00",
          "2016-03-28T00:00:00",
          "2016-03-29T00:00:00",
          "2016-03-30T00:00:00",
          "2016-03-31T00:00:00",
          "2016-04-01T00:00:00",
          "2016-04-02T00:00:00",
          "2016-04-03T00:00:00",
          "2016-04-04T00:00:00",
          "2016-04-05T00:00:00",
          "2016-04-06T00:00:00",
          "2016-04-07T00:00:00",
          "2016-04-08T00:00:00",
          "2016-04-09T00:00:00",
          "2016-04-10T00:00:00",
          "2016-04-11T00:00:00",
          "2016-04-12T00:00:00",
          "2016-04-13T00:00:00",
          "2016-04-14T00:00:00",
          "2016-04-15T00:00:00",
          "2016-04-16T00:00:00",
          "2016-04-17T00:00:00",
          "2016-04-18T00:00:00",
          "2016-04-19T00:00:00",
          "2016-04-20T00:00:00",
          "2016-04-21T00:00:00",
          "2016-04-22T00:00:00",
          "2016-04-23T00:00:00",
          "2016-04-24T00:00:00",
          "2016-04-25T00:00:00",
          "2016-04-26T00:00:00",
          "2016-04-27T00:00:00",
          "2016-04-28T00:00:00",
          "2016-04-29T00:00:00",
          "2016-04-30T00:00:00",
          "2016-05-01T00:00:00",
          "2016-05-02T00:00:00",
          "2016-05-03T00:00:00",
          "2016-05-04T00:00:00",
          "2016-05-05T00:00:00",
          "2016-05-06T00:00:00",
          "2016-05-07T00:00:00",
          "2016-05-08T00:00:00",
          "2016-05-09T00:00:00",
          "2016-05-10T00:00:00",
          "2016-05-11T00:00:00",
          "2016-05-12T00:00:00",
          "2016-05-13T00:00:00",
          "2016-05-14T00:00:00",
          "2016-05-15T00:00:00",
          "2016-05-16T00:00:00",
          "2016-05-17T00:00:00",
          "2016-05-18T00:00:00",
          "2016-05-19T00:00:00",
          "2016-05-20T00:00:00",
          "2016-05-21T00:00:00",
          "2016-05-22T00:00:00",
          "2016-05-23T00:00:00",
          "2016-05-24T00:00:00",
          "2016-05-25T00:00:00",
          "2016-05-26T00:00:00",
          "2016-05-27T00:00:00",
          "2016-05-28T00:00:00",
          "2016-05-29T00:00:00",
          "2016-05-30T00:00:00",
          "2016-05-31T00:00:00",
          "2016-06-01T00:00:00",
          "2016-06-02T00:00:00",
          "2016-06-03T00:00:00",
          "2016-06-04T00:00:00",
          "2016-06-05T00:00:00",
          "2016-06-06T00:00:00",
          "2016-06-07T00:00:00",
          "2016-06-08T00:00:00",
          "2016-06-09T00:00:00",
          "2016-06-10T00:00:00",
          "2016-06-11T00:00:00",
          "2016-06-12T00:00:00",
          "2016-06-13T00:00:00",
          "2016-06-14T00:00:00",
          "2016-06-15T00:00:00",
          "2016-06-16T00:00:00",
          "2016-06-17T00:00:00",
          "2016-06-18T00:00:00",
          "2016-06-19T00:00:00",
          "2016-06-20T00:00:00",
          "2016-06-21T00:00:00",
          "2016-06-22T00:00:00",
          "2016-06-23T00:00:00",
          "2016-06-24T00:00:00",
          "2016-06-25T00:00:00",
          "2016-06-26T00:00:00",
          "2016-06-27T00:00:00",
          "2016-06-28T00:00:00",
          "2016-06-29T00:00:00",
          "2016-06-30T00:00:00",
          "2016-07-01T00:00:00",
          "2016-07-02T00:00:00",
          "2016-07-03T00:00:00",
          "2016-07-04T00:00:00",
          "2016-07-05T00:00:00",
          "2016-07-06T00:00:00",
          "2016-07-07T00:00:00",
          "2016-07-08T00:00:00",
          "2016-07-09T00:00:00",
          "2016-07-10T00:00:00",
          "2016-07-11T00:00:00",
          "2016-07-12T00:00:00",
          "2016-07-13T00:00:00",
          "2016-07-14T00:00:00",
          "2016-07-15T00:00:00",
          "2016-07-16T00:00:00",
          "2016-07-17T00:00:00",
          "2016-07-18T00:00:00",
          "2016-07-19T00:00:00",
          "2016-07-20T00:00:00",
          "2016-07-21T00:00:00",
          "2016-07-22T00:00:00",
          "2016-07-23T00:00:00",
          "2016-07-24T00:00:00",
          "2016-07-25T00:00:00",
          "2016-07-26T00:00:00",
          "2016-07-27T00:00:00",
          "2016-07-28T00:00:00",
          "2016-07-29T00:00:00",
          "2016-07-30T00:00:00",
          "2016-07-31T00:00:00",
          "2016-08-01T00:00:00",
          "2016-08-02T00:00:00",
          "2016-08-03T00:00:00",
          "2016-08-04T00:00:00",
          "2016-08-05T00:00:00",
          "2016-08-06T00:00:00",
          "2016-08-07T00:00:00",
          "2016-08-08T00:00:00",
          "2016-08-09T00:00:00",
          "2016-08-10T00:00:00",
          "2016-08-11T00:00:00",
          "2016-08-12T00:00:00",
          "2016-08-13T00:00:00",
          "2016-08-14T00:00:00",
          "2016-08-15T00:00:00",
          "2016-08-16T00:00:00",
          "2016-08-17T00:00:00",
          "2016-08-18T00:00:00",
          "2016-08-19T00:00:00",
          "2016-08-20T00:00:00",
          "2016-08-21T00:00:00",
          "2016-08-22T00:00:00",
          "2016-08-23T00:00:00",
          "2016-08-24T00:00:00",
          "2016-08-25T00:00:00",
          "2016-08-26T00:00:00",
          "2016-08-27T00:00:00",
          "2016-08-28T00:00:00",
          "2016-08-29T00:00:00",
          "2016-08-30T00:00:00",
          "2016-08-31T00:00:00",
          "2016-09-01T00:00:00",
          "2016-09-02T00:00:00",
          "2016-09-03T00:00:00",
          "2016-09-04T00:00:00",
          "2016-09-05T00:00:00",
          "2016-09-06T00:00:00",
          "2016-09-07T00:00:00",
          "2016-09-08T00:00:00",
          "2016-09-09T00:00:00",
          "2016-09-10T00:00:00",
          "2016-09-11T00:00:00",
          "2016-09-12T00:00:00",
          "2016-09-13T00:00:00",
          "2016-09-14T00:00:00",
          "2016-09-15T00:00:00",
          "2016-09-16T00:00:00",
          "2016-09-17T00:00:00",
          "2016-09-18T00:00:00",
          "2016-09-19T00:00:00",
          "2016-09-20T00:00:00",
          "2016-09-21T00:00:00",
          "2016-09-22T00:00:00",
          "2016-09-23T00:00:00",
          "2016-09-24T00:00:00",
          "2016-09-25T00:00:00",
          "2016-09-26T00:00:00",
          "2016-09-27T00:00:00",
          "2016-09-28T00:00:00",
          "2016-09-29T00:00:00",
          "2016-09-30T00:00:00",
          "2016-10-01T00:00:00",
          "2016-10-02T00:00:00",
          "2016-10-03T00:00:00",
          "2016-10-04T00:00:00",
          "2016-10-05T00:00:00",
          "2016-10-06T00:00:00",
          "2016-10-07T00:00:00",
          "2016-10-08T00:00:00",
          "2016-10-09T00:00:00",
          "2016-10-10T00:00:00",
          "2016-10-11T00:00:00",
          "2016-10-12T00:00:00",
          "2016-10-13T00:00:00",
          "2016-10-14T00:00:00",
          "2016-10-15T00:00:00",
          "2016-10-16T00:00:00",
          "2016-10-17T00:00:00",
          "2016-10-18T00:00:00",
          "2016-10-19T00:00:00",
          "2016-10-20T00:00:00",
          "2016-10-21T00:00:00",
          "2016-10-22T00:00:00",
          "2016-10-23T00:00:00",
          "2016-10-24T00:00:00",
          "2016-10-25T00:00:00",
          "2016-10-26T00:00:00",
          "2016-10-27T00:00:00",
          "2016-10-28T00:00:00",
          "2016-10-29T00:00:00",
          "2016-10-30T00:00:00",
          "2016-10-31T00:00:00",
          "2016-11-01T00:00:00",
          "2016-11-02T00:00:00",
          "2016-11-03T00:00:00",
          "2016-11-04T00:00:00",
          "2016-11-05T00:00:00",
          "2016-11-06T00:00:00",
          "2016-11-07T00:00:00",
          "2016-11-08T00:00:00",
          "2016-11-09T00:00:00",
          "2016-11-10T00:00:00",
          "2016-11-11T00:00:00",
          "2016-11-12T00:00:00",
          "2016-11-13T00:00:00",
          "2016-11-14T00:00:00",
          "2016-11-15T00:00:00",
          "2016-11-16T00:00:00",
          "2016-11-17T00:00:00",
          "2016-11-18T00:00:00",
          "2016-11-19T00:00:00",
          "2016-11-20T00:00:00",
          "2016-11-21T00:00:00",
          "2016-11-22T00:00:00",
          "2016-11-23T00:00:00",
          "2016-11-24T00:00:00",
          "2016-11-25T00:00:00",
          "2016-11-26T00:00:00",
          "2016-11-27T00:00:00",
          "2016-11-28T00:00:00",
          "2016-11-29T00:00:00",
          "2016-11-30T00:00:00",
          "2016-12-01T00:00:00",
          "2016-12-02T00:00:00",
          "2016-12-03T00:00:00",
          "2016-12-04T00:00:00",
          "2016-12-05T00:00:00",
          "2016-12-06T00:00:00",
          "2016-12-07T00:00:00",
          "2016-12-08T00:00:00",
          "2016-12-09T00:00:00",
          "2016-12-10T00:00:00",
          "2016-12-11T00:00:00",
          "2016-12-12T00:00:00",
          "2016-12-13T00:00:00",
          "2016-12-14T00:00:00",
          "2016-12-15T00:00:00",
          "2016-12-16T00:00:00",
          "2016-12-17T00:00:00",
          "2016-12-18T00:00:00",
          "2016-12-19T00:00:00",
          "2016-12-20T00:00:00",
          "2016-12-21T00:00:00",
          "2016-12-22T00:00:00",
          "2016-12-23T00:00:00",
          "2016-12-24T00:00:00",
          "2016-12-25T00:00:00",
          "2016-12-26T00:00:00",
          "2016-12-27T00:00:00",
          "2016-12-28T00:00:00",
          "2016-12-29T00:00:00",
          "2016-12-30T00:00:00",
          "2016-12-31T00:00:00",
          "2017-01-01T00:00:00",
          "2017-01-02T00:00:00",
          "2017-01-03T00:00:00",
          "2017-01-04T00:00:00",
          "2017-01-05T00:00:00",
          "2017-01-06T00:00:00",
          "2017-01-07T00:00:00",
          "2017-01-08T00:00:00",
          "2017-01-09T00:00:00",
          "2017-01-10T00:00:00",
          "2017-01-11T00:00:00",
          "2017-01-12T00:00:00",
          "2017-01-13T00:00:00",
          "2017-01-14T00:00:00",
          "2017-01-15T00:00:00",
          "2017-01-16T00:00:00",
          "2017-01-17T00:00:00",
          "2017-01-18T00:00:00",
          "2017-01-19T00:00:00",
          "2017-01-20T00:00:00",
          "2017-01-21T00:00:00",
          "2017-01-22T00:00:00",
          "2017-01-23T00:00:00",
          "2017-01-24T00:00:00",
          "2017-01-25T00:00:00",
          "2017-01-26T00:00:00",
          "2017-01-27T00:00:00",
          "2017-01-28T00:00:00",
          "2017-01-29T00:00:00",
          "2017-01-30T00:00:00",
          "2017-01-31T00:00:00",
          "2017-02-01T00:00:00",
          "2017-02-02T00:00:00",
          "2017-02-03T00:00:00",
          "2017-02-04T00:00:00",
          "2017-02-05T00:00:00",
          "2017-02-06T00:00:00",
          "2017-02-07T00:00:00",
          "2017-02-08T00:00:00",
          "2017-02-09T00:00:00",
          "2017-02-10T00:00:00",
          "2017-02-11T00:00:00",
          "2017-02-12T00:00:00",
          "2017-02-13T00:00:00",
          "2017-02-14T00:00:00",
          "2017-02-15T00:00:00",
          "2017-02-16T00:00:00",
          "2017-02-17T00:00:00",
          "2017-02-18T00:00:00",
          "2017-02-19T00:00:00",
          "2017-02-20T00:00:00",
          "2017-02-21T00:00:00",
          "2017-02-22T00:00:00",
          "2017-02-23T00:00:00",
          "2017-02-24T00:00:00",
          "2017-02-25T00:00:00",
          "2017-02-26T00:00:00",
          "2017-02-27T00:00:00",
          "2017-02-28T00:00:00",
          "2017-03-01T00:00:00",
          "2017-03-02T00:00:00",
          "2017-03-03T00:00:00",
          "2017-03-04T00:00:00",
          "2017-03-05T00:00:00",
          "2017-03-06T00:00:00",
          "2017-03-07T00:00:00",
          "2017-03-08T00:00:00",
          "2017-03-09T00:00:00",
          "2017-03-10T00:00:00",
          "2017-03-11T00:00:00",
          "2017-03-12T00:00:00",
          "2017-03-13T00:00:00",
          "2017-03-14T00:00:00",
          "2017-03-15T00:00:00",
          "2017-03-16T00:00:00",
          "2017-03-17T00:00:00",
          "2017-03-18T00:00:00",
          "2017-03-19T00:00:00",
          "2017-03-20T00:00:00",
          "2017-03-21T00:00:00",
          "2017-03-22T00:00:00",
          "2017-03-23T00:00:00",
          "2017-03-24T00:00:00",
          "2017-03-25T00:00:00",
          "2017-03-26T00:00:00",
          "2017-03-27T00:00:00",
          "2017-03-28T00:00:00",
          "2017-03-29T00:00:00",
          "2017-03-30T00:00:00",
          "2017-03-31T00:00:00",
          "2017-04-01T00:00:00",
          "2017-04-02T00:00:00",
          "2017-04-03T00:00:00",
          "2017-04-04T00:00:00",
          "2017-04-05T00:00:00",
          "2017-04-06T00:00:00",
          "2017-04-07T00:00:00",
          "2017-04-08T00:00:00",
          "2017-04-09T00:00:00",
          "2017-04-10T00:00:00",
          "2017-04-11T00:00:00",
          "2017-04-12T00:00:00",
          "2017-04-13T00:00:00",
          "2017-04-14T00:00:00",
          "2017-04-15T00:00:00",
          "2017-04-16T00:00:00",
          "2017-04-17T00:00:00",
          "2017-04-18T00:00:00",
          "2017-04-19T00:00:00",
          "2017-04-20T00:00:00",
          "2017-04-21T00:00:00",
          "2017-04-22T00:00:00",
          "2017-04-23T00:00:00",
          "2017-04-24T00:00:00",
          "2017-04-25T00:00:00",
          "2017-04-26T00:00:00",
          "2017-04-27T00:00:00",
          "2017-04-28T00:00:00",
          "2017-04-29T00:00:00",
          "2017-04-30T00:00:00",
          "2017-05-01T00:00:00",
          "2017-05-02T00:00:00",
          "2017-05-03T00:00:00",
          "2017-05-04T00:00:00",
          "2017-05-05T00:00:00",
          "2017-05-06T00:00:00",
          "2017-05-07T00:00:00",
          "2017-05-08T00:00:00",
          "2017-05-09T00:00:00",
          "2017-05-10T00:00:00",
          "2017-05-11T00:00:00",
          "2017-05-12T00:00:00",
          "2017-05-13T00:00:00",
          "2017-05-14T00:00:00",
          "2017-05-15T00:00:00",
          "2017-05-16T00:00:00",
          "2017-05-17T00:00:00",
          "2017-05-18T00:00:00",
          "2017-05-19T00:00:00",
          "2017-05-20T00:00:00",
          "2017-05-21T00:00:00",
          "2017-05-22T00:00:00",
          "2017-05-23T00:00:00",
          "2017-05-24T00:00:00",
          "2017-05-25T00:00:00",
          "2017-05-26T00:00:00",
          "2017-05-27T00:00:00",
          "2017-05-28T00:00:00",
          "2017-05-29T00:00:00",
          "2017-05-30T00:00:00",
          "2017-05-31T00:00:00",
          "2017-06-01T00:00:00",
          "2017-06-02T00:00:00",
          "2017-06-03T00:00:00",
          "2017-06-04T00:00:00",
          "2017-06-05T00:00:00",
          "2017-06-06T00:00:00",
          "2017-06-07T00:00:00",
          "2017-06-08T00:00:00",
          "2017-06-09T00:00:00",
          "2017-06-10T00:00:00",
          "2017-06-11T00:00:00",
          "2017-06-12T00:00:00",
          "2017-06-13T00:00:00",
          "2017-06-14T00:00:00",
          "2017-06-15T00:00:00",
          "2017-06-16T00:00:00",
          "2017-06-17T00:00:00",
          "2017-06-18T00:00:00",
          "2017-06-19T00:00:00",
          "2017-06-20T00:00:00",
          "2017-06-21T00:00:00",
          "2017-06-22T00:00:00",
          "2017-06-23T00:00:00",
          "2017-06-24T00:00:00",
          "2017-06-25T00:00:00",
          "2017-06-26T00:00:00",
          "2017-06-27T00:00:00",
          "2017-06-28T00:00:00",
          "2017-06-29T00:00:00",
          "2017-06-30T00:00:00",
          "2017-07-01T00:00:00",
          "2017-07-02T00:00:00",
          "2017-07-03T00:00:00",
          "2017-07-04T00:00:00",
          "2017-07-05T00:00:00",
          "2017-07-06T00:00:00",
          "2017-07-07T00:00:00",
          "2017-07-08T00:00:00",
          "2017-07-09T00:00:00",
          "2017-07-10T00:00:00",
          "2017-07-11T00:00:00",
          "2017-07-12T00:00:00",
          "2017-07-13T00:00:00",
          "2017-07-14T00:00:00",
          "2017-07-15T00:00:00",
          "2017-07-16T00:00:00",
          "2017-07-17T00:00:00",
          "2017-07-18T00:00:00",
          "2017-07-19T00:00:00",
          "2017-07-20T00:00:00",
          "2017-07-21T00:00:00",
          "2017-07-22T00:00:00",
          "2017-07-23T00:00:00",
          "2017-07-24T00:00:00",
          "2017-07-25T00:00:00",
          "2017-07-26T00:00:00",
          "2017-07-27T00:00:00",
          "2017-07-28T00:00:00",
          "2017-07-29T00:00:00",
          "2017-07-30T00:00:00",
          "2017-07-31T00:00:00",
          "2017-08-01T00:00:00",
          "2017-08-02T00:00:00",
          "2017-08-03T00:00:00",
          "2017-08-04T00:00:00",
          "2017-08-05T00:00:00",
          "2017-08-06T00:00:00",
          "2017-08-07T00:00:00",
          "2017-08-08T00:00:00",
          "2017-08-09T00:00:00",
          "2017-08-10T00:00:00",
          "2017-08-11T00:00:00",
          "2017-08-12T00:00:00",
          "2017-08-13T00:00:00",
          "2017-08-14T00:00:00",
          "2017-08-15T00:00:00",
          "2017-08-16T00:00:00",
          "2017-08-17T00:00:00",
          "2017-08-18T00:00:00",
          "2017-08-19T00:00:00",
          "2017-08-20T00:00:00",
          "2017-08-21T00:00:00",
          "2017-08-22T00:00:00",
          "2017-08-23T00:00:00",
          "2017-08-24T00:00:00",
          "2017-08-25T00:00:00",
          "2017-08-26T00:00:00",
          "2017-08-27T00:00:00",
          "2017-08-28T00:00:00",
          "2017-08-29T00:00:00",
          "2017-08-30T00:00:00",
          "2017-08-31T00:00:00",
          "2017-09-01T00:00:00",
          "2017-09-02T00:00:00",
          "2017-09-03T00:00:00",
          "2017-09-04T00:00:00",
          "2017-09-05T00:00:00",
          "2017-09-06T00:00:00",
          "2017-09-07T00:00:00",
          "2017-09-08T00:00:00",
          "2017-09-09T00:00:00",
          "2017-09-10T00:00:00",
          "2017-09-11T00:00:00",
          "2017-09-12T00:00:00",
          "2017-09-13T00:00:00",
          "2017-09-14T00:00:00",
          "2017-09-15T00:00:00",
          "2017-09-16T00:00:00",
          "2017-09-17T00:00:00",
          "2017-09-18T00:00:00",
          "2017-09-19T00:00:00",
          "2017-09-20T00:00:00",
          "2017-09-21T00:00:00",
          "2017-09-22T00:00:00",
          "2017-09-23T00:00:00",
          "2017-09-24T00:00:00",
          "2017-09-25T00:00:00",
          "2017-09-26T00:00:00",
          "2017-09-27T00:00:00",
          "2017-09-28T00:00:00",
          "2017-09-29T00:00:00",
          "2017-09-30T00:00:00",
          "2017-10-01T00:00:00",
          "2017-10-02T00:00:00",
          "2017-10-03T00:00:00",
          "2017-10-04T00:00:00",
          "2017-10-05T00:00:00",
          "2017-10-06T00:00:00",
          "2017-10-07T00:00:00",
          "2017-10-08T00:00:00",
          "2017-10-09T00:00:00",
          "2017-10-10T00:00:00",
          "2017-10-11T00:00:00",
          "2017-10-12T00:00:00",
          "2017-10-13T00:00:00",
          "2017-10-14T00:00:00",
          "2017-10-15T00:00:00",
          "2017-10-16T00:00:00",
          "2017-10-17T00:00:00",
          "2017-10-18T00:00:00",
          "2017-10-19T00:00:00",
          "2017-10-20T00:00:00",
          "2017-10-21T00:00:00",
          "2017-10-22T00:00:00",
          "2017-10-23T00:00:00",
          "2017-10-24T00:00:00",
          "2017-10-25T00:00:00",
          "2017-10-26T00:00:00",
          "2017-10-27T00:00:00",
          "2017-10-28T00:00:00",
          "2017-10-29T00:00:00",
          "2017-10-30T00:00:00",
          "2017-10-31T00:00:00",
          "2017-11-01T00:00:00",
          "2017-11-02T00:00:00",
          "2017-11-03T00:00:00",
          "2017-11-04T00:00:00",
          "2017-11-05T00:00:00",
          "2017-11-06T00:00:00",
          "2017-11-07T00:00:00",
          "2017-11-08T00:00:00",
          "2017-11-09T00:00:00",
          "2017-11-10T00:00:00",
          "2017-11-11T00:00:00",
          "2017-11-12T00:00:00",
          "2017-11-13T00:00:00",
          "2017-11-14T00:00:00",
          "2017-11-15T00:00:00",
          "2017-11-16T00:00:00",
          "2017-11-17T00:00:00",
          "2017-11-18T00:00:00",
          "2017-11-19T00:00:00",
          "2017-11-20T00:00:00",
          "2017-11-21T00:00:00",
          "2017-11-22T00:00:00",
          "2017-11-23T00:00:00",
          "2017-11-24T00:00:00",
          "2017-11-25T00:00:00",
          "2017-11-26T00:00:00",
          "2017-11-27T00:00:00",
          "2017-11-28T00:00:00",
          "2017-11-29T00:00:00",
          "2017-11-30T00:00:00",
          "2017-12-01T00:00:00",
          "2017-12-02T00:00:00",
          "2017-12-03T00:00:00",
          "2017-12-04T00:00:00",
          "2017-12-05T00:00:00",
          "2017-12-06T00:00:00",
          "2017-12-07T00:00:00",
          "2017-12-08T00:00:00",
          "2017-12-09T00:00:00",
          "2017-12-10T00:00:00",
          "2017-12-11T00:00:00",
          "2017-12-12T00:00:00",
          "2017-12-13T00:00:00",
          "2017-12-14T00:00:00",
          "2017-12-15T00:00:00",
          "2017-12-16T00:00:00",
          "2017-12-17T00:00:00",
          "2017-12-18T00:00:00",
          "2017-12-19T00:00:00",
          "2017-12-20T00:00:00",
          "2017-12-21T00:00:00",
          "2017-12-22T00:00:00",
          "2017-12-23T00:00:00",
          "2017-12-24T00:00:00",
          "2017-12-25T00:00:00",
          "2017-12-26T00:00:00",
          "2017-12-27T00:00:00",
          "2017-12-28T00:00:00",
          "2017-12-29T00:00:00",
          "2017-12-30T00:00:00",
          "2017-12-31T00:00:00",
          "2018-01-01T00:00:00",
          "2018-01-02T00:00:00",
          "2018-01-03T00:00:00",
          "2018-01-04T00:00:00",
          "2018-01-05T00:00:00",
          "2018-01-06T00:00:00",
          "2018-01-07T00:00:00",
          "2018-01-08T00:00:00",
          "2018-01-09T00:00:00",
          "2018-01-10T00:00:00",
          "2018-01-11T00:00:00",
          "2018-01-12T00:00:00",
          "2018-01-13T00:00:00",
          "2018-01-14T00:00:00",
          "2018-01-15T00:00:00",
          "2018-01-16T00:00:00",
          "2018-01-17T00:00:00",
          "2018-01-18T00:00:00",
          "2018-01-19T00:00:00",
          "2018-01-20T00:00:00",
          "2018-01-21T00:00:00",
          "2018-01-22T00:00:00",
          "2018-01-23T00:00:00",
          "2018-01-24T00:00:00",
          "2018-01-25T00:00:00",
          "2018-01-26T00:00:00",
          "2018-01-27T00:00:00",
          "2018-01-28T00:00:00",
          "2018-01-29T00:00:00",
          "2018-01-30T00:00:00",
          "2018-01-31T00:00:00",
          "2018-02-01T00:00:00",
          "2018-02-02T00:00:00",
          "2018-02-03T00:00:00",
          "2018-02-04T00:00:00",
          "2018-02-05T00:00:00",
          "2018-02-06T00:00:00",
          "2018-02-07T00:00:00",
          "2018-02-08T00:00:00",
          "2018-02-09T00:00:00",
          "2018-02-10T00:00:00",
          "2018-02-11T00:00:00",
          "2018-02-12T00:00:00",
          "2018-02-13T00:00:00",
          "2018-02-14T00:00:00",
          "2018-02-15T00:00:00",
          "2018-02-16T00:00:00",
          "2018-02-17T00:00:00",
          "2018-02-18T00:00:00",
          "2018-02-19T00:00:00",
          "2018-02-20T00:00:00",
          "2018-02-21T00:00:00",
          "2018-02-22T00:00:00",
          "2018-02-23T00:00:00",
          "2018-02-24T00:00:00",
          "2018-02-25T00:00:00",
          "2018-02-26T00:00:00",
          "2018-02-27T00:00:00",
          "2018-02-28T00:00:00",
          "2018-03-01T00:00:00",
          "2018-03-02T00:00:00",
          "2018-03-03T00:00:00",
          "2018-03-04T00:00:00",
          "2018-03-05T00:00:00",
          "2018-03-06T00:00:00",
          "2018-03-07T00:00:00",
          "2018-03-08T00:00:00",
          "2018-03-09T00:00:00",
          "2018-03-10T00:00:00",
          "2018-03-11T00:00:00",
          "2018-03-12T00:00:00",
          "2018-03-13T00:00:00",
          "2018-03-14T00:00:00",
          "2018-03-15T00:00:00",
          "2018-03-16T00:00:00",
          "2018-03-17T00:00:00",
          "2018-03-18T00:00:00",
          "2018-03-19T00:00:00",
          "2018-03-20T00:00:00",
          "2018-03-21T00:00:00",
          "2018-03-22T00:00:00",
          "2018-03-23T00:00:00",
          "2018-03-24T00:00:00",
          "2018-03-25T00:00:00",
          "2018-03-26T00:00:00",
          "2018-03-27T00:00:00",
          "2018-03-28T00:00:00",
          "2018-03-29T00:00:00",
          "2018-03-30T00:00:00",
          "2018-03-31T00:00:00",
          "2018-04-01T00:00:00",
          "2018-04-02T00:00:00",
          "2018-04-03T00:00:00",
          "2018-04-04T00:00:00",
          "2018-04-05T00:00:00",
          "2018-04-06T00:00:00",
          "2018-04-07T00:00:00",
          "2018-04-08T00:00:00",
          "2018-04-09T00:00:00",
          "2018-04-10T00:00:00",
          "2018-04-11T00:00:00",
          "2018-04-12T00:00:00",
          "2018-04-13T00:00:00",
          "2018-04-14T00:00:00",
          "2018-04-15T00:00:00",
          "2018-04-16T00:00:00",
          "2018-04-17T00:00:00",
          "2018-04-18T00:00:00",
          "2018-04-19T00:00:00",
          "2018-04-20T00:00:00",
          "2018-04-21T00:00:00",
          "2018-04-22T00:00:00",
          "2018-04-23T00:00:00",
          "2018-04-24T00:00:00",
          "2018-04-25T00:00:00",
          "2018-04-26T00:00:00",
          "2018-04-27T00:00:00",
          "2018-04-28T00:00:00",
          "2018-04-29T00:00:00",
          "2018-04-30T00:00:00",
          "2018-05-01T00:00:00",
          "2018-05-02T00:00:00",
          "2018-05-03T00:00:00",
          "2018-05-04T00:00:00",
          "2018-05-05T00:00:00",
          "2018-05-06T00:00:00",
          "2018-05-07T00:00:00",
          "2018-05-08T00:00:00",
          "2018-05-09T00:00:00",
          "2018-05-10T00:00:00",
          "2018-05-11T00:00:00",
          "2018-05-12T00:00:00",
          "2018-05-13T00:00:00",
          "2018-05-14T00:00:00",
          "2018-05-15T00:00:00",
          "2018-05-16T00:00:00",
          "2018-05-17T00:00:00",
          "2018-05-18T00:00:00",
          "2018-05-19T00:00:00",
          "2018-05-20T00:00:00",
          "2018-05-21T00:00:00",
          "2018-05-22T00:00:00",
          "2018-05-23T00:00:00",
          "2018-05-24T00:00:00",
          "2018-05-25T00:00:00",
          "2018-05-26T00:00:00",
          "2018-05-27T00:00:00",
          "2018-05-28T00:00:00",
          "2018-05-29T00:00:00",
          "2018-05-30T00:00:00",
          "2018-05-31T00:00:00",
          "2018-06-01T00:00:00",
          "2018-06-02T00:00:00",
          "2018-06-03T00:00:00",
          "2018-06-04T00:00:00",
          "2018-06-05T00:00:00",
          "2018-06-06T00:00:00",
          "2018-06-07T00:00:00",
          "2018-06-08T00:00:00",
          "2018-06-09T00:00:00",
          "2018-06-10T00:00:00",
          "2018-06-11T00:00:00",
          "2018-06-12T00:00:00",
          "2018-06-13T00:00:00",
          "2018-06-14T00:00:00",
          "2018-06-15T00:00:00",
          "2018-06-16T00:00:00",
          "2018-06-17T00:00:00",
          "2018-06-18T00:00:00",
          "2018-06-19T00:00:00",
          "2018-06-20T00:00:00",
          "2018-06-21T00:00:00",
          "2018-06-22T00:00:00",
          "2018-06-23T00:00:00",
          "2018-06-24T00:00:00",
          "2018-06-25T00:00:00",
          "2018-06-26T00:00:00",
          "2018-06-27T00:00:00",
          "2018-06-28T00:00:00",
          "2018-06-29T00:00:00",
          "2018-06-30T00:00:00",
          "2018-07-01T00:00:00",
          "2018-07-02T00:00:00",
          "2018-07-03T00:00:00",
          "2018-07-04T00:00:00",
          "2018-07-05T00:00:00",
          "2018-07-06T00:00:00",
          "2018-07-07T00:00:00",
          "2018-07-08T00:00:00",
          "2018-07-09T00:00:00",
          "2018-07-10T00:00:00",
          "2018-07-11T00:00:00",
          "2018-07-12T00:00:00",
          "2018-07-13T00:00:00",
          "2018-07-14T00:00:00",
          "2018-07-15T00:00:00",
          "2018-07-16T00:00:00",
          "2018-07-17T00:00:00",
          "2018-07-18T00:00:00",
          "2018-07-19T00:00:00",
          "2018-07-20T00:00:00",
          "2018-07-21T00:00:00",
          "2018-07-22T00:00:00",
          "2018-07-23T00:00:00",
          "2018-07-24T00:00:00",
          "2018-07-25T00:00:00",
          "2018-07-26T00:00:00",
          "2018-07-27T00:00:00",
          "2018-07-28T00:00:00",
          "2018-07-29T00:00:00",
          "2018-07-30T00:00:00",
          "2018-07-31T00:00:00",
          "2018-08-01T00:00:00",
          "2018-08-02T00:00:00",
          "2018-08-03T00:00:00",
          "2018-08-04T00:00:00",
          "2018-08-05T00:00:00",
          "2018-08-06T00:00:00",
          "2018-08-07T00:00:00",
          "2018-08-08T00:00:00",
          "2018-08-09T00:00:00",
          "2018-08-10T00:00:00",
          "2018-08-11T00:00:00",
          "2018-08-12T00:00:00",
          "2018-08-13T00:00:00",
          "2018-08-14T00:00:00",
          "2018-08-15T00:00:00",
          "2018-08-16T00:00:00",
          "2018-08-17T00:00:00",
          "2018-08-18T00:00:00",
          "2018-08-19T00:00:00",
          "2018-08-20T00:00:00",
          "2018-08-21T00:00:00",
          "2018-08-22T00:00:00",
          "2018-08-23T00:00:00",
          "2018-08-24T00:00:00",
          "2018-08-25T00:00:00",
          "2018-08-26T00:00:00",
          "2018-08-27T00:00:00",
          "2018-08-28T00:00:00",
          "2018-08-29T00:00:00",
          "2018-08-30T00:00:00",
          "2018-08-31T00:00:00",
          "2018-09-01T00:00:00",
          "2018-09-02T00:00:00",
          "2018-09-03T00:00:00",
          "2018-09-04T00:00:00",
          "2018-09-05T00:00:00",
          "2018-09-06T00:00:00",
          "2018-09-07T00:00:00",
          "2018-09-08T00:00:00",
          "2018-09-09T00:00:00",
          "2018-09-10T00:00:00",
          "2018-09-11T00:00:00",
          "2018-09-12T00:00:00",
          "2018-09-13T00:00:00",
          "2018-09-14T00:00:00",
          "2018-09-15T00:00:00",
          "2018-09-16T00:00:00",
          "2018-09-17T00:00:00",
          "2018-09-18T00:00:00",
          "2018-09-19T00:00:00",
          "2018-09-20T00:00:00",
          "2018-09-21T00:00:00",
          "2018-09-22T00:00:00",
          "2018-09-23T00:00:00",
          "2018-09-24T00:00:00",
          "2018-09-25T00:00:00",
          "2018-09-26T00:00:00",
          "2018-09-27T00:00:00",
          "2018-09-28T00:00:00",
          "2018-09-29T00:00:00",
          "2018-09-30T00:00:00",
          "2018-10-01T00:00:00",
          "2018-10-02T00:00:00",
          "2018-10-03T00:00:00",
          "2018-10-04T00:00:00",
          "2018-10-05T00:00:00",
          "2018-10-06T00:00:00",
          "2018-10-07T00:00:00",
          "2018-10-08T00:00:00",
          "2018-10-09T00:00:00",
          "2018-10-10T00:00:00",
          "2018-10-11T00:00:00",
          "2018-10-12T00:00:00",
          "2018-10-13T00:00:00",
          "2018-10-14T00:00:00",
          "2018-10-15T00:00:00",
          "2018-10-16T00:00:00",
          "2018-10-17T00:00:00",
          "2018-10-18T00:00:00",
          "2018-10-19T00:00:00",
          "2018-10-20T00:00:00",
          "2018-10-21T00:00:00",
          "2018-10-22T00:00:00",
          "2018-10-23T00:00:00",
          "2018-10-24T00:00:00",
          "2018-10-25T00:00:00",
          "2018-10-26T00:00:00",
          "2018-10-27T00:00:00",
          "2018-10-28T00:00:00",
          "2018-10-29T00:00:00",
          "2018-10-30T00:00:00",
          "2018-10-31T00:00:00",
          "2018-11-01T00:00:00",
          "2018-11-02T00:00:00",
          "2018-11-03T00:00:00",
          "2018-11-04T00:00:00",
          "2018-11-05T00:00:00",
          "2018-11-06T00:00:00",
          "2018-11-07T00:00:00",
          "2018-11-08T00:00:00",
          "2018-11-09T00:00:00",
          "2018-11-10T00:00:00",
          "2018-11-11T00:00:00",
          "2018-11-12T00:00:00",
          "2018-11-13T00:00:00",
          "2018-11-14T00:00:00",
          "2018-11-15T00:00:00",
          "2018-11-16T00:00:00",
          "2018-11-17T00:00:00",
          "2018-11-18T00:00:00",
          "2018-11-19T00:00:00",
          "2018-11-20T00:00:00",
          "2018-11-21T00:00:00",
          "2018-11-22T00:00:00",
          "2018-11-23T00:00:00",
          "2018-11-24T00:00:00",
          "2018-11-25T00:00:00",
          "2018-11-26T00:00:00",
          "2018-11-27T00:00:00",
          "2018-11-28T00:00:00",
          "2018-11-29T00:00:00",
          "2018-11-30T00:00:00",
          "2018-12-01T00:00:00",
          "2018-12-02T00:00:00",
          "2018-12-03T00:00:00",
          "2018-12-04T00:00:00",
          "2018-12-05T00:00:00",
          "2018-12-06T00:00:00",
          "2018-12-07T00:00:00",
          "2018-12-08T00:00:00",
          "2018-12-09T00:00:00",
          "2018-12-10T00:00:00",
          "2018-12-11T00:00:00",
          "2018-12-12T00:00:00",
          "2018-12-13T00:00:00",
          "2018-12-14T00:00:00",
          "2018-12-15T00:00:00",
          "2018-12-16T00:00:00",
          "2018-12-17T00:00:00",
          "2018-12-18T00:00:00",
          "2018-12-19T00:00:00",
          "2018-12-20T00:00:00",
          "2018-12-21T00:00:00",
          "2018-12-22T00:00:00",
          "2018-12-23T00:00:00",
          "2018-12-24T00:00:00",
          "2018-12-25T00:00:00",
          "2018-12-26T00:00:00",
          "2018-12-27T00:00:00",
          "2018-12-28T00:00:00",
          "2018-12-29T00:00:00",
          "2018-12-30T00:00:00",
          "2018-12-31T00:00:00",
          "2019-01-01T00:00:00",
          "2019-01-02T00:00:00",
          "2019-01-03T00:00:00",
          "2019-01-04T00:00:00",
          "2019-01-05T00:00:00",
          "2019-01-06T00:00:00",
          "2019-01-07T00:00:00",
          "2019-01-08T00:00:00",
          "2019-01-09T00:00:00",
          "2019-01-10T00:00:00",
          "2019-01-11T00:00:00",
          "2019-01-12T00:00:00",
          "2019-01-13T00:00:00",
          "2019-01-14T00:00:00",
          "2019-01-15T00:00:00",
          "2019-01-16T00:00:00",
          "2019-01-17T00:00:00",
          "2019-01-18T00:00:00",
          "2019-01-19T00:00:00",
          "2019-01-20T00:00:00",
          "2019-01-21T00:00:00",
          "2019-01-22T00:00:00",
          "2019-01-23T00:00:00",
          "2019-01-24T00:00:00",
          "2019-01-25T00:00:00",
          "2019-01-26T00:00:00",
          "2019-01-27T00:00:00",
          "2019-01-28T00:00:00",
          "2019-01-29T00:00:00",
          "2019-01-30T00:00:00",
          "2019-01-31T00:00:00",
          "2019-02-01T00:00:00",
          "2019-02-02T00:00:00",
          "2019-02-03T00:00:00",
          "2019-02-04T00:00:00",
          "2019-02-05T00:00:00",
          "2019-02-06T00:00:00",
          "2019-02-07T00:00:00",
          "2019-02-08T00:00:00",
          "2019-02-09T00:00:00",
          "2019-02-10T00:00:00",
          "2019-02-11T00:00:00",
          "2019-02-12T00:00:00",
          "2019-02-13T00:00:00",
          "2019-02-14T00:00:00",
          "2019-02-15T00:00:00",
          "2019-02-16T00:00:00",
          "2019-02-17T00:00:00",
          "2019-02-18T00:00:00",
          "2019-02-19T00:00:00",
          "2019-02-20T00:00:00",
          "2019-02-21T00:00:00",
          "2019-02-22T00:00:00",
          "2019-02-23T00:00:00",
          "2019-02-24T00:00:00",
          "2019-02-25T00:00:00",
          "2019-02-26T00:00:00",
          "2019-02-27T00:00:00",
          "2019-02-28T00:00:00",
          "2019-03-01T00:00:00",
          "2019-03-02T00:00:00",
          "2019-03-03T00:00:00",
          "2019-03-04T00:00:00",
          "2019-03-05T00:00:00",
          "2019-03-06T00:00:00",
          "2019-03-07T00:00:00",
          "2019-03-08T00:00:00",
          "2019-03-09T00:00:00",
          "2019-03-10T00:00:00",
          "2019-03-11T00:00:00",
          "2019-03-12T00:00:00",
          "2019-03-13T00:00:00",
          "2019-03-14T00:00:00",
          "2019-03-15T00:00:00",
          "2019-03-16T00:00:00",
          "2019-03-17T00:00:00",
          "2019-03-18T00:00:00",
          "2019-03-19T00:00:00",
          "2019-03-20T00:00:00",
          "2019-03-21T00:00:00",
          "2019-03-22T00:00:00",
          "2019-03-23T00:00:00",
          "2019-03-24T00:00:00",
          "2019-03-25T00:00:00",
          "2019-03-26T00:00:00",
          "2019-03-27T00:00:00",
          "2019-03-28T00:00:00",
          "2019-03-29T00:00:00",
          "2019-03-30T00:00:00",
          "2019-03-31T00:00:00",
          "2019-04-01T00:00:00",
          "2019-04-02T00:00:00",
          "2019-04-03T00:00:00",
          "2019-04-04T00:00:00",
          "2019-04-05T00:00:00",
          "2019-04-06T00:00:00",
          "2019-04-07T00:00:00",
          "2019-04-08T00:00:00",
          "2019-04-09T00:00:00",
          "2019-04-10T00:00:00",
          "2019-04-11T00:00:00",
          "2019-04-12T00:00:00",
          "2019-04-13T00:00:00",
          "2019-04-14T00:00:00",
          "2019-04-15T00:00:00",
          "2019-04-16T00:00:00",
          "2019-04-17T00:00:00",
          "2019-04-18T00:00:00",
          "2019-04-19T00:00:00",
          "2019-04-20T00:00:00",
          "2019-04-21T00:00:00",
          "2019-04-22T00:00:00",
          "2019-04-23T00:00:00",
          "2019-04-24T00:00:00",
          "2019-04-25T00:00:00",
          "2019-04-26T00:00:00",
          "2019-04-27T00:00:00",
          "2019-04-28T00:00:00",
          "2019-04-29T00:00:00",
          "2019-04-30T00:00:00",
          "2019-05-01T00:00:00",
          "2019-05-02T00:00:00",
          "2019-05-03T00:00:00",
          "2019-05-04T00:00:00",
          "2019-05-05T00:00:00",
          "2019-05-06T00:00:00",
          "2019-05-07T00:00:00",
          "2019-05-08T00:00:00",
          "2019-05-09T00:00:00",
          "2019-05-10T00:00:00",
          "2019-05-11T00:00:00",
          "2019-05-12T00:00:00",
          "2019-05-13T00:00:00",
          "2019-05-14T00:00:00",
          "2019-05-15T00:00:00",
          "2019-05-16T00:00:00",
          "2019-05-17T00:00:00",
          "2019-05-18T00:00:00",
          "2019-05-19T00:00:00",
          "2019-05-20T00:00:00",
          "2019-05-21T00:00:00",
          "2019-05-22T00:00:00",
          "2019-05-23T00:00:00",
          "2019-05-24T00:00:00",
          "2019-05-25T00:00:00",
          "2019-05-26T00:00:00",
          "2019-05-27T00:00:00",
          "2019-05-28T00:00:00",
          "2019-05-29T00:00:00",
          "2019-05-30T00:00:00",
          "2019-05-31T00:00:00",
          "2019-06-01T00:00:00",
          "2019-06-02T00:00:00",
          "2019-06-03T00:00:00",
          "2019-06-04T00:00:00",
          "2019-06-05T00:00:00",
          "2019-06-06T00:00:00",
          "2019-06-07T00:00:00",
          "2019-06-08T00:00:00",
          "2019-06-09T00:00:00",
          "2019-06-10T00:00:00",
          "2019-06-11T00:00:00",
          "2019-06-12T00:00:00",
          "2019-06-13T00:00:00",
          "2019-06-14T00:00:00",
          "2019-06-15T00:00:00",
          "2019-06-16T00:00:00",
          "2019-06-17T00:00:00",
          "2019-06-18T00:00:00",
          "2019-06-19T00:00:00",
          "2019-06-20T00:00:00",
          "2019-06-21T00:00:00",
          "2019-06-22T00:00:00",
          "2019-06-23T00:00:00",
          "2019-06-24T00:00:00",
          "2019-06-25T00:00:00",
          "2019-06-26T00:00:00",
          "2019-06-27T00:00:00",
          "2019-06-28T00:00:00",
          "2019-06-29T00:00:00",
          "2019-06-30T00:00:00",
          "2019-07-01T00:00:00",
          "2019-07-02T00:00:00",
          "2019-07-03T00:00:00",
          "2019-07-04T00:00:00",
          "2019-07-05T00:00:00",
          "2019-07-06T00:00:00",
          "2019-07-07T00:00:00",
          "2019-07-08T00:00:00",
          "2019-07-09T00:00:00",
          "2019-07-10T00:00:00",
          "2019-07-11T00:00:00",
          "2019-07-12T00:00:00",
          "2019-07-13T00:00:00",
          "2019-07-14T00:00:00",
          "2019-07-15T00:00:00",
          "2019-07-16T00:00:00",
          "2019-07-17T00:00:00",
          "2019-07-18T00:00:00",
          "2019-07-19T00:00:00",
          "2019-07-20T00:00:00",
          "2019-07-21T00:00:00",
          "2019-07-22T00:00:00",
          "2019-07-23T00:00:00",
          "2019-07-24T00:00:00",
          "2019-07-25T00:00:00",
          "2019-07-26T00:00:00",
          "2019-07-27T00:00:00",
          "2019-07-28T00:00:00",
          "2019-07-29T00:00:00",
          "2019-07-30T00:00:00",
          "2019-07-31T00:00:00",
          "2019-08-01T00:00:00",
          "2019-08-02T00:00:00",
          "2019-08-03T00:00:00",
          "2019-08-04T00:00:00",
          "2019-08-05T00:00:00",
          "2019-08-06T00:00:00",
          "2019-08-07T00:00:00",
          "2019-08-08T00:00:00",
          "2019-08-09T00:00:00",
          "2019-08-10T00:00:00",
          "2019-08-11T00:00:00",
          "2019-08-12T00:00:00",
          "2019-08-13T00:00:00",
          "2019-08-14T00:00:00",
          "2019-08-15T00:00:00",
          "2019-08-16T00:00:00",
          "2019-08-17T00:00:00",
          "2019-08-18T00:00:00",
          "2019-08-19T00:00:00",
          "2019-08-20T00:00:00",
          "2019-08-21T00:00:00",
          "2019-08-22T00:00:00",
          "2019-08-23T00:00:00",
          "2019-08-24T00:00:00",
          "2019-08-25T00:00:00",
          "2019-08-26T00:00:00",
          "2019-08-27T00:00:00",
          "2019-08-28T00:00:00",
          "2019-08-29T00:00:00",
          "2019-08-30T00:00:00",
          "2019-08-31T00:00:00",
          "2019-09-01T00:00:00",
          "2019-09-02T00:00:00",
          "2019-09-03T00:00:00",
          "2019-09-04T00:00:00",
          "2019-09-05T00:00:00",
          "2019-09-06T00:00:00",
          "2019-09-07T00:00:00",
          "2019-09-08T00:00:00",
          "2019-09-09T00:00:00",
          "2019-09-10T00:00:00",
          "2019-09-11T00:00:00",
          "2019-09-12T00:00:00",
          "2019-09-13T00:00:00",
          "2019-09-14T00:00:00",
          "2019-09-15T00:00:00",
          "2019-09-16T00:00:00",
          "2019-09-17T00:00:00",
          "2019-09-18T00:00:00",
          "2019-09-19T00:00:00",
          "2019-09-20T00:00:00",
          "2019-09-21T00:00:00",
          "2019-09-22T00:00:00",
          "2019-09-23T00:00:00",
          "2019-09-24T00:00:00",
          "2019-09-25T00:00:00",
          "2019-09-26T00:00:00",
          "2019-09-27T00:00:00",
          "2019-09-28T00:00:00",
          "2019-09-29T00:00:00",
          "2019-09-30T00:00:00",
          "2019-10-01T00:00:00",
          "2019-10-02T00:00:00",
          "2019-10-03T00:00:00",
          "2019-10-04T00:00:00",
          "2019-10-05T00:00:00",
          "2019-10-06T00:00:00",
          "2019-10-07T00:00:00",
          "2019-10-08T00:00:00",
          "2019-10-09T00:00:00",
          "2019-10-10T00:00:00",
          "2019-10-11T00:00:00",
          "2019-10-12T00:00:00",
          "2019-10-13T00:00:00",
          "2019-10-14T00:00:00",
          "2019-10-15T00:00:00",
          "2019-10-16T00:00:00",
          "2019-10-17T00:00:00",
          "2019-10-18T00:00:00",
          "2019-10-19T00:00:00",
          "2019-10-20T00:00:00",
          "2019-10-21T00:00:00",
          "2019-10-22T00:00:00",
          "2019-10-23T00:00:00",
          "2019-10-24T00:00:00",
          "2019-10-25T00:00:00",
          "2019-10-26T00:00:00",
          "2019-10-27T00:00:00",
          "2019-10-28T00:00:00",
          "2019-10-29T00:00:00",
          "2019-10-30T00:00:00",
          "2019-10-31T00:00:00",
          "2019-11-01T00:00:00",
          "2019-11-02T00:00:00",
          "2019-11-03T00:00:00",
          "2019-11-04T00:00:00",
          "2019-11-05T00:00:00",
          "2019-11-06T00:00:00",
          "2019-11-07T00:00:00",
          "2019-11-08T00:00:00",
          "2019-11-09T00:00:00",
          "2019-11-10T00:00:00",
          "2019-11-11T00:00:00",
          "2019-11-12T00:00:00",
          "2019-11-13T00:00:00",
          "2019-11-14T00:00:00",
          "2019-11-15T00:00:00",
          "2019-11-16T00:00:00",
          "2019-11-17T00:00:00",
          "2019-11-18T00:00:00",
          "2019-11-19T00:00:00",
          "2019-11-20T00:00:00",
          "2019-11-21T00:00:00",
          "2019-11-22T00:00:00",
          "2019-11-23T00:00:00",
          "2019-11-24T00:00:00",
          "2019-11-25T00:00:00",
          "2019-11-26T00:00:00",
          "2019-11-27T00:00:00",
          "2019-11-28T00:00:00",
          "2019-11-29T00:00:00",
          "2019-11-30T00:00:00",
          "2019-12-01T00:00:00",
          "2019-12-02T00:00:00",
          "2019-12-03T00:00:00",
          "2019-12-04T00:00:00",
          "2019-12-05T00:00:00",
          "2019-12-06T00:00:00",
          "2019-12-07T00:00:00",
          "2019-12-08T00:00:00",
          "2019-12-09T00:00:00",
          "2019-12-10T00:00:00",
          "2019-12-11T00:00:00",
          "2019-12-12T00:00:00",
          "2019-12-13T00:00:00",
          "2019-12-14T00:00:00",
          "2019-12-15T00:00:00",
          "2019-12-16T00:00:00",
          "2019-12-17T00:00:00",
          "2019-12-18T00:00:00",
          "2019-12-19T00:00:00",
          "2019-12-20T00:00:00",
          "2019-12-21T00:00:00",
          "2019-12-22T00:00:00",
          "2019-12-23T00:00:00",
          "2019-12-24T00:00:00",
          "2019-12-25T00:00:00",
          "2019-12-26T00:00:00",
          "2019-12-27T00:00:00",
          "2019-12-28T00:00:00",
          "2019-12-29T00:00:00",
          "2019-12-30T00:00:00",
          "2019-12-31T00:00:00",
          "2020-01-01T00:00:00",
          "2020-01-02T00:00:00",
          "2020-01-03T00:00:00",
          "2020-01-04T00:00:00",
          "2020-01-05T00:00:00",
          "2020-01-06T00:00:00",
          "2020-01-07T00:00:00",
          "2020-01-08T00:00:00",
          "2020-01-09T00:00:00",
          "2020-01-10T00:00:00",
          "2020-01-11T00:00:00",
          "2020-01-12T00:00:00",
          "2020-01-13T00:00:00",
          "2020-01-14T00:00:00",
          "2020-01-15T00:00:00",
          "2020-01-16T00:00:00",
          "2020-01-17T00:00:00",
          "2020-01-18T00:00:00",
          "2020-01-19T00:00:00",
          "2020-01-20T00:00:00",
          "2020-01-21T00:00:00",
          "2020-01-22T00:00:00",
          "2020-01-23T00:00:00",
          "2020-01-24T00:00:00",
          "2020-01-25T00:00:00",
          "2020-01-26T00:00:00",
          "2020-01-27T00:00:00",
          "2020-01-28T00:00:00",
          "2020-01-29T00:00:00",
          "2020-01-30T00:00:00",
          "2020-01-31T00:00:00",
          "2020-02-01T00:00:00",
          "2020-02-02T00:00:00",
          "2020-02-03T00:00:00",
          "2020-02-04T00:00:00",
          "2020-02-05T00:00:00",
          "2020-02-06T00:00:00",
          "2020-02-07T00:00:00",
          "2020-02-08T00:00:00",
          "2020-02-09T00:00:00",
          "2020-02-10T00:00:00",
          "2020-02-11T00:00:00",
          "2020-02-12T00:00:00",
          "2020-02-13T00:00:00",
          "2020-02-14T00:00:00",
          "2020-02-15T00:00:00",
          "2020-02-16T00:00:00",
          "2020-02-17T00:00:00",
          "2020-02-18T00:00:00",
          "2020-02-19T00:00:00",
          "2020-02-20T00:00:00",
          "2020-02-21T00:00:00",
          "2020-02-22T00:00:00",
          "2020-02-23T00:00:00",
          "2020-02-24T00:00:00",
          "2020-02-25T00:00:00",
          "2020-02-26T00:00:00",
          "2020-02-27T00:00:00",
          "2020-02-28T00:00:00",
          "2020-02-29T00:00:00",
          "2020-03-01T00:00:00",
          "2020-03-02T00:00:00",
          "2020-03-03T00:00:00",
          "2020-03-04T00:00:00",
          "2020-03-05T00:00:00",
          "2020-03-06T00:00:00",
          "2020-03-07T00:00:00",
          "2020-03-08T00:00:00",
          "2020-03-09T00:00:00",
          "2020-03-10T00:00:00",
          "2020-03-11T00:00:00",
          "2020-03-12T00:00:00",
          "2020-03-13T00:00:00",
          "2020-03-14T00:00:00",
          "2020-03-15T00:00:00",
          "2020-03-16T00:00:00",
          "2020-03-17T00:00:00",
          "2020-03-18T00:00:00",
          "2020-03-19T00:00:00",
          "2020-03-20T00:00:00",
          "2020-03-21T00:00:00",
          "2020-03-22T00:00:00",
          "2020-03-23T00:00:00",
          "2020-03-24T00:00:00",
          "2020-03-25T00:00:00",
          "2020-03-26T00:00:00",
          "2020-03-27T00:00:00",
          "2020-03-28T00:00:00",
          "2020-03-29T00:00:00",
          "2020-03-30T00:00:00",
          "2020-03-31T00:00:00",
          "2020-04-01T00:00:00",
          "2020-04-02T00:00:00",
          "2020-04-03T00:00:00",
          "2020-04-04T00:00:00",
          "2020-04-05T00:00:00",
          "2020-04-06T00:00:00",
          "2020-04-07T00:00:00",
          "2020-04-08T00:00:00",
          "2020-04-09T00:00:00",
          "2020-04-10T00:00:00",
          "2020-04-11T00:00:00",
          "2020-04-12T00:00:00",
          "2020-04-13T00:00:00",
          "2020-04-14T00:00:00",
          "2020-04-15T00:00:00",
          "2020-04-16T00:00:00",
          "2020-04-17T00:00:00",
          "2020-04-18T00:00:00",
          "2020-04-19T00:00:00",
          "2020-04-20T00:00:00",
          "2020-04-21T00:00:00",
          "2020-04-22T00:00:00"
         ],
         "xaxis": "x",
         "y": [
          -1.5967447084111952,
          -1.8823087292883944,
          -0.1928228559981306,
          -0.5372251222738387,
          -0.4460635183004751,
          -1.1170398803170698,
          -0.8641527921741394,
          -0.7362897222111573,
          -1.3422695729055645,
          -0.3903216705909068,
          -1.152474893195047,
          -0.5460802703677932,
          -0.4984043574710091,
          2.5951557093425603,
          -1.160556988886868,
          0.0845662079393794,
          -1.9333386743538463,
          -0.2241714875190516,
          -0.4424499561181119,
          null,
          -0.5281782039742131,
          0.1500790072122214,
          -1.4348876519984126,
          -0.4295922610871017,
          -0.4928762046390451,
          -0.5980710212518046,
          -1.947800189999085,
          1.08427836186349,
          -0.2609544612657666,
          -0.7334764652904842,
          -0.0542821730913491,
          -0.7280855579600821,
          0.4423514917959913,
          null,
          0.205089390539296,
          -0.2369692978315414,
          -0.7554704525382558,
          -0.4756521225707226,
          -0.11988878163978,
          0.0624809747466979,
          -1.4113378952336002,
          -1.6535117151855356,
          -0.22859973884767,
          -0.8158580188496427,
          -1.260474029403626,
          -0.9899755918794836,
          -0.9524761850761372,
          -1.6099473415083445,
          2.2841618806084973,
          -2.0253169758744454,
          -3.0201843147627456,
          -2.723073142777748,
          -1.6240487134991697,
          -0.5896995668558106,
          -0.3826530612244899,
          -1.5178719866999175,
          -0.9923076109793164,
          0.7132538076914208,
          -1.4001083717975156,
          -1.6598072488972726,
          -2.6029549252951854,
          -1.0153394264553957,
          -0.9237294386996528,
          -1.2294568678470248,
          -1.6401666417685132,
          -2.2331876583746784,
          -1.7763151110380393,
          0.3749152120280886,
          0.4664156065682785,
          -1.0574725297630698,
          -1.1341475596173487,
          0.9058944958298294,
          0.1603225135334298,
          -3.1984132954189985,
          -2.8284329892344284,
          -2.5278488321695343,
          -1.0539278763170692,
          -1.8656584192607208,
          -0.8014380370107379,
          0.4227270610660073,
          -2.6574486019689627,
          -3.2658626391108467,
          -2.1681377202094003,
          -3.1145044097560715,
          0.1388157072285563,
          -1.3297367429256328,
          -0.6578523332923867,
          -0.3179421597840367,
          -1.0271493843557051,
          1.1777190247273217,
          -1.5602843359021576,
          -0.8203977444129464,
          -0.3895095459717952,
          -0.0350567295093556,
          0.5400608950774689,
          0.6074801596047371,
          -1.73620196807603,
          -0.3594481981449893,
          -0.9636042793614218,
          -0.3175723251542531,
          -0.2321520076075071,
          -1.839430586445384,
          -0.997943426776394,
          -2.7936941381426426,
          -3.8293249662548297,
          -4.227050059651707,
          -3.2324439554490585,
          -1.168541860143638,
          -1.4463379124050926,
          -2.0261723812646384,
          -0.9303610524969947,
          -2.709237069299306,
          -0.9298539068819232,
          -0.6779163251984105,
          -0.8109740036205823,
          0.0009841810406655,
          0.3535116219398936,
          -1.1934160089969832,
          -2.130631568187149,
          -1.8205255300963523,
          -1.7934442385104743,
          -1.1111822085590335,
          -1.415245849652793,
          -1.5779225406453343,
          -3.0643817565790203,
          -2.2149914407333275,
          -2.964235307572737,
          -0.7808581260048031,
          -0.4620655681725546,
          -0.7791960335257261,
          -2.9960224536457725,
          -2.328177107723572,
          -2.536418987867181,
          -2.7737690845678795,
          -2.364106696059824,
          -0.8955306243381526,
          -0.2584894904010218,
          0.1078524105579257,
          -1.7369501151391735,
          0.4546772602773818,
          -0.6268919954449745,
          -0.6206135182314565,
          -2.7339708137237326,
          -0.3782536802657218,
          -0.7558003636626566,
          -1.2146636730112217,
          -0.5071510684733463,
          -1.1534496193040091,
          -1.1232622946600617,
          0.0526637323847797,
          -0.4256404374513809,
          -0.6232198540453405,
          -3.3876979932890423,
          0.9866898148148148,
          0.4315940261629924,
          -1.0741209844332271,
          -0.027465613623498,
          -0.7747322044033413,
          -0.8423751591251892,
          -1.5729402291204426,
          -1.2987247965978903,
          -0.8428066522564325,
          -0.6063221941706003,
          -0.3785086905192629,
          -0.9673400242557404,
          -1.1843197296142325,
          0.6335821973068442,
          -0.2117104391548617,
          -0.956761408042876,
          -0.1404486348083303,
          -0.2231723961111334,
          -0.8442244591456164,
          -1.04691995886792,
          -0.6340697030226509,
          -0.5807244071671247,
          0.5932968707082447,
          0.2361124777681685,
          0.1317509179386538,
          0.4876711979982372,
          0.4235384180863493,
          -2.29438681660301,
          -1.0172981365248073,
          1.3386656900915967,
          1.1108805653280145,
          -0.3853557804181808,
          0.393319340281179,
          -2.6017990663560853,
          0.1474453809156352,
          -0.9180356849828364,
          -0.1363892206058761,
          -1.8663608809758243,
          -0.9291083187968608,
          -0.7786455045018721,
          0.2270706797418954,
          0.2033934622549746,
          1.9265684242390992,
          -0.0817158938158246,
          0.11577713686239,
          -0.9411946666589086,
          -0.9714635509476536,
          0.1048658363630931,
          0.5269079568245602,
          -0.3661803924737978,
          -0.1410778725125858,
          -0.553238340851833,
          -1.3559284890333538,
          -0.3374582019710448,
          -0.4861682489771989,
          0.1344949037858517,
          -1.1555771227476084,
          0.1906934967829833,
          -0.7870871855762832,
          0.1173177206388324,
          -0.3142834218360497,
          0.2103890713931617,
          1.5880900487711052,
          1.557769689849248,
          0.261885291265992,
          0.7375770022485499,
          -0.5926126909123586,
          -0.4226463205685819,
          -0.2289843851873165,
          0.8956841245876053,
          0.8969119902978522,
          -0.5992737983424017,
          -1.8017444659369544,
          -1.2451741470467868,
          0.5700052402739707,
          0.0523906684904347,
          -0.3896989705934889,
          -0.2839669212092791,
          -0.3910236819033341,
          -1.9933224393792908,
          -1.1923519726202607,
          0.0650971160249945,
          -0.0935149955952958,
          -0.0463595696684167,
          -0.1741020541379235,
          -1.14143408606294,
          -0.9240672855837172,
          -2.001428564985997,
          -3.2617655796787783,
          -1.244634061204845,
          -0.7688055189140259,
          0.3058103975535169,
          -2.4763248546665384,
          -0.1654569264154451,
          -0.7977927791336988,
          -1.7658787639198663,
          -1.7707438497084114,
          0.4978656742246939,
          0.7577905443172335,
          -1.92860909748038,
          -1.674601128766655,
          -0.5432420710780537,
          -1.1745517348671677,
          -0.8402205088684601,
          -0.1380242175455696,
          -0.7413962215084688,
          -0.0461462884274129,
          -0.2915558986378225,
          -0.5889493707138728,
          -0.2120517978783282,
          -1.3365513571346486,
          -0.93160124847774,
          -2.025037955108135,
          0.080023050509314,
          -0.3224281802741874,
          -0.872924238113937,
          -0.4428222947054559,
          -1.0501193609100556,
          -0.8523736501486581,
          -0.3526871723639558,
          -0.1109788391534872,
          -0.977286520125808,
          -0.7551457636570463,
          -0.6343537906263622,
          -0.9039279992082028,
          -0.5684797378253797,
          -0.9889185563461828,
          -0.0809769589367642,
          0.1037767222692754,
          -0.931399307029748,
          -0.420438143105996,
          -0.9861330310345596,
          1.186376770261483,
          0.5897979336344492,
          -0.4623331573905823,
          -0.9954187012763712,
          -0.194301561512554,
          -1.6326234971045734,
          -1.470984657412204,
          -1.875713697408542,
          -0.0658545232047741,
          -0.6842774922107325,
          -0.5657910205694768,
          -0.8187634135523231,
          null,
          null,
          null,
          -0.5941662837544874,
          -1.2591197685817566,
          -0.5270156077226598,
          0.0927254742745909,
          -0.1610467808589762,
          -1.8243398054698483,
          -3.0814627448257013,
          -2.131820015199234,
          -1.973268830643244,
          0.2354769391330904,
          -2.8679004333744658,
          -0.1865939194473808,
          -0.9770072351459398,
          -0.5304756866276952,
          -3.480153564455456,
          -0.6942417310882599,
          -0.373062940898702,
          -1.0880181835386378,
          -0.9459875654708813,
          -0.7160309333607224,
          0.2464912587752695,
          -0.1240252100196661,
          -0.3293398781382841,
          0.9818482758969412,
          -1.185635315611123,
          0.8177831704730242,
          -0.2333466270460724,
          -2.0984418670778133,
          0.2809074783371001,
          -0.6855106053233447,
          -1.8777774477777864,
          -2.326065233309764,
          -2.12157024362428,
          -1.1723713583414432,
          -1.0197985259549254,
          -0.6931608971484883,
          -0.0836264664658028,
          -0.1523180505212296,
          0.300558302961504,
          0.8020596091352357,
          -0.4904126670666501,
          -0.4920028836443346,
          0.3573949189109727,
          -0.8036384182706958,
          -0.5137644999531848,
          -0.0606472764500902,
          -1.044360595775886,
          -1.6857519297703558,
          -1.4116764830230546,
          -1.238403478708926,
          -0.6889225992840862,
          0.2235975664729981,
          null,
          0.0012321456488253,
          -1.1966514140531084,
          -1.8095199666962165,
          -0.4333955234366963,
          -1.4861890371771966,
          -1.3371249377936305,
          -0.5137372764660568,
          -0.1021599346073722,
          -0.9981097922255308,
          -0.2716164079901557,
          -1.6282368527283269,
          -1.86682742893466,
          -1.272886086179732,
          -0.2752835821151766,
          0.225098810578332,
          -0.6521141932206653,
          1.1296142571527918,
          -1.4126602905470202,
          0.3463517437214362,
          1.519859354287136,
          -2.406096231255133,
          -0.8065029797406399,
          -2.4617254034880385,
          -0.9018777273743004,
          -2.417431024448353,
          -0.9345487375219672,
          -1.0557841399135794,
          -1.0648057039945675,
          -1.1742472924245422,
          -0.8277456887205501,
          -0.872732227906583,
          0.4253651814488314,
          -2.0728350281963364,
          -1.180888417132348,
          -0.290859985439914,
          -0.953845707636132,
          -0.8692573682179873,
          -0.6162568446246363,
          0.3296750360394477,
          -1.564644950001787,
          -2.0724184811060686,
          -1.856581668555132,
          -0.9083915552319506,
          -2.5548605260896804,
          -2.9277781729061614,
          -1.4196412238530174,
          -0.8743162425182113,
          -1.2495007888393197,
          -1.221018167920875,
          -1.2759947990990572,
          0.4601100958540102,
          1.3529541487859325,
          0.2479259196754894,
          -1.289915651503054,
          -0.5220445862439651,
          -0.0943047089812646,
          -0.5882894877207576,
          -2.4939444258929444,
          -2.0845204912901694,
          -3.4715710719719444,
          -1.5957225902394876,
          -0.2899829080214913,
          -0.3589340611671555,
          -1.4887391391257565,
          -1.7362878524599072,
          -4.321916640831589,
          -2.599880649715097,
          -0.4890653630730654,
          -0.6386755762522623,
          0.2923008576483209,
          -0.9055885545146158,
          -0.5119041907766564,
          -0.4253196159230856,
          0.2540747432877713,
          0.8380763048609531,
          -0.9035199893673392,
          -2.052530225038031,
          -0.4965283461629743,
          -0.6071355892511074,
          -1.259260230272406,
          -1.4585020243669085,
          -0.4408506239581842,
          -1.6769054356052318,
          -1.6551745114179843,
          -2.565282199631449,
          -1.189006102181679,
          -1.663268188121524,
          -0.9315155764486094,
          -1.4514596418981818,
          -2.044103576112569,
          -0.8139451850905065,
          -0.2636684579566592,
          -0.7947262514754277,
          0.1765217907569522,
          -0.4328963890269,
          -0.1680591679247093,
          -1.2234149692105605,
          -0.3020936613628411,
          0.0826216512558577,
          -0.8769033061094557,
          -0.5136810161984381,
          1.5320042972965715,
          -0.7331985725986678,
          -1.1833538234892311,
          -0.3175667517638037,
          -1.9299576221321453,
          -0.856221652532494,
          -2.193785429718813,
          -2.0146553839925856,
          -0.6585237671547418,
          -1.1375662344299904,
          -1.1630888974965925,
          -1.0812026797993208,
          -1.5006423377900608,
          -1.3641334355101529,
          -1.5094239677868295,
          -2.137573107524818,
          -0.7917780872217931,
          -0.345020930941305,
          -0.0904380691925995,
          -0.2847051994349001,
          -0.1971186403712625,
          -0.2064330161061018,
          -0.6713947181334777,
          -0.3033673775338514,
          -0.6116677757227295,
          -0.5923121874175462,
          -0.3214239927163132,
          -0.4646161642940886,
          0.1736428219543099,
          -0.7227368234677798,
          -2.8667024916588213,
          -1.2904424110656396,
          -0.6068563521627136,
          0.5464936811641523,
          -2.0208541588719267,
          -1.1390869875009009,
          0.4363946102593354,
          -0.4724572084443736,
          -3.1184614384591365,
          -1.07807677888328,
          -1.9482677170255929,
          -2.1208332402224315,
          -1.3137142706784428,
          -0.0209575996048072,
          0.2499252229488089,
          -0.6221090486958741,
          -0.9914482686804694,
          -0.6659189853953356,
          -1.0869622810361224,
          1.3109414900354637,
          0.4721210547932271,
          -0.8323708523761818,
          0.1372819798304081,
          -0.8135357993425679,
          -1.4611762194761957,
          -0.945648166098834,
          -1.5272508919098728,
          -0.2851620517766987,
          -1.1126661968179308,
          -2.140470304375862,
          -1.569787878336386,
          1.4578265740439362,
          0.6311914439397701,
          0.6452526839602649,
          -0.6478870771872299,
          -1.5021752255658969,
          -0.4109073049307364,
          -0.1343716342464385,
          -1.5616391642413494,
          0.0031713511669646,
          -0.4303344427855208,
          -0.6282712613497304,
          0.0026420531892857,
          -0.1591496167866983,
          -0.2730343241633578,
          -0.8033027116758549,
          -0.1654104282932155,
          -0.1500011799985823,
          0.4055642758015406,
          -1.3480108016156287,
          -0.5132698224172121,
          -0.002851129187312,
          0.3908580534477681,
          0.5076315720800598,
          0.6216633054190234,
          -0.6306823031667186,
          -0.943075603378802,
          -0.6534800463237173,
          -1.1864814219180886,
          -2.0122296849805577,
          -1.2292493942835907,
          -2.3774816302234307,
          -1.8713930256341615,
          -2.058337731538518,
          -2.3949211038554563,
          -0.8475393302176928,
          -0.3082551444930327,
          -0.8855522140458353,
          -1.546337506538835,
          -1.181486725960719,
          -1.1423124651272245,
          -0.3559201229212859,
          -1.0581356127014383,
          -1.137811316815196,
          -0.91718213647252,
          0.0039912570600676,
          -1.6741302730424457,
          -0.3525998001911247,
          -1.2220878570274738,
          -0.8446481700079336,
          -1.3098744438639482,
          -1.0425995806433954,
          -2.076117056511322,
          -1.0650172326414329,
          -0.7921605135398366,
          -0.505841309364271,
          0.7501234285762501,
          -0.3402050964756525,
          -0.389889235880907,
          0.4787828588049873,
          1.6149382116494766,
          0.5476592541107737,
          -0.0451395616038308,
          1.1982197916573871,
          0.5775539476187421,
          0.2755960484641634,
          0.2020748399786107,
          -1.8180558697278464,
          -2.3833343640351563,
          -1.0909037164870068,
          -1.3680913067462277,
          -0.3983355775290255,
          -0.5118835703556358,
          -0.3393305093791321,
          -1.151338775960229,
          -0.9846167296492528,
          -1.0671863089550615,
          -0.2663498181957199,
          -0.1847514353985276,
          -0.6420708542071049,
          0.611276547109134,
          -0.0343166756428477,
          -1.101399653545282,
          -0.5775838843160065,
          0.3817626269662121,
          -0.2365413344297171,
          -0.801214345460834,
          0.8385829990759563,
          -1.049236356181922,
          0.7762058180539632,
          -1.6762216856366012,
          -1.2214150052297472,
          -0.5557422425395252,
          0.5464480874316939,
          -0.4526709360146838,
          -1.8958778486961536,
          -1.8550914184529208,
          0.3821659443833583,
          -0.7794841594514555,
          -2.7809365971585107,
          -2.9019282304918503,
          0.2487105916197432,
          -0.4874465313275148,
          -1.0566498726262292,
          -1.44081686185783,
          -0.6247477818216566,
          0.2462910809984778,
          -2.715095428440977,
          0.4997295853586874,
          -1.2074493811553493,
          -1.4931589192567587,
          -0.8161846451511893,
          -0.2079493701400163,
          -0.6719129479143023,
          1.6263808612928945,
          0.1977619993327208,
          -0.4961200707657107,
          -1.420882911193727,
          -0.3048258291682502,
          -2.221791131919754,
          -1.2179951595886138,
          -2.3187618250802773,
          -1.6614567952954904,
          -0.5900440213936401,
          -2.028103970779957,
          -0.1078116963807887,
          -0.024757109234504,
          -0.4360411584342849,
          -2.2697764001752634,
          -0.0237648661582713,
          0.7270113591058267,
          -0.8614783980135473,
          -1.40645159488231,
          -0.9741739788687162,
          -1.4919969823074553,
          -2.968938886179008,
          -0.493172094848781,
          -0.4699715705700047,
          -0.4117778935893224,
          -0.973364732966386,
          -0.2851266192895507,
          -0.8950247112901952,
          -0.9610952953297776,
          0.7339497153488408,
          0.3089522625686761,
          0.125356682026738,
          0.2103597069600576,
          1.1326737023993445,
          -0.0490235622873314,
          -0.4658304996660163,
          0.5700529386719032,
          1.0504316994765412,
          0.2331157265537076,
          0.143300253955551,
          0.7485487897376012,
          0.7429575599807087,
          -1.2108147978229609,
          -1.1995206788973107,
          -1.1523172825602412,
          -1.136870505462504,
          -0.7125442003193058,
          0.5851811982702925,
          0.154571277730788,
          -0.0755964164841074,
          0.5891799328812961,
          -0.9809641481275696,
          0.8362558851234435,
          -0.7981690805056848,
          -0.3269250729934589,
          -0.7331103176978446,
          -0.8229617325848597,
          -0.5388404565581084,
          0.2300657974566007,
          0.5131159525152634,
          -0.6366451619950674,
          -0.1508292850896487,
          -0.8098608007682957,
          -0.8489553460713464,
          -0.3839402500178433,
          0.2753636022246077,
          -0.3813593037478135,
          -0.1311150539282697,
          -0.9273507864597964,
          -0.2532917109294881,
          -0.3676698297823174,
          -0.1517813473678215,
          -0.1230021221327735,
          -0.4282247119584041,
          -1.5592323470756615,
          -0.4412330942652719,
          -0.5703422683733675,
          -0.3999575260298161,
          -0.4102247001279785,
          -0.1140862728133313,
          -0.3604993055745858,
          -0.2461024498058755,
          -0.9183885563871482,
          -0.6513348851844236,
          -0.1652384692639296,
          -1.0648440925479743,
          -0.4685945863110689,
          -0.7110987272942344,
          -0.9286573687376132,
          -0.7218205514995221,
          -0.5874183532675628,
          -0.1919762277713451,
          0.4919994496743999,
          0.3402385687300679,
          0.3782064259279293,
          0.0643415524001254,
          -0.0008700667803973,
          0.3213984988495645,
          0.399639980593932,
          -1.3663730697527152,
          -1.0209304136430943,
          -0.7850840751012275,
          0.0811364763604372,
          -0.2541896539961427,
          -0.2857760123167483,
          0.7551667621548316,
          0.1009092128253862,
          -0.0011015983753059,
          0.3437557737288492,
          -0.190475405656658,
          -0.1271100614533005,
          -0.5382312343930125,
          -0.4338604796466826,
          -0.2003385923053004,
          0.068514993830564,
          -0.2927114092928232,
          -0.562350672929028,
          -0.1971406680875947,
          -0.0416077517027142,
          0.449136354504036,
          0.7082699141196274,
          0.119299845169393,
          0.3169072970603074,
          0.1748040172321909,
          -0.3048000439626178,
          -0.2641133816500453,
          0.0435419055041969,
          1.3086497084257995,
          0.0693757659897569,
          0.4316599952116755,
          0.1501421159684993,
          -0.2539389923960488,
          -0.7291976388386354,
          -0.3794708812013746,
          0.2716010320023285,
          0.587629916222474,
          -0.6987324935453374,
          0.8199748293262852,
          -0.2827611947101139,
          -0.8442271684261377,
          -0.0891976896821175,
          -0.4220897841382182,
          -0.2079264724362146,
          -0.4014226380927603,
          -0.1018196227840816,
          -0.7284217410952556,
          0.110359178830019,
          -0.7922745977510203,
          0.4573941322421126,
          0.1218828895739422,
          -1.1563492873761203,
          -0.4810258142249214,
          -0.1181645853404276,
          -0.0329834536227835,
          -1.1827739195190186,
          -1.1602687778239331,
          -0.165441848058493,
          -0.7685165839831646,
          -0.6262790534440407,
          -0.0344931918941996,
          -1.0829815474558853,
          0.108447221266928,
          0.4639287514689048,
          0.5820019093920576,
          -0.7523764241041491,
          -0.6579762424952728,
          0.2240850941937177,
          0.1767118424194136,
          0.3155776462345961,
          0.1470354679388282,
          -0.0538479277415968,
          0.2322222476245725,
          0.1470158740259187,
          0.038129534942004,
          0.3239774975761316,
          0.3848161938914117,
          0.4339931114481393,
          0.3514019084950457,
          0.1505601153272585,
          -0.8275676596111045,
          -0.208832097121308,
          -0.3231756746026082,
          0.5275187333248849,
          1.1132888303104391,
          -0.2546203675402894,
          -0.0384472783820155,
          -0.7437687713639769,
          -0.1048558072631329,
          -0.0697388065597946,
          0.9347947414389266,
          0.7165888600214533,
          0.6426669616081971,
          -0.2906707284351876,
          0.1343922548243629,
          -0.7860507111361504,
          -0.1798917941809965,
          0.355269607700149,
          -1.337732529146109,
          0.7140454441189563,
          -0.1586403280206057,
          -0.3587105976988071,
          -1.1612956079790622,
          -0.8538726137354471,
          0.0620834549853729,
          0.6933973104518592,
          0.8282560284288321,
          -0.3653336985292103,
          0.243059160802134,
          -0.5413839829536881,
          -0.0690989305346494,
          0.7588087698178023,
          0.1452403401727359,
          0.5355668345098663,
          0.2507212728233763,
          -0.9270634261435664,
          -0.4114650110214248,
          -0.7610546736188513,
          -0.2445421015206481,
          0.7856096907227041,
          0.0344660713088828,
          0.2187188984761403,
          0.3150470707365403,
          0.0613672978221317,
          -0.0315412805517094,
          -0.6548331577761272,
          0.4782462083106542,
          0.1771226746338127,
          -0.2823117350156194,
          -0.4051308763444682,
          0.1614743548253734,
          -0.549914284397446,
          -0.5551436384452618,
          -0.2641026628644552,
          -0.2727881525539357,
          0.0733148154409975,
          -1.5865070749256744,
          -0.0989067730079514,
          -0.0804114845887985,
          -0.8142250209289819,
          0.0758295675298242,
          -0.3592824249156901,
          0.4789231217238917,
          0.0268810225611571,
          -0.180731109347645,
          -0.8292685408552494,
          -1.0228628774353117,
          0.2795299701999878,
          -1.2907161401312792,
          -1.2742606524776257,
          -0.6726846602748674,
          -0.3538956235259506,
          0.4376623654050999,
          -0.2736901533473604,
          0.3783774779410245,
          -0.4071700908333008,
          0.3895710571969394,
          0.0211914315799301,
          -0.8385370170168157,
          -0.4352607358447246,
          -0.2735152343183125,
          0.3304028513266649,
          0.0220531220396263,
          0.1732691247624925,
          0.5893611622122572,
          -0.1295205531245713,
          -0.7266928233255079,
          0.0909598013518917,
          0.2479075672530125,
          0.2185233109750112,
          -0.4186749695416789,
          0.0823560956048423,
          -0.2297564308646673,
          -1.201237807609197,
          -0.8961690038970733,
          -1.4733784537826264,
          -1.3936779066545082,
          -1.3875046883433395,
          -0.6422867701494809,
          -0.446369175665163,
          -1.091977071009515,
          -0.4371946466951509,
          0.8802965601396987,
          -0.130238034487774,
          -0.4558088672568914,
          -0.1463490978169274,
          -0.541996610853578,
          0.1409797992155416,
          1.5100782860467818,
          0.8855904273750607,
          -0.2088681711223164,
          -0.2332616619301105,
          -0.0262623346479648,
          0.2910380550919625,
          -1.1157400138465758,
          -0.3147905677371395,
          -0.6247850393521363,
          -0.3821959594327973,
          -0.101742308928806,
          -0.9405664356964232,
          -0.8012868155417631,
          -0.6223525715224116,
          -0.631964478492547,
          -0.911340349356242,
          -1.1869660747230182,
          0.2696625428657687,
          -0.8014708634698431,
          0.5327168837734729,
          0.3316140314760432,
          0.2854146508486642,
          0.2913648925092902,
          0.061753355857803,
          -0.1153272867730662,
          -0.2837858999040134,
          -0.1134368257494592,
          -0.4860173840983721,
          -0.0291315110597248,
          0.5165245689321405,
          -0.0933740710177117,
          -0.1551961635273421,
          -0.3959074180734892,
          0.2387128326877421,
          0.4142124352499778,
          0.1115704978769064,
          0.4088200555740581,
          -0.4882110708263824,
          0.2545272896920715,
          0.0721741929335135,
          0.108943593097753,
          -0.7478379163805954,
          -1.0927273335088326,
          -0.5286405808093274,
          0.4023645579857213,
          -0.1128332860905258,
          -0.6875901826714228,
          -0.5984496327344797,
          -0.4322357844184467,
          -0.6536775312353357,
          -0.1915684786326967,
          0.1582786753010884,
          -0.5423914211020943,
          -0.1048740312601221,
          0.5290742972644411,
          0.5361708787171711,
          0.0147238921609045,
          -0.0098786085036886,
          -0.1828844749667184,
          -1.2105870314300446,
          -0.7797112515129615,
          -0.4353483734300872,
          -0.3307420007361246,
          -0.4727769046426676,
          0.4281267686414739,
          0.070890806526285,
          0.8472225838988827,
          -0.659873655995438,
          0.3682051147150516,
          0.0729020220204404,
          -0.5920912891146123,
          -0.4304253360379536,
          -0.9472638963260688,
          -0.703633782025765,
          -1.8010479978325624,
          -1.4408599485982132,
          -0.7039302955164725,
          -0.3249885808270469,
          -1.0988323505649071,
          -1.0369852807147222,
          -1.552281834767922,
          0.1102591696756983,
          -1.0144930014284754,
          0.2798013888245012,
          0.4043052960804717,
          -2.1411954582709054,
          0.3153298223413998,
          -1.023292647156556,
          -1.0753472472511076,
          -1.2495994297572612,
          -0.9682996451065012,
          -1.7141200342845002,
          -1.1271081589399654,
          -0.9465255320801378,
          -0.1763996022180398,
          -1.3172604330871398,
          -1.5052866500290738,
          -1.000479094713624,
          -1.0910482692425634,
          -1.2306166403196994,
          -0.4418821531599332,
          -0.0332126410430092,
          -0.5114964972985747,
          -0.2747569461382986,
          -0.6140059515848973,
          -1.1028884555380358,
          -1.4186240950278155,
          -0.7309404887505653,
          -0.6335748919404828,
          -0.856022475550942,
          -0.5046060120251632,
          -1.4567663061291227,
          -0.4619030478002336,
          -0.1804434652005239,
          -0.8032677119392974,
          -0.6111793570791094,
          -1.4205565415508503,
          -1.8988899043094112,
          -1.66484108245425,
          -0.5908508327312636,
          -1.1073964898032906,
          -0.6372764375354258,
          -0.9224120404929208,
          -0.5838382233168209,
          -1.5866599398698624,
          -1.6417245661907844,
          -2.721534157433216,
          -2.159343267255829,
          -1.984711302472868,
          -1.410704154792917,
          -0.2289882487821577,
          0.5133427787640288,
          -1.387439608214616,
          -0.9193426581211056,
          -0.0711009638909584,
          -2.0468086695487018,
          -1.0261057256719956,
          -2.633255773204826,
          -2.1294725872374567,
          -2.284468962746005,
          -1.7183218662496391,
          -2.5699766089266007,
          -2.579593209070405,
          -2.404849338507164,
          -1.8470100801550189,
          -2.3233610129177187,
          -2.0598103424118825,
          -2.0204392034730683,
          -1.989881364162846,
          -1.6298213125479777,
          -1.909980265517559,
          -1.8461878538040644,
          -1.3830462367484486,
          -2.1557867999560014,
          -2.7404830044497817,
          -1.763008272988012,
          -2.4691631702386663,
          -2.1791363480862453,
          -1.8681022316077929,
          -0.2318389725768839,
          -2.0898987478210804,
          -0.2836218681310202,
          -0.7862373735990386,
          -1.001037971011633,
          -1.4282611217944614,
          -1.5307053100535806,
          -0.6591179545884799,
          -0.7951845246197947,
          -1.5692276144598618,
          -0.8034656261874434,
          -1.6052642575408131,
          -1.9326770907742368,
          -1.3556666538075537,
          -0.6041109646164271,
          -0.9064034819052248,
          -1.086867446461086,
          -0.7161612743258275,
          -1.541968815246748,
          -1.92201340415784,
          -1.263635202734246,
          -1.431210787439671,
          -1.3915945563500554,
          -2.5572251186857624,
          -1.1404058148301266,
          -0.6744912613634254,
          -0.1219534045641316,
          -0.8748532504774513,
          -1.6886005601245746,
          -0.8906672041971828,
          -0.8251087371446958,
          -0.7613930829014688,
          -1.164272796966012,
          -1.2850276686891735,
          -0.8147240752202958,
          -1.4058435040261077,
          -0.9446465393300142,
          -1.7154405525268508,
          -2.9529111634471006,
          -2.167064608922528,
          -1.561875825898796,
          -1.3002218162667092,
          -0.7341574397710043,
          -1.4823277713991057,
          -1.3417375885838072,
          -0.2949232122636405,
          -0.8186825578084322,
          -0.66848652872737,
          -1.8082156071684403,
          -1.4328377763287106,
          -1.5760550366437744,
          -1.2095931900529873,
          -1.4595641018336425,
          -0.3656782530696572,
          -0.9131921595211352,
          -2.1397513522564857,
          -0.5962353059859324,
          -1.8371745374746469,
          -1.230632657251773,
          -0.2680883917363843,
          -0.0606509272533016,
          -0.543763301863542,
          -0.0332795468614963,
          -1.4041216183158691,
          -0.7349943730060859,
          -0.8926036651062689,
          -1.4552186421186648,
          -0.8535922432423746,
          -0.7497898028534962,
          -0.7154622591066345,
          -0.7786990041211462,
          -0.5919842341882907,
          0.396550554973844,
          0.2738049063046053,
          -0.6141975741888513,
          -0.8437700951343787,
          -0.8450306612127885,
          -0.6184156738103893,
          -1.07310524785287,
          -1.2927966228387664,
          -1.5706220043127168,
          -0.1563480785673865,
          -0.1874135869538212,
          -0.7987846977102077,
          -0.2264125575438617,
          -0.6636856348741467,
          -2.070578035809308,
          -0.1495308948878973,
          -0.2762104848625986,
          -0.5540074590634433,
          -0.2688242093718954,
          -0.4528944387812204,
          -0.3755752251012068,
          -0.3641839882707568,
          0.2408909800900121,
          0.0358701965399856,
          -0.1104557753762541,
          -0.3830148642123775,
          -0.913082540676568,
          -1.1419072604894378,
          -2.0220820780870192,
          -1.5712699591007375,
          0.0646106228196546,
          -1.182950948853875,
          -0.9765568188758138,
          -1.0676849201313976,
          -1.0827243682603664,
          -1.5897435561410462,
          -1.0302718301573155,
          -0.6506148770089777,
          -0.76371432869029,
          -0.1729970690040947,
          -0.6771981960846221,
          -0.9273740430454086,
          -1.3422911870522152,
          -1.7420694301838466,
          -2.27827954923178,
          -0.0450081945614712,
          -0.5488579676254441,
          0.4332737408470955,
          -1.3838235998660549,
          -1.2209035280642762,
          -1.3119295786969938,
          -0.9403203014376532,
          -0.1758065924988202,
          -0.2516777482123031,
          -1.16179950498131,
          -0.982410260368066,
          -0.6127155484060312,
          -0.99291455494328,
          -0.0619992739725832,
          0.5708016103619675,
          -0.8631271320540582,
          0.3275778918394438,
          -0.1629564281140507,
          -0.5884875235017974,
          -2.664705457413869,
          -0.9198774156163836,
          -0.1879297443646649,
          -0.2434639927839322,
          -0.0881367757871131,
          -0.586942838562428,
          -2.0043273421999466,
          -1.4204085977024647,
          -1.0030249769164337,
          -0.1426143819535005,
          -0.2435909347086712,
          -0.0957071346728302,
          -0.965809978208329,
          0.2527887172305804,
          0.3126735359891646,
          0.3707281250745614,
          -0.2960530320232391,
          -0.7089349298324527,
          -0.4493935913965129,
          -0.0392075736914654,
          0.579533082510559,
          -0.6229429191407361,
          -0.4213984526863058,
          -0.3009555562219774,
          -0.0622968102705403,
          -0.3010085994011439,
          0.0411668238334655,
          0.6655232895568908,
          -0.8031923168963232,
          -0.6007432130649442,
          -0.5341052679467644,
          -0.9613370519907882,
          -2.7741583384732915,
          -1.7988375754519037,
          -1.4617222602672495,
          -1.6385248391441516,
          -0.9493275187252986,
          -1.8359481345751147,
          -2.3991637956493057,
          -1.6461920401523835,
          -1.2707285951691225,
          -1.2788460101077637,
          -2.459441907342258,
          -2.0592681218302795,
          -0.7955611488860806,
          -1.3578297685071383,
          -0.5710212371499296,
          -1.1643079306909645,
          -1.5955734548052074,
          -1.0792138712264658,
          -0.8561133587480019,
          -0.7464612414052927,
          -1.0598056609221658,
          -1.3210623475460357,
          -1.5040580432421202,
          -1.1585182140421957,
          -0.5762131953493224,
          -1.125083679944325,
          0.0654686490344836,
          -1.0591208174717042,
          -0.6419493214468478,
          -0.4764607094770332,
          -0.4233479031079569,
          -0.7925689671897371,
          -0.5460040995680764,
          -0.3839249229373451,
          0.4245239451011096,
          -0.3622632040815256,
          -0.6438491450938059,
          -2.441121197518445,
          -0.8136648543553013,
          -0.4415888870523869,
          -0.746621732625855,
          -1.2714124403049547,
          -0.6104153996345121,
          -0.1863841374396271,
          -0.9521223208631212,
          -0.5586528963001589,
          -0.7368693328708044,
          -1.897224100170372,
          -0.6801030969638396,
          -0.6107109044790189,
          -0.3932755847574473,
          -1.3201764068505084,
          -0.1538348214546713,
          0.1112615200552221,
          0.2387097735297445,
          -1.9232232344423148,
          0.4003674961772203,
          -0.5745515847935041,
          -1.1966136912495202,
          -0.9688874092729992,
          -0.6863987565107723,
          -0.4124420854411221,
          -1.6599106004377564,
          -0.2995392177125385,
          -0.0142669563830246,
          -1.616237052637,
          -1.3963669687042612,
          -0.199711043086715,
          -0.9790969388259808,
          -0.328391491968088,
          -0.5092054912737133,
          -0.2877465214151756,
          -1.1888962375620034,
          -0.3781919742368681,
          -0.4191013230266125,
          -0.8879278081669592,
          -0.9305080400479248,
          -1.1436641875704006,
          -0.6468515734215957,
          -0.9712728594437544,
          -0.5255416049497353,
          -0.6534575177204205,
          -0.7708486907229892,
          -0.6482192943124859,
          -0.7315781359067377,
          -0.9247898405869266,
          -0.3943899425268694,
          -1.4959874790802732,
          -0.4265532182286438,
          0.265242537240974,
          -0.9993871226667778,
          -1.2099331904607344,
          0.1751572511632115,
          -0.4587456360582004,
          -0.326065770367131,
          -0.6979078104536797,
          -0.656634533397687,
          -0.7065685201198395,
          -0.7901678560268577,
          -0.4033924569195528,
          0.2356227626642213,
          -0.4242700088706893,
          0.4383124855983121,
          -0.2044701944095932,
          -0.0797130353586455,
          -0.7567438439600394,
          0.3111184430919805,
          0.6744216148794182,
          -0.8771553002867164,
          -1.0380143781260571,
          -0.6503005758627755,
          -0.6741683292479139,
          -1.0668740182281733,
          -1.0334828849799,
          -1.0307709520223507,
          -0.681641035249077,
          -1.4499115086836756,
          -0.5314954028163393,
          -0.3914028992736763,
          -1.5099796930428535,
          -1.3697084138253066,
          -1.1035651196902276,
          -0.6200837357031221,
          -0.4947331566370669,
          0.1284017647675992,
          -0.1963648806448707,
          -0.5536873293887359,
          -0.7172715892469452,
          -1.3030352520367012,
          -0.9648989925223694,
          0.0919016939496073,
          -0.3245286390507085,
          0.3054451394851708,
          -1.0915684026390582,
          -0.4483273689180974,
          -0.8280747116474035,
          -1.4816102169792784,
          -0.9334599948791849,
          -0.7515652562141413,
          -0.4373585999375876,
          -0.2853795493311856,
          -1.1069732744841458,
          -0.3553290995490121,
          -1.1665215922332517,
          -0.1950674275575778,
          -0.9816937428302728,
          -0.8503272646891736,
          -0.1897697391440133,
          -0.0438086757090558,
          -2.9473748555273183,
          -1.4823038638424433,
          -0.5718936613625122,
          -0.7674669875057575,
          -1.0286077590745786,
          -1.6136641857439589,
          0.3609344568368308,
          -0.2636622949270325,
          0.0479112783279531,
          -1.5907753721798727,
          -1.828410128751075,
          -1.0150732152712376,
          -0.5562536191043587,
          -0.8448186631006556,
          -1.3243074138064186,
          -0.720324654886369,
          -1.3642377368300724,
          -1.4836321820741374,
          -0.9703162328522764,
          -1.1589438924652484,
          -1.3655282624816156,
          -1.4022510358649096,
          -0.3281945663893614,
          0.4135790784172999,
          -0.3472941829347781,
          -0.1884361906403336,
          -0.961232649693286,
          -0.583424845415862,
          -0.7804763795607873,
          -0.9681437005088096,
          -0.5238340965196882,
          -0.655147425324248,
          -0.0726809011058895,
          -0.5798955164702312,
          -0.974175626760048,
          -0.3691972043816251,
          -1.3390187109162115,
          -0.4243320509842593,
          0.1125530543722343,
          -1.2140527471789055,
          -1.0502469005835402,
          -0.6161369551102113,
          0.1221629482544316,
          0.7430322134040859,
          -0.5928460265763228,
          -1.6696090094000229,
          -0.8551746283451968,
          -1.1616870501455303,
          -0.9493949458319844,
          -0.4245467122920055,
          -1.134587412062376,
          0.3354976245853944,
          -0.328687699413812,
          0.3872830656913466,
          -1.0190735841793572,
          -0.6859637418293876,
          0.4688075949950906,
          0.3227632701095934,
          -0.0436173059997774,
          -0.0999808478686857,
          -0.0903379738950176,
          -0.0643026089520323,
          -1.1765020801622748,
          0.0768656938202691,
          -0.8098588385172606,
          -0.6189607783154112,
          -1.079259525717273,
          -0.455777440880244,
          -0.5089660135549057,
          0.0023046462014968,
          0.0953142124331311,
          1.0570758037332642,
          -0.4802964566013186,
          -0.3129507848808289,
          -0.7141672718239837,
          -0.5705508625447681,
          -0.6591204882630952,
          -1.1834290302054775,
          0.2967690501583135,
          0.0483396011804062,
          -1.1438062461731917,
          -0.0648011218685247,
          -0.4811310522578436,
          -0.7462184001677296,
          -0.929604274077548,
          -1.591196586713801,
          0.0999443505896487,
          0.0448219265263674,
          0.0257401605379199,
          -0.0692766424600187,
          1.1222093651431209,
          -0.2962870823427649,
          0.8549529251745424,
          0.0210993152555305,
          0.9391245170510134,
          0.4818791242790405,
          -0.4751032529036215,
          -0.5957076984818662,
          -0.79082325612897,
          -0.6330778801100422,
          -0.4356542545737146,
          -0.0357849970614768,
          -0.1409579925725058,
          -0.6458939880349407,
          -0.2568608853466978,
          -1.0465041722421256,
          -1.363787013559609,
          -0.1537486373810009,
          -0.5591709801843425,
          -0.3537004854907251,
          -0.6056184576887862,
          -0.3820921936811519,
          -1.0108164948110323,
          -0.5820155117079532,
          -0.3611573504652616,
          -0.4076479708171819,
          -0.5675726331713862,
          -1.0520348911450557,
          -0.4116618024195001,
          0.4061389868198924,
          1.0493400012628278,
          0.4962693129053682,
          -0.7651533751722653,
          -0.1593313607717546,
          -0.334622142951089,
          0.2002546332622328,
          0.9285768088412206,
          0.0015492870310951,
          -0.6919590963135411,
          -0.9561202914844996,
          -1.8746959526562827,
          -0.1612762142472993,
          -0.624109005781195,
          -0.3428396670166251,
          -0.7724254196903417,
          -0.934279607500668,
          -1.7907335676608012,
          -0.8958836157822663,
          -1.1294619290817327,
          -0.6637420753185133,
          -0.2334656463686857,
          -1.424258341602912,
          -0.9632673861003536,
          -0.4824325120494194,
          -0.1710625478932086,
          -0.7082397197251143,
          -0.4632093046837991,
          -0.9839608763551642,
          -1.3508558082437243,
          -0.979823485216452,
          -0.5531643196597732,
          -0.7727944673235462,
          -0.6256040873296367,
          -0.6395105666592853,
          -0.6826654826837685,
          0.2238809684371296,
          -0.1788897850140411,
          -0.6554859716636279,
          -0.1993515184345751,
          0.3196657179878238,
          -0.2822882917089727,
          -0.7491477850655534,
          -0.4809197723739401,
          -1.0568017703628791,
          -1.483575416524166,
          -0.8155225025199748,
          -0.2649482070428565,
          -0.7831093428173291,
          -0.4093508669271345,
          -0.1260150310145434,
          0.1634773004048823,
          -0.6120087021212276,
          -0.8266465535688878,
          -0.7275121671252571,
          -0.4562043243175032,
          0.3567964499946681,
          -0.5858178312406416,
          -0.186312732566028,
          -0.4682401407971358,
          -0.5773062556056038,
          -0.6204313190652594,
          -1.214247610077316,
          -1.1724924442876998,
          -0.6403339620435979,
          -0.4145567302307393,
          -0.294287768243245,
          -0.8724908247662305,
          -0.2549551005017546,
          -0.1503738976275357,
          -1.1341447684281052,
          -0.3136467836553535,
          0.0073432288004297,
          0.0619776105485284,
          0.1486051320096759,
          -0.4180200415582592,
          0.9202967558704852,
          -0.2958046210325575,
          0.0651025429524713,
          -0.3086256262831221,
          -0.2224496770810606,
          -1.010530701520941,
          -1.1924776472392573,
          -1.0850967386690622,
          -0.5662140438705351,
          -0.6298035330689358,
          -1.727951131941067,
          -1.4002806745355962,
          -1.9920763070055407,
          -2.409828909226103,
          -1.008196003722491,
          -0.168844732869634,
          -1.2872571653335083,
          -1.8991313505300265,
          -0.4886888206497799,
          -0.5119935718917992,
          -0.5469271703574959,
          -0.9914696271341508,
          -1.0654223867265735,
          -1.6218919350210732,
          -1.3605508228037757,
          -0.1101891183553468,
          -1.147741133735325,
          -0.3615910466074721,
          -0.8172330173616852,
          -0.7227758587932269,
          -0.9633904802810248,
          -1.4219518506056703,
          -0.2181257734935972,
          -1.1931154190380882,
          -1.0879035100380068,
          -1.1903971442420649,
          -1.2526836376982309,
          -0.5240617735436105,
          -0.6562067560223372,
          -0.7525952330110968,
          -0.9715408725496985,
          -0.7347871545253521,
          -0.2799831163878142,
          -0.563439695607261,
          0.3332561414107642,
          -0.3673173630827719,
          -0.5635131954378829,
          -0.187674926324717,
          -0.6701015203701303,
          -0.3412307701319369,
          -1.0185220141191214,
          -0.0886783649098932,
          -0.1491807146269363,
          -1.0974877849362494,
          -1.1814119873704447,
          -1.8757305195462195,
          -1.476460482023907,
          -1.6951164105029268,
          0.4701868757686386,
          -1.3831080379230154,
          -1.0043577608047152,
          -1.1371221369426336,
          -1.322635464282103,
          -0.7049184760552869,
          -0.3030933993989526,
          -0.906300754582772,
          -0.2098043810017759,
          -0.4988597686707549,
          -0.4361378110750605,
          -0.2017599629678704,
          -0.4707706427030029,
          -0.7648717894339486,
          -0.2084308443066956,
          -0.488295737167952,
          -1.0340410633744743,
          0.0060459422895134,
          -0.6542017726054298,
          -1.0285002004227357,
          -0.085312750312276,
          0.3802231588744281,
          0.099356170583808,
          0.0116282569195619,
          -0.6144872357444089,
          0.0189242008445628,
          0.0393993225056348,
          -0.1319804466219398,
          -0.2342355908291521,
          0.1926879472190362,
          0.0216524123185566,
          0.1405355431454298,
          -0.5725981202698547,
          -0.194261248053067,
          -0.5915831117041647,
          -0.6514994227490568,
          -0.8090635429286405,
          -1.2964044197552251,
          -1.5737230988651445,
          -0.6123531917721714,
          -0.4355260213995596,
          -0.056837804587744,
          -0.6301633986007931,
          -1.4945932505442214,
          -0.8912029746222008,
          -0.5349285459904047,
          -0.063977448283955,
          -0.4785824066893226,
          -0.8101138072618794,
          -0.2528825591726383,
          -0.6291089092266479,
          -0.7079590705251176,
          -0.8840103564723985,
          0.3711930992128734,
          0.0272413853432931,
          0.1801531263369415,
          0.0507286509648987,
          -1.1068427475080866,
          -0.3644022430072046,
          -0.6640046189442329,
          -0.8963270494033334,
          -1.2635029058606626,
          -1.945758861022154,
          -0.3536587202848789,
          -0.5394049074229197,
          -0.676598248439352,
          -0.2831608639880287,
          -0.0276349344927202,
          -0.2371051257880319,
          -0.8164093954644137,
          0.7733310308557251,
          -0.7617900651387594,
          -0.7098473736450217,
          -0.3833162307171244,
          -0.5416437895440912,
          -0.7573236559885034,
          -0.6973765824390298,
          0.4890543239244191,
          -0.8208801441603847,
          -0.7617267277557265,
          -1.166152643118464,
          -0.6411868605704796,
          -0.8225615882235253,
          -1.5256108942621245,
          -0.227993627865513,
          -0.9009877092317534,
          -1.3015689517589288,
          -1.806101897791341,
          -1.506909113416881,
          -1.6154551190441924,
          -1.1447218292253358,
          -0.6689113162761676,
          0.1812474809978226,
          -0.2719172145098918,
          -1.3100015899679869,
          -1.554558096133556,
          -1.561938637655869,
          -1.401004538394604,
          -0.7634437347424208,
          -0.6571741146423155,
          -1.0364382490670756,
          -1.4314782735732663,
          -1.4599862754176955,
          -1.1021951517432722,
          -1.3288666114919545,
          -0.8408869294331712,
          -0.9600651965076604,
          -1.3988735448279694,
          -1.7568465890772476,
          -0.3447503674418281,
          -0.4875958696038019,
          -0.2056106147279112,
          -0.7836845585228714,
          0.5460868381726954,
          0.1439118884311603,
          -0.8565788011525255,
          -1.3877523598030466,
          -0.989259469254347,
          -0.5032637950064155,
          -0.3881744565513512,
          -0.4551576292285171,
          -1.2364876794427493,
          -0.3028163999688111,
          -0.3533860130341631,
          -0.5718898804221451,
          -1.0048263367155204,
          -0.6801021418243635,
          -0.9709621535714608,
          -0.9706181473520256,
          -0.1125214779187605,
          -0.9728313104899936,
          -1.0735310056385243,
          -1.2536389234597447,
          -0.1562759700766331,
          -0.6404034289930506,
          -0.0386043106355312,
          0.0062530631726866,
          -0.5073645010098291,
          -0.0018848016121035,
          -0.4002005449351128,
          -0.3012523094499364,
          -0.3541897890969074,
          -0.5514660976987128,
          -0.2423435760996448,
          0.1553356868556378,
          -1.0828984345182209,
          -0.9302960412486772,
          -0.5048651142136094,
          -1.0024263231198072,
          -0.0245011972838138,
          -0.0658269204443108,
          -0.0593698374316272,
          -0.7295679143912115,
          -0.6232243625418897,
          -0.0567124009754023,
          -0.160631526877581,
          0.1706522475740518,
          -0.8283243454631197,
          -0.022818071648226,
          -0.2331177005832406,
          -0.9476483218968612,
          -0.8242484021059766,
          -0.2196312774605764,
          -0.6616117076426772,
          -0.9476973871311442,
          -0.2077342733153572,
          -0.5822753679901129,
          -1.3814760429010688,
          -0.255551019932931,
          -1.1821642884175827,
          -0.9700242254406374,
          -0.8313542164250276,
          -1.2017123844338429,
          -1.0994238274616104,
          -1.076231086476796,
          -0.598104620499122,
          -0.1448194376280867,
          -0.4272615965029586,
          -0.8847211089319055,
          -1.0239467849196051,
          -1.4905570766452028,
          -1.5315136336799289,
          -1.0239784723902092,
          -0.3674479869504077,
          -1.9263206148107024,
          -1.387333279339801,
          -1.3404415722586471,
          -1.3005072234518014,
          -0.3083732974346232,
          -0.9245076359990392,
          -0.3135298982476791,
          -0.6933061983212286,
          -1.1644558262144218,
          -0.8623667870538227,
          -0.8675287972445118,
          -2.009333183727665,
          -0.961651004606091,
          -1.0222093996555492,
          -0.6505110934864919,
          -0.353118369551785,
          -0.647430906888406,
          -1.0666109365635985,
          -0.3740478111368941,
          -0.5005486925013137,
          -0.7538531748878118,
          -0.0570643626831528,
          -0.8312466732788929,
          -0.2812702550682051,
          -0.4184596072134128,
          -2.1372172668801226,
          0.4533233086168893,
          -0.2817444487816674,
          1.0298616154578826,
          0.3296446521823737,
          -0.1079930927593895,
          -0.7202234816644556,
          -1.1259021793837152,
          -0.8618738763733351,
          -0.3769208787556301,
          -0.0504039748725461,
          0.4295899812085817,
          -1.197578281345206,
          -0.9413162656119284,
          0.0602577622553407,
          -1.2337121577686971,
          -0.4938358003092593,
          0.2745468738373776,
          0.0583670693984174,
          0.0460155499727371,
          0.6501186348407956,
          -1.1967043524924104,
          -0.8718970044909434,
          1.2317840694075326,
          -0.577309031299438,
          -0.6809188573334242,
          -1.0703277357835532,
          -1.8064432848265928,
          -1.4957204588560074,
          -1.03821987690353,
          -0.2043647167647668,
          -0.6621889875842393,
          -0.9583188977255872,
          0.0138258880870246,
          -0.9931981636734536,
          -0.3935546509109904,
          -0.4409119574914215,
          -0.6608154802750492,
          0.4720371586825303,
          -0.354684128126756,
          -0.3240654957617417,
          -0.5030556015000213,
          -0.777589097089631,
          -0.8631051104692897,
          -1.4220124188504508,
          -1.037484264855706,
          0.2590165666890087,
          -1.2137758187594865,
          0.3779254031530717,
          -0.6480275661407088,
          0.0371331107243973,
          -1.5135324235097252,
          -1.349226018916997,
          -1.195386486011016,
          -3.09057725434415,
          -1.8355837296302568,
          -1.7934442819952443,
          -0.7428690297353439,
          -0.4062596636813101,
          -0.1640860091813197,
          -1.2279899087135908,
          -1.4127106892861503,
          -0.9126550684358504,
          -0.0525322996490499,
          -0.9900203780497222,
          -0.5570122233805379,
          -0.4858904884858112,
          -0.1307985109269207,
          -1.903553023554469,
          -2.073102412676921,
          -1.229662124819188,
          -1.7211475368860667,
          -0.8989865171313695,
          0.1557939393729152,
          -2.1132964541886112,
          0.3896906442938472,
          -0.0012455431025856,
          0.2498152937861456,
          -0.4350067456753278,
          -0.7585809907727977,
          -0.3073372516057147,
          -1.1149680124391828,
          -0.1426854424337308,
          -1.318663881824219,
          0.2445128157532815,
          -0.9922814595724112,
          -0.4969136996628097,
          -0.9566828745773136,
          -0.5939494725436781,
          -0.8926391916861236,
          -0.9359185887008372,
          -1.8733109582162013,
          0.0371496722911032,
          -0.5770228673927582,
          -1.4455670056238263,
          -0.99769263973481,
          -0.3050617019428829,
          -0.9742925265146992,
          -1.04867407531391,
          -1.7375535745484023,
          -4.1432782430677015,
          -1.4869788108430444,
          -1.0348848152401562,
          -0.9588579202658704,
          -0.7438521955551306,
          -1.2144664176037805,
          -0.0817947919586796,
          -1.8151235056525248,
          -1.087177154020694,
          -1.9603363995160672,
          -1.8874064593214208,
          -1.6973063895843343,
          -1.9541183971733087,
          -3.8722087266741383,
          -1.6511679402229007,
          -1.4093226298308172,
          -0.8761382747120114,
          -1.0176789447238903,
          -1.5652019701451494,
          -2.747873072094188,
          -0.25541444724545,
          -0.331389565392458,
          -1.1160594649211362,
          -1.2897650566174828,
          -0.0886895426085771,
          -0.3556574806350804,
          -0.8812651104173007,
          -1.176911516412977,
          -0.0777464591111244,
          -0.3678211189616613,
          -1.2059625402797007,
          -1.255391417436826,
          -1.303411885043107,
          -2.0504842962284524,
          -1.4275877381600086,
          -1.0093550948229346,
          -1.211028926724914,
          -0.4954089664330501,
          -0.2940871406889572,
          -0.7346451172972401,
          -0.5224369705548463,
          -0.8787794235476216,
          -0.95081794564704,
          -1.9894341272297429,
          -0.961597234899636,
          -1.2394074044431969,
          -1.1220946979746695,
          -1.2666316960582142,
          -0.5801678212117322,
          -0.1012557950478578,
          -0.350095273050715,
          -0.4811803389814189,
          -0.5696152827368068,
          -0.5942455083110522,
          -2.152079386188476,
          -2.1369840147378936,
          -1.8692552852296715,
          0.3285293090757384,
          -0.2172430201261062,
          -2.372985257146215,
          -2.7437957540988323,
          -1.5664944038021604,
          -0.3478573029288134,
          -0.7114019673963106,
          -0.544710835894879,
          -0.5653995040765455,
          -1.495203496070942,
          -0.8736325496825474,
          0.1250919652922398,
          -2.251596379945866,
          -0.7644042895036907,
          0.8456369337963369,
          -1.4229221200683877,
          -0.7269450686765313,
          -0.9727813668996096,
          -1.2864275012326798,
          0.2702614693111712,
          -0.46270370535903,
          -0.9223347328774802,
          -1.2570903262674225,
          -0.598455613188733,
          -1.054493170182886,
          -0.8797036833585734,
          -1.6167664270466056,
          -1.4065896579274508,
          0.1698276391400525,
          0.2759365946157863,
          0.2420369417230466,
          -0.7486431194504887,
          -0.1333497204139438,
          -1.0334510875895369,
          -0.6349779949063318,
          -1.0784014442735363,
          -1.0788716539454588,
          -0.9368038835249216,
          -0.436122165517986,
          -1.725755772152178,
          -1.1168864079441363,
          -1.4346636841022444,
          -1.1745820193150829,
          -1.155929658724295,
          -0.8486016481179771,
          -0.617505533076474,
          0.3336195334904444,
          -0.8912567465023487,
          -1.7907305028759557,
          -1.4752567831836838,
          -1.0515809781168215,
          -1.5109981209805132,
          -0.2204342885364084,
          -0.9125469920452464,
          -1.4390174725827347,
          -1.5501748153618704,
          -1.2157052754973494,
          -0.6767509810551511,
          -1.1314861044711864,
          -0.5216072785720233,
          -2.183035146622196,
          -2.7704293529084945,
          -0.6262821125115505,
          -0.7068705426317674,
          -2.3823785565017035,
          -2.6847342590816767,
          -2.324295153925237,
          -0.8597948354117089,
          -0.9780851926780834,
          -1.371968551449377,
          -3.4429993183991754,
          -0.4489377709669674,
          -0.5367828922323643,
          -1.4202117154653675,
          -0.7623862669611856,
          -2.0643547260299213,
          -1.3647710431718347,
          -1.3877942404134755,
          -1.4155410832126345,
          -0.8701082251434304,
          -1.0362099531587896,
          -1.241601221108533,
          -1.6572800778366483,
          -0.6980031166357026,
          -0.561545390009771,
          -1.1341329385851284,
          -0.9926387141820256,
          -1.1330573631973653,
          -1.0638094797066286,
          -0.0485699094285961,
          -1.3063195511121035,
          -0.6797932636099819,
          -1.6575200973213189,
          -2.4214059877349,
          -1.9624171196550364,
          -1.9038223042562603,
          -1.033553771070438,
          -0.94674877481473,
          -0.9699968957942428,
          -0.7137408354078314,
          -0.7160482763308194,
          -1.1344348897650505,
          -1.856498475911737,
          -0.5764322626659735,
          -0.6787646752798623,
          -0.995111013991302,
          -0.6565565851714932,
          -1.1685555937029632,
          -1.1102729656100352,
          -0.355393910395311,
          -0.6348655668790982,
          -1.2828237823430968,
          -1.3601687207587856,
          -1.5153771343252698,
          -2.017355019271494,
          -0.7210466387744863,
          0.2725336826107781,
          0.0341228596542949,
          -0.4379045953679757,
          -1.8125846046552745,
          -0.6633982989826123,
          -0.9305510392427822,
          -0.6996616284484688,
          -0.251682800252733,
          0.0183862302098919,
          -0.1839851591381597,
          -0.0096305772046836,
          -0.3357734842561632,
          -0.5718328180127766,
          0.3073150144888262,
          -0.2339158031458928,
          -0.300064459066323,
          -0.8431919687892951,
          -0.5388735688891834,
          -0.1567397951402977,
          -0.58660790858905,
          -0.5250163835313447,
          0.443436429614894,
          -0.6154240287400314,
          0.3652149954520207,
          0.7046175151330877,
          -0.4426239159320866,
          -0.718660120841792,
          -0.7707316273722287,
          -0.7359281422983235,
          -0.4396429658600269,
          -0.1102901919690618,
          -0.1194496335618366,
          -0.3004246378680177,
          0.0387052164072125,
          -1.3618784054075577,
          -0.2127853737319253,
          -0.5984714916887665,
          -0.6722955158225253,
          -1.0705799157993767,
          0.3638485156623658,
          -0.8677559286242469,
          -1.1016073695362458,
          -0.6501793847137758,
          -0.4082878510630532,
          -1.181731125065527,
          -0.7701865005516757,
          -0.5095041878992613,
          -2.8330239210546835,
          -1.854067365937471,
          -1.0205262306645624,
          -0.3086718037805102,
          0.5867120938140302,
          0.4220912675070541,
          -0.6956639464094155,
          0.3492155414382468,
          -0.5929787965049494,
          -1.1432196345333765,
          -1.373537236405555,
          -0.5726765852538599,
          -0.70697010620554,
          -1.1260540524761722,
          -0.5747376745178808,
          -0.8120366387392774,
          -0.5742398335089934,
          -0.0786166269821608,
          -0.7295929357385915,
          0.3516516085800779,
          -0.6248975537149343,
          -1.3957539764395517,
          -0.2198183658740622,
          -0.7815575678513219,
          -1.0230878318786738,
          -0.1024540551703255,
          -0.3678213391810932,
          -0.3302240949579904,
          -0.4096215203743075,
          -0.0458019731698591,
          -0.7457257681092606,
          -1.744369619807085,
          -1.4559241263287268,
          -0.6676133366937745,
          -0.8911206917043615,
          -0.4265367480697504,
          -0.1381253899059304,
          0.0444071928573805,
          1.4148811632866038,
          -0.6780424172090327,
          -1.0445158898231408,
          -1.2340197244675142,
          -0.3860663666110007,
          0.0361403695751838,
          -0.775250476302717,
          -0.8994200973465086,
          0.1739442313981568,
          -0.4595128909379466,
          0.0285578825229383,
          -0.9335582747387212,
          -1.5334319218395367,
          -1.552787967419714,
          -1.0166026478335557,
          -1.4219756940825743,
          -1.8381709541986424,
          -0.8960511910357665,
          0.5239125541040334,
          -0.9091921574890612,
          -1.5238356712258847,
          -1.8396429062789177,
          -2.193504598154718,
          -2.1133661203249585,
          -0.9042184357494876,
          -0.1916653956730131,
          -1.271719031853057,
          -2.0539182774343017,
          -2.6789210041531155,
          -1.918254146098324,
          -2.186869909894838,
          -1.9268030932404687,
          -2.443524306526101,
          -0.8285642851854127,
          -1.3104111696164735,
          -2.940696597078332,
          -2.2929746521697747,
          -1.684434177321958,
          -1.981923599812596,
          -2.079142187127392,
          -1.3139186627835184,
          -1.2976267062616926,
          1.3205239123971473,
          -0.7641180834986048,
          -1.3712063525094695,
          -0.9677550914042112,
          -1.252556261998368,
          -0.8233632650780314,
          -0.0982664557614803,
          -0.7286873094710014,
          -0.9551990727574976,
          -0.47250353129172,
          -1.0074379055399834,
          -1.0183576156000995,
          -2.0526407182947497,
          -1.0486121246386122,
          -0.4694810905585142,
          0.0854818378837554,
          -0.6777566446814242,
          -0.9809492877435412,
          -2.068767352657644,
          -0.8907029795015382,
          -0.4539928935198381,
          -0.4535227901259632,
          -0.545677408730072,
          -0.2555726406316957,
          -1.1326196392965266,
          0.3312010060330536,
          -1.201989136460125,
          -1.1680977032458872,
          -0.6485696407713325,
          -0.5629359961549146,
          -0.4668920833720446,
          -1.3503259831243464,
          -1.2927688937805726,
          -1.1213214844896022,
          -1.0831974465049854,
          -1.5725847269011657,
          -1.0495370468730565,
          -1.1593891613052394,
          -1.4842421555539782,
          -1.5250628267764854,
          -1.3566863986387825,
          -2.275423949861001,
          0.5081273939540331,
          -1.4460294421278093,
          -0.8326135378884374,
          -0.5398790664213201,
          -0.0846203437248618,
          -1.625176810406999,
          -3.255382115546863,
          -1.6857664056014718,
          -0.5066500419354002,
          0.0004084294954255,
          -1.3948111738215605,
          -0.9147959082352912,
          -0.0358361959990414,
          -0.7863275540113351,
          -0.3032077421383857,
          -0.1312280091276609,
          -0.5733334585913602,
          -0.5795768889896087,
          -1.1213510263532556,
          -1.903511592650946,
          -1.9561033721550944,
          -0.7632510800632873,
          -1.1578056270210355,
          -1.6673273117745158,
          -0.3475772057492681,
          -1.6217211322787743,
          -1.228966985846656,
          -1.4904448596140645,
          -0.5526317514079476,
          0.1257767188350697,
          -0.7882488951106114,
          -1.6590954674027938,
          -1.0167618730792642,
          -2.6959976015474254,
          -0.4952077527796352,
          -0.9149734583350508,
          -0.9935959578257212,
          -0.0250322033745926,
          0.1782990283300074,
          0.3318193112006002,
          -1.1370392056388443,
          -2.801881906359253,
          -1.9118977324713604,
          -1.2536208087231704,
          -1.2953668453818188,
          -1.1449891202846492,
          -0.405244924804492,
          -1.487862261734768,
          0.0512650633558591,
          -0.8199647905736693,
          -1.1972273173120942,
          -0.8217798962348878,
          -0.4698291639049953,
          -0.41742989839983,
          -1.0888326618801971,
          0.7813870633592434,
          0.2034051821875088,
          -0.9714708765915416,
          -0.6244445352189024,
          -0.98240457314703,
          0.2559404890570139,
          -0.4072735182308473,
          -0.7555115778232633,
          -1.6327872039542843,
          -0.672543969754864,
          -0.4215960414194333,
          0.1754239539692436,
          -0.2147820055492096,
          -0.8670410002571267,
          -0.5210414549518501,
          -0.3161743329327838,
          -0.658414008450299,
          -0.91628405464715,
          -0.5340025625004488,
          -0.3963255808753972,
          -1.2966429560455222,
          -0.8275172361130211,
          -1.3673561772181055,
          -1.0182583522043531,
          -1.2497157409513209,
          -0.1888207751251144,
          -0.9886118332539804,
          -2.0037740964441806,
          -1.567754179626785,
          -0.2086404373033362,
          -1.200845306240245,
          -0.7293161986805229,
          -0.9977128857193482,
          -2.1262073449643912,
          -0.6120250886407024,
          -3.7881221865760266,
          -3.654440940708769,
          -0.1418356041542352,
          0.2511195498990363,
          -0.1870016909123324,
          -0.275222025027785,
          -0.1209774743500335,
          -0.2231867969040946,
          -0.6047978957742939,
          -0.2672471675569811,
          -0.9064080336176392,
          -0.2797994781638491,
          -0.0306192400841748,
          0.3408777003178182,
          0.9174158890861878,
          0.4069540870717272,
          0.0431755340166882,
          -0.1967662105588344,
          0.0081830257821543,
          -0.7675515574467648,
          0.4620261405697148,
          0.0828124999432272,
          0.3381709608907445,
          -0.2626325825533073,
          0.0275024932085364,
          -0.7067398593457506,
          -0.6887410438148586,
          -0.6433242805162137,
          1.5203521560671325,
          -0.5261904040173754,
          -0.8298352691315108,
          -0.2400170902700066,
          0.0191559462955872,
          0.2033701911543912,
          -0.0705463730629178,
          0.7314002575378842,
          0.0829405959033359,
          0.53957581685914,
          -0.2662707817649404,
          -0.6319807893499431,
          -0.9507371703565896,
          -1.6502478493318882,
          0.7050761142801041,
          -0.467313625179834,
          0.1879961270286338,
          -0.3385175009700901,
          0.1917753969554158,
          -1.654836683797029,
          -0.0135290607063167,
          -0.2650759937102248,
          -0.8341606526694642,
          -0.8929423307671349,
          -2.5281345797330026,
          -1.319052690143706,
          -0.2272943222136347,
          -0.1891042885407181,
          -0.1135476398202346,
          0.0996946971429972,
          -0.1808156375575471,
          -0.8786538023582514,
          0.0764436073702011,
          -0.2893235832586696,
          -0.7489824809705259,
          -1.2006953150392663,
          -0.3065748007496126,
          -0.3306034046829057,
          -2.1666719063957185,
          -0.3899659993989813,
          -0.3101971974471395,
          -0.3295110410760401,
          -1.3830484721204446,
          0.2407102098137995,
          -0.0109193486687081,
          0.2667799813577111,
          0.3297187414388332,
          1.2090511450413697,
          0.4683791986152893,
          -0.4906464531968068,
          0.6659128706645265,
          0.2311723187717619,
          -0.4789144621020233,
          0.4939862172449096,
          0.024309714334426,
          -0.4576993450350839,
          0.1726475816854711,
          -0.6333089293487852,
          0.0401884342939516,
          -0.4961175134518445,
          -1.0332871167056434,
          -1.192837228361178,
          -0.9519155808188136,
          -0.2281835615545099,
          -0.946256434993386,
          -1.203672198001143,
          -1.2339893086359126,
          -0.8210251785109086,
          0.464089254575267,
          0.1787679846958377,
          0.0188489641552481,
          0.2037709187590408,
          -0.8612331351066281,
          -1.418765558786993,
          -0.6250526958340413,
          -0.4377125481325074,
          -0.7689583891858824,
          -1.2823201308175225,
          -0.3462142454093194,
          -1.0663763805109567,
          -1.5763918220479356,
          -0.735036166162239,
          -1.188285225015459,
          -1.7533460931125786,
          -4.037384704213647,
          -4.063214361288178,
          -2.2203427328954213,
          -1.1282784165923574,
          -1.4602467291547383,
          -0.5620084644241301,
          -1.9397477789683488,
          -5.176698363851587,
          -3.7203691310149294,
          -2.2625942576163744,
          -0.2837370781920779,
          -0.6752951749190572,
          -1.3889022367396149,
          -1.713281368317238,
          -1.7819926357774103,
          -2.2396010644194946,
          -1.5873722023279682,
          -3.5631615568703814,
          -2.6976219557628944,
          -2.157776018978719,
          -2.3676020117778327,
          -1.4225954255803062,
          -0.5818655220426303,
          -1.513906027253466,
          -2.2695064750392606,
          -2.128098934669953,
          -1.6408843345644135,
          -2.181383627448473,
          -1.2959268059272782,
          -2.9840616078755664,
          -1.96617156030687,
          -1.4335631115860734,
          -0.5445123786165031,
          -1.6505423995532031,
          -1.4706800205339603,
          -2.542315089487835,
          -2.280619139411451,
          -4.591191584578435,
          -2.9189696648249672,
          -1.7405580168496402,
          -0.909106968158792,
          -1.8661265206624669,
          -2.4910949391694794,
          -2.7963378267895846,
          -2.760711234952113,
          -3.032348172947723,
          -2.9598268827895264,
          -0.9157880492913626,
          -2.5373871191431903,
          -2.9448852529409595,
          -2.3057312305632194,
          -1.1574051276826818,
          -1.2087692451905103,
          -1.5508351795206985,
          -1.4512301308056346,
          -0.8469091511325556,
          -1.7488415938371864,
          -2.1927541529144743,
          -2.3005539005063347,
          -0.7792376056992006,
          -1.921800145152984,
          -1.8780397110011984,
          -2.9636002224426985,
          -1.6400752639168676,
          -0.7196644290858917,
          -1.382903377647059,
          -1.330003963193206,
          -1.6212281649766729,
          -1.0143467821648036,
          -0.6059395952983541,
          -1.4263633594819856,
          -1.3389820907006291,
          -0.4490061393739218,
          -1.1486739490572089,
          -1.6648163611886695,
          -1.599243612453558,
          -1.032596202958734,
          -1.8731294869212511,
          -1.2859595934527852,
          -0.5529641988959261,
          -0.2037642160380741,
          -0.9550063518020636
         ],
         "yaxis": "y"
        }
       ],
       "layout": {
        "legend": {
         "tracegroupgap": 0
        },
        "template": {
         "data": {
          "bar": [
           {
            "error_x": {
             "color": "#2a3f5f"
            },
            "error_y": {
             "color": "#2a3f5f"
            },
            "marker": {
             "line": {
              "color": "#E5ECF6",
              "width": 0.5
             },
             "pattern": {
              "fillmode": "overlay",
              "size": 10,
              "solidity": 0.2
             }
            },
            "type": "bar"
           }
          ],
          "barpolar": [
           {
            "marker": {
             "line": {
              "color": "#E5ECF6",
              "width": 0.5
             },
             "pattern": {
              "fillmode": "overlay",
              "size": 10,
              "solidity": 0.2
             }
            },
            "type": "barpolar"
           }
          ],
          "carpet": [
           {
            "aaxis": {
             "endlinecolor": "#2a3f5f",
             "gridcolor": "white",
             "linecolor": "white",
             "minorgridcolor": "white",
             "startlinecolor": "#2a3f5f"
            },
            "baxis": {
             "endlinecolor": "#2a3f5f",
             "gridcolor": "white",
             "linecolor": "white",
             "minorgridcolor": "white",
             "startlinecolor": "#2a3f5f"
            },
            "type": "carpet"
           }
          ],
          "choropleth": [
           {
            "colorbar": {
             "outlinewidth": 0,
             "ticks": ""
            },
            "type": "choropleth"
           }
          ],
          "contour": [
           {
            "colorbar": {
             "outlinewidth": 0,
             "ticks": ""
            },
            "colorscale": [
             [
              0,
              "#0d0887"
             ],
             [
              0.1111111111111111,
              "#46039f"
             ],
             [
              0.2222222222222222,
              "#7201a8"
             ],
             [
              0.3333333333333333,
              "#9c179e"
             ],
             [
              0.4444444444444444,
              "#bd3786"
             ],
             [
              0.5555555555555556,
              "#d8576b"
             ],
             [
              0.6666666666666666,
              "#ed7953"
             ],
             [
              0.7777777777777778,
              "#fb9f3a"
             ],
             [
              0.8888888888888888,
              "#fdca26"
             ],
             [
              1,
              "#f0f921"
             ]
            ],
            "type": "contour"
           }
          ],
          "contourcarpet": [
           {
            "colorbar": {
             "outlinewidth": 0,
             "ticks": ""
            },
            "type": "contourcarpet"
           }
          ],
          "heatmap": [
           {
            "colorbar": {
             "outlinewidth": 0,
             "ticks": ""
            },
            "colorscale": [
             [
              0,
              "#0d0887"
             ],
             [
              0.1111111111111111,
              "#46039f"
             ],
             [
              0.2222222222222222,
              "#7201a8"
             ],
             [
              0.3333333333333333,
              "#9c179e"
             ],
             [
              0.4444444444444444,
              "#bd3786"
             ],
             [
              0.5555555555555556,
              "#d8576b"
             ],
             [
              0.6666666666666666,
              "#ed7953"
             ],
             [
              0.7777777777777778,
              "#fb9f3a"
             ],
             [
              0.8888888888888888,
              "#fdca26"
             ],
             [
              1,
              "#f0f921"
             ]
            ],
            "type": "heatmap"
           }
          ],
          "heatmapgl": [
           {
            "colorbar": {
             "outlinewidth": 0,
             "ticks": ""
            },
            "colorscale": [
             [
              0,
              "#0d0887"
             ],
             [
              0.1111111111111111,
              "#46039f"
             ],
             [
              0.2222222222222222,
              "#7201a8"
             ],
             [
              0.3333333333333333,
              "#9c179e"
             ],
             [
              0.4444444444444444,
              "#bd3786"
             ],
             [
              0.5555555555555556,
              "#d8576b"
             ],
             [
              0.6666666666666666,
              "#ed7953"
             ],
             [
              0.7777777777777778,
              "#fb9f3a"
             ],
             [
              0.8888888888888888,
              "#fdca26"
             ],
             [
              1,
              "#f0f921"
             ]
            ],
            "type": "heatmapgl"
           }
          ],
          "histogram": [
           {
            "marker": {
             "pattern": {
              "fillmode": "overlay",
              "size": 10,
              "solidity": 0.2
             }
            },
            "type": "histogram"
           }
          ],
          "histogram2d": [
           {
            "colorbar": {
             "outlinewidth": 0,
             "ticks": ""
            },
            "colorscale": [
             [
              0,
              "#0d0887"
             ],
             [
              0.1111111111111111,
              "#46039f"
             ],
             [
              0.2222222222222222,
              "#7201a8"
             ],
             [
              0.3333333333333333,
              "#9c179e"
             ],
             [
              0.4444444444444444,
              "#bd3786"
             ],
             [
              0.5555555555555556,
              "#d8576b"
             ],
             [
              0.6666666666666666,
              "#ed7953"
             ],
             [
              0.7777777777777778,
              "#fb9f3a"
             ],
             [
              0.8888888888888888,
              "#fdca26"
             ],
             [
              1,
              "#f0f921"
             ]
            ],
            "type": "histogram2d"
           }
          ],
          "histogram2dcontour": [
           {
            "colorbar": {
             "outlinewidth": 0,
             "ticks": ""
            },
            "colorscale": [
             [
              0,
              "#0d0887"
             ],
             [
              0.1111111111111111,
              "#46039f"
             ],
             [
              0.2222222222222222,
              "#7201a8"
             ],
             [
              0.3333333333333333,
              "#9c179e"
             ],
             [
              0.4444444444444444,
              "#bd3786"
             ],
             [
              0.5555555555555556,
              "#d8576b"
             ],
             [
              0.6666666666666666,
              "#ed7953"
             ],
             [
              0.7777777777777778,
              "#fb9f3a"
             ],
             [
              0.8888888888888888,
              "#fdca26"
             ],
             [
              1,
              "#f0f921"
             ]
            ],
            "type": "histogram2dcontour"
           }
          ],
          "mesh3d": [
           {
            "colorbar": {
             "outlinewidth": 0,
             "ticks": ""
            },
            "type": "mesh3d"
           }
          ],
          "parcoords": [
           {
            "line": {
             "colorbar": {
              "outlinewidth": 0,
              "ticks": ""
             }
            },
            "type": "parcoords"
           }
          ],
          "pie": [
           {
            "automargin": true,
            "type": "pie"
           }
          ],
          "scatter": [
           {
            "fillpattern": {
             "fillmode": "overlay",
             "size": 10,
             "solidity": 0.2
            },
            "type": "scatter"
           }
          ],
          "scatter3d": [
           {
            "line": {
             "colorbar": {
              "outlinewidth": 0,
              "ticks": ""
             }
            },
            "marker": {
             "colorbar": {
              "outlinewidth": 0,
              "ticks": ""
             }
            },
            "type": "scatter3d"
           }
          ],
          "scattercarpet": [
           {
            "marker": {
             "colorbar": {
              "outlinewidth": 0,
              "ticks": ""
             }
            },
            "type": "scattercarpet"
           }
          ],
          "scattergeo": [
           {
            "marker": {
             "colorbar": {
              "outlinewidth": 0,
              "ticks": ""
             }
            },
            "type": "scattergeo"
           }
          ],
          "scattergl": [
           {
            "marker": {
             "colorbar": {
              "outlinewidth": 0,
              "ticks": ""
             }
            },
            "type": "scattergl"
           }
          ],
          "scattermapbox": [
           {
            "marker": {
             "colorbar": {
              "outlinewidth": 0,
              "ticks": ""
             }
            },
            "type": "scattermapbox"
           }
          ],
          "scatterpolar": [
           {
            "marker": {
             "colorbar": {
              "outlinewidth": 0,
              "ticks": ""
             }
            },
            "type": "scatterpolar"
           }
          ],
          "scatterpolargl": [
           {
            "marker": {
             "colorbar": {
              "outlinewidth": 0,
              "ticks": ""
             }
            },
            "type": "scatterpolargl"
           }
          ],
          "scatterternary": [
           {
            "marker": {
             "colorbar": {
              "outlinewidth": 0,
              "ticks": ""
             }
            },
            "type": "scatterternary"
           }
          ],
          "surface": [
           {
            "colorbar": {
             "outlinewidth": 0,
             "ticks": ""
            },
            "colorscale": [
             [
              0,
              "#0d0887"
             ],
             [
              0.1111111111111111,
              "#46039f"
             ],
             [
              0.2222222222222222,
              "#7201a8"
             ],
             [
              0.3333333333333333,
              "#9c179e"
             ],
             [
              0.4444444444444444,
              "#bd3786"
             ],
             [
              0.5555555555555556,
              "#d8576b"
             ],
             [
              0.6666666666666666,
              "#ed7953"
             ],
             [
              0.7777777777777778,
              "#fb9f3a"
             ],
             [
              0.8888888888888888,
              "#fdca26"
             ],
             [
              1,
              "#f0f921"
             ]
            ],
            "type": "surface"
           }
          ],
          "table": [
           {
            "cells": {
             "fill": {
              "color": "#EBF0F8"
             },
             "line": {
              "color": "white"
             }
            },
            "header": {
             "fill": {
              "color": "#C8D4E3"
             },
             "line": {
              "color": "white"
             }
            },
            "type": "table"
           }
          ]
         },
         "layout": {
          "annotationdefaults": {
           "arrowcolor": "#2a3f5f",
           "arrowhead": 0,
           "arrowwidth": 1
          },
          "autotypenumbers": "strict",
          "coloraxis": {
           "colorbar": {
            "outlinewidth": 0,
            "ticks": ""
           }
          },
          "colorscale": {
           "diverging": [
            [
             0,
             "#8e0152"
            ],
            [
             0.1,
             "#c51b7d"
            ],
            [
             0.2,
             "#de77ae"
            ],
            [
             0.3,
             "#f1b6da"
            ],
            [
             0.4,
             "#fde0ef"
            ],
            [
             0.5,
             "#f7f7f7"
            ],
            [
             0.6,
             "#e6f5d0"
            ],
            [
             0.7,
             "#b8e186"
            ],
            [
             0.8,
             "#7fbc41"
            ],
            [
             0.9,
             "#4d9221"
            ],
            [
             1,
             "#276419"
            ]
           ],
           "sequential": [
            [
             0,
             "#0d0887"
            ],
            [
             0.1111111111111111,
             "#46039f"
            ],
            [
             0.2222222222222222,
             "#7201a8"
            ],
            [
             0.3333333333333333,
             "#9c179e"
            ],
            [
             0.4444444444444444,
             "#bd3786"
            ],
            [
             0.5555555555555556,
             "#d8576b"
            ],
            [
             0.6666666666666666,
             "#ed7953"
            ],
            [
             0.7777777777777778,
             "#fb9f3a"
            ],
            [
             0.8888888888888888,
             "#fdca26"
            ],
            [
             1,
             "#f0f921"
            ]
           ],
           "sequentialminus": [
            [
             0,
             "#0d0887"
            ],
            [
             0.1111111111111111,
             "#46039f"
            ],
            [
             0.2222222222222222,
             "#7201a8"
            ],
            [
             0.3333333333333333,
             "#9c179e"
            ],
            [
             0.4444444444444444,
             "#bd3786"
            ],
            [
             0.5555555555555556,
             "#d8576b"
            ],
            [
             0.6666666666666666,
             "#ed7953"
            ],
            [
             0.7777777777777778,
             "#fb9f3a"
            ],
            [
             0.8888888888888888,
             "#fdca26"
            ],
            [
             1,
             "#f0f921"
            ]
           ]
          },
          "colorway": [
           "#636efa",
           "#EF553B",
           "#00cc96",
           "#ab63fa",
           "#FFA15A",
           "#19d3f3",
           "#FF6692",
           "#B6E880",
           "#FF97FF",
           "#FECB52"
          ],
          "font": {
           "color": "#2a3f5f"
          },
          "geo": {
           "bgcolor": "white",
           "lakecolor": "white",
           "landcolor": "#E5ECF6",
           "showlakes": true,
           "showland": true,
           "subunitcolor": "white"
          },
          "hoverlabel": {
           "align": "left"
          },
          "hovermode": "closest",
          "mapbox": {
           "style": "light"
          },
          "paper_bgcolor": "white",
          "plot_bgcolor": "#E5ECF6",
          "polar": {
           "angularaxis": {
            "gridcolor": "white",
            "linecolor": "white",
            "ticks": ""
           },
           "bgcolor": "#E5ECF6",
           "radialaxis": {
            "gridcolor": "white",
            "linecolor": "white",
            "ticks": ""
           }
          },
          "scene": {
           "xaxis": {
            "backgroundcolor": "#E5ECF6",
            "gridcolor": "white",
            "gridwidth": 2,
            "linecolor": "white",
            "showbackground": true,
            "ticks": "",
            "zerolinecolor": "white"
           },
           "yaxis": {
            "backgroundcolor": "#E5ECF6",
            "gridcolor": "white",
            "gridwidth": 2,
            "linecolor": "white",
            "showbackground": true,
            "ticks": "",
            "zerolinecolor": "white"
           },
           "zaxis": {
            "backgroundcolor": "#E5ECF6",
            "gridcolor": "white",
            "gridwidth": 2,
            "linecolor": "white",
            "showbackground": true,
            "ticks": "",
            "zerolinecolor": "white"
           }
          },
          "shapedefaults": {
           "line": {
            "color": "#2a3f5f"
           }
          },
          "ternary": {
           "aaxis": {
            "gridcolor": "white",
            "linecolor": "white",
            "ticks": ""
           },
           "baxis": {
            "gridcolor": "white",
            "linecolor": "white",
            "ticks": ""
           },
           "bgcolor": "#E5ECF6",
           "caxis": {
            "gridcolor": "white",
            "linecolor": "white",
            "ticks": ""
           }
          },
          "title": {
           "x": 0.05
          },
          "xaxis": {
           "automargin": true,
           "gridcolor": "white",
           "linecolor": "white",
           "ticks": "",
           "title": {
            "standoff": 15
           },
           "zerolinecolor": "white",
           "zerolinewidth": 2
          },
          "yaxis": {
           "automargin": true,
           "gridcolor": "white",
           "linecolor": "white",
           "ticks": "",
           "title": {
            "standoff": 15
           },
           "zerolinecolor": "white",
           "zerolinewidth": 2
          }
         }
        },
        "title": {
         "text": "Time Series Line Chart"
        },
        "xaxis": {
         "anchor": "y",
         "domain": [
          0,
          1
         ],
         "title": {
          "text": "Timestamp"
         }
        },
        "yaxis": {
         "anchor": "x",
         "domain": [
          0,
          1
         ],
         "title": {
          "text": "SDG_Mean"
         }
        }
       }
      },
      "text/html": [
       "<div>                            <div id=\"570df82a-a01a-400e-aea2-5a1b31ffe83d\" class=\"plotly-graph-div\" style=\"height:525px; width:100%;\"></div>            <script type=\"text/javascript\">                require([\"plotly\"], function(Plotly) {                    window.PLOTLYENV=window.PLOTLYENV || {};                                    if (document.getElementById(\"570df82a-a01a-400e-aea2-5a1b31ffe83d\")) {                    Plotly.newPlot(                        \"570df82a-a01a-400e-aea2-5a1b31ffe83d\",                        [{\"hovertemplate\":\"Timestamp=%{x}<br>SDG_Mean=%{y}<extra></extra>\",\"legendgroup\":\"\",\"line\":{\"color\":\"#636efa\",\"dash\":\"solid\"},\"marker\":{\"symbol\":\"circle\"},\"mode\":\"lines\",\"name\":\"\",\"showlegend\":false,\"x\":[\"2013-04-01T00:00:00\",\"2013-04-02T00:00:00\",\"2013-04-03T00:00:00\",\"2013-04-04T00:00:00\",\"2013-04-05T00:00:00\",\"2013-04-06T00:00:00\",\"2013-04-07T00:00:00\",\"2013-04-08T00:00:00\",\"2013-04-09T00:00:00\",\"2013-04-10T00:00:00\",\"2013-04-11T00:00:00\",\"2013-04-12T00:00:00\",\"2013-04-13T00:00:00\",\"2013-04-14T00:00:00\",\"2013-04-15T00:00:00\",\"2013-04-16T00:00:00\",\"2013-04-17T00:00:00\",\"2013-04-18T00:00:00\",\"2013-04-19T00:00:00\",\"2013-04-20T00:00:00\",\"2013-04-21T00:00:00\",\"2013-04-22T00:00:00\",\"2013-04-23T00:00:00\",\"2013-04-24T00:00:00\",\"2013-04-25T00:00:00\",\"2013-04-26T00:00:00\",\"2013-04-27T00:00:00\",\"2013-04-28T00:00:00\",\"2013-04-29T00:00:00\",\"2013-04-30T00:00:00\",\"2013-05-01T00:00:00\",\"2013-05-02T00:00:00\",\"2013-05-03T00:00:00\",\"2013-05-04T00:00:00\",\"2013-05-05T00:00:00\",\"2013-05-06T00:00:00\",\"2013-05-07T00:00:00\",\"2013-05-08T00:00:00\",\"2013-05-09T00:00:00\",\"2013-05-10T00:00:00\",\"2013-05-11T00:00:00\",\"2013-05-12T00:00:00\",\"2013-05-13T00:00:00\",\"2013-05-14T00:00:00\",\"2013-05-15T00:00:00\",\"2013-05-16T00:00:00\",\"2013-05-17T00:00:00\",\"2013-05-18T00:00:00\",\"2013-05-19T00:00:00\",\"2013-05-20T00:00:00\",\"2013-05-21T00:00:00\",\"2013-05-22T00:00:00\",\"2013-05-23T00:00:00\",\"2013-05-24T00:00:00\",\"2013-05-25T00:00:00\",\"2013-05-26T00:00:00\",\"2013-05-27T00:00:00\",\"2013-05-28T00:00:00\",\"2013-05-29T00:00:00\",\"2013-05-30T00:00:00\",\"2013-05-31T00:00:00\",\"2013-06-01T00:00:00\",\"2013-06-02T00:00:00\",\"2013-06-03T00:00:00\",\"2013-06-04T00:00:00\",\"2013-06-05T00:00:00\",\"2013-06-06T00:00:00\",\"2013-06-07T00:00:00\",\"2013-06-08T00:00:00\",\"2013-06-09T00:00:00\",\"2013-06-10T00:00:00\",\"2013-06-11T00:00:00\",\"2013-06-12T00:00:00\",\"2013-06-13T00:00:00\",\"2013-06-14T00:00:00\",\"2013-06-15T00:00:00\",\"2013-06-16T00:00:00\",\"2013-06-17T00:00:00\",\"2013-06-18T00:00:00\",\"2013-06-19T00:00:00\",\"2013-06-20T00:00:00\",\"2013-06-21T00:00:00\",\"2013-06-22T00:00:00\",\"2013-06-23T00:00:00\",\"2013-06-24T00:00:00\",\"2013-06-25T00:00:00\",\"2013-06-26T00:00:00\",\"2013-06-27T00:00:00\",\"2013-06-28T00:00:00\",\"2013-06-29T00:00:00\",\"2013-06-30T00:00:00\",\"2013-07-01T00:00:00\",\"2013-07-02T00:00:00\",\"2013-07-03T00:00:00\",\"2013-07-04T00:00:00\",\"2013-07-05T00:00:00\",\"2013-07-06T00:00:00\",\"2013-07-07T00:00:00\",\"2013-07-08T00:00:00\",\"2013-07-09T00:00:00\",\"2013-07-10T00:00:00\",\"2013-07-11T00:00:00\",\"2013-07-12T00:00:00\",\"2013-07-13T00:00:00\",\"2013-07-14T00:00:00\",\"2013-07-15T00:00:00\",\"2013-07-16T00:00:00\",\"2013-07-17T00:00:00\",\"2013-07-18T00:00:00\",\"2013-07-19T00:00:00\",\"2013-07-20T00:00:00\",\"2013-07-21T00:00:00\",\"2013-07-22T00:00:00\",\"2013-07-23T00:00:00\",\"2013-07-24T00:00:00\",\"2013-07-25T00:00:00\",\"2013-07-26T00:00:00\",\"2013-07-27T00:00:00\",\"2013-07-28T00:00:00\",\"2013-07-29T00:00:00\",\"2013-07-30T00:00:00\",\"2013-07-31T00:00:00\",\"2013-08-01T00:00:00\",\"2013-08-02T00:00:00\",\"2013-08-03T00:00:00\",\"2013-08-04T00:00:00\",\"2013-08-05T00:00:00\",\"2013-08-06T00:00:00\",\"2013-08-07T00:00:00\",\"2013-08-08T00:00:00\",\"2013-08-09T00:00:00\",\"2013-08-10T00:00:00\",\"2013-08-11T00:00:00\",\"2013-08-12T00:00:00\",\"2013-08-13T00:00:00\",\"2013-08-14T00:00:00\",\"2013-08-15T00:00:00\",\"2013-08-16T00:00:00\",\"2013-08-17T00:00:00\",\"2013-08-18T00:00:00\",\"2013-08-19T00:00:00\",\"2013-08-20T00:00:00\",\"2013-08-21T00:00:00\",\"2013-08-22T00:00:00\",\"2013-08-23T00:00:00\",\"2013-08-24T00:00:00\",\"2013-08-25T00:00:00\",\"2013-08-26T00:00:00\",\"2013-08-27T00:00:00\",\"2013-08-28T00:00:00\",\"2013-08-29T00:00:00\",\"2013-08-30T00:00:00\",\"2013-08-31T00:00:00\",\"2013-09-01T00:00:00\",\"2013-09-02T00:00:00\",\"2013-09-03T00:00:00\",\"2013-09-04T00:00:00\",\"2013-09-05T00:00:00\",\"2013-09-06T00:00:00\",\"2013-09-07T00:00:00\",\"2013-09-08T00:00:00\",\"2013-09-09T00:00:00\",\"2013-09-10T00:00:00\",\"2013-09-11T00:00:00\",\"2013-09-12T00:00:00\",\"2013-09-13T00:00:00\",\"2013-09-14T00:00:00\",\"2013-09-15T00:00:00\",\"2013-09-16T00:00:00\",\"2013-09-17T00:00:00\",\"2013-09-18T00:00:00\",\"2013-09-19T00:00:00\",\"2013-09-20T00:00:00\",\"2013-09-21T00:00:00\",\"2013-09-22T00:00:00\",\"2013-09-23T00:00:00\",\"2013-09-24T00:00:00\",\"2013-09-25T00:00:00\",\"2013-09-26T00:00:00\",\"2013-09-27T00:00:00\",\"2013-09-28T00:00:00\",\"2013-09-29T00:00:00\",\"2013-09-30T00:00:00\",\"2013-10-01T00:00:00\",\"2013-10-02T00:00:00\",\"2013-10-03T00:00:00\",\"2013-10-04T00:00:00\",\"2013-10-05T00:00:00\",\"2013-10-06T00:00:00\",\"2013-10-07T00:00:00\",\"2013-10-08T00:00:00\",\"2013-10-09T00:00:00\",\"2013-10-10T00:00:00\",\"2013-10-11T00:00:00\",\"2013-10-12T00:00:00\",\"2013-10-13T00:00:00\",\"2013-10-14T00:00:00\",\"2013-10-15T00:00:00\",\"2013-10-16T00:00:00\",\"2013-10-17T00:00:00\",\"2013-10-18T00:00:00\",\"2013-10-19T00:00:00\",\"2013-10-20T00:00:00\",\"2013-10-21T00:00:00\",\"2013-10-22T00:00:00\",\"2013-10-23T00:00:00\",\"2013-10-24T00:00:00\",\"2013-10-25T00:00:00\",\"2013-10-26T00:00:00\",\"2013-10-27T00:00:00\",\"2013-10-28T00:00:00\",\"2013-10-29T00:00:00\",\"2013-10-30T00:00:00\",\"2013-10-31T00:00:00\",\"2013-11-01T00:00:00\",\"2013-11-02T00:00:00\",\"2013-11-03T00:00:00\",\"2013-11-04T00:00:00\",\"2013-11-05T00:00:00\",\"2013-11-06T00:00:00\",\"2013-11-07T00:00:00\",\"2013-11-08T00:00:00\",\"2013-11-09T00:00:00\",\"2013-11-10T00:00:00\",\"2013-11-11T00:00:00\",\"2013-11-12T00:00:00\",\"2013-11-13T00:00:00\",\"2013-11-14T00:00:00\",\"2013-11-15T00:00:00\",\"2013-11-16T00:00:00\",\"2013-11-17T00:00:00\",\"2013-11-18T00:00:00\",\"2013-11-19T00:00:00\",\"2013-11-20T00:00:00\",\"2013-11-21T00:00:00\",\"2013-11-22T00:00:00\",\"2013-11-23T00:00:00\",\"2013-11-24T00:00:00\",\"2013-11-25T00:00:00\",\"2013-11-26T00:00:00\",\"2013-11-27T00:00:00\",\"2013-11-28T00:00:00\",\"2013-11-29T00:00:00\",\"2013-11-30T00:00:00\",\"2013-12-01T00:00:00\",\"2013-12-02T00:00:00\",\"2013-12-03T00:00:00\",\"2013-12-04T00:00:00\",\"2013-12-05T00:00:00\",\"2013-12-06T00:00:00\",\"2013-12-07T00:00:00\",\"2013-12-08T00:00:00\",\"2013-12-09T00:00:00\",\"2013-12-10T00:00:00\",\"2013-12-11T00:00:00\",\"2013-12-12T00:00:00\",\"2013-12-13T00:00:00\",\"2013-12-14T00:00:00\",\"2013-12-15T00:00:00\",\"2013-12-16T00:00:00\",\"2013-12-17T00:00:00\",\"2013-12-18T00:00:00\",\"2013-12-19T00:00:00\",\"2013-12-20T00:00:00\",\"2013-12-21T00:00:00\",\"2013-12-22T00:00:00\",\"2013-12-23T00:00:00\",\"2013-12-24T00:00:00\",\"2013-12-25T00:00:00\",\"2013-12-26T00:00:00\",\"2013-12-27T00:00:00\",\"2013-12-28T00:00:00\",\"2013-12-29T00:00:00\",\"2013-12-30T00:00:00\",\"2013-12-31T00:00:00\",\"2014-01-01T00:00:00\",\"2014-01-02T00:00:00\",\"2014-01-03T00:00:00\",\"2014-01-04T00:00:00\",\"2014-01-05T00:00:00\",\"2014-01-06T00:00:00\",\"2014-01-07T00:00:00\",\"2014-01-08T00:00:00\",\"2014-01-09T00:00:00\",\"2014-01-10T00:00:00\",\"2014-01-11T00:00:00\",\"2014-01-12T00:00:00\",\"2014-01-13T00:00:00\",\"2014-01-14T00:00:00\",\"2014-01-15T00:00:00\",\"2014-01-16T00:00:00\",\"2014-01-17T00:00:00\",\"2014-01-18T00:00:00\",\"2014-01-19T00:00:00\",\"2014-01-20T00:00:00\",\"2014-01-21T00:00:00\",\"2014-01-22T00:00:00\",\"2014-01-23T00:00:00\",\"2014-01-24T00:00:00\",\"2014-01-25T00:00:00\",\"2014-01-26T00:00:00\",\"2014-01-27T00:00:00\",\"2014-01-28T00:00:00\",\"2014-01-29T00:00:00\",\"2014-01-30T00:00:00\",\"2014-01-31T00:00:00\",\"2014-02-01T00:00:00\",\"2014-02-02T00:00:00\",\"2014-02-03T00:00:00\",\"2014-02-04T00:00:00\",\"2014-02-05T00:00:00\",\"2014-02-06T00:00:00\",\"2014-02-07T00:00:00\",\"2014-02-08T00:00:00\",\"2014-02-09T00:00:00\",\"2014-02-10T00:00:00\",\"2014-02-11T00:00:00\",\"2014-02-12T00:00:00\",\"2014-02-13T00:00:00\",\"2014-02-14T00:00:00\",\"2014-02-15T00:00:00\",\"2014-02-16T00:00:00\",\"2014-02-17T00:00:00\",\"2014-02-18T00:00:00\",\"2014-02-19T00:00:00\",\"2014-02-20T00:00:00\",\"2014-02-21T00:00:00\",\"2014-02-22T00:00:00\",\"2014-02-23T00:00:00\",\"2014-02-24T00:00:00\",\"2014-02-25T00:00:00\",\"2014-02-26T00:00:00\",\"2014-02-27T00:00:00\",\"2014-02-28T00:00:00\",\"2014-03-01T00:00:00\",\"2014-03-02T00:00:00\",\"2014-03-03T00:00:00\",\"2014-03-04T00:00:00\",\"2014-03-05T00:00:00\",\"2014-03-06T00:00:00\",\"2014-03-07T00:00:00\",\"2014-03-08T00:00:00\",\"2014-03-09T00:00:00\",\"2014-03-10T00:00:00\",\"2014-03-11T00:00:00\",\"2014-03-12T00:00:00\",\"2014-03-13T00:00:00\",\"2014-03-14T00:00:00\",\"2014-03-15T00:00:00\",\"2014-03-16T00:00:00\",\"2014-03-17T00:00:00\",\"2014-03-18T00:00:00\",\"2014-03-19T00:00:00\",\"2014-03-20T00:00:00\",\"2014-03-21T00:00:00\",\"2014-03-22T00:00:00\",\"2014-03-23T00:00:00\",\"2014-03-24T00:00:00\",\"2014-03-25T00:00:00\",\"2014-03-26T00:00:00\",\"2014-03-27T00:00:00\",\"2014-03-28T00:00:00\",\"2014-03-29T00:00:00\",\"2014-03-30T00:00:00\",\"2014-03-31T00:00:00\",\"2014-04-01T00:00:00\",\"2014-04-02T00:00:00\",\"2014-04-03T00:00:00\",\"2014-04-04T00:00:00\",\"2014-04-05T00:00:00\",\"2014-04-06T00:00:00\",\"2014-04-07T00:00:00\",\"2014-04-08T00:00:00\",\"2014-04-09T00:00:00\",\"2014-04-10T00:00:00\",\"2014-04-11T00:00:00\",\"2014-04-12T00:00:00\",\"2014-04-13T00:00:00\",\"2014-04-14T00:00:00\",\"2014-04-15T00:00:00\",\"2014-04-16T00:00:00\",\"2014-04-17T00:00:00\",\"2014-04-18T00:00:00\",\"2014-04-19T00:00:00\",\"2014-04-20T00:00:00\",\"2014-04-21T00:00:00\",\"2014-04-22T00:00:00\",\"2014-04-23T00:00:00\",\"2014-04-24T00:00:00\",\"2014-04-25T00:00:00\",\"2014-04-26T00:00:00\",\"2014-04-27T00:00:00\",\"2014-04-28T00:00:00\",\"2014-04-29T00:00:00\",\"2014-04-30T00:00:00\",\"2014-05-01T00:00:00\",\"2014-05-02T00:00:00\",\"2014-05-03T00:00:00\",\"2014-05-04T00:00:00\",\"2014-05-05T00:00:00\",\"2014-05-06T00:00:00\",\"2014-05-07T00:00:00\",\"2014-05-08T00:00:00\",\"2014-05-09T00:00:00\",\"2014-05-10T00:00:00\",\"2014-05-11T00:00:00\",\"2014-05-12T00:00:00\",\"2014-05-13T00:00:00\",\"2014-05-14T00:00:00\",\"2014-05-15T00:00:00\",\"2014-05-16T00:00:00\",\"2014-05-17T00:00:00\",\"2014-05-18T00:00:00\",\"2014-05-19T00:00:00\",\"2014-05-20T00:00:00\",\"2014-05-21T00:00:00\",\"2014-05-22T00:00:00\",\"2014-05-23T00:00:00\",\"2014-05-24T00:00:00\",\"2014-05-25T00:00:00\",\"2014-05-26T00:00:00\",\"2014-05-27T00:00:00\",\"2014-05-28T00:00:00\",\"2014-05-29T00:00:00\",\"2014-05-30T00:00:00\",\"2014-05-31T00:00:00\",\"2014-06-01T00:00:00\",\"2014-06-02T00:00:00\",\"2014-06-03T00:00:00\",\"2014-06-04T00:00:00\",\"2014-06-05T00:00:00\",\"2014-06-06T00:00:00\",\"2014-06-07T00:00:00\",\"2014-06-08T00:00:00\",\"2014-06-09T00:00:00\",\"2014-06-10T00:00:00\",\"2014-06-11T00:00:00\",\"2014-06-12T00:00:00\",\"2014-06-13T00:00:00\",\"2014-06-14T00:00:00\",\"2014-06-15T00:00:00\",\"2014-06-16T00:00:00\",\"2014-06-17T00:00:00\",\"2014-06-18T00:00:00\",\"2014-06-19T00:00:00\",\"2014-06-20T00:00:00\",\"2014-06-21T00:00:00\",\"2014-06-22T00:00:00\",\"2014-06-23T00:00:00\",\"2014-06-24T00:00:00\",\"2014-06-25T00:00:00\",\"2014-06-26T00:00:00\",\"2014-06-27T00:00:00\",\"2014-06-28T00:00:00\",\"2014-06-29T00:00:00\",\"2014-06-30T00:00:00\",\"2014-07-01T00:00:00\",\"2014-07-02T00:00:00\",\"2014-07-03T00:00:00\",\"2014-07-04T00:00:00\",\"2014-07-05T00:00:00\",\"2014-07-06T00:00:00\",\"2014-07-07T00:00:00\",\"2014-07-08T00:00:00\",\"2014-07-09T00:00:00\",\"2014-07-10T00:00:00\",\"2014-07-11T00:00:00\",\"2014-07-12T00:00:00\",\"2014-07-13T00:00:00\",\"2014-07-14T00:00:00\",\"2014-07-15T00:00:00\",\"2014-07-16T00:00:00\",\"2014-07-17T00:00:00\",\"2014-07-18T00:00:00\",\"2014-07-19T00:00:00\",\"2014-07-20T00:00:00\",\"2014-07-21T00:00:00\",\"2014-07-22T00:00:00\",\"2014-07-23T00:00:00\",\"2014-07-24T00:00:00\",\"2014-07-25T00:00:00\",\"2014-07-26T00:00:00\",\"2014-07-27T00:00:00\",\"2014-07-28T00:00:00\",\"2014-07-29T00:00:00\",\"2014-07-30T00:00:00\",\"2014-07-31T00:00:00\",\"2014-08-01T00:00:00\",\"2014-08-02T00:00:00\",\"2014-08-03T00:00:00\",\"2014-08-04T00:00:00\",\"2014-08-05T00:00:00\",\"2014-08-06T00:00:00\",\"2014-08-07T00:00:00\",\"2014-08-08T00:00:00\",\"2014-08-09T00:00:00\",\"2014-08-10T00:00:00\",\"2014-08-11T00:00:00\",\"2014-08-12T00:00:00\",\"2014-08-13T00:00:00\",\"2014-08-14T00:00:00\",\"2014-08-15T00:00:00\",\"2014-08-16T00:00:00\",\"2014-08-17T00:00:00\",\"2014-08-18T00:00:00\",\"2014-08-19T00:00:00\",\"2014-08-20T00:00:00\",\"2014-08-21T00:00:00\",\"2014-08-22T00:00:00\",\"2014-08-23T00:00:00\",\"2014-08-24T00:00:00\",\"2014-08-25T00:00:00\",\"2014-08-26T00:00:00\",\"2014-08-27T00:00:00\",\"2014-08-28T00:00:00\",\"2014-08-29T00:00:00\",\"2014-08-30T00:00:00\",\"2014-08-31T00:00:00\",\"2014-09-01T00:00:00\",\"2014-09-02T00:00:00\",\"2014-09-03T00:00:00\",\"2014-09-04T00:00:00\",\"2014-09-05T00:00:00\",\"2014-09-06T00:00:00\",\"2014-09-07T00:00:00\",\"2014-09-08T00:00:00\",\"2014-09-09T00:00:00\",\"2014-09-10T00:00:00\",\"2014-09-11T00:00:00\",\"2014-09-12T00:00:00\",\"2014-09-13T00:00:00\",\"2014-09-14T00:00:00\",\"2014-09-15T00:00:00\",\"2014-09-16T00:00:00\",\"2014-09-17T00:00:00\",\"2014-09-18T00:00:00\",\"2014-09-19T00:00:00\",\"2014-09-20T00:00:00\",\"2014-09-21T00:00:00\",\"2014-09-22T00:00:00\",\"2014-09-23T00:00:00\",\"2014-09-24T00:00:00\",\"2014-09-25T00:00:00\",\"2014-09-26T00:00:00\",\"2014-09-27T00:00:00\",\"2014-09-28T00:00:00\",\"2014-09-29T00:00:00\",\"2014-09-30T00:00:00\",\"2014-10-01T00:00:00\",\"2014-10-02T00:00:00\",\"2014-10-03T00:00:00\",\"2014-10-04T00:00:00\",\"2014-10-05T00:00:00\",\"2014-10-06T00:00:00\",\"2014-10-07T00:00:00\",\"2014-10-08T00:00:00\",\"2014-10-09T00:00:00\",\"2014-10-10T00:00:00\",\"2014-10-11T00:00:00\",\"2014-10-12T00:00:00\",\"2014-10-13T00:00:00\",\"2014-10-14T00:00:00\",\"2014-10-15T00:00:00\",\"2014-10-16T00:00:00\",\"2014-10-17T00:00:00\",\"2014-10-18T00:00:00\",\"2014-10-19T00:00:00\",\"2014-10-20T00:00:00\",\"2014-10-21T00:00:00\",\"2014-10-22T00:00:00\",\"2014-10-23T00:00:00\",\"2014-10-24T00:00:00\",\"2014-10-25T00:00:00\",\"2014-10-26T00:00:00\",\"2014-10-27T00:00:00\",\"2014-10-28T00:00:00\",\"2014-10-29T00:00:00\",\"2014-10-30T00:00:00\",\"2014-10-31T00:00:00\",\"2014-11-01T00:00:00\",\"2014-11-02T00:00:00\",\"2014-11-03T00:00:00\",\"2014-11-04T00:00:00\",\"2014-11-05T00:00:00\",\"2014-11-06T00:00:00\",\"2014-11-07T00:00:00\",\"2014-11-08T00:00:00\",\"2014-11-09T00:00:00\",\"2014-11-10T00:00:00\",\"2014-11-11T00:00:00\",\"2014-11-12T00:00:00\",\"2014-11-13T00:00:00\",\"2014-11-14T00:00:00\",\"2014-11-15T00:00:00\",\"2014-11-16T00:00:00\",\"2014-11-17T00:00:00\",\"2014-11-18T00:00:00\",\"2014-11-19T00:00:00\",\"2014-11-20T00:00:00\",\"2014-11-21T00:00:00\",\"2014-11-22T00:00:00\",\"2014-11-23T00:00:00\",\"2014-11-24T00:00:00\",\"2014-11-25T00:00:00\",\"2014-11-26T00:00:00\",\"2014-11-27T00:00:00\",\"2014-11-28T00:00:00\",\"2014-11-29T00:00:00\",\"2014-11-30T00:00:00\",\"2014-12-01T00:00:00\",\"2014-12-02T00:00:00\",\"2014-12-03T00:00:00\",\"2014-12-04T00:00:00\",\"2014-12-05T00:00:00\",\"2014-12-06T00:00:00\",\"2014-12-07T00:00:00\",\"2014-12-08T00:00:00\",\"2014-12-09T00:00:00\",\"2014-12-10T00:00:00\",\"2014-12-11T00:00:00\",\"2014-12-12T00:00:00\",\"2014-12-13T00:00:00\",\"2014-12-14T00:00:00\",\"2014-12-15T00:00:00\",\"2014-12-16T00:00:00\",\"2014-12-17T00:00:00\",\"2014-12-18T00:00:00\",\"2014-12-19T00:00:00\",\"2014-12-20T00:00:00\",\"2014-12-21T00:00:00\",\"2014-12-22T00:00:00\",\"2014-12-23T00:00:00\",\"2014-12-24T00:00:00\",\"2014-12-25T00:00:00\",\"2014-12-26T00:00:00\",\"2014-12-27T00:00:00\",\"2014-12-28T00:00:00\",\"2014-12-29T00:00:00\",\"2014-12-30T00:00:00\",\"2014-12-31T00:00:00\",\"2015-01-01T00:00:00\",\"2015-01-02T00:00:00\",\"2015-01-03T00:00:00\",\"2015-01-04T00:00:00\",\"2015-01-05T00:00:00\",\"2015-01-06T00:00:00\",\"2015-01-07T00:00:00\",\"2015-01-08T00:00:00\",\"2015-01-09T00:00:00\",\"2015-01-10T00:00:00\",\"2015-01-11T00:00:00\",\"2015-01-12T00:00:00\",\"2015-01-13T00:00:00\",\"2015-01-14T00:00:00\",\"2015-01-15T00:00:00\",\"2015-01-16T00:00:00\",\"2015-01-17T00:00:00\",\"2015-01-18T00:00:00\",\"2015-01-19T00:00:00\",\"2015-01-20T00:00:00\",\"2015-01-21T00:00:00\",\"2015-01-22T00:00:00\",\"2015-01-23T00:00:00\",\"2015-01-24T00:00:00\",\"2015-01-25T00:00:00\",\"2015-01-26T00:00:00\",\"2015-01-27T00:00:00\",\"2015-01-28T00:00:00\",\"2015-01-29T00:00:00\",\"2015-01-30T00:00:00\",\"2015-01-31T00:00:00\",\"2015-02-01T00:00:00\",\"2015-02-02T00:00:00\",\"2015-02-03T00:00:00\",\"2015-02-04T00:00:00\",\"2015-02-05T00:00:00\",\"2015-02-06T00:00:00\",\"2015-02-07T00:00:00\",\"2015-02-08T00:00:00\",\"2015-02-09T00:00:00\",\"2015-02-10T00:00:00\",\"2015-02-11T00:00:00\",\"2015-02-12T00:00:00\",\"2015-02-13T00:00:00\",\"2015-02-14T00:00:00\",\"2015-02-15T00:00:00\",\"2015-02-16T00:00:00\",\"2015-02-17T00:00:00\",\"2015-02-18T00:00:00\",\"2015-02-19T00:00:00\",\"2015-02-20T00:00:00\",\"2015-02-21T00:00:00\",\"2015-02-22T00:00:00\",\"2015-02-23T00:00:00\",\"2015-02-24T00:00:00\",\"2015-02-25T00:00:00\",\"2015-02-26T00:00:00\",\"2015-02-27T00:00:00\",\"2015-02-28T00:00:00\",\"2015-03-01T00:00:00\",\"2015-03-02T00:00:00\",\"2015-03-03T00:00:00\",\"2015-03-04T00:00:00\",\"2015-03-05T00:00:00\",\"2015-03-06T00:00:00\",\"2015-03-07T00:00:00\",\"2015-03-08T00:00:00\",\"2015-03-09T00:00:00\",\"2015-03-10T00:00:00\",\"2015-03-11T00:00:00\",\"2015-03-12T00:00:00\",\"2015-03-13T00:00:00\",\"2015-03-14T00:00:00\",\"2015-03-15T00:00:00\",\"2015-03-16T00:00:00\",\"2015-03-17T00:00:00\",\"2015-03-18T00:00:00\",\"2015-03-19T00:00:00\",\"2015-03-20T00:00:00\",\"2015-03-21T00:00:00\",\"2015-03-22T00:00:00\",\"2015-03-23T00:00:00\",\"2015-03-24T00:00:00\",\"2015-03-25T00:00:00\",\"2015-03-26T00:00:00\",\"2015-03-27T00:00:00\",\"2015-03-28T00:00:00\",\"2015-03-29T00:00:00\",\"2015-03-30T00:00:00\",\"2015-03-31T00:00:00\",\"2015-04-01T00:00:00\",\"2015-04-02T00:00:00\",\"2015-04-03T00:00:00\",\"2015-04-04T00:00:00\",\"2015-04-05T00:00:00\",\"2015-04-06T00:00:00\",\"2015-04-07T00:00:00\",\"2015-04-08T00:00:00\",\"2015-04-09T00:00:00\",\"2015-04-10T00:00:00\",\"2015-04-11T00:00:00\",\"2015-04-12T00:00:00\",\"2015-04-13T00:00:00\",\"2015-04-14T00:00:00\",\"2015-04-15T00:00:00\",\"2015-04-16T00:00:00\",\"2015-04-17T00:00:00\",\"2015-04-18T00:00:00\",\"2015-04-19T00:00:00\",\"2015-04-20T00:00:00\",\"2015-04-21T00:00:00\",\"2015-04-22T00:00:00\",\"2015-04-23T00:00:00\",\"2015-04-24T00:00:00\",\"2015-04-25T00:00:00\",\"2015-04-26T00:00:00\",\"2015-04-27T00:00:00\",\"2015-04-28T00:00:00\",\"2015-04-29T00:00:00\",\"2015-04-30T00:00:00\",\"2015-05-01T00:00:00\",\"2015-05-02T00:00:00\",\"2015-05-03T00:00:00\",\"2015-05-04T00:00:00\",\"2015-05-05T00:00:00\",\"2015-05-06T00:00:00\",\"2015-05-07T00:00:00\",\"2015-05-08T00:00:00\",\"2015-05-09T00:00:00\",\"2015-05-10T00:00:00\",\"2015-05-11T00:00:00\",\"2015-05-12T00:00:00\",\"2015-05-13T00:00:00\",\"2015-05-14T00:00:00\",\"2015-05-15T00:00:00\",\"2015-05-16T00:00:00\",\"2015-05-17T00:00:00\",\"2015-05-18T00:00:00\",\"2015-05-19T00:00:00\",\"2015-05-20T00:00:00\",\"2015-05-21T00:00:00\",\"2015-05-22T00:00:00\",\"2015-05-23T00:00:00\",\"2015-05-24T00:00:00\",\"2015-05-25T00:00:00\",\"2015-05-26T00:00:00\",\"2015-05-27T00:00:00\",\"2015-05-28T00:00:00\",\"2015-05-29T00:00:00\",\"2015-05-30T00:00:00\",\"2015-05-31T00:00:00\",\"2015-06-01T00:00:00\",\"2015-06-02T00:00:00\",\"2015-06-03T00:00:00\",\"2015-06-04T00:00:00\",\"2015-06-05T00:00:00\",\"2015-06-06T00:00:00\",\"2015-06-07T00:00:00\",\"2015-06-08T00:00:00\",\"2015-06-09T00:00:00\",\"2015-06-10T00:00:00\",\"2015-06-11T00:00:00\",\"2015-06-12T00:00:00\",\"2015-06-13T00:00:00\",\"2015-06-14T00:00:00\",\"2015-06-15T00:00:00\",\"2015-06-16T00:00:00\",\"2015-06-17T00:00:00\",\"2015-06-18T00:00:00\",\"2015-06-19T00:00:00\",\"2015-06-20T00:00:00\",\"2015-06-21T00:00:00\",\"2015-06-22T00:00:00\",\"2015-06-23T00:00:00\",\"2015-06-24T00:00:00\",\"2015-06-25T00:00:00\",\"2015-06-26T00:00:00\",\"2015-06-27T00:00:00\",\"2015-06-28T00:00:00\",\"2015-06-29T00:00:00\",\"2015-06-30T00:00:00\",\"2015-07-01T00:00:00\",\"2015-07-02T00:00:00\",\"2015-07-03T00:00:00\",\"2015-07-04T00:00:00\",\"2015-07-05T00:00:00\",\"2015-07-06T00:00:00\",\"2015-07-07T00:00:00\",\"2015-07-08T00:00:00\",\"2015-07-09T00:00:00\",\"2015-07-10T00:00:00\",\"2015-07-11T00:00:00\",\"2015-07-12T00:00:00\",\"2015-07-13T00:00:00\",\"2015-07-14T00:00:00\",\"2015-07-15T00:00:00\",\"2015-07-16T00:00:00\",\"2015-07-17T00:00:00\",\"2015-07-18T00:00:00\",\"2015-07-19T00:00:00\",\"2015-07-20T00:00:00\",\"2015-07-21T00:00:00\",\"2015-07-22T00:00:00\",\"2015-07-23T00:00:00\",\"2015-07-24T00:00:00\",\"2015-07-25T00:00:00\",\"2015-07-26T00:00:00\",\"2015-07-27T00:00:00\",\"2015-07-28T00:00:00\",\"2015-07-29T00:00:00\",\"2015-07-30T00:00:00\",\"2015-07-31T00:00:00\",\"2015-08-01T00:00:00\",\"2015-08-02T00:00:00\",\"2015-08-03T00:00:00\",\"2015-08-04T00:00:00\",\"2015-08-05T00:00:00\",\"2015-08-06T00:00:00\",\"2015-08-07T00:00:00\",\"2015-08-08T00:00:00\",\"2015-08-09T00:00:00\",\"2015-08-10T00:00:00\",\"2015-08-11T00:00:00\",\"2015-08-12T00:00:00\",\"2015-08-13T00:00:00\",\"2015-08-14T00:00:00\",\"2015-08-15T00:00:00\",\"2015-08-16T00:00:00\",\"2015-08-17T00:00:00\",\"2015-08-18T00:00:00\",\"2015-08-19T00:00:00\",\"2015-08-20T00:00:00\",\"2015-08-21T00:00:00\",\"2015-08-22T00:00:00\",\"2015-08-23T00:00:00\",\"2015-08-24T00:00:00\",\"2015-08-25T00:00:00\",\"2015-08-26T00:00:00\",\"2015-08-27T00:00:00\",\"2015-08-28T00:00:00\",\"2015-08-29T00:00:00\",\"2015-08-30T00:00:00\",\"2015-08-31T00:00:00\",\"2015-09-01T00:00:00\",\"2015-09-02T00:00:00\",\"2015-09-03T00:00:00\",\"2015-09-04T00:00:00\",\"2015-09-05T00:00:00\",\"2015-09-06T00:00:00\",\"2015-09-07T00:00:00\",\"2015-09-08T00:00:00\",\"2015-09-09T00:00:00\",\"2015-09-10T00:00:00\",\"2015-09-11T00:00:00\",\"2015-09-12T00:00:00\",\"2015-09-13T00:00:00\",\"2015-09-14T00:00:00\",\"2015-09-15T00:00:00\",\"2015-09-16T00:00:00\",\"2015-09-17T00:00:00\",\"2015-09-18T00:00:00\",\"2015-09-19T00:00:00\",\"2015-09-20T00:00:00\",\"2015-09-21T00:00:00\",\"2015-09-22T00:00:00\",\"2015-09-23T00:00:00\",\"2015-09-24T00:00:00\",\"2015-09-25T00:00:00\",\"2015-09-26T00:00:00\",\"2015-09-27T00:00:00\",\"2015-09-28T00:00:00\",\"2015-09-29T00:00:00\",\"2015-09-30T00:00:00\",\"2015-10-01T00:00:00\",\"2015-10-02T00:00:00\",\"2015-10-03T00:00:00\",\"2015-10-04T00:00:00\",\"2015-10-05T00:00:00\",\"2015-10-06T00:00:00\",\"2015-10-07T00:00:00\",\"2015-10-08T00:00:00\",\"2015-10-09T00:00:00\",\"2015-10-10T00:00:00\",\"2015-10-11T00:00:00\",\"2015-10-12T00:00:00\",\"2015-10-13T00:00:00\",\"2015-10-14T00:00:00\",\"2015-10-15T00:00:00\",\"2015-10-16T00:00:00\",\"2015-10-17T00:00:00\",\"2015-10-18T00:00:00\",\"2015-10-19T00:00:00\",\"2015-10-20T00:00:00\",\"2015-10-21T00:00:00\",\"2015-10-22T00:00:00\",\"2015-10-23T00:00:00\",\"2015-10-24T00:00:00\",\"2015-10-25T00:00:00\",\"2015-10-26T00:00:00\",\"2015-10-27T00:00:00\",\"2015-10-28T00:00:00\",\"2015-10-29T00:00:00\",\"2015-10-30T00:00:00\",\"2015-10-31T00:00:00\",\"2015-11-01T00:00:00\",\"2015-11-02T00:00:00\",\"2015-11-03T00:00:00\",\"2015-11-04T00:00:00\",\"2015-11-05T00:00:00\",\"2015-11-06T00:00:00\",\"2015-11-07T00:00:00\",\"2015-11-08T00:00:00\",\"2015-11-09T00:00:00\",\"2015-11-10T00:00:00\",\"2015-11-11T00:00:00\",\"2015-11-12T00:00:00\",\"2015-11-13T00:00:00\",\"2015-11-14T00:00:00\",\"2015-11-15T00:00:00\",\"2015-11-16T00:00:00\",\"2015-11-17T00:00:00\",\"2015-11-18T00:00:00\",\"2015-11-19T00:00:00\",\"2015-11-20T00:00:00\",\"2015-11-21T00:00:00\",\"2015-11-22T00:00:00\",\"2015-11-23T00:00:00\",\"2015-11-24T00:00:00\",\"2015-11-25T00:00:00\",\"2015-11-26T00:00:00\",\"2015-11-27T00:00:00\",\"2015-11-28T00:00:00\",\"2015-11-29T00:00:00\",\"2015-11-30T00:00:00\",\"2015-12-01T00:00:00\",\"2015-12-02T00:00:00\",\"2015-12-03T00:00:00\",\"2015-12-04T00:00:00\",\"2015-12-05T00:00:00\",\"2015-12-06T00:00:00\",\"2015-12-07T00:00:00\",\"2015-12-08T00:00:00\",\"2015-12-09T00:00:00\",\"2015-12-10T00:00:00\",\"2015-12-11T00:00:00\",\"2015-12-12T00:00:00\",\"2015-12-13T00:00:00\",\"2015-12-14T00:00:00\",\"2015-12-15T00:00:00\",\"2015-12-16T00:00:00\",\"2015-12-17T00:00:00\",\"2015-12-18T00:00:00\",\"2015-12-19T00:00:00\",\"2015-12-20T00:00:00\",\"2015-12-21T00:00:00\",\"2015-12-22T00:00:00\",\"2015-12-23T00:00:00\",\"2015-12-24T00:00:00\",\"2015-12-25T00:00:00\",\"2015-12-26T00:00:00\",\"2015-12-27T00:00:00\",\"2015-12-28T00:00:00\",\"2015-12-29T00:00:00\",\"2015-12-30T00:00:00\",\"2015-12-31T00:00:00\",\"2016-01-01T00:00:00\",\"2016-01-02T00:00:00\",\"2016-01-03T00:00:00\",\"2016-01-04T00:00:00\",\"2016-01-05T00:00:00\",\"2016-01-06T00:00:00\",\"2016-01-07T00:00:00\",\"2016-01-08T00:00:00\",\"2016-01-09T00:00:00\",\"2016-01-10T00:00:00\",\"2016-01-11T00:00:00\",\"2016-01-12T00:00:00\",\"2016-01-13T00:00:00\",\"2016-01-14T00:00:00\",\"2016-01-15T00:00:00\",\"2016-01-16T00:00:00\",\"2016-01-17T00:00:00\",\"2016-01-18T00:00:00\",\"2016-01-19T00:00:00\",\"2016-01-20T00:00:00\",\"2016-01-21T00:00:00\",\"2016-01-22T00:00:00\",\"2016-01-23T00:00:00\",\"2016-01-24T00:00:00\",\"2016-01-25T00:00:00\",\"2016-01-26T00:00:00\",\"2016-01-27T00:00:00\",\"2016-01-28T00:00:00\",\"2016-01-29T00:00:00\",\"2016-01-30T00:00:00\",\"2016-01-31T00:00:00\",\"2016-02-01T00:00:00\",\"2016-02-02T00:00:00\",\"2016-02-03T00:00:00\",\"2016-02-04T00:00:00\",\"2016-02-05T00:00:00\",\"2016-02-06T00:00:00\",\"2016-02-07T00:00:00\",\"2016-02-08T00:00:00\",\"2016-02-09T00:00:00\",\"2016-02-10T00:00:00\",\"2016-02-11T00:00:00\",\"2016-02-12T00:00:00\",\"2016-02-13T00:00:00\",\"2016-02-14T00:00:00\",\"2016-02-15T00:00:00\",\"2016-02-16T00:00:00\",\"2016-02-17T00:00:00\",\"2016-02-18T00:00:00\",\"2016-02-19T00:00:00\",\"2016-02-20T00:00:00\",\"2016-02-21T00:00:00\",\"2016-02-22T00:00:00\",\"2016-02-23T00:00:00\",\"2016-02-24T00:00:00\",\"2016-02-25T00:00:00\",\"2016-02-26T00:00:00\",\"2016-02-27T00:00:00\",\"2016-02-28T00:00:00\",\"2016-02-29T00:00:00\",\"2016-03-01T00:00:00\",\"2016-03-02T00:00:00\",\"2016-03-03T00:00:00\",\"2016-03-04T00:00:00\",\"2016-03-05T00:00:00\",\"2016-03-06T00:00:00\",\"2016-03-07T00:00:00\",\"2016-03-08T00:00:00\",\"2016-03-09T00:00:00\",\"2016-03-10T00:00:00\",\"2016-03-11T00:00:00\",\"2016-03-12T00:00:00\",\"2016-03-13T00:00:00\",\"2016-03-14T00:00:00\",\"2016-03-15T00:00:00\",\"2016-03-16T00:00:00\",\"2016-03-17T00:00:00\",\"2016-03-18T00:00:00\",\"2016-03-19T00:00:00\",\"2016-03-20T00:00:00\",\"2016-03-21T00:00:00\",\"2016-03-22T00:00:00\",\"2016-03-23T00:00:00\",\"2016-03-24T00:00:00\",\"2016-03-25T00:00:00\",\"2016-03-26T00:00:00\",\"2016-03-27T00:00:00\",\"2016-03-28T00:00:00\",\"2016-03-29T00:00:00\",\"2016-03-30T00:00:00\",\"2016-03-31T00:00:00\",\"2016-04-01T00:00:00\",\"2016-04-02T00:00:00\",\"2016-04-03T00:00:00\",\"2016-04-04T00:00:00\",\"2016-04-05T00:00:00\",\"2016-04-06T00:00:00\",\"2016-04-07T00:00:00\",\"2016-04-08T00:00:00\",\"2016-04-09T00:00:00\",\"2016-04-10T00:00:00\",\"2016-04-11T00:00:00\",\"2016-04-12T00:00:00\",\"2016-04-13T00:00:00\",\"2016-04-14T00:00:00\",\"2016-04-15T00:00:00\",\"2016-04-16T00:00:00\",\"2016-04-17T00:00:00\",\"2016-04-18T00:00:00\",\"2016-04-19T00:00:00\",\"2016-04-20T00:00:00\",\"2016-04-21T00:00:00\",\"2016-04-22T00:00:00\",\"2016-04-23T00:00:00\",\"2016-04-24T00:00:00\",\"2016-04-25T00:00:00\",\"2016-04-26T00:00:00\",\"2016-04-27T00:00:00\",\"2016-04-28T00:00:00\",\"2016-04-29T00:00:00\",\"2016-04-30T00:00:00\",\"2016-05-01T00:00:00\",\"2016-05-02T00:00:00\",\"2016-05-03T00:00:00\",\"2016-05-04T00:00:00\",\"2016-05-05T00:00:00\",\"2016-05-06T00:00:00\",\"2016-05-07T00:00:00\",\"2016-05-08T00:00:00\",\"2016-05-09T00:00:00\",\"2016-05-10T00:00:00\",\"2016-05-11T00:00:00\",\"2016-05-12T00:00:00\",\"2016-05-13T00:00:00\",\"2016-05-14T00:00:00\",\"2016-05-15T00:00:00\",\"2016-05-16T00:00:00\",\"2016-05-17T00:00:00\",\"2016-05-18T00:00:00\",\"2016-05-19T00:00:00\",\"2016-05-20T00:00:00\",\"2016-05-21T00:00:00\",\"2016-05-22T00:00:00\",\"2016-05-23T00:00:00\",\"2016-05-24T00:00:00\",\"2016-05-25T00:00:00\",\"2016-05-26T00:00:00\",\"2016-05-27T00:00:00\",\"2016-05-28T00:00:00\",\"2016-05-29T00:00:00\",\"2016-05-30T00:00:00\",\"2016-05-31T00:00:00\",\"2016-06-01T00:00:00\",\"2016-06-02T00:00:00\",\"2016-06-03T00:00:00\",\"2016-06-04T00:00:00\",\"2016-06-05T00:00:00\",\"2016-06-06T00:00:00\",\"2016-06-07T00:00:00\",\"2016-06-08T00:00:00\",\"2016-06-09T00:00:00\",\"2016-06-10T00:00:00\",\"2016-06-11T00:00:00\",\"2016-06-12T00:00:00\",\"2016-06-13T00:00:00\",\"2016-06-14T00:00:00\",\"2016-06-15T00:00:00\",\"2016-06-16T00:00:00\",\"2016-06-17T00:00:00\",\"2016-06-18T00:00:00\",\"2016-06-19T00:00:00\",\"2016-06-20T00:00:00\",\"2016-06-21T00:00:00\",\"2016-06-22T00:00:00\",\"2016-06-23T00:00:00\",\"2016-06-24T00:00:00\",\"2016-06-25T00:00:00\",\"2016-06-26T00:00:00\",\"2016-06-27T00:00:00\",\"2016-06-28T00:00:00\",\"2016-06-29T00:00:00\",\"2016-06-30T00:00:00\",\"2016-07-01T00:00:00\",\"2016-07-02T00:00:00\",\"2016-07-03T00:00:00\",\"2016-07-04T00:00:00\",\"2016-07-05T00:00:00\",\"2016-07-06T00:00:00\",\"2016-07-07T00:00:00\",\"2016-07-08T00:00:00\",\"2016-07-09T00:00:00\",\"2016-07-10T00:00:00\",\"2016-07-11T00:00:00\",\"2016-07-12T00:00:00\",\"2016-07-13T00:00:00\",\"2016-07-14T00:00:00\",\"2016-07-15T00:00:00\",\"2016-07-16T00:00:00\",\"2016-07-17T00:00:00\",\"2016-07-18T00:00:00\",\"2016-07-19T00:00:00\",\"2016-07-20T00:00:00\",\"2016-07-21T00:00:00\",\"2016-07-22T00:00:00\",\"2016-07-23T00:00:00\",\"2016-07-24T00:00:00\",\"2016-07-25T00:00:00\",\"2016-07-26T00:00:00\",\"2016-07-27T00:00:00\",\"2016-07-28T00:00:00\",\"2016-07-29T00:00:00\",\"2016-07-30T00:00:00\",\"2016-07-31T00:00:00\",\"2016-08-01T00:00:00\",\"2016-08-02T00:00:00\",\"2016-08-03T00:00:00\",\"2016-08-04T00:00:00\",\"2016-08-05T00:00:00\",\"2016-08-06T00:00:00\",\"2016-08-07T00:00:00\",\"2016-08-08T00:00:00\",\"2016-08-09T00:00:00\",\"2016-08-10T00:00:00\",\"2016-08-11T00:00:00\",\"2016-08-12T00:00:00\",\"2016-08-13T00:00:00\",\"2016-08-14T00:00:00\",\"2016-08-15T00:00:00\",\"2016-08-16T00:00:00\",\"2016-08-17T00:00:00\",\"2016-08-18T00:00:00\",\"2016-08-19T00:00:00\",\"2016-08-20T00:00:00\",\"2016-08-21T00:00:00\",\"2016-08-22T00:00:00\",\"2016-08-23T00:00:00\",\"2016-08-24T00:00:00\",\"2016-08-25T00:00:00\",\"2016-08-26T00:00:00\",\"2016-08-27T00:00:00\",\"2016-08-28T00:00:00\",\"2016-08-29T00:00:00\",\"2016-08-30T00:00:00\",\"2016-08-31T00:00:00\",\"2016-09-01T00:00:00\",\"2016-09-02T00:00:00\",\"2016-09-03T00:00:00\",\"2016-09-04T00:00:00\",\"2016-09-05T00:00:00\",\"2016-09-06T00:00:00\",\"2016-09-07T00:00:00\",\"2016-09-08T00:00:00\",\"2016-09-09T00:00:00\",\"2016-09-10T00:00:00\",\"2016-09-11T00:00:00\",\"2016-09-12T00:00:00\",\"2016-09-13T00:00:00\",\"2016-09-14T00:00:00\",\"2016-09-15T00:00:00\",\"2016-09-16T00:00:00\",\"2016-09-17T00:00:00\",\"2016-09-18T00:00:00\",\"2016-09-19T00:00:00\",\"2016-09-20T00:00:00\",\"2016-09-21T00:00:00\",\"2016-09-22T00:00:00\",\"2016-09-23T00:00:00\",\"2016-09-24T00:00:00\",\"2016-09-25T00:00:00\",\"2016-09-26T00:00:00\",\"2016-09-27T00:00:00\",\"2016-09-28T00:00:00\",\"2016-09-29T00:00:00\",\"2016-09-30T00:00:00\",\"2016-10-01T00:00:00\",\"2016-10-02T00:00:00\",\"2016-10-03T00:00:00\",\"2016-10-04T00:00:00\",\"2016-10-05T00:00:00\",\"2016-10-06T00:00:00\",\"2016-10-07T00:00:00\",\"2016-10-08T00:00:00\",\"2016-10-09T00:00:00\",\"2016-10-10T00:00:00\",\"2016-10-11T00:00:00\",\"2016-10-12T00:00:00\",\"2016-10-13T00:00:00\",\"2016-10-14T00:00:00\",\"2016-10-15T00:00:00\",\"2016-10-16T00:00:00\",\"2016-10-17T00:00:00\",\"2016-10-18T00:00:00\",\"2016-10-19T00:00:00\",\"2016-10-20T00:00:00\",\"2016-10-21T00:00:00\",\"2016-10-22T00:00:00\",\"2016-10-23T00:00:00\",\"2016-10-24T00:00:00\",\"2016-10-25T00:00:00\",\"2016-10-26T00:00:00\",\"2016-10-27T00:00:00\",\"2016-10-28T00:00:00\",\"2016-10-29T00:00:00\",\"2016-10-30T00:00:00\",\"2016-10-31T00:00:00\",\"2016-11-01T00:00:00\",\"2016-11-02T00:00:00\",\"2016-11-03T00:00:00\",\"2016-11-04T00:00:00\",\"2016-11-05T00:00:00\",\"2016-11-06T00:00:00\",\"2016-11-07T00:00:00\",\"2016-11-08T00:00:00\",\"2016-11-09T00:00:00\",\"2016-11-10T00:00:00\",\"2016-11-11T00:00:00\",\"2016-11-12T00:00:00\",\"2016-11-13T00:00:00\",\"2016-11-14T00:00:00\",\"2016-11-15T00:00:00\",\"2016-11-16T00:00:00\",\"2016-11-17T00:00:00\",\"2016-11-18T00:00:00\",\"2016-11-19T00:00:00\",\"2016-11-20T00:00:00\",\"2016-11-21T00:00:00\",\"2016-11-22T00:00:00\",\"2016-11-23T00:00:00\",\"2016-11-24T00:00:00\",\"2016-11-25T00:00:00\",\"2016-11-26T00:00:00\",\"2016-11-27T00:00:00\",\"2016-11-28T00:00:00\",\"2016-11-29T00:00:00\",\"2016-11-30T00:00:00\",\"2016-12-01T00:00:00\",\"2016-12-02T00:00:00\",\"2016-12-03T00:00:00\",\"2016-12-04T00:00:00\",\"2016-12-05T00:00:00\",\"2016-12-06T00:00:00\",\"2016-12-07T00:00:00\",\"2016-12-08T00:00:00\",\"2016-12-09T00:00:00\",\"2016-12-10T00:00:00\",\"2016-12-11T00:00:00\",\"2016-12-12T00:00:00\",\"2016-12-13T00:00:00\",\"2016-12-14T00:00:00\",\"2016-12-15T00:00:00\",\"2016-12-16T00:00:00\",\"2016-12-17T00:00:00\",\"2016-12-18T00:00:00\",\"2016-12-19T00:00:00\",\"2016-12-20T00:00:00\",\"2016-12-21T00:00:00\",\"2016-12-22T00:00:00\",\"2016-12-23T00:00:00\",\"2016-12-24T00:00:00\",\"2016-12-25T00:00:00\",\"2016-12-26T00:00:00\",\"2016-12-27T00:00:00\",\"2016-12-28T00:00:00\",\"2016-12-29T00:00:00\",\"2016-12-30T00:00:00\",\"2016-12-31T00:00:00\",\"2017-01-01T00:00:00\",\"2017-01-02T00:00:00\",\"2017-01-03T00:00:00\",\"2017-01-04T00:00:00\",\"2017-01-05T00:00:00\",\"2017-01-06T00:00:00\",\"2017-01-07T00:00:00\",\"2017-01-08T00:00:00\",\"2017-01-09T00:00:00\",\"2017-01-10T00:00:00\",\"2017-01-11T00:00:00\",\"2017-01-12T00:00:00\",\"2017-01-13T00:00:00\",\"2017-01-14T00:00:00\",\"2017-01-15T00:00:00\",\"2017-01-16T00:00:00\",\"2017-01-17T00:00:00\",\"2017-01-18T00:00:00\",\"2017-01-19T00:00:00\",\"2017-01-20T00:00:00\",\"2017-01-21T00:00:00\",\"2017-01-22T00:00:00\",\"2017-01-23T00:00:00\",\"2017-01-24T00:00:00\",\"2017-01-25T00:00:00\",\"2017-01-26T00:00:00\",\"2017-01-27T00:00:00\",\"2017-01-28T00:00:00\",\"2017-01-29T00:00:00\",\"2017-01-30T00:00:00\",\"2017-01-31T00:00:00\",\"2017-02-01T00:00:00\",\"2017-02-02T00:00:00\",\"2017-02-03T00:00:00\",\"2017-02-04T00:00:00\",\"2017-02-05T00:00:00\",\"2017-02-06T00:00:00\",\"2017-02-07T00:00:00\",\"2017-02-08T00:00:00\",\"2017-02-09T00:00:00\",\"2017-02-10T00:00:00\",\"2017-02-11T00:00:00\",\"2017-02-12T00:00:00\",\"2017-02-13T00:00:00\",\"2017-02-14T00:00:00\",\"2017-02-15T00:00:00\",\"2017-02-16T00:00:00\",\"2017-02-17T00:00:00\",\"2017-02-18T00:00:00\",\"2017-02-19T00:00:00\",\"2017-02-20T00:00:00\",\"2017-02-21T00:00:00\",\"2017-02-22T00:00:00\",\"2017-02-23T00:00:00\",\"2017-02-24T00:00:00\",\"2017-02-25T00:00:00\",\"2017-02-26T00:00:00\",\"2017-02-27T00:00:00\",\"2017-02-28T00:00:00\",\"2017-03-01T00:00:00\",\"2017-03-02T00:00:00\",\"2017-03-03T00:00:00\",\"2017-03-04T00:00:00\",\"2017-03-05T00:00:00\",\"2017-03-06T00:00:00\",\"2017-03-07T00:00:00\",\"2017-03-08T00:00:00\",\"2017-03-09T00:00:00\",\"2017-03-10T00:00:00\",\"2017-03-11T00:00:00\",\"2017-03-12T00:00:00\",\"2017-03-13T00:00:00\",\"2017-03-14T00:00:00\",\"2017-03-15T00:00:00\",\"2017-03-16T00:00:00\",\"2017-03-17T00:00:00\",\"2017-03-18T00:00:00\",\"2017-03-19T00:00:00\",\"2017-03-20T00:00:00\",\"2017-03-21T00:00:00\",\"2017-03-22T00:00:00\",\"2017-03-23T00:00:00\",\"2017-03-24T00:00:00\",\"2017-03-25T00:00:00\",\"2017-03-26T00:00:00\",\"2017-03-27T00:00:00\",\"2017-03-28T00:00:00\",\"2017-03-29T00:00:00\",\"2017-03-30T00:00:00\",\"2017-03-31T00:00:00\",\"2017-04-01T00:00:00\",\"2017-04-02T00:00:00\",\"2017-04-03T00:00:00\",\"2017-04-04T00:00:00\",\"2017-04-05T00:00:00\",\"2017-04-06T00:00:00\",\"2017-04-07T00:00:00\",\"2017-04-08T00:00:00\",\"2017-04-09T00:00:00\",\"2017-04-10T00:00:00\",\"2017-04-11T00:00:00\",\"2017-04-12T00:00:00\",\"2017-04-13T00:00:00\",\"2017-04-14T00:00:00\",\"2017-04-15T00:00:00\",\"2017-04-16T00:00:00\",\"2017-04-17T00:00:00\",\"2017-04-18T00:00:00\",\"2017-04-19T00:00:00\",\"2017-04-20T00:00:00\",\"2017-04-21T00:00:00\",\"2017-04-22T00:00:00\",\"2017-04-23T00:00:00\",\"2017-04-24T00:00:00\",\"2017-04-25T00:00:00\",\"2017-04-26T00:00:00\",\"2017-04-27T00:00:00\",\"2017-04-28T00:00:00\",\"2017-04-29T00:00:00\",\"2017-04-30T00:00:00\",\"2017-05-01T00:00:00\",\"2017-05-02T00:00:00\",\"2017-05-03T00:00:00\",\"2017-05-04T00:00:00\",\"2017-05-05T00:00:00\",\"2017-05-06T00:00:00\",\"2017-05-07T00:00:00\",\"2017-05-08T00:00:00\",\"2017-05-09T00:00:00\",\"2017-05-10T00:00:00\",\"2017-05-11T00:00:00\",\"2017-05-12T00:00:00\",\"2017-05-13T00:00:00\",\"2017-05-14T00:00:00\",\"2017-05-15T00:00:00\",\"2017-05-16T00:00:00\",\"2017-05-17T00:00:00\",\"2017-05-18T00:00:00\",\"2017-05-19T00:00:00\",\"2017-05-20T00:00:00\",\"2017-05-21T00:00:00\",\"2017-05-22T00:00:00\",\"2017-05-23T00:00:00\",\"2017-05-24T00:00:00\",\"2017-05-25T00:00:00\",\"2017-05-26T00:00:00\",\"2017-05-27T00:00:00\",\"2017-05-28T00:00:00\",\"2017-05-29T00:00:00\",\"2017-05-30T00:00:00\",\"2017-05-31T00:00:00\",\"2017-06-01T00:00:00\",\"2017-06-02T00:00:00\",\"2017-06-03T00:00:00\",\"2017-06-04T00:00:00\",\"2017-06-05T00:00:00\",\"2017-06-06T00:00:00\",\"2017-06-07T00:00:00\",\"2017-06-08T00:00:00\",\"2017-06-09T00:00:00\",\"2017-06-10T00:00:00\",\"2017-06-11T00:00:00\",\"2017-06-12T00:00:00\",\"2017-06-13T00:00:00\",\"2017-06-14T00:00:00\",\"2017-06-15T00:00:00\",\"2017-06-16T00:00:00\",\"2017-06-17T00:00:00\",\"2017-06-18T00:00:00\",\"2017-06-19T00:00:00\",\"2017-06-20T00:00:00\",\"2017-06-21T00:00:00\",\"2017-06-22T00:00:00\",\"2017-06-23T00:00:00\",\"2017-06-24T00:00:00\",\"2017-06-25T00:00:00\",\"2017-06-26T00:00:00\",\"2017-06-27T00:00:00\",\"2017-06-28T00:00:00\",\"2017-06-29T00:00:00\",\"2017-06-30T00:00:00\",\"2017-07-01T00:00:00\",\"2017-07-02T00:00:00\",\"2017-07-03T00:00:00\",\"2017-07-04T00:00:00\",\"2017-07-05T00:00:00\",\"2017-07-06T00:00:00\",\"2017-07-07T00:00:00\",\"2017-07-08T00:00:00\",\"2017-07-09T00:00:00\",\"2017-07-10T00:00:00\",\"2017-07-11T00:00:00\",\"2017-07-12T00:00:00\",\"2017-07-13T00:00:00\",\"2017-07-14T00:00:00\",\"2017-07-15T00:00:00\",\"2017-07-16T00:00:00\",\"2017-07-17T00:00:00\",\"2017-07-18T00:00:00\",\"2017-07-19T00:00:00\",\"2017-07-20T00:00:00\",\"2017-07-21T00:00:00\",\"2017-07-22T00:00:00\",\"2017-07-23T00:00:00\",\"2017-07-24T00:00:00\",\"2017-07-25T00:00:00\",\"2017-07-26T00:00:00\",\"2017-07-27T00:00:00\",\"2017-07-28T00:00:00\",\"2017-07-29T00:00:00\",\"2017-07-30T00:00:00\",\"2017-07-31T00:00:00\",\"2017-08-01T00:00:00\",\"2017-08-02T00:00:00\",\"2017-08-03T00:00:00\",\"2017-08-04T00:00:00\",\"2017-08-05T00:00:00\",\"2017-08-06T00:00:00\",\"2017-08-07T00:00:00\",\"2017-08-08T00:00:00\",\"2017-08-09T00:00:00\",\"2017-08-10T00:00:00\",\"2017-08-11T00:00:00\",\"2017-08-12T00:00:00\",\"2017-08-13T00:00:00\",\"2017-08-14T00:00:00\",\"2017-08-15T00:00:00\",\"2017-08-16T00:00:00\",\"2017-08-17T00:00:00\",\"2017-08-18T00:00:00\",\"2017-08-19T00:00:00\",\"2017-08-20T00:00:00\",\"2017-08-21T00:00:00\",\"2017-08-22T00:00:00\",\"2017-08-23T00:00:00\",\"2017-08-24T00:00:00\",\"2017-08-25T00:00:00\",\"2017-08-26T00:00:00\",\"2017-08-27T00:00:00\",\"2017-08-28T00:00:00\",\"2017-08-29T00:00:00\",\"2017-08-30T00:00:00\",\"2017-08-31T00:00:00\",\"2017-09-01T00:00:00\",\"2017-09-02T00:00:00\",\"2017-09-03T00:00:00\",\"2017-09-04T00:00:00\",\"2017-09-05T00:00:00\",\"2017-09-06T00:00:00\",\"2017-09-07T00:00:00\",\"2017-09-08T00:00:00\",\"2017-09-09T00:00:00\",\"2017-09-10T00:00:00\",\"2017-09-11T00:00:00\",\"2017-09-12T00:00:00\",\"2017-09-13T00:00:00\",\"2017-09-14T00:00:00\",\"2017-09-15T00:00:00\",\"2017-09-16T00:00:00\",\"2017-09-17T00:00:00\",\"2017-09-18T00:00:00\",\"2017-09-19T00:00:00\",\"2017-09-20T00:00:00\",\"2017-09-21T00:00:00\",\"2017-09-22T00:00:00\",\"2017-09-23T00:00:00\",\"2017-09-24T00:00:00\",\"2017-09-25T00:00:00\",\"2017-09-26T00:00:00\",\"2017-09-27T00:00:00\",\"2017-09-28T00:00:00\",\"2017-09-29T00:00:00\",\"2017-09-30T00:00:00\",\"2017-10-01T00:00:00\",\"2017-10-02T00:00:00\",\"2017-10-03T00:00:00\",\"2017-10-04T00:00:00\",\"2017-10-05T00:00:00\",\"2017-10-06T00:00:00\",\"2017-10-07T00:00:00\",\"2017-10-08T00:00:00\",\"2017-10-09T00:00:00\",\"2017-10-10T00:00:00\",\"2017-10-11T00:00:00\",\"2017-10-12T00:00:00\",\"2017-10-13T00:00:00\",\"2017-10-14T00:00:00\",\"2017-10-15T00:00:00\",\"2017-10-16T00:00:00\",\"2017-10-17T00:00:00\",\"2017-10-18T00:00:00\",\"2017-10-19T00:00:00\",\"2017-10-20T00:00:00\",\"2017-10-21T00:00:00\",\"2017-10-22T00:00:00\",\"2017-10-23T00:00:00\",\"2017-10-24T00:00:00\",\"2017-10-25T00:00:00\",\"2017-10-26T00:00:00\",\"2017-10-27T00:00:00\",\"2017-10-28T00:00:00\",\"2017-10-29T00:00:00\",\"2017-10-30T00:00:00\",\"2017-10-31T00:00:00\",\"2017-11-01T00:00:00\",\"2017-11-02T00:00:00\",\"2017-11-03T00:00:00\",\"2017-11-04T00:00:00\",\"2017-11-05T00:00:00\",\"2017-11-06T00:00:00\",\"2017-11-07T00:00:00\",\"2017-11-08T00:00:00\",\"2017-11-09T00:00:00\",\"2017-11-10T00:00:00\",\"2017-11-11T00:00:00\",\"2017-11-12T00:00:00\",\"2017-11-13T00:00:00\",\"2017-11-14T00:00:00\",\"2017-11-15T00:00:00\",\"2017-11-16T00:00:00\",\"2017-11-17T00:00:00\",\"2017-11-18T00:00:00\",\"2017-11-19T00:00:00\",\"2017-11-20T00:00:00\",\"2017-11-21T00:00:00\",\"2017-11-22T00:00:00\",\"2017-11-23T00:00:00\",\"2017-11-24T00:00:00\",\"2017-11-25T00:00:00\",\"2017-11-26T00:00:00\",\"2017-11-27T00:00:00\",\"2017-11-28T00:00:00\",\"2017-11-29T00:00:00\",\"2017-11-30T00:00:00\",\"2017-12-01T00:00:00\",\"2017-12-02T00:00:00\",\"2017-12-03T00:00:00\",\"2017-12-04T00:00:00\",\"2017-12-05T00:00:00\",\"2017-12-06T00:00:00\",\"2017-12-07T00:00:00\",\"2017-12-08T00:00:00\",\"2017-12-09T00:00:00\",\"2017-12-10T00:00:00\",\"2017-12-11T00:00:00\",\"2017-12-12T00:00:00\",\"2017-12-13T00:00:00\",\"2017-12-14T00:00:00\",\"2017-12-15T00:00:00\",\"2017-12-16T00:00:00\",\"2017-12-17T00:00:00\",\"2017-12-18T00:00:00\",\"2017-12-19T00:00:00\",\"2017-12-20T00:00:00\",\"2017-12-21T00:00:00\",\"2017-12-22T00:00:00\",\"2017-12-23T00:00:00\",\"2017-12-24T00:00:00\",\"2017-12-25T00:00:00\",\"2017-12-26T00:00:00\",\"2017-12-27T00:00:00\",\"2017-12-28T00:00:00\",\"2017-12-29T00:00:00\",\"2017-12-30T00:00:00\",\"2017-12-31T00:00:00\",\"2018-01-01T00:00:00\",\"2018-01-02T00:00:00\",\"2018-01-03T00:00:00\",\"2018-01-04T00:00:00\",\"2018-01-05T00:00:00\",\"2018-01-06T00:00:00\",\"2018-01-07T00:00:00\",\"2018-01-08T00:00:00\",\"2018-01-09T00:00:00\",\"2018-01-10T00:00:00\",\"2018-01-11T00:00:00\",\"2018-01-12T00:00:00\",\"2018-01-13T00:00:00\",\"2018-01-14T00:00:00\",\"2018-01-15T00:00:00\",\"2018-01-16T00:00:00\",\"2018-01-17T00:00:00\",\"2018-01-18T00:00:00\",\"2018-01-19T00:00:00\",\"2018-01-20T00:00:00\",\"2018-01-21T00:00:00\",\"2018-01-22T00:00:00\",\"2018-01-23T00:00:00\",\"2018-01-24T00:00:00\",\"2018-01-25T00:00:00\",\"2018-01-26T00:00:00\",\"2018-01-27T00:00:00\",\"2018-01-28T00:00:00\",\"2018-01-29T00:00:00\",\"2018-01-30T00:00:00\",\"2018-01-31T00:00:00\",\"2018-02-01T00:00:00\",\"2018-02-02T00:00:00\",\"2018-02-03T00:00:00\",\"2018-02-04T00:00:00\",\"2018-02-05T00:00:00\",\"2018-02-06T00:00:00\",\"2018-02-07T00:00:00\",\"2018-02-08T00:00:00\",\"2018-02-09T00:00:00\",\"2018-02-10T00:00:00\",\"2018-02-11T00:00:00\",\"2018-02-12T00:00:00\",\"2018-02-13T00:00:00\",\"2018-02-14T00:00:00\",\"2018-02-15T00:00:00\",\"2018-02-16T00:00:00\",\"2018-02-17T00:00:00\",\"2018-02-18T00:00:00\",\"2018-02-19T00:00:00\",\"2018-02-20T00:00:00\",\"2018-02-21T00:00:00\",\"2018-02-22T00:00:00\",\"2018-02-23T00:00:00\",\"2018-02-24T00:00:00\",\"2018-02-25T00:00:00\",\"2018-02-26T00:00:00\",\"2018-02-27T00:00:00\",\"2018-02-28T00:00:00\",\"2018-03-01T00:00:00\",\"2018-03-02T00:00:00\",\"2018-03-03T00:00:00\",\"2018-03-04T00:00:00\",\"2018-03-05T00:00:00\",\"2018-03-06T00:00:00\",\"2018-03-07T00:00:00\",\"2018-03-08T00:00:00\",\"2018-03-09T00:00:00\",\"2018-03-10T00:00:00\",\"2018-03-11T00:00:00\",\"2018-03-12T00:00:00\",\"2018-03-13T00:00:00\",\"2018-03-14T00:00:00\",\"2018-03-15T00:00:00\",\"2018-03-16T00:00:00\",\"2018-03-17T00:00:00\",\"2018-03-18T00:00:00\",\"2018-03-19T00:00:00\",\"2018-03-20T00:00:00\",\"2018-03-21T00:00:00\",\"2018-03-22T00:00:00\",\"2018-03-23T00:00:00\",\"2018-03-24T00:00:00\",\"2018-03-25T00:00:00\",\"2018-03-26T00:00:00\",\"2018-03-27T00:00:00\",\"2018-03-28T00:00:00\",\"2018-03-29T00:00:00\",\"2018-03-30T00:00:00\",\"2018-03-31T00:00:00\",\"2018-04-01T00:00:00\",\"2018-04-02T00:00:00\",\"2018-04-03T00:00:00\",\"2018-04-04T00:00:00\",\"2018-04-05T00:00:00\",\"2018-04-06T00:00:00\",\"2018-04-07T00:00:00\",\"2018-04-08T00:00:00\",\"2018-04-09T00:00:00\",\"2018-04-10T00:00:00\",\"2018-04-11T00:00:00\",\"2018-04-12T00:00:00\",\"2018-04-13T00:00:00\",\"2018-04-14T00:00:00\",\"2018-04-15T00:00:00\",\"2018-04-16T00:00:00\",\"2018-04-17T00:00:00\",\"2018-04-18T00:00:00\",\"2018-04-19T00:00:00\",\"2018-04-20T00:00:00\",\"2018-04-21T00:00:00\",\"2018-04-22T00:00:00\",\"2018-04-23T00:00:00\",\"2018-04-24T00:00:00\",\"2018-04-25T00:00:00\",\"2018-04-26T00:00:00\",\"2018-04-27T00:00:00\",\"2018-04-28T00:00:00\",\"2018-04-29T00:00:00\",\"2018-04-30T00:00:00\",\"2018-05-01T00:00:00\",\"2018-05-02T00:00:00\",\"2018-05-03T00:00:00\",\"2018-05-04T00:00:00\",\"2018-05-05T00:00:00\",\"2018-05-06T00:00:00\",\"2018-05-07T00:00:00\",\"2018-05-08T00:00:00\",\"2018-05-09T00:00:00\",\"2018-05-10T00:00:00\",\"2018-05-11T00:00:00\",\"2018-05-12T00:00:00\",\"2018-05-13T00:00:00\",\"2018-05-14T00:00:00\",\"2018-05-15T00:00:00\",\"2018-05-16T00:00:00\",\"2018-05-17T00:00:00\",\"2018-05-18T00:00:00\",\"2018-05-19T00:00:00\",\"2018-05-20T00:00:00\",\"2018-05-21T00:00:00\",\"2018-05-22T00:00:00\",\"2018-05-23T00:00:00\",\"2018-05-24T00:00:00\",\"2018-05-25T00:00:00\",\"2018-05-26T00:00:00\",\"2018-05-27T00:00:00\",\"2018-05-28T00:00:00\",\"2018-05-29T00:00:00\",\"2018-05-30T00:00:00\",\"2018-05-31T00:00:00\",\"2018-06-01T00:00:00\",\"2018-06-02T00:00:00\",\"2018-06-03T00:00:00\",\"2018-06-04T00:00:00\",\"2018-06-05T00:00:00\",\"2018-06-06T00:00:00\",\"2018-06-07T00:00:00\",\"2018-06-08T00:00:00\",\"2018-06-09T00:00:00\",\"2018-06-10T00:00:00\",\"2018-06-11T00:00:00\",\"2018-06-12T00:00:00\",\"2018-06-13T00:00:00\",\"2018-06-14T00:00:00\",\"2018-06-15T00:00:00\",\"2018-06-16T00:00:00\",\"2018-06-17T00:00:00\",\"2018-06-18T00:00:00\",\"2018-06-19T00:00:00\",\"2018-06-20T00:00:00\",\"2018-06-21T00:00:00\",\"2018-06-22T00:00:00\",\"2018-06-23T00:00:00\",\"2018-06-24T00:00:00\",\"2018-06-25T00:00:00\",\"2018-06-26T00:00:00\",\"2018-06-27T00:00:00\",\"2018-06-28T00:00:00\",\"2018-06-29T00:00:00\",\"2018-06-30T00:00:00\",\"2018-07-01T00:00:00\",\"2018-07-02T00:00:00\",\"2018-07-03T00:00:00\",\"2018-07-04T00:00:00\",\"2018-07-05T00:00:00\",\"2018-07-06T00:00:00\",\"2018-07-07T00:00:00\",\"2018-07-08T00:00:00\",\"2018-07-09T00:00:00\",\"2018-07-10T00:00:00\",\"2018-07-11T00:00:00\",\"2018-07-12T00:00:00\",\"2018-07-13T00:00:00\",\"2018-07-14T00:00:00\",\"2018-07-15T00:00:00\",\"2018-07-16T00:00:00\",\"2018-07-17T00:00:00\",\"2018-07-18T00:00:00\",\"2018-07-19T00:00:00\",\"2018-07-20T00:00:00\",\"2018-07-21T00:00:00\",\"2018-07-22T00:00:00\",\"2018-07-23T00:00:00\",\"2018-07-24T00:00:00\",\"2018-07-25T00:00:00\",\"2018-07-26T00:00:00\",\"2018-07-27T00:00:00\",\"2018-07-28T00:00:00\",\"2018-07-29T00:00:00\",\"2018-07-30T00:00:00\",\"2018-07-31T00:00:00\",\"2018-08-01T00:00:00\",\"2018-08-02T00:00:00\",\"2018-08-03T00:00:00\",\"2018-08-04T00:00:00\",\"2018-08-05T00:00:00\",\"2018-08-06T00:00:00\",\"2018-08-07T00:00:00\",\"2018-08-08T00:00:00\",\"2018-08-09T00:00:00\",\"2018-08-10T00:00:00\",\"2018-08-11T00:00:00\",\"2018-08-12T00:00:00\",\"2018-08-13T00:00:00\",\"2018-08-14T00:00:00\",\"2018-08-15T00:00:00\",\"2018-08-16T00:00:00\",\"2018-08-17T00:00:00\",\"2018-08-18T00:00:00\",\"2018-08-19T00:00:00\",\"2018-08-20T00:00:00\",\"2018-08-21T00:00:00\",\"2018-08-22T00:00:00\",\"2018-08-23T00:00:00\",\"2018-08-24T00:00:00\",\"2018-08-25T00:00:00\",\"2018-08-26T00:00:00\",\"2018-08-27T00:00:00\",\"2018-08-28T00:00:00\",\"2018-08-29T00:00:00\",\"2018-08-30T00:00:00\",\"2018-08-31T00:00:00\",\"2018-09-01T00:00:00\",\"2018-09-02T00:00:00\",\"2018-09-03T00:00:00\",\"2018-09-04T00:00:00\",\"2018-09-05T00:00:00\",\"2018-09-06T00:00:00\",\"2018-09-07T00:00:00\",\"2018-09-08T00:00:00\",\"2018-09-09T00:00:00\",\"2018-09-10T00:00:00\",\"2018-09-11T00:00:00\",\"2018-09-12T00:00:00\",\"2018-09-13T00:00:00\",\"2018-09-14T00:00:00\",\"2018-09-15T00:00:00\",\"2018-09-16T00:00:00\",\"2018-09-17T00:00:00\",\"2018-09-18T00:00:00\",\"2018-09-19T00:00:00\",\"2018-09-20T00:00:00\",\"2018-09-21T00:00:00\",\"2018-09-22T00:00:00\",\"2018-09-23T00:00:00\",\"2018-09-24T00:00:00\",\"2018-09-25T00:00:00\",\"2018-09-26T00:00:00\",\"2018-09-27T00:00:00\",\"2018-09-28T00:00:00\",\"2018-09-29T00:00:00\",\"2018-09-30T00:00:00\",\"2018-10-01T00:00:00\",\"2018-10-02T00:00:00\",\"2018-10-03T00:00:00\",\"2018-10-04T00:00:00\",\"2018-10-05T00:00:00\",\"2018-10-06T00:00:00\",\"2018-10-07T00:00:00\",\"2018-10-08T00:00:00\",\"2018-10-09T00:00:00\",\"2018-10-10T00:00:00\",\"2018-10-11T00:00:00\",\"2018-10-12T00:00:00\",\"2018-10-13T00:00:00\",\"2018-10-14T00:00:00\",\"2018-10-15T00:00:00\",\"2018-10-16T00:00:00\",\"2018-10-17T00:00:00\",\"2018-10-18T00:00:00\",\"2018-10-19T00:00:00\",\"2018-10-20T00:00:00\",\"2018-10-21T00:00:00\",\"2018-10-22T00:00:00\",\"2018-10-23T00:00:00\",\"2018-10-24T00:00:00\",\"2018-10-25T00:00:00\",\"2018-10-26T00:00:00\",\"2018-10-27T00:00:00\",\"2018-10-28T00:00:00\",\"2018-10-29T00:00:00\",\"2018-10-30T00:00:00\",\"2018-10-31T00:00:00\",\"2018-11-01T00:00:00\",\"2018-11-02T00:00:00\",\"2018-11-03T00:00:00\",\"2018-11-04T00:00:00\",\"2018-11-05T00:00:00\",\"2018-11-06T00:00:00\",\"2018-11-07T00:00:00\",\"2018-11-08T00:00:00\",\"2018-11-09T00:00:00\",\"2018-11-10T00:00:00\",\"2018-11-11T00:00:00\",\"2018-11-12T00:00:00\",\"2018-11-13T00:00:00\",\"2018-11-14T00:00:00\",\"2018-11-15T00:00:00\",\"2018-11-16T00:00:00\",\"2018-11-17T00:00:00\",\"2018-11-18T00:00:00\",\"2018-11-19T00:00:00\",\"2018-11-20T00:00:00\",\"2018-11-21T00:00:00\",\"2018-11-22T00:00:00\",\"2018-11-23T00:00:00\",\"2018-11-24T00:00:00\",\"2018-11-25T00:00:00\",\"2018-11-26T00:00:00\",\"2018-11-27T00:00:00\",\"2018-11-28T00:00:00\",\"2018-11-29T00:00:00\",\"2018-11-30T00:00:00\",\"2018-12-01T00:00:00\",\"2018-12-02T00:00:00\",\"2018-12-03T00:00:00\",\"2018-12-04T00:00:00\",\"2018-12-05T00:00:00\",\"2018-12-06T00:00:00\",\"2018-12-07T00:00:00\",\"2018-12-08T00:00:00\",\"2018-12-09T00:00:00\",\"2018-12-10T00:00:00\",\"2018-12-11T00:00:00\",\"2018-12-12T00:00:00\",\"2018-12-13T00:00:00\",\"2018-12-14T00:00:00\",\"2018-12-15T00:00:00\",\"2018-12-16T00:00:00\",\"2018-12-17T00:00:00\",\"2018-12-18T00:00:00\",\"2018-12-19T00:00:00\",\"2018-12-20T00:00:00\",\"2018-12-21T00:00:00\",\"2018-12-22T00:00:00\",\"2018-12-23T00:00:00\",\"2018-12-24T00:00:00\",\"2018-12-25T00:00:00\",\"2018-12-26T00:00:00\",\"2018-12-27T00:00:00\",\"2018-12-28T00:00:00\",\"2018-12-29T00:00:00\",\"2018-12-30T00:00:00\",\"2018-12-31T00:00:00\",\"2019-01-01T00:00:00\",\"2019-01-02T00:00:00\",\"2019-01-03T00:00:00\",\"2019-01-04T00:00:00\",\"2019-01-05T00:00:00\",\"2019-01-06T00:00:00\",\"2019-01-07T00:00:00\",\"2019-01-08T00:00:00\",\"2019-01-09T00:00:00\",\"2019-01-10T00:00:00\",\"2019-01-11T00:00:00\",\"2019-01-12T00:00:00\",\"2019-01-13T00:00:00\",\"2019-01-14T00:00:00\",\"2019-01-15T00:00:00\",\"2019-01-16T00:00:00\",\"2019-01-17T00:00:00\",\"2019-01-18T00:00:00\",\"2019-01-19T00:00:00\",\"2019-01-20T00:00:00\",\"2019-01-21T00:00:00\",\"2019-01-22T00:00:00\",\"2019-01-23T00:00:00\",\"2019-01-24T00:00:00\",\"2019-01-25T00:00:00\",\"2019-01-26T00:00:00\",\"2019-01-27T00:00:00\",\"2019-01-28T00:00:00\",\"2019-01-29T00:00:00\",\"2019-01-30T00:00:00\",\"2019-01-31T00:00:00\",\"2019-02-01T00:00:00\",\"2019-02-02T00:00:00\",\"2019-02-03T00:00:00\",\"2019-02-04T00:00:00\",\"2019-02-05T00:00:00\",\"2019-02-06T00:00:00\",\"2019-02-07T00:00:00\",\"2019-02-08T00:00:00\",\"2019-02-09T00:00:00\",\"2019-02-10T00:00:00\",\"2019-02-11T00:00:00\",\"2019-02-12T00:00:00\",\"2019-02-13T00:00:00\",\"2019-02-14T00:00:00\",\"2019-02-15T00:00:00\",\"2019-02-16T00:00:00\",\"2019-02-17T00:00:00\",\"2019-02-18T00:00:00\",\"2019-02-19T00:00:00\",\"2019-02-20T00:00:00\",\"2019-02-21T00:00:00\",\"2019-02-22T00:00:00\",\"2019-02-23T00:00:00\",\"2019-02-24T00:00:00\",\"2019-02-25T00:00:00\",\"2019-02-26T00:00:00\",\"2019-02-27T00:00:00\",\"2019-02-28T00:00:00\",\"2019-03-01T00:00:00\",\"2019-03-02T00:00:00\",\"2019-03-03T00:00:00\",\"2019-03-04T00:00:00\",\"2019-03-05T00:00:00\",\"2019-03-06T00:00:00\",\"2019-03-07T00:00:00\",\"2019-03-08T00:00:00\",\"2019-03-09T00:00:00\",\"2019-03-10T00:00:00\",\"2019-03-11T00:00:00\",\"2019-03-12T00:00:00\",\"2019-03-13T00:00:00\",\"2019-03-14T00:00:00\",\"2019-03-15T00:00:00\",\"2019-03-16T00:00:00\",\"2019-03-17T00:00:00\",\"2019-03-18T00:00:00\",\"2019-03-19T00:00:00\",\"2019-03-20T00:00:00\",\"2019-03-21T00:00:00\",\"2019-03-22T00:00:00\",\"2019-03-23T00:00:00\",\"2019-03-24T00:00:00\",\"2019-03-25T00:00:00\",\"2019-03-26T00:00:00\",\"2019-03-27T00:00:00\",\"2019-03-28T00:00:00\",\"2019-03-29T00:00:00\",\"2019-03-30T00:00:00\",\"2019-03-31T00:00:00\",\"2019-04-01T00:00:00\",\"2019-04-02T00:00:00\",\"2019-04-03T00:00:00\",\"2019-04-04T00:00:00\",\"2019-04-05T00:00:00\",\"2019-04-06T00:00:00\",\"2019-04-07T00:00:00\",\"2019-04-08T00:00:00\",\"2019-04-09T00:00:00\",\"2019-04-10T00:00:00\",\"2019-04-11T00:00:00\",\"2019-04-12T00:00:00\",\"2019-04-13T00:00:00\",\"2019-04-14T00:00:00\",\"2019-04-15T00:00:00\",\"2019-04-16T00:00:00\",\"2019-04-17T00:00:00\",\"2019-04-18T00:00:00\",\"2019-04-19T00:00:00\",\"2019-04-20T00:00:00\",\"2019-04-21T00:00:00\",\"2019-04-22T00:00:00\",\"2019-04-23T00:00:00\",\"2019-04-24T00:00:00\",\"2019-04-25T00:00:00\",\"2019-04-26T00:00:00\",\"2019-04-27T00:00:00\",\"2019-04-28T00:00:00\",\"2019-04-29T00:00:00\",\"2019-04-30T00:00:00\",\"2019-05-01T00:00:00\",\"2019-05-02T00:00:00\",\"2019-05-03T00:00:00\",\"2019-05-04T00:00:00\",\"2019-05-05T00:00:00\",\"2019-05-06T00:00:00\",\"2019-05-07T00:00:00\",\"2019-05-08T00:00:00\",\"2019-05-09T00:00:00\",\"2019-05-10T00:00:00\",\"2019-05-11T00:00:00\",\"2019-05-12T00:00:00\",\"2019-05-13T00:00:00\",\"2019-05-14T00:00:00\",\"2019-05-15T00:00:00\",\"2019-05-16T00:00:00\",\"2019-05-17T00:00:00\",\"2019-05-18T00:00:00\",\"2019-05-19T00:00:00\",\"2019-05-20T00:00:00\",\"2019-05-21T00:00:00\",\"2019-05-22T00:00:00\",\"2019-05-23T00:00:00\",\"2019-05-24T00:00:00\",\"2019-05-25T00:00:00\",\"2019-05-26T00:00:00\",\"2019-05-27T00:00:00\",\"2019-05-28T00:00:00\",\"2019-05-29T00:00:00\",\"2019-05-30T00:00:00\",\"2019-05-31T00:00:00\",\"2019-06-01T00:00:00\",\"2019-06-02T00:00:00\",\"2019-06-03T00:00:00\",\"2019-06-04T00:00:00\",\"2019-06-05T00:00:00\",\"2019-06-06T00:00:00\",\"2019-06-07T00:00:00\",\"2019-06-08T00:00:00\",\"2019-06-09T00:00:00\",\"2019-06-10T00:00:00\",\"2019-06-11T00:00:00\",\"2019-06-12T00:00:00\",\"2019-06-13T00:00:00\",\"2019-06-14T00:00:00\",\"2019-06-15T00:00:00\",\"2019-06-16T00:00:00\",\"2019-06-17T00:00:00\",\"2019-06-18T00:00:00\",\"2019-06-19T00:00:00\",\"2019-06-20T00:00:00\",\"2019-06-21T00:00:00\",\"2019-06-22T00:00:00\",\"2019-06-23T00:00:00\",\"2019-06-24T00:00:00\",\"2019-06-25T00:00:00\",\"2019-06-26T00:00:00\",\"2019-06-27T00:00:00\",\"2019-06-28T00:00:00\",\"2019-06-29T00:00:00\",\"2019-06-30T00:00:00\",\"2019-07-01T00:00:00\",\"2019-07-02T00:00:00\",\"2019-07-03T00:00:00\",\"2019-07-04T00:00:00\",\"2019-07-05T00:00:00\",\"2019-07-06T00:00:00\",\"2019-07-07T00:00:00\",\"2019-07-08T00:00:00\",\"2019-07-09T00:00:00\",\"2019-07-10T00:00:00\",\"2019-07-11T00:00:00\",\"2019-07-12T00:00:00\",\"2019-07-13T00:00:00\",\"2019-07-14T00:00:00\",\"2019-07-15T00:00:00\",\"2019-07-16T00:00:00\",\"2019-07-17T00:00:00\",\"2019-07-18T00:00:00\",\"2019-07-19T00:00:00\",\"2019-07-20T00:00:00\",\"2019-07-21T00:00:00\",\"2019-07-22T00:00:00\",\"2019-07-23T00:00:00\",\"2019-07-24T00:00:00\",\"2019-07-25T00:00:00\",\"2019-07-26T00:00:00\",\"2019-07-27T00:00:00\",\"2019-07-28T00:00:00\",\"2019-07-29T00:00:00\",\"2019-07-30T00:00:00\",\"2019-07-31T00:00:00\",\"2019-08-01T00:00:00\",\"2019-08-02T00:00:00\",\"2019-08-03T00:00:00\",\"2019-08-04T00:00:00\",\"2019-08-05T00:00:00\",\"2019-08-06T00:00:00\",\"2019-08-07T00:00:00\",\"2019-08-08T00:00:00\",\"2019-08-09T00:00:00\",\"2019-08-10T00:00:00\",\"2019-08-11T00:00:00\",\"2019-08-12T00:00:00\",\"2019-08-13T00:00:00\",\"2019-08-14T00:00:00\",\"2019-08-15T00:00:00\",\"2019-08-16T00:00:00\",\"2019-08-17T00:00:00\",\"2019-08-18T00:00:00\",\"2019-08-19T00:00:00\",\"2019-08-20T00:00:00\",\"2019-08-21T00:00:00\",\"2019-08-22T00:00:00\",\"2019-08-23T00:00:00\",\"2019-08-24T00:00:00\",\"2019-08-25T00:00:00\",\"2019-08-26T00:00:00\",\"2019-08-27T00:00:00\",\"2019-08-28T00:00:00\",\"2019-08-29T00:00:00\",\"2019-08-30T00:00:00\",\"2019-08-31T00:00:00\",\"2019-09-01T00:00:00\",\"2019-09-02T00:00:00\",\"2019-09-03T00:00:00\",\"2019-09-04T00:00:00\",\"2019-09-05T00:00:00\",\"2019-09-06T00:00:00\",\"2019-09-07T00:00:00\",\"2019-09-08T00:00:00\",\"2019-09-09T00:00:00\",\"2019-09-10T00:00:00\",\"2019-09-11T00:00:00\",\"2019-09-12T00:00:00\",\"2019-09-13T00:00:00\",\"2019-09-14T00:00:00\",\"2019-09-15T00:00:00\",\"2019-09-16T00:00:00\",\"2019-09-17T00:00:00\",\"2019-09-18T00:00:00\",\"2019-09-19T00:00:00\",\"2019-09-20T00:00:00\",\"2019-09-21T00:00:00\",\"2019-09-22T00:00:00\",\"2019-09-23T00:00:00\",\"2019-09-24T00:00:00\",\"2019-09-25T00:00:00\",\"2019-09-26T00:00:00\",\"2019-09-27T00:00:00\",\"2019-09-28T00:00:00\",\"2019-09-29T00:00:00\",\"2019-09-30T00:00:00\",\"2019-10-01T00:00:00\",\"2019-10-02T00:00:00\",\"2019-10-03T00:00:00\",\"2019-10-04T00:00:00\",\"2019-10-05T00:00:00\",\"2019-10-06T00:00:00\",\"2019-10-07T00:00:00\",\"2019-10-08T00:00:00\",\"2019-10-09T00:00:00\",\"2019-10-10T00:00:00\",\"2019-10-11T00:00:00\",\"2019-10-12T00:00:00\",\"2019-10-13T00:00:00\",\"2019-10-14T00:00:00\",\"2019-10-15T00:00:00\",\"2019-10-16T00:00:00\",\"2019-10-17T00:00:00\",\"2019-10-18T00:00:00\",\"2019-10-19T00:00:00\",\"2019-10-20T00:00:00\",\"2019-10-21T00:00:00\",\"2019-10-22T00:00:00\",\"2019-10-23T00:00:00\",\"2019-10-24T00:00:00\",\"2019-10-25T00:00:00\",\"2019-10-26T00:00:00\",\"2019-10-27T00:00:00\",\"2019-10-28T00:00:00\",\"2019-10-29T00:00:00\",\"2019-10-30T00:00:00\",\"2019-10-31T00:00:00\",\"2019-11-01T00:00:00\",\"2019-11-02T00:00:00\",\"2019-11-03T00:00:00\",\"2019-11-04T00:00:00\",\"2019-11-05T00:00:00\",\"2019-11-06T00:00:00\",\"2019-11-07T00:00:00\",\"2019-11-08T00:00:00\",\"2019-11-09T00:00:00\",\"2019-11-10T00:00:00\",\"2019-11-11T00:00:00\",\"2019-11-12T00:00:00\",\"2019-11-13T00:00:00\",\"2019-11-14T00:00:00\",\"2019-11-15T00:00:00\",\"2019-11-16T00:00:00\",\"2019-11-17T00:00:00\",\"2019-11-18T00:00:00\",\"2019-11-19T00:00:00\",\"2019-11-20T00:00:00\",\"2019-11-21T00:00:00\",\"2019-11-22T00:00:00\",\"2019-11-23T00:00:00\",\"2019-11-24T00:00:00\",\"2019-11-25T00:00:00\",\"2019-11-26T00:00:00\",\"2019-11-27T00:00:00\",\"2019-11-28T00:00:00\",\"2019-11-29T00:00:00\",\"2019-11-30T00:00:00\",\"2019-12-01T00:00:00\",\"2019-12-02T00:00:00\",\"2019-12-03T00:00:00\",\"2019-12-04T00:00:00\",\"2019-12-05T00:00:00\",\"2019-12-06T00:00:00\",\"2019-12-07T00:00:00\",\"2019-12-08T00:00:00\",\"2019-12-09T00:00:00\",\"2019-12-10T00:00:00\",\"2019-12-11T00:00:00\",\"2019-12-12T00:00:00\",\"2019-12-13T00:00:00\",\"2019-12-14T00:00:00\",\"2019-12-15T00:00:00\",\"2019-12-16T00:00:00\",\"2019-12-17T00:00:00\",\"2019-12-18T00:00:00\",\"2019-12-19T00:00:00\",\"2019-12-20T00:00:00\",\"2019-12-21T00:00:00\",\"2019-12-22T00:00:00\",\"2019-12-23T00:00:00\",\"2019-12-24T00:00:00\",\"2019-12-25T00:00:00\",\"2019-12-26T00:00:00\",\"2019-12-27T00:00:00\",\"2019-12-28T00:00:00\",\"2019-12-29T00:00:00\",\"2019-12-30T00:00:00\",\"2019-12-31T00:00:00\",\"2020-01-01T00:00:00\",\"2020-01-02T00:00:00\",\"2020-01-03T00:00:00\",\"2020-01-04T00:00:00\",\"2020-01-05T00:00:00\",\"2020-01-06T00:00:00\",\"2020-01-07T00:00:00\",\"2020-01-08T00:00:00\",\"2020-01-09T00:00:00\",\"2020-01-10T00:00:00\",\"2020-01-11T00:00:00\",\"2020-01-12T00:00:00\",\"2020-01-13T00:00:00\",\"2020-01-14T00:00:00\",\"2020-01-15T00:00:00\",\"2020-01-16T00:00:00\",\"2020-01-17T00:00:00\",\"2020-01-18T00:00:00\",\"2020-01-19T00:00:00\",\"2020-01-20T00:00:00\",\"2020-01-21T00:00:00\",\"2020-01-22T00:00:00\",\"2020-01-23T00:00:00\",\"2020-01-24T00:00:00\",\"2020-01-25T00:00:00\",\"2020-01-26T00:00:00\",\"2020-01-27T00:00:00\",\"2020-01-28T00:00:00\",\"2020-01-29T00:00:00\",\"2020-01-30T00:00:00\",\"2020-01-31T00:00:00\",\"2020-02-01T00:00:00\",\"2020-02-02T00:00:00\",\"2020-02-03T00:00:00\",\"2020-02-04T00:00:00\",\"2020-02-05T00:00:00\",\"2020-02-06T00:00:00\",\"2020-02-07T00:00:00\",\"2020-02-08T00:00:00\",\"2020-02-09T00:00:00\",\"2020-02-10T00:00:00\",\"2020-02-11T00:00:00\",\"2020-02-12T00:00:00\",\"2020-02-13T00:00:00\",\"2020-02-14T00:00:00\",\"2020-02-15T00:00:00\",\"2020-02-16T00:00:00\",\"2020-02-17T00:00:00\",\"2020-02-18T00:00:00\",\"2020-02-19T00:00:00\",\"2020-02-20T00:00:00\",\"2020-02-21T00:00:00\",\"2020-02-22T00:00:00\",\"2020-02-23T00:00:00\",\"2020-02-24T00:00:00\",\"2020-02-25T00:00:00\",\"2020-02-26T00:00:00\",\"2020-02-27T00:00:00\",\"2020-02-28T00:00:00\",\"2020-02-29T00:00:00\",\"2020-03-01T00:00:00\",\"2020-03-02T00:00:00\",\"2020-03-03T00:00:00\",\"2020-03-04T00:00:00\",\"2020-03-05T00:00:00\",\"2020-03-06T00:00:00\",\"2020-03-07T00:00:00\",\"2020-03-08T00:00:00\",\"2020-03-09T00:00:00\",\"2020-03-10T00:00:00\",\"2020-03-11T00:00:00\",\"2020-03-12T00:00:00\",\"2020-03-13T00:00:00\",\"2020-03-14T00:00:00\",\"2020-03-15T00:00:00\",\"2020-03-16T00:00:00\",\"2020-03-17T00:00:00\",\"2020-03-18T00:00:00\",\"2020-03-19T00:00:00\",\"2020-03-20T00:00:00\",\"2020-03-21T00:00:00\",\"2020-03-22T00:00:00\",\"2020-03-23T00:00:00\",\"2020-03-24T00:00:00\",\"2020-03-25T00:00:00\",\"2020-03-26T00:00:00\",\"2020-03-27T00:00:00\",\"2020-03-28T00:00:00\",\"2020-03-29T00:00:00\",\"2020-03-30T00:00:00\",\"2020-03-31T00:00:00\",\"2020-04-01T00:00:00\",\"2020-04-02T00:00:00\",\"2020-04-03T00:00:00\",\"2020-04-04T00:00:00\",\"2020-04-05T00:00:00\",\"2020-04-06T00:00:00\",\"2020-04-07T00:00:00\",\"2020-04-08T00:00:00\",\"2020-04-09T00:00:00\",\"2020-04-10T00:00:00\",\"2020-04-11T00:00:00\",\"2020-04-12T00:00:00\",\"2020-04-13T00:00:00\",\"2020-04-14T00:00:00\",\"2020-04-15T00:00:00\",\"2020-04-16T00:00:00\",\"2020-04-17T00:00:00\",\"2020-04-18T00:00:00\",\"2020-04-19T00:00:00\",\"2020-04-20T00:00:00\",\"2020-04-21T00:00:00\",\"2020-04-22T00:00:00\"],\"xaxis\":\"x\",\"y\":[-1.5967447084111952,-1.8823087292883944,-0.1928228559981306,-0.5372251222738387,-0.4460635183004751,-1.1170398803170698,-0.8641527921741394,-0.7362897222111573,-1.3422695729055645,-0.3903216705909068,-1.152474893195047,-0.5460802703677932,-0.4984043574710091,2.5951557093425603,-1.160556988886868,0.0845662079393794,-1.9333386743538463,-0.2241714875190516,-0.4424499561181119,null,-0.5281782039742131,0.1500790072122214,-1.4348876519984126,-0.4295922610871017,-0.4928762046390451,-0.5980710212518046,-1.947800189999085,1.08427836186349,-0.2609544612657666,-0.7334764652904842,-0.0542821730913491,-0.7280855579600821,0.4423514917959913,null,0.205089390539296,-0.2369692978315414,-0.7554704525382558,-0.4756521225707226,-0.11988878163978,0.0624809747466979,-1.4113378952336002,-1.6535117151855356,-0.22859973884767,-0.8158580188496427,-1.260474029403626,-0.9899755918794836,-0.9524761850761372,-1.6099473415083445,2.2841618806084973,-2.0253169758744454,-3.0201843147627456,-2.723073142777748,-1.6240487134991697,-0.5896995668558106,-0.3826530612244899,-1.5178719866999175,-0.9923076109793164,0.7132538076914208,-1.4001083717975156,-1.6598072488972726,-2.6029549252951854,-1.0153394264553957,-0.9237294386996528,-1.2294568678470248,-1.6401666417685132,-2.2331876583746784,-1.7763151110380393,0.3749152120280886,0.4664156065682785,-1.0574725297630698,-1.1341475596173487,0.9058944958298294,0.1603225135334298,-3.1984132954189985,-2.8284329892344284,-2.5278488321695343,-1.0539278763170692,-1.8656584192607208,-0.8014380370107379,0.4227270610660073,-2.6574486019689627,-3.2658626391108467,-2.1681377202094003,-3.1145044097560715,0.1388157072285563,-1.3297367429256328,-0.6578523332923867,-0.3179421597840367,-1.0271493843557051,1.1777190247273217,-1.5602843359021576,-0.8203977444129464,-0.3895095459717952,-0.0350567295093556,0.5400608950774689,0.6074801596047371,-1.73620196807603,-0.3594481981449893,-0.9636042793614218,-0.3175723251542531,-0.2321520076075071,-1.839430586445384,-0.997943426776394,-2.7936941381426426,-3.8293249662548297,-4.227050059651707,-3.2324439554490585,-1.168541860143638,-1.4463379124050926,-2.0261723812646384,-0.9303610524969947,-2.709237069299306,-0.9298539068819232,-0.6779163251984105,-0.8109740036205823,0.0009841810406655,0.3535116219398936,-1.1934160089969832,-2.130631568187149,-1.8205255300963523,-1.7934442385104743,-1.1111822085590335,-1.415245849652793,-1.5779225406453343,-3.0643817565790203,-2.2149914407333275,-2.964235307572737,-0.7808581260048031,-0.4620655681725546,-0.7791960335257261,-2.9960224536457725,-2.328177107723572,-2.536418987867181,-2.7737690845678795,-2.364106696059824,-0.8955306243381526,-0.2584894904010218,0.1078524105579257,-1.7369501151391735,0.4546772602773818,-0.6268919954449745,-0.6206135182314565,-2.7339708137237326,-0.3782536802657218,-0.7558003636626566,-1.2146636730112217,-0.5071510684733463,-1.1534496193040091,-1.1232622946600617,0.0526637323847797,-0.4256404374513809,-0.6232198540453405,-3.3876979932890423,0.9866898148148148,0.4315940261629924,-1.0741209844332271,-0.027465613623498,-0.7747322044033413,-0.8423751591251892,-1.5729402291204426,-1.2987247965978903,-0.8428066522564325,-0.6063221941706003,-0.3785086905192629,-0.9673400242557404,-1.1843197296142325,0.6335821973068442,-0.2117104391548617,-0.956761408042876,-0.1404486348083303,-0.2231723961111334,-0.8442244591456164,-1.04691995886792,-0.6340697030226509,-0.5807244071671247,0.5932968707082447,0.2361124777681685,0.1317509179386538,0.4876711979982372,0.4235384180863493,-2.29438681660301,-1.0172981365248073,1.3386656900915967,1.1108805653280145,-0.3853557804181808,0.393319340281179,-2.6017990663560853,0.1474453809156352,-0.9180356849828364,-0.1363892206058761,-1.8663608809758243,-0.9291083187968608,-0.7786455045018721,0.2270706797418954,0.2033934622549746,1.9265684242390992,-0.0817158938158246,0.11577713686239,-0.9411946666589086,-0.9714635509476536,0.1048658363630931,0.5269079568245602,-0.3661803924737978,-0.1410778725125858,-0.553238340851833,-1.3559284890333538,-0.3374582019710448,-0.4861682489771989,0.1344949037858517,-1.1555771227476084,0.1906934967829833,-0.7870871855762832,0.1173177206388324,-0.3142834218360497,0.2103890713931617,1.5880900487711052,1.557769689849248,0.261885291265992,0.7375770022485499,-0.5926126909123586,-0.4226463205685819,-0.2289843851873165,0.8956841245876053,0.8969119902978522,-0.5992737983424017,-1.8017444659369544,-1.2451741470467868,0.5700052402739707,0.0523906684904347,-0.3896989705934889,-0.2839669212092791,-0.3910236819033341,-1.9933224393792908,-1.1923519726202607,0.0650971160249945,-0.0935149955952958,-0.0463595696684167,-0.1741020541379235,-1.14143408606294,-0.9240672855837172,-2.001428564985997,-3.2617655796787783,-1.244634061204845,-0.7688055189140259,0.3058103975535169,-2.4763248546665384,-0.1654569264154451,-0.7977927791336988,-1.7658787639198663,-1.7707438497084114,0.4978656742246939,0.7577905443172335,-1.92860909748038,-1.674601128766655,-0.5432420710780537,-1.1745517348671677,-0.8402205088684601,-0.1380242175455696,-0.7413962215084688,-0.0461462884274129,-0.2915558986378225,-0.5889493707138728,-0.2120517978783282,-1.3365513571346486,-0.93160124847774,-2.025037955108135,0.080023050509314,-0.3224281802741874,-0.872924238113937,-0.4428222947054559,-1.0501193609100556,-0.8523736501486581,-0.3526871723639558,-0.1109788391534872,-0.977286520125808,-0.7551457636570463,-0.6343537906263622,-0.9039279992082028,-0.5684797378253797,-0.9889185563461828,-0.0809769589367642,0.1037767222692754,-0.931399307029748,-0.420438143105996,-0.9861330310345596,1.186376770261483,0.5897979336344492,-0.4623331573905823,-0.9954187012763712,-0.194301561512554,-1.6326234971045734,-1.470984657412204,-1.875713697408542,-0.0658545232047741,-0.6842774922107325,-0.5657910205694768,-0.8187634135523231,null,null,null,-0.5941662837544874,-1.2591197685817566,-0.5270156077226598,0.0927254742745909,-0.1610467808589762,-1.8243398054698483,-3.0814627448257013,-2.131820015199234,-1.973268830643244,0.2354769391330904,-2.8679004333744658,-0.1865939194473808,-0.9770072351459398,-0.5304756866276952,-3.480153564455456,-0.6942417310882599,-0.373062940898702,-1.0880181835386378,-0.9459875654708813,-0.7160309333607224,0.2464912587752695,-0.1240252100196661,-0.3293398781382841,0.9818482758969412,-1.185635315611123,0.8177831704730242,-0.2333466270460724,-2.0984418670778133,0.2809074783371001,-0.6855106053233447,-1.8777774477777864,-2.326065233309764,-2.12157024362428,-1.1723713583414432,-1.0197985259549254,-0.6931608971484883,-0.0836264664658028,-0.1523180505212296,0.300558302961504,0.8020596091352357,-0.4904126670666501,-0.4920028836443346,0.3573949189109727,-0.8036384182706958,-0.5137644999531848,-0.0606472764500902,-1.044360595775886,-1.6857519297703558,-1.4116764830230546,-1.238403478708926,-0.6889225992840862,0.2235975664729981,null,0.0012321456488253,-1.1966514140531084,-1.8095199666962165,-0.4333955234366963,-1.4861890371771966,-1.3371249377936305,-0.5137372764660568,-0.1021599346073722,-0.9981097922255308,-0.2716164079901557,-1.6282368527283269,-1.86682742893466,-1.272886086179732,-0.2752835821151766,0.225098810578332,-0.6521141932206653,1.1296142571527918,-1.4126602905470202,0.3463517437214362,1.519859354287136,-2.406096231255133,-0.8065029797406399,-2.4617254034880385,-0.9018777273743004,-2.417431024448353,-0.9345487375219672,-1.0557841399135794,-1.0648057039945675,-1.1742472924245422,-0.8277456887205501,-0.872732227906583,0.4253651814488314,-2.0728350281963364,-1.180888417132348,-0.290859985439914,-0.953845707636132,-0.8692573682179873,-0.6162568446246363,0.3296750360394477,-1.564644950001787,-2.0724184811060686,-1.856581668555132,-0.9083915552319506,-2.5548605260896804,-2.9277781729061614,-1.4196412238530174,-0.8743162425182113,-1.2495007888393197,-1.221018167920875,-1.2759947990990572,0.4601100958540102,1.3529541487859325,0.2479259196754894,-1.289915651503054,-0.5220445862439651,-0.0943047089812646,-0.5882894877207576,-2.4939444258929444,-2.0845204912901694,-3.4715710719719444,-1.5957225902394876,-0.2899829080214913,-0.3589340611671555,-1.4887391391257565,-1.7362878524599072,-4.321916640831589,-2.599880649715097,-0.4890653630730654,-0.6386755762522623,0.2923008576483209,-0.9055885545146158,-0.5119041907766564,-0.4253196159230856,0.2540747432877713,0.8380763048609531,-0.9035199893673392,-2.052530225038031,-0.4965283461629743,-0.6071355892511074,-1.259260230272406,-1.4585020243669085,-0.4408506239581842,-1.6769054356052318,-1.6551745114179843,-2.565282199631449,-1.189006102181679,-1.663268188121524,-0.9315155764486094,-1.4514596418981818,-2.044103576112569,-0.8139451850905065,-0.2636684579566592,-0.7947262514754277,0.1765217907569522,-0.4328963890269,-0.1680591679247093,-1.2234149692105605,-0.3020936613628411,0.0826216512558577,-0.8769033061094557,-0.5136810161984381,1.5320042972965715,-0.7331985725986678,-1.1833538234892311,-0.3175667517638037,-1.9299576221321453,-0.856221652532494,-2.193785429718813,-2.0146553839925856,-0.6585237671547418,-1.1375662344299904,-1.1630888974965925,-1.0812026797993208,-1.5006423377900608,-1.3641334355101529,-1.5094239677868295,-2.137573107524818,-0.7917780872217931,-0.345020930941305,-0.0904380691925995,-0.2847051994349001,-0.1971186403712625,-0.2064330161061018,-0.6713947181334777,-0.3033673775338514,-0.6116677757227295,-0.5923121874175462,-0.3214239927163132,-0.4646161642940886,0.1736428219543099,-0.7227368234677798,-2.8667024916588213,-1.2904424110656396,-0.6068563521627136,0.5464936811641523,-2.0208541588719267,-1.1390869875009009,0.4363946102593354,-0.4724572084443736,-3.1184614384591365,-1.07807677888328,-1.9482677170255929,-2.1208332402224315,-1.3137142706784428,-0.0209575996048072,0.2499252229488089,-0.6221090486958741,-0.9914482686804694,-0.6659189853953356,-1.0869622810361224,1.3109414900354637,0.4721210547932271,-0.8323708523761818,0.1372819798304081,-0.8135357993425679,-1.4611762194761957,-0.945648166098834,-1.5272508919098728,-0.2851620517766987,-1.1126661968179308,-2.140470304375862,-1.569787878336386,1.4578265740439362,0.6311914439397701,0.6452526839602649,-0.6478870771872299,-1.5021752255658969,-0.4109073049307364,-0.1343716342464385,-1.5616391642413494,0.0031713511669646,-0.4303344427855208,-0.6282712613497304,0.0026420531892857,-0.1591496167866983,-0.2730343241633578,-0.8033027116758549,-0.1654104282932155,-0.1500011799985823,0.4055642758015406,-1.3480108016156287,-0.5132698224172121,-0.002851129187312,0.3908580534477681,0.5076315720800598,0.6216633054190234,-0.6306823031667186,-0.943075603378802,-0.6534800463237173,-1.1864814219180886,-2.0122296849805577,-1.2292493942835907,-2.3774816302234307,-1.8713930256341615,-2.058337731538518,-2.3949211038554563,-0.8475393302176928,-0.3082551444930327,-0.8855522140458353,-1.546337506538835,-1.181486725960719,-1.1423124651272245,-0.3559201229212859,-1.0581356127014383,-1.137811316815196,-0.91718213647252,0.0039912570600676,-1.6741302730424457,-0.3525998001911247,-1.2220878570274738,-0.8446481700079336,-1.3098744438639482,-1.0425995806433954,-2.076117056511322,-1.0650172326414329,-0.7921605135398366,-0.505841309364271,0.7501234285762501,-0.3402050964756525,-0.389889235880907,0.4787828588049873,1.6149382116494766,0.5476592541107737,-0.0451395616038308,1.1982197916573871,0.5775539476187421,0.2755960484641634,0.2020748399786107,-1.8180558697278464,-2.3833343640351563,-1.0909037164870068,-1.3680913067462277,-0.3983355775290255,-0.5118835703556358,-0.3393305093791321,-1.151338775960229,-0.9846167296492528,-1.0671863089550615,-0.2663498181957199,-0.1847514353985276,-0.6420708542071049,0.611276547109134,-0.0343166756428477,-1.101399653545282,-0.5775838843160065,0.3817626269662121,-0.2365413344297171,-0.801214345460834,0.8385829990759563,-1.049236356181922,0.7762058180539632,-1.6762216856366012,-1.2214150052297472,-0.5557422425395252,0.5464480874316939,-0.4526709360146838,-1.8958778486961536,-1.8550914184529208,0.3821659443833583,-0.7794841594514555,-2.7809365971585107,-2.9019282304918503,0.2487105916197432,-0.4874465313275148,-1.0566498726262292,-1.44081686185783,-0.6247477818216566,0.2462910809984778,-2.715095428440977,0.4997295853586874,-1.2074493811553493,-1.4931589192567587,-0.8161846451511893,-0.2079493701400163,-0.6719129479143023,1.6263808612928945,0.1977619993327208,-0.4961200707657107,-1.420882911193727,-0.3048258291682502,-2.221791131919754,-1.2179951595886138,-2.3187618250802773,-1.6614567952954904,-0.5900440213936401,-2.028103970779957,-0.1078116963807887,-0.024757109234504,-0.4360411584342849,-2.2697764001752634,-0.0237648661582713,0.7270113591058267,-0.8614783980135473,-1.40645159488231,-0.9741739788687162,-1.4919969823074553,-2.968938886179008,-0.493172094848781,-0.4699715705700047,-0.4117778935893224,-0.973364732966386,-0.2851266192895507,-0.8950247112901952,-0.9610952953297776,0.7339497153488408,0.3089522625686761,0.125356682026738,0.2103597069600576,1.1326737023993445,-0.0490235622873314,-0.4658304996660163,0.5700529386719032,1.0504316994765412,0.2331157265537076,0.143300253955551,0.7485487897376012,0.7429575599807087,-1.2108147978229609,-1.1995206788973107,-1.1523172825602412,-1.136870505462504,-0.7125442003193058,0.5851811982702925,0.154571277730788,-0.0755964164841074,0.5891799328812961,-0.9809641481275696,0.8362558851234435,-0.7981690805056848,-0.3269250729934589,-0.7331103176978446,-0.8229617325848597,-0.5388404565581084,0.2300657974566007,0.5131159525152634,-0.6366451619950674,-0.1508292850896487,-0.8098608007682957,-0.8489553460713464,-0.3839402500178433,0.2753636022246077,-0.3813593037478135,-0.1311150539282697,-0.9273507864597964,-0.2532917109294881,-0.3676698297823174,-0.1517813473678215,-0.1230021221327735,-0.4282247119584041,-1.5592323470756615,-0.4412330942652719,-0.5703422683733675,-0.3999575260298161,-0.4102247001279785,-0.1140862728133313,-0.3604993055745858,-0.2461024498058755,-0.9183885563871482,-0.6513348851844236,-0.1652384692639296,-1.0648440925479743,-0.4685945863110689,-0.7110987272942344,-0.9286573687376132,-0.7218205514995221,-0.5874183532675628,-0.1919762277713451,0.4919994496743999,0.3402385687300679,0.3782064259279293,0.0643415524001254,-0.0008700667803973,0.3213984988495645,0.399639980593932,-1.3663730697527152,-1.0209304136430943,-0.7850840751012275,0.0811364763604372,-0.2541896539961427,-0.2857760123167483,0.7551667621548316,0.1009092128253862,-0.0011015983753059,0.3437557737288492,-0.190475405656658,-0.1271100614533005,-0.5382312343930125,-0.4338604796466826,-0.2003385923053004,0.068514993830564,-0.2927114092928232,-0.562350672929028,-0.1971406680875947,-0.0416077517027142,0.449136354504036,0.7082699141196274,0.119299845169393,0.3169072970603074,0.1748040172321909,-0.3048000439626178,-0.2641133816500453,0.0435419055041969,1.3086497084257995,0.0693757659897569,0.4316599952116755,0.1501421159684993,-0.2539389923960488,-0.7291976388386354,-0.3794708812013746,0.2716010320023285,0.587629916222474,-0.6987324935453374,0.8199748293262852,-0.2827611947101139,-0.8442271684261377,-0.0891976896821175,-0.4220897841382182,-0.2079264724362146,-0.4014226380927603,-0.1018196227840816,-0.7284217410952556,0.110359178830019,-0.7922745977510203,0.4573941322421126,0.1218828895739422,-1.1563492873761203,-0.4810258142249214,-0.1181645853404276,-0.0329834536227835,-1.1827739195190186,-1.1602687778239331,-0.165441848058493,-0.7685165839831646,-0.6262790534440407,-0.0344931918941996,-1.0829815474558853,0.108447221266928,0.4639287514689048,0.5820019093920576,-0.7523764241041491,-0.6579762424952728,0.2240850941937177,0.1767118424194136,0.3155776462345961,0.1470354679388282,-0.0538479277415968,0.2322222476245725,0.1470158740259187,0.038129534942004,0.3239774975761316,0.3848161938914117,0.4339931114481393,0.3514019084950457,0.1505601153272585,-0.8275676596111045,-0.208832097121308,-0.3231756746026082,0.5275187333248849,1.1132888303104391,-0.2546203675402894,-0.0384472783820155,-0.7437687713639769,-0.1048558072631329,-0.0697388065597946,0.9347947414389266,0.7165888600214533,0.6426669616081971,-0.2906707284351876,0.1343922548243629,-0.7860507111361504,-0.1798917941809965,0.355269607700149,-1.337732529146109,0.7140454441189563,-0.1586403280206057,-0.3587105976988071,-1.1612956079790622,-0.8538726137354471,0.0620834549853729,0.6933973104518592,0.8282560284288321,-0.3653336985292103,0.243059160802134,-0.5413839829536881,-0.0690989305346494,0.7588087698178023,0.1452403401727359,0.5355668345098663,0.2507212728233763,-0.9270634261435664,-0.4114650110214248,-0.7610546736188513,-0.2445421015206481,0.7856096907227041,0.0344660713088828,0.2187188984761403,0.3150470707365403,0.0613672978221317,-0.0315412805517094,-0.6548331577761272,0.4782462083106542,0.1771226746338127,-0.2823117350156194,-0.4051308763444682,0.1614743548253734,-0.549914284397446,-0.5551436384452618,-0.2641026628644552,-0.2727881525539357,0.0733148154409975,-1.5865070749256744,-0.0989067730079514,-0.0804114845887985,-0.8142250209289819,0.0758295675298242,-0.3592824249156901,0.4789231217238917,0.0268810225611571,-0.180731109347645,-0.8292685408552494,-1.0228628774353117,0.2795299701999878,-1.2907161401312792,-1.2742606524776257,-0.6726846602748674,-0.3538956235259506,0.4376623654050999,-0.2736901533473604,0.3783774779410245,-0.4071700908333008,0.3895710571969394,0.0211914315799301,-0.8385370170168157,-0.4352607358447246,-0.2735152343183125,0.3304028513266649,0.0220531220396263,0.1732691247624925,0.5893611622122572,-0.1295205531245713,-0.7266928233255079,0.0909598013518917,0.2479075672530125,0.2185233109750112,-0.4186749695416789,0.0823560956048423,-0.2297564308646673,-1.201237807609197,-0.8961690038970733,-1.4733784537826264,-1.3936779066545082,-1.3875046883433395,-0.6422867701494809,-0.446369175665163,-1.091977071009515,-0.4371946466951509,0.8802965601396987,-0.130238034487774,-0.4558088672568914,-0.1463490978169274,-0.541996610853578,0.1409797992155416,1.5100782860467818,0.8855904273750607,-0.2088681711223164,-0.2332616619301105,-0.0262623346479648,0.2910380550919625,-1.1157400138465758,-0.3147905677371395,-0.6247850393521363,-0.3821959594327973,-0.101742308928806,-0.9405664356964232,-0.8012868155417631,-0.6223525715224116,-0.631964478492547,-0.911340349356242,-1.1869660747230182,0.2696625428657687,-0.8014708634698431,0.5327168837734729,0.3316140314760432,0.2854146508486642,0.2913648925092902,0.061753355857803,-0.1153272867730662,-0.2837858999040134,-0.1134368257494592,-0.4860173840983721,-0.0291315110597248,0.5165245689321405,-0.0933740710177117,-0.1551961635273421,-0.3959074180734892,0.2387128326877421,0.4142124352499778,0.1115704978769064,0.4088200555740581,-0.4882110708263824,0.2545272896920715,0.0721741929335135,0.108943593097753,-0.7478379163805954,-1.0927273335088326,-0.5286405808093274,0.4023645579857213,-0.1128332860905258,-0.6875901826714228,-0.5984496327344797,-0.4322357844184467,-0.6536775312353357,-0.1915684786326967,0.1582786753010884,-0.5423914211020943,-0.1048740312601221,0.5290742972644411,0.5361708787171711,0.0147238921609045,-0.0098786085036886,-0.1828844749667184,-1.2105870314300446,-0.7797112515129615,-0.4353483734300872,-0.3307420007361246,-0.4727769046426676,0.4281267686414739,0.070890806526285,0.8472225838988827,-0.659873655995438,0.3682051147150516,0.0729020220204404,-0.5920912891146123,-0.4304253360379536,-0.9472638963260688,-0.703633782025765,-1.8010479978325624,-1.4408599485982132,-0.7039302955164725,-0.3249885808270469,-1.0988323505649071,-1.0369852807147222,-1.552281834767922,0.1102591696756983,-1.0144930014284754,0.2798013888245012,0.4043052960804717,-2.1411954582709054,0.3153298223413998,-1.023292647156556,-1.0753472472511076,-1.2495994297572612,-0.9682996451065012,-1.7141200342845002,-1.1271081589399654,-0.9465255320801378,-0.1763996022180398,-1.3172604330871398,-1.5052866500290738,-1.000479094713624,-1.0910482692425634,-1.2306166403196994,-0.4418821531599332,-0.0332126410430092,-0.5114964972985747,-0.2747569461382986,-0.6140059515848973,-1.1028884555380358,-1.4186240950278155,-0.7309404887505653,-0.6335748919404828,-0.856022475550942,-0.5046060120251632,-1.4567663061291227,-0.4619030478002336,-0.1804434652005239,-0.8032677119392974,-0.6111793570791094,-1.4205565415508503,-1.8988899043094112,-1.66484108245425,-0.5908508327312636,-1.1073964898032906,-0.6372764375354258,-0.9224120404929208,-0.5838382233168209,-1.5866599398698624,-1.6417245661907844,-2.721534157433216,-2.159343267255829,-1.984711302472868,-1.410704154792917,-0.2289882487821577,0.5133427787640288,-1.387439608214616,-0.9193426581211056,-0.0711009638909584,-2.0468086695487018,-1.0261057256719956,-2.633255773204826,-2.1294725872374567,-2.284468962746005,-1.7183218662496391,-2.5699766089266007,-2.579593209070405,-2.404849338507164,-1.8470100801550189,-2.3233610129177187,-2.0598103424118825,-2.0204392034730683,-1.989881364162846,-1.6298213125479777,-1.909980265517559,-1.8461878538040644,-1.3830462367484486,-2.1557867999560014,-2.7404830044497817,-1.763008272988012,-2.4691631702386663,-2.1791363480862453,-1.8681022316077929,-0.2318389725768839,-2.0898987478210804,-0.2836218681310202,-0.7862373735990386,-1.001037971011633,-1.4282611217944614,-1.5307053100535806,-0.6591179545884799,-0.7951845246197947,-1.5692276144598618,-0.8034656261874434,-1.6052642575408131,-1.9326770907742368,-1.3556666538075537,-0.6041109646164271,-0.9064034819052248,-1.086867446461086,-0.7161612743258275,-1.541968815246748,-1.92201340415784,-1.263635202734246,-1.431210787439671,-1.3915945563500554,-2.5572251186857624,-1.1404058148301266,-0.6744912613634254,-0.1219534045641316,-0.8748532504774513,-1.6886005601245746,-0.8906672041971828,-0.8251087371446958,-0.7613930829014688,-1.164272796966012,-1.2850276686891735,-0.8147240752202958,-1.4058435040261077,-0.9446465393300142,-1.7154405525268508,-2.9529111634471006,-2.167064608922528,-1.561875825898796,-1.3002218162667092,-0.7341574397710043,-1.4823277713991057,-1.3417375885838072,-0.2949232122636405,-0.8186825578084322,-0.66848652872737,-1.8082156071684403,-1.4328377763287106,-1.5760550366437744,-1.2095931900529873,-1.4595641018336425,-0.3656782530696572,-0.9131921595211352,-2.1397513522564857,-0.5962353059859324,-1.8371745374746469,-1.230632657251773,-0.2680883917363843,-0.0606509272533016,-0.543763301863542,-0.0332795468614963,-1.4041216183158691,-0.7349943730060859,-0.8926036651062689,-1.4552186421186648,-0.8535922432423746,-0.7497898028534962,-0.7154622591066345,-0.7786990041211462,-0.5919842341882907,0.396550554973844,0.2738049063046053,-0.6141975741888513,-0.8437700951343787,-0.8450306612127885,-0.6184156738103893,-1.07310524785287,-1.2927966228387664,-1.5706220043127168,-0.1563480785673865,-0.1874135869538212,-0.7987846977102077,-0.2264125575438617,-0.6636856348741467,-2.070578035809308,-0.1495308948878973,-0.2762104848625986,-0.5540074590634433,-0.2688242093718954,-0.4528944387812204,-0.3755752251012068,-0.3641839882707568,0.2408909800900121,0.0358701965399856,-0.1104557753762541,-0.3830148642123775,-0.913082540676568,-1.1419072604894378,-2.0220820780870192,-1.5712699591007375,0.0646106228196546,-1.182950948853875,-0.9765568188758138,-1.0676849201313976,-1.0827243682603664,-1.5897435561410462,-1.0302718301573155,-0.6506148770089777,-0.76371432869029,-0.1729970690040947,-0.6771981960846221,-0.9273740430454086,-1.3422911870522152,-1.7420694301838466,-2.27827954923178,-0.0450081945614712,-0.5488579676254441,0.4332737408470955,-1.3838235998660549,-1.2209035280642762,-1.3119295786969938,-0.9403203014376532,-0.1758065924988202,-0.2516777482123031,-1.16179950498131,-0.982410260368066,-0.6127155484060312,-0.99291455494328,-0.0619992739725832,0.5708016103619675,-0.8631271320540582,0.3275778918394438,-0.1629564281140507,-0.5884875235017974,-2.664705457413869,-0.9198774156163836,-0.1879297443646649,-0.2434639927839322,-0.0881367757871131,-0.586942838562428,-2.0043273421999466,-1.4204085977024647,-1.0030249769164337,-0.1426143819535005,-0.2435909347086712,-0.0957071346728302,-0.965809978208329,0.2527887172305804,0.3126735359891646,0.3707281250745614,-0.2960530320232391,-0.7089349298324527,-0.4493935913965129,-0.0392075736914654,0.579533082510559,-0.6229429191407361,-0.4213984526863058,-0.3009555562219774,-0.0622968102705403,-0.3010085994011439,0.0411668238334655,0.6655232895568908,-0.8031923168963232,-0.6007432130649442,-0.5341052679467644,-0.9613370519907882,-2.7741583384732915,-1.7988375754519037,-1.4617222602672495,-1.6385248391441516,-0.9493275187252986,-1.8359481345751147,-2.3991637956493057,-1.6461920401523835,-1.2707285951691225,-1.2788460101077637,-2.459441907342258,-2.0592681218302795,-0.7955611488860806,-1.3578297685071383,-0.5710212371499296,-1.1643079306909645,-1.5955734548052074,-1.0792138712264658,-0.8561133587480019,-0.7464612414052927,-1.0598056609221658,-1.3210623475460357,-1.5040580432421202,-1.1585182140421957,-0.5762131953493224,-1.125083679944325,0.0654686490344836,-1.0591208174717042,-0.6419493214468478,-0.4764607094770332,-0.4233479031079569,-0.7925689671897371,-0.5460040995680764,-0.3839249229373451,0.4245239451011096,-0.3622632040815256,-0.6438491450938059,-2.441121197518445,-0.8136648543553013,-0.4415888870523869,-0.746621732625855,-1.2714124403049547,-0.6104153996345121,-0.1863841374396271,-0.9521223208631212,-0.5586528963001589,-0.7368693328708044,-1.897224100170372,-0.6801030969638396,-0.6107109044790189,-0.3932755847574473,-1.3201764068505084,-0.1538348214546713,0.1112615200552221,0.2387097735297445,-1.9232232344423148,0.4003674961772203,-0.5745515847935041,-1.1966136912495202,-0.9688874092729992,-0.6863987565107723,-0.4124420854411221,-1.6599106004377564,-0.2995392177125385,-0.0142669563830246,-1.616237052637,-1.3963669687042612,-0.199711043086715,-0.9790969388259808,-0.328391491968088,-0.5092054912737133,-0.2877465214151756,-1.1888962375620034,-0.3781919742368681,-0.4191013230266125,-0.8879278081669592,-0.9305080400479248,-1.1436641875704006,-0.6468515734215957,-0.9712728594437544,-0.5255416049497353,-0.6534575177204205,-0.7708486907229892,-0.6482192943124859,-0.7315781359067377,-0.9247898405869266,-0.3943899425268694,-1.4959874790802732,-0.4265532182286438,0.265242537240974,-0.9993871226667778,-1.2099331904607344,0.1751572511632115,-0.4587456360582004,-0.326065770367131,-0.6979078104536797,-0.656634533397687,-0.7065685201198395,-0.7901678560268577,-0.4033924569195528,0.2356227626642213,-0.4242700088706893,0.4383124855983121,-0.2044701944095932,-0.0797130353586455,-0.7567438439600394,0.3111184430919805,0.6744216148794182,-0.8771553002867164,-1.0380143781260571,-0.6503005758627755,-0.6741683292479139,-1.0668740182281733,-1.0334828849799,-1.0307709520223507,-0.681641035249077,-1.4499115086836756,-0.5314954028163393,-0.3914028992736763,-1.5099796930428535,-1.3697084138253066,-1.1035651196902276,-0.6200837357031221,-0.4947331566370669,0.1284017647675992,-0.1963648806448707,-0.5536873293887359,-0.7172715892469452,-1.3030352520367012,-0.9648989925223694,0.0919016939496073,-0.3245286390507085,0.3054451394851708,-1.0915684026390582,-0.4483273689180974,-0.8280747116474035,-1.4816102169792784,-0.9334599948791849,-0.7515652562141413,-0.4373585999375876,-0.2853795493311856,-1.1069732744841458,-0.3553290995490121,-1.1665215922332517,-0.1950674275575778,-0.9816937428302728,-0.8503272646891736,-0.1897697391440133,-0.0438086757090558,-2.9473748555273183,-1.4823038638424433,-0.5718936613625122,-0.7674669875057575,-1.0286077590745786,-1.6136641857439589,0.3609344568368308,-0.2636622949270325,0.0479112783279531,-1.5907753721798727,-1.828410128751075,-1.0150732152712376,-0.5562536191043587,-0.8448186631006556,-1.3243074138064186,-0.720324654886369,-1.3642377368300724,-1.4836321820741374,-0.9703162328522764,-1.1589438924652484,-1.3655282624816156,-1.4022510358649096,-0.3281945663893614,0.4135790784172999,-0.3472941829347781,-0.1884361906403336,-0.961232649693286,-0.583424845415862,-0.7804763795607873,-0.9681437005088096,-0.5238340965196882,-0.655147425324248,-0.0726809011058895,-0.5798955164702312,-0.974175626760048,-0.3691972043816251,-1.3390187109162115,-0.4243320509842593,0.1125530543722343,-1.2140527471789055,-1.0502469005835402,-0.6161369551102113,0.1221629482544316,0.7430322134040859,-0.5928460265763228,-1.6696090094000229,-0.8551746283451968,-1.1616870501455303,-0.9493949458319844,-0.4245467122920055,-1.134587412062376,0.3354976245853944,-0.328687699413812,0.3872830656913466,-1.0190735841793572,-0.6859637418293876,0.4688075949950906,0.3227632701095934,-0.0436173059997774,-0.0999808478686857,-0.0903379738950176,-0.0643026089520323,-1.1765020801622748,0.0768656938202691,-0.8098588385172606,-0.6189607783154112,-1.079259525717273,-0.455777440880244,-0.5089660135549057,0.0023046462014968,0.0953142124331311,1.0570758037332642,-0.4802964566013186,-0.3129507848808289,-0.7141672718239837,-0.5705508625447681,-0.6591204882630952,-1.1834290302054775,0.2967690501583135,0.0483396011804062,-1.1438062461731917,-0.0648011218685247,-0.4811310522578436,-0.7462184001677296,-0.929604274077548,-1.591196586713801,0.0999443505896487,0.0448219265263674,0.0257401605379199,-0.0692766424600187,1.1222093651431209,-0.2962870823427649,0.8549529251745424,0.0210993152555305,0.9391245170510134,0.4818791242790405,-0.4751032529036215,-0.5957076984818662,-0.79082325612897,-0.6330778801100422,-0.4356542545737146,-0.0357849970614768,-0.1409579925725058,-0.6458939880349407,-0.2568608853466978,-1.0465041722421256,-1.363787013559609,-0.1537486373810009,-0.5591709801843425,-0.3537004854907251,-0.6056184576887862,-0.3820921936811519,-1.0108164948110323,-0.5820155117079532,-0.3611573504652616,-0.4076479708171819,-0.5675726331713862,-1.0520348911450557,-0.4116618024195001,0.4061389868198924,1.0493400012628278,0.4962693129053682,-0.7651533751722653,-0.1593313607717546,-0.334622142951089,0.2002546332622328,0.9285768088412206,0.0015492870310951,-0.6919590963135411,-0.9561202914844996,-1.8746959526562827,-0.1612762142472993,-0.624109005781195,-0.3428396670166251,-0.7724254196903417,-0.934279607500668,-1.7907335676608012,-0.8958836157822663,-1.1294619290817327,-0.6637420753185133,-0.2334656463686857,-1.424258341602912,-0.9632673861003536,-0.4824325120494194,-0.1710625478932086,-0.7082397197251143,-0.4632093046837991,-0.9839608763551642,-1.3508558082437243,-0.979823485216452,-0.5531643196597732,-0.7727944673235462,-0.6256040873296367,-0.6395105666592853,-0.6826654826837685,0.2238809684371296,-0.1788897850140411,-0.6554859716636279,-0.1993515184345751,0.3196657179878238,-0.2822882917089727,-0.7491477850655534,-0.4809197723739401,-1.0568017703628791,-1.483575416524166,-0.8155225025199748,-0.2649482070428565,-0.7831093428173291,-0.4093508669271345,-0.1260150310145434,0.1634773004048823,-0.6120087021212276,-0.8266465535688878,-0.7275121671252571,-0.4562043243175032,0.3567964499946681,-0.5858178312406416,-0.186312732566028,-0.4682401407971358,-0.5773062556056038,-0.6204313190652594,-1.214247610077316,-1.1724924442876998,-0.6403339620435979,-0.4145567302307393,-0.294287768243245,-0.8724908247662305,-0.2549551005017546,-0.1503738976275357,-1.1341447684281052,-0.3136467836553535,0.0073432288004297,0.0619776105485284,0.1486051320096759,-0.4180200415582592,0.9202967558704852,-0.2958046210325575,0.0651025429524713,-0.3086256262831221,-0.2224496770810606,-1.010530701520941,-1.1924776472392573,-1.0850967386690622,-0.5662140438705351,-0.6298035330689358,-1.727951131941067,-1.4002806745355962,-1.9920763070055407,-2.409828909226103,-1.008196003722491,-0.168844732869634,-1.2872571653335083,-1.8991313505300265,-0.4886888206497799,-0.5119935718917992,-0.5469271703574959,-0.9914696271341508,-1.0654223867265735,-1.6218919350210732,-1.3605508228037757,-0.1101891183553468,-1.147741133735325,-0.3615910466074721,-0.8172330173616852,-0.7227758587932269,-0.9633904802810248,-1.4219518506056703,-0.2181257734935972,-1.1931154190380882,-1.0879035100380068,-1.1903971442420649,-1.2526836376982309,-0.5240617735436105,-0.6562067560223372,-0.7525952330110968,-0.9715408725496985,-0.7347871545253521,-0.2799831163878142,-0.563439695607261,0.3332561414107642,-0.3673173630827719,-0.5635131954378829,-0.187674926324717,-0.6701015203701303,-0.3412307701319369,-1.0185220141191214,-0.0886783649098932,-0.1491807146269363,-1.0974877849362494,-1.1814119873704447,-1.8757305195462195,-1.476460482023907,-1.6951164105029268,0.4701868757686386,-1.3831080379230154,-1.0043577608047152,-1.1371221369426336,-1.322635464282103,-0.7049184760552869,-0.3030933993989526,-0.906300754582772,-0.2098043810017759,-0.4988597686707549,-0.4361378110750605,-0.2017599629678704,-0.4707706427030029,-0.7648717894339486,-0.2084308443066956,-0.488295737167952,-1.0340410633744743,0.0060459422895134,-0.6542017726054298,-1.0285002004227357,-0.085312750312276,0.3802231588744281,0.099356170583808,0.0116282569195619,-0.6144872357444089,0.0189242008445628,0.0393993225056348,-0.1319804466219398,-0.2342355908291521,0.1926879472190362,0.0216524123185566,0.1405355431454298,-0.5725981202698547,-0.194261248053067,-0.5915831117041647,-0.6514994227490568,-0.8090635429286405,-1.2964044197552251,-1.5737230988651445,-0.6123531917721714,-0.4355260213995596,-0.056837804587744,-0.6301633986007931,-1.4945932505442214,-0.8912029746222008,-0.5349285459904047,-0.063977448283955,-0.4785824066893226,-0.8101138072618794,-0.2528825591726383,-0.6291089092266479,-0.7079590705251176,-0.8840103564723985,0.3711930992128734,0.0272413853432931,0.1801531263369415,0.0507286509648987,-1.1068427475080866,-0.3644022430072046,-0.6640046189442329,-0.8963270494033334,-1.2635029058606626,-1.945758861022154,-0.3536587202848789,-0.5394049074229197,-0.676598248439352,-0.2831608639880287,-0.0276349344927202,-0.2371051257880319,-0.8164093954644137,0.7733310308557251,-0.7617900651387594,-0.7098473736450217,-0.3833162307171244,-0.5416437895440912,-0.7573236559885034,-0.6973765824390298,0.4890543239244191,-0.8208801441603847,-0.7617267277557265,-1.166152643118464,-0.6411868605704796,-0.8225615882235253,-1.5256108942621245,-0.227993627865513,-0.9009877092317534,-1.3015689517589288,-1.806101897791341,-1.506909113416881,-1.6154551190441924,-1.1447218292253358,-0.6689113162761676,0.1812474809978226,-0.2719172145098918,-1.3100015899679869,-1.554558096133556,-1.561938637655869,-1.401004538394604,-0.7634437347424208,-0.6571741146423155,-1.0364382490670756,-1.4314782735732663,-1.4599862754176955,-1.1021951517432722,-1.3288666114919545,-0.8408869294331712,-0.9600651965076604,-1.3988735448279694,-1.7568465890772476,-0.3447503674418281,-0.4875958696038019,-0.2056106147279112,-0.7836845585228714,0.5460868381726954,0.1439118884311603,-0.8565788011525255,-1.3877523598030466,-0.989259469254347,-0.5032637950064155,-0.3881744565513512,-0.4551576292285171,-1.2364876794427493,-0.3028163999688111,-0.3533860130341631,-0.5718898804221451,-1.0048263367155204,-0.6801021418243635,-0.9709621535714608,-0.9706181473520256,-0.1125214779187605,-0.9728313104899936,-1.0735310056385243,-1.2536389234597447,-0.1562759700766331,-0.6404034289930506,-0.0386043106355312,0.0062530631726866,-0.5073645010098291,-0.0018848016121035,-0.4002005449351128,-0.3012523094499364,-0.3541897890969074,-0.5514660976987128,-0.2423435760996448,0.1553356868556378,-1.0828984345182209,-0.9302960412486772,-0.5048651142136094,-1.0024263231198072,-0.0245011972838138,-0.0658269204443108,-0.0593698374316272,-0.7295679143912115,-0.6232243625418897,-0.0567124009754023,-0.160631526877581,0.1706522475740518,-0.8283243454631197,-0.022818071648226,-0.2331177005832406,-0.9476483218968612,-0.8242484021059766,-0.2196312774605764,-0.6616117076426772,-0.9476973871311442,-0.2077342733153572,-0.5822753679901129,-1.3814760429010688,-0.255551019932931,-1.1821642884175827,-0.9700242254406374,-0.8313542164250276,-1.2017123844338429,-1.0994238274616104,-1.076231086476796,-0.598104620499122,-0.1448194376280867,-0.4272615965029586,-0.8847211089319055,-1.0239467849196051,-1.4905570766452028,-1.5315136336799289,-1.0239784723902092,-0.3674479869504077,-1.9263206148107024,-1.387333279339801,-1.3404415722586471,-1.3005072234518014,-0.3083732974346232,-0.9245076359990392,-0.3135298982476791,-0.6933061983212286,-1.1644558262144218,-0.8623667870538227,-0.8675287972445118,-2.009333183727665,-0.961651004606091,-1.0222093996555492,-0.6505110934864919,-0.353118369551785,-0.647430906888406,-1.0666109365635985,-0.3740478111368941,-0.5005486925013137,-0.7538531748878118,-0.0570643626831528,-0.8312466732788929,-0.2812702550682051,-0.4184596072134128,-2.1372172668801226,0.4533233086168893,-0.2817444487816674,1.0298616154578826,0.3296446521823737,-0.1079930927593895,-0.7202234816644556,-1.1259021793837152,-0.8618738763733351,-0.3769208787556301,-0.0504039748725461,0.4295899812085817,-1.197578281345206,-0.9413162656119284,0.0602577622553407,-1.2337121577686971,-0.4938358003092593,0.2745468738373776,0.0583670693984174,0.0460155499727371,0.6501186348407956,-1.1967043524924104,-0.8718970044909434,1.2317840694075326,-0.577309031299438,-0.6809188573334242,-1.0703277357835532,-1.8064432848265928,-1.4957204588560074,-1.03821987690353,-0.2043647167647668,-0.6621889875842393,-0.9583188977255872,0.0138258880870246,-0.9931981636734536,-0.3935546509109904,-0.4409119574914215,-0.6608154802750492,0.4720371586825303,-0.354684128126756,-0.3240654957617417,-0.5030556015000213,-0.777589097089631,-0.8631051104692897,-1.4220124188504508,-1.037484264855706,0.2590165666890087,-1.2137758187594865,0.3779254031530717,-0.6480275661407088,0.0371331107243973,-1.5135324235097252,-1.349226018916997,-1.195386486011016,-3.09057725434415,-1.8355837296302568,-1.7934442819952443,-0.7428690297353439,-0.4062596636813101,-0.1640860091813197,-1.2279899087135908,-1.4127106892861503,-0.9126550684358504,-0.0525322996490499,-0.9900203780497222,-0.5570122233805379,-0.4858904884858112,-0.1307985109269207,-1.903553023554469,-2.073102412676921,-1.229662124819188,-1.7211475368860667,-0.8989865171313695,0.1557939393729152,-2.1132964541886112,0.3896906442938472,-0.0012455431025856,0.2498152937861456,-0.4350067456753278,-0.7585809907727977,-0.3073372516057147,-1.1149680124391828,-0.1426854424337308,-1.318663881824219,0.2445128157532815,-0.9922814595724112,-0.4969136996628097,-0.9566828745773136,-0.5939494725436781,-0.8926391916861236,-0.9359185887008372,-1.8733109582162013,0.0371496722911032,-0.5770228673927582,-1.4455670056238263,-0.99769263973481,-0.3050617019428829,-0.9742925265146992,-1.04867407531391,-1.7375535745484023,-4.1432782430677015,-1.4869788108430444,-1.0348848152401562,-0.9588579202658704,-0.7438521955551306,-1.2144664176037805,-0.0817947919586796,-1.8151235056525248,-1.087177154020694,-1.9603363995160672,-1.8874064593214208,-1.6973063895843343,-1.9541183971733087,-3.8722087266741383,-1.6511679402229007,-1.4093226298308172,-0.8761382747120114,-1.0176789447238903,-1.5652019701451494,-2.747873072094188,-0.25541444724545,-0.331389565392458,-1.1160594649211362,-1.2897650566174828,-0.0886895426085771,-0.3556574806350804,-0.8812651104173007,-1.176911516412977,-0.0777464591111244,-0.3678211189616613,-1.2059625402797007,-1.255391417436826,-1.303411885043107,-2.0504842962284524,-1.4275877381600086,-1.0093550948229346,-1.211028926724914,-0.4954089664330501,-0.2940871406889572,-0.7346451172972401,-0.5224369705548463,-0.8787794235476216,-0.95081794564704,-1.9894341272297429,-0.961597234899636,-1.2394074044431969,-1.1220946979746695,-1.2666316960582142,-0.5801678212117322,-0.1012557950478578,-0.350095273050715,-0.4811803389814189,-0.5696152827368068,-0.5942455083110522,-2.152079386188476,-2.1369840147378936,-1.8692552852296715,0.3285293090757384,-0.2172430201261062,-2.372985257146215,-2.7437957540988323,-1.5664944038021604,-0.3478573029288134,-0.7114019673963106,-0.544710835894879,-0.5653995040765455,-1.495203496070942,-0.8736325496825474,0.1250919652922398,-2.251596379945866,-0.7644042895036907,0.8456369337963369,-1.4229221200683877,-0.7269450686765313,-0.9727813668996096,-1.2864275012326798,0.2702614693111712,-0.46270370535903,-0.9223347328774802,-1.2570903262674225,-0.598455613188733,-1.054493170182886,-0.8797036833585734,-1.6167664270466056,-1.4065896579274508,0.1698276391400525,0.2759365946157863,0.2420369417230466,-0.7486431194504887,-0.1333497204139438,-1.0334510875895369,-0.6349779949063318,-1.0784014442735363,-1.0788716539454588,-0.9368038835249216,-0.436122165517986,-1.725755772152178,-1.1168864079441363,-1.4346636841022444,-1.1745820193150829,-1.155929658724295,-0.8486016481179771,-0.617505533076474,0.3336195334904444,-0.8912567465023487,-1.7907305028759557,-1.4752567831836838,-1.0515809781168215,-1.5109981209805132,-0.2204342885364084,-0.9125469920452464,-1.4390174725827347,-1.5501748153618704,-1.2157052754973494,-0.6767509810551511,-1.1314861044711864,-0.5216072785720233,-2.183035146622196,-2.7704293529084945,-0.6262821125115505,-0.7068705426317674,-2.3823785565017035,-2.6847342590816767,-2.324295153925237,-0.8597948354117089,-0.9780851926780834,-1.371968551449377,-3.4429993183991754,-0.4489377709669674,-0.5367828922323643,-1.4202117154653675,-0.7623862669611856,-2.0643547260299213,-1.3647710431718347,-1.3877942404134755,-1.4155410832126345,-0.8701082251434304,-1.0362099531587896,-1.241601221108533,-1.6572800778366483,-0.6980031166357026,-0.561545390009771,-1.1341329385851284,-0.9926387141820256,-1.1330573631973653,-1.0638094797066286,-0.0485699094285961,-1.3063195511121035,-0.6797932636099819,-1.6575200973213189,-2.4214059877349,-1.9624171196550364,-1.9038223042562603,-1.033553771070438,-0.94674877481473,-0.9699968957942428,-0.7137408354078314,-0.7160482763308194,-1.1344348897650505,-1.856498475911737,-0.5764322626659735,-0.6787646752798623,-0.995111013991302,-0.6565565851714932,-1.1685555937029632,-1.1102729656100352,-0.355393910395311,-0.6348655668790982,-1.2828237823430968,-1.3601687207587856,-1.5153771343252698,-2.017355019271494,-0.7210466387744863,0.2725336826107781,0.0341228596542949,-0.4379045953679757,-1.8125846046552745,-0.6633982989826123,-0.9305510392427822,-0.6996616284484688,-0.251682800252733,0.0183862302098919,-0.1839851591381597,-0.0096305772046836,-0.3357734842561632,-0.5718328180127766,0.3073150144888262,-0.2339158031458928,-0.300064459066323,-0.8431919687892951,-0.5388735688891834,-0.1567397951402977,-0.58660790858905,-0.5250163835313447,0.443436429614894,-0.6154240287400314,0.3652149954520207,0.7046175151330877,-0.4426239159320866,-0.718660120841792,-0.7707316273722287,-0.7359281422983235,-0.4396429658600269,-0.1102901919690618,-0.1194496335618366,-0.3004246378680177,0.0387052164072125,-1.3618784054075577,-0.2127853737319253,-0.5984714916887665,-0.6722955158225253,-1.0705799157993767,0.3638485156623658,-0.8677559286242469,-1.1016073695362458,-0.6501793847137758,-0.4082878510630532,-1.181731125065527,-0.7701865005516757,-0.5095041878992613,-2.8330239210546835,-1.854067365937471,-1.0205262306645624,-0.3086718037805102,0.5867120938140302,0.4220912675070541,-0.6956639464094155,0.3492155414382468,-0.5929787965049494,-1.1432196345333765,-1.373537236405555,-0.5726765852538599,-0.70697010620554,-1.1260540524761722,-0.5747376745178808,-0.8120366387392774,-0.5742398335089934,-0.0786166269821608,-0.7295929357385915,0.3516516085800779,-0.6248975537149343,-1.3957539764395517,-0.2198183658740622,-0.7815575678513219,-1.0230878318786738,-0.1024540551703255,-0.3678213391810932,-0.3302240949579904,-0.4096215203743075,-0.0458019731698591,-0.7457257681092606,-1.744369619807085,-1.4559241263287268,-0.6676133366937745,-0.8911206917043615,-0.4265367480697504,-0.1381253899059304,0.0444071928573805,1.4148811632866038,-0.6780424172090327,-1.0445158898231408,-1.2340197244675142,-0.3860663666110007,0.0361403695751838,-0.775250476302717,-0.8994200973465086,0.1739442313981568,-0.4595128909379466,0.0285578825229383,-0.9335582747387212,-1.5334319218395367,-1.552787967419714,-1.0166026478335557,-1.4219756940825743,-1.8381709541986424,-0.8960511910357665,0.5239125541040334,-0.9091921574890612,-1.5238356712258847,-1.8396429062789177,-2.193504598154718,-2.1133661203249585,-0.9042184357494876,-0.1916653956730131,-1.271719031853057,-2.0539182774343017,-2.6789210041531155,-1.918254146098324,-2.186869909894838,-1.9268030932404687,-2.443524306526101,-0.8285642851854127,-1.3104111696164735,-2.940696597078332,-2.2929746521697747,-1.684434177321958,-1.981923599812596,-2.079142187127392,-1.3139186627835184,-1.2976267062616926,1.3205239123971473,-0.7641180834986048,-1.3712063525094695,-0.9677550914042112,-1.252556261998368,-0.8233632650780314,-0.0982664557614803,-0.7286873094710014,-0.9551990727574976,-0.47250353129172,-1.0074379055399834,-1.0183576156000995,-2.0526407182947497,-1.0486121246386122,-0.4694810905585142,0.0854818378837554,-0.6777566446814242,-0.9809492877435412,-2.068767352657644,-0.8907029795015382,-0.4539928935198381,-0.4535227901259632,-0.545677408730072,-0.2555726406316957,-1.1326196392965266,0.3312010060330536,-1.201989136460125,-1.1680977032458872,-0.6485696407713325,-0.5629359961549146,-0.4668920833720446,-1.3503259831243464,-1.2927688937805726,-1.1213214844896022,-1.0831974465049854,-1.5725847269011657,-1.0495370468730565,-1.1593891613052394,-1.4842421555539782,-1.5250628267764854,-1.3566863986387825,-2.275423949861001,0.5081273939540331,-1.4460294421278093,-0.8326135378884374,-0.5398790664213201,-0.0846203437248618,-1.625176810406999,-3.255382115546863,-1.6857664056014718,-0.5066500419354002,0.0004084294954255,-1.3948111738215605,-0.9147959082352912,-0.0358361959990414,-0.7863275540113351,-0.3032077421383857,-0.1312280091276609,-0.5733334585913602,-0.5795768889896087,-1.1213510263532556,-1.903511592650946,-1.9561033721550944,-0.7632510800632873,-1.1578056270210355,-1.6673273117745158,-0.3475772057492681,-1.6217211322787743,-1.228966985846656,-1.4904448596140645,-0.5526317514079476,0.1257767188350697,-0.7882488951106114,-1.6590954674027938,-1.0167618730792642,-2.6959976015474254,-0.4952077527796352,-0.9149734583350508,-0.9935959578257212,-0.0250322033745926,0.1782990283300074,0.3318193112006002,-1.1370392056388443,-2.801881906359253,-1.9118977324713604,-1.2536208087231704,-1.2953668453818188,-1.1449891202846492,-0.405244924804492,-1.487862261734768,0.0512650633558591,-0.8199647905736693,-1.1972273173120942,-0.8217798962348878,-0.4698291639049953,-0.41742989839983,-1.0888326618801971,0.7813870633592434,0.2034051821875088,-0.9714708765915416,-0.6244445352189024,-0.98240457314703,0.2559404890570139,-0.4072735182308473,-0.7555115778232633,-1.6327872039542843,-0.672543969754864,-0.4215960414194333,0.1754239539692436,-0.2147820055492096,-0.8670410002571267,-0.5210414549518501,-0.3161743329327838,-0.658414008450299,-0.91628405464715,-0.5340025625004488,-0.3963255808753972,-1.2966429560455222,-0.8275172361130211,-1.3673561772181055,-1.0182583522043531,-1.2497157409513209,-0.1888207751251144,-0.9886118332539804,-2.0037740964441806,-1.567754179626785,-0.2086404373033362,-1.200845306240245,-0.7293161986805229,-0.9977128857193482,-2.1262073449643912,-0.6120250886407024,-3.7881221865760266,-3.654440940708769,-0.1418356041542352,0.2511195498990363,-0.1870016909123324,-0.275222025027785,-0.1209774743500335,-0.2231867969040946,-0.6047978957742939,-0.2672471675569811,-0.9064080336176392,-0.2797994781638491,-0.0306192400841748,0.3408777003178182,0.9174158890861878,0.4069540870717272,0.0431755340166882,-0.1967662105588344,0.0081830257821543,-0.7675515574467648,0.4620261405697148,0.0828124999432272,0.3381709608907445,-0.2626325825533073,0.0275024932085364,-0.7067398593457506,-0.6887410438148586,-0.6433242805162137,1.5203521560671325,-0.5261904040173754,-0.8298352691315108,-0.2400170902700066,0.0191559462955872,0.2033701911543912,-0.0705463730629178,0.7314002575378842,0.0829405959033359,0.53957581685914,-0.2662707817649404,-0.6319807893499431,-0.9507371703565896,-1.6502478493318882,0.7050761142801041,-0.467313625179834,0.1879961270286338,-0.3385175009700901,0.1917753969554158,-1.654836683797029,-0.0135290607063167,-0.2650759937102248,-0.8341606526694642,-0.8929423307671349,-2.5281345797330026,-1.319052690143706,-0.2272943222136347,-0.1891042885407181,-0.1135476398202346,0.0996946971429972,-0.1808156375575471,-0.8786538023582514,0.0764436073702011,-0.2893235832586696,-0.7489824809705259,-1.2006953150392663,-0.3065748007496126,-0.3306034046829057,-2.1666719063957185,-0.3899659993989813,-0.3101971974471395,-0.3295110410760401,-1.3830484721204446,0.2407102098137995,-0.0109193486687081,0.2667799813577111,0.3297187414388332,1.2090511450413697,0.4683791986152893,-0.4906464531968068,0.6659128706645265,0.2311723187717619,-0.4789144621020233,0.4939862172449096,0.024309714334426,-0.4576993450350839,0.1726475816854711,-0.6333089293487852,0.0401884342939516,-0.4961175134518445,-1.0332871167056434,-1.192837228361178,-0.9519155808188136,-0.2281835615545099,-0.946256434993386,-1.203672198001143,-1.2339893086359126,-0.8210251785109086,0.464089254575267,0.1787679846958377,0.0188489641552481,0.2037709187590408,-0.8612331351066281,-1.418765558786993,-0.6250526958340413,-0.4377125481325074,-0.7689583891858824,-1.2823201308175225,-0.3462142454093194,-1.0663763805109567,-1.5763918220479356,-0.735036166162239,-1.188285225015459,-1.7533460931125786,-4.037384704213647,-4.063214361288178,-2.2203427328954213,-1.1282784165923574,-1.4602467291547383,-0.5620084644241301,-1.9397477789683488,-5.176698363851587,-3.7203691310149294,-2.2625942576163744,-0.2837370781920779,-0.6752951749190572,-1.3889022367396149,-1.713281368317238,-1.7819926357774103,-2.2396010644194946,-1.5873722023279682,-3.5631615568703814,-2.6976219557628944,-2.157776018978719,-2.3676020117778327,-1.4225954255803062,-0.5818655220426303,-1.513906027253466,-2.2695064750392606,-2.128098934669953,-1.6408843345644135,-2.181383627448473,-1.2959268059272782,-2.9840616078755664,-1.96617156030687,-1.4335631115860734,-0.5445123786165031,-1.6505423995532031,-1.4706800205339603,-2.542315089487835,-2.280619139411451,-4.591191584578435,-2.9189696648249672,-1.7405580168496402,-0.909106968158792,-1.8661265206624669,-2.4910949391694794,-2.7963378267895846,-2.760711234952113,-3.032348172947723,-2.9598268827895264,-0.9157880492913626,-2.5373871191431903,-2.9448852529409595,-2.3057312305632194,-1.1574051276826818,-1.2087692451905103,-1.5508351795206985,-1.4512301308056346,-0.8469091511325556,-1.7488415938371864,-2.1927541529144743,-2.3005539005063347,-0.7792376056992006,-1.921800145152984,-1.8780397110011984,-2.9636002224426985,-1.6400752639168676,-0.7196644290858917,-1.382903377647059,-1.330003963193206,-1.6212281649766729,-1.0143467821648036,-0.6059395952983541,-1.4263633594819856,-1.3389820907006291,-0.4490061393739218,-1.1486739490572089,-1.6648163611886695,-1.599243612453558,-1.032596202958734,-1.8731294869212511,-1.2859595934527852,-0.5529641988959261,-0.2037642160380741,-0.9550063518020636],\"yaxis\":\"y\",\"type\":\"scattergl\"}],                        {\"template\":{\"data\":{\"histogram2dcontour\":[{\"type\":\"histogram2dcontour\",\"colorbar\":{\"outlinewidth\":0,\"ticks\":\"\"},\"colorscale\":[[0.0,\"#0d0887\"],[0.1111111111111111,\"#46039f\"],[0.2222222222222222,\"#7201a8\"],[0.3333333333333333,\"#9c179e\"],[0.4444444444444444,\"#bd3786\"],[0.5555555555555556,\"#d8576b\"],[0.6666666666666666,\"#ed7953\"],[0.7777777777777778,\"#fb9f3a\"],[0.8888888888888888,\"#fdca26\"],[1.0,\"#f0f921\"]]}],\"choropleth\":[{\"type\":\"choropleth\",\"colorbar\":{\"outlinewidth\":0,\"ticks\":\"\"}}],\"histogram2d\":[{\"type\":\"histogram2d\",\"colorbar\":{\"outlinewidth\":0,\"ticks\":\"\"},\"colorscale\":[[0.0,\"#0d0887\"],[0.1111111111111111,\"#46039f\"],[0.2222222222222222,\"#7201a8\"],[0.3333333333333333,\"#9c179e\"],[0.4444444444444444,\"#bd3786\"],[0.5555555555555556,\"#d8576b\"],[0.6666666666666666,\"#ed7953\"],[0.7777777777777778,\"#fb9f3a\"],[0.8888888888888888,\"#fdca26\"],[1.0,\"#f0f921\"]]}],\"heatmap\":[{\"type\":\"heatmap\",\"colorbar\":{\"outlinewidth\":0,\"ticks\":\"\"},\"colorscale\":[[0.0,\"#0d0887\"],[0.1111111111111111,\"#46039f\"],[0.2222222222222222,\"#7201a8\"],[0.3333333333333333,\"#9c179e\"],[0.4444444444444444,\"#bd3786\"],[0.5555555555555556,\"#d8576b\"],[0.6666666666666666,\"#ed7953\"],[0.7777777777777778,\"#fb9f3a\"],[0.8888888888888888,\"#fdca26\"],[1.0,\"#f0f921\"]]}],\"heatmapgl\":[{\"type\":\"heatmapgl\",\"colorbar\":{\"outlinewidth\":0,\"ticks\":\"\"},\"colorscale\":[[0.0,\"#0d0887\"],[0.1111111111111111,\"#46039f\"],[0.2222222222222222,\"#7201a8\"],[0.3333333333333333,\"#9c179e\"],[0.4444444444444444,\"#bd3786\"],[0.5555555555555556,\"#d8576b\"],[0.6666666666666666,\"#ed7953\"],[0.7777777777777778,\"#fb9f3a\"],[0.8888888888888888,\"#fdca26\"],[1.0,\"#f0f921\"]]}],\"contourcarpet\":[{\"type\":\"contourcarpet\",\"colorbar\":{\"outlinewidth\":0,\"ticks\":\"\"}}],\"contour\":[{\"type\":\"contour\",\"colorbar\":{\"outlinewidth\":0,\"ticks\":\"\"},\"colorscale\":[[0.0,\"#0d0887\"],[0.1111111111111111,\"#46039f\"],[0.2222222222222222,\"#7201a8\"],[0.3333333333333333,\"#9c179e\"],[0.4444444444444444,\"#bd3786\"],[0.5555555555555556,\"#d8576b\"],[0.6666666666666666,\"#ed7953\"],[0.7777777777777778,\"#fb9f3a\"],[0.8888888888888888,\"#fdca26\"],[1.0,\"#f0f921\"]]}],\"surface\":[{\"type\":\"surface\",\"colorbar\":{\"outlinewidth\":0,\"ticks\":\"\"},\"colorscale\":[[0.0,\"#0d0887\"],[0.1111111111111111,\"#46039f\"],[0.2222222222222222,\"#7201a8\"],[0.3333333333333333,\"#9c179e\"],[0.4444444444444444,\"#bd3786\"],[0.5555555555555556,\"#d8576b\"],[0.6666666666666666,\"#ed7953\"],[0.7777777777777778,\"#fb9f3a\"],[0.8888888888888888,\"#fdca26\"],[1.0,\"#f0f921\"]]}],\"mesh3d\":[{\"type\":\"mesh3d\",\"colorbar\":{\"outlinewidth\":0,\"ticks\":\"\"}}],\"scatter\":[{\"fillpattern\":{\"fillmode\":\"overlay\",\"size\":10,\"solidity\":0.2},\"type\":\"scatter\"}],\"parcoords\":[{\"type\":\"parcoords\",\"line\":{\"colorbar\":{\"outlinewidth\":0,\"ticks\":\"\"}}}],\"scatterpolargl\":[{\"type\":\"scatterpolargl\",\"marker\":{\"colorbar\":{\"outlinewidth\":0,\"ticks\":\"\"}}}],\"bar\":[{\"error_x\":{\"color\":\"#2a3f5f\"},\"error_y\":{\"color\":\"#2a3f5f\"},\"marker\":{\"line\":{\"color\":\"#E5ECF6\",\"width\":0.5},\"pattern\":{\"fillmode\":\"overlay\",\"size\":10,\"solidity\":0.2}},\"type\":\"bar\"}],\"scattergeo\":[{\"type\":\"scattergeo\",\"marker\":{\"colorbar\":{\"outlinewidth\":0,\"ticks\":\"\"}}}],\"scatterpolar\":[{\"type\":\"scatterpolar\",\"marker\":{\"colorbar\":{\"outlinewidth\":0,\"ticks\":\"\"}}}],\"histogram\":[{\"marker\":{\"pattern\":{\"fillmode\":\"overlay\",\"size\":10,\"solidity\":0.2}},\"type\":\"histogram\"}],\"scattergl\":[{\"type\":\"scattergl\",\"marker\":{\"colorbar\":{\"outlinewidth\":0,\"ticks\":\"\"}}}],\"scatter3d\":[{\"type\":\"scatter3d\",\"line\":{\"colorbar\":{\"outlinewidth\":0,\"ticks\":\"\"}},\"marker\":{\"colorbar\":{\"outlinewidth\":0,\"ticks\":\"\"}}}],\"scattermapbox\":[{\"type\":\"scattermapbox\",\"marker\":{\"colorbar\":{\"outlinewidth\":0,\"ticks\":\"\"}}}],\"scatterternary\":[{\"type\":\"scatterternary\",\"marker\":{\"colorbar\":{\"outlinewidth\":0,\"ticks\":\"\"}}}],\"scattercarpet\":[{\"type\":\"scattercarpet\",\"marker\":{\"colorbar\":{\"outlinewidth\":0,\"ticks\":\"\"}}}],\"carpet\":[{\"aaxis\":{\"endlinecolor\":\"#2a3f5f\",\"gridcolor\":\"white\",\"linecolor\":\"white\",\"minorgridcolor\":\"white\",\"startlinecolor\":\"#2a3f5f\"},\"baxis\":{\"endlinecolor\":\"#2a3f5f\",\"gridcolor\":\"white\",\"linecolor\":\"white\",\"minorgridcolor\":\"white\",\"startlinecolor\":\"#2a3f5f\"},\"type\":\"carpet\"}],\"table\":[{\"cells\":{\"fill\":{\"color\":\"#EBF0F8\"},\"line\":{\"color\":\"white\"}},\"header\":{\"fill\":{\"color\":\"#C8D4E3\"},\"line\":{\"color\":\"white\"}},\"type\":\"table\"}],\"barpolar\":[{\"marker\":{\"line\":{\"color\":\"#E5ECF6\",\"width\":0.5},\"pattern\":{\"fillmode\":\"overlay\",\"size\":10,\"solidity\":0.2}},\"type\":\"barpolar\"}],\"pie\":[{\"automargin\":true,\"type\":\"pie\"}]},\"layout\":{\"autotypenumbers\":\"strict\",\"colorway\":[\"#636efa\",\"#EF553B\",\"#00cc96\",\"#ab63fa\",\"#FFA15A\",\"#19d3f3\",\"#FF6692\",\"#B6E880\",\"#FF97FF\",\"#FECB52\"],\"font\":{\"color\":\"#2a3f5f\"},\"hovermode\":\"closest\",\"hoverlabel\":{\"align\":\"left\"},\"paper_bgcolor\":\"white\",\"plot_bgcolor\":\"#E5ECF6\",\"polar\":{\"bgcolor\":\"#E5ECF6\",\"angularaxis\":{\"gridcolor\":\"white\",\"linecolor\":\"white\",\"ticks\":\"\"},\"radialaxis\":{\"gridcolor\":\"white\",\"linecolor\":\"white\",\"ticks\":\"\"}},\"ternary\":{\"bgcolor\":\"#E5ECF6\",\"aaxis\":{\"gridcolor\":\"white\",\"linecolor\":\"white\",\"ticks\":\"\"},\"baxis\":{\"gridcolor\":\"white\",\"linecolor\":\"white\",\"ticks\":\"\"},\"caxis\":{\"gridcolor\":\"white\",\"linecolor\":\"white\",\"ticks\":\"\"}},\"coloraxis\":{\"colorbar\":{\"outlinewidth\":0,\"ticks\":\"\"}},\"colorscale\":{\"sequential\":[[0.0,\"#0d0887\"],[0.1111111111111111,\"#46039f\"],[0.2222222222222222,\"#7201a8\"],[0.3333333333333333,\"#9c179e\"],[0.4444444444444444,\"#bd3786\"],[0.5555555555555556,\"#d8576b\"],[0.6666666666666666,\"#ed7953\"],[0.7777777777777778,\"#fb9f3a\"],[0.8888888888888888,\"#fdca26\"],[1.0,\"#f0f921\"]],\"sequentialminus\":[[0.0,\"#0d0887\"],[0.1111111111111111,\"#46039f\"],[0.2222222222222222,\"#7201a8\"],[0.3333333333333333,\"#9c179e\"],[0.4444444444444444,\"#bd3786\"],[0.5555555555555556,\"#d8576b\"],[0.6666666666666666,\"#ed7953\"],[0.7777777777777778,\"#fb9f3a\"],[0.8888888888888888,\"#fdca26\"],[1.0,\"#f0f921\"]],\"diverging\":[[0,\"#8e0152\"],[0.1,\"#c51b7d\"],[0.2,\"#de77ae\"],[0.3,\"#f1b6da\"],[0.4,\"#fde0ef\"],[0.5,\"#f7f7f7\"],[0.6,\"#e6f5d0\"],[0.7,\"#b8e186\"],[0.8,\"#7fbc41\"],[0.9,\"#4d9221\"],[1,\"#276419\"]]},\"xaxis\":{\"gridcolor\":\"white\",\"linecolor\":\"white\",\"ticks\":\"\",\"title\":{\"standoff\":15},\"zerolinecolor\":\"white\",\"automargin\":true,\"zerolinewidth\":2},\"yaxis\":{\"gridcolor\":\"white\",\"linecolor\":\"white\",\"ticks\":\"\",\"title\":{\"standoff\":15},\"zerolinecolor\":\"white\",\"automargin\":true,\"zerolinewidth\":2},\"scene\":{\"xaxis\":{\"backgroundcolor\":\"#E5ECF6\",\"gridcolor\":\"white\",\"linecolor\":\"white\",\"showbackground\":true,\"ticks\":\"\",\"zerolinecolor\":\"white\",\"gridwidth\":2},\"yaxis\":{\"backgroundcolor\":\"#E5ECF6\",\"gridcolor\":\"white\",\"linecolor\":\"white\",\"showbackground\":true,\"ticks\":\"\",\"zerolinecolor\":\"white\",\"gridwidth\":2},\"zaxis\":{\"backgroundcolor\":\"#E5ECF6\",\"gridcolor\":\"white\",\"linecolor\":\"white\",\"showbackground\":true,\"ticks\":\"\",\"zerolinecolor\":\"white\",\"gridwidth\":2}},\"shapedefaults\":{\"line\":{\"color\":\"#2a3f5f\"}},\"annotationdefaults\":{\"arrowcolor\":\"#2a3f5f\",\"arrowhead\":0,\"arrowwidth\":1},\"geo\":{\"bgcolor\":\"white\",\"landcolor\":\"#E5ECF6\",\"subunitcolor\":\"white\",\"showland\":true,\"showlakes\":true,\"lakecolor\":\"white\"},\"title\":{\"x\":0.05},\"mapbox\":{\"style\":\"light\"}}},\"xaxis\":{\"anchor\":\"y\",\"domain\":[0.0,1.0],\"title\":{\"text\":\"Timestamp\"}},\"yaxis\":{\"anchor\":\"x\",\"domain\":[0.0,1.0],\"title\":{\"text\":\"SDG_Mean\"}},\"legend\":{\"tracegroupgap\":0},\"title\":{\"text\":\"Time Series Line Chart\"}},                        {\"responsive\": true}                    ).then(function(){\n",
       "                            \n",
       "var gd = document.getElementById('570df82a-a01a-400e-aea2-5a1b31ffe83d');\n",
       "var x = new MutationObserver(function (mutations, observer) {{\n",
       "        var display = window.getComputedStyle(gd).display;\n",
       "        if (!display || display === 'none') {{\n",
       "            console.log([gd, 'removed!']);\n",
       "            Plotly.purge(gd);\n",
       "            observer.disconnect();\n",
       "        }}\n",
       "}});\n",
       "\n",
       "// Listen for the removal of the full notebook cells\n",
       "var notebookContainer = gd.closest('#notebook-container');\n",
       "if (notebookContainer) {{\n",
       "    x.observe(notebookContainer, {childList: true});\n",
       "}}\n",
       "\n",
       "// Listen for the clearing of the current output cell\n",
       "var outputEl = gd.closest('.output');\n",
       "if (outputEl) {{\n",
       "    x.observe(outputEl, {childList: true});\n",
       "}}\n",
       "\n",
       "                        })                };                });            </script>        </div>"
      ]
     },
     "metadata": {},
     "output_type": "display_data"
    }
   ],
   "source": [
    "lineC = px.line(df_AAPL, x=\"Timestamp\", y=\"SDG_Mean\", title='Time Series Line Chart')\n",
    "lineC.show()"
   ]
  },
  {
   "cell_type": "code",
   "execution_count": 166,
   "id": "40e01b51",
   "metadata": {},
   "outputs": [
    {
     "data": {
      "application/vnd.plotly.v1+json": {
       "config": {
        "plotlyServerURL": "https://plot.ly"
       },
       "data": [
        {
         "hovertemplate": "Timestamp=%{x}<br>SDG_Mean=%{y}<extra></extra>",
         "legendgroup": "",
         "line": {
          "color": "#636efa",
          "dash": "solid"
         },
         "marker": {
          "symbol": "circle"
         },
         "mode": "lines",
         "name": "",
         "orientation": "v",
         "showlegend": false,
         "type": "scatter",
         "x": [
          "2019-12-13T00:00:00",
          "2019-12-14T00:00:00",
          "2019-12-15T00:00:00",
          "2019-12-16T00:00:00",
          "2019-12-17T00:00:00",
          "2019-12-18T00:00:00",
          "2019-12-19T00:00:00",
          "2019-12-20T00:00:00",
          "2019-12-21T00:00:00",
          "2019-12-22T00:00:00",
          "2019-12-23T00:00:00",
          "2019-12-24T00:00:00",
          "2019-12-25T00:00:00",
          "2019-12-26T00:00:00",
          "2019-12-27T00:00:00",
          "2019-12-28T00:00:00",
          "2019-12-29T00:00:00",
          "2019-12-30T00:00:00",
          "2019-12-31T00:00:00",
          "2020-01-01T00:00:00",
          "2020-01-02T00:00:00",
          "2020-01-03T00:00:00",
          "2020-01-04T00:00:00",
          "2020-01-05T00:00:00",
          "2020-01-06T00:00:00",
          "2020-01-07T00:00:00",
          "2020-01-08T00:00:00",
          "2020-01-09T00:00:00",
          "2020-01-10T00:00:00",
          "2020-01-11T00:00:00",
          "2020-01-12T00:00:00",
          "2020-01-13T00:00:00",
          "2020-01-14T00:00:00",
          "2020-01-15T00:00:00",
          "2020-01-16T00:00:00",
          "2020-01-17T00:00:00",
          "2020-01-18T00:00:00",
          "2020-01-19T00:00:00",
          "2020-01-20T00:00:00",
          "2020-01-21T00:00:00",
          "2020-01-22T00:00:00",
          "2020-01-23T00:00:00",
          "2020-01-24T00:00:00",
          "2020-01-25T00:00:00",
          "2020-01-26T00:00:00",
          "2020-01-27T00:00:00",
          "2020-01-28T00:00:00",
          "2020-01-29T00:00:00",
          "2020-01-30T00:00:00",
          "2020-01-31T00:00:00",
          "2020-02-01T00:00:00",
          "2020-02-02T00:00:00",
          "2020-02-03T00:00:00",
          "2020-02-04T00:00:00",
          "2020-02-05T00:00:00",
          "2020-02-06T00:00:00",
          "2020-02-07T00:00:00",
          "2020-02-08T00:00:00",
          "2020-02-09T00:00:00",
          "2020-02-10T00:00:00",
          "2020-02-11T00:00:00",
          "2020-02-12T00:00:00",
          "2020-02-13T00:00:00",
          "2020-02-14T00:00:00",
          "2020-02-15T00:00:00",
          "2020-02-16T00:00:00",
          "2020-02-17T00:00:00",
          "2020-02-18T00:00:00",
          "2020-02-19T00:00:00",
          "2020-02-20T00:00:00",
          "2020-02-21T00:00:00",
          "2020-02-22T00:00:00",
          "2020-02-23T00:00:00",
          "2020-02-24T00:00:00",
          "2020-02-25T00:00:00",
          "2020-02-26T00:00:00",
          "2020-02-27T00:00:00",
          "2020-02-28T00:00:00",
          "2020-02-29T00:00:00",
          "2020-03-01T00:00:00",
          "2020-03-02T00:00:00",
          "2020-03-03T00:00:00",
          "2020-03-04T00:00:00",
          "2020-03-05T00:00:00",
          "2020-03-06T00:00:00",
          "2020-03-07T00:00:00",
          "2020-03-08T00:00:00",
          "2020-03-09T00:00:00",
          "2020-03-10T00:00:00",
          "2020-03-11T00:00:00",
          "2020-03-12T00:00:00",
          "2020-03-13T00:00:00",
          "2020-03-14T00:00:00",
          "2020-03-15T00:00:00",
          "2020-03-16T00:00:00",
          "2020-03-17T00:00:00",
          "2020-03-18T00:00:00",
          "2020-03-19T00:00:00",
          "2020-03-20T00:00:00",
          "2020-03-21T00:00:00",
          "2020-03-22T00:00:00",
          "2020-03-23T00:00:00",
          "2020-03-24T00:00:00",
          "2020-03-25T00:00:00",
          "2020-03-26T00:00:00",
          "2020-03-27T00:00:00",
          "2020-03-28T00:00:00",
          "2020-03-29T00:00:00",
          "2020-03-30T00:00:00",
          "2020-03-31T00:00:00",
          "2020-04-01T00:00:00",
          "2020-04-02T00:00:00",
          "2020-04-03T00:00:00",
          "2020-04-04T00:00:00",
          "2020-04-05T00:00:00",
          "2020-04-06T00:00:00",
          "2020-04-07T00:00:00",
          "2020-04-08T00:00:00",
          "2020-04-09T00:00:00",
          "2020-04-10T00:00:00",
          "2020-04-11T00:00:00",
          "2020-04-12T00:00:00",
          "2020-04-13T00:00:00",
          "2020-04-14T00:00:00",
          "2020-04-15T00:00:00",
          "2020-04-16T00:00:00",
          "2020-04-17T00:00:00",
          "2020-04-18T00:00:00",
          "2020-04-19T00:00:00",
          "2020-04-20T00:00:00",
          "2020-04-21T00:00:00",
          "2020-04-22T00:00:00"
         ],
         "xaxis": "x",
         "y": [
          1.9628939565600845,
          1.5446765079832685,
          0.5361660817284173,
          0.965624135674952,
          0.8447863859709801,
          1.6895744989617236,
          2.8907460194415666,
          0.15692444824688,
          -0.3839601092872177,
          0.0101262465025167,
          0.4241956190607194,
          1.5154144971297752,
          0.3938854464133456,
          0.5217454416370875,
          0.1188489080763168,
          -0.2129911783115602,
          -0.5077813500827961,
          0.3188669194581899,
          0.3816622550773547,
          -1.1438573382943356,
          -0.3530844334185852,
          -0.2892735478002645,
          1.0467185058128063,
          0.510973228139672,
          0.4733483885895004,
          0.8175757899051125,
          0.5492522336498319,
          1.3733900892870974,
          1.8863671137297209,
          0.1455728619668864,
          2.0928306583588894,
          0.6964361205905965,
          1.0473855360375102,
          0.7067139847916535,
          0.2609919192421415,
          0.1780010918678272,
          -0.2277815675326891,
          1.3641532201410411,
          0.7127123876076521,
          1.6785032808501978,
          0.1694745358159304,
          -0.1671808779728314,
          0.6686203396252464,
          -0.7316448462295414,
          -0.5569260499260867,
          0.0644174090668203,
          0.4537082871655677,
          -0.2999362687903777,
          0.6177947158008761,
          0.3758394085982217,
          -0.5906087283652829,
          0.8411927318116352,
          1.8897649793534423,
          1.1251671043135243,
          1.3304923383978466,
          1.1126314081441115,
          1.2393787621895451,
          -0.2730191968774072,
          -0.0094590053864445,
          -0.3119581692316871,
          -0.238043479727649,
          0.3599943691743173,
          0.3090602811245176,
          0.934357302036255,
          0.5692737090615524,
          0.845770355158997,
          0.5402656031993388,
          0.3892814358492997,
          -0.0655529196759732,
          1.4316102926851384,
          0.6771612089185346,
          0.450334215170024,
          0.1178502518242512,
          0.4912874299639056,
          -0.1824980967158869,
          1.239673463578975,
          1.4765137188159263,
          0.923122858471086,
          -0.3276792519086473,
          0.3115572608244481,
          0.6017502541489705,
          0.0153169047365862,
          0.3719809443911114,
          0.8883380895563867,
          -0.9164338955978216,
          -0.6382636192150509,
          -1.7701358281268311,
          -0.401197790359205,
          -1.3989092043854388,
          0.4787226470402208,
          0.9705605841820862,
          -0.4522717606707157,
          -1.6827625108944126,
          -1.326168557470055,
          -1.1926335513216082,
          -0.6952359765118736,
          -1.2690980702101688,
          -0.7863251854125267,
          -0.8152058132837274,
          -1.5451297537455493,
          -1.3337009989081825,
          -0.0272486634590827,
          -0.684422280327821,
          -0.7781387478835096,
          -0.6281890747746413,
          -0.5394224443652368,
          -0.9888342629516058,
          -0.8591252280146165,
          -1.148753508093657,
          -1.630139035085422,
          -1.435017428581845,
          -1.039432382910448,
          -1.4436203853802572,
          -1.4134909009937604,
          -1.1476050850189683,
          -0.4269912772919343,
          -0.9893765553233398,
          -1.0196811478246648,
          -0.6877444380124226,
          -1.1805335502610217,
          -0.1624329698698818,
          -1.4685616078465265,
          -0.8454106891972212,
          -1.327723493314614,
          -1.2672330269090173,
          -0.0276706304200622,
          -0.4205958809125592,
          -0.6820519777278972,
          -1.299128201215504,
          -0.4962871264182857,
          -0.3261779699239213,
          0.0171971303680516
         ],
         "yaxis": "y"
        }
       ],
       "layout": {
        "legend": {
         "tracegroupgap": 0
        },
        "shapes": [
         {
          "fillcolor": "rgba(200,0,200,0.2)",
          "layer": "below",
          "line": {
           "color": "rgba(0,0,0,0)",
           "width": 3
          },
          "type": "rect",
          "x0": "2019-12-31T00:00:00",
          "x1": "2020-01-01T00:00:00",
          "xref": "x",
          "y0": 0,
          "y1": 1,
          "yref": "paper"
         },
         {
          "fillcolor": "rgba(200,0,200,0.2)",
          "layer": "below",
          "line": {
           "color": "rgba(0,0,0,0)",
           "width": 3
          },
          "type": "rect",
          "x0": "2020-01-02T00:00:00",
          "x1": "2020-01-03T00:00:00",
          "xref": "x",
          "y0": 0,
          "y1": 1,
          "yref": "paper"
         },
         {
          "fillcolor": "rgba(200,0,200,0.2)",
          "layer": "below",
          "line": {
           "color": "rgba(0,0,0,0)",
           "width": 3
          },
          "type": "rect",
          "x0": "2020-01-05T00:00:00",
          "x1": "2020-01-06T00:00:00",
          "xref": "x",
          "y0": 0,
          "y1": 1,
          "yref": "paper"
         },
         {
          "fillcolor": "rgba(200,0,200,0.2)",
          "layer": "below",
          "line": {
           "color": "rgba(0,0,0,0)",
           "width": 3
          },
          "type": "rect",
          "x0": "2020-01-07T00:00:00",
          "x1": "2020-01-08T00:00:00",
          "xref": "x",
          "y0": 0,
          "y1": 1,
          "yref": "paper"
         },
         {
          "fillcolor": "rgba(200,0,200,0.2)",
          "layer": "below",
          "line": {
           "color": "rgba(0,0,0,0)",
           "width": 3
          },
          "type": "rect",
          "x0": "2020-01-10T00:00:00",
          "x1": "2020-01-11T00:00:00",
          "xref": "x",
          "y0": 0,
          "y1": 1,
          "yref": "paper"
         },
         {
          "fillcolor": "rgba(200,0,200,0.2)",
          "layer": "below",
          "line": {
           "color": "rgba(0,0,0,0)",
           "width": 3
          },
          "type": "rect",
          "x0": "2020-01-13T00:00:00",
          "x1": "2020-01-14T00:00:00",
          "xref": "x",
          "y0": 0,
          "y1": 1,
          "yref": "paper"
         },
         {
          "fillcolor": "rgba(200,0,200,0.2)",
          "layer": "below",
          "line": {
           "color": "rgba(0,0,0,0)",
           "width": 3
          },
          "type": "rect",
          "x0": "2020-01-15T00:00:00",
          "x1": "2020-01-16T00:00:00",
          "xref": "x",
          "y0": 0,
          "y1": 1,
          "yref": "paper"
         },
         {
          "fillcolor": "rgba(200,0,200,0.2)",
          "layer": "below",
          "line": {
           "color": "rgba(0,0,0,0)",
           "width": 3
          },
          "type": "rect",
          "x0": "2020-01-17T00:00:00",
          "x1": "2020-01-18T00:00:00",
          "xref": "x",
          "y0": 0,
          "y1": 1,
          "yref": "paper"
         },
         {
          "fillcolor": "rgba(200,0,200,0.2)",
          "layer": "below",
          "line": {
           "color": "rgba(0,0,0,0)",
           "width": 3
          },
          "type": "rect",
          "x0": "2020-01-20T00:00:00",
          "x1": "2020-01-23T00:00:00",
          "xref": "x",
          "y0": 0,
          "y1": 1,
          "yref": "paper"
         },
         {
          "fillcolor": "rgba(200,0,200,0.2)",
          "layer": "below",
          "line": {
           "color": "rgba(0,0,0,0)",
           "width": 3
          },
          "type": "rect",
          "x0": "2020-01-27T00:00:00",
          "x1": "2020-01-28T00:00:00",
          "xref": "x",
          "y0": 0,
          "y1": 1,
          "yref": "paper"
         },
         {
          "fillcolor": "rgba(200,0,200,0.2)",
          "layer": "below",
          "line": {
           "color": "rgba(0,0,0,0)",
           "width": 3
          },
          "type": "rect",
          "x0": "2020-01-29T00:00:00",
          "x1": "2020-01-30T00:00:00",
          "xref": "x",
          "y0": 0,
          "y1": 1,
          "yref": "paper"
         },
         {
          "fillcolor": "rgba(200,0,200,0.2)",
          "layer": "below",
          "line": {
           "color": "rgba(0,0,0,0)",
           "width": 3
          },
          "type": "rect",
          "x0": "2020-01-31T00:00:00",
          "x1": "2020-02-01T00:00:00",
          "xref": "x",
          "y0": 0,
          "y1": 1,
          "yref": "paper"
         },
         {
          "fillcolor": "rgba(200,0,200,0.2)",
          "layer": "below",
          "line": {
           "color": "rgba(0,0,0,0)",
           "width": 3
          },
          "type": "rect",
          "x0": "2020-02-03T00:00:00",
          "x1": "2020-02-05T00:00:00",
          "xref": "x",
          "y0": 0,
          "y1": 1,
          "yref": "paper"
         },
         {
          "fillcolor": "rgba(200,0,200,0.2)",
          "layer": "below",
          "line": {
           "color": "rgba(0,0,0,0)",
           "width": 3
          },
          "type": "rect",
          "x0": "2020-02-08T00:00:00",
          "x1": "2020-02-09T00:00:00",
          "xref": "x",
          "y0": 0,
          "y1": 1,
          "yref": "paper"
         },
         {
          "fillcolor": "rgba(200,0,200,0.2)",
          "layer": "below",
          "line": {
           "color": "rgba(0,0,0,0)",
           "width": 3
          },
          "type": "rect",
          "x0": "2020-02-11T00:00:00",
          "x1": "2020-02-12T00:00:00",
          "xref": "x",
          "y0": 0,
          "y1": 1,
          "yref": "paper"
         },
         {
          "fillcolor": "rgba(200,0,200,0.2)",
          "layer": "below",
          "line": {
           "color": "rgba(0,0,0,0)",
           "width": 3
          },
          "type": "rect",
          "x0": "2020-02-23T00:00:00",
          "x1": "2020-02-24T00:00:00",
          "xref": "x",
          "y0": 0,
          "y1": 1,
          "yref": "paper"
         },
         {
          "fillcolor": "rgba(200,0,200,0.2)",
          "layer": "below",
          "line": {
           "color": "rgba(0,0,0,0)",
           "width": 3
          },
          "type": "rect",
          "x0": "2020-02-26T00:00:00",
          "x1": "2020-02-27T00:00:00",
          "xref": "x",
          "y0": 0,
          "y1": 1,
          "yref": "paper"
         },
         {
          "fillcolor": "rgba(200,0,200,0.2)",
          "layer": "below",
          "line": {
           "color": "rgba(0,0,0,0)",
           "width": 3
          },
          "type": "rect",
          "x0": "2020-02-29T00:00:00",
          "x1": "2020-03-02T00:00:00",
          "xref": "x",
          "y0": 0,
          "y1": 1,
          "yref": "paper"
         },
         {
          "fillcolor": "rgba(200,0,200,0.2)",
          "layer": "below",
          "line": {
           "color": "rgba(0,0,0,0)",
           "width": 3
          },
          "type": "rect",
          "x0": "2020-03-11T00:00:00",
          "x1": "2020-03-18T00:00:00",
          "xref": "x",
          "y0": 0,
          "y1": 1,
          "yref": "paper"
         },
         {
          "fillcolor": "rgba(200,0,200,0.2)",
          "layer": "below",
          "line": {
           "color": "rgba(0,0,0,0)",
           "width": 3
          },
          "type": "rect",
          "x0": "2020-03-26T00:00:00",
          "x1": "2020-03-27T00:00:00",
          "xref": "x",
          "y0": 0,
          "y1": 1,
          "yref": "paper"
         },
         {
          "fillcolor": "rgba(200,0,200,0.2)",
          "layer": "below",
          "line": {
           "color": "rgba(0,0,0,0)",
           "width": 3
          },
          "type": "rect",
          "x0": "2020-03-28T00:00:00",
          "x1": "2020-03-29T00:00:00",
          "xref": "x",
          "y0": 0,
          "y1": 1,
          "yref": "paper"
         },
         {
          "fillcolor": "rgba(200,0,200,0.2)",
          "layer": "below",
          "line": {
           "color": "rgba(0,0,0,0)",
           "width": 3
          },
          "type": "rect",
          "x0": "2020-03-31T00:00:00",
          "x1": "2020-04-01T00:00:00",
          "xref": "x",
          "y0": 0,
          "y1": 1,
          "yref": "paper"
         },
         {
          "fillcolor": "rgba(200,0,200,0.2)",
          "layer": "below",
          "line": {
           "color": "rgba(0,0,0,0)",
           "width": 3
          },
          "type": "rect",
          "x0": "2020-04-03T00:00:00",
          "x1": "2020-04-04T00:00:00",
          "xref": "x",
          "y0": 0,
          "y1": 1,
          "yref": "paper"
         },
         {
          "fillcolor": "rgba(200,0,200,0.2)",
          "layer": "below",
          "line": {
           "color": "rgba(0,0,0,0)",
           "width": 3
          },
          "type": "rect",
          "x0": "2020-04-06T00:00:00",
          "x1": "2020-04-09T00:00:00",
          "xref": "x",
          "y0": 0,
          "y1": 1,
          "yref": "paper"
         },
         {
          "fillcolor": "rgba(200,0,200,0.2)",
          "layer": "below",
          "line": {
           "color": "rgba(0,0,0,0)",
           "width": 3
          },
          "type": "rect",
          "x0": "2020-04-10T00:00:00",
          "x1": "2020-04-11T00:00:00",
          "xref": "x",
          "y0": 0,
          "y1": 1,
          "yref": "paper"
         },
         {
          "fillcolor": "rgba(200,0,200,0.2)",
          "layer": "below",
          "line": {
           "color": "rgba(0,0,0,0)",
           "width": 3
          },
          "type": "rect",
          "x0": "2020-04-13T00:00:00",
          "x1": "2020-04-14T00:00:00",
          "xref": "x",
          "y0": 0,
          "y1": 1,
          "yref": "paper"
         },
         {
          "fillcolor": "rgba(200,0,200,0.2)",
          "layer": "below",
          "line": {
           "color": "rgba(0,0,0,0)",
           "width": 3
          },
          "type": "rect",
          "x0": "2019-12-31T00:00:00",
          "x1": "2020-01-01T00:00:00",
          "xref": "x",
          "y0": 0,
          "y1": 1,
          "yref": "paper"
         },
         {
          "fillcolor": "rgba(200,0,200,0.2)",
          "layer": "below",
          "line": {
           "color": "rgba(0,0,0,0)",
           "width": 3
          },
          "type": "rect",
          "x0": "2020-01-02T00:00:00",
          "x1": "2020-01-03T00:00:00",
          "xref": "x",
          "y0": 0,
          "y1": 1,
          "yref": "paper"
         },
         {
          "fillcolor": "rgba(200,0,200,0.2)",
          "layer": "below",
          "line": {
           "color": "rgba(0,0,0,0)",
           "width": 3
          },
          "type": "rect",
          "x0": "2020-01-05T00:00:00",
          "x1": "2020-01-06T00:00:00",
          "xref": "x",
          "y0": 0,
          "y1": 1,
          "yref": "paper"
         },
         {
          "fillcolor": "rgba(200,0,200,0.2)",
          "layer": "below",
          "line": {
           "color": "rgba(0,0,0,0)",
           "width": 3
          },
          "type": "rect",
          "x0": "2020-01-07T00:00:00",
          "x1": "2020-01-08T00:00:00",
          "xref": "x",
          "y0": 0,
          "y1": 1,
          "yref": "paper"
         },
         {
          "fillcolor": "rgba(200,0,200,0.2)",
          "layer": "below",
          "line": {
           "color": "rgba(0,0,0,0)",
           "width": 3
          },
          "type": "rect",
          "x0": "2020-01-10T00:00:00",
          "x1": "2020-01-11T00:00:00",
          "xref": "x",
          "y0": 0,
          "y1": 1,
          "yref": "paper"
         },
         {
          "fillcolor": "rgba(200,0,200,0.2)",
          "layer": "below",
          "line": {
           "color": "rgba(0,0,0,0)",
           "width": 3
          },
          "type": "rect",
          "x0": "2020-01-13T00:00:00",
          "x1": "2020-01-14T00:00:00",
          "xref": "x",
          "y0": 0,
          "y1": 1,
          "yref": "paper"
         },
         {
          "fillcolor": "rgba(200,0,200,0.2)",
          "layer": "below",
          "line": {
           "color": "rgba(0,0,0,0)",
           "width": 3
          },
          "type": "rect",
          "x0": "2020-01-15T00:00:00",
          "x1": "2020-01-16T00:00:00",
          "xref": "x",
          "y0": 0,
          "y1": 1,
          "yref": "paper"
         },
         {
          "fillcolor": "rgba(200,0,200,0.2)",
          "layer": "below",
          "line": {
           "color": "rgba(0,0,0,0)",
           "width": 3
          },
          "type": "rect",
          "x0": "2020-01-17T00:00:00",
          "x1": "2020-01-18T00:00:00",
          "xref": "x",
          "y0": 0,
          "y1": 1,
          "yref": "paper"
         },
         {
          "fillcolor": "rgba(200,0,200,0.2)",
          "layer": "below",
          "line": {
           "color": "rgba(0,0,0,0)",
           "width": 3
          },
          "type": "rect",
          "x0": "2020-01-20T00:00:00",
          "x1": "2020-01-23T00:00:00",
          "xref": "x",
          "y0": 0,
          "y1": 1,
          "yref": "paper"
         },
         {
          "fillcolor": "rgba(200,0,200,0.2)",
          "layer": "below",
          "line": {
           "color": "rgba(0,0,0,0)",
           "width": 3
          },
          "type": "rect",
          "x0": "2020-01-27T00:00:00",
          "x1": "2020-01-28T00:00:00",
          "xref": "x",
          "y0": 0,
          "y1": 1,
          "yref": "paper"
         },
         {
          "fillcolor": "rgba(200,0,200,0.2)",
          "layer": "below",
          "line": {
           "color": "rgba(0,0,0,0)",
           "width": 3
          },
          "type": "rect",
          "x0": "2020-01-29T00:00:00",
          "x1": "2020-01-30T00:00:00",
          "xref": "x",
          "y0": 0,
          "y1": 1,
          "yref": "paper"
         },
         {
          "fillcolor": "rgba(200,0,200,0.2)",
          "layer": "below",
          "line": {
           "color": "rgba(0,0,0,0)",
           "width": 3
          },
          "type": "rect",
          "x0": "2020-01-31T00:00:00",
          "x1": "2020-02-01T00:00:00",
          "xref": "x",
          "y0": 0,
          "y1": 1,
          "yref": "paper"
         },
         {
          "fillcolor": "rgba(200,0,200,0.2)",
          "layer": "below",
          "line": {
           "color": "rgba(0,0,0,0)",
           "width": 3
          },
          "type": "rect",
          "x0": "2020-02-03T00:00:00",
          "x1": "2020-02-05T00:00:00",
          "xref": "x",
          "y0": 0,
          "y1": 1,
          "yref": "paper"
         },
         {
          "fillcolor": "rgba(200,0,200,0.2)",
          "layer": "below",
          "line": {
           "color": "rgba(0,0,0,0)",
           "width": 3
          },
          "type": "rect",
          "x0": "2020-02-08T00:00:00",
          "x1": "2020-02-09T00:00:00",
          "xref": "x",
          "y0": 0,
          "y1": 1,
          "yref": "paper"
         },
         {
          "fillcolor": "rgba(200,0,200,0.2)",
          "layer": "below",
          "line": {
           "color": "rgba(0,0,0,0)",
           "width": 3
          },
          "type": "rect",
          "x0": "2020-02-11T00:00:00",
          "x1": "2020-02-12T00:00:00",
          "xref": "x",
          "y0": 0,
          "y1": 1,
          "yref": "paper"
         },
         {
          "fillcolor": "rgba(200,0,200,0.2)",
          "layer": "below",
          "line": {
           "color": "rgba(0,0,0,0)",
           "width": 3
          },
          "type": "rect",
          "x0": "2020-02-23T00:00:00",
          "x1": "2020-02-24T00:00:00",
          "xref": "x",
          "y0": 0,
          "y1": 1,
          "yref": "paper"
         },
         {
          "fillcolor": "rgba(200,0,200,0.2)",
          "layer": "below",
          "line": {
           "color": "rgba(0,0,0,0)",
           "width": 3
          },
          "type": "rect",
          "x0": "2020-02-26T00:00:00",
          "x1": "2020-02-27T00:00:00",
          "xref": "x",
          "y0": 0,
          "y1": 1,
          "yref": "paper"
         },
         {
          "fillcolor": "rgba(200,0,200,0.2)",
          "layer": "below",
          "line": {
           "color": "rgba(0,0,0,0)",
           "width": 3
          },
          "type": "rect",
          "x0": "2020-02-29T00:00:00",
          "x1": "2020-03-02T00:00:00",
          "xref": "x",
          "y0": 0,
          "y1": 1,
          "yref": "paper"
         },
         {
          "fillcolor": "rgba(200,0,200,0.2)",
          "layer": "below",
          "line": {
           "color": "rgba(0,0,0,0)",
           "width": 3
          },
          "type": "rect",
          "x0": "2020-03-11T00:00:00",
          "x1": "2020-03-18T00:00:00",
          "xref": "x",
          "y0": 0,
          "y1": 1,
          "yref": "paper"
         },
         {
          "fillcolor": "rgba(200,0,200,0.2)",
          "layer": "below",
          "line": {
           "color": "rgba(0,0,0,0)",
           "width": 3
          },
          "type": "rect",
          "x0": "2020-03-26T00:00:00",
          "x1": "2020-03-27T00:00:00",
          "xref": "x",
          "y0": 0,
          "y1": 1,
          "yref": "paper"
         },
         {
          "fillcolor": "rgba(200,0,200,0.2)",
          "layer": "below",
          "line": {
           "color": "rgba(0,0,0,0)",
           "width": 3
          },
          "type": "rect",
          "x0": "2020-03-28T00:00:00",
          "x1": "2020-03-29T00:00:00",
          "xref": "x",
          "y0": 0,
          "y1": 1,
          "yref": "paper"
         },
         {
          "fillcolor": "rgba(200,0,200,0.2)",
          "layer": "below",
          "line": {
           "color": "rgba(0,0,0,0)",
           "width": 3
          },
          "type": "rect",
          "x0": "2020-03-31T00:00:00",
          "x1": "2020-04-01T00:00:00",
          "xref": "x",
          "y0": 0,
          "y1": 1,
          "yref": "paper"
         },
         {
          "fillcolor": "rgba(200,0,200,0.2)",
          "layer": "below",
          "line": {
           "color": "rgba(0,0,0,0)",
           "width": 3
          },
          "type": "rect",
          "x0": "2020-04-03T00:00:00",
          "x1": "2020-04-04T00:00:00",
          "xref": "x",
          "y0": 0,
          "y1": 1,
          "yref": "paper"
         },
         {
          "fillcolor": "rgba(200,0,200,0.2)",
          "layer": "below",
          "line": {
           "color": "rgba(0,0,0,0)",
           "width": 3
          },
          "type": "rect",
          "x0": "2020-04-06T00:00:00",
          "x1": "2020-04-09T00:00:00",
          "xref": "x",
          "y0": 0,
          "y1": 1,
          "yref": "paper"
         },
         {
          "fillcolor": "rgba(200,0,200,0.2)",
          "layer": "below",
          "line": {
           "color": "rgba(0,0,0,0)",
           "width": 3
          },
          "type": "rect",
          "x0": "2020-04-10T00:00:00",
          "x1": "2020-04-11T00:00:00",
          "xref": "x",
          "y0": 0,
          "y1": 1,
          "yref": "paper"
         },
         {
          "fillcolor": "rgba(200,0,200,0.2)",
          "layer": "below",
          "line": {
           "color": "rgba(0,0,0,0)",
           "width": 3
          },
          "type": "rect",
          "x0": "2020-04-13T00:00:00",
          "x1": "2020-04-14T00:00:00",
          "xref": "x",
          "y0": 0,
          "y1": 1,
          "yref": "paper"
         },
         {
          "fillcolor": "rgba(200,0,200,0.2)",
          "layer": "below",
          "line": {
           "color": "rgba(0,0,0,0)",
           "width": 3
          },
          "type": "rect",
          "x0": "2019-12-12T00:00:00",
          "x1": "2019-12-11T00:00:00",
          "xref": "x",
          "y0": 0,
          "y1": 1,
          "yref": "paper"
         },
         {
          "fillcolor": "rgba(200,0,200,0.2)",
          "layer": "below",
          "line": {
           "color": "rgba(0,0,0,0)",
           "width": 3
          },
          "type": "rect",
          "x0": "2019-12-31T00:00:00",
          "x1": "2019-12-30T00:00:00",
          "xref": "x",
          "y0": 0,
          "y1": 1,
          "yref": "paper"
         },
         {
          "fillcolor": "rgba(200,0,200,0.2)",
          "layer": "below",
          "line": {
           "color": "rgba(0,0,0,0)",
           "width": 3
          },
          "type": "rect",
          "x0": "2020-01-02T00:00:00",
          "x1": "2020-01-01T00:00:00",
          "xref": "x",
          "y0": 0,
          "y1": 1,
          "yref": "paper"
         },
         {
          "fillcolor": "rgba(200,0,200,0.2)",
          "layer": "below",
          "line": {
           "color": "rgba(0,0,0,0)",
           "width": 3
          },
          "type": "rect",
          "x0": "2020-01-05T00:00:00",
          "x1": "2020-01-04T00:00:00",
          "xref": "x",
          "y0": 0,
          "y1": 1,
          "yref": "paper"
         },
         {
          "fillcolor": "rgba(200,0,200,0.2)",
          "layer": "below",
          "line": {
           "color": "rgba(0,0,0,0)",
           "width": 3
          },
          "type": "rect",
          "x0": "2020-01-07T00:00:00",
          "x1": "2020-01-06T00:00:00",
          "xref": "x",
          "y0": 0,
          "y1": 1,
          "yref": "paper"
         },
         {
          "fillcolor": "rgba(200,0,200,0.2)",
          "layer": "below",
          "line": {
           "color": "rgba(0,0,0,0)",
           "width": 3
          },
          "type": "rect",
          "x0": "2020-01-10T00:00:00",
          "x1": "2020-01-09T00:00:00",
          "xref": "x",
          "y0": 0,
          "y1": 1,
          "yref": "paper"
         },
         {
          "fillcolor": "rgba(200,0,200,0.2)",
          "layer": "below",
          "line": {
           "color": "rgba(0,0,0,0)",
           "width": 3
          },
          "type": "rect",
          "x0": "2020-01-13T00:00:00",
          "x1": "2020-01-12T00:00:00",
          "xref": "x",
          "y0": 0,
          "y1": 1,
          "yref": "paper"
         },
         {
          "fillcolor": "rgba(200,0,200,0.2)",
          "layer": "below",
          "line": {
           "color": "rgba(0,0,0,0)",
           "width": 3
          },
          "type": "rect",
          "x0": "2020-01-15T00:00:00",
          "x1": "2020-01-14T00:00:00",
          "xref": "x",
          "y0": 0,
          "y1": 1,
          "yref": "paper"
         },
         {
          "fillcolor": "rgba(200,0,200,0.2)",
          "layer": "below",
          "line": {
           "color": "rgba(0,0,0,0)",
           "width": 3
          },
          "type": "rect",
          "x0": "2020-01-17T00:00:00",
          "x1": "2020-01-16T00:00:00",
          "xref": "x",
          "y0": 0,
          "y1": 1,
          "yref": "paper"
         },
         {
          "fillcolor": "rgba(200,0,200,0.2)",
          "layer": "below",
          "line": {
           "color": "rgba(0,0,0,0)",
           "width": 3
          },
          "type": "rect",
          "x0": "2020-01-20T00:00:00",
          "x1": "2020-01-21T00:00:00",
          "xref": "x",
          "y0": 0,
          "y1": 1,
          "yref": "paper"
         },
         {
          "fillcolor": "rgba(200,0,200,0.2)",
          "layer": "below",
          "line": {
           "color": "rgba(0,0,0,0)",
           "width": 3
          },
          "type": "rect",
          "x0": "2020-01-27T00:00:00",
          "x1": "2020-01-26T00:00:00",
          "xref": "x",
          "y0": 0,
          "y1": 1,
          "yref": "paper"
         },
         {
          "fillcolor": "rgba(200,0,200,0.2)",
          "layer": "below",
          "line": {
           "color": "rgba(0,0,0,0)",
           "width": 3
          },
          "type": "rect",
          "x0": "2020-01-29T00:00:00",
          "x1": "2020-01-28T00:00:00",
          "xref": "x",
          "y0": 0,
          "y1": 1,
          "yref": "paper"
         },
         {
          "fillcolor": "rgba(200,0,200,0.2)",
          "layer": "below",
          "line": {
           "color": "rgba(0,0,0,0)",
           "width": 3
          },
          "type": "rect",
          "x0": "2020-01-31T00:00:00",
          "x1": "2020-01-30T00:00:00",
          "xref": "x",
          "y0": 0,
          "y1": 1,
          "yref": "paper"
         },
         {
          "fillcolor": "rgba(200,0,200,0.2)",
          "layer": "below",
          "line": {
           "color": "rgba(0,0,0,0)",
           "width": 3
          },
          "type": "rect",
          "x0": "2020-02-03T00:00:00",
          "x1": "2020-02-03T00:00:00",
          "xref": "x",
          "y0": 0,
          "y1": 1,
          "yref": "paper"
         },
         {
          "fillcolor": "rgba(200,0,200,0.2)",
          "layer": "below",
          "line": {
           "color": "rgba(0,0,0,0)",
           "width": 3
          },
          "type": "rect",
          "x0": "2020-02-08T00:00:00",
          "x1": "2020-02-07T00:00:00",
          "xref": "x",
          "y0": 0,
          "y1": 1,
          "yref": "paper"
         },
         {
          "fillcolor": "rgba(200,0,200,0.2)",
          "layer": "below",
          "line": {
           "color": "rgba(0,0,0,0)",
           "width": 3
          },
          "type": "rect",
          "x0": "2020-02-11T00:00:00",
          "x1": "2020-02-10T00:00:00",
          "xref": "x",
          "y0": 0,
          "y1": 1,
          "yref": "paper"
         },
         {
          "fillcolor": "rgba(200,0,200,0.2)",
          "layer": "below",
          "line": {
           "color": "rgba(0,0,0,0)",
           "width": 3
          },
          "type": "rect",
          "x0": "2020-02-23T00:00:00",
          "x1": "2020-02-22T00:00:00",
          "xref": "x",
          "y0": 0,
          "y1": 1,
          "yref": "paper"
         },
         {
          "fillcolor": "rgba(200,0,200,0.2)",
          "layer": "below",
          "line": {
           "color": "rgba(0,0,0,0)",
           "width": 3
          },
          "type": "rect",
          "x0": "2020-02-26T00:00:00",
          "x1": "2020-02-25T00:00:00",
          "xref": "x",
          "y0": 0,
          "y1": 1,
          "yref": "paper"
         },
         {
          "fillcolor": "rgba(200,0,200,0.2)",
          "layer": "below",
          "line": {
           "color": "rgba(0,0,0,0)",
           "width": 3
          },
          "type": "rect",
          "x0": "2020-02-29T00:00:00",
          "x1": "2020-02-29T00:00:00",
          "xref": "x",
          "y0": 0,
          "y1": 1,
          "yref": "paper"
         },
         {
          "fillcolor": "rgba(200,0,200,0.2)",
          "layer": "below",
          "line": {
           "color": "rgba(0,0,0,0)",
           "width": 3
          },
          "type": "rect",
          "x0": "2020-03-11T00:00:00",
          "x1": "2020-03-16T00:00:00",
          "xref": "x",
          "y0": 0,
          "y1": 1,
          "yref": "paper"
         },
         {
          "fillcolor": "rgba(200,0,200,0.2)",
          "layer": "below",
          "line": {
           "color": "rgba(0,0,0,0)",
           "width": 3
          },
          "type": "rect",
          "x0": "2020-03-26T00:00:00",
          "x1": "2020-03-25T00:00:00",
          "xref": "x",
          "y0": 0,
          "y1": 1,
          "yref": "paper"
         },
         {
          "fillcolor": "rgba(200,0,200,0.2)",
          "layer": "below",
          "line": {
           "color": "rgba(0,0,0,0)",
           "width": 3
          },
          "type": "rect",
          "x0": "2020-03-28T00:00:00",
          "x1": "2020-03-27T00:00:00",
          "xref": "x",
          "y0": 0,
          "y1": 1,
          "yref": "paper"
         },
         {
          "fillcolor": "rgba(200,0,200,0.2)",
          "layer": "below",
          "line": {
           "color": "rgba(0,0,0,0)",
           "width": 3
          },
          "type": "rect",
          "x0": "2020-03-31T00:00:00",
          "x1": "2020-03-30T00:00:00",
          "xref": "x",
          "y0": 0,
          "y1": 1,
          "yref": "paper"
         },
         {
          "fillcolor": "rgba(200,0,200,0.2)",
          "layer": "below",
          "line": {
           "color": "rgba(0,0,0,0)",
           "width": 3
          },
          "type": "rect",
          "x0": "2020-04-03T00:00:00",
          "x1": "2020-04-02T00:00:00",
          "xref": "x",
          "y0": 0,
          "y1": 1,
          "yref": "paper"
         },
         {
          "fillcolor": "rgba(200,0,200,0.2)",
          "layer": "below",
          "line": {
           "color": "rgba(0,0,0,0)",
           "width": 3
          },
          "type": "rect",
          "x0": "2020-04-06T00:00:00",
          "x1": "2020-04-07T00:00:00",
          "xref": "x",
          "y0": 0,
          "y1": 1,
          "yref": "paper"
         },
         {
          "fillcolor": "rgba(200,0,200,0.2)",
          "layer": "below",
          "line": {
           "color": "rgba(0,0,0,0)",
           "width": 3
          },
          "type": "rect",
          "x0": "2020-04-10T00:00:00",
          "x1": "2020-04-09T00:00:00",
          "xref": "x",
          "y0": 0,
          "y1": 1,
          "yref": "paper"
         },
         {
          "fillcolor": "rgba(200,0,200,0.2)",
          "layer": "below",
          "line": {
           "color": "rgba(0,0,0,0)",
           "width": 3
          },
          "type": "rect",
          "x0": "2020-04-13T00:00:00",
          "x1": "2020-04-12T00:00:00",
          "xref": "x",
          "y0": 0,
          "y1": 1,
          "yref": "paper"
         }
        ],
        "template": {
         "data": {
          "bar": [
           {
            "error_x": {
             "color": "#2a3f5f"
            },
            "error_y": {
             "color": "#2a3f5f"
            },
            "marker": {
             "line": {
              "color": "#E5ECF6",
              "width": 0.5
             },
             "pattern": {
              "fillmode": "overlay",
              "size": 10,
              "solidity": 0.2
             }
            },
            "type": "bar"
           }
          ],
          "barpolar": [
           {
            "marker": {
             "line": {
              "color": "#E5ECF6",
              "width": 0.5
             },
             "pattern": {
              "fillmode": "overlay",
              "size": 10,
              "solidity": 0.2
             }
            },
            "type": "barpolar"
           }
          ],
          "carpet": [
           {
            "aaxis": {
             "endlinecolor": "#2a3f5f",
             "gridcolor": "white",
             "linecolor": "white",
             "minorgridcolor": "white",
             "startlinecolor": "#2a3f5f"
            },
            "baxis": {
             "endlinecolor": "#2a3f5f",
             "gridcolor": "white",
             "linecolor": "white",
             "minorgridcolor": "white",
             "startlinecolor": "#2a3f5f"
            },
            "type": "carpet"
           }
          ],
          "choropleth": [
           {
            "colorbar": {
             "outlinewidth": 0,
             "ticks": ""
            },
            "type": "choropleth"
           }
          ],
          "contour": [
           {
            "colorbar": {
             "outlinewidth": 0,
             "ticks": ""
            },
            "colorscale": [
             [
              0,
              "#0d0887"
             ],
             [
              0.1111111111111111,
              "#46039f"
             ],
             [
              0.2222222222222222,
              "#7201a8"
             ],
             [
              0.3333333333333333,
              "#9c179e"
             ],
             [
              0.4444444444444444,
              "#bd3786"
             ],
             [
              0.5555555555555556,
              "#d8576b"
             ],
             [
              0.6666666666666666,
              "#ed7953"
             ],
             [
              0.7777777777777778,
              "#fb9f3a"
             ],
             [
              0.8888888888888888,
              "#fdca26"
             ],
             [
              1,
              "#f0f921"
             ]
            ],
            "type": "contour"
           }
          ],
          "contourcarpet": [
           {
            "colorbar": {
             "outlinewidth": 0,
             "ticks": ""
            },
            "type": "contourcarpet"
           }
          ],
          "heatmap": [
           {
            "colorbar": {
             "outlinewidth": 0,
             "ticks": ""
            },
            "colorscale": [
             [
              0,
              "#0d0887"
             ],
             [
              0.1111111111111111,
              "#46039f"
             ],
             [
              0.2222222222222222,
              "#7201a8"
             ],
             [
              0.3333333333333333,
              "#9c179e"
             ],
             [
              0.4444444444444444,
              "#bd3786"
             ],
             [
              0.5555555555555556,
              "#d8576b"
             ],
             [
              0.6666666666666666,
              "#ed7953"
             ],
             [
              0.7777777777777778,
              "#fb9f3a"
             ],
             [
              0.8888888888888888,
              "#fdca26"
             ],
             [
              1,
              "#f0f921"
             ]
            ],
            "type": "heatmap"
           }
          ],
          "heatmapgl": [
           {
            "colorbar": {
             "outlinewidth": 0,
             "ticks": ""
            },
            "colorscale": [
             [
              0,
              "#0d0887"
             ],
             [
              0.1111111111111111,
              "#46039f"
             ],
             [
              0.2222222222222222,
              "#7201a8"
             ],
             [
              0.3333333333333333,
              "#9c179e"
             ],
             [
              0.4444444444444444,
              "#bd3786"
             ],
             [
              0.5555555555555556,
              "#d8576b"
             ],
             [
              0.6666666666666666,
              "#ed7953"
             ],
             [
              0.7777777777777778,
              "#fb9f3a"
             ],
             [
              0.8888888888888888,
              "#fdca26"
             ],
             [
              1,
              "#f0f921"
             ]
            ],
            "type": "heatmapgl"
           }
          ],
          "histogram": [
           {
            "marker": {
             "pattern": {
              "fillmode": "overlay",
              "size": 10,
              "solidity": 0.2
             }
            },
            "type": "histogram"
           }
          ],
          "histogram2d": [
           {
            "colorbar": {
             "outlinewidth": 0,
             "ticks": ""
            },
            "colorscale": [
             [
              0,
              "#0d0887"
             ],
             [
              0.1111111111111111,
              "#46039f"
             ],
             [
              0.2222222222222222,
              "#7201a8"
             ],
             [
              0.3333333333333333,
              "#9c179e"
             ],
             [
              0.4444444444444444,
              "#bd3786"
             ],
             [
              0.5555555555555556,
              "#d8576b"
             ],
             [
              0.6666666666666666,
              "#ed7953"
             ],
             [
              0.7777777777777778,
              "#fb9f3a"
             ],
             [
              0.8888888888888888,
              "#fdca26"
             ],
             [
              1,
              "#f0f921"
             ]
            ],
            "type": "histogram2d"
           }
          ],
          "histogram2dcontour": [
           {
            "colorbar": {
             "outlinewidth": 0,
             "ticks": ""
            },
            "colorscale": [
             [
              0,
              "#0d0887"
             ],
             [
              0.1111111111111111,
              "#46039f"
             ],
             [
              0.2222222222222222,
              "#7201a8"
             ],
             [
              0.3333333333333333,
              "#9c179e"
             ],
             [
              0.4444444444444444,
              "#bd3786"
             ],
             [
              0.5555555555555556,
              "#d8576b"
             ],
             [
              0.6666666666666666,
              "#ed7953"
             ],
             [
              0.7777777777777778,
              "#fb9f3a"
             ],
             [
              0.8888888888888888,
              "#fdca26"
             ],
             [
              1,
              "#f0f921"
             ]
            ],
            "type": "histogram2dcontour"
           }
          ],
          "mesh3d": [
           {
            "colorbar": {
             "outlinewidth": 0,
             "ticks": ""
            },
            "type": "mesh3d"
           }
          ],
          "parcoords": [
           {
            "line": {
             "colorbar": {
              "outlinewidth": 0,
              "ticks": ""
             }
            },
            "type": "parcoords"
           }
          ],
          "pie": [
           {
            "automargin": true,
            "type": "pie"
           }
          ],
          "scatter": [
           {
            "fillpattern": {
             "fillmode": "overlay",
             "size": 10,
             "solidity": 0.2
            },
            "type": "scatter"
           }
          ],
          "scatter3d": [
           {
            "line": {
             "colorbar": {
              "outlinewidth": 0,
              "ticks": ""
             }
            },
            "marker": {
             "colorbar": {
              "outlinewidth": 0,
              "ticks": ""
             }
            },
            "type": "scatter3d"
           }
          ],
          "scattercarpet": [
           {
            "marker": {
             "colorbar": {
              "outlinewidth": 0,
              "ticks": ""
             }
            },
            "type": "scattercarpet"
           }
          ],
          "scattergeo": [
           {
            "marker": {
             "colorbar": {
              "outlinewidth": 0,
              "ticks": ""
             }
            },
            "type": "scattergeo"
           }
          ],
          "scattergl": [
           {
            "marker": {
             "colorbar": {
              "outlinewidth": 0,
              "ticks": ""
             }
            },
            "type": "scattergl"
           }
          ],
          "scattermapbox": [
           {
            "marker": {
             "colorbar": {
              "outlinewidth": 0,
              "ticks": ""
             }
            },
            "type": "scattermapbox"
           }
          ],
          "scatterpolar": [
           {
            "marker": {
             "colorbar": {
              "outlinewidth": 0,
              "ticks": ""
             }
            },
            "type": "scatterpolar"
           }
          ],
          "scatterpolargl": [
           {
            "marker": {
             "colorbar": {
              "outlinewidth": 0,
              "ticks": ""
             }
            },
            "type": "scatterpolargl"
           }
          ],
          "scatterternary": [
           {
            "marker": {
             "colorbar": {
              "outlinewidth": 0,
              "ticks": ""
             }
            },
            "type": "scatterternary"
           }
          ],
          "surface": [
           {
            "colorbar": {
             "outlinewidth": 0,
             "ticks": ""
            },
            "colorscale": [
             [
              0,
              "#0d0887"
             ],
             [
              0.1111111111111111,
              "#46039f"
             ],
             [
              0.2222222222222222,
              "#7201a8"
             ],
             [
              0.3333333333333333,
              "#9c179e"
             ],
             [
              0.4444444444444444,
              "#bd3786"
             ],
             [
              0.5555555555555556,
              "#d8576b"
             ],
             [
              0.6666666666666666,
              "#ed7953"
             ],
             [
              0.7777777777777778,
              "#fb9f3a"
             ],
             [
              0.8888888888888888,
              "#fdca26"
             ],
             [
              1,
              "#f0f921"
             ]
            ],
            "type": "surface"
           }
          ],
          "table": [
           {
            "cells": {
             "fill": {
              "color": "#EBF0F8"
             },
             "line": {
              "color": "white"
             }
            },
            "header": {
             "fill": {
              "color": "#C8D4E3"
             },
             "line": {
              "color": "white"
             }
            },
            "type": "table"
           }
          ]
         },
         "layout": {
          "annotationdefaults": {
           "arrowcolor": "#2a3f5f",
           "arrowhead": 0,
           "arrowwidth": 1
          },
          "autotypenumbers": "strict",
          "coloraxis": {
           "colorbar": {
            "outlinewidth": 0,
            "ticks": ""
           }
          },
          "colorscale": {
           "diverging": [
            [
             0,
             "#8e0152"
            ],
            [
             0.1,
             "#c51b7d"
            ],
            [
             0.2,
             "#de77ae"
            ],
            [
             0.3,
             "#f1b6da"
            ],
            [
             0.4,
             "#fde0ef"
            ],
            [
             0.5,
             "#f7f7f7"
            ],
            [
             0.6,
             "#e6f5d0"
            ],
            [
             0.7,
             "#b8e186"
            ],
            [
             0.8,
             "#7fbc41"
            ],
            [
             0.9,
             "#4d9221"
            ],
            [
             1,
             "#276419"
            ]
           ],
           "sequential": [
            [
             0,
             "#0d0887"
            ],
            [
             0.1111111111111111,
             "#46039f"
            ],
            [
             0.2222222222222222,
             "#7201a8"
            ],
            [
             0.3333333333333333,
             "#9c179e"
            ],
            [
             0.4444444444444444,
             "#bd3786"
            ],
            [
             0.5555555555555556,
             "#d8576b"
            ],
            [
             0.6666666666666666,
             "#ed7953"
            ],
            [
             0.7777777777777778,
             "#fb9f3a"
            ],
            [
             0.8888888888888888,
             "#fdca26"
            ],
            [
             1,
             "#f0f921"
            ]
           ],
           "sequentialminus": [
            [
             0,
             "#0d0887"
            ],
            [
             0.1111111111111111,
             "#46039f"
            ],
            [
             0.2222222222222222,
             "#7201a8"
            ],
            [
             0.3333333333333333,
             "#9c179e"
            ],
            [
             0.4444444444444444,
             "#bd3786"
            ],
            [
             0.5555555555555556,
             "#d8576b"
            ],
            [
             0.6666666666666666,
             "#ed7953"
            ],
            [
             0.7777777777777778,
             "#fb9f3a"
            ],
            [
             0.8888888888888888,
             "#fdca26"
            ],
            [
             1,
             "#f0f921"
            ]
           ]
          },
          "colorway": [
           "#636efa",
           "#EF553B",
           "#00cc96",
           "#ab63fa",
           "#FFA15A",
           "#19d3f3",
           "#FF6692",
           "#B6E880",
           "#FF97FF",
           "#FECB52"
          ],
          "font": {
           "color": "#2a3f5f"
          },
          "geo": {
           "bgcolor": "white",
           "lakecolor": "white",
           "landcolor": "#E5ECF6",
           "showlakes": true,
           "showland": true,
           "subunitcolor": "white"
          },
          "hoverlabel": {
           "align": "left"
          },
          "hovermode": "closest",
          "mapbox": {
           "style": "light"
          },
          "paper_bgcolor": "white",
          "plot_bgcolor": "#E5ECF6",
          "polar": {
           "angularaxis": {
            "gridcolor": "white",
            "linecolor": "white",
            "ticks": ""
           },
           "bgcolor": "#E5ECF6",
           "radialaxis": {
            "gridcolor": "white",
            "linecolor": "white",
            "ticks": ""
           }
          },
          "scene": {
           "xaxis": {
            "backgroundcolor": "#E5ECF6",
            "gridcolor": "white",
            "gridwidth": 2,
            "linecolor": "white",
            "showbackground": true,
            "ticks": "",
            "zerolinecolor": "white"
           },
           "yaxis": {
            "backgroundcolor": "#E5ECF6",
            "gridcolor": "white",
            "gridwidth": 2,
            "linecolor": "white",
            "showbackground": true,
            "ticks": "",
            "zerolinecolor": "white"
           },
           "zaxis": {
            "backgroundcolor": "#E5ECF6",
            "gridcolor": "white",
            "gridwidth": 2,
            "linecolor": "white",
            "showbackground": true,
            "ticks": "",
            "zerolinecolor": "white"
           }
          },
          "shapedefaults": {
           "line": {
            "color": "#2a3f5f"
           }
          },
          "ternary": {
           "aaxis": {
            "gridcolor": "white",
            "linecolor": "white",
            "ticks": ""
           },
           "baxis": {
            "gridcolor": "white",
            "linecolor": "white",
            "ticks": ""
           },
           "bgcolor": "#E5ECF6",
           "caxis": {
            "gridcolor": "white",
            "linecolor": "white",
            "ticks": ""
           }
          },
          "title": {
           "x": 0.05
          },
          "xaxis": {
           "automargin": true,
           "gridcolor": "white",
           "linecolor": "white",
           "ticks": "",
           "title": {
            "standoff": 15
           },
           "zerolinecolor": "white",
           "zerolinewidth": 2
          },
          "yaxis": {
           "automargin": true,
           "gridcolor": "white",
           "linecolor": "white",
           "ticks": "",
           "title": {
            "standoff": 15
           },
           "zerolinecolor": "white",
           "zerolinewidth": 2
          }
         }
        },
        "title": {
         "text": "Time Series Line Chart"
        },
        "xaxis": {
         "anchor": "y",
         "domain": [
          0,
          1
         ],
         "title": {
          "text": "Timestamp"
         }
        },
        "yaxis": {
         "anchor": "x",
         "domain": [
          0,
          1
         ],
         "title": {
          "text": "SDG_Mean"
         }
        }
       }
      },
      "text/html": [
       "<div>                            <div id=\"1ebf12cd-e73e-42d6-9e94-94322e7d897a\" class=\"plotly-graph-div\" style=\"height:525px; width:100%;\"></div>            <script type=\"text/javascript\">                require([\"plotly\"], function(Plotly) {                    window.PLOTLYENV=window.PLOTLYENV || {};                                    if (document.getElementById(\"1ebf12cd-e73e-42d6-9e94-94322e7d897a\")) {                    Plotly.newPlot(                        \"1ebf12cd-e73e-42d6-9e94-94322e7d897a\",                        [{\"hovertemplate\":\"Timestamp=%{x}<br>SDG_Mean=%{y}<extra></extra>\",\"legendgroup\":\"\",\"line\":{\"color\":\"#636efa\",\"dash\":\"solid\"},\"marker\":{\"symbol\":\"circle\"},\"mode\":\"lines\",\"name\":\"\",\"orientation\":\"v\",\"showlegend\":false,\"x\":[\"2019-12-13T00:00:00\",\"2019-12-14T00:00:00\",\"2019-12-15T00:00:00\",\"2019-12-16T00:00:00\",\"2019-12-17T00:00:00\",\"2019-12-18T00:00:00\",\"2019-12-19T00:00:00\",\"2019-12-20T00:00:00\",\"2019-12-21T00:00:00\",\"2019-12-22T00:00:00\",\"2019-12-23T00:00:00\",\"2019-12-24T00:00:00\",\"2019-12-25T00:00:00\",\"2019-12-26T00:00:00\",\"2019-12-27T00:00:00\",\"2019-12-28T00:00:00\",\"2019-12-29T00:00:00\",\"2019-12-30T00:00:00\",\"2019-12-31T00:00:00\",\"2020-01-01T00:00:00\",\"2020-01-02T00:00:00\",\"2020-01-03T00:00:00\",\"2020-01-04T00:00:00\",\"2020-01-05T00:00:00\",\"2020-01-06T00:00:00\",\"2020-01-07T00:00:00\",\"2020-01-08T00:00:00\",\"2020-01-09T00:00:00\",\"2020-01-10T00:00:00\",\"2020-01-11T00:00:00\",\"2020-01-12T00:00:00\",\"2020-01-13T00:00:00\",\"2020-01-14T00:00:00\",\"2020-01-15T00:00:00\",\"2020-01-16T00:00:00\",\"2020-01-17T00:00:00\",\"2020-01-18T00:00:00\",\"2020-01-19T00:00:00\",\"2020-01-20T00:00:00\",\"2020-01-21T00:00:00\",\"2020-01-22T00:00:00\",\"2020-01-23T00:00:00\",\"2020-01-24T00:00:00\",\"2020-01-25T00:00:00\",\"2020-01-26T00:00:00\",\"2020-01-27T00:00:00\",\"2020-01-28T00:00:00\",\"2020-01-29T00:00:00\",\"2020-01-30T00:00:00\",\"2020-01-31T00:00:00\",\"2020-02-01T00:00:00\",\"2020-02-02T00:00:00\",\"2020-02-03T00:00:00\",\"2020-02-04T00:00:00\",\"2020-02-05T00:00:00\",\"2020-02-06T00:00:00\",\"2020-02-07T00:00:00\",\"2020-02-08T00:00:00\",\"2020-02-09T00:00:00\",\"2020-02-10T00:00:00\",\"2020-02-11T00:00:00\",\"2020-02-12T00:00:00\",\"2020-02-13T00:00:00\",\"2020-02-14T00:00:00\",\"2020-02-15T00:00:00\",\"2020-02-16T00:00:00\",\"2020-02-17T00:00:00\",\"2020-02-18T00:00:00\",\"2020-02-19T00:00:00\",\"2020-02-20T00:00:00\",\"2020-02-21T00:00:00\",\"2020-02-22T00:00:00\",\"2020-02-23T00:00:00\",\"2020-02-24T00:00:00\",\"2020-02-25T00:00:00\",\"2020-02-26T00:00:00\",\"2020-02-27T00:00:00\",\"2020-02-28T00:00:00\",\"2020-02-29T00:00:00\",\"2020-03-01T00:00:00\",\"2020-03-02T00:00:00\",\"2020-03-03T00:00:00\",\"2020-03-04T00:00:00\",\"2020-03-05T00:00:00\",\"2020-03-06T00:00:00\",\"2020-03-07T00:00:00\",\"2020-03-08T00:00:00\",\"2020-03-09T00:00:00\",\"2020-03-10T00:00:00\",\"2020-03-11T00:00:00\",\"2020-03-12T00:00:00\",\"2020-03-13T00:00:00\",\"2020-03-14T00:00:00\",\"2020-03-15T00:00:00\",\"2020-03-16T00:00:00\",\"2020-03-17T00:00:00\",\"2020-03-18T00:00:00\",\"2020-03-19T00:00:00\",\"2020-03-20T00:00:00\",\"2020-03-21T00:00:00\",\"2020-03-22T00:00:00\",\"2020-03-23T00:00:00\",\"2020-03-24T00:00:00\",\"2020-03-25T00:00:00\",\"2020-03-26T00:00:00\",\"2020-03-27T00:00:00\",\"2020-03-28T00:00:00\",\"2020-03-29T00:00:00\",\"2020-03-30T00:00:00\",\"2020-03-31T00:00:00\",\"2020-04-01T00:00:00\",\"2020-04-02T00:00:00\",\"2020-04-03T00:00:00\",\"2020-04-04T00:00:00\",\"2020-04-05T00:00:00\",\"2020-04-06T00:00:00\",\"2020-04-07T00:00:00\",\"2020-04-08T00:00:00\",\"2020-04-09T00:00:00\",\"2020-04-10T00:00:00\",\"2020-04-11T00:00:00\",\"2020-04-12T00:00:00\",\"2020-04-13T00:00:00\",\"2020-04-14T00:00:00\",\"2020-04-15T00:00:00\",\"2020-04-16T00:00:00\",\"2020-04-17T00:00:00\",\"2020-04-18T00:00:00\",\"2020-04-19T00:00:00\",\"2020-04-20T00:00:00\",\"2020-04-21T00:00:00\",\"2020-04-22T00:00:00\"],\"xaxis\":\"x\",\"y\":[1.9628939565600845,1.5446765079832685,0.5361660817284173,0.965624135674952,0.8447863859709801,1.6895744989617236,2.8907460194415666,0.15692444824688,-0.3839601092872177,0.0101262465025167,0.4241956190607194,1.5154144971297752,0.3938854464133456,0.5217454416370875,0.1188489080763168,-0.2129911783115602,-0.5077813500827961,0.3188669194581899,0.3816622550773547,-1.1438573382943356,-0.3530844334185852,-0.2892735478002645,1.0467185058128063,0.510973228139672,0.4733483885895004,0.8175757899051125,0.5492522336498319,1.3733900892870974,1.8863671137297209,0.1455728619668864,2.0928306583588894,0.6964361205905965,1.0473855360375102,0.7067139847916535,0.2609919192421415,0.1780010918678272,-0.2277815675326891,1.3641532201410411,0.7127123876076521,1.6785032808501978,0.1694745358159304,-0.1671808779728314,0.6686203396252464,-0.7316448462295414,-0.5569260499260867,0.0644174090668203,0.4537082871655677,-0.2999362687903777,0.6177947158008761,0.3758394085982217,-0.5906087283652829,0.8411927318116352,1.8897649793534423,1.1251671043135243,1.3304923383978466,1.1126314081441115,1.2393787621895451,-0.2730191968774072,-0.0094590053864445,-0.3119581692316871,-0.238043479727649,0.3599943691743173,0.3090602811245176,0.934357302036255,0.5692737090615524,0.845770355158997,0.5402656031993388,0.3892814358492997,-0.0655529196759732,1.4316102926851384,0.6771612089185346,0.450334215170024,0.1178502518242512,0.4912874299639056,-0.1824980967158869,1.239673463578975,1.4765137188159263,0.923122858471086,-0.3276792519086473,0.3115572608244481,0.6017502541489705,0.0153169047365862,0.3719809443911114,0.8883380895563867,-0.9164338955978216,-0.6382636192150509,-1.7701358281268311,-0.401197790359205,-1.3989092043854388,0.4787226470402208,0.9705605841820862,-0.4522717606707157,-1.6827625108944126,-1.326168557470055,-1.1926335513216082,-0.6952359765118736,-1.2690980702101688,-0.7863251854125267,-0.8152058132837274,-1.5451297537455493,-1.3337009989081825,-0.0272486634590827,-0.684422280327821,-0.7781387478835096,-0.6281890747746413,-0.5394224443652368,-0.9888342629516058,-0.8591252280146165,-1.148753508093657,-1.630139035085422,-1.435017428581845,-1.039432382910448,-1.4436203853802572,-1.4134909009937604,-1.1476050850189683,-0.4269912772919343,-0.9893765553233398,-1.0196811478246648,-0.6877444380124226,-1.1805335502610217,-0.1624329698698818,-1.4685616078465265,-0.8454106891972212,-1.327723493314614,-1.2672330269090173,-0.0276706304200622,-0.4205958809125592,-0.6820519777278972,-1.299128201215504,-0.4962871264182857,-0.3261779699239213,0.0171971303680516],\"yaxis\":\"y\",\"type\":\"scatter\"}],                        {\"template\":{\"data\":{\"histogram2dcontour\":[{\"type\":\"histogram2dcontour\",\"colorbar\":{\"outlinewidth\":0,\"ticks\":\"\"},\"colorscale\":[[0.0,\"#0d0887\"],[0.1111111111111111,\"#46039f\"],[0.2222222222222222,\"#7201a8\"],[0.3333333333333333,\"#9c179e\"],[0.4444444444444444,\"#bd3786\"],[0.5555555555555556,\"#d8576b\"],[0.6666666666666666,\"#ed7953\"],[0.7777777777777778,\"#fb9f3a\"],[0.8888888888888888,\"#fdca26\"],[1.0,\"#f0f921\"]]}],\"choropleth\":[{\"type\":\"choropleth\",\"colorbar\":{\"outlinewidth\":0,\"ticks\":\"\"}}],\"histogram2d\":[{\"type\":\"histogram2d\",\"colorbar\":{\"outlinewidth\":0,\"ticks\":\"\"},\"colorscale\":[[0.0,\"#0d0887\"],[0.1111111111111111,\"#46039f\"],[0.2222222222222222,\"#7201a8\"],[0.3333333333333333,\"#9c179e\"],[0.4444444444444444,\"#bd3786\"],[0.5555555555555556,\"#d8576b\"],[0.6666666666666666,\"#ed7953\"],[0.7777777777777778,\"#fb9f3a\"],[0.8888888888888888,\"#fdca26\"],[1.0,\"#f0f921\"]]}],\"heatmap\":[{\"type\":\"heatmap\",\"colorbar\":{\"outlinewidth\":0,\"ticks\":\"\"},\"colorscale\":[[0.0,\"#0d0887\"],[0.1111111111111111,\"#46039f\"],[0.2222222222222222,\"#7201a8\"],[0.3333333333333333,\"#9c179e\"],[0.4444444444444444,\"#bd3786\"],[0.5555555555555556,\"#d8576b\"],[0.6666666666666666,\"#ed7953\"],[0.7777777777777778,\"#fb9f3a\"],[0.8888888888888888,\"#fdca26\"],[1.0,\"#f0f921\"]]}],\"heatmapgl\":[{\"type\":\"heatmapgl\",\"colorbar\":{\"outlinewidth\":0,\"ticks\":\"\"},\"colorscale\":[[0.0,\"#0d0887\"],[0.1111111111111111,\"#46039f\"],[0.2222222222222222,\"#7201a8\"],[0.3333333333333333,\"#9c179e\"],[0.4444444444444444,\"#bd3786\"],[0.5555555555555556,\"#d8576b\"],[0.6666666666666666,\"#ed7953\"],[0.7777777777777778,\"#fb9f3a\"],[0.8888888888888888,\"#fdca26\"],[1.0,\"#f0f921\"]]}],\"contourcarpet\":[{\"type\":\"contourcarpet\",\"colorbar\":{\"outlinewidth\":0,\"ticks\":\"\"}}],\"contour\":[{\"type\":\"contour\",\"colorbar\":{\"outlinewidth\":0,\"ticks\":\"\"},\"colorscale\":[[0.0,\"#0d0887\"],[0.1111111111111111,\"#46039f\"],[0.2222222222222222,\"#7201a8\"],[0.3333333333333333,\"#9c179e\"],[0.4444444444444444,\"#bd3786\"],[0.5555555555555556,\"#d8576b\"],[0.6666666666666666,\"#ed7953\"],[0.7777777777777778,\"#fb9f3a\"],[0.8888888888888888,\"#fdca26\"],[1.0,\"#f0f921\"]]}],\"surface\":[{\"type\":\"surface\",\"colorbar\":{\"outlinewidth\":0,\"ticks\":\"\"},\"colorscale\":[[0.0,\"#0d0887\"],[0.1111111111111111,\"#46039f\"],[0.2222222222222222,\"#7201a8\"],[0.3333333333333333,\"#9c179e\"],[0.4444444444444444,\"#bd3786\"],[0.5555555555555556,\"#d8576b\"],[0.6666666666666666,\"#ed7953\"],[0.7777777777777778,\"#fb9f3a\"],[0.8888888888888888,\"#fdca26\"],[1.0,\"#f0f921\"]]}],\"mesh3d\":[{\"type\":\"mesh3d\",\"colorbar\":{\"outlinewidth\":0,\"ticks\":\"\"}}],\"scatter\":[{\"fillpattern\":{\"fillmode\":\"overlay\",\"size\":10,\"solidity\":0.2},\"type\":\"scatter\"}],\"parcoords\":[{\"type\":\"parcoords\",\"line\":{\"colorbar\":{\"outlinewidth\":0,\"ticks\":\"\"}}}],\"scatterpolargl\":[{\"type\":\"scatterpolargl\",\"marker\":{\"colorbar\":{\"outlinewidth\":0,\"ticks\":\"\"}}}],\"bar\":[{\"error_x\":{\"color\":\"#2a3f5f\"},\"error_y\":{\"color\":\"#2a3f5f\"},\"marker\":{\"line\":{\"color\":\"#E5ECF6\",\"width\":0.5},\"pattern\":{\"fillmode\":\"overlay\",\"size\":10,\"solidity\":0.2}},\"type\":\"bar\"}],\"scattergeo\":[{\"type\":\"scattergeo\",\"marker\":{\"colorbar\":{\"outlinewidth\":0,\"ticks\":\"\"}}}],\"scatterpolar\":[{\"type\":\"scatterpolar\",\"marker\":{\"colorbar\":{\"outlinewidth\":0,\"ticks\":\"\"}}}],\"histogram\":[{\"marker\":{\"pattern\":{\"fillmode\":\"overlay\",\"size\":10,\"solidity\":0.2}},\"type\":\"histogram\"}],\"scattergl\":[{\"type\":\"scattergl\",\"marker\":{\"colorbar\":{\"outlinewidth\":0,\"ticks\":\"\"}}}],\"scatter3d\":[{\"type\":\"scatter3d\",\"line\":{\"colorbar\":{\"outlinewidth\":0,\"ticks\":\"\"}},\"marker\":{\"colorbar\":{\"outlinewidth\":0,\"ticks\":\"\"}}}],\"scattermapbox\":[{\"type\":\"scattermapbox\",\"marker\":{\"colorbar\":{\"outlinewidth\":0,\"ticks\":\"\"}}}],\"scatterternary\":[{\"type\":\"scatterternary\",\"marker\":{\"colorbar\":{\"outlinewidth\":0,\"ticks\":\"\"}}}],\"scattercarpet\":[{\"type\":\"scattercarpet\",\"marker\":{\"colorbar\":{\"outlinewidth\":0,\"ticks\":\"\"}}}],\"carpet\":[{\"aaxis\":{\"endlinecolor\":\"#2a3f5f\",\"gridcolor\":\"white\",\"linecolor\":\"white\",\"minorgridcolor\":\"white\",\"startlinecolor\":\"#2a3f5f\"},\"baxis\":{\"endlinecolor\":\"#2a3f5f\",\"gridcolor\":\"white\",\"linecolor\":\"white\",\"minorgridcolor\":\"white\",\"startlinecolor\":\"#2a3f5f\"},\"type\":\"carpet\"}],\"table\":[{\"cells\":{\"fill\":{\"color\":\"#EBF0F8\"},\"line\":{\"color\":\"white\"}},\"header\":{\"fill\":{\"color\":\"#C8D4E3\"},\"line\":{\"color\":\"white\"}},\"type\":\"table\"}],\"barpolar\":[{\"marker\":{\"line\":{\"color\":\"#E5ECF6\",\"width\":0.5},\"pattern\":{\"fillmode\":\"overlay\",\"size\":10,\"solidity\":0.2}},\"type\":\"barpolar\"}],\"pie\":[{\"automargin\":true,\"type\":\"pie\"}]},\"layout\":{\"autotypenumbers\":\"strict\",\"colorway\":[\"#636efa\",\"#EF553B\",\"#00cc96\",\"#ab63fa\",\"#FFA15A\",\"#19d3f3\",\"#FF6692\",\"#B6E880\",\"#FF97FF\",\"#FECB52\"],\"font\":{\"color\":\"#2a3f5f\"},\"hovermode\":\"closest\",\"hoverlabel\":{\"align\":\"left\"},\"paper_bgcolor\":\"white\",\"plot_bgcolor\":\"#E5ECF6\",\"polar\":{\"bgcolor\":\"#E5ECF6\",\"angularaxis\":{\"gridcolor\":\"white\",\"linecolor\":\"white\",\"ticks\":\"\"},\"radialaxis\":{\"gridcolor\":\"white\",\"linecolor\":\"white\",\"ticks\":\"\"}},\"ternary\":{\"bgcolor\":\"#E5ECF6\",\"aaxis\":{\"gridcolor\":\"white\",\"linecolor\":\"white\",\"ticks\":\"\"},\"baxis\":{\"gridcolor\":\"white\",\"linecolor\":\"white\",\"ticks\":\"\"},\"caxis\":{\"gridcolor\":\"white\",\"linecolor\":\"white\",\"ticks\":\"\"}},\"coloraxis\":{\"colorbar\":{\"outlinewidth\":0,\"ticks\":\"\"}},\"colorscale\":{\"sequential\":[[0.0,\"#0d0887\"],[0.1111111111111111,\"#46039f\"],[0.2222222222222222,\"#7201a8\"],[0.3333333333333333,\"#9c179e\"],[0.4444444444444444,\"#bd3786\"],[0.5555555555555556,\"#d8576b\"],[0.6666666666666666,\"#ed7953\"],[0.7777777777777778,\"#fb9f3a\"],[0.8888888888888888,\"#fdca26\"],[1.0,\"#f0f921\"]],\"sequentialminus\":[[0.0,\"#0d0887\"],[0.1111111111111111,\"#46039f\"],[0.2222222222222222,\"#7201a8\"],[0.3333333333333333,\"#9c179e\"],[0.4444444444444444,\"#bd3786\"],[0.5555555555555556,\"#d8576b\"],[0.6666666666666666,\"#ed7953\"],[0.7777777777777778,\"#fb9f3a\"],[0.8888888888888888,\"#fdca26\"],[1.0,\"#f0f921\"]],\"diverging\":[[0,\"#8e0152\"],[0.1,\"#c51b7d\"],[0.2,\"#de77ae\"],[0.3,\"#f1b6da\"],[0.4,\"#fde0ef\"],[0.5,\"#f7f7f7\"],[0.6,\"#e6f5d0\"],[0.7,\"#b8e186\"],[0.8,\"#7fbc41\"],[0.9,\"#4d9221\"],[1,\"#276419\"]]},\"xaxis\":{\"gridcolor\":\"white\",\"linecolor\":\"white\",\"ticks\":\"\",\"title\":{\"standoff\":15},\"zerolinecolor\":\"white\",\"automargin\":true,\"zerolinewidth\":2},\"yaxis\":{\"gridcolor\":\"white\",\"linecolor\":\"white\",\"ticks\":\"\",\"title\":{\"standoff\":15},\"zerolinecolor\":\"white\",\"automargin\":true,\"zerolinewidth\":2},\"scene\":{\"xaxis\":{\"backgroundcolor\":\"#E5ECF6\",\"gridcolor\":\"white\",\"linecolor\":\"white\",\"showbackground\":true,\"ticks\":\"\",\"zerolinecolor\":\"white\",\"gridwidth\":2},\"yaxis\":{\"backgroundcolor\":\"#E5ECF6\",\"gridcolor\":\"white\",\"linecolor\":\"white\",\"showbackground\":true,\"ticks\":\"\",\"zerolinecolor\":\"white\",\"gridwidth\":2},\"zaxis\":{\"backgroundcolor\":\"#E5ECF6\",\"gridcolor\":\"white\",\"linecolor\":\"white\",\"showbackground\":true,\"ticks\":\"\",\"zerolinecolor\":\"white\",\"gridwidth\":2}},\"shapedefaults\":{\"line\":{\"color\":\"#2a3f5f\"}},\"annotationdefaults\":{\"arrowcolor\":\"#2a3f5f\",\"arrowhead\":0,\"arrowwidth\":1},\"geo\":{\"bgcolor\":\"white\",\"landcolor\":\"#E5ECF6\",\"subunitcolor\":\"white\",\"showland\":true,\"showlakes\":true,\"lakecolor\":\"white\"},\"title\":{\"x\":0.05},\"mapbox\":{\"style\":\"light\"}}},\"xaxis\":{\"anchor\":\"y\",\"domain\":[0.0,1.0],\"title\":{\"text\":\"Timestamp\"}},\"yaxis\":{\"anchor\":\"x\",\"domain\":[0.0,1.0],\"title\":{\"text\":\"SDG_Mean\"}},\"legend\":{\"tracegroupgap\":0},\"title\":{\"text\":\"Time Series Line Chart\"},\"shapes\":[{\"fillcolor\":\"rgba(200,0,200,0.2)\",\"layer\":\"below\",\"line\":{\"color\":\"rgba(0,0,0,0)\",\"width\":3},\"type\":\"rect\",\"x0\":\"2019-12-31T00:00:00\",\"x1\":\"2020-01-01T00:00:00\",\"xref\":\"x\",\"y0\":0,\"y1\":1,\"yref\":\"paper\"},{\"fillcolor\":\"rgba(200,0,200,0.2)\",\"layer\":\"below\",\"line\":{\"color\":\"rgba(0,0,0,0)\",\"width\":3},\"type\":\"rect\",\"x0\":\"2020-01-02T00:00:00\",\"x1\":\"2020-01-03T00:00:00\",\"xref\":\"x\",\"y0\":0,\"y1\":1,\"yref\":\"paper\"},{\"fillcolor\":\"rgba(200,0,200,0.2)\",\"layer\":\"below\",\"line\":{\"color\":\"rgba(0,0,0,0)\",\"width\":3},\"type\":\"rect\",\"x0\":\"2020-01-05T00:00:00\",\"x1\":\"2020-01-06T00:00:00\",\"xref\":\"x\",\"y0\":0,\"y1\":1,\"yref\":\"paper\"},{\"fillcolor\":\"rgba(200,0,200,0.2)\",\"layer\":\"below\",\"line\":{\"color\":\"rgba(0,0,0,0)\",\"width\":3},\"type\":\"rect\",\"x0\":\"2020-01-07T00:00:00\",\"x1\":\"2020-01-08T00:00:00\",\"xref\":\"x\",\"y0\":0,\"y1\":1,\"yref\":\"paper\"},{\"fillcolor\":\"rgba(200,0,200,0.2)\",\"layer\":\"below\",\"line\":{\"color\":\"rgba(0,0,0,0)\",\"width\":3},\"type\":\"rect\",\"x0\":\"2020-01-10T00:00:00\",\"x1\":\"2020-01-11T00:00:00\",\"xref\":\"x\",\"y0\":0,\"y1\":1,\"yref\":\"paper\"},{\"fillcolor\":\"rgba(200,0,200,0.2)\",\"layer\":\"below\",\"line\":{\"color\":\"rgba(0,0,0,0)\",\"width\":3},\"type\":\"rect\",\"x0\":\"2020-01-13T00:00:00\",\"x1\":\"2020-01-14T00:00:00\",\"xref\":\"x\",\"y0\":0,\"y1\":1,\"yref\":\"paper\"},{\"fillcolor\":\"rgba(200,0,200,0.2)\",\"layer\":\"below\",\"line\":{\"color\":\"rgba(0,0,0,0)\",\"width\":3},\"type\":\"rect\",\"x0\":\"2020-01-15T00:00:00\",\"x1\":\"2020-01-16T00:00:00\",\"xref\":\"x\",\"y0\":0,\"y1\":1,\"yref\":\"paper\"},{\"fillcolor\":\"rgba(200,0,200,0.2)\",\"layer\":\"below\",\"line\":{\"color\":\"rgba(0,0,0,0)\",\"width\":3},\"type\":\"rect\",\"x0\":\"2020-01-17T00:00:00\",\"x1\":\"2020-01-18T00:00:00\",\"xref\":\"x\",\"y0\":0,\"y1\":1,\"yref\":\"paper\"},{\"fillcolor\":\"rgba(200,0,200,0.2)\",\"layer\":\"below\",\"line\":{\"color\":\"rgba(0,0,0,0)\",\"width\":3},\"type\":\"rect\",\"x0\":\"2020-01-20T00:00:00\",\"x1\":\"2020-01-23T00:00:00\",\"xref\":\"x\",\"y0\":0,\"y1\":1,\"yref\":\"paper\"},{\"fillcolor\":\"rgba(200,0,200,0.2)\",\"layer\":\"below\",\"line\":{\"color\":\"rgba(0,0,0,0)\",\"width\":3},\"type\":\"rect\",\"x0\":\"2020-01-27T00:00:00\",\"x1\":\"2020-01-28T00:00:00\",\"xref\":\"x\",\"y0\":0,\"y1\":1,\"yref\":\"paper\"},{\"fillcolor\":\"rgba(200,0,200,0.2)\",\"layer\":\"below\",\"line\":{\"color\":\"rgba(0,0,0,0)\",\"width\":3},\"type\":\"rect\",\"x0\":\"2020-01-29T00:00:00\",\"x1\":\"2020-01-30T00:00:00\",\"xref\":\"x\",\"y0\":0,\"y1\":1,\"yref\":\"paper\"},{\"fillcolor\":\"rgba(200,0,200,0.2)\",\"layer\":\"below\",\"line\":{\"color\":\"rgba(0,0,0,0)\",\"width\":3},\"type\":\"rect\",\"x0\":\"2020-01-31T00:00:00\",\"x1\":\"2020-02-01T00:00:00\",\"xref\":\"x\",\"y0\":0,\"y1\":1,\"yref\":\"paper\"},{\"fillcolor\":\"rgba(200,0,200,0.2)\",\"layer\":\"below\",\"line\":{\"color\":\"rgba(0,0,0,0)\",\"width\":3},\"type\":\"rect\",\"x0\":\"2020-02-03T00:00:00\",\"x1\":\"2020-02-05T00:00:00\",\"xref\":\"x\",\"y0\":0,\"y1\":1,\"yref\":\"paper\"},{\"fillcolor\":\"rgba(200,0,200,0.2)\",\"layer\":\"below\",\"line\":{\"color\":\"rgba(0,0,0,0)\",\"width\":3},\"type\":\"rect\",\"x0\":\"2020-02-08T00:00:00\",\"x1\":\"2020-02-09T00:00:00\",\"xref\":\"x\",\"y0\":0,\"y1\":1,\"yref\":\"paper\"},{\"fillcolor\":\"rgba(200,0,200,0.2)\",\"layer\":\"below\",\"line\":{\"color\":\"rgba(0,0,0,0)\",\"width\":3},\"type\":\"rect\",\"x0\":\"2020-02-11T00:00:00\",\"x1\":\"2020-02-12T00:00:00\",\"xref\":\"x\",\"y0\":0,\"y1\":1,\"yref\":\"paper\"},{\"fillcolor\":\"rgba(200,0,200,0.2)\",\"layer\":\"below\",\"line\":{\"color\":\"rgba(0,0,0,0)\",\"width\":3},\"type\":\"rect\",\"x0\":\"2020-02-23T00:00:00\",\"x1\":\"2020-02-24T00:00:00\",\"xref\":\"x\",\"y0\":0,\"y1\":1,\"yref\":\"paper\"},{\"fillcolor\":\"rgba(200,0,200,0.2)\",\"layer\":\"below\",\"line\":{\"color\":\"rgba(0,0,0,0)\",\"width\":3},\"type\":\"rect\",\"x0\":\"2020-02-26T00:00:00\",\"x1\":\"2020-02-27T00:00:00\",\"xref\":\"x\",\"y0\":0,\"y1\":1,\"yref\":\"paper\"},{\"fillcolor\":\"rgba(200,0,200,0.2)\",\"layer\":\"below\",\"line\":{\"color\":\"rgba(0,0,0,0)\",\"width\":3},\"type\":\"rect\",\"x0\":\"2020-02-29T00:00:00\",\"x1\":\"2020-03-02T00:00:00\",\"xref\":\"x\",\"y0\":0,\"y1\":1,\"yref\":\"paper\"},{\"fillcolor\":\"rgba(200,0,200,0.2)\",\"layer\":\"below\",\"line\":{\"color\":\"rgba(0,0,0,0)\",\"width\":3},\"type\":\"rect\",\"x0\":\"2020-03-11T00:00:00\",\"x1\":\"2020-03-18T00:00:00\",\"xref\":\"x\",\"y0\":0,\"y1\":1,\"yref\":\"paper\"},{\"fillcolor\":\"rgba(200,0,200,0.2)\",\"layer\":\"below\",\"line\":{\"color\":\"rgba(0,0,0,0)\",\"width\":3},\"type\":\"rect\",\"x0\":\"2020-03-26T00:00:00\",\"x1\":\"2020-03-27T00:00:00\",\"xref\":\"x\",\"y0\":0,\"y1\":1,\"yref\":\"paper\"},{\"fillcolor\":\"rgba(200,0,200,0.2)\",\"layer\":\"below\",\"line\":{\"color\":\"rgba(0,0,0,0)\",\"width\":3},\"type\":\"rect\",\"x0\":\"2020-03-28T00:00:00\",\"x1\":\"2020-03-29T00:00:00\",\"xref\":\"x\",\"y0\":0,\"y1\":1,\"yref\":\"paper\"},{\"fillcolor\":\"rgba(200,0,200,0.2)\",\"layer\":\"below\",\"line\":{\"color\":\"rgba(0,0,0,0)\",\"width\":3},\"type\":\"rect\",\"x0\":\"2020-03-31T00:00:00\",\"x1\":\"2020-04-01T00:00:00\",\"xref\":\"x\",\"y0\":0,\"y1\":1,\"yref\":\"paper\"},{\"fillcolor\":\"rgba(200,0,200,0.2)\",\"layer\":\"below\",\"line\":{\"color\":\"rgba(0,0,0,0)\",\"width\":3},\"type\":\"rect\",\"x0\":\"2020-04-03T00:00:00\",\"x1\":\"2020-04-04T00:00:00\",\"xref\":\"x\",\"y0\":0,\"y1\":1,\"yref\":\"paper\"},{\"fillcolor\":\"rgba(200,0,200,0.2)\",\"layer\":\"below\",\"line\":{\"color\":\"rgba(0,0,0,0)\",\"width\":3},\"type\":\"rect\",\"x0\":\"2020-04-06T00:00:00\",\"x1\":\"2020-04-09T00:00:00\",\"xref\":\"x\",\"y0\":0,\"y1\":1,\"yref\":\"paper\"},{\"fillcolor\":\"rgba(200,0,200,0.2)\",\"layer\":\"below\",\"line\":{\"color\":\"rgba(0,0,0,0)\",\"width\":3},\"type\":\"rect\",\"x0\":\"2020-04-10T00:00:00\",\"x1\":\"2020-04-11T00:00:00\",\"xref\":\"x\",\"y0\":0,\"y1\":1,\"yref\":\"paper\"},{\"fillcolor\":\"rgba(200,0,200,0.2)\",\"layer\":\"below\",\"line\":{\"color\":\"rgba(0,0,0,0)\",\"width\":3},\"type\":\"rect\",\"x0\":\"2020-04-13T00:00:00\",\"x1\":\"2020-04-14T00:00:00\",\"xref\":\"x\",\"y0\":0,\"y1\":1,\"yref\":\"paper\"},{\"fillcolor\":\"rgba(200,0,200,0.2)\",\"layer\":\"below\",\"line\":{\"color\":\"rgba(0,0,0,0)\",\"width\":3},\"type\":\"rect\",\"x0\":\"2019-12-31T00:00:00\",\"x1\":\"2020-01-01T00:00:00\",\"xref\":\"x\",\"y0\":0,\"y1\":1,\"yref\":\"paper\"},{\"fillcolor\":\"rgba(200,0,200,0.2)\",\"layer\":\"below\",\"line\":{\"color\":\"rgba(0,0,0,0)\",\"width\":3},\"type\":\"rect\",\"x0\":\"2020-01-02T00:00:00\",\"x1\":\"2020-01-03T00:00:00\",\"xref\":\"x\",\"y0\":0,\"y1\":1,\"yref\":\"paper\"},{\"fillcolor\":\"rgba(200,0,200,0.2)\",\"layer\":\"below\",\"line\":{\"color\":\"rgba(0,0,0,0)\",\"width\":3},\"type\":\"rect\",\"x0\":\"2020-01-05T00:00:00\",\"x1\":\"2020-01-06T00:00:00\",\"xref\":\"x\",\"y0\":0,\"y1\":1,\"yref\":\"paper\"},{\"fillcolor\":\"rgba(200,0,200,0.2)\",\"layer\":\"below\",\"line\":{\"color\":\"rgba(0,0,0,0)\",\"width\":3},\"type\":\"rect\",\"x0\":\"2020-01-07T00:00:00\",\"x1\":\"2020-01-08T00:00:00\",\"xref\":\"x\",\"y0\":0,\"y1\":1,\"yref\":\"paper\"},{\"fillcolor\":\"rgba(200,0,200,0.2)\",\"layer\":\"below\",\"line\":{\"color\":\"rgba(0,0,0,0)\",\"width\":3},\"type\":\"rect\",\"x0\":\"2020-01-10T00:00:00\",\"x1\":\"2020-01-11T00:00:00\",\"xref\":\"x\",\"y0\":0,\"y1\":1,\"yref\":\"paper\"},{\"fillcolor\":\"rgba(200,0,200,0.2)\",\"layer\":\"below\",\"line\":{\"color\":\"rgba(0,0,0,0)\",\"width\":3},\"type\":\"rect\",\"x0\":\"2020-01-13T00:00:00\",\"x1\":\"2020-01-14T00:00:00\",\"xref\":\"x\",\"y0\":0,\"y1\":1,\"yref\":\"paper\"},{\"fillcolor\":\"rgba(200,0,200,0.2)\",\"layer\":\"below\",\"line\":{\"color\":\"rgba(0,0,0,0)\",\"width\":3},\"type\":\"rect\",\"x0\":\"2020-01-15T00:00:00\",\"x1\":\"2020-01-16T00:00:00\",\"xref\":\"x\",\"y0\":0,\"y1\":1,\"yref\":\"paper\"},{\"fillcolor\":\"rgba(200,0,200,0.2)\",\"layer\":\"below\",\"line\":{\"color\":\"rgba(0,0,0,0)\",\"width\":3},\"type\":\"rect\",\"x0\":\"2020-01-17T00:00:00\",\"x1\":\"2020-01-18T00:00:00\",\"xref\":\"x\",\"y0\":0,\"y1\":1,\"yref\":\"paper\"},{\"fillcolor\":\"rgba(200,0,200,0.2)\",\"layer\":\"below\",\"line\":{\"color\":\"rgba(0,0,0,0)\",\"width\":3},\"type\":\"rect\",\"x0\":\"2020-01-20T00:00:00\",\"x1\":\"2020-01-23T00:00:00\",\"xref\":\"x\",\"y0\":0,\"y1\":1,\"yref\":\"paper\"},{\"fillcolor\":\"rgba(200,0,200,0.2)\",\"layer\":\"below\",\"line\":{\"color\":\"rgba(0,0,0,0)\",\"width\":3},\"type\":\"rect\",\"x0\":\"2020-01-27T00:00:00\",\"x1\":\"2020-01-28T00:00:00\",\"xref\":\"x\",\"y0\":0,\"y1\":1,\"yref\":\"paper\"},{\"fillcolor\":\"rgba(200,0,200,0.2)\",\"layer\":\"below\",\"line\":{\"color\":\"rgba(0,0,0,0)\",\"width\":3},\"type\":\"rect\",\"x0\":\"2020-01-29T00:00:00\",\"x1\":\"2020-01-30T00:00:00\",\"xref\":\"x\",\"y0\":0,\"y1\":1,\"yref\":\"paper\"},{\"fillcolor\":\"rgba(200,0,200,0.2)\",\"layer\":\"below\",\"line\":{\"color\":\"rgba(0,0,0,0)\",\"width\":3},\"type\":\"rect\",\"x0\":\"2020-01-31T00:00:00\",\"x1\":\"2020-02-01T00:00:00\",\"xref\":\"x\",\"y0\":0,\"y1\":1,\"yref\":\"paper\"},{\"fillcolor\":\"rgba(200,0,200,0.2)\",\"layer\":\"below\",\"line\":{\"color\":\"rgba(0,0,0,0)\",\"width\":3},\"type\":\"rect\",\"x0\":\"2020-02-03T00:00:00\",\"x1\":\"2020-02-05T00:00:00\",\"xref\":\"x\",\"y0\":0,\"y1\":1,\"yref\":\"paper\"},{\"fillcolor\":\"rgba(200,0,200,0.2)\",\"layer\":\"below\",\"line\":{\"color\":\"rgba(0,0,0,0)\",\"width\":3},\"type\":\"rect\",\"x0\":\"2020-02-08T00:00:00\",\"x1\":\"2020-02-09T00:00:00\",\"xref\":\"x\",\"y0\":0,\"y1\":1,\"yref\":\"paper\"},{\"fillcolor\":\"rgba(200,0,200,0.2)\",\"layer\":\"below\",\"line\":{\"color\":\"rgba(0,0,0,0)\",\"width\":3},\"type\":\"rect\",\"x0\":\"2020-02-11T00:00:00\",\"x1\":\"2020-02-12T00:00:00\",\"xref\":\"x\",\"y0\":0,\"y1\":1,\"yref\":\"paper\"},{\"fillcolor\":\"rgba(200,0,200,0.2)\",\"layer\":\"below\",\"line\":{\"color\":\"rgba(0,0,0,0)\",\"width\":3},\"type\":\"rect\",\"x0\":\"2020-02-23T00:00:00\",\"x1\":\"2020-02-24T00:00:00\",\"xref\":\"x\",\"y0\":0,\"y1\":1,\"yref\":\"paper\"},{\"fillcolor\":\"rgba(200,0,200,0.2)\",\"layer\":\"below\",\"line\":{\"color\":\"rgba(0,0,0,0)\",\"width\":3},\"type\":\"rect\",\"x0\":\"2020-02-26T00:00:00\",\"x1\":\"2020-02-27T00:00:00\",\"xref\":\"x\",\"y0\":0,\"y1\":1,\"yref\":\"paper\"},{\"fillcolor\":\"rgba(200,0,200,0.2)\",\"layer\":\"below\",\"line\":{\"color\":\"rgba(0,0,0,0)\",\"width\":3},\"type\":\"rect\",\"x0\":\"2020-02-29T00:00:00\",\"x1\":\"2020-03-02T00:00:00\",\"xref\":\"x\",\"y0\":0,\"y1\":1,\"yref\":\"paper\"},{\"fillcolor\":\"rgba(200,0,200,0.2)\",\"layer\":\"below\",\"line\":{\"color\":\"rgba(0,0,0,0)\",\"width\":3},\"type\":\"rect\",\"x0\":\"2020-03-11T00:00:00\",\"x1\":\"2020-03-18T00:00:00\",\"xref\":\"x\",\"y0\":0,\"y1\":1,\"yref\":\"paper\"},{\"fillcolor\":\"rgba(200,0,200,0.2)\",\"layer\":\"below\",\"line\":{\"color\":\"rgba(0,0,0,0)\",\"width\":3},\"type\":\"rect\",\"x0\":\"2020-03-26T00:00:00\",\"x1\":\"2020-03-27T00:00:00\",\"xref\":\"x\",\"y0\":0,\"y1\":1,\"yref\":\"paper\"},{\"fillcolor\":\"rgba(200,0,200,0.2)\",\"layer\":\"below\",\"line\":{\"color\":\"rgba(0,0,0,0)\",\"width\":3},\"type\":\"rect\",\"x0\":\"2020-03-28T00:00:00\",\"x1\":\"2020-03-29T00:00:00\",\"xref\":\"x\",\"y0\":0,\"y1\":1,\"yref\":\"paper\"},{\"fillcolor\":\"rgba(200,0,200,0.2)\",\"layer\":\"below\",\"line\":{\"color\":\"rgba(0,0,0,0)\",\"width\":3},\"type\":\"rect\",\"x0\":\"2020-03-31T00:00:00\",\"x1\":\"2020-04-01T00:00:00\",\"xref\":\"x\",\"y0\":0,\"y1\":1,\"yref\":\"paper\"},{\"fillcolor\":\"rgba(200,0,200,0.2)\",\"layer\":\"below\",\"line\":{\"color\":\"rgba(0,0,0,0)\",\"width\":3},\"type\":\"rect\",\"x0\":\"2020-04-03T00:00:00\",\"x1\":\"2020-04-04T00:00:00\",\"xref\":\"x\",\"y0\":0,\"y1\":1,\"yref\":\"paper\"},{\"fillcolor\":\"rgba(200,0,200,0.2)\",\"layer\":\"below\",\"line\":{\"color\":\"rgba(0,0,0,0)\",\"width\":3},\"type\":\"rect\",\"x0\":\"2020-04-06T00:00:00\",\"x1\":\"2020-04-09T00:00:00\",\"xref\":\"x\",\"y0\":0,\"y1\":1,\"yref\":\"paper\"},{\"fillcolor\":\"rgba(200,0,200,0.2)\",\"layer\":\"below\",\"line\":{\"color\":\"rgba(0,0,0,0)\",\"width\":3},\"type\":\"rect\",\"x0\":\"2020-04-10T00:00:00\",\"x1\":\"2020-04-11T00:00:00\",\"xref\":\"x\",\"y0\":0,\"y1\":1,\"yref\":\"paper\"},{\"fillcolor\":\"rgba(200,0,200,0.2)\",\"layer\":\"below\",\"line\":{\"color\":\"rgba(0,0,0,0)\",\"width\":3},\"type\":\"rect\",\"x0\":\"2020-04-13T00:00:00\",\"x1\":\"2020-04-14T00:00:00\",\"xref\":\"x\",\"y0\":0,\"y1\":1,\"yref\":\"paper\"},{\"fillcolor\":\"rgba(200,0,200,0.2)\",\"layer\":\"below\",\"line\":{\"color\":\"rgba(0,0,0,0)\",\"width\":3},\"type\":\"rect\",\"x0\":\"2019-12-12T00:00:00\",\"x1\":\"2019-12-11T00:00:00\",\"xref\":\"x\",\"y0\":0,\"y1\":1,\"yref\":\"paper\"},{\"fillcolor\":\"rgba(200,0,200,0.2)\",\"layer\":\"below\",\"line\":{\"color\":\"rgba(0,0,0,0)\",\"width\":3},\"type\":\"rect\",\"x0\":\"2019-12-31T00:00:00\",\"x1\":\"2019-12-30T00:00:00\",\"xref\":\"x\",\"y0\":0,\"y1\":1,\"yref\":\"paper\"},{\"fillcolor\":\"rgba(200,0,200,0.2)\",\"layer\":\"below\",\"line\":{\"color\":\"rgba(0,0,0,0)\",\"width\":3},\"type\":\"rect\",\"x0\":\"2020-01-02T00:00:00\",\"x1\":\"2020-01-01T00:00:00\",\"xref\":\"x\",\"y0\":0,\"y1\":1,\"yref\":\"paper\"},{\"fillcolor\":\"rgba(200,0,200,0.2)\",\"layer\":\"below\",\"line\":{\"color\":\"rgba(0,0,0,0)\",\"width\":3},\"type\":\"rect\",\"x0\":\"2020-01-05T00:00:00\",\"x1\":\"2020-01-04T00:00:00\",\"xref\":\"x\",\"y0\":0,\"y1\":1,\"yref\":\"paper\"},{\"fillcolor\":\"rgba(200,0,200,0.2)\",\"layer\":\"below\",\"line\":{\"color\":\"rgba(0,0,0,0)\",\"width\":3},\"type\":\"rect\",\"x0\":\"2020-01-07T00:00:00\",\"x1\":\"2020-01-06T00:00:00\",\"xref\":\"x\",\"y0\":0,\"y1\":1,\"yref\":\"paper\"},{\"fillcolor\":\"rgba(200,0,200,0.2)\",\"layer\":\"below\",\"line\":{\"color\":\"rgba(0,0,0,0)\",\"width\":3},\"type\":\"rect\",\"x0\":\"2020-01-10T00:00:00\",\"x1\":\"2020-01-09T00:00:00\",\"xref\":\"x\",\"y0\":0,\"y1\":1,\"yref\":\"paper\"},{\"fillcolor\":\"rgba(200,0,200,0.2)\",\"layer\":\"below\",\"line\":{\"color\":\"rgba(0,0,0,0)\",\"width\":3},\"type\":\"rect\",\"x0\":\"2020-01-13T00:00:00\",\"x1\":\"2020-01-12T00:00:00\",\"xref\":\"x\",\"y0\":0,\"y1\":1,\"yref\":\"paper\"},{\"fillcolor\":\"rgba(200,0,200,0.2)\",\"layer\":\"below\",\"line\":{\"color\":\"rgba(0,0,0,0)\",\"width\":3},\"type\":\"rect\",\"x0\":\"2020-01-15T00:00:00\",\"x1\":\"2020-01-14T00:00:00\",\"xref\":\"x\",\"y0\":0,\"y1\":1,\"yref\":\"paper\"},{\"fillcolor\":\"rgba(200,0,200,0.2)\",\"layer\":\"below\",\"line\":{\"color\":\"rgba(0,0,0,0)\",\"width\":3},\"type\":\"rect\",\"x0\":\"2020-01-17T00:00:00\",\"x1\":\"2020-01-16T00:00:00\",\"xref\":\"x\",\"y0\":0,\"y1\":1,\"yref\":\"paper\"},{\"fillcolor\":\"rgba(200,0,200,0.2)\",\"layer\":\"below\",\"line\":{\"color\":\"rgba(0,0,0,0)\",\"width\":3},\"type\":\"rect\",\"x0\":\"2020-01-20T00:00:00\",\"x1\":\"2020-01-21T00:00:00\",\"xref\":\"x\",\"y0\":0,\"y1\":1,\"yref\":\"paper\"},{\"fillcolor\":\"rgba(200,0,200,0.2)\",\"layer\":\"below\",\"line\":{\"color\":\"rgba(0,0,0,0)\",\"width\":3},\"type\":\"rect\",\"x0\":\"2020-01-27T00:00:00\",\"x1\":\"2020-01-26T00:00:00\",\"xref\":\"x\",\"y0\":0,\"y1\":1,\"yref\":\"paper\"},{\"fillcolor\":\"rgba(200,0,200,0.2)\",\"layer\":\"below\",\"line\":{\"color\":\"rgba(0,0,0,0)\",\"width\":3},\"type\":\"rect\",\"x0\":\"2020-01-29T00:00:00\",\"x1\":\"2020-01-28T00:00:00\",\"xref\":\"x\",\"y0\":0,\"y1\":1,\"yref\":\"paper\"},{\"fillcolor\":\"rgba(200,0,200,0.2)\",\"layer\":\"below\",\"line\":{\"color\":\"rgba(0,0,0,0)\",\"width\":3},\"type\":\"rect\",\"x0\":\"2020-01-31T00:00:00\",\"x1\":\"2020-01-30T00:00:00\",\"xref\":\"x\",\"y0\":0,\"y1\":1,\"yref\":\"paper\"},{\"fillcolor\":\"rgba(200,0,200,0.2)\",\"layer\":\"below\",\"line\":{\"color\":\"rgba(0,0,0,0)\",\"width\":3},\"type\":\"rect\",\"x0\":\"2020-02-03T00:00:00\",\"x1\":\"2020-02-03T00:00:00\",\"xref\":\"x\",\"y0\":0,\"y1\":1,\"yref\":\"paper\"},{\"fillcolor\":\"rgba(200,0,200,0.2)\",\"layer\":\"below\",\"line\":{\"color\":\"rgba(0,0,0,0)\",\"width\":3},\"type\":\"rect\",\"x0\":\"2020-02-08T00:00:00\",\"x1\":\"2020-02-07T00:00:00\",\"xref\":\"x\",\"y0\":0,\"y1\":1,\"yref\":\"paper\"},{\"fillcolor\":\"rgba(200,0,200,0.2)\",\"layer\":\"below\",\"line\":{\"color\":\"rgba(0,0,0,0)\",\"width\":3},\"type\":\"rect\",\"x0\":\"2020-02-11T00:00:00\",\"x1\":\"2020-02-10T00:00:00\",\"xref\":\"x\",\"y0\":0,\"y1\":1,\"yref\":\"paper\"},{\"fillcolor\":\"rgba(200,0,200,0.2)\",\"layer\":\"below\",\"line\":{\"color\":\"rgba(0,0,0,0)\",\"width\":3},\"type\":\"rect\",\"x0\":\"2020-02-23T00:00:00\",\"x1\":\"2020-02-22T00:00:00\",\"xref\":\"x\",\"y0\":0,\"y1\":1,\"yref\":\"paper\"},{\"fillcolor\":\"rgba(200,0,200,0.2)\",\"layer\":\"below\",\"line\":{\"color\":\"rgba(0,0,0,0)\",\"width\":3},\"type\":\"rect\",\"x0\":\"2020-02-26T00:00:00\",\"x1\":\"2020-02-25T00:00:00\",\"xref\":\"x\",\"y0\":0,\"y1\":1,\"yref\":\"paper\"},{\"fillcolor\":\"rgba(200,0,200,0.2)\",\"layer\":\"below\",\"line\":{\"color\":\"rgba(0,0,0,0)\",\"width\":3},\"type\":\"rect\",\"x0\":\"2020-02-29T00:00:00\",\"x1\":\"2020-02-29T00:00:00\",\"xref\":\"x\",\"y0\":0,\"y1\":1,\"yref\":\"paper\"},{\"fillcolor\":\"rgba(200,0,200,0.2)\",\"layer\":\"below\",\"line\":{\"color\":\"rgba(0,0,0,0)\",\"width\":3},\"type\":\"rect\",\"x0\":\"2020-03-11T00:00:00\",\"x1\":\"2020-03-16T00:00:00\",\"xref\":\"x\",\"y0\":0,\"y1\":1,\"yref\":\"paper\"},{\"fillcolor\":\"rgba(200,0,200,0.2)\",\"layer\":\"below\",\"line\":{\"color\":\"rgba(0,0,0,0)\",\"width\":3},\"type\":\"rect\",\"x0\":\"2020-03-26T00:00:00\",\"x1\":\"2020-03-25T00:00:00\",\"xref\":\"x\",\"y0\":0,\"y1\":1,\"yref\":\"paper\"},{\"fillcolor\":\"rgba(200,0,200,0.2)\",\"layer\":\"below\",\"line\":{\"color\":\"rgba(0,0,0,0)\",\"width\":3},\"type\":\"rect\",\"x0\":\"2020-03-28T00:00:00\",\"x1\":\"2020-03-27T00:00:00\",\"xref\":\"x\",\"y0\":0,\"y1\":1,\"yref\":\"paper\"},{\"fillcolor\":\"rgba(200,0,200,0.2)\",\"layer\":\"below\",\"line\":{\"color\":\"rgba(0,0,0,0)\",\"width\":3},\"type\":\"rect\",\"x0\":\"2020-03-31T00:00:00\",\"x1\":\"2020-03-30T00:00:00\",\"xref\":\"x\",\"y0\":0,\"y1\":1,\"yref\":\"paper\"},{\"fillcolor\":\"rgba(200,0,200,0.2)\",\"layer\":\"below\",\"line\":{\"color\":\"rgba(0,0,0,0)\",\"width\":3},\"type\":\"rect\",\"x0\":\"2020-04-03T00:00:00\",\"x1\":\"2020-04-02T00:00:00\",\"xref\":\"x\",\"y0\":0,\"y1\":1,\"yref\":\"paper\"},{\"fillcolor\":\"rgba(200,0,200,0.2)\",\"layer\":\"below\",\"line\":{\"color\":\"rgba(0,0,0,0)\",\"width\":3},\"type\":\"rect\",\"x0\":\"2020-04-06T00:00:00\",\"x1\":\"2020-04-07T00:00:00\",\"xref\":\"x\",\"y0\":0,\"y1\":1,\"yref\":\"paper\"},{\"fillcolor\":\"rgba(200,0,200,0.2)\",\"layer\":\"below\",\"line\":{\"color\":\"rgba(0,0,0,0)\",\"width\":3},\"type\":\"rect\",\"x0\":\"2020-04-10T00:00:00\",\"x1\":\"2020-04-09T00:00:00\",\"xref\":\"x\",\"y0\":0,\"y1\":1,\"yref\":\"paper\"},{\"fillcolor\":\"rgba(200,0,200,0.2)\",\"layer\":\"below\",\"line\":{\"color\":\"rgba(0,0,0,0)\",\"width\":3},\"type\":\"rect\",\"x0\":\"2020-04-13T00:00:00\",\"x1\":\"2020-04-12T00:00:00\",\"xref\":\"x\",\"y0\":0,\"y1\":1,\"yref\":\"paper\"}]},                        {\"responsive\": true}                    ).then(function(){\n",
       "                            \n",
       "var gd = document.getElementById('1ebf12cd-e73e-42d6-9e94-94322e7d897a');\n",
       "var x = new MutationObserver(function (mutations, observer) {{\n",
       "        var display = window.getComputedStyle(gd).display;\n",
       "        if (!display || display === 'none') {{\n",
       "            console.log([gd, 'removed!']);\n",
       "            Plotly.purge(gd);\n",
       "            observer.disconnect();\n",
       "        }}\n",
       "}});\n",
       "\n",
       "// Listen for the removal of the full notebook cells\n",
       "var notebookContainer = gd.closest('#notebook-container');\n",
       "if (notebookContainer) {{\n",
       "    x.observe(notebookContainer, {childList: true});\n",
       "}}\n",
       "\n",
       "// Listen for the clearing of the current output cell\n",
       "var outputEl = gd.closest('.output');\n",
       "if (outputEl) {{\n",
       "    x.observe(outputEl, {childList: true});\n",
       "}}\n",
       "\n",
       "                        })                };                });            </script>        </div>"
      ]
     },
     "metadata": {},
     "output_type": "display_data"
    }
   ],
   "source": [
    "mask = df_AAPL[\"Timestamp\"].isin(df_time[\"Date\"].unique())\n",
    "\n",
    "df1 = df_AAPL[mask].groupby((~mask).cumsum())['Timestamp'].agg(['first','last'])\n",
    "\n",
    "fillcolor = 'rgba(200,0,200,0.2)'\n",
    "layer = 'below'\n",
    "\n",
    "for index, row in df1.iterrows():\n",
    "        #print(row['first'], row['last'])\n",
    "        lineC.add_shape(type=\"rect\",\n",
    "        xref=\"x\",\n",
    "        yref=\"paper\",\n",
    "        x0=row['first'],\n",
    "        y0=0,\n",
    "        x1=row['last'] - datetime.timedelta(days=1),\n",
    "        y1=1,\n",
    "        line=dict(color=\"rgba(0,0,0,0)\",width=3,),\n",
    "        fillcolor=fillcolor,\n",
    "        layer=layer)\n",
    "\n",
    "lineC.update_layout()\n",
    "\n",
    "lineC.show()"
   ]
  },
  {
   "cell_type": "code",
   "execution_count": 167,
   "id": "3e51296c",
   "metadata": {},
   "outputs": [
    {
     "data": {
      "application/vnd.plotly.v1+json": {
       "config": {
        "plotlyServerURL": "https://plot.ly"
       },
       "data": [
        {
         "hovertemplate": "Timestamp=%{x}<br>SDG_Mean=%{y}<extra></extra>",
         "legendgroup": "",
         "line": {
          "color": "#636efa",
          "dash": "solid"
         },
         "marker": {
          "symbol": "circle"
         },
         "mode": "lines",
         "name": "",
         "orientation": "v",
         "showlegend": false,
         "type": "scatter",
         "x": [
          "2019-12-13T00:00:00",
          "2019-12-14T00:00:00",
          "2019-12-15T00:00:00",
          "2019-12-16T00:00:00",
          "2019-12-17T00:00:00",
          "2019-12-18T00:00:00",
          "2019-12-19T00:00:00",
          "2019-12-20T00:00:00",
          "2019-12-21T00:00:00",
          "2019-12-22T00:00:00",
          "2019-12-23T00:00:00",
          "2019-12-24T00:00:00",
          "2019-12-25T00:00:00",
          "2019-12-26T00:00:00",
          "2019-12-27T00:00:00",
          "2019-12-28T00:00:00",
          "2019-12-29T00:00:00",
          "2019-12-30T00:00:00",
          "2019-12-31T00:00:00",
          "2020-01-01T00:00:00",
          "2020-01-02T00:00:00",
          "2020-01-03T00:00:00",
          "2020-01-04T00:00:00",
          "2020-01-05T00:00:00",
          "2020-01-06T00:00:00",
          "2020-01-07T00:00:00",
          "2020-01-08T00:00:00",
          "2020-01-09T00:00:00",
          "2020-01-10T00:00:00",
          "2020-01-11T00:00:00",
          "2020-01-12T00:00:00",
          "2020-01-13T00:00:00",
          "2020-01-14T00:00:00",
          "2020-01-15T00:00:00",
          "2020-01-16T00:00:00",
          "2020-01-17T00:00:00",
          "2020-01-18T00:00:00",
          "2020-01-19T00:00:00",
          "2020-01-20T00:00:00",
          "2020-01-21T00:00:00",
          "2020-01-22T00:00:00",
          "2020-01-23T00:00:00",
          "2020-01-24T00:00:00",
          "2020-01-25T00:00:00",
          "2020-01-26T00:00:00",
          "2020-01-27T00:00:00",
          "2020-01-28T00:00:00",
          "2020-01-29T00:00:00",
          "2020-01-30T00:00:00",
          "2020-01-31T00:00:00",
          "2020-02-01T00:00:00",
          "2020-02-02T00:00:00",
          "2020-02-03T00:00:00",
          "2020-02-04T00:00:00",
          "2020-02-05T00:00:00",
          "2020-02-06T00:00:00",
          "2020-02-07T00:00:00",
          "2020-02-08T00:00:00",
          "2020-02-09T00:00:00",
          "2020-02-10T00:00:00",
          "2020-02-11T00:00:00",
          "2020-02-12T00:00:00",
          "2020-02-13T00:00:00",
          "2020-02-14T00:00:00",
          "2020-02-15T00:00:00",
          "2020-02-16T00:00:00",
          "2020-02-17T00:00:00",
          "2020-02-18T00:00:00",
          "2020-02-19T00:00:00",
          "2020-02-20T00:00:00",
          "2020-02-21T00:00:00",
          "2020-02-22T00:00:00",
          "2020-02-23T00:00:00",
          "2020-02-24T00:00:00",
          "2020-02-25T00:00:00",
          "2020-02-26T00:00:00",
          "2020-02-27T00:00:00",
          "2020-02-28T00:00:00",
          "2020-02-29T00:00:00",
          "2020-03-01T00:00:00",
          "2020-03-02T00:00:00",
          "2020-03-03T00:00:00",
          "2020-03-04T00:00:00",
          "2020-03-05T00:00:00",
          "2020-03-06T00:00:00",
          "2020-03-07T00:00:00",
          "2020-03-08T00:00:00",
          "2020-03-09T00:00:00",
          "2020-03-10T00:00:00",
          "2020-03-11T00:00:00",
          "2020-03-12T00:00:00",
          "2020-03-13T00:00:00",
          "2020-03-14T00:00:00",
          "2020-03-15T00:00:00",
          "2020-03-16T00:00:00",
          "2020-03-17T00:00:00",
          "2020-03-18T00:00:00",
          "2020-03-19T00:00:00",
          "2020-03-20T00:00:00",
          "2020-03-21T00:00:00",
          "2020-03-22T00:00:00",
          "2020-03-23T00:00:00",
          "2020-03-24T00:00:00",
          "2020-03-25T00:00:00",
          "2020-03-26T00:00:00",
          "2020-03-27T00:00:00",
          "2020-03-28T00:00:00",
          "2020-03-29T00:00:00",
          "2020-03-30T00:00:00",
          "2020-03-31T00:00:00",
          "2020-04-01T00:00:00",
          "2020-04-02T00:00:00",
          "2020-04-03T00:00:00",
          "2020-04-04T00:00:00",
          "2020-04-05T00:00:00",
          "2020-04-06T00:00:00",
          "2020-04-07T00:00:00",
          "2020-04-08T00:00:00",
          "2020-04-09T00:00:00",
          "2020-04-10T00:00:00",
          "2020-04-11T00:00:00",
          "2020-04-12T00:00:00",
          "2020-04-13T00:00:00",
          "2020-04-14T00:00:00",
          "2020-04-15T00:00:00",
          "2020-04-16T00:00:00",
          "2020-04-17T00:00:00",
          "2020-04-18T00:00:00",
          "2020-04-19T00:00:00",
          "2020-04-20T00:00:00",
          "2020-04-21T00:00:00",
          "2020-04-22T00:00:00"
         ],
         "xaxis": "x",
         "y": [
          -0.7489824809705259,
          -1.2006953150392663,
          -0.3065748007496126,
          -0.3306034046829057,
          -2.1666719063957185,
          -0.3899659993989813,
          -0.3101971974471395,
          -0.3295110410760401,
          -1.3830484721204446,
          0.2407102098137995,
          -0.0109193486687081,
          0.2667799813577111,
          0.3297187414388332,
          1.2090511450413697,
          0.4683791986152893,
          -0.4906464531968068,
          0.6659128706645265,
          0.2311723187717619,
          -0.4789144621020233,
          0.4939862172449096,
          0.024309714334426,
          -0.4576993450350839,
          0.1726475816854711,
          -0.6333089293487852,
          0.0401884342939516,
          -0.4961175134518445,
          -1.0332871167056434,
          -1.192837228361178,
          -0.9519155808188136,
          -0.2281835615545099,
          -0.946256434993386,
          -1.203672198001143,
          -1.2339893086359126,
          -0.8210251785109086,
          0.464089254575267,
          0.1787679846958377,
          0.0188489641552481,
          0.2037709187590408,
          -0.8612331351066281,
          -1.418765558786993,
          -0.6250526958340413,
          -0.4377125481325074,
          -0.7689583891858824,
          -1.2823201308175225,
          -0.3462142454093194,
          -1.0663763805109567,
          -1.5763918220479356,
          -0.735036166162239,
          -1.188285225015459,
          -1.7533460931125786,
          -4.037384704213647,
          -4.063214361288178,
          -2.2203427328954213,
          -1.1282784165923574,
          -1.4602467291547383,
          -0.5620084644241301,
          -1.9397477789683488,
          -5.176698363851587,
          -3.7203691310149294,
          -2.2625942576163744,
          -0.2837370781920779,
          -0.6752951749190572,
          -1.3889022367396149,
          -1.713281368317238,
          -1.7819926357774103,
          -2.2396010644194946,
          -1.5873722023279682,
          -3.5631615568703814,
          -2.6976219557628944,
          -2.157776018978719,
          -2.3676020117778327,
          -1.4225954255803062,
          -0.5818655220426303,
          -1.513906027253466,
          -2.2695064750392606,
          -2.128098934669953,
          -1.6408843345644135,
          -2.181383627448473,
          -1.2959268059272782,
          -2.9840616078755664,
          -1.96617156030687,
          -1.4335631115860734,
          -0.5445123786165031,
          -1.6505423995532031,
          -1.4706800205339603,
          -2.542315089487835,
          -2.280619139411451,
          -4.591191584578435,
          -2.9189696648249672,
          -1.7405580168496402,
          -0.909106968158792,
          -1.8661265206624669,
          -2.4910949391694794,
          -2.7963378267895846,
          -2.760711234952113,
          -3.032348172947723,
          -2.9598268827895264,
          -0.9157880492913626,
          -2.5373871191431903,
          -2.9448852529409595,
          -2.3057312305632194,
          -1.1574051276826818,
          -1.2087692451905103,
          -1.5508351795206985,
          -1.4512301308056346,
          -0.8469091511325556,
          -1.7488415938371864,
          -2.1927541529144743,
          -2.3005539005063347,
          -0.7792376056992006,
          -1.921800145152984,
          -1.8780397110011984,
          -2.9636002224426985,
          -1.6400752639168676,
          -0.7196644290858917,
          -1.382903377647059,
          -1.330003963193206,
          -1.6212281649766729,
          -1.0143467821648036,
          -0.6059395952983541,
          -1.4263633594819856,
          -1.3389820907006291,
          -0.4490061393739218,
          -1.1486739490572089,
          -1.6648163611886695,
          -1.599243612453558,
          -1.032596202958734,
          -1.8731294869212511,
          -1.2859595934527852,
          -0.5529641988959261,
          -0.2037642160380741,
          -0.9550063518020636
         ],
         "yaxis": "y"
        }
       ],
       "layout": {
        "legend": {
         "tracegroupgap": 0
        },
        "template": {
         "data": {
          "bar": [
           {
            "error_x": {
             "color": "#2a3f5f"
            },
            "error_y": {
             "color": "#2a3f5f"
            },
            "marker": {
             "line": {
              "color": "#E5ECF6",
              "width": 0.5
             },
             "pattern": {
              "fillmode": "overlay",
              "size": 10,
              "solidity": 0.2
             }
            },
            "type": "bar"
           }
          ],
          "barpolar": [
           {
            "marker": {
             "line": {
              "color": "#E5ECF6",
              "width": 0.5
             },
             "pattern": {
              "fillmode": "overlay",
              "size": 10,
              "solidity": 0.2
             }
            },
            "type": "barpolar"
           }
          ],
          "carpet": [
           {
            "aaxis": {
             "endlinecolor": "#2a3f5f",
             "gridcolor": "white",
             "linecolor": "white",
             "minorgridcolor": "white",
             "startlinecolor": "#2a3f5f"
            },
            "baxis": {
             "endlinecolor": "#2a3f5f",
             "gridcolor": "white",
             "linecolor": "white",
             "minorgridcolor": "white",
             "startlinecolor": "#2a3f5f"
            },
            "type": "carpet"
           }
          ],
          "choropleth": [
           {
            "colorbar": {
             "outlinewidth": 0,
             "ticks": ""
            },
            "type": "choropleth"
           }
          ],
          "contour": [
           {
            "colorbar": {
             "outlinewidth": 0,
             "ticks": ""
            },
            "colorscale": [
             [
              0,
              "#0d0887"
             ],
             [
              0.1111111111111111,
              "#46039f"
             ],
             [
              0.2222222222222222,
              "#7201a8"
             ],
             [
              0.3333333333333333,
              "#9c179e"
             ],
             [
              0.4444444444444444,
              "#bd3786"
             ],
             [
              0.5555555555555556,
              "#d8576b"
             ],
             [
              0.6666666666666666,
              "#ed7953"
             ],
             [
              0.7777777777777778,
              "#fb9f3a"
             ],
             [
              0.8888888888888888,
              "#fdca26"
             ],
             [
              1,
              "#f0f921"
             ]
            ],
            "type": "contour"
           }
          ],
          "contourcarpet": [
           {
            "colorbar": {
             "outlinewidth": 0,
             "ticks": ""
            },
            "type": "contourcarpet"
           }
          ],
          "heatmap": [
           {
            "colorbar": {
             "outlinewidth": 0,
             "ticks": ""
            },
            "colorscale": [
             [
              0,
              "#0d0887"
             ],
             [
              0.1111111111111111,
              "#46039f"
             ],
             [
              0.2222222222222222,
              "#7201a8"
             ],
             [
              0.3333333333333333,
              "#9c179e"
             ],
             [
              0.4444444444444444,
              "#bd3786"
             ],
             [
              0.5555555555555556,
              "#d8576b"
             ],
             [
              0.6666666666666666,
              "#ed7953"
             ],
             [
              0.7777777777777778,
              "#fb9f3a"
             ],
             [
              0.8888888888888888,
              "#fdca26"
             ],
             [
              1,
              "#f0f921"
             ]
            ],
            "type": "heatmap"
           }
          ],
          "heatmapgl": [
           {
            "colorbar": {
             "outlinewidth": 0,
             "ticks": ""
            },
            "colorscale": [
             [
              0,
              "#0d0887"
             ],
             [
              0.1111111111111111,
              "#46039f"
             ],
             [
              0.2222222222222222,
              "#7201a8"
             ],
             [
              0.3333333333333333,
              "#9c179e"
             ],
             [
              0.4444444444444444,
              "#bd3786"
             ],
             [
              0.5555555555555556,
              "#d8576b"
             ],
             [
              0.6666666666666666,
              "#ed7953"
             ],
             [
              0.7777777777777778,
              "#fb9f3a"
             ],
             [
              0.8888888888888888,
              "#fdca26"
             ],
             [
              1,
              "#f0f921"
             ]
            ],
            "type": "heatmapgl"
           }
          ],
          "histogram": [
           {
            "marker": {
             "pattern": {
              "fillmode": "overlay",
              "size": 10,
              "solidity": 0.2
             }
            },
            "type": "histogram"
           }
          ],
          "histogram2d": [
           {
            "colorbar": {
             "outlinewidth": 0,
             "ticks": ""
            },
            "colorscale": [
             [
              0,
              "#0d0887"
             ],
             [
              0.1111111111111111,
              "#46039f"
             ],
             [
              0.2222222222222222,
              "#7201a8"
             ],
             [
              0.3333333333333333,
              "#9c179e"
             ],
             [
              0.4444444444444444,
              "#bd3786"
             ],
             [
              0.5555555555555556,
              "#d8576b"
             ],
             [
              0.6666666666666666,
              "#ed7953"
             ],
             [
              0.7777777777777778,
              "#fb9f3a"
             ],
             [
              0.8888888888888888,
              "#fdca26"
             ],
             [
              1,
              "#f0f921"
             ]
            ],
            "type": "histogram2d"
           }
          ],
          "histogram2dcontour": [
           {
            "colorbar": {
             "outlinewidth": 0,
             "ticks": ""
            },
            "colorscale": [
             [
              0,
              "#0d0887"
             ],
             [
              0.1111111111111111,
              "#46039f"
             ],
             [
              0.2222222222222222,
              "#7201a8"
             ],
             [
              0.3333333333333333,
              "#9c179e"
             ],
             [
              0.4444444444444444,
              "#bd3786"
             ],
             [
              0.5555555555555556,
              "#d8576b"
             ],
             [
              0.6666666666666666,
              "#ed7953"
             ],
             [
              0.7777777777777778,
              "#fb9f3a"
             ],
             [
              0.8888888888888888,
              "#fdca26"
             ],
             [
              1,
              "#f0f921"
             ]
            ],
            "type": "histogram2dcontour"
           }
          ],
          "mesh3d": [
           {
            "colorbar": {
             "outlinewidth": 0,
             "ticks": ""
            },
            "type": "mesh3d"
           }
          ],
          "parcoords": [
           {
            "line": {
             "colorbar": {
              "outlinewidth": 0,
              "ticks": ""
             }
            },
            "type": "parcoords"
           }
          ],
          "pie": [
           {
            "automargin": true,
            "type": "pie"
           }
          ],
          "scatter": [
           {
            "fillpattern": {
             "fillmode": "overlay",
             "size": 10,
             "solidity": 0.2
            },
            "type": "scatter"
           }
          ],
          "scatter3d": [
           {
            "line": {
             "colorbar": {
              "outlinewidth": 0,
              "ticks": ""
             }
            },
            "marker": {
             "colorbar": {
              "outlinewidth": 0,
              "ticks": ""
             }
            },
            "type": "scatter3d"
           }
          ],
          "scattercarpet": [
           {
            "marker": {
             "colorbar": {
              "outlinewidth": 0,
              "ticks": ""
             }
            },
            "type": "scattercarpet"
           }
          ],
          "scattergeo": [
           {
            "marker": {
             "colorbar": {
              "outlinewidth": 0,
              "ticks": ""
             }
            },
            "type": "scattergeo"
           }
          ],
          "scattergl": [
           {
            "marker": {
             "colorbar": {
              "outlinewidth": 0,
              "ticks": ""
             }
            },
            "type": "scattergl"
           }
          ],
          "scattermapbox": [
           {
            "marker": {
             "colorbar": {
              "outlinewidth": 0,
              "ticks": ""
             }
            },
            "type": "scattermapbox"
           }
          ],
          "scatterpolar": [
           {
            "marker": {
             "colorbar": {
              "outlinewidth": 0,
              "ticks": ""
             }
            },
            "type": "scatterpolar"
           }
          ],
          "scatterpolargl": [
           {
            "marker": {
             "colorbar": {
              "outlinewidth": 0,
              "ticks": ""
             }
            },
            "type": "scatterpolargl"
           }
          ],
          "scatterternary": [
           {
            "marker": {
             "colorbar": {
              "outlinewidth": 0,
              "ticks": ""
             }
            },
            "type": "scatterternary"
           }
          ],
          "surface": [
           {
            "colorbar": {
             "outlinewidth": 0,
             "ticks": ""
            },
            "colorscale": [
             [
              0,
              "#0d0887"
             ],
             [
              0.1111111111111111,
              "#46039f"
             ],
             [
              0.2222222222222222,
              "#7201a8"
             ],
             [
              0.3333333333333333,
              "#9c179e"
             ],
             [
              0.4444444444444444,
              "#bd3786"
             ],
             [
              0.5555555555555556,
              "#d8576b"
             ],
             [
              0.6666666666666666,
              "#ed7953"
             ],
             [
              0.7777777777777778,
              "#fb9f3a"
             ],
             [
              0.8888888888888888,
              "#fdca26"
             ],
             [
              1,
              "#f0f921"
             ]
            ],
            "type": "surface"
           }
          ],
          "table": [
           {
            "cells": {
             "fill": {
              "color": "#EBF0F8"
             },
             "line": {
              "color": "white"
             }
            },
            "header": {
             "fill": {
              "color": "#C8D4E3"
             },
             "line": {
              "color": "white"
             }
            },
            "type": "table"
           }
          ]
         },
         "layout": {
          "annotationdefaults": {
           "arrowcolor": "#2a3f5f",
           "arrowhead": 0,
           "arrowwidth": 1
          },
          "autotypenumbers": "strict",
          "coloraxis": {
           "colorbar": {
            "outlinewidth": 0,
            "ticks": ""
           }
          },
          "colorscale": {
           "diverging": [
            [
             0,
             "#8e0152"
            ],
            [
             0.1,
             "#c51b7d"
            ],
            [
             0.2,
             "#de77ae"
            ],
            [
             0.3,
             "#f1b6da"
            ],
            [
             0.4,
             "#fde0ef"
            ],
            [
             0.5,
             "#f7f7f7"
            ],
            [
             0.6,
             "#e6f5d0"
            ],
            [
             0.7,
             "#b8e186"
            ],
            [
             0.8,
             "#7fbc41"
            ],
            [
             0.9,
             "#4d9221"
            ],
            [
             1,
             "#276419"
            ]
           ],
           "sequential": [
            [
             0,
             "#0d0887"
            ],
            [
             0.1111111111111111,
             "#46039f"
            ],
            [
             0.2222222222222222,
             "#7201a8"
            ],
            [
             0.3333333333333333,
             "#9c179e"
            ],
            [
             0.4444444444444444,
             "#bd3786"
            ],
            [
             0.5555555555555556,
             "#d8576b"
            ],
            [
             0.6666666666666666,
             "#ed7953"
            ],
            [
             0.7777777777777778,
             "#fb9f3a"
            ],
            [
             0.8888888888888888,
             "#fdca26"
            ],
            [
             1,
             "#f0f921"
            ]
           ],
           "sequentialminus": [
            [
             0,
             "#0d0887"
            ],
            [
             0.1111111111111111,
             "#46039f"
            ],
            [
             0.2222222222222222,
             "#7201a8"
            ],
            [
             0.3333333333333333,
             "#9c179e"
            ],
            [
             0.4444444444444444,
             "#bd3786"
            ],
            [
             0.5555555555555556,
             "#d8576b"
            ],
            [
             0.6666666666666666,
             "#ed7953"
            ],
            [
             0.7777777777777778,
             "#fb9f3a"
            ],
            [
             0.8888888888888888,
             "#fdca26"
            ],
            [
             1,
             "#f0f921"
            ]
           ]
          },
          "colorway": [
           "#636efa",
           "#EF553B",
           "#00cc96",
           "#ab63fa",
           "#FFA15A",
           "#19d3f3",
           "#FF6692",
           "#B6E880",
           "#FF97FF",
           "#FECB52"
          ],
          "font": {
           "color": "#2a3f5f"
          },
          "geo": {
           "bgcolor": "white",
           "lakecolor": "white",
           "landcolor": "#E5ECF6",
           "showlakes": true,
           "showland": true,
           "subunitcolor": "white"
          },
          "hoverlabel": {
           "align": "left"
          },
          "hovermode": "closest",
          "mapbox": {
           "style": "light"
          },
          "paper_bgcolor": "white",
          "plot_bgcolor": "#E5ECF6",
          "polar": {
           "angularaxis": {
            "gridcolor": "white",
            "linecolor": "white",
            "ticks": ""
           },
           "bgcolor": "#E5ECF6",
           "radialaxis": {
            "gridcolor": "white",
            "linecolor": "white",
            "ticks": ""
           }
          },
          "scene": {
           "xaxis": {
            "backgroundcolor": "#E5ECF6",
            "gridcolor": "white",
            "gridwidth": 2,
            "linecolor": "white",
            "showbackground": true,
            "ticks": "",
            "zerolinecolor": "white"
           },
           "yaxis": {
            "backgroundcolor": "#E5ECF6",
            "gridcolor": "white",
            "gridwidth": 2,
            "linecolor": "white",
            "showbackground": true,
            "ticks": "",
            "zerolinecolor": "white"
           },
           "zaxis": {
            "backgroundcolor": "#E5ECF6",
            "gridcolor": "white",
            "gridwidth": 2,
            "linecolor": "white",
            "showbackground": true,
            "ticks": "",
            "zerolinecolor": "white"
           }
          },
          "shapedefaults": {
           "line": {
            "color": "#2a3f5f"
           }
          },
          "ternary": {
           "aaxis": {
            "gridcolor": "white",
            "linecolor": "white",
            "ticks": ""
           },
           "baxis": {
            "gridcolor": "white",
            "linecolor": "white",
            "ticks": ""
           },
           "bgcolor": "#E5ECF6",
           "caxis": {
            "gridcolor": "white",
            "linecolor": "white",
            "ticks": ""
           }
          },
          "title": {
           "x": 0.05
          },
          "xaxis": {
           "automargin": true,
           "gridcolor": "white",
           "linecolor": "white",
           "ticks": "",
           "title": {
            "standoff": 15
           },
           "zerolinecolor": "white",
           "zerolinewidth": 2
          },
          "yaxis": {
           "automargin": true,
           "gridcolor": "white",
           "linecolor": "white",
           "ticks": "",
           "title": {
            "standoff": 15
           },
           "zerolinecolor": "white",
           "zerolinewidth": 2
          }
         }
        },
        "title": {
         "text": "Time Series Line Chart"
        },
        "xaxis": {
         "anchor": "y",
         "domain": [
          0,
          1
         ],
         "title": {
          "text": "Timestamp"
         }
        },
        "yaxis": {
         "anchor": "x",
         "domain": [
          0,
          1
         ],
         "title": {
          "text": "SDG_Mean"
         }
        }
       }
      },
      "text/html": [
       "<div>                            <div id=\"a6795074-39d1-4623-b3f2-63d4fcdbd79a\" class=\"plotly-graph-div\" style=\"height:525px; width:100%;\"></div>            <script type=\"text/javascript\">                require([\"plotly\"], function(Plotly) {                    window.PLOTLYENV=window.PLOTLYENV || {};                                    if (document.getElementById(\"a6795074-39d1-4623-b3f2-63d4fcdbd79a\")) {                    Plotly.newPlot(                        \"a6795074-39d1-4623-b3f2-63d4fcdbd79a\",                        [{\"hovertemplate\":\"Timestamp=%{x}<br>SDG_Mean=%{y}<extra></extra>\",\"legendgroup\":\"\",\"line\":{\"color\":\"#636efa\",\"dash\":\"solid\"},\"marker\":{\"symbol\":\"circle\"},\"mode\":\"lines\",\"name\":\"\",\"orientation\":\"v\",\"showlegend\":false,\"x\":[\"2019-12-13T00:00:00\",\"2019-12-14T00:00:00\",\"2019-12-15T00:00:00\",\"2019-12-16T00:00:00\",\"2019-12-17T00:00:00\",\"2019-12-18T00:00:00\",\"2019-12-19T00:00:00\",\"2019-12-20T00:00:00\",\"2019-12-21T00:00:00\",\"2019-12-22T00:00:00\",\"2019-12-23T00:00:00\",\"2019-12-24T00:00:00\",\"2019-12-25T00:00:00\",\"2019-12-26T00:00:00\",\"2019-12-27T00:00:00\",\"2019-12-28T00:00:00\",\"2019-12-29T00:00:00\",\"2019-12-30T00:00:00\",\"2019-12-31T00:00:00\",\"2020-01-01T00:00:00\",\"2020-01-02T00:00:00\",\"2020-01-03T00:00:00\",\"2020-01-04T00:00:00\",\"2020-01-05T00:00:00\",\"2020-01-06T00:00:00\",\"2020-01-07T00:00:00\",\"2020-01-08T00:00:00\",\"2020-01-09T00:00:00\",\"2020-01-10T00:00:00\",\"2020-01-11T00:00:00\",\"2020-01-12T00:00:00\",\"2020-01-13T00:00:00\",\"2020-01-14T00:00:00\",\"2020-01-15T00:00:00\",\"2020-01-16T00:00:00\",\"2020-01-17T00:00:00\",\"2020-01-18T00:00:00\",\"2020-01-19T00:00:00\",\"2020-01-20T00:00:00\",\"2020-01-21T00:00:00\",\"2020-01-22T00:00:00\",\"2020-01-23T00:00:00\",\"2020-01-24T00:00:00\",\"2020-01-25T00:00:00\",\"2020-01-26T00:00:00\",\"2020-01-27T00:00:00\",\"2020-01-28T00:00:00\",\"2020-01-29T00:00:00\",\"2020-01-30T00:00:00\",\"2020-01-31T00:00:00\",\"2020-02-01T00:00:00\",\"2020-02-02T00:00:00\",\"2020-02-03T00:00:00\",\"2020-02-04T00:00:00\",\"2020-02-05T00:00:00\",\"2020-02-06T00:00:00\",\"2020-02-07T00:00:00\",\"2020-02-08T00:00:00\",\"2020-02-09T00:00:00\",\"2020-02-10T00:00:00\",\"2020-02-11T00:00:00\",\"2020-02-12T00:00:00\",\"2020-02-13T00:00:00\",\"2020-02-14T00:00:00\",\"2020-02-15T00:00:00\",\"2020-02-16T00:00:00\",\"2020-02-17T00:00:00\",\"2020-02-18T00:00:00\",\"2020-02-19T00:00:00\",\"2020-02-20T00:00:00\",\"2020-02-21T00:00:00\",\"2020-02-22T00:00:00\",\"2020-02-23T00:00:00\",\"2020-02-24T00:00:00\",\"2020-02-25T00:00:00\",\"2020-02-26T00:00:00\",\"2020-02-27T00:00:00\",\"2020-02-28T00:00:00\",\"2020-02-29T00:00:00\",\"2020-03-01T00:00:00\",\"2020-03-02T00:00:00\",\"2020-03-03T00:00:00\",\"2020-03-04T00:00:00\",\"2020-03-05T00:00:00\",\"2020-03-06T00:00:00\",\"2020-03-07T00:00:00\",\"2020-03-08T00:00:00\",\"2020-03-09T00:00:00\",\"2020-03-10T00:00:00\",\"2020-03-11T00:00:00\",\"2020-03-12T00:00:00\",\"2020-03-13T00:00:00\",\"2020-03-14T00:00:00\",\"2020-03-15T00:00:00\",\"2020-03-16T00:00:00\",\"2020-03-17T00:00:00\",\"2020-03-18T00:00:00\",\"2020-03-19T00:00:00\",\"2020-03-20T00:00:00\",\"2020-03-21T00:00:00\",\"2020-03-22T00:00:00\",\"2020-03-23T00:00:00\",\"2020-03-24T00:00:00\",\"2020-03-25T00:00:00\",\"2020-03-26T00:00:00\",\"2020-03-27T00:00:00\",\"2020-03-28T00:00:00\",\"2020-03-29T00:00:00\",\"2020-03-30T00:00:00\",\"2020-03-31T00:00:00\",\"2020-04-01T00:00:00\",\"2020-04-02T00:00:00\",\"2020-04-03T00:00:00\",\"2020-04-04T00:00:00\",\"2020-04-05T00:00:00\",\"2020-04-06T00:00:00\",\"2020-04-07T00:00:00\",\"2020-04-08T00:00:00\",\"2020-04-09T00:00:00\",\"2020-04-10T00:00:00\",\"2020-04-11T00:00:00\",\"2020-04-12T00:00:00\",\"2020-04-13T00:00:00\",\"2020-04-14T00:00:00\",\"2020-04-15T00:00:00\",\"2020-04-16T00:00:00\",\"2020-04-17T00:00:00\",\"2020-04-18T00:00:00\",\"2020-04-19T00:00:00\",\"2020-04-20T00:00:00\",\"2020-04-21T00:00:00\",\"2020-04-22T00:00:00\"],\"xaxis\":\"x\",\"y\":[-0.7489824809705259,-1.2006953150392663,-0.3065748007496126,-0.3306034046829057,-2.1666719063957185,-0.3899659993989813,-0.3101971974471395,-0.3295110410760401,-1.3830484721204446,0.2407102098137995,-0.0109193486687081,0.2667799813577111,0.3297187414388332,1.2090511450413697,0.4683791986152893,-0.4906464531968068,0.6659128706645265,0.2311723187717619,-0.4789144621020233,0.4939862172449096,0.024309714334426,-0.4576993450350839,0.1726475816854711,-0.6333089293487852,0.0401884342939516,-0.4961175134518445,-1.0332871167056434,-1.192837228361178,-0.9519155808188136,-0.2281835615545099,-0.946256434993386,-1.203672198001143,-1.2339893086359126,-0.8210251785109086,0.464089254575267,0.1787679846958377,0.0188489641552481,0.2037709187590408,-0.8612331351066281,-1.418765558786993,-0.6250526958340413,-0.4377125481325074,-0.7689583891858824,-1.2823201308175225,-0.3462142454093194,-1.0663763805109567,-1.5763918220479356,-0.735036166162239,-1.188285225015459,-1.7533460931125786,-4.037384704213647,-4.063214361288178,-2.2203427328954213,-1.1282784165923574,-1.4602467291547383,-0.5620084644241301,-1.9397477789683488,-5.176698363851587,-3.7203691310149294,-2.2625942576163744,-0.2837370781920779,-0.6752951749190572,-1.3889022367396149,-1.713281368317238,-1.7819926357774103,-2.2396010644194946,-1.5873722023279682,-3.5631615568703814,-2.6976219557628944,-2.157776018978719,-2.3676020117778327,-1.4225954255803062,-0.5818655220426303,-1.513906027253466,-2.2695064750392606,-2.128098934669953,-1.6408843345644135,-2.181383627448473,-1.2959268059272782,-2.9840616078755664,-1.96617156030687,-1.4335631115860734,-0.5445123786165031,-1.6505423995532031,-1.4706800205339603,-2.542315089487835,-2.280619139411451,-4.591191584578435,-2.9189696648249672,-1.7405580168496402,-0.909106968158792,-1.8661265206624669,-2.4910949391694794,-2.7963378267895846,-2.760711234952113,-3.032348172947723,-2.9598268827895264,-0.9157880492913626,-2.5373871191431903,-2.9448852529409595,-2.3057312305632194,-1.1574051276826818,-1.2087692451905103,-1.5508351795206985,-1.4512301308056346,-0.8469091511325556,-1.7488415938371864,-2.1927541529144743,-2.3005539005063347,-0.7792376056992006,-1.921800145152984,-1.8780397110011984,-2.9636002224426985,-1.6400752639168676,-0.7196644290858917,-1.382903377647059,-1.330003963193206,-1.6212281649766729,-1.0143467821648036,-0.6059395952983541,-1.4263633594819856,-1.3389820907006291,-0.4490061393739218,-1.1486739490572089,-1.6648163611886695,-1.599243612453558,-1.032596202958734,-1.8731294869212511,-1.2859595934527852,-0.5529641988959261,-0.2037642160380741,-0.9550063518020636],\"yaxis\":\"y\",\"type\":\"scatter\"}],                        {\"template\":{\"data\":{\"histogram2dcontour\":[{\"type\":\"histogram2dcontour\",\"colorbar\":{\"outlinewidth\":0,\"ticks\":\"\"},\"colorscale\":[[0.0,\"#0d0887\"],[0.1111111111111111,\"#46039f\"],[0.2222222222222222,\"#7201a8\"],[0.3333333333333333,\"#9c179e\"],[0.4444444444444444,\"#bd3786\"],[0.5555555555555556,\"#d8576b\"],[0.6666666666666666,\"#ed7953\"],[0.7777777777777778,\"#fb9f3a\"],[0.8888888888888888,\"#fdca26\"],[1.0,\"#f0f921\"]]}],\"choropleth\":[{\"type\":\"choropleth\",\"colorbar\":{\"outlinewidth\":0,\"ticks\":\"\"}}],\"histogram2d\":[{\"type\":\"histogram2d\",\"colorbar\":{\"outlinewidth\":0,\"ticks\":\"\"},\"colorscale\":[[0.0,\"#0d0887\"],[0.1111111111111111,\"#46039f\"],[0.2222222222222222,\"#7201a8\"],[0.3333333333333333,\"#9c179e\"],[0.4444444444444444,\"#bd3786\"],[0.5555555555555556,\"#d8576b\"],[0.6666666666666666,\"#ed7953\"],[0.7777777777777778,\"#fb9f3a\"],[0.8888888888888888,\"#fdca26\"],[1.0,\"#f0f921\"]]}],\"heatmap\":[{\"type\":\"heatmap\",\"colorbar\":{\"outlinewidth\":0,\"ticks\":\"\"},\"colorscale\":[[0.0,\"#0d0887\"],[0.1111111111111111,\"#46039f\"],[0.2222222222222222,\"#7201a8\"],[0.3333333333333333,\"#9c179e\"],[0.4444444444444444,\"#bd3786\"],[0.5555555555555556,\"#d8576b\"],[0.6666666666666666,\"#ed7953\"],[0.7777777777777778,\"#fb9f3a\"],[0.8888888888888888,\"#fdca26\"],[1.0,\"#f0f921\"]]}],\"heatmapgl\":[{\"type\":\"heatmapgl\",\"colorbar\":{\"outlinewidth\":0,\"ticks\":\"\"},\"colorscale\":[[0.0,\"#0d0887\"],[0.1111111111111111,\"#46039f\"],[0.2222222222222222,\"#7201a8\"],[0.3333333333333333,\"#9c179e\"],[0.4444444444444444,\"#bd3786\"],[0.5555555555555556,\"#d8576b\"],[0.6666666666666666,\"#ed7953\"],[0.7777777777777778,\"#fb9f3a\"],[0.8888888888888888,\"#fdca26\"],[1.0,\"#f0f921\"]]}],\"contourcarpet\":[{\"type\":\"contourcarpet\",\"colorbar\":{\"outlinewidth\":0,\"ticks\":\"\"}}],\"contour\":[{\"type\":\"contour\",\"colorbar\":{\"outlinewidth\":0,\"ticks\":\"\"},\"colorscale\":[[0.0,\"#0d0887\"],[0.1111111111111111,\"#46039f\"],[0.2222222222222222,\"#7201a8\"],[0.3333333333333333,\"#9c179e\"],[0.4444444444444444,\"#bd3786\"],[0.5555555555555556,\"#d8576b\"],[0.6666666666666666,\"#ed7953\"],[0.7777777777777778,\"#fb9f3a\"],[0.8888888888888888,\"#fdca26\"],[1.0,\"#f0f921\"]]}],\"surface\":[{\"type\":\"surface\",\"colorbar\":{\"outlinewidth\":0,\"ticks\":\"\"},\"colorscale\":[[0.0,\"#0d0887\"],[0.1111111111111111,\"#46039f\"],[0.2222222222222222,\"#7201a8\"],[0.3333333333333333,\"#9c179e\"],[0.4444444444444444,\"#bd3786\"],[0.5555555555555556,\"#d8576b\"],[0.6666666666666666,\"#ed7953\"],[0.7777777777777778,\"#fb9f3a\"],[0.8888888888888888,\"#fdca26\"],[1.0,\"#f0f921\"]]}],\"mesh3d\":[{\"type\":\"mesh3d\",\"colorbar\":{\"outlinewidth\":0,\"ticks\":\"\"}}],\"scatter\":[{\"fillpattern\":{\"fillmode\":\"overlay\",\"size\":10,\"solidity\":0.2},\"type\":\"scatter\"}],\"parcoords\":[{\"type\":\"parcoords\",\"line\":{\"colorbar\":{\"outlinewidth\":0,\"ticks\":\"\"}}}],\"scatterpolargl\":[{\"type\":\"scatterpolargl\",\"marker\":{\"colorbar\":{\"outlinewidth\":0,\"ticks\":\"\"}}}],\"bar\":[{\"error_x\":{\"color\":\"#2a3f5f\"},\"error_y\":{\"color\":\"#2a3f5f\"},\"marker\":{\"line\":{\"color\":\"#E5ECF6\",\"width\":0.5},\"pattern\":{\"fillmode\":\"overlay\",\"size\":10,\"solidity\":0.2}},\"type\":\"bar\"}],\"scattergeo\":[{\"type\":\"scattergeo\",\"marker\":{\"colorbar\":{\"outlinewidth\":0,\"ticks\":\"\"}}}],\"scatterpolar\":[{\"type\":\"scatterpolar\",\"marker\":{\"colorbar\":{\"outlinewidth\":0,\"ticks\":\"\"}}}],\"histogram\":[{\"marker\":{\"pattern\":{\"fillmode\":\"overlay\",\"size\":10,\"solidity\":0.2}},\"type\":\"histogram\"}],\"scattergl\":[{\"type\":\"scattergl\",\"marker\":{\"colorbar\":{\"outlinewidth\":0,\"ticks\":\"\"}}}],\"scatter3d\":[{\"type\":\"scatter3d\",\"line\":{\"colorbar\":{\"outlinewidth\":0,\"ticks\":\"\"}},\"marker\":{\"colorbar\":{\"outlinewidth\":0,\"ticks\":\"\"}}}],\"scattermapbox\":[{\"type\":\"scattermapbox\",\"marker\":{\"colorbar\":{\"outlinewidth\":0,\"ticks\":\"\"}}}],\"scatterternary\":[{\"type\":\"scatterternary\",\"marker\":{\"colorbar\":{\"outlinewidth\":0,\"ticks\":\"\"}}}],\"scattercarpet\":[{\"type\":\"scattercarpet\",\"marker\":{\"colorbar\":{\"outlinewidth\":0,\"ticks\":\"\"}}}],\"carpet\":[{\"aaxis\":{\"endlinecolor\":\"#2a3f5f\",\"gridcolor\":\"white\",\"linecolor\":\"white\",\"minorgridcolor\":\"white\",\"startlinecolor\":\"#2a3f5f\"},\"baxis\":{\"endlinecolor\":\"#2a3f5f\",\"gridcolor\":\"white\",\"linecolor\":\"white\",\"minorgridcolor\":\"white\",\"startlinecolor\":\"#2a3f5f\"},\"type\":\"carpet\"}],\"table\":[{\"cells\":{\"fill\":{\"color\":\"#EBF0F8\"},\"line\":{\"color\":\"white\"}},\"header\":{\"fill\":{\"color\":\"#C8D4E3\"},\"line\":{\"color\":\"white\"}},\"type\":\"table\"}],\"barpolar\":[{\"marker\":{\"line\":{\"color\":\"#E5ECF6\",\"width\":0.5},\"pattern\":{\"fillmode\":\"overlay\",\"size\":10,\"solidity\":0.2}},\"type\":\"barpolar\"}],\"pie\":[{\"automargin\":true,\"type\":\"pie\"}]},\"layout\":{\"autotypenumbers\":\"strict\",\"colorway\":[\"#636efa\",\"#EF553B\",\"#00cc96\",\"#ab63fa\",\"#FFA15A\",\"#19d3f3\",\"#FF6692\",\"#B6E880\",\"#FF97FF\",\"#FECB52\"],\"font\":{\"color\":\"#2a3f5f\"},\"hovermode\":\"closest\",\"hoverlabel\":{\"align\":\"left\"},\"paper_bgcolor\":\"white\",\"plot_bgcolor\":\"#E5ECF6\",\"polar\":{\"bgcolor\":\"#E5ECF6\",\"angularaxis\":{\"gridcolor\":\"white\",\"linecolor\":\"white\",\"ticks\":\"\"},\"radialaxis\":{\"gridcolor\":\"white\",\"linecolor\":\"white\",\"ticks\":\"\"}},\"ternary\":{\"bgcolor\":\"#E5ECF6\",\"aaxis\":{\"gridcolor\":\"white\",\"linecolor\":\"white\",\"ticks\":\"\"},\"baxis\":{\"gridcolor\":\"white\",\"linecolor\":\"white\",\"ticks\":\"\"},\"caxis\":{\"gridcolor\":\"white\",\"linecolor\":\"white\",\"ticks\":\"\"}},\"coloraxis\":{\"colorbar\":{\"outlinewidth\":0,\"ticks\":\"\"}},\"colorscale\":{\"sequential\":[[0.0,\"#0d0887\"],[0.1111111111111111,\"#46039f\"],[0.2222222222222222,\"#7201a8\"],[0.3333333333333333,\"#9c179e\"],[0.4444444444444444,\"#bd3786\"],[0.5555555555555556,\"#d8576b\"],[0.6666666666666666,\"#ed7953\"],[0.7777777777777778,\"#fb9f3a\"],[0.8888888888888888,\"#fdca26\"],[1.0,\"#f0f921\"]],\"sequentialminus\":[[0.0,\"#0d0887\"],[0.1111111111111111,\"#46039f\"],[0.2222222222222222,\"#7201a8\"],[0.3333333333333333,\"#9c179e\"],[0.4444444444444444,\"#bd3786\"],[0.5555555555555556,\"#d8576b\"],[0.6666666666666666,\"#ed7953\"],[0.7777777777777778,\"#fb9f3a\"],[0.8888888888888888,\"#fdca26\"],[1.0,\"#f0f921\"]],\"diverging\":[[0,\"#8e0152\"],[0.1,\"#c51b7d\"],[0.2,\"#de77ae\"],[0.3,\"#f1b6da\"],[0.4,\"#fde0ef\"],[0.5,\"#f7f7f7\"],[0.6,\"#e6f5d0\"],[0.7,\"#b8e186\"],[0.8,\"#7fbc41\"],[0.9,\"#4d9221\"],[1,\"#276419\"]]},\"xaxis\":{\"gridcolor\":\"white\",\"linecolor\":\"white\",\"ticks\":\"\",\"title\":{\"standoff\":15},\"zerolinecolor\":\"white\",\"automargin\":true,\"zerolinewidth\":2},\"yaxis\":{\"gridcolor\":\"white\",\"linecolor\":\"white\",\"ticks\":\"\",\"title\":{\"standoff\":15},\"zerolinecolor\":\"white\",\"automargin\":true,\"zerolinewidth\":2},\"scene\":{\"xaxis\":{\"backgroundcolor\":\"#E5ECF6\",\"gridcolor\":\"white\",\"linecolor\":\"white\",\"showbackground\":true,\"ticks\":\"\",\"zerolinecolor\":\"white\",\"gridwidth\":2},\"yaxis\":{\"backgroundcolor\":\"#E5ECF6\",\"gridcolor\":\"white\",\"linecolor\":\"white\",\"showbackground\":true,\"ticks\":\"\",\"zerolinecolor\":\"white\",\"gridwidth\":2},\"zaxis\":{\"backgroundcolor\":\"#E5ECF6\",\"gridcolor\":\"white\",\"linecolor\":\"white\",\"showbackground\":true,\"ticks\":\"\",\"zerolinecolor\":\"white\",\"gridwidth\":2}},\"shapedefaults\":{\"line\":{\"color\":\"#2a3f5f\"}},\"annotationdefaults\":{\"arrowcolor\":\"#2a3f5f\",\"arrowhead\":0,\"arrowwidth\":1},\"geo\":{\"bgcolor\":\"white\",\"landcolor\":\"#E5ECF6\",\"subunitcolor\":\"white\",\"showland\":true,\"showlakes\":true,\"lakecolor\":\"white\"},\"title\":{\"x\":0.05},\"mapbox\":{\"style\":\"light\"}}},\"xaxis\":{\"anchor\":\"y\",\"domain\":[0.0,1.0],\"title\":{\"text\":\"Timestamp\"}},\"yaxis\":{\"anchor\":\"x\",\"domain\":[0.0,1.0],\"title\":{\"text\":\"SDG_Mean\"}},\"legend\":{\"tracegroupgap\":0},\"title\":{\"text\":\"Time Series Line Chart\"}},                        {\"responsive\": true}                    ).then(function(){\n",
       "                            \n",
       "var gd = document.getElementById('a6795074-39d1-4623-b3f2-63d4fcdbd79a');\n",
       "var x = new MutationObserver(function (mutations, observer) {{\n",
       "        var display = window.getComputedStyle(gd).display;\n",
       "        if (!display || display === 'none') {{\n",
       "            console.log([gd, 'removed!']);\n",
       "            Plotly.purge(gd);\n",
       "            observer.disconnect();\n",
       "        }}\n",
       "}});\n",
       "\n",
       "// Listen for the removal of the full notebook cells\n",
       "var notebookContainer = gd.closest('#notebook-container');\n",
       "if (notebookContainer) {{\n",
       "    x.observe(notebookContainer, {childList: true});\n",
       "}}\n",
       "\n",
       "// Listen for the clearing of the current output cell\n",
       "var outputEl = gd.closest('.output');\n",
       "if (outputEl) {{\n",
       "    x.observe(outputEl, {childList: true});\n",
       "}}\n",
       "\n",
       "                        })                };                });            </script>        </div>"
      ]
     },
     "metadata": {},
     "output_type": "display_data"
    }
   ],
   "source": [
    "df_AAPL_late = df_AAPL[df_AAPL['Timestamp']>'2019-12-12']\n",
    "\n",
    "lineC = px.line(df_AAPL_late, x=\"Timestamp\", y=\"SDG_Mean\", title='Time Series Line Chart')\n",
    "lineC.show()"
   ]
  },
  {
   "cell_type": "code",
   "execution_count": 168,
   "id": "60bfaef2",
   "metadata": {},
   "outputs": [
    {
     "data": {
      "application/vnd.plotly.v1+json": {
       "config": {
        "plotlyServerURL": "https://plot.ly"
       },
       "data": [
        {
         "hovertemplate": "Timestamp=%{x}<br>SDG_Mean=%{y}<extra></extra>",
         "legendgroup": "",
         "line": {
          "color": "#636efa",
          "dash": "solid"
         },
         "marker": {
          "symbol": "circle"
         },
         "mode": "lines",
         "name": "",
         "orientation": "v",
         "showlegend": false,
         "type": "scatter",
         "x": [
          "2019-12-13T00:00:00",
          "2019-12-14T00:00:00",
          "2019-12-15T00:00:00",
          "2019-12-16T00:00:00",
          "2019-12-17T00:00:00",
          "2019-12-18T00:00:00",
          "2019-12-19T00:00:00",
          "2019-12-20T00:00:00",
          "2019-12-21T00:00:00",
          "2019-12-22T00:00:00",
          "2019-12-23T00:00:00",
          "2019-12-24T00:00:00",
          "2019-12-25T00:00:00",
          "2019-12-26T00:00:00",
          "2019-12-27T00:00:00",
          "2019-12-28T00:00:00",
          "2019-12-29T00:00:00",
          "2019-12-30T00:00:00",
          "2019-12-31T00:00:00",
          "2020-01-01T00:00:00",
          "2020-01-02T00:00:00",
          "2020-01-03T00:00:00",
          "2020-01-04T00:00:00",
          "2020-01-05T00:00:00",
          "2020-01-06T00:00:00",
          "2020-01-07T00:00:00",
          "2020-01-08T00:00:00",
          "2020-01-09T00:00:00",
          "2020-01-10T00:00:00",
          "2020-01-11T00:00:00",
          "2020-01-12T00:00:00",
          "2020-01-13T00:00:00",
          "2020-01-14T00:00:00",
          "2020-01-15T00:00:00",
          "2020-01-16T00:00:00",
          "2020-01-17T00:00:00",
          "2020-01-18T00:00:00",
          "2020-01-19T00:00:00",
          "2020-01-20T00:00:00",
          "2020-01-21T00:00:00",
          "2020-01-22T00:00:00",
          "2020-01-23T00:00:00",
          "2020-01-24T00:00:00",
          "2020-01-25T00:00:00",
          "2020-01-26T00:00:00",
          "2020-01-27T00:00:00",
          "2020-01-28T00:00:00",
          "2020-01-29T00:00:00",
          "2020-01-30T00:00:00",
          "2020-01-31T00:00:00",
          "2020-02-01T00:00:00",
          "2020-02-02T00:00:00",
          "2020-02-03T00:00:00",
          "2020-02-04T00:00:00",
          "2020-02-05T00:00:00",
          "2020-02-06T00:00:00",
          "2020-02-07T00:00:00",
          "2020-02-08T00:00:00",
          "2020-02-09T00:00:00",
          "2020-02-10T00:00:00",
          "2020-02-11T00:00:00",
          "2020-02-12T00:00:00",
          "2020-02-13T00:00:00",
          "2020-02-14T00:00:00",
          "2020-02-15T00:00:00",
          "2020-02-16T00:00:00",
          "2020-02-17T00:00:00",
          "2020-02-18T00:00:00",
          "2020-02-19T00:00:00",
          "2020-02-20T00:00:00",
          "2020-02-21T00:00:00",
          "2020-02-22T00:00:00",
          "2020-02-23T00:00:00",
          "2020-02-24T00:00:00",
          "2020-02-25T00:00:00",
          "2020-02-26T00:00:00",
          "2020-02-27T00:00:00",
          "2020-02-28T00:00:00",
          "2020-02-29T00:00:00",
          "2020-03-01T00:00:00",
          "2020-03-02T00:00:00",
          "2020-03-03T00:00:00",
          "2020-03-04T00:00:00",
          "2020-03-05T00:00:00",
          "2020-03-06T00:00:00",
          "2020-03-07T00:00:00",
          "2020-03-08T00:00:00",
          "2020-03-09T00:00:00",
          "2020-03-10T00:00:00",
          "2020-03-11T00:00:00",
          "2020-03-12T00:00:00",
          "2020-03-13T00:00:00",
          "2020-03-14T00:00:00",
          "2020-03-15T00:00:00",
          "2020-03-16T00:00:00",
          "2020-03-17T00:00:00",
          "2020-03-18T00:00:00",
          "2020-03-19T00:00:00",
          "2020-03-20T00:00:00",
          "2020-03-21T00:00:00",
          "2020-03-22T00:00:00",
          "2020-03-23T00:00:00",
          "2020-03-24T00:00:00",
          "2020-03-25T00:00:00",
          "2020-03-26T00:00:00",
          "2020-03-27T00:00:00",
          "2020-03-28T00:00:00",
          "2020-03-29T00:00:00",
          "2020-03-30T00:00:00",
          "2020-03-31T00:00:00",
          "2020-04-01T00:00:00",
          "2020-04-02T00:00:00",
          "2020-04-03T00:00:00",
          "2020-04-04T00:00:00",
          "2020-04-05T00:00:00",
          "2020-04-06T00:00:00",
          "2020-04-07T00:00:00",
          "2020-04-08T00:00:00",
          "2020-04-09T00:00:00",
          "2020-04-10T00:00:00",
          "2020-04-11T00:00:00",
          "2020-04-12T00:00:00",
          "2020-04-13T00:00:00",
          "2020-04-14T00:00:00",
          "2020-04-15T00:00:00",
          "2020-04-16T00:00:00",
          "2020-04-17T00:00:00",
          "2020-04-18T00:00:00",
          "2020-04-19T00:00:00",
          "2020-04-20T00:00:00",
          "2020-04-21T00:00:00",
          "2020-04-22T00:00:00"
         ],
         "xaxis": "x",
         "y": [
          -0.7489824809705259,
          -1.2006953150392663,
          -0.3065748007496126,
          -0.3306034046829057,
          -2.1666719063957185,
          -0.3899659993989813,
          -0.3101971974471395,
          -0.3295110410760401,
          -1.3830484721204446,
          0.2407102098137995,
          -0.0109193486687081,
          0.2667799813577111,
          0.3297187414388332,
          1.2090511450413697,
          0.4683791986152893,
          -0.4906464531968068,
          0.6659128706645265,
          0.2311723187717619,
          -0.4789144621020233,
          0.4939862172449096,
          0.024309714334426,
          -0.4576993450350839,
          0.1726475816854711,
          -0.6333089293487852,
          0.0401884342939516,
          -0.4961175134518445,
          -1.0332871167056434,
          -1.192837228361178,
          -0.9519155808188136,
          -0.2281835615545099,
          -0.946256434993386,
          -1.203672198001143,
          -1.2339893086359126,
          -0.8210251785109086,
          0.464089254575267,
          0.1787679846958377,
          0.0188489641552481,
          0.2037709187590408,
          -0.8612331351066281,
          -1.418765558786993,
          -0.6250526958340413,
          -0.4377125481325074,
          -0.7689583891858824,
          -1.2823201308175225,
          -0.3462142454093194,
          -1.0663763805109567,
          -1.5763918220479356,
          -0.735036166162239,
          -1.188285225015459,
          -1.7533460931125786,
          -4.037384704213647,
          -4.063214361288178,
          -2.2203427328954213,
          -1.1282784165923574,
          -1.4602467291547383,
          -0.5620084644241301,
          -1.9397477789683488,
          -5.176698363851587,
          -3.7203691310149294,
          -2.2625942576163744,
          -0.2837370781920779,
          -0.6752951749190572,
          -1.3889022367396149,
          -1.713281368317238,
          -1.7819926357774103,
          -2.2396010644194946,
          -1.5873722023279682,
          -3.5631615568703814,
          -2.6976219557628944,
          -2.157776018978719,
          -2.3676020117778327,
          -1.4225954255803062,
          -0.5818655220426303,
          -1.513906027253466,
          -2.2695064750392606,
          -2.128098934669953,
          -1.6408843345644135,
          -2.181383627448473,
          -1.2959268059272782,
          -2.9840616078755664,
          -1.96617156030687,
          -1.4335631115860734,
          -0.5445123786165031,
          -1.6505423995532031,
          -1.4706800205339603,
          -2.542315089487835,
          -2.280619139411451,
          -4.591191584578435,
          -2.9189696648249672,
          -1.7405580168496402,
          -0.909106968158792,
          -1.8661265206624669,
          -2.4910949391694794,
          -2.7963378267895846,
          -2.760711234952113,
          -3.032348172947723,
          -2.9598268827895264,
          -0.9157880492913626,
          -2.5373871191431903,
          -2.9448852529409595,
          -2.3057312305632194,
          -1.1574051276826818,
          -1.2087692451905103,
          -1.5508351795206985,
          -1.4512301308056346,
          -0.8469091511325556,
          -1.7488415938371864,
          -2.1927541529144743,
          -2.3005539005063347,
          -0.7792376056992006,
          -1.921800145152984,
          -1.8780397110011984,
          -2.9636002224426985,
          -1.6400752639168676,
          -0.7196644290858917,
          -1.382903377647059,
          -1.330003963193206,
          -1.6212281649766729,
          -1.0143467821648036,
          -0.6059395952983541,
          -1.4263633594819856,
          -1.3389820907006291,
          -0.4490061393739218,
          -1.1486739490572089,
          -1.6648163611886695,
          -1.599243612453558,
          -1.032596202958734,
          -1.8731294869212511,
          -1.2859595934527852,
          -0.5529641988959261,
          -0.2037642160380741,
          -0.9550063518020636
         ],
         "yaxis": "y"
        }
       ],
       "layout": {
        "legend": {
         "tracegroupgap": 0
        },
        "shapes": [
         {
          "fillcolor": "rgba(200,0,200,0.2)",
          "layer": "below",
          "line": {
           "color": "rgba(0,0,0,0)",
           "width": 3
          },
          "type": "rect",
          "x0": "2019-12-31T00:00:00",
          "x1": "2020-01-01T00:00:00",
          "xref": "x",
          "y0": 0,
          "y1": 1,
          "yref": "paper"
         },
         {
          "fillcolor": "rgba(200,0,200,0.2)",
          "layer": "below",
          "line": {
           "color": "rgba(0,0,0,0)",
           "width": 3
          },
          "type": "rect",
          "x0": "2020-01-02T00:00:00",
          "x1": "2020-01-03T00:00:00",
          "xref": "x",
          "y0": 0,
          "y1": 1,
          "yref": "paper"
         },
         {
          "fillcolor": "rgba(200,0,200,0.2)",
          "layer": "below",
          "line": {
           "color": "rgba(0,0,0,0)",
           "width": 3
          },
          "type": "rect",
          "x0": "2020-01-05T00:00:00",
          "x1": "2020-01-06T00:00:00",
          "xref": "x",
          "y0": 0,
          "y1": 1,
          "yref": "paper"
         },
         {
          "fillcolor": "rgba(200,0,200,0.2)",
          "layer": "below",
          "line": {
           "color": "rgba(0,0,0,0)",
           "width": 3
          },
          "type": "rect",
          "x0": "2020-01-07T00:00:00",
          "x1": "2020-01-08T00:00:00",
          "xref": "x",
          "y0": 0,
          "y1": 1,
          "yref": "paper"
         },
         {
          "fillcolor": "rgba(200,0,200,0.2)",
          "layer": "below",
          "line": {
           "color": "rgba(0,0,0,0)",
           "width": 3
          },
          "type": "rect",
          "x0": "2020-01-10T00:00:00",
          "x1": "2020-01-11T00:00:00",
          "xref": "x",
          "y0": 0,
          "y1": 1,
          "yref": "paper"
         },
         {
          "fillcolor": "rgba(200,0,200,0.2)",
          "layer": "below",
          "line": {
           "color": "rgba(0,0,0,0)",
           "width": 3
          },
          "type": "rect",
          "x0": "2020-01-13T00:00:00",
          "x1": "2020-01-14T00:00:00",
          "xref": "x",
          "y0": 0,
          "y1": 1,
          "yref": "paper"
         },
         {
          "fillcolor": "rgba(200,0,200,0.2)",
          "layer": "below",
          "line": {
           "color": "rgba(0,0,0,0)",
           "width": 3
          },
          "type": "rect",
          "x0": "2020-01-15T00:00:00",
          "x1": "2020-01-16T00:00:00",
          "xref": "x",
          "y0": 0,
          "y1": 1,
          "yref": "paper"
         },
         {
          "fillcolor": "rgba(200,0,200,0.2)",
          "layer": "below",
          "line": {
           "color": "rgba(0,0,0,0)",
           "width": 3
          },
          "type": "rect",
          "x0": "2020-01-17T00:00:00",
          "x1": "2020-01-18T00:00:00",
          "xref": "x",
          "y0": 0,
          "y1": 1,
          "yref": "paper"
         },
         {
          "fillcolor": "rgba(200,0,200,0.2)",
          "layer": "below",
          "line": {
           "color": "rgba(0,0,0,0)",
           "width": 3
          },
          "type": "rect",
          "x0": "2020-01-20T00:00:00",
          "x1": "2020-01-23T00:00:00",
          "xref": "x",
          "y0": 0,
          "y1": 1,
          "yref": "paper"
         },
         {
          "fillcolor": "rgba(200,0,200,0.2)",
          "layer": "below",
          "line": {
           "color": "rgba(0,0,0,0)",
           "width": 3
          },
          "type": "rect",
          "x0": "2020-01-27T00:00:00",
          "x1": "2020-01-28T00:00:00",
          "xref": "x",
          "y0": 0,
          "y1": 1,
          "yref": "paper"
         },
         {
          "fillcolor": "rgba(200,0,200,0.2)",
          "layer": "below",
          "line": {
           "color": "rgba(0,0,0,0)",
           "width": 3
          },
          "type": "rect",
          "x0": "2020-01-29T00:00:00",
          "x1": "2020-01-30T00:00:00",
          "xref": "x",
          "y0": 0,
          "y1": 1,
          "yref": "paper"
         },
         {
          "fillcolor": "rgba(200,0,200,0.2)",
          "layer": "below",
          "line": {
           "color": "rgba(0,0,0,0)",
           "width": 3
          },
          "type": "rect",
          "x0": "2020-01-31T00:00:00",
          "x1": "2020-02-01T00:00:00",
          "xref": "x",
          "y0": 0,
          "y1": 1,
          "yref": "paper"
         },
         {
          "fillcolor": "rgba(200,0,200,0.2)",
          "layer": "below",
          "line": {
           "color": "rgba(0,0,0,0)",
           "width": 3
          },
          "type": "rect",
          "x0": "2020-02-03T00:00:00",
          "x1": "2020-02-05T00:00:00",
          "xref": "x",
          "y0": 0,
          "y1": 1,
          "yref": "paper"
         },
         {
          "fillcolor": "rgba(200,0,200,0.2)",
          "layer": "below",
          "line": {
           "color": "rgba(0,0,0,0)",
           "width": 3
          },
          "type": "rect",
          "x0": "2020-02-08T00:00:00",
          "x1": "2020-02-09T00:00:00",
          "xref": "x",
          "y0": 0,
          "y1": 1,
          "yref": "paper"
         },
         {
          "fillcolor": "rgba(200,0,200,0.2)",
          "layer": "below",
          "line": {
           "color": "rgba(0,0,0,0)",
           "width": 3
          },
          "type": "rect",
          "x0": "2020-02-11T00:00:00",
          "x1": "2020-02-12T00:00:00",
          "xref": "x",
          "y0": 0,
          "y1": 1,
          "yref": "paper"
         },
         {
          "fillcolor": "rgba(200,0,200,0.2)",
          "layer": "below",
          "line": {
           "color": "rgba(0,0,0,0)",
           "width": 3
          },
          "type": "rect",
          "x0": "2020-02-23T00:00:00",
          "x1": "2020-02-24T00:00:00",
          "xref": "x",
          "y0": 0,
          "y1": 1,
          "yref": "paper"
         },
         {
          "fillcolor": "rgba(200,0,200,0.2)",
          "layer": "below",
          "line": {
           "color": "rgba(0,0,0,0)",
           "width": 3
          },
          "type": "rect",
          "x0": "2020-02-26T00:00:00",
          "x1": "2020-02-27T00:00:00",
          "xref": "x",
          "y0": 0,
          "y1": 1,
          "yref": "paper"
         },
         {
          "fillcolor": "rgba(200,0,200,0.2)",
          "layer": "below",
          "line": {
           "color": "rgba(0,0,0,0)",
           "width": 3
          },
          "type": "rect",
          "x0": "2020-02-29T00:00:00",
          "x1": "2020-03-02T00:00:00",
          "xref": "x",
          "y0": 0,
          "y1": 1,
          "yref": "paper"
         },
         {
          "fillcolor": "rgba(200,0,200,0.2)",
          "layer": "below",
          "line": {
           "color": "rgba(0,0,0,0)",
           "width": 3
          },
          "type": "rect",
          "x0": "2020-03-11T00:00:00",
          "x1": "2020-03-18T00:00:00",
          "xref": "x",
          "y0": 0,
          "y1": 1,
          "yref": "paper"
         },
         {
          "fillcolor": "rgba(200,0,200,0.2)",
          "layer": "below",
          "line": {
           "color": "rgba(0,0,0,0)",
           "width": 3
          },
          "type": "rect",
          "x0": "2020-03-26T00:00:00",
          "x1": "2020-03-27T00:00:00",
          "xref": "x",
          "y0": 0,
          "y1": 1,
          "yref": "paper"
         },
         {
          "fillcolor": "rgba(200,0,200,0.2)",
          "layer": "below",
          "line": {
           "color": "rgba(0,0,0,0)",
           "width": 3
          },
          "type": "rect",
          "x0": "2020-03-28T00:00:00",
          "x1": "2020-03-29T00:00:00",
          "xref": "x",
          "y0": 0,
          "y1": 1,
          "yref": "paper"
         },
         {
          "fillcolor": "rgba(200,0,200,0.2)",
          "layer": "below",
          "line": {
           "color": "rgba(0,0,0,0)",
           "width": 3
          },
          "type": "rect",
          "x0": "2020-03-31T00:00:00",
          "x1": "2020-04-01T00:00:00",
          "xref": "x",
          "y0": 0,
          "y1": 1,
          "yref": "paper"
         },
         {
          "fillcolor": "rgba(200,0,200,0.2)",
          "layer": "below",
          "line": {
           "color": "rgba(0,0,0,0)",
           "width": 3
          },
          "type": "rect",
          "x0": "2020-04-03T00:00:00",
          "x1": "2020-04-04T00:00:00",
          "xref": "x",
          "y0": 0,
          "y1": 1,
          "yref": "paper"
         },
         {
          "fillcolor": "rgba(200,0,200,0.2)",
          "layer": "below",
          "line": {
           "color": "rgba(0,0,0,0)",
           "width": 3
          },
          "type": "rect",
          "x0": "2020-04-06T00:00:00",
          "x1": "2020-04-09T00:00:00",
          "xref": "x",
          "y0": 0,
          "y1": 1,
          "yref": "paper"
         },
         {
          "fillcolor": "rgba(200,0,200,0.2)",
          "layer": "below",
          "line": {
           "color": "rgba(0,0,0,0)",
           "width": 3
          },
          "type": "rect",
          "x0": "2020-04-10T00:00:00",
          "x1": "2020-04-11T00:00:00",
          "xref": "x",
          "y0": 0,
          "y1": 1,
          "yref": "paper"
         },
         {
          "fillcolor": "rgba(200,0,200,0.2)",
          "layer": "below",
          "line": {
           "color": "rgba(0,0,0,0)",
           "width": 3
          },
          "type": "rect",
          "x0": "2020-04-13T00:00:00",
          "x1": "2020-04-14T00:00:00",
          "xref": "x",
          "y0": 0,
          "y1": 1,
          "yref": "paper"
         }
        ],
        "template": {
         "data": {
          "bar": [
           {
            "error_x": {
             "color": "#2a3f5f"
            },
            "error_y": {
             "color": "#2a3f5f"
            },
            "marker": {
             "line": {
              "color": "#E5ECF6",
              "width": 0.5
             },
             "pattern": {
              "fillmode": "overlay",
              "size": 10,
              "solidity": 0.2
             }
            },
            "type": "bar"
           }
          ],
          "barpolar": [
           {
            "marker": {
             "line": {
              "color": "#E5ECF6",
              "width": 0.5
             },
             "pattern": {
              "fillmode": "overlay",
              "size": 10,
              "solidity": 0.2
             }
            },
            "type": "barpolar"
           }
          ],
          "carpet": [
           {
            "aaxis": {
             "endlinecolor": "#2a3f5f",
             "gridcolor": "white",
             "linecolor": "white",
             "minorgridcolor": "white",
             "startlinecolor": "#2a3f5f"
            },
            "baxis": {
             "endlinecolor": "#2a3f5f",
             "gridcolor": "white",
             "linecolor": "white",
             "minorgridcolor": "white",
             "startlinecolor": "#2a3f5f"
            },
            "type": "carpet"
           }
          ],
          "choropleth": [
           {
            "colorbar": {
             "outlinewidth": 0,
             "ticks": ""
            },
            "type": "choropleth"
           }
          ],
          "contour": [
           {
            "colorbar": {
             "outlinewidth": 0,
             "ticks": ""
            },
            "colorscale": [
             [
              0,
              "#0d0887"
             ],
             [
              0.1111111111111111,
              "#46039f"
             ],
             [
              0.2222222222222222,
              "#7201a8"
             ],
             [
              0.3333333333333333,
              "#9c179e"
             ],
             [
              0.4444444444444444,
              "#bd3786"
             ],
             [
              0.5555555555555556,
              "#d8576b"
             ],
             [
              0.6666666666666666,
              "#ed7953"
             ],
             [
              0.7777777777777778,
              "#fb9f3a"
             ],
             [
              0.8888888888888888,
              "#fdca26"
             ],
             [
              1,
              "#f0f921"
             ]
            ],
            "type": "contour"
           }
          ],
          "contourcarpet": [
           {
            "colorbar": {
             "outlinewidth": 0,
             "ticks": ""
            },
            "type": "contourcarpet"
           }
          ],
          "heatmap": [
           {
            "colorbar": {
             "outlinewidth": 0,
             "ticks": ""
            },
            "colorscale": [
             [
              0,
              "#0d0887"
             ],
             [
              0.1111111111111111,
              "#46039f"
             ],
             [
              0.2222222222222222,
              "#7201a8"
             ],
             [
              0.3333333333333333,
              "#9c179e"
             ],
             [
              0.4444444444444444,
              "#bd3786"
             ],
             [
              0.5555555555555556,
              "#d8576b"
             ],
             [
              0.6666666666666666,
              "#ed7953"
             ],
             [
              0.7777777777777778,
              "#fb9f3a"
             ],
             [
              0.8888888888888888,
              "#fdca26"
             ],
             [
              1,
              "#f0f921"
             ]
            ],
            "type": "heatmap"
           }
          ],
          "heatmapgl": [
           {
            "colorbar": {
             "outlinewidth": 0,
             "ticks": ""
            },
            "colorscale": [
             [
              0,
              "#0d0887"
             ],
             [
              0.1111111111111111,
              "#46039f"
             ],
             [
              0.2222222222222222,
              "#7201a8"
             ],
             [
              0.3333333333333333,
              "#9c179e"
             ],
             [
              0.4444444444444444,
              "#bd3786"
             ],
             [
              0.5555555555555556,
              "#d8576b"
             ],
             [
              0.6666666666666666,
              "#ed7953"
             ],
             [
              0.7777777777777778,
              "#fb9f3a"
             ],
             [
              0.8888888888888888,
              "#fdca26"
             ],
             [
              1,
              "#f0f921"
             ]
            ],
            "type": "heatmapgl"
           }
          ],
          "histogram": [
           {
            "marker": {
             "pattern": {
              "fillmode": "overlay",
              "size": 10,
              "solidity": 0.2
             }
            },
            "type": "histogram"
           }
          ],
          "histogram2d": [
           {
            "colorbar": {
             "outlinewidth": 0,
             "ticks": ""
            },
            "colorscale": [
             [
              0,
              "#0d0887"
             ],
             [
              0.1111111111111111,
              "#46039f"
             ],
             [
              0.2222222222222222,
              "#7201a8"
             ],
             [
              0.3333333333333333,
              "#9c179e"
             ],
             [
              0.4444444444444444,
              "#bd3786"
             ],
             [
              0.5555555555555556,
              "#d8576b"
             ],
             [
              0.6666666666666666,
              "#ed7953"
             ],
             [
              0.7777777777777778,
              "#fb9f3a"
             ],
             [
              0.8888888888888888,
              "#fdca26"
             ],
             [
              1,
              "#f0f921"
             ]
            ],
            "type": "histogram2d"
           }
          ],
          "histogram2dcontour": [
           {
            "colorbar": {
             "outlinewidth": 0,
             "ticks": ""
            },
            "colorscale": [
             [
              0,
              "#0d0887"
             ],
             [
              0.1111111111111111,
              "#46039f"
             ],
             [
              0.2222222222222222,
              "#7201a8"
             ],
             [
              0.3333333333333333,
              "#9c179e"
             ],
             [
              0.4444444444444444,
              "#bd3786"
             ],
             [
              0.5555555555555556,
              "#d8576b"
             ],
             [
              0.6666666666666666,
              "#ed7953"
             ],
             [
              0.7777777777777778,
              "#fb9f3a"
             ],
             [
              0.8888888888888888,
              "#fdca26"
             ],
             [
              1,
              "#f0f921"
             ]
            ],
            "type": "histogram2dcontour"
           }
          ],
          "mesh3d": [
           {
            "colorbar": {
             "outlinewidth": 0,
             "ticks": ""
            },
            "type": "mesh3d"
           }
          ],
          "parcoords": [
           {
            "line": {
             "colorbar": {
              "outlinewidth": 0,
              "ticks": ""
             }
            },
            "type": "parcoords"
           }
          ],
          "pie": [
           {
            "automargin": true,
            "type": "pie"
           }
          ],
          "scatter": [
           {
            "fillpattern": {
             "fillmode": "overlay",
             "size": 10,
             "solidity": 0.2
            },
            "type": "scatter"
           }
          ],
          "scatter3d": [
           {
            "line": {
             "colorbar": {
              "outlinewidth": 0,
              "ticks": ""
             }
            },
            "marker": {
             "colorbar": {
              "outlinewidth": 0,
              "ticks": ""
             }
            },
            "type": "scatter3d"
           }
          ],
          "scattercarpet": [
           {
            "marker": {
             "colorbar": {
              "outlinewidth": 0,
              "ticks": ""
             }
            },
            "type": "scattercarpet"
           }
          ],
          "scattergeo": [
           {
            "marker": {
             "colorbar": {
              "outlinewidth": 0,
              "ticks": ""
             }
            },
            "type": "scattergeo"
           }
          ],
          "scattergl": [
           {
            "marker": {
             "colorbar": {
              "outlinewidth": 0,
              "ticks": ""
             }
            },
            "type": "scattergl"
           }
          ],
          "scattermapbox": [
           {
            "marker": {
             "colorbar": {
              "outlinewidth": 0,
              "ticks": ""
             }
            },
            "type": "scattermapbox"
           }
          ],
          "scatterpolar": [
           {
            "marker": {
             "colorbar": {
              "outlinewidth": 0,
              "ticks": ""
             }
            },
            "type": "scatterpolar"
           }
          ],
          "scatterpolargl": [
           {
            "marker": {
             "colorbar": {
              "outlinewidth": 0,
              "ticks": ""
             }
            },
            "type": "scatterpolargl"
           }
          ],
          "scatterternary": [
           {
            "marker": {
             "colorbar": {
              "outlinewidth": 0,
              "ticks": ""
             }
            },
            "type": "scatterternary"
           }
          ],
          "surface": [
           {
            "colorbar": {
             "outlinewidth": 0,
             "ticks": ""
            },
            "colorscale": [
             [
              0,
              "#0d0887"
             ],
             [
              0.1111111111111111,
              "#46039f"
             ],
             [
              0.2222222222222222,
              "#7201a8"
             ],
             [
              0.3333333333333333,
              "#9c179e"
             ],
             [
              0.4444444444444444,
              "#bd3786"
             ],
             [
              0.5555555555555556,
              "#d8576b"
             ],
             [
              0.6666666666666666,
              "#ed7953"
             ],
             [
              0.7777777777777778,
              "#fb9f3a"
             ],
             [
              0.8888888888888888,
              "#fdca26"
             ],
             [
              1,
              "#f0f921"
             ]
            ],
            "type": "surface"
           }
          ],
          "table": [
           {
            "cells": {
             "fill": {
              "color": "#EBF0F8"
             },
             "line": {
              "color": "white"
             }
            },
            "header": {
             "fill": {
              "color": "#C8D4E3"
             },
             "line": {
              "color": "white"
             }
            },
            "type": "table"
           }
          ]
         },
         "layout": {
          "annotationdefaults": {
           "arrowcolor": "#2a3f5f",
           "arrowhead": 0,
           "arrowwidth": 1
          },
          "autotypenumbers": "strict",
          "coloraxis": {
           "colorbar": {
            "outlinewidth": 0,
            "ticks": ""
           }
          },
          "colorscale": {
           "diverging": [
            [
             0,
             "#8e0152"
            ],
            [
             0.1,
             "#c51b7d"
            ],
            [
             0.2,
             "#de77ae"
            ],
            [
             0.3,
             "#f1b6da"
            ],
            [
             0.4,
             "#fde0ef"
            ],
            [
             0.5,
             "#f7f7f7"
            ],
            [
             0.6,
             "#e6f5d0"
            ],
            [
             0.7,
             "#b8e186"
            ],
            [
             0.8,
             "#7fbc41"
            ],
            [
             0.9,
             "#4d9221"
            ],
            [
             1,
             "#276419"
            ]
           ],
           "sequential": [
            [
             0,
             "#0d0887"
            ],
            [
             0.1111111111111111,
             "#46039f"
            ],
            [
             0.2222222222222222,
             "#7201a8"
            ],
            [
             0.3333333333333333,
             "#9c179e"
            ],
            [
             0.4444444444444444,
             "#bd3786"
            ],
            [
             0.5555555555555556,
             "#d8576b"
            ],
            [
             0.6666666666666666,
             "#ed7953"
            ],
            [
             0.7777777777777778,
             "#fb9f3a"
            ],
            [
             0.8888888888888888,
             "#fdca26"
            ],
            [
             1,
             "#f0f921"
            ]
           ],
           "sequentialminus": [
            [
             0,
             "#0d0887"
            ],
            [
             0.1111111111111111,
             "#46039f"
            ],
            [
             0.2222222222222222,
             "#7201a8"
            ],
            [
             0.3333333333333333,
             "#9c179e"
            ],
            [
             0.4444444444444444,
             "#bd3786"
            ],
            [
             0.5555555555555556,
             "#d8576b"
            ],
            [
             0.6666666666666666,
             "#ed7953"
            ],
            [
             0.7777777777777778,
             "#fb9f3a"
            ],
            [
             0.8888888888888888,
             "#fdca26"
            ],
            [
             1,
             "#f0f921"
            ]
           ]
          },
          "colorway": [
           "#636efa",
           "#EF553B",
           "#00cc96",
           "#ab63fa",
           "#FFA15A",
           "#19d3f3",
           "#FF6692",
           "#B6E880",
           "#FF97FF",
           "#FECB52"
          ],
          "font": {
           "color": "#2a3f5f"
          },
          "geo": {
           "bgcolor": "white",
           "lakecolor": "white",
           "landcolor": "#E5ECF6",
           "showlakes": true,
           "showland": true,
           "subunitcolor": "white"
          },
          "hoverlabel": {
           "align": "left"
          },
          "hovermode": "closest",
          "mapbox": {
           "style": "light"
          },
          "paper_bgcolor": "white",
          "plot_bgcolor": "#E5ECF6",
          "polar": {
           "angularaxis": {
            "gridcolor": "white",
            "linecolor": "white",
            "ticks": ""
           },
           "bgcolor": "#E5ECF6",
           "radialaxis": {
            "gridcolor": "white",
            "linecolor": "white",
            "ticks": ""
           }
          },
          "scene": {
           "xaxis": {
            "backgroundcolor": "#E5ECF6",
            "gridcolor": "white",
            "gridwidth": 2,
            "linecolor": "white",
            "showbackground": true,
            "ticks": "",
            "zerolinecolor": "white"
           },
           "yaxis": {
            "backgroundcolor": "#E5ECF6",
            "gridcolor": "white",
            "gridwidth": 2,
            "linecolor": "white",
            "showbackground": true,
            "ticks": "",
            "zerolinecolor": "white"
           },
           "zaxis": {
            "backgroundcolor": "#E5ECF6",
            "gridcolor": "white",
            "gridwidth": 2,
            "linecolor": "white",
            "showbackground": true,
            "ticks": "",
            "zerolinecolor": "white"
           }
          },
          "shapedefaults": {
           "line": {
            "color": "#2a3f5f"
           }
          },
          "ternary": {
           "aaxis": {
            "gridcolor": "white",
            "linecolor": "white",
            "ticks": ""
           },
           "baxis": {
            "gridcolor": "white",
            "linecolor": "white",
            "ticks": ""
           },
           "bgcolor": "#E5ECF6",
           "caxis": {
            "gridcolor": "white",
            "linecolor": "white",
            "ticks": ""
           }
          },
          "title": {
           "x": 0.05
          },
          "xaxis": {
           "automargin": true,
           "gridcolor": "white",
           "linecolor": "white",
           "ticks": "",
           "title": {
            "standoff": 15
           },
           "zerolinecolor": "white",
           "zerolinewidth": 2
          },
          "yaxis": {
           "automargin": true,
           "gridcolor": "white",
           "linecolor": "white",
           "ticks": "",
           "title": {
            "standoff": 15
           },
           "zerolinecolor": "white",
           "zerolinewidth": 2
          }
         }
        },
        "title": {
         "text": "Time Series Line Chart"
        },
        "xaxis": {
         "anchor": "y",
         "domain": [
          0,
          1
         ],
         "title": {
          "text": "Timestamp"
         }
        },
        "yaxis": {
         "anchor": "x",
         "domain": [
          0,
          1
         ],
         "title": {
          "text": "SDG_Mean"
         }
        }
       }
      },
      "text/html": [
       "<div>                            <div id=\"dc412f1b-360f-410c-9ed3-fc97e7c1a145\" class=\"plotly-graph-div\" style=\"height:525px; width:100%;\"></div>            <script type=\"text/javascript\">                require([\"plotly\"], function(Plotly) {                    window.PLOTLYENV=window.PLOTLYENV || {};                                    if (document.getElementById(\"dc412f1b-360f-410c-9ed3-fc97e7c1a145\")) {                    Plotly.newPlot(                        \"dc412f1b-360f-410c-9ed3-fc97e7c1a145\",                        [{\"hovertemplate\":\"Timestamp=%{x}<br>SDG_Mean=%{y}<extra></extra>\",\"legendgroup\":\"\",\"line\":{\"color\":\"#636efa\",\"dash\":\"solid\"},\"marker\":{\"symbol\":\"circle\"},\"mode\":\"lines\",\"name\":\"\",\"orientation\":\"v\",\"showlegend\":false,\"x\":[\"2019-12-13T00:00:00\",\"2019-12-14T00:00:00\",\"2019-12-15T00:00:00\",\"2019-12-16T00:00:00\",\"2019-12-17T00:00:00\",\"2019-12-18T00:00:00\",\"2019-12-19T00:00:00\",\"2019-12-20T00:00:00\",\"2019-12-21T00:00:00\",\"2019-12-22T00:00:00\",\"2019-12-23T00:00:00\",\"2019-12-24T00:00:00\",\"2019-12-25T00:00:00\",\"2019-12-26T00:00:00\",\"2019-12-27T00:00:00\",\"2019-12-28T00:00:00\",\"2019-12-29T00:00:00\",\"2019-12-30T00:00:00\",\"2019-12-31T00:00:00\",\"2020-01-01T00:00:00\",\"2020-01-02T00:00:00\",\"2020-01-03T00:00:00\",\"2020-01-04T00:00:00\",\"2020-01-05T00:00:00\",\"2020-01-06T00:00:00\",\"2020-01-07T00:00:00\",\"2020-01-08T00:00:00\",\"2020-01-09T00:00:00\",\"2020-01-10T00:00:00\",\"2020-01-11T00:00:00\",\"2020-01-12T00:00:00\",\"2020-01-13T00:00:00\",\"2020-01-14T00:00:00\",\"2020-01-15T00:00:00\",\"2020-01-16T00:00:00\",\"2020-01-17T00:00:00\",\"2020-01-18T00:00:00\",\"2020-01-19T00:00:00\",\"2020-01-20T00:00:00\",\"2020-01-21T00:00:00\",\"2020-01-22T00:00:00\",\"2020-01-23T00:00:00\",\"2020-01-24T00:00:00\",\"2020-01-25T00:00:00\",\"2020-01-26T00:00:00\",\"2020-01-27T00:00:00\",\"2020-01-28T00:00:00\",\"2020-01-29T00:00:00\",\"2020-01-30T00:00:00\",\"2020-01-31T00:00:00\",\"2020-02-01T00:00:00\",\"2020-02-02T00:00:00\",\"2020-02-03T00:00:00\",\"2020-02-04T00:00:00\",\"2020-02-05T00:00:00\",\"2020-02-06T00:00:00\",\"2020-02-07T00:00:00\",\"2020-02-08T00:00:00\",\"2020-02-09T00:00:00\",\"2020-02-10T00:00:00\",\"2020-02-11T00:00:00\",\"2020-02-12T00:00:00\",\"2020-02-13T00:00:00\",\"2020-02-14T00:00:00\",\"2020-02-15T00:00:00\",\"2020-02-16T00:00:00\",\"2020-02-17T00:00:00\",\"2020-02-18T00:00:00\",\"2020-02-19T00:00:00\",\"2020-02-20T00:00:00\",\"2020-02-21T00:00:00\",\"2020-02-22T00:00:00\",\"2020-02-23T00:00:00\",\"2020-02-24T00:00:00\",\"2020-02-25T00:00:00\",\"2020-02-26T00:00:00\",\"2020-02-27T00:00:00\",\"2020-02-28T00:00:00\",\"2020-02-29T00:00:00\",\"2020-03-01T00:00:00\",\"2020-03-02T00:00:00\",\"2020-03-03T00:00:00\",\"2020-03-04T00:00:00\",\"2020-03-05T00:00:00\",\"2020-03-06T00:00:00\",\"2020-03-07T00:00:00\",\"2020-03-08T00:00:00\",\"2020-03-09T00:00:00\",\"2020-03-10T00:00:00\",\"2020-03-11T00:00:00\",\"2020-03-12T00:00:00\",\"2020-03-13T00:00:00\",\"2020-03-14T00:00:00\",\"2020-03-15T00:00:00\",\"2020-03-16T00:00:00\",\"2020-03-17T00:00:00\",\"2020-03-18T00:00:00\",\"2020-03-19T00:00:00\",\"2020-03-20T00:00:00\",\"2020-03-21T00:00:00\",\"2020-03-22T00:00:00\",\"2020-03-23T00:00:00\",\"2020-03-24T00:00:00\",\"2020-03-25T00:00:00\",\"2020-03-26T00:00:00\",\"2020-03-27T00:00:00\",\"2020-03-28T00:00:00\",\"2020-03-29T00:00:00\",\"2020-03-30T00:00:00\",\"2020-03-31T00:00:00\",\"2020-04-01T00:00:00\",\"2020-04-02T00:00:00\",\"2020-04-03T00:00:00\",\"2020-04-04T00:00:00\",\"2020-04-05T00:00:00\",\"2020-04-06T00:00:00\",\"2020-04-07T00:00:00\",\"2020-04-08T00:00:00\",\"2020-04-09T00:00:00\",\"2020-04-10T00:00:00\",\"2020-04-11T00:00:00\",\"2020-04-12T00:00:00\",\"2020-04-13T00:00:00\",\"2020-04-14T00:00:00\",\"2020-04-15T00:00:00\",\"2020-04-16T00:00:00\",\"2020-04-17T00:00:00\",\"2020-04-18T00:00:00\",\"2020-04-19T00:00:00\",\"2020-04-20T00:00:00\",\"2020-04-21T00:00:00\",\"2020-04-22T00:00:00\"],\"xaxis\":\"x\",\"y\":[-0.7489824809705259,-1.2006953150392663,-0.3065748007496126,-0.3306034046829057,-2.1666719063957185,-0.3899659993989813,-0.3101971974471395,-0.3295110410760401,-1.3830484721204446,0.2407102098137995,-0.0109193486687081,0.2667799813577111,0.3297187414388332,1.2090511450413697,0.4683791986152893,-0.4906464531968068,0.6659128706645265,0.2311723187717619,-0.4789144621020233,0.4939862172449096,0.024309714334426,-0.4576993450350839,0.1726475816854711,-0.6333089293487852,0.0401884342939516,-0.4961175134518445,-1.0332871167056434,-1.192837228361178,-0.9519155808188136,-0.2281835615545099,-0.946256434993386,-1.203672198001143,-1.2339893086359126,-0.8210251785109086,0.464089254575267,0.1787679846958377,0.0188489641552481,0.2037709187590408,-0.8612331351066281,-1.418765558786993,-0.6250526958340413,-0.4377125481325074,-0.7689583891858824,-1.2823201308175225,-0.3462142454093194,-1.0663763805109567,-1.5763918220479356,-0.735036166162239,-1.188285225015459,-1.7533460931125786,-4.037384704213647,-4.063214361288178,-2.2203427328954213,-1.1282784165923574,-1.4602467291547383,-0.5620084644241301,-1.9397477789683488,-5.176698363851587,-3.7203691310149294,-2.2625942576163744,-0.2837370781920779,-0.6752951749190572,-1.3889022367396149,-1.713281368317238,-1.7819926357774103,-2.2396010644194946,-1.5873722023279682,-3.5631615568703814,-2.6976219557628944,-2.157776018978719,-2.3676020117778327,-1.4225954255803062,-0.5818655220426303,-1.513906027253466,-2.2695064750392606,-2.128098934669953,-1.6408843345644135,-2.181383627448473,-1.2959268059272782,-2.9840616078755664,-1.96617156030687,-1.4335631115860734,-0.5445123786165031,-1.6505423995532031,-1.4706800205339603,-2.542315089487835,-2.280619139411451,-4.591191584578435,-2.9189696648249672,-1.7405580168496402,-0.909106968158792,-1.8661265206624669,-2.4910949391694794,-2.7963378267895846,-2.760711234952113,-3.032348172947723,-2.9598268827895264,-0.9157880492913626,-2.5373871191431903,-2.9448852529409595,-2.3057312305632194,-1.1574051276826818,-1.2087692451905103,-1.5508351795206985,-1.4512301308056346,-0.8469091511325556,-1.7488415938371864,-2.1927541529144743,-2.3005539005063347,-0.7792376056992006,-1.921800145152984,-1.8780397110011984,-2.9636002224426985,-1.6400752639168676,-0.7196644290858917,-1.382903377647059,-1.330003963193206,-1.6212281649766729,-1.0143467821648036,-0.6059395952983541,-1.4263633594819856,-1.3389820907006291,-0.4490061393739218,-1.1486739490572089,-1.6648163611886695,-1.599243612453558,-1.032596202958734,-1.8731294869212511,-1.2859595934527852,-0.5529641988959261,-0.2037642160380741,-0.9550063518020636],\"yaxis\":\"y\",\"type\":\"scatter\"}],                        {\"template\":{\"data\":{\"histogram2dcontour\":[{\"type\":\"histogram2dcontour\",\"colorbar\":{\"outlinewidth\":0,\"ticks\":\"\"},\"colorscale\":[[0.0,\"#0d0887\"],[0.1111111111111111,\"#46039f\"],[0.2222222222222222,\"#7201a8\"],[0.3333333333333333,\"#9c179e\"],[0.4444444444444444,\"#bd3786\"],[0.5555555555555556,\"#d8576b\"],[0.6666666666666666,\"#ed7953\"],[0.7777777777777778,\"#fb9f3a\"],[0.8888888888888888,\"#fdca26\"],[1.0,\"#f0f921\"]]}],\"choropleth\":[{\"type\":\"choropleth\",\"colorbar\":{\"outlinewidth\":0,\"ticks\":\"\"}}],\"histogram2d\":[{\"type\":\"histogram2d\",\"colorbar\":{\"outlinewidth\":0,\"ticks\":\"\"},\"colorscale\":[[0.0,\"#0d0887\"],[0.1111111111111111,\"#46039f\"],[0.2222222222222222,\"#7201a8\"],[0.3333333333333333,\"#9c179e\"],[0.4444444444444444,\"#bd3786\"],[0.5555555555555556,\"#d8576b\"],[0.6666666666666666,\"#ed7953\"],[0.7777777777777778,\"#fb9f3a\"],[0.8888888888888888,\"#fdca26\"],[1.0,\"#f0f921\"]]}],\"heatmap\":[{\"type\":\"heatmap\",\"colorbar\":{\"outlinewidth\":0,\"ticks\":\"\"},\"colorscale\":[[0.0,\"#0d0887\"],[0.1111111111111111,\"#46039f\"],[0.2222222222222222,\"#7201a8\"],[0.3333333333333333,\"#9c179e\"],[0.4444444444444444,\"#bd3786\"],[0.5555555555555556,\"#d8576b\"],[0.6666666666666666,\"#ed7953\"],[0.7777777777777778,\"#fb9f3a\"],[0.8888888888888888,\"#fdca26\"],[1.0,\"#f0f921\"]]}],\"heatmapgl\":[{\"type\":\"heatmapgl\",\"colorbar\":{\"outlinewidth\":0,\"ticks\":\"\"},\"colorscale\":[[0.0,\"#0d0887\"],[0.1111111111111111,\"#46039f\"],[0.2222222222222222,\"#7201a8\"],[0.3333333333333333,\"#9c179e\"],[0.4444444444444444,\"#bd3786\"],[0.5555555555555556,\"#d8576b\"],[0.6666666666666666,\"#ed7953\"],[0.7777777777777778,\"#fb9f3a\"],[0.8888888888888888,\"#fdca26\"],[1.0,\"#f0f921\"]]}],\"contourcarpet\":[{\"type\":\"contourcarpet\",\"colorbar\":{\"outlinewidth\":0,\"ticks\":\"\"}}],\"contour\":[{\"type\":\"contour\",\"colorbar\":{\"outlinewidth\":0,\"ticks\":\"\"},\"colorscale\":[[0.0,\"#0d0887\"],[0.1111111111111111,\"#46039f\"],[0.2222222222222222,\"#7201a8\"],[0.3333333333333333,\"#9c179e\"],[0.4444444444444444,\"#bd3786\"],[0.5555555555555556,\"#d8576b\"],[0.6666666666666666,\"#ed7953\"],[0.7777777777777778,\"#fb9f3a\"],[0.8888888888888888,\"#fdca26\"],[1.0,\"#f0f921\"]]}],\"surface\":[{\"type\":\"surface\",\"colorbar\":{\"outlinewidth\":0,\"ticks\":\"\"},\"colorscale\":[[0.0,\"#0d0887\"],[0.1111111111111111,\"#46039f\"],[0.2222222222222222,\"#7201a8\"],[0.3333333333333333,\"#9c179e\"],[0.4444444444444444,\"#bd3786\"],[0.5555555555555556,\"#d8576b\"],[0.6666666666666666,\"#ed7953\"],[0.7777777777777778,\"#fb9f3a\"],[0.8888888888888888,\"#fdca26\"],[1.0,\"#f0f921\"]]}],\"mesh3d\":[{\"type\":\"mesh3d\",\"colorbar\":{\"outlinewidth\":0,\"ticks\":\"\"}}],\"scatter\":[{\"fillpattern\":{\"fillmode\":\"overlay\",\"size\":10,\"solidity\":0.2},\"type\":\"scatter\"}],\"parcoords\":[{\"type\":\"parcoords\",\"line\":{\"colorbar\":{\"outlinewidth\":0,\"ticks\":\"\"}}}],\"scatterpolargl\":[{\"type\":\"scatterpolargl\",\"marker\":{\"colorbar\":{\"outlinewidth\":0,\"ticks\":\"\"}}}],\"bar\":[{\"error_x\":{\"color\":\"#2a3f5f\"},\"error_y\":{\"color\":\"#2a3f5f\"},\"marker\":{\"line\":{\"color\":\"#E5ECF6\",\"width\":0.5},\"pattern\":{\"fillmode\":\"overlay\",\"size\":10,\"solidity\":0.2}},\"type\":\"bar\"}],\"scattergeo\":[{\"type\":\"scattergeo\",\"marker\":{\"colorbar\":{\"outlinewidth\":0,\"ticks\":\"\"}}}],\"scatterpolar\":[{\"type\":\"scatterpolar\",\"marker\":{\"colorbar\":{\"outlinewidth\":0,\"ticks\":\"\"}}}],\"histogram\":[{\"marker\":{\"pattern\":{\"fillmode\":\"overlay\",\"size\":10,\"solidity\":0.2}},\"type\":\"histogram\"}],\"scattergl\":[{\"type\":\"scattergl\",\"marker\":{\"colorbar\":{\"outlinewidth\":0,\"ticks\":\"\"}}}],\"scatter3d\":[{\"type\":\"scatter3d\",\"line\":{\"colorbar\":{\"outlinewidth\":0,\"ticks\":\"\"}},\"marker\":{\"colorbar\":{\"outlinewidth\":0,\"ticks\":\"\"}}}],\"scattermapbox\":[{\"type\":\"scattermapbox\",\"marker\":{\"colorbar\":{\"outlinewidth\":0,\"ticks\":\"\"}}}],\"scatterternary\":[{\"type\":\"scatterternary\",\"marker\":{\"colorbar\":{\"outlinewidth\":0,\"ticks\":\"\"}}}],\"scattercarpet\":[{\"type\":\"scattercarpet\",\"marker\":{\"colorbar\":{\"outlinewidth\":0,\"ticks\":\"\"}}}],\"carpet\":[{\"aaxis\":{\"endlinecolor\":\"#2a3f5f\",\"gridcolor\":\"white\",\"linecolor\":\"white\",\"minorgridcolor\":\"white\",\"startlinecolor\":\"#2a3f5f\"},\"baxis\":{\"endlinecolor\":\"#2a3f5f\",\"gridcolor\":\"white\",\"linecolor\":\"white\",\"minorgridcolor\":\"white\",\"startlinecolor\":\"#2a3f5f\"},\"type\":\"carpet\"}],\"table\":[{\"cells\":{\"fill\":{\"color\":\"#EBF0F8\"},\"line\":{\"color\":\"white\"}},\"header\":{\"fill\":{\"color\":\"#C8D4E3\"},\"line\":{\"color\":\"white\"}},\"type\":\"table\"}],\"barpolar\":[{\"marker\":{\"line\":{\"color\":\"#E5ECF6\",\"width\":0.5},\"pattern\":{\"fillmode\":\"overlay\",\"size\":10,\"solidity\":0.2}},\"type\":\"barpolar\"}],\"pie\":[{\"automargin\":true,\"type\":\"pie\"}]},\"layout\":{\"autotypenumbers\":\"strict\",\"colorway\":[\"#636efa\",\"#EF553B\",\"#00cc96\",\"#ab63fa\",\"#FFA15A\",\"#19d3f3\",\"#FF6692\",\"#B6E880\",\"#FF97FF\",\"#FECB52\"],\"font\":{\"color\":\"#2a3f5f\"},\"hovermode\":\"closest\",\"hoverlabel\":{\"align\":\"left\"},\"paper_bgcolor\":\"white\",\"plot_bgcolor\":\"#E5ECF6\",\"polar\":{\"bgcolor\":\"#E5ECF6\",\"angularaxis\":{\"gridcolor\":\"white\",\"linecolor\":\"white\",\"ticks\":\"\"},\"radialaxis\":{\"gridcolor\":\"white\",\"linecolor\":\"white\",\"ticks\":\"\"}},\"ternary\":{\"bgcolor\":\"#E5ECF6\",\"aaxis\":{\"gridcolor\":\"white\",\"linecolor\":\"white\",\"ticks\":\"\"},\"baxis\":{\"gridcolor\":\"white\",\"linecolor\":\"white\",\"ticks\":\"\"},\"caxis\":{\"gridcolor\":\"white\",\"linecolor\":\"white\",\"ticks\":\"\"}},\"coloraxis\":{\"colorbar\":{\"outlinewidth\":0,\"ticks\":\"\"}},\"colorscale\":{\"sequential\":[[0.0,\"#0d0887\"],[0.1111111111111111,\"#46039f\"],[0.2222222222222222,\"#7201a8\"],[0.3333333333333333,\"#9c179e\"],[0.4444444444444444,\"#bd3786\"],[0.5555555555555556,\"#d8576b\"],[0.6666666666666666,\"#ed7953\"],[0.7777777777777778,\"#fb9f3a\"],[0.8888888888888888,\"#fdca26\"],[1.0,\"#f0f921\"]],\"sequentialminus\":[[0.0,\"#0d0887\"],[0.1111111111111111,\"#46039f\"],[0.2222222222222222,\"#7201a8\"],[0.3333333333333333,\"#9c179e\"],[0.4444444444444444,\"#bd3786\"],[0.5555555555555556,\"#d8576b\"],[0.6666666666666666,\"#ed7953\"],[0.7777777777777778,\"#fb9f3a\"],[0.8888888888888888,\"#fdca26\"],[1.0,\"#f0f921\"]],\"diverging\":[[0,\"#8e0152\"],[0.1,\"#c51b7d\"],[0.2,\"#de77ae\"],[0.3,\"#f1b6da\"],[0.4,\"#fde0ef\"],[0.5,\"#f7f7f7\"],[0.6,\"#e6f5d0\"],[0.7,\"#b8e186\"],[0.8,\"#7fbc41\"],[0.9,\"#4d9221\"],[1,\"#276419\"]]},\"xaxis\":{\"gridcolor\":\"white\",\"linecolor\":\"white\",\"ticks\":\"\",\"title\":{\"standoff\":15},\"zerolinecolor\":\"white\",\"automargin\":true,\"zerolinewidth\":2},\"yaxis\":{\"gridcolor\":\"white\",\"linecolor\":\"white\",\"ticks\":\"\",\"title\":{\"standoff\":15},\"zerolinecolor\":\"white\",\"automargin\":true,\"zerolinewidth\":2},\"scene\":{\"xaxis\":{\"backgroundcolor\":\"#E5ECF6\",\"gridcolor\":\"white\",\"linecolor\":\"white\",\"showbackground\":true,\"ticks\":\"\",\"zerolinecolor\":\"white\",\"gridwidth\":2},\"yaxis\":{\"backgroundcolor\":\"#E5ECF6\",\"gridcolor\":\"white\",\"linecolor\":\"white\",\"showbackground\":true,\"ticks\":\"\",\"zerolinecolor\":\"white\",\"gridwidth\":2},\"zaxis\":{\"backgroundcolor\":\"#E5ECF6\",\"gridcolor\":\"white\",\"linecolor\":\"white\",\"showbackground\":true,\"ticks\":\"\",\"zerolinecolor\":\"white\",\"gridwidth\":2}},\"shapedefaults\":{\"line\":{\"color\":\"#2a3f5f\"}},\"annotationdefaults\":{\"arrowcolor\":\"#2a3f5f\",\"arrowhead\":0,\"arrowwidth\":1},\"geo\":{\"bgcolor\":\"white\",\"landcolor\":\"#E5ECF6\",\"subunitcolor\":\"white\",\"showland\":true,\"showlakes\":true,\"lakecolor\":\"white\"},\"title\":{\"x\":0.05},\"mapbox\":{\"style\":\"light\"}}},\"xaxis\":{\"anchor\":\"y\",\"domain\":[0.0,1.0],\"title\":{\"text\":\"Timestamp\"}},\"yaxis\":{\"anchor\":\"x\",\"domain\":[0.0,1.0],\"title\":{\"text\":\"SDG_Mean\"}},\"legend\":{\"tracegroupgap\":0},\"title\":{\"text\":\"Time Series Line Chart\"},\"shapes\":[{\"fillcolor\":\"rgba(200,0,200,0.2)\",\"layer\":\"below\",\"line\":{\"color\":\"rgba(0,0,0,0)\",\"width\":3},\"type\":\"rect\",\"x0\":\"2019-12-31T00:00:00\",\"x1\":\"2020-01-01T00:00:00\",\"xref\":\"x\",\"y0\":0,\"y1\":1,\"yref\":\"paper\"},{\"fillcolor\":\"rgba(200,0,200,0.2)\",\"layer\":\"below\",\"line\":{\"color\":\"rgba(0,0,0,0)\",\"width\":3},\"type\":\"rect\",\"x0\":\"2020-01-02T00:00:00\",\"x1\":\"2020-01-03T00:00:00\",\"xref\":\"x\",\"y0\":0,\"y1\":1,\"yref\":\"paper\"},{\"fillcolor\":\"rgba(200,0,200,0.2)\",\"layer\":\"below\",\"line\":{\"color\":\"rgba(0,0,0,0)\",\"width\":3},\"type\":\"rect\",\"x0\":\"2020-01-05T00:00:00\",\"x1\":\"2020-01-06T00:00:00\",\"xref\":\"x\",\"y0\":0,\"y1\":1,\"yref\":\"paper\"},{\"fillcolor\":\"rgba(200,0,200,0.2)\",\"layer\":\"below\",\"line\":{\"color\":\"rgba(0,0,0,0)\",\"width\":3},\"type\":\"rect\",\"x0\":\"2020-01-07T00:00:00\",\"x1\":\"2020-01-08T00:00:00\",\"xref\":\"x\",\"y0\":0,\"y1\":1,\"yref\":\"paper\"},{\"fillcolor\":\"rgba(200,0,200,0.2)\",\"layer\":\"below\",\"line\":{\"color\":\"rgba(0,0,0,0)\",\"width\":3},\"type\":\"rect\",\"x0\":\"2020-01-10T00:00:00\",\"x1\":\"2020-01-11T00:00:00\",\"xref\":\"x\",\"y0\":0,\"y1\":1,\"yref\":\"paper\"},{\"fillcolor\":\"rgba(200,0,200,0.2)\",\"layer\":\"below\",\"line\":{\"color\":\"rgba(0,0,0,0)\",\"width\":3},\"type\":\"rect\",\"x0\":\"2020-01-13T00:00:00\",\"x1\":\"2020-01-14T00:00:00\",\"xref\":\"x\",\"y0\":0,\"y1\":1,\"yref\":\"paper\"},{\"fillcolor\":\"rgba(200,0,200,0.2)\",\"layer\":\"below\",\"line\":{\"color\":\"rgba(0,0,0,0)\",\"width\":3},\"type\":\"rect\",\"x0\":\"2020-01-15T00:00:00\",\"x1\":\"2020-01-16T00:00:00\",\"xref\":\"x\",\"y0\":0,\"y1\":1,\"yref\":\"paper\"},{\"fillcolor\":\"rgba(200,0,200,0.2)\",\"layer\":\"below\",\"line\":{\"color\":\"rgba(0,0,0,0)\",\"width\":3},\"type\":\"rect\",\"x0\":\"2020-01-17T00:00:00\",\"x1\":\"2020-01-18T00:00:00\",\"xref\":\"x\",\"y0\":0,\"y1\":1,\"yref\":\"paper\"},{\"fillcolor\":\"rgba(200,0,200,0.2)\",\"layer\":\"below\",\"line\":{\"color\":\"rgba(0,0,0,0)\",\"width\":3},\"type\":\"rect\",\"x0\":\"2020-01-20T00:00:00\",\"x1\":\"2020-01-23T00:00:00\",\"xref\":\"x\",\"y0\":0,\"y1\":1,\"yref\":\"paper\"},{\"fillcolor\":\"rgba(200,0,200,0.2)\",\"layer\":\"below\",\"line\":{\"color\":\"rgba(0,0,0,0)\",\"width\":3},\"type\":\"rect\",\"x0\":\"2020-01-27T00:00:00\",\"x1\":\"2020-01-28T00:00:00\",\"xref\":\"x\",\"y0\":0,\"y1\":1,\"yref\":\"paper\"},{\"fillcolor\":\"rgba(200,0,200,0.2)\",\"layer\":\"below\",\"line\":{\"color\":\"rgba(0,0,0,0)\",\"width\":3},\"type\":\"rect\",\"x0\":\"2020-01-29T00:00:00\",\"x1\":\"2020-01-30T00:00:00\",\"xref\":\"x\",\"y0\":0,\"y1\":1,\"yref\":\"paper\"},{\"fillcolor\":\"rgba(200,0,200,0.2)\",\"layer\":\"below\",\"line\":{\"color\":\"rgba(0,0,0,0)\",\"width\":3},\"type\":\"rect\",\"x0\":\"2020-01-31T00:00:00\",\"x1\":\"2020-02-01T00:00:00\",\"xref\":\"x\",\"y0\":0,\"y1\":1,\"yref\":\"paper\"},{\"fillcolor\":\"rgba(200,0,200,0.2)\",\"layer\":\"below\",\"line\":{\"color\":\"rgba(0,0,0,0)\",\"width\":3},\"type\":\"rect\",\"x0\":\"2020-02-03T00:00:00\",\"x1\":\"2020-02-05T00:00:00\",\"xref\":\"x\",\"y0\":0,\"y1\":1,\"yref\":\"paper\"},{\"fillcolor\":\"rgba(200,0,200,0.2)\",\"layer\":\"below\",\"line\":{\"color\":\"rgba(0,0,0,0)\",\"width\":3},\"type\":\"rect\",\"x0\":\"2020-02-08T00:00:00\",\"x1\":\"2020-02-09T00:00:00\",\"xref\":\"x\",\"y0\":0,\"y1\":1,\"yref\":\"paper\"},{\"fillcolor\":\"rgba(200,0,200,0.2)\",\"layer\":\"below\",\"line\":{\"color\":\"rgba(0,0,0,0)\",\"width\":3},\"type\":\"rect\",\"x0\":\"2020-02-11T00:00:00\",\"x1\":\"2020-02-12T00:00:00\",\"xref\":\"x\",\"y0\":0,\"y1\":1,\"yref\":\"paper\"},{\"fillcolor\":\"rgba(200,0,200,0.2)\",\"layer\":\"below\",\"line\":{\"color\":\"rgba(0,0,0,0)\",\"width\":3},\"type\":\"rect\",\"x0\":\"2020-02-23T00:00:00\",\"x1\":\"2020-02-24T00:00:00\",\"xref\":\"x\",\"y0\":0,\"y1\":1,\"yref\":\"paper\"},{\"fillcolor\":\"rgba(200,0,200,0.2)\",\"layer\":\"below\",\"line\":{\"color\":\"rgba(0,0,0,0)\",\"width\":3},\"type\":\"rect\",\"x0\":\"2020-02-26T00:00:00\",\"x1\":\"2020-02-27T00:00:00\",\"xref\":\"x\",\"y0\":0,\"y1\":1,\"yref\":\"paper\"},{\"fillcolor\":\"rgba(200,0,200,0.2)\",\"layer\":\"below\",\"line\":{\"color\":\"rgba(0,0,0,0)\",\"width\":3},\"type\":\"rect\",\"x0\":\"2020-02-29T00:00:00\",\"x1\":\"2020-03-02T00:00:00\",\"xref\":\"x\",\"y0\":0,\"y1\":1,\"yref\":\"paper\"},{\"fillcolor\":\"rgba(200,0,200,0.2)\",\"layer\":\"below\",\"line\":{\"color\":\"rgba(0,0,0,0)\",\"width\":3},\"type\":\"rect\",\"x0\":\"2020-03-11T00:00:00\",\"x1\":\"2020-03-18T00:00:00\",\"xref\":\"x\",\"y0\":0,\"y1\":1,\"yref\":\"paper\"},{\"fillcolor\":\"rgba(200,0,200,0.2)\",\"layer\":\"below\",\"line\":{\"color\":\"rgba(0,0,0,0)\",\"width\":3},\"type\":\"rect\",\"x0\":\"2020-03-26T00:00:00\",\"x1\":\"2020-03-27T00:00:00\",\"xref\":\"x\",\"y0\":0,\"y1\":1,\"yref\":\"paper\"},{\"fillcolor\":\"rgba(200,0,200,0.2)\",\"layer\":\"below\",\"line\":{\"color\":\"rgba(0,0,0,0)\",\"width\":3},\"type\":\"rect\",\"x0\":\"2020-03-28T00:00:00\",\"x1\":\"2020-03-29T00:00:00\",\"xref\":\"x\",\"y0\":0,\"y1\":1,\"yref\":\"paper\"},{\"fillcolor\":\"rgba(200,0,200,0.2)\",\"layer\":\"below\",\"line\":{\"color\":\"rgba(0,0,0,0)\",\"width\":3},\"type\":\"rect\",\"x0\":\"2020-03-31T00:00:00\",\"x1\":\"2020-04-01T00:00:00\",\"xref\":\"x\",\"y0\":0,\"y1\":1,\"yref\":\"paper\"},{\"fillcolor\":\"rgba(200,0,200,0.2)\",\"layer\":\"below\",\"line\":{\"color\":\"rgba(0,0,0,0)\",\"width\":3},\"type\":\"rect\",\"x0\":\"2020-04-03T00:00:00\",\"x1\":\"2020-04-04T00:00:00\",\"xref\":\"x\",\"y0\":0,\"y1\":1,\"yref\":\"paper\"},{\"fillcolor\":\"rgba(200,0,200,0.2)\",\"layer\":\"below\",\"line\":{\"color\":\"rgba(0,0,0,0)\",\"width\":3},\"type\":\"rect\",\"x0\":\"2020-04-06T00:00:00\",\"x1\":\"2020-04-09T00:00:00\",\"xref\":\"x\",\"y0\":0,\"y1\":1,\"yref\":\"paper\"},{\"fillcolor\":\"rgba(200,0,200,0.2)\",\"layer\":\"below\",\"line\":{\"color\":\"rgba(0,0,0,0)\",\"width\":3},\"type\":\"rect\",\"x0\":\"2020-04-10T00:00:00\",\"x1\":\"2020-04-11T00:00:00\",\"xref\":\"x\",\"y0\":0,\"y1\":1,\"yref\":\"paper\"},{\"fillcolor\":\"rgba(200,0,200,0.2)\",\"layer\":\"below\",\"line\":{\"color\":\"rgba(0,0,0,0)\",\"width\":3},\"type\":\"rect\",\"x0\":\"2020-04-13T00:00:00\",\"x1\":\"2020-04-14T00:00:00\",\"xref\":\"x\",\"y0\":0,\"y1\":1,\"yref\":\"paper\"}]},                        {\"responsive\": true}                    ).then(function(){\n",
       "                            \n",
       "var gd = document.getElementById('dc412f1b-360f-410c-9ed3-fc97e7c1a145');\n",
       "var x = new MutationObserver(function (mutations, observer) {{\n",
       "        var display = window.getComputedStyle(gd).display;\n",
       "        if (!display || display === 'none') {{\n",
       "            console.log([gd, 'removed!']);\n",
       "            Plotly.purge(gd);\n",
       "            observer.disconnect();\n",
       "        }}\n",
       "}});\n",
       "\n",
       "// Listen for the removal of the full notebook cells\n",
       "var notebookContainer = gd.closest('#notebook-container');\n",
       "if (notebookContainer) {{\n",
       "    x.observe(notebookContainer, {childList: true});\n",
       "}}\n",
       "\n",
       "// Listen for the clearing of the current output cell\n",
       "var outputEl = gd.closest('.output');\n",
       "if (outputEl) {{\n",
       "    x.observe(outputEl, {childList: true});\n",
       "}}\n",
       "\n",
       "                        })                };                });            </script>        </div>"
      ]
     },
     "metadata": {},
     "output_type": "display_data"
    }
   ],
   "source": [
    "mask = df_AAPL_late[\"Timestamp\"].isin(df_time[\"Date\"].unique())\n",
    "\n",
    "df1 = df_AAPL_late[mask].groupby((~mask).cumsum())['Timestamp'].agg(['first','last'])\n",
    "\n",
    "fillcolor = 'rgba(200,0,200,0.2)'\n",
    "layer = 'below'\n",
    "\n",
    "for index, row in df1.iterrows():\n",
    "        #print(row['first'], row['last'])\n",
    "        lineC.add_shape(type=\"rect\",\n",
    "        xref=\"x\",\n",
    "        yref=\"paper\",\n",
    "        x0=row['first'],\n",
    "        y0=0,\n",
    "        x1=row['last'] + datetime.timedelta(days=1),\n",
    "        y1=1,\n",
    "        line=dict(color=\"rgba(0,0,0,0)\",width=3,),\n",
    "        fillcolor=fillcolor,\n",
    "        layer=layer)\n",
    "\n",
    "lineC.update_layout()\n",
    "\n",
    "lineC.show()"
   ]
  },
  {
   "cell_type": "code",
   "execution_count": 169,
   "id": "95452681",
   "metadata": {},
   "outputs": [
    {
     "name": "stderr",
     "output_type": "stream",
     "text": [
      "<ipython-input-169-5855ee710a59>:2: SettingWithCopyWarning:\n",
      "\n",
      "\n",
      "A value is trying to be set on a copy of a slice from a DataFrame.\n",
      "Try using .loc[row_indexer,col_indexer] = value instead\n",
      "\n",
      "See the caveats in the documentation: https://pandas.pydata.org/pandas-docs/stable/user_guide/indexing.html#returning-a-view-versus-a-copy\n",
      "\n"
     ]
    },
    {
     "data": {
      "application/vnd.plotly.v1+json": {
       "config": {
        "plotlyServerURL": "https://plot.ly"
       },
       "data": [
        {
         "hovertemplate": "Timestamp=%{x}<br>SDG_Mean=%{y}<extra></extra>",
         "legendgroup": "",
         "line": {
          "color": "#636efa",
          "dash": "solid"
         },
         "marker": {
          "symbol": "circle"
         },
         "mode": "lines",
         "name": "",
         "orientation": "v",
         "showlegend": false,
         "type": "scatter",
         "x": [
          "2019-12-13T00:00:00",
          "2019-12-14T00:00:00",
          "2019-12-15T00:00:00",
          "2019-12-16T00:00:00",
          "2019-12-17T00:00:00",
          "2019-12-18T00:00:00",
          "2019-12-19T00:00:00",
          "2019-12-20T00:00:00",
          "2019-12-21T00:00:00",
          "2019-12-22T00:00:00",
          "2019-12-23T00:00:00",
          "2019-12-24T00:00:00",
          "2019-12-25T00:00:00",
          "2019-12-26T00:00:00",
          "2019-12-27T00:00:00",
          "2019-12-28T00:00:00",
          "2019-12-29T00:00:00",
          "2019-12-30T00:00:00",
          "2019-12-31T00:00:00",
          "2020-01-01T00:00:00",
          "2020-01-02T00:00:00",
          "2020-01-03T00:00:00",
          "2020-01-04T00:00:00",
          "2020-01-05T00:00:00",
          "2020-01-06T00:00:00",
          "2020-01-07T00:00:00",
          "2020-01-08T00:00:00",
          "2020-01-09T00:00:00",
          "2020-01-10T00:00:00",
          "2020-01-11T00:00:00",
          "2020-01-12T00:00:00",
          "2020-01-13T00:00:00",
          "2020-01-14T00:00:00",
          "2020-01-15T00:00:00",
          "2020-01-16T00:00:00",
          "2020-01-17T00:00:00",
          "2020-01-18T00:00:00",
          "2020-01-19T00:00:00",
          "2020-01-20T00:00:00",
          "2020-01-21T00:00:00",
          "2020-01-22T00:00:00",
          "2020-01-23T00:00:00",
          "2020-01-24T00:00:00",
          "2020-01-25T00:00:00",
          "2020-01-26T00:00:00",
          "2020-01-27T00:00:00",
          "2020-01-28T00:00:00",
          "2020-01-29T00:00:00",
          "2020-01-30T00:00:00",
          "2020-01-31T00:00:00",
          "2020-02-01T00:00:00",
          "2020-02-02T00:00:00",
          "2020-02-03T00:00:00",
          "2020-02-04T00:00:00",
          "2020-02-05T00:00:00",
          "2020-02-06T00:00:00",
          "2020-02-07T00:00:00",
          "2020-02-08T00:00:00",
          "2020-02-09T00:00:00",
          "2020-02-10T00:00:00",
          "2020-02-11T00:00:00",
          "2020-02-12T00:00:00",
          "2020-02-13T00:00:00",
          "2020-02-14T00:00:00",
          "2020-02-15T00:00:00",
          "2020-02-16T00:00:00",
          "2020-02-17T00:00:00",
          "2020-02-18T00:00:00",
          "2020-02-19T00:00:00",
          "2020-02-20T00:00:00",
          "2020-02-21T00:00:00",
          "2020-02-22T00:00:00",
          "2020-02-23T00:00:00",
          "2020-02-24T00:00:00",
          "2020-02-25T00:00:00",
          "2020-02-26T00:00:00",
          "2020-02-27T00:00:00",
          "2020-02-28T00:00:00",
          "2020-02-29T00:00:00",
          "2020-03-01T00:00:00",
          "2020-03-02T00:00:00",
          "2020-03-03T00:00:00",
          "2020-03-04T00:00:00",
          "2020-03-05T00:00:00",
          "2020-03-06T00:00:00",
          "2020-03-07T00:00:00",
          "2020-03-08T00:00:00",
          "2020-03-09T00:00:00",
          "2020-03-10T00:00:00",
          "2020-03-11T00:00:00",
          "2020-03-12T00:00:00",
          "2020-03-13T00:00:00",
          "2020-03-14T00:00:00",
          "2020-03-15T00:00:00",
          "2020-03-16T00:00:00",
          "2020-03-17T00:00:00",
          "2020-03-18T00:00:00",
          "2020-03-19T00:00:00",
          "2020-03-20T00:00:00",
          "2020-03-21T00:00:00",
          "2020-03-22T00:00:00",
          "2020-03-23T00:00:00",
          "2020-03-24T00:00:00",
          "2020-03-25T00:00:00",
          "2020-03-26T00:00:00",
          "2020-03-27T00:00:00",
          "2020-03-28T00:00:00",
          "2020-03-29T00:00:00",
          "2020-03-30T00:00:00",
          "2020-03-31T00:00:00",
          "2020-04-01T00:00:00",
          "2020-04-02T00:00:00",
          "2020-04-03T00:00:00",
          "2020-04-04T00:00:00",
          "2020-04-05T00:00:00",
          "2020-04-06T00:00:00",
          "2020-04-07T00:00:00",
          "2020-04-08T00:00:00",
          "2020-04-09T00:00:00",
          "2020-04-10T00:00:00",
          "2020-04-11T00:00:00",
          "2020-04-12T00:00:00",
          "2020-04-13T00:00:00",
          "2020-04-14T00:00:00",
          "2020-04-15T00:00:00",
          "2020-04-16T00:00:00",
          "2020-04-17T00:00:00",
          "2020-04-18T00:00:00",
          "2020-04-19T00:00:00",
          "2020-04-20T00:00:00",
          "2020-04-21T00:00:00",
          "2020-04-22T00:00:00"
         ],
         "xaxis": "x",
         "y": [
          1.9628939565600845,
          1.5446765079832685,
          0.5361660817284173,
          0.965624135674952,
          0.8447863859709801,
          1.6895744989617236,
          2.8907460194415666,
          0.15692444824688,
          -0.3839601092872177,
          0.0101262465025167,
          0.4241956190607194,
          1.5154144971297752,
          0.3938854464133456,
          0.5217454416370875,
          0.1188489080763168,
          -0.2129911783115602,
          -0.5077813500827961,
          0.3188669194581899,
          0.3816622550773547,
          -1.1438573382943356,
          -0.3530844334185852,
          -0.2892735478002645,
          1.0467185058128063,
          0.510973228139672,
          0.4733483885895004,
          0.8175757899051125,
          0.5492522336498319,
          1.3733900892870974,
          1.8863671137297209,
          0.1455728619668864,
          2.0928306583588894,
          0.6964361205905965,
          1.0473855360375102,
          0.7067139847916535,
          0.2609919192421415,
          0.1780010918678272,
          -0.2277815675326891,
          1.3641532201410411,
          0.7127123876076521,
          1.6785032808501978,
          0.1694745358159304,
          -0.1671808779728314,
          0.6686203396252464,
          -0.7316448462295414,
          -0.5569260499260867,
          0.0644174090668203,
          0.4537082871655677,
          -0.2999362687903777,
          0.6177947158008761,
          0.3758394085982217,
          -0.5906087283652829,
          0.8411927318116352,
          1.8897649793534423,
          1.1251671043135243,
          1.3304923383978466,
          1.1126314081441115,
          1.2393787621895451,
          -0.2730191968774072,
          -0.0094590053864445,
          -0.3119581692316871,
          -0.238043479727649,
          0.3599943691743173,
          0.3090602811245176,
          0.934357302036255,
          0.5692737090615524,
          0.845770355158997,
          0.5402656031993388,
          0.3892814358492997,
          -0.0655529196759732,
          1.4316102926851384,
          0.6771612089185346,
          0.450334215170024,
          0.1178502518242512,
          0.4912874299639056,
          -0.1824980967158869,
          1.239673463578975,
          1.4765137188159263,
          0.923122858471086,
          -0.3276792519086473,
          0.3115572608244481,
          0.6017502541489705,
          0.0153169047365862,
          0.3719809443911114,
          0.8883380895563867,
          -0.9164338955978216,
          -0.6382636192150509,
          -1.7701358281268311,
          -0.401197790359205,
          -1.3989092043854388,
          0.4787226470402208,
          0.9705605841820862,
          -0.4522717606707157,
          -1.6827625108944126,
          -1.326168557470055,
          -1.1926335513216082,
          -0.6952359765118736,
          -1.2690980702101688,
          -0.7863251854125267,
          -0.8152058132837274,
          -1.5451297537455493,
          -1.3337009989081825,
          -0.0272486634590827,
          -0.684422280327821,
          -0.7781387478835096,
          -0.6281890747746413,
          -0.5394224443652368,
          -0.9888342629516058,
          -0.8591252280146165,
          -1.148753508093657,
          -1.630139035085422,
          -1.435017428581845,
          -1.039432382910448,
          -1.4436203853802572,
          -1.4134909009937604,
          -1.1476050850189683,
          -0.4269912772919343,
          -0.9893765553233398,
          -1.0196811478246648,
          -0.6877444380124226,
          -1.1805335502610217,
          -0.1624329698698818,
          -1.4685616078465265,
          -0.8454106891972212,
          -1.327723493314614,
          -1.2672330269090173,
          -0.0276706304200622,
          -0.4205958809125592,
          -0.6820519777278972,
          -1.299128201215504,
          -0.4962871264182857,
          -0.3261779699239213,
          0.0171971303680516
         ],
         "yaxis": "y"
        }
       ],
       "layout": {
        "legend": {
         "tracegroupgap": 0
        },
        "shapes": [
         {
          "fillcolor": "rgba(200,0,200,0.2)",
          "layer": "below",
          "line": {
           "color": "rgba(0,0,0,0)",
           "width": 3
          },
          "type": "rect",
          "x0": "2019-12-31T00:00:00",
          "x1": "2020-01-01T00:00:00",
          "xref": "x",
          "y0": 0,
          "y1": 1,
          "yref": "paper"
         },
         {
          "fillcolor": "rgba(200,0,200,0.2)",
          "layer": "below",
          "line": {
           "color": "rgba(0,0,0,0)",
           "width": 3
          },
          "type": "rect",
          "x0": "2020-01-02T00:00:00",
          "x1": "2020-01-03T00:00:00",
          "xref": "x",
          "y0": 0,
          "y1": 1,
          "yref": "paper"
         },
         {
          "fillcolor": "rgba(200,0,200,0.2)",
          "layer": "below",
          "line": {
           "color": "rgba(0,0,0,0)",
           "width": 3
          },
          "type": "rect",
          "x0": "2020-01-05T00:00:00",
          "x1": "2020-01-06T00:00:00",
          "xref": "x",
          "y0": 0,
          "y1": 1,
          "yref": "paper"
         },
         {
          "fillcolor": "rgba(200,0,200,0.2)",
          "layer": "below",
          "line": {
           "color": "rgba(0,0,0,0)",
           "width": 3
          },
          "type": "rect",
          "x0": "2020-01-07T00:00:00",
          "x1": "2020-01-08T00:00:00",
          "xref": "x",
          "y0": 0,
          "y1": 1,
          "yref": "paper"
         },
         {
          "fillcolor": "rgba(200,0,200,0.2)",
          "layer": "below",
          "line": {
           "color": "rgba(0,0,0,0)",
           "width": 3
          },
          "type": "rect",
          "x0": "2020-01-10T00:00:00",
          "x1": "2020-01-11T00:00:00",
          "xref": "x",
          "y0": 0,
          "y1": 1,
          "yref": "paper"
         },
         {
          "fillcolor": "rgba(200,0,200,0.2)",
          "layer": "below",
          "line": {
           "color": "rgba(0,0,0,0)",
           "width": 3
          },
          "type": "rect",
          "x0": "2020-01-13T00:00:00",
          "x1": "2020-01-14T00:00:00",
          "xref": "x",
          "y0": 0,
          "y1": 1,
          "yref": "paper"
         },
         {
          "fillcolor": "rgba(200,0,200,0.2)",
          "layer": "below",
          "line": {
           "color": "rgba(0,0,0,0)",
           "width": 3
          },
          "type": "rect",
          "x0": "2020-01-15T00:00:00",
          "x1": "2020-01-16T00:00:00",
          "xref": "x",
          "y0": 0,
          "y1": 1,
          "yref": "paper"
         },
         {
          "fillcolor": "rgba(200,0,200,0.2)",
          "layer": "below",
          "line": {
           "color": "rgba(0,0,0,0)",
           "width": 3
          },
          "type": "rect",
          "x0": "2020-01-17T00:00:00",
          "x1": "2020-01-18T00:00:00",
          "xref": "x",
          "y0": 0,
          "y1": 1,
          "yref": "paper"
         },
         {
          "fillcolor": "rgba(200,0,200,0.2)",
          "layer": "below",
          "line": {
           "color": "rgba(0,0,0,0)",
           "width": 3
          },
          "type": "rect",
          "x0": "2020-01-20T00:00:00",
          "x1": "2020-01-23T00:00:00",
          "xref": "x",
          "y0": 0,
          "y1": 1,
          "yref": "paper"
         },
         {
          "fillcolor": "rgba(200,0,200,0.2)",
          "layer": "below",
          "line": {
           "color": "rgba(0,0,0,0)",
           "width": 3
          },
          "type": "rect",
          "x0": "2020-01-27T00:00:00",
          "x1": "2020-01-28T00:00:00",
          "xref": "x",
          "y0": 0,
          "y1": 1,
          "yref": "paper"
         },
         {
          "fillcolor": "rgba(200,0,200,0.2)",
          "layer": "below",
          "line": {
           "color": "rgba(0,0,0,0)",
           "width": 3
          },
          "type": "rect",
          "x0": "2020-01-29T00:00:00",
          "x1": "2020-01-30T00:00:00",
          "xref": "x",
          "y0": 0,
          "y1": 1,
          "yref": "paper"
         },
         {
          "fillcolor": "rgba(200,0,200,0.2)",
          "layer": "below",
          "line": {
           "color": "rgba(0,0,0,0)",
           "width": 3
          },
          "type": "rect",
          "x0": "2020-01-31T00:00:00",
          "x1": "2020-02-01T00:00:00",
          "xref": "x",
          "y0": 0,
          "y1": 1,
          "yref": "paper"
         },
         {
          "fillcolor": "rgba(200,0,200,0.2)",
          "layer": "below",
          "line": {
           "color": "rgba(0,0,0,0)",
           "width": 3
          },
          "type": "rect",
          "x0": "2020-02-03T00:00:00",
          "x1": "2020-02-05T00:00:00",
          "xref": "x",
          "y0": 0,
          "y1": 1,
          "yref": "paper"
         },
         {
          "fillcolor": "rgba(200,0,200,0.2)",
          "layer": "below",
          "line": {
           "color": "rgba(0,0,0,0)",
           "width": 3
          },
          "type": "rect",
          "x0": "2020-02-08T00:00:00",
          "x1": "2020-02-09T00:00:00",
          "xref": "x",
          "y0": 0,
          "y1": 1,
          "yref": "paper"
         },
         {
          "fillcolor": "rgba(200,0,200,0.2)",
          "layer": "below",
          "line": {
           "color": "rgba(0,0,0,0)",
           "width": 3
          },
          "type": "rect",
          "x0": "2020-02-11T00:00:00",
          "x1": "2020-02-12T00:00:00",
          "xref": "x",
          "y0": 0,
          "y1": 1,
          "yref": "paper"
         },
         {
          "fillcolor": "rgba(200,0,200,0.2)",
          "layer": "below",
          "line": {
           "color": "rgba(0,0,0,0)",
           "width": 3
          },
          "type": "rect",
          "x0": "2020-02-23T00:00:00",
          "x1": "2020-02-24T00:00:00",
          "xref": "x",
          "y0": 0,
          "y1": 1,
          "yref": "paper"
         },
         {
          "fillcolor": "rgba(200,0,200,0.2)",
          "layer": "below",
          "line": {
           "color": "rgba(0,0,0,0)",
           "width": 3
          },
          "type": "rect",
          "x0": "2020-02-26T00:00:00",
          "x1": "2020-02-27T00:00:00",
          "xref": "x",
          "y0": 0,
          "y1": 1,
          "yref": "paper"
         },
         {
          "fillcolor": "rgba(200,0,200,0.2)",
          "layer": "below",
          "line": {
           "color": "rgba(0,0,0,0)",
           "width": 3
          },
          "type": "rect",
          "x0": "2020-02-29T00:00:00",
          "x1": "2020-03-02T00:00:00",
          "xref": "x",
          "y0": 0,
          "y1": 1,
          "yref": "paper"
         },
         {
          "fillcolor": "rgba(200,0,200,0.2)",
          "layer": "below",
          "line": {
           "color": "rgba(0,0,0,0)",
           "width": 3
          },
          "type": "rect",
          "x0": "2020-03-11T00:00:00",
          "x1": "2020-03-18T00:00:00",
          "xref": "x",
          "y0": 0,
          "y1": 1,
          "yref": "paper"
         },
         {
          "fillcolor": "rgba(200,0,200,0.2)",
          "layer": "below",
          "line": {
           "color": "rgba(0,0,0,0)",
           "width": 3
          },
          "type": "rect",
          "x0": "2020-03-26T00:00:00",
          "x1": "2020-03-27T00:00:00",
          "xref": "x",
          "y0": 0,
          "y1": 1,
          "yref": "paper"
         },
         {
          "fillcolor": "rgba(200,0,200,0.2)",
          "layer": "below",
          "line": {
           "color": "rgba(0,0,0,0)",
           "width": 3
          },
          "type": "rect",
          "x0": "2020-03-28T00:00:00",
          "x1": "2020-03-29T00:00:00",
          "xref": "x",
          "y0": 0,
          "y1": 1,
          "yref": "paper"
         },
         {
          "fillcolor": "rgba(200,0,200,0.2)",
          "layer": "below",
          "line": {
           "color": "rgba(0,0,0,0)",
           "width": 3
          },
          "type": "rect",
          "x0": "2020-03-31T00:00:00",
          "x1": "2020-04-01T00:00:00",
          "xref": "x",
          "y0": 0,
          "y1": 1,
          "yref": "paper"
         },
         {
          "fillcolor": "rgba(200,0,200,0.2)",
          "layer": "below",
          "line": {
           "color": "rgba(0,0,0,0)",
           "width": 3
          },
          "type": "rect",
          "x0": "2020-04-03T00:00:00",
          "x1": "2020-04-04T00:00:00",
          "xref": "x",
          "y0": 0,
          "y1": 1,
          "yref": "paper"
         },
         {
          "fillcolor": "rgba(200,0,200,0.2)",
          "layer": "below",
          "line": {
           "color": "rgba(0,0,0,0)",
           "width": 3
          },
          "type": "rect",
          "x0": "2020-04-06T00:00:00",
          "x1": "2020-04-09T00:00:00",
          "xref": "x",
          "y0": 0,
          "y1": 1,
          "yref": "paper"
         },
         {
          "fillcolor": "rgba(200,0,200,0.2)",
          "layer": "below",
          "line": {
           "color": "rgba(0,0,0,0)",
           "width": 3
          },
          "type": "rect",
          "x0": "2020-04-10T00:00:00",
          "x1": "2020-04-11T00:00:00",
          "xref": "x",
          "y0": 0,
          "y1": 1,
          "yref": "paper"
         },
         {
          "fillcolor": "rgba(200,0,200,0.2)",
          "layer": "below",
          "line": {
           "color": "rgba(0,0,0,0)",
           "width": 3
          },
          "type": "rect",
          "x0": "2020-04-13T00:00:00",
          "x1": "2020-04-14T00:00:00",
          "xref": "x",
          "y0": 0,
          "y1": 1,
          "yref": "paper"
         }
        ],
        "template": {
         "data": {
          "bar": [
           {
            "error_x": {
             "color": "#2a3f5f"
            },
            "error_y": {
             "color": "#2a3f5f"
            },
            "marker": {
             "line": {
              "color": "#E5ECF6",
              "width": 0.5
             },
             "pattern": {
              "fillmode": "overlay",
              "size": 10,
              "solidity": 0.2
             }
            },
            "type": "bar"
           }
          ],
          "barpolar": [
           {
            "marker": {
             "line": {
              "color": "#E5ECF6",
              "width": 0.5
             },
             "pattern": {
              "fillmode": "overlay",
              "size": 10,
              "solidity": 0.2
             }
            },
            "type": "barpolar"
           }
          ],
          "carpet": [
           {
            "aaxis": {
             "endlinecolor": "#2a3f5f",
             "gridcolor": "white",
             "linecolor": "white",
             "minorgridcolor": "white",
             "startlinecolor": "#2a3f5f"
            },
            "baxis": {
             "endlinecolor": "#2a3f5f",
             "gridcolor": "white",
             "linecolor": "white",
             "minorgridcolor": "white",
             "startlinecolor": "#2a3f5f"
            },
            "type": "carpet"
           }
          ],
          "choropleth": [
           {
            "colorbar": {
             "outlinewidth": 0,
             "ticks": ""
            },
            "type": "choropleth"
           }
          ],
          "contour": [
           {
            "colorbar": {
             "outlinewidth": 0,
             "ticks": ""
            },
            "colorscale": [
             [
              0,
              "#0d0887"
             ],
             [
              0.1111111111111111,
              "#46039f"
             ],
             [
              0.2222222222222222,
              "#7201a8"
             ],
             [
              0.3333333333333333,
              "#9c179e"
             ],
             [
              0.4444444444444444,
              "#bd3786"
             ],
             [
              0.5555555555555556,
              "#d8576b"
             ],
             [
              0.6666666666666666,
              "#ed7953"
             ],
             [
              0.7777777777777778,
              "#fb9f3a"
             ],
             [
              0.8888888888888888,
              "#fdca26"
             ],
             [
              1,
              "#f0f921"
             ]
            ],
            "type": "contour"
           }
          ],
          "contourcarpet": [
           {
            "colorbar": {
             "outlinewidth": 0,
             "ticks": ""
            },
            "type": "contourcarpet"
           }
          ],
          "heatmap": [
           {
            "colorbar": {
             "outlinewidth": 0,
             "ticks": ""
            },
            "colorscale": [
             [
              0,
              "#0d0887"
             ],
             [
              0.1111111111111111,
              "#46039f"
             ],
             [
              0.2222222222222222,
              "#7201a8"
             ],
             [
              0.3333333333333333,
              "#9c179e"
             ],
             [
              0.4444444444444444,
              "#bd3786"
             ],
             [
              0.5555555555555556,
              "#d8576b"
             ],
             [
              0.6666666666666666,
              "#ed7953"
             ],
             [
              0.7777777777777778,
              "#fb9f3a"
             ],
             [
              0.8888888888888888,
              "#fdca26"
             ],
             [
              1,
              "#f0f921"
             ]
            ],
            "type": "heatmap"
           }
          ],
          "heatmapgl": [
           {
            "colorbar": {
             "outlinewidth": 0,
             "ticks": ""
            },
            "colorscale": [
             [
              0,
              "#0d0887"
             ],
             [
              0.1111111111111111,
              "#46039f"
             ],
             [
              0.2222222222222222,
              "#7201a8"
             ],
             [
              0.3333333333333333,
              "#9c179e"
             ],
             [
              0.4444444444444444,
              "#bd3786"
             ],
             [
              0.5555555555555556,
              "#d8576b"
             ],
             [
              0.6666666666666666,
              "#ed7953"
             ],
             [
              0.7777777777777778,
              "#fb9f3a"
             ],
             [
              0.8888888888888888,
              "#fdca26"
             ],
             [
              1,
              "#f0f921"
             ]
            ],
            "type": "heatmapgl"
           }
          ],
          "histogram": [
           {
            "marker": {
             "pattern": {
              "fillmode": "overlay",
              "size": 10,
              "solidity": 0.2
             }
            },
            "type": "histogram"
           }
          ],
          "histogram2d": [
           {
            "colorbar": {
             "outlinewidth": 0,
             "ticks": ""
            },
            "colorscale": [
             [
              0,
              "#0d0887"
             ],
             [
              0.1111111111111111,
              "#46039f"
             ],
             [
              0.2222222222222222,
              "#7201a8"
             ],
             [
              0.3333333333333333,
              "#9c179e"
             ],
             [
              0.4444444444444444,
              "#bd3786"
             ],
             [
              0.5555555555555556,
              "#d8576b"
             ],
             [
              0.6666666666666666,
              "#ed7953"
             ],
             [
              0.7777777777777778,
              "#fb9f3a"
             ],
             [
              0.8888888888888888,
              "#fdca26"
             ],
             [
              1,
              "#f0f921"
             ]
            ],
            "type": "histogram2d"
           }
          ],
          "histogram2dcontour": [
           {
            "colorbar": {
             "outlinewidth": 0,
             "ticks": ""
            },
            "colorscale": [
             [
              0,
              "#0d0887"
             ],
             [
              0.1111111111111111,
              "#46039f"
             ],
             [
              0.2222222222222222,
              "#7201a8"
             ],
             [
              0.3333333333333333,
              "#9c179e"
             ],
             [
              0.4444444444444444,
              "#bd3786"
             ],
             [
              0.5555555555555556,
              "#d8576b"
             ],
             [
              0.6666666666666666,
              "#ed7953"
             ],
             [
              0.7777777777777778,
              "#fb9f3a"
             ],
             [
              0.8888888888888888,
              "#fdca26"
             ],
             [
              1,
              "#f0f921"
             ]
            ],
            "type": "histogram2dcontour"
           }
          ],
          "mesh3d": [
           {
            "colorbar": {
             "outlinewidth": 0,
             "ticks": ""
            },
            "type": "mesh3d"
           }
          ],
          "parcoords": [
           {
            "line": {
             "colorbar": {
              "outlinewidth": 0,
              "ticks": ""
             }
            },
            "type": "parcoords"
           }
          ],
          "pie": [
           {
            "automargin": true,
            "type": "pie"
           }
          ],
          "scatter": [
           {
            "fillpattern": {
             "fillmode": "overlay",
             "size": 10,
             "solidity": 0.2
            },
            "type": "scatter"
           }
          ],
          "scatter3d": [
           {
            "line": {
             "colorbar": {
              "outlinewidth": 0,
              "ticks": ""
             }
            },
            "marker": {
             "colorbar": {
              "outlinewidth": 0,
              "ticks": ""
             }
            },
            "type": "scatter3d"
           }
          ],
          "scattercarpet": [
           {
            "marker": {
             "colorbar": {
              "outlinewidth": 0,
              "ticks": ""
             }
            },
            "type": "scattercarpet"
           }
          ],
          "scattergeo": [
           {
            "marker": {
             "colorbar": {
              "outlinewidth": 0,
              "ticks": ""
             }
            },
            "type": "scattergeo"
           }
          ],
          "scattergl": [
           {
            "marker": {
             "colorbar": {
              "outlinewidth": 0,
              "ticks": ""
             }
            },
            "type": "scattergl"
           }
          ],
          "scattermapbox": [
           {
            "marker": {
             "colorbar": {
              "outlinewidth": 0,
              "ticks": ""
             }
            },
            "type": "scattermapbox"
           }
          ],
          "scatterpolar": [
           {
            "marker": {
             "colorbar": {
              "outlinewidth": 0,
              "ticks": ""
             }
            },
            "type": "scatterpolar"
           }
          ],
          "scatterpolargl": [
           {
            "marker": {
             "colorbar": {
              "outlinewidth": 0,
              "ticks": ""
             }
            },
            "type": "scatterpolargl"
           }
          ],
          "scatterternary": [
           {
            "marker": {
             "colorbar": {
              "outlinewidth": 0,
              "ticks": ""
             }
            },
            "type": "scatterternary"
           }
          ],
          "surface": [
           {
            "colorbar": {
             "outlinewidth": 0,
             "ticks": ""
            },
            "colorscale": [
             [
              0,
              "#0d0887"
             ],
             [
              0.1111111111111111,
              "#46039f"
             ],
             [
              0.2222222222222222,
              "#7201a8"
             ],
             [
              0.3333333333333333,
              "#9c179e"
             ],
             [
              0.4444444444444444,
              "#bd3786"
             ],
             [
              0.5555555555555556,
              "#d8576b"
             ],
             [
              0.6666666666666666,
              "#ed7953"
             ],
             [
              0.7777777777777778,
              "#fb9f3a"
             ],
             [
              0.8888888888888888,
              "#fdca26"
             ],
             [
              1,
              "#f0f921"
             ]
            ],
            "type": "surface"
           }
          ],
          "table": [
           {
            "cells": {
             "fill": {
              "color": "#EBF0F8"
             },
             "line": {
              "color": "white"
             }
            },
            "header": {
             "fill": {
              "color": "#C8D4E3"
             },
             "line": {
              "color": "white"
             }
            },
            "type": "table"
           }
          ]
         },
         "layout": {
          "annotationdefaults": {
           "arrowcolor": "#2a3f5f",
           "arrowhead": 0,
           "arrowwidth": 1
          },
          "autotypenumbers": "strict",
          "coloraxis": {
           "colorbar": {
            "outlinewidth": 0,
            "ticks": ""
           }
          },
          "colorscale": {
           "diverging": [
            [
             0,
             "#8e0152"
            ],
            [
             0.1,
             "#c51b7d"
            ],
            [
             0.2,
             "#de77ae"
            ],
            [
             0.3,
             "#f1b6da"
            ],
            [
             0.4,
             "#fde0ef"
            ],
            [
             0.5,
             "#f7f7f7"
            ],
            [
             0.6,
             "#e6f5d0"
            ],
            [
             0.7,
             "#b8e186"
            ],
            [
             0.8,
             "#7fbc41"
            ],
            [
             0.9,
             "#4d9221"
            ],
            [
             1,
             "#276419"
            ]
           ],
           "sequential": [
            [
             0,
             "#0d0887"
            ],
            [
             0.1111111111111111,
             "#46039f"
            ],
            [
             0.2222222222222222,
             "#7201a8"
            ],
            [
             0.3333333333333333,
             "#9c179e"
            ],
            [
             0.4444444444444444,
             "#bd3786"
            ],
            [
             0.5555555555555556,
             "#d8576b"
            ],
            [
             0.6666666666666666,
             "#ed7953"
            ],
            [
             0.7777777777777778,
             "#fb9f3a"
            ],
            [
             0.8888888888888888,
             "#fdca26"
            ],
            [
             1,
             "#f0f921"
            ]
           ],
           "sequentialminus": [
            [
             0,
             "#0d0887"
            ],
            [
             0.1111111111111111,
             "#46039f"
            ],
            [
             0.2222222222222222,
             "#7201a8"
            ],
            [
             0.3333333333333333,
             "#9c179e"
            ],
            [
             0.4444444444444444,
             "#bd3786"
            ],
            [
             0.5555555555555556,
             "#d8576b"
            ],
            [
             0.6666666666666666,
             "#ed7953"
            ],
            [
             0.7777777777777778,
             "#fb9f3a"
            ],
            [
             0.8888888888888888,
             "#fdca26"
            ],
            [
             1,
             "#f0f921"
            ]
           ]
          },
          "colorway": [
           "#636efa",
           "#EF553B",
           "#00cc96",
           "#ab63fa",
           "#FFA15A",
           "#19d3f3",
           "#FF6692",
           "#B6E880",
           "#FF97FF",
           "#FECB52"
          ],
          "font": {
           "color": "#2a3f5f"
          },
          "geo": {
           "bgcolor": "white",
           "lakecolor": "white",
           "landcolor": "#E5ECF6",
           "showlakes": true,
           "showland": true,
           "subunitcolor": "white"
          },
          "hoverlabel": {
           "align": "left"
          },
          "hovermode": "closest",
          "mapbox": {
           "style": "light"
          },
          "paper_bgcolor": "white",
          "plot_bgcolor": "#E5ECF6",
          "polar": {
           "angularaxis": {
            "gridcolor": "white",
            "linecolor": "white",
            "ticks": ""
           },
           "bgcolor": "#E5ECF6",
           "radialaxis": {
            "gridcolor": "white",
            "linecolor": "white",
            "ticks": ""
           }
          },
          "scene": {
           "xaxis": {
            "backgroundcolor": "#E5ECF6",
            "gridcolor": "white",
            "gridwidth": 2,
            "linecolor": "white",
            "showbackground": true,
            "ticks": "",
            "zerolinecolor": "white"
           },
           "yaxis": {
            "backgroundcolor": "#E5ECF6",
            "gridcolor": "white",
            "gridwidth": 2,
            "linecolor": "white",
            "showbackground": true,
            "ticks": "",
            "zerolinecolor": "white"
           },
           "zaxis": {
            "backgroundcolor": "#E5ECF6",
            "gridcolor": "white",
            "gridwidth": 2,
            "linecolor": "white",
            "showbackground": true,
            "ticks": "",
            "zerolinecolor": "white"
           }
          },
          "shapedefaults": {
           "line": {
            "color": "#2a3f5f"
           }
          },
          "ternary": {
           "aaxis": {
            "gridcolor": "white",
            "linecolor": "white",
            "ticks": ""
           },
           "baxis": {
            "gridcolor": "white",
            "linecolor": "white",
            "ticks": ""
           },
           "bgcolor": "#E5ECF6",
           "caxis": {
            "gridcolor": "white",
            "linecolor": "white",
            "ticks": ""
           }
          },
          "title": {
           "x": 0.05
          },
          "xaxis": {
           "automargin": true,
           "gridcolor": "white",
           "linecolor": "white",
           "ticks": "",
           "title": {
            "standoff": 15
           },
           "zerolinecolor": "white",
           "zerolinewidth": 2
          },
          "yaxis": {
           "automargin": true,
           "gridcolor": "white",
           "linecolor": "white",
           "ticks": "",
           "title": {
            "standoff": 15
           },
           "zerolinecolor": "white",
           "zerolinewidth": 2
          }
         }
        },
        "title": {
         "text": "Time Series Line Chart"
        },
        "xaxis": {
         "anchor": "y",
         "domain": [
          0,
          1
         ],
         "title": {
          "text": "Timestamp"
         }
        },
        "yaxis": {
         "anchor": "x",
         "domain": [
          0,
          1
         ],
         "title": {
          "text": "SDG_Mean"
         }
        }
       }
      },
      "text/html": [
       "<div>                            <div id=\"66709ca3-192a-441b-aadf-d87699d5ab3c\" class=\"plotly-graph-div\" style=\"height:525px; width:100%;\"></div>            <script type=\"text/javascript\">                require([\"plotly\"], function(Plotly) {                    window.PLOTLYENV=window.PLOTLYENV || {};                                    if (document.getElementById(\"66709ca3-192a-441b-aadf-d87699d5ab3c\")) {                    Plotly.newPlot(                        \"66709ca3-192a-441b-aadf-d87699d5ab3c\",                        [{\"hovertemplate\":\"Timestamp=%{x}<br>SDG_Mean=%{y}<extra></extra>\",\"legendgroup\":\"\",\"line\":{\"color\":\"#636efa\",\"dash\":\"solid\"},\"marker\":{\"symbol\":\"circle\"},\"mode\":\"lines\",\"name\":\"\",\"orientation\":\"v\",\"showlegend\":false,\"x\":[\"2019-12-13T00:00:00\",\"2019-12-14T00:00:00\",\"2019-12-15T00:00:00\",\"2019-12-16T00:00:00\",\"2019-12-17T00:00:00\",\"2019-12-18T00:00:00\",\"2019-12-19T00:00:00\",\"2019-12-20T00:00:00\",\"2019-12-21T00:00:00\",\"2019-12-22T00:00:00\",\"2019-12-23T00:00:00\",\"2019-12-24T00:00:00\",\"2019-12-25T00:00:00\",\"2019-12-26T00:00:00\",\"2019-12-27T00:00:00\",\"2019-12-28T00:00:00\",\"2019-12-29T00:00:00\",\"2019-12-30T00:00:00\",\"2019-12-31T00:00:00\",\"2020-01-01T00:00:00\",\"2020-01-02T00:00:00\",\"2020-01-03T00:00:00\",\"2020-01-04T00:00:00\",\"2020-01-05T00:00:00\",\"2020-01-06T00:00:00\",\"2020-01-07T00:00:00\",\"2020-01-08T00:00:00\",\"2020-01-09T00:00:00\",\"2020-01-10T00:00:00\",\"2020-01-11T00:00:00\",\"2020-01-12T00:00:00\",\"2020-01-13T00:00:00\",\"2020-01-14T00:00:00\",\"2020-01-15T00:00:00\",\"2020-01-16T00:00:00\",\"2020-01-17T00:00:00\",\"2020-01-18T00:00:00\",\"2020-01-19T00:00:00\",\"2020-01-20T00:00:00\",\"2020-01-21T00:00:00\",\"2020-01-22T00:00:00\",\"2020-01-23T00:00:00\",\"2020-01-24T00:00:00\",\"2020-01-25T00:00:00\",\"2020-01-26T00:00:00\",\"2020-01-27T00:00:00\",\"2020-01-28T00:00:00\",\"2020-01-29T00:00:00\",\"2020-01-30T00:00:00\",\"2020-01-31T00:00:00\",\"2020-02-01T00:00:00\",\"2020-02-02T00:00:00\",\"2020-02-03T00:00:00\",\"2020-02-04T00:00:00\",\"2020-02-05T00:00:00\",\"2020-02-06T00:00:00\",\"2020-02-07T00:00:00\",\"2020-02-08T00:00:00\",\"2020-02-09T00:00:00\",\"2020-02-10T00:00:00\",\"2020-02-11T00:00:00\",\"2020-02-12T00:00:00\",\"2020-02-13T00:00:00\",\"2020-02-14T00:00:00\",\"2020-02-15T00:00:00\",\"2020-02-16T00:00:00\",\"2020-02-17T00:00:00\",\"2020-02-18T00:00:00\",\"2020-02-19T00:00:00\",\"2020-02-20T00:00:00\",\"2020-02-21T00:00:00\",\"2020-02-22T00:00:00\",\"2020-02-23T00:00:00\",\"2020-02-24T00:00:00\",\"2020-02-25T00:00:00\",\"2020-02-26T00:00:00\",\"2020-02-27T00:00:00\",\"2020-02-28T00:00:00\",\"2020-02-29T00:00:00\",\"2020-03-01T00:00:00\",\"2020-03-02T00:00:00\",\"2020-03-03T00:00:00\",\"2020-03-04T00:00:00\",\"2020-03-05T00:00:00\",\"2020-03-06T00:00:00\",\"2020-03-07T00:00:00\",\"2020-03-08T00:00:00\",\"2020-03-09T00:00:00\",\"2020-03-10T00:00:00\",\"2020-03-11T00:00:00\",\"2020-03-12T00:00:00\",\"2020-03-13T00:00:00\",\"2020-03-14T00:00:00\",\"2020-03-15T00:00:00\",\"2020-03-16T00:00:00\",\"2020-03-17T00:00:00\",\"2020-03-18T00:00:00\",\"2020-03-19T00:00:00\",\"2020-03-20T00:00:00\",\"2020-03-21T00:00:00\",\"2020-03-22T00:00:00\",\"2020-03-23T00:00:00\",\"2020-03-24T00:00:00\",\"2020-03-25T00:00:00\",\"2020-03-26T00:00:00\",\"2020-03-27T00:00:00\",\"2020-03-28T00:00:00\",\"2020-03-29T00:00:00\",\"2020-03-30T00:00:00\",\"2020-03-31T00:00:00\",\"2020-04-01T00:00:00\",\"2020-04-02T00:00:00\",\"2020-04-03T00:00:00\",\"2020-04-04T00:00:00\",\"2020-04-05T00:00:00\",\"2020-04-06T00:00:00\",\"2020-04-07T00:00:00\",\"2020-04-08T00:00:00\",\"2020-04-09T00:00:00\",\"2020-04-10T00:00:00\",\"2020-04-11T00:00:00\",\"2020-04-12T00:00:00\",\"2020-04-13T00:00:00\",\"2020-04-14T00:00:00\",\"2020-04-15T00:00:00\",\"2020-04-16T00:00:00\",\"2020-04-17T00:00:00\",\"2020-04-18T00:00:00\",\"2020-04-19T00:00:00\",\"2020-04-20T00:00:00\",\"2020-04-21T00:00:00\",\"2020-04-22T00:00:00\"],\"xaxis\":\"x\",\"y\":[1.9628939565600845,1.5446765079832685,0.5361660817284173,0.965624135674952,0.8447863859709801,1.6895744989617236,2.8907460194415666,0.15692444824688,-0.3839601092872177,0.0101262465025167,0.4241956190607194,1.5154144971297752,0.3938854464133456,0.5217454416370875,0.1188489080763168,-0.2129911783115602,-0.5077813500827961,0.3188669194581899,0.3816622550773547,-1.1438573382943356,-0.3530844334185852,-0.2892735478002645,1.0467185058128063,0.510973228139672,0.4733483885895004,0.8175757899051125,0.5492522336498319,1.3733900892870974,1.8863671137297209,0.1455728619668864,2.0928306583588894,0.6964361205905965,1.0473855360375102,0.7067139847916535,0.2609919192421415,0.1780010918678272,-0.2277815675326891,1.3641532201410411,0.7127123876076521,1.6785032808501978,0.1694745358159304,-0.1671808779728314,0.6686203396252464,-0.7316448462295414,-0.5569260499260867,0.0644174090668203,0.4537082871655677,-0.2999362687903777,0.6177947158008761,0.3758394085982217,-0.5906087283652829,0.8411927318116352,1.8897649793534423,1.1251671043135243,1.3304923383978466,1.1126314081441115,1.2393787621895451,-0.2730191968774072,-0.0094590053864445,-0.3119581692316871,-0.238043479727649,0.3599943691743173,0.3090602811245176,0.934357302036255,0.5692737090615524,0.845770355158997,0.5402656031993388,0.3892814358492997,-0.0655529196759732,1.4316102926851384,0.6771612089185346,0.450334215170024,0.1178502518242512,0.4912874299639056,-0.1824980967158869,1.239673463578975,1.4765137188159263,0.923122858471086,-0.3276792519086473,0.3115572608244481,0.6017502541489705,0.0153169047365862,0.3719809443911114,0.8883380895563867,-0.9164338955978216,-0.6382636192150509,-1.7701358281268311,-0.401197790359205,-1.3989092043854388,0.4787226470402208,0.9705605841820862,-0.4522717606707157,-1.6827625108944126,-1.326168557470055,-1.1926335513216082,-0.6952359765118736,-1.2690980702101688,-0.7863251854125267,-0.8152058132837274,-1.5451297537455493,-1.3337009989081825,-0.0272486634590827,-0.684422280327821,-0.7781387478835096,-0.6281890747746413,-0.5394224443652368,-0.9888342629516058,-0.8591252280146165,-1.148753508093657,-1.630139035085422,-1.435017428581845,-1.039432382910448,-1.4436203853802572,-1.4134909009937604,-1.1476050850189683,-0.4269912772919343,-0.9893765553233398,-1.0196811478246648,-0.6877444380124226,-1.1805335502610217,-0.1624329698698818,-1.4685616078465265,-0.8454106891972212,-1.327723493314614,-1.2672330269090173,-0.0276706304200622,-0.4205958809125592,-0.6820519777278972,-1.299128201215504,-0.4962871264182857,-0.3261779699239213,0.0171971303680516],\"yaxis\":\"y\",\"type\":\"scatter\"}],                        {\"template\":{\"data\":{\"histogram2dcontour\":[{\"type\":\"histogram2dcontour\",\"colorbar\":{\"outlinewidth\":0,\"ticks\":\"\"},\"colorscale\":[[0.0,\"#0d0887\"],[0.1111111111111111,\"#46039f\"],[0.2222222222222222,\"#7201a8\"],[0.3333333333333333,\"#9c179e\"],[0.4444444444444444,\"#bd3786\"],[0.5555555555555556,\"#d8576b\"],[0.6666666666666666,\"#ed7953\"],[0.7777777777777778,\"#fb9f3a\"],[0.8888888888888888,\"#fdca26\"],[1.0,\"#f0f921\"]]}],\"choropleth\":[{\"type\":\"choropleth\",\"colorbar\":{\"outlinewidth\":0,\"ticks\":\"\"}}],\"histogram2d\":[{\"type\":\"histogram2d\",\"colorbar\":{\"outlinewidth\":0,\"ticks\":\"\"},\"colorscale\":[[0.0,\"#0d0887\"],[0.1111111111111111,\"#46039f\"],[0.2222222222222222,\"#7201a8\"],[0.3333333333333333,\"#9c179e\"],[0.4444444444444444,\"#bd3786\"],[0.5555555555555556,\"#d8576b\"],[0.6666666666666666,\"#ed7953\"],[0.7777777777777778,\"#fb9f3a\"],[0.8888888888888888,\"#fdca26\"],[1.0,\"#f0f921\"]]}],\"heatmap\":[{\"type\":\"heatmap\",\"colorbar\":{\"outlinewidth\":0,\"ticks\":\"\"},\"colorscale\":[[0.0,\"#0d0887\"],[0.1111111111111111,\"#46039f\"],[0.2222222222222222,\"#7201a8\"],[0.3333333333333333,\"#9c179e\"],[0.4444444444444444,\"#bd3786\"],[0.5555555555555556,\"#d8576b\"],[0.6666666666666666,\"#ed7953\"],[0.7777777777777778,\"#fb9f3a\"],[0.8888888888888888,\"#fdca26\"],[1.0,\"#f0f921\"]]}],\"heatmapgl\":[{\"type\":\"heatmapgl\",\"colorbar\":{\"outlinewidth\":0,\"ticks\":\"\"},\"colorscale\":[[0.0,\"#0d0887\"],[0.1111111111111111,\"#46039f\"],[0.2222222222222222,\"#7201a8\"],[0.3333333333333333,\"#9c179e\"],[0.4444444444444444,\"#bd3786\"],[0.5555555555555556,\"#d8576b\"],[0.6666666666666666,\"#ed7953\"],[0.7777777777777778,\"#fb9f3a\"],[0.8888888888888888,\"#fdca26\"],[1.0,\"#f0f921\"]]}],\"contourcarpet\":[{\"type\":\"contourcarpet\",\"colorbar\":{\"outlinewidth\":0,\"ticks\":\"\"}}],\"contour\":[{\"type\":\"contour\",\"colorbar\":{\"outlinewidth\":0,\"ticks\":\"\"},\"colorscale\":[[0.0,\"#0d0887\"],[0.1111111111111111,\"#46039f\"],[0.2222222222222222,\"#7201a8\"],[0.3333333333333333,\"#9c179e\"],[0.4444444444444444,\"#bd3786\"],[0.5555555555555556,\"#d8576b\"],[0.6666666666666666,\"#ed7953\"],[0.7777777777777778,\"#fb9f3a\"],[0.8888888888888888,\"#fdca26\"],[1.0,\"#f0f921\"]]}],\"surface\":[{\"type\":\"surface\",\"colorbar\":{\"outlinewidth\":0,\"ticks\":\"\"},\"colorscale\":[[0.0,\"#0d0887\"],[0.1111111111111111,\"#46039f\"],[0.2222222222222222,\"#7201a8\"],[0.3333333333333333,\"#9c179e\"],[0.4444444444444444,\"#bd3786\"],[0.5555555555555556,\"#d8576b\"],[0.6666666666666666,\"#ed7953\"],[0.7777777777777778,\"#fb9f3a\"],[0.8888888888888888,\"#fdca26\"],[1.0,\"#f0f921\"]]}],\"mesh3d\":[{\"type\":\"mesh3d\",\"colorbar\":{\"outlinewidth\":0,\"ticks\":\"\"}}],\"scatter\":[{\"fillpattern\":{\"fillmode\":\"overlay\",\"size\":10,\"solidity\":0.2},\"type\":\"scatter\"}],\"parcoords\":[{\"type\":\"parcoords\",\"line\":{\"colorbar\":{\"outlinewidth\":0,\"ticks\":\"\"}}}],\"scatterpolargl\":[{\"type\":\"scatterpolargl\",\"marker\":{\"colorbar\":{\"outlinewidth\":0,\"ticks\":\"\"}}}],\"bar\":[{\"error_x\":{\"color\":\"#2a3f5f\"},\"error_y\":{\"color\":\"#2a3f5f\"},\"marker\":{\"line\":{\"color\":\"#E5ECF6\",\"width\":0.5},\"pattern\":{\"fillmode\":\"overlay\",\"size\":10,\"solidity\":0.2}},\"type\":\"bar\"}],\"scattergeo\":[{\"type\":\"scattergeo\",\"marker\":{\"colorbar\":{\"outlinewidth\":0,\"ticks\":\"\"}}}],\"scatterpolar\":[{\"type\":\"scatterpolar\",\"marker\":{\"colorbar\":{\"outlinewidth\":0,\"ticks\":\"\"}}}],\"histogram\":[{\"marker\":{\"pattern\":{\"fillmode\":\"overlay\",\"size\":10,\"solidity\":0.2}},\"type\":\"histogram\"}],\"scattergl\":[{\"type\":\"scattergl\",\"marker\":{\"colorbar\":{\"outlinewidth\":0,\"ticks\":\"\"}}}],\"scatter3d\":[{\"type\":\"scatter3d\",\"line\":{\"colorbar\":{\"outlinewidth\":0,\"ticks\":\"\"}},\"marker\":{\"colorbar\":{\"outlinewidth\":0,\"ticks\":\"\"}}}],\"scattermapbox\":[{\"type\":\"scattermapbox\",\"marker\":{\"colorbar\":{\"outlinewidth\":0,\"ticks\":\"\"}}}],\"scatterternary\":[{\"type\":\"scatterternary\",\"marker\":{\"colorbar\":{\"outlinewidth\":0,\"ticks\":\"\"}}}],\"scattercarpet\":[{\"type\":\"scattercarpet\",\"marker\":{\"colorbar\":{\"outlinewidth\":0,\"ticks\":\"\"}}}],\"carpet\":[{\"aaxis\":{\"endlinecolor\":\"#2a3f5f\",\"gridcolor\":\"white\",\"linecolor\":\"white\",\"minorgridcolor\":\"white\",\"startlinecolor\":\"#2a3f5f\"},\"baxis\":{\"endlinecolor\":\"#2a3f5f\",\"gridcolor\":\"white\",\"linecolor\":\"white\",\"minorgridcolor\":\"white\",\"startlinecolor\":\"#2a3f5f\"},\"type\":\"carpet\"}],\"table\":[{\"cells\":{\"fill\":{\"color\":\"#EBF0F8\"},\"line\":{\"color\":\"white\"}},\"header\":{\"fill\":{\"color\":\"#C8D4E3\"},\"line\":{\"color\":\"white\"}},\"type\":\"table\"}],\"barpolar\":[{\"marker\":{\"line\":{\"color\":\"#E5ECF6\",\"width\":0.5},\"pattern\":{\"fillmode\":\"overlay\",\"size\":10,\"solidity\":0.2}},\"type\":\"barpolar\"}],\"pie\":[{\"automargin\":true,\"type\":\"pie\"}]},\"layout\":{\"autotypenumbers\":\"strict\",\"colorway\":[\"#636efa\",\"#EF553B\",\"#00cc96\",\"#ab63fa\",\"#FFA15A\",\"#19d3f3\",\"#FF6692\",\"#B6E880\",\"#FF97FF\",\"#FECB52\"],\"font\":{\"color\":\"#2a3f5f\"},\"hovermode\":\"closest\",\"hoverlabel\":{\"align\":\"left\"},\"paper_bgcolor\":\"white\",\"plot_bgcolor\":\"#E5ECF6\",\"polar\":{\"bgcolor\":\"#E5ECF6\",\"angularaxis\":{\"gridcolor\":\"white\",\"linecolor\":\"white\",\"ticks\":\"\"},\"radialaxis\":{\"gridcolor\":\"white\",\"linecolor\":\"white\",\"ticks\":\"\"}},\"ternary\":{\"bgcolor\":\"#E5ECF6\",\"aaxis\":{\"gridcolor\":\"white\",\"linecolor\":\"white\",\"ticks\":\"\"},\"baxis\":{\"gridcolor\":\"white\",\"linecolor\":\"white\",\"ticks\":\"\"},\"caxis\":{\"gridcolor\":\"white\",\"linecolor\":\"white\",\"ticks\":\"\"}},\"coloraxis\":{\"colorbar\":{\"outlinewidth\":0,\"ticks\":\"\"}},\"colorscale\":{\"sequential\":[[0.0,\"#0d0887\"],[0.1111111111111111,\"#46039f\"],[0.2222222222222222,\"#7201a8\"],[0.3333333333333333,\"#9c179e\"],[0.4444444444444444,\"#bd3786\"],[0.5555555555555556,\"#d8576b\"],[0.6666666666666666,\"#ed7953\"],[0.7777777777777778,\"#fb9f3a\"],[0.8888888888888888,\"#fdca26\"],[1.0,\"#f0f921\"]],\"sequentialminus\":[[0.0,\"#0d0887\"],[0.1111111111111111,\"#46039f\"],[0.2222222222222222,\"#7201a8\"],[0.3333333333333333,\"#9c179e\"],[0.4444444444444444,\"#bd3786\"],[0.5555555555555556,\"#d8576b\"],[0.6666666666666666,\"#ed7953\"],[0.7777777777777778,\"#fb9f3a\"],[0.8888888888888888,\"#fdca26\"],[1.0,\"#f0f921\"]],\"diverging\":[[0,\"#8e0152\"],[0.1,\"#c51b7d\"],[0.2,\"#de77ae\"],[0.3,\"#f1b6da\"],[0.4,\"#fde0ef\"],[0.5,\"#f7f7f7\"],[0.6,\"#e6f5d0\"],[0.7,\"#b8e186\"],[0.8,\"#7fbc41\"],[0.9,\"#4d9221\"],[1,\"#276419\"]]},\"xaxis\":{\"gridcolor\":\"white\",\"linecolor\":\"white\",\"ticks\":\"\",\"title\":{\"standoff\":15},\"zerolinecolor\":\"white\",\"automargin\":true,\"zerolinewidth\":2},\"yaxis\":{\"gridcolor\":\"white\",\"linecolor\":\"white\",\"ticks\":\"\",\"title\":{\"standoff\":15},\"zerolinecolor\":\"white\",\"automargin\":true,\"zerolinewidth\":2},\"scene\":{\"xaxis\":{\"backgroundcolor\":\"#E5ECF6\",\"gridcolor\":\"white\",\"linecolor\":\"white\",\"showbackground\":true,\"ticks\":\"\",\"zerolinecolor\":\"white\",\"gridwidth\":2},\"yaxis\":{\"backgroundcolor\":\"#E5ECF6\",\"gridcolor\":\"white\",\"linecolor\":\"white\",\"showbackground\":true,\"ticks\":\"\",\"zerolinecolor\":\"white\",\"gridwidth\":2},\"zaxis\":{\"backgroundcolor\":\"#E5ECF6\",\"gridcolor\":\"white\",\"linecolor\":\"white\",\"showbackground\":true,\"ticks\":\"\",\"zerolinecolor\":\"white\",\"gridwidth\":2}},\"shapedefaults\":{\"line\":{\"color\":\"#2a3f5f\"}},\"annotationdefaults\":{\"arrowcolor\":\"#2a3f5f\",\"arrowhead\":0,\"arrowwidth\":1},\"geo\":{\"bgcolor\":\"white\",\"landcolor\":\"#E5ECF6\",\"subunitcolor\":\"white\",\"showland\":true,\"showlakes\":true,\"lakecolor\":\"white\"},\"title\":{\"x\":0.05},\"mapbox\":{\"style\":\"light\"}}},\"xaxis\":{\"anchor\":\"y\",\"domain\":[0.0,1.0],\"title\":{\"text\":\"Timestamp\"}},\"yaxis\":{\"anchor\":\"x\",\"domain\":[0.0,1.0],\"title\":{\"text\":\"SDG_Mean\"}},\"legend\":{\"tracegroupgap\":0},\"title\":{\"text\":\"Time Series Line Chart\"},\"shapes\":[{\"fillcolor\":\"rgba(200,0,200,0.2)\",\"layer\":\"below\",\"line\":{\"color\":\"rgba(0,0,0,0)\",\"width\":3},\"type\":\"rect\",\"x0\":\"2019-12-31T00:00:00\",\"x1\":\"2020-01-01T00:00:00\",\"xref\":\"x\",\"y0\":0,\"y1\":1,\"yref\":\"paper\"},{\"fillcolor\":\"rgba(200,0,200,0.2)\",\"layer\":\"below\",\"line\":{\"color\":\"rgba(0,0,0,0)\",\"width\":3},\"type\":\"rect\",\"x0\":\"2020-01-02T00:00:00\",\"x1\":\"2020-01-03T00:00:00\",\"xref\":\"x\",\"y0\":0,\"y1\":1,\"yref\":\"paper\"},{\"fillcolor\":\"rgba(200,0,200,0.2)\",\"layer\":\"below\",\"line\":{\"color\":\"rgba(0,0,0,0)\",\"width\":3},\"type\":\"rect\",\"x0\":\"2020-01-05T00:00:00\",\"x1\":\"2020-01-06T00:00:00\",\"xref\":\"x\",\"y0\":0,\"y1\":1,\"yref\":\"paper\"},{\"fillcolor\":\"rgba(200,0,200,0.2)\",\"layer\":\"below\",\"line\":{\"color\":\"rgba(0,0,0,0)\",\"width\":3},\"type\":\"rect\",\"x0\":\"2020-01-07T00:00:00\",\"x1\":\"2020-01-08T00:00:00\",\"xref\":\"x\",\"y0\":0,\"y1\":1,\"yref\":\"paper\"},{\"fillcolor\":\"rgba(200,0,200,0.2)\",\"layer\":\"below\",\"line\":{\"color\":\"rgba(0,0,0,0)\",\"width\":3},\"type\":\"rect\",\"x0\":\"2020-01-10T00:00:00\",\"x1\":\"2020-01-11T00:00:00\",\"xref\":\"x\",\"y0\":0,\"y1\":1,\"yref\":\"paper\"},{\"fillcolor\":\"rgba(200,0,200,0.2)\",\"layer\":\"below\",\"line\":{\"color\":\"rgba(0,0,0,0)\",\"width\":3},\"type\":\"rect\",\"x0\":\"2020-01-13T00:00:00\",\"x1\":\"2020-01-14T00:00:00\",\"xref\":\"x\",\"y0\":0,\"y1\":1,\"yref\":\"paper\"},{\"fillcolor\":\"rgba(200,0,200,0.2)\",\"layer\":\"below\",\"line\":{\"color\":\"rgba(0,0,0,0)\",\"width\":3},\"type\":\"rect\",\"x0\":\"2020-01-15T00:00:00\",\"x1\":\"2020-01-16T00:00:00\",\"xref\":\"x\",\"y0\":0,\"y1\":1,\"yref\":\"paper\"},{\"fillcolor\":\"rgba(200,0,200,0.2)\",\"layer\":\"below\",\"line\":{\"color\":\"rgba(0,0,0,0)\",\"width\":3},\"type\":\"rect\",\"x0\":\"2020-01-17T00:00:00\",\"x1\":\"2020-01-18T00:00:00\",\"xref\":\"x\",\"y0\":0,\"y1\":1,\"yref\":\"paper\"},{\"fillcolor\":\"rgba(200,0,200,0.2)\",\"layer\":\"below\",\"line\":{\"color\":\"rgba(0,0,0,0)\",\"width\":3},\"type\":\"rect\",\"x0\":\"2020-01-20T00:00:00\",\"x1\":\"2020-01-23T00:00:00\",\"xref\":\"x\",\"y0\":0,\"y1\":1,\"yref\":\"paper\"},{\"fillcolor\":\"rgba(200,0,200,0.2)\",\"layer\":\"below\",\"line\":{\"color\":\"rgba(0,0,0,0)\",\"width\":3},\"type\":\"rect\",\"x0\":\"2020-01-27T00:00:00\",\"x1\":\"2020-01-28T00:00:00\",\"xref\":\"x\",\"y0\":0,\"y1\":1,\"yref\":\"paper\"},{\"fillcolor\":\"rgba(200,0,200,0.2)\",\"layer\":\"below\",\"line\":{\"color\":\"rgba(0,0,0,0)\",\"width\":3},\"type\":\"rect\",\"x0\":\"2020-01-29T00:00:00\",\"x1\":\"2020-01-30T00:00:00\",\"xref\":\"x\",\"y0\":0,\"y1\":1,\"yref\":\"paper\"},{\"fillcolor\":\"rgba(200,0,200,0.2)\",\"layer\":\"below\",\"line\":{\"color\":\"rgba(0,0,0,0)\",\"width\":3},\"type\":\"rect\",\"x0\":\"2020-01-31T00:00:00\",\"x1\":\"2020-02-01T00:00:00\",\"xref\":\"x\",\"y0\":0,\"y1\":1,\"yref\":\"paper\"},{\"fillcolor\":\"rgba(200,0,200,0.2)\",\"layer\":\"below\",\"line\":{\"color\":\"rgba(0,0,0,0)\",\"width\":3},\"type\":\"rect\",\"x0\":\"2020-02-03T00:00:00\",\"x1\":\"2020-02-05T00:00:00\",\"xref\":\"x\",\"y0\":0,\"y1\":1,\"yref\":\"paper\"},{\"fillcolor\":\"rgba(200,0,200,0.2)\",\"layer\":\"below\",\"line\":{\"color\":\"rgba(0,0,0,0)\",\"width\":3},\"type\":\"rect\",\"x0\":\"2020-02-08T00:00:00\",\"x1\":\"2020-02-09T00:00:00\",\"xref\":\"x\",\"y0\":0,\"y1\":1,\"yref\":\"paper\"},{\"fillcolor\":\"rgba(200,0,200,0.2)\",\"layer\":\"below\",\"line\":{\"color\":\"rgba(0,0,0,0)\",\"width\":3},\"type\":\"rect\",\"x0\":\"2020-02-11T00:00:00\",\"x1\":\"2020-02-12T00:00:00\",\"xref\":\"x\",\"y0\":0,\"y1\":1,\"yref\":\"paper\"},{\"fillcolor\":\"rgba(200,0,200,0.2)\",\"layer\":\"below\",\"line\":{\"color\":\"rgba(0,0,0,0)\",\"width\":3},\"type\":\"rect\",\"x0\":\"2020-02-23T00:00:00\",\"x1\":\"2020-02-24T00:00:00\",\"xref\":\"x\",\"y0\":0,\"y1\":1,\"yref\":\"paper\"},{\"fillcolor\":\"rgba(200,0,200,0.2)\",\"layer\":\"below\",\"line\":{\"color\":\"rgba(0,0,0,0)\",\"width\":3},\"type\":\"rect\",\"x0\":\"2020-02-26T00:00:00\",\"x1\":\"2020-02-27T00:00:00\",\"xref\":\"x\",\"y0\":0,\"y1\":1,\"yref\":\"paper\"},{\"fillcolor\":\"rgba(200,0,200,0.2)\",\"layer\":\"below\",\"line\":{\"color\":\"rgba(0,0,0,0)\",\"width\":3},\"type\":\"rect\",\"x0\":\"2020-02-29T00:00:00\",\"x1\":\"2020-03-02T00:00:00\",\"xref\":\"x\",\"y0\":0,\"y1\":1,\"yref\":\"paper\"},{\"fillcolor\":\"rgba(200,0,200,0.2)\",\"layer\":\"below\",\"line\":{\"color\":\"rgba(0,0,0,0)\",\"width\":3},\"type\":\"rect\",\"x0\":\"2020-03-11T00:00:00\",\"x1\":\"2020-03-18T00:00:00\",\"xref\":\"x\",\"y0\":0,\"y1\":1,\"yref\":\"paper\"},{\"fillcolor\":\"rgba(200,0,200,0.2)\",\"layer\":\"below\",\"line\":{\"color\":\"rgba(0,0,0,0)\",\"width\":3},\"type\":\"rect\",\"x0\":\"2020-03-26T00:00:00\",\"x1\":\"2020-03-27T00:00:00\",\"xref\":\"x\",\"y0\":0,\"y1\":1,\"yref\":\"paper\"},{\"fillcolor\":\"rgba(200,0,200,0.2)\",\"layer\":\"below\",\"line\":{\"color\":\"rgba(0,0,0,0)\",\"width\":3},\"type\":\"rect\",\"x0\":\"2020-03-28T00:00:00\",\"x1\":\"2020-03-29T00:00:00\",\"xref\":\"x\",\"y0\":0,\"y1\":1,\"yref\":\"paper\"},{\"fillcolor\":\"rgba(200,0,200,0.2)\",\"layer\":\"below\",\"line\":{\"color\":\"rgba(0,0,0,0)\",\"width\":3},\"type\":\"rect\",\"x0\":\"2020-03-31T00:00:00\",\"x1\":\"2020-04-01T00:00:00\",\"xref\":\"x\",\"y0\":0,\"y1\":1,\"yref\":\"paper\"},{\"fillcolor\":\"rgba(200,0,200,0.2)\",\"layer\":\"below\",\"line\":{\"color\":\"rgba(0,0,0,0)\",\"width\":3},\"type\":\"rect\",\"x0\":\"2020-04-03T00:00:00\",\"x1\":\"2020-04-04T00:00:00\",\"xref\":\"x\",\"y0\":0,\"y1\":1,\"yref\":\"paper\"},{\"fillcolor\":\"rgba(200,0,200,0.2)\",\"layer\":\"below\",\"line\":{\"color\":\"rgba(0,0,0,0)\",\"width\":3},\"type\":\"rect\",\"x0\":\"2020-04-06T00:00:00\",\"x1\":\"2020-04-09T00:00:00\",\"xref\":\"x\",\"y0\":0,\"y1\":1,\"yref\":\"paper\"},{\"fillcolor\":\"rgba(200,0,200,0.2)\",\"layer\":\"below\",\"line\":{\"color\":\"rgba(0,0,0,0)\",\"width\":3},\"type\":\"rect\",\"x0\":\"2020-04-10T00:00:00\",\"x1\":\"2020-04-11T00:00:00\",\"xref\":\"x\",\"y0\":0,\"y1\":1,\"yref\":\"paper\"},{\"fillcolor\":\"rgba(200,0,200,0.2)\",\"layer\":\"below\",\"line\":{\"color\":\"rgba(0,0,0,0)\",\"width\":3},\"type\":\"rect\",\"x0\":\"2020-04-13T00:00:00\",\"x1\":\"2020-04-14T00:00:00\",\"xref\":\"x\",\"y0\":0,\"y1\":1,\"yref\":\"paper\"}]},                        {\"responsive\": true}                    ).then(function(){\n",
       "                            \n",
       "var gd = document.getElementById('66709ca3-192a-441b-aadf-d87699d5ab3c');\n",
       "var x = new MutationObserver(function (mutations, observer) {{\n",
       "        var display = window.getComputedStyle(gd).display;\n",
       "        if (!display || display === 'none') {{\n",
       "            console.log([gd, 'removed!']);\n",
       "            Plotly.purge(gd);\n",
       "            observer.disconnect();\n",
       "        }}\n",
       "}});\n",
       "\n",
       "// Listen for the removal of the full notebook cells\n",
       "var notebookContainer = gd.closest('#notebook-container');\n",
       "if (notebookContainer) {{\n",
       "    x.observe(notebookContainer, {childList: true});\n",
       "}}\n",
       "\n",
       "// Listen for the clearing of the current output cell\n",
       "var outputEl = gd.closest('.output');\n",
       "if (outputEl) {{\n",
       "    x.observe(outputEl, {childList: true});\n",
       "}}\n",
       "\n",
       "                        })                };                });            </script>        </div>"
      ]
     },
     "metadata": {},
     "output_type": "display_data"
    }
   ],
   "source": [
    "df_AMZN = df_sdg.loc[df_sdg['Ticker'] == 'AMZN'].copy()\n",
    "df_AMZN['Timestamp'] = df_AMZN['Timestamp'].apply(pd.to_datetime, errors='coerce')\n",
    "df_AMZN_late = df_AMZN[df_AMZN['Timestamp']>'2019-12-12']\n",
    "\n",
    "lineC = px.line(df_AMZN_late, x=\"Timestamp\", y=\"SDG_Mean\", title='Time Series Line Chart')\n",
    "mask = df_AMZN_late[\"Timestamp\"].isin(df_time[\"Date\"].unique())\n",
    "\n",
    "df1 = df_AMZN_late[mask].groupby((~mask).cumsum())['Timestamp'].agg(['first','last'])\n",
    "\n",
    "fillcolor = 'rgba(200,0,200,0.2)'\n",
    "layer = 'below'\n",
    "\n",
    "for index, row in df1.iterrows():\n",
    "        #print(row['first'], row['last'])\n",
    "        lineC.add_shape(type=\"rect\",\n",
    "        xref=\"x\",\n",
    "        yref=\"paper\",\n",
    "        x0=row['first'],\n",
    "        y0=0,\n",
    "        x1=row['last'] + datetime.timedelta(days=1),\n",
    "        y1=1,\n",
    "        line=dict(color=\"rgba(0,0,0,0)\",width=3,),\n",
    "        fillcolor=fillcolor,\n",
    "        layer=layer)\n",
    "\n",
    "lineC.update_layout()\n",
    "\n",
    "lineC.show()"
   ]
  },
  {
   "cell_type": "markdown",
   "id": "85e2fc39",
   "metadata": {},
   "source": [
    "# SGD score"
   ]
  },
  {
   "cell_type": "code",
   "execution_count": 170,
   "id": "259df564",
   "metadata": {},
   "outputs": [
    {
     "name": "stderr",
     "output_type": "stream",
     "text": [
      "<ipython-input-170-0272497e51b1>:2: SettingWithCopyWarning:\n",
      "\n",
      "\n",
      "A value is trying to be set on a copy of a slice from a DataFrame.\n",
      "Try using .loc[row_indexer,col_indexer] = value instead\n",
      "\n",
      "See the caveats in the documentation: https://pandas.pydata.org/pandas-docs/stable/user_guide/indexing.html#returning-a-view-versus-a-copy\n",
      "\n"
     ]
    },
    {
     "data": {
      "application/vnd.plotly.v1+json": {
       "config": {
        "plotlyServerURL": "https://plot.ly"
       },
       "data": [
        {
         "hovertemplate": "Timestamp=%{x}<br>SDG_Mean=%{y}<extra></extra>",
         "legendgroup": "",
         "line": {
          "color": "#636efa",
          "dash": "solid"
         },
         "marker": {
          "symbol": "circle"
         },
         "mode": "lines",
         "name": "",
         "orientation": "v",
         "showlegend": false,
         "type": "scatter",
         "x": [
          "2019-12-13T00:00:00",
          "2019-12-14T00:00:00",
          "2019-12-15T00:00:00",
          "2019-12-16T00:00:00",
          "2019-12-17T00:00:00",
          "2019-12-18T00:00:00",
          "2019-12-19T00:00:00",
          "2019-12-20T00:00:00",
          "2019-12-21T00:00:00",
          "2019-12-22T00:00:00",
          "2019-12-23T00:00:00",
          "2019-12-24T00:00:00",
          "2019-12-25T00:00:00",
          "2019-12-26T00:00:00",
          "2019-12-27T00:00:00",
          "2019-12-28T00:00:00",
          "2019-12-29T00:00:00",
          "2019-12-30T00:00:00",
          "2019-12-31T00:00:00",
          "2020-01-01T00:00:00",
          "2020-01-02T00:00:00",
          "2020-01-03T00:00:00",
          "2020-01-04T00:00:00",
          "2020-01-05T00:00:00",
          "2020-01-06T00:00:00",
          "2020-01-07T00:00:00",
          "2020-01-08T00:00:00",
          "2020-01-09T00:00:00",
          "2020-01-10T00:00:00",
          "2020-01-11T00:00:00",
          "2020-01-12T00:00:00",
          "2020-01-13T00:00:00",
          "2020-01-14T00:00:00",
          "2020-01-15T00:00:00",
          "2020-01-16T00:00:00",
          "2020-01-17T00:00:00",
          "2020-01-18T00:00:00",
          "2020-01-19T00:00:00",
          "2020-01-20T00:00:00",
          "2020-01-21T00:00:00",
          "2020-01-22T00:00:00",
          "2020-01-23T00:00:00",
          "2020-01-24T00:00:00",
          "2020-01-25T00:00:00",
          "2020-01-26T00:00:00",
          "2020-01-27T00:00:00",
          "2020-01-28T00:00:00",
          "2020-01-29T00:00:00",
          "2020-01-30T00:00:00",
          "2020-01-31T00:00:00",
          "2020-02-01T00:00:00",
          "2020-02-02T00:00:00",
          "2020-02-03T00:00:00",
          "2020-02-04T00:00:00",
          "2020-02-05T00:00:00",
          "2020-02-06T00:00:00",
          "2020-02-07T00:00:00",
          "2020-02-08T00:00:00",
          "2020-02-09T00:00:00",
          "2020-02-10T00:00:00",
          "2020-02-11T00:00:00",
          "2020-02-12T00:00:00",
          "2020-02-13T00:00:00",
          "2020-02-14T00:00:00",
          "2020-02-15T00:00:00",
          "2020-02-16T00:00:00",
          "2020-02-17T00:00:00",
          "2020-02-18T00:00:00",
          "2020-02-19T00:00:00",
          "2020-02-20T00:00:00",
          "2020-02-21T00:00:00",
          "2020-02-22T00:00:00",
          "2020-02-23T00:00:00",
          "2020-02-24T00:00:00",
          "2020-02-25T00:00:00",
          "2020-02-26T00:00:00",
          "2020-02-27T00:00:00",
          "2020-02-28T00:00:00",
          "2020-02-29T00:00:00",
          "2020-03-01T00:00:00",
          "2020-03-02T00:00:00",
          "2020-03-03T00:00:00",
          "2020-03-04T00:00:00",
          "2020-03-05T00:00:00",
          "2020-03-06T00:00:00",
          "2020-03-07T00:00:00",
          "2020-03-08T00:00:00",
          "2020-03-09T00:00:00",
          "2020-03-10T00:00:00",
          "2020-03-11T00:00:00",
          "2020-03-12T00:00:00",
          "2020-03-13T00:00:00",
          "2020-03-14T00:00:00",
          "2020-03-15T00:00:00",
          "2020-03-16T00:00:00",
          "2020-03-17T00:00:00",
          "2020-03-18T00:00:00",
          "2020-03-19T00:00:00",
          "2020-03-20T00:00:00",
          "2020-03-21T00:00:00",
          "2020-03-22T00:00:00",
          "2020-03-23T00:00:00",
          "2020-03-24T00:00:00",
          "2020-03-25T00:00:00",
          "2020-03-26T00:00:00",
          "2020-03-27T00:00:00",
          "2020-03-28T00:00:00",
          "2020-03-29T00:00:00",
          "2020-03-30T00:00:00",
          "2020-03-31T00:00:00",
          "2020-04-01T00:00:00",
          "2020-04-02T00:00:00",
          "2020-04-03T00:00:00",
          "2020-04-04T00:00:00",
          "2020-04-05T00:00:00",
          "2020-04-06T00:00:00",
          "2020-04-07T00:00:00",
          "2020-04-08T00:00:00",
          "2020-04-09T00:00:00",
          "2020-04-10T00:00:00",
          "2020-04-11T00:00:00",
          "2020-04-12T00:00:00",
          "2020-04-13T00:00:00",
          "2020-04-14T00:00:00",
          "2020-04-15T00:00:00",
          "2020-04-16T00:00:00",
          "2020-04-17T00:00:00",
          "2020-04-18T00:00:00",
          "2020-04-19T00:00:00",
          "2020-04-20T00:00:00",
          "2020-04-21T00:00:00",
          "2020-04-22T00:00:00"
         ],
         "xaxis": "x",
         "y": [
          -0.5961328615187915,
          -0.53393013334168,
          -0.6833257811803729,
          -0.3485622128355935,
          -1.5017395408381229,
          -0.6964929080242449,
          -0.4516815069413033,
          -0.849230047072009,
          -1.1757810727304858,
          -0.9609372974826262,
          -0.350660370244911,
          -0.6150682662706619,
          -0.6228337945796271,
          -1.5789076739729249,
          -1.0889871183442357,
          -0.9253750927604946,
          -0.9644885359636628,
          -0.9124137800026736,
          -1.1558101180210971,
          -0.8158722907998083,
          -0.9931761398233346,
          -0.4187437923193952,
          -0.7087867289818955,
          -0.7822972952922196,
          -0.5558201592394449,
          -0.5056581115755933,
          -0.8914272462466679,
          -0.8047900828069076,
          -0.4169194707776059,
          -0.6781603331455478,
          -0.7534767515853322,
          -0.5726942591619552,
          -0.4921624825655673,
          -0.2790337642755368,
          -0.4105680454679624,
          -0.424103396219694,
          -0.9946391931999816,
          -0.947388508757087,
          -0.8184422062764722,
          -1.0445495300103622,
          -0.8432425586356677,
          -0.6458014607981715,
          -0.8339496895013456,
          -0.3851138028817408,
          -1.5598884372844264,
          -0.9307391366135862,
          -0.6935110587597524,
          -0.7302674018605522,
          -0.8970943748397199,
          -0.8613798786514535,
          -1.209972029770065,
          -1.1065587683344402,
          -2.338697529782506,
          -1.246315290020376,
          -0.8429651353622019,
          -0.3258272462796641,
          -0.2458426490620132,
          -0.6521363103759723,
          -0.8745785083088586,
          -0.8137350190304422,
          -0.5701483184328294,
          -0.7896623889906039,
          -0.3405140185623306,
          -0.7933937890686626,
          -1.3518828777246674,
          -0.8133912894955284,
          -0.7001469524345989,
          -0.9656963470577292,
          -0.7045911643095574,
          -0.937603088421092,
          -1.0642117146379368,
          -1.0395859290713376,
          -1.0584844591909075,
          -1.321755401111298,
          -0.6695933360310056,
          -0.6721707474133055,
          -0.7186044102091712,
          -0.6621061542971287,
          -2.045548877586284,
          -1.0035637862074631,
          -0.5675967814300813,
          -1.1728466808004423,
          -0.8829938689564872,
          -1.229543830410113,
          -1.6163416449411208,
          -1.3874901964103237,
          -1.365926198101197,
          -0.8557462812922986,
          -1.1792178462952148,
          -1.1053601067379528,
          -1.4116139120185145,
          -1.3955495378181058,
          -1.7258113985675132,
          -2.085741670607605,
          -1.5103540967859688,
          -1.6243595603362002,
          -1.2160814214684383,
          -1.1658831685252051,
          -1.471221115631797,
          -1.4017060717729444,
          -1.5264565440424818,
          -1.1360839951838857,
          -0.9591889417300966,
          -0.9261661387567732,
          -1.2051394702882252,
          -1.0217096021215748,
          -1.1297352831995515,
          -1.206546107041471,
          -0.8980740854658688,
          -1.161638035340613,
          -1.1491416802721603,
          -1.0331452462028048,
          -1.6571239037645942,
          -1.7404194198581495,
          -1.0326719849709187,
          -1.0320067951813725,
          -0.9847962951972242,
          -0.819869064748777,
          -1.131370684105449,
          -1.068465058901884,
          -1.4357668724917745,
          -1.5032243932066909,
          -1.0187244081097662,
          -1.594237165944583,
          -0.8269303071706466,
          -1.0730517790335463,
          -1.0885002684216047,
          -1.1024039224251323,
          -1.5206036097835762,
          -1.3844663064277922,
          -0.9880144142267372,
          -0.5705797502638776
         ],
         "yaxis": "y"
        }
       ],
       "layout": {
        "legend": {
         "tracegroupgap": 0
        },
        "shapes": [
         {
          "fillcolor": "rgba(200,0,200,0.2)",
          "layer": "below",
          "line": {
           "color": "rgba(0,0,0,0)",
           "width": 3
          },
          "type": "rect",
          "x0": "2019-12-31T00:00:00",
          "x1": "2020-01-01T00:00:00",
          "xref": "x",
          "y0": 0,
          "y1": 1,
          "yref": "paper"
         },
         {
          "fillcolor": "rgba(200,0,200,0.2)",
          "layer": "below",
          "line": {
           "color": "rgba(0,0,0,0)",
           "width": 3
          },
          "type": "rect",
          "x0": "2020-01-02T00:00:00",
          "x1": "2020-01-03T00:00:00",
          "xref": "x",
          "y0": 0,
          "y1": 1,
          "yref": "paper"
         },
         {
          "fillcolor": "rgba(200,0,200,0.2)",
          "layer": "below",
          "line": {
           "color": "rgba(0,0,0,0)",
           "width": 3
          },
          "type": "rect",
          "x0": "2020-01-05T00:00:00",
          "x1": "2020-01-06T00:00:00",
          "xref": "x",
          "y0": 0,
          "y1": 1,
          "yref": "paper"
         },
         {
          "fillcolor": "rgba(200,0,200,0.2)",
          "layer": "below",
          "line": {
           "color": "rgba(0,0,0,0)",
           "width": 3
          },
          "type": "rect",
          "x0": "2020-01-07T00:00:00",
          "x1": "2020-01-08T00:00:00",
          "xref": "x",
          "y0": 0,
          "y1": 1,
          "yref": "paper"
         },
         {
          "fillcolor": "rgba(200,0,200,0.2)",
          "layer": "below",
          "line": {
           "color": "rgba(0,0,0,0)",
           "width": 3
          },
          "type": "rect",
          "x0": "2020-01-10T00:00:00",
          "x1": "2020-01-11T00:00:00",
          "xref": "x",
          "y0": 0,
          "y1": 1,
          "yref": "paper"
         },
         {
          "fillcolor": "rgba(200,0,200,0.2)",
          "layer": "below",
          "line": {
           "color": "rgba(0,0,0,0)",
           "width": 3
          },
          "type": "rect",
          "x0": "2020-01-13T00:00:00",
          "x1": "2020-01-14T00:00:00",
          "xref": "x",
          "y0": 0,
          "y1": 1,
          "yref": "paper"
         },
         {
          "fillcolor": "rgba(200,0,200,0.2)",
          "layer": "below",
          "line": {
           "color": "rgba(0,0,0,0)",
           "width": 3
          },
          "type": "rect",
          "x0": "2020-01-15T00:00:00",
          "x1": "2020-01-16T00:00:00",
          "xref": "x",
          "y0": 0,
          "y1": 1,
          "yref": "paper"
         },
         {
          "fillcolor": "rgba(200,0,200,0.2)",
          "layer": "below",
          "line": {
           "color": "rgba(0,0,0,0)",
           "width": 3
          },
          "type": "rect",
          "x0": "2020-01-17T00:00:00",
          "x1": "2020-01-18T00:00:00",
          "xref": "x",
          "y0": 0,
          "y1": 1,
          "yref": "paper"
         },
         {
          "fillcolor": "rgba(200,0,200,0.2)",
          "layer": "below",
          "line": {
           "color": "rgba(0,0,0,0)",
           "width": 3
          },
          "type": "rect",
          "x0": "2020-01-20T00:00:00",
          "x1": "2020-01-23T00:00:00",
          "xref": "x",
          "y0": 0,
          "y1": 1,
          "yref": "paper"
         },
         {
          "fillcolor": "rgba(200,0,200,0.2)",
          "layer": "below",
          "line": {
           "color": "rgba(0,0,0,0)",
           "width": 3
          },
          "type": "rect",
          "x0": "2020-01-27T00:00:00",
          "x1": "2020-01-28T00:00:00",
          "xref": "x",
          "y0": 0,
          "y1": 1,
          "yref": "paper"
         },
         {
          "fillcolor": "rgba(200,0,200,0.2)",
          "layer": "below",
          "line": {
           "color": "rgba(0,0,0,0)",
           "width": 3
          },
          "type": "rect",
          "x0": "2020-01-29T00:00:00",
          "x1": "2020-01-30T00:00:00",
          "xref": "x",
          "y0": 0,
          "y1": 1,
          "yref": "paper"
         },
         {
          "fillcolor": "rgba(200,0,200,0.2)",
          "layer": "below",
          "line": {
           "color": "rgba(0,0,0,0)",
           "width": 3
          },
          "type": "rect",
          "x0": "2020-01-31T00:00:00",
          "x1": "2020-02-01T00:00:00",
          "xref": "x",
          "y0": 0,
          "y1": 1,
          "yref": "paper"
         },
         {
          "fillcolor": "rgba(200,0,200,0.2)",
          "layer": "below",
          "line": {
           "color": "rgba(0,0,0,0)",
           "width": 3
          },
          "type": "rect",
          "x0": "2020-02-03T00:00:00",
          "x1": "2020-02-05T00:00:00",
          "xref": "x",
          "y0": 0,
          "y1": 1,
          "yref": "paper"
         },
         {
          "fillcolor": "rgba(200,0,200,0.2)",
          "layer": "below",
          "line": {
           "color": "rgba(0,0,0,0)",
           "width": 3
          },
          "type": "rect",
          "x0": "2020-02-08T00:00:00",
          "x1": "2020-02-09T00:00:00",
          "xref": "x",
          "y0": 0,
          "y1": 1,
          "yref": "paper"
         },
         {
          "fillcolor": "rgba(200,0,200,0.2)",
          "layer": "below",
          "line": {
           "color": "rgba(0,0,0,0)",
           "width": 3
          },
          "type": "rect",
          "x0": "2020-02-11T00:00:00",
          "x1": "2020-02-12T00:00:00",
          "xref": "x",
          "y0": 0,
          "y1": 1,
          "yref": "paper"
         },
         {
          "fillcolor": "rgba(200,0,200,0.2)",
          "layer": "below",
          "line": {
           "color": "rgba(0,0,0,0)",
           "width": 3
          },
          "type": "rect",
          "x0": "2020-02-23T00:00:00",
          "x1": "2020-02-24T00:00:00",
          "xref": "x",
          "y0": 0,
          "y1": 1,
          "yref": "paper"
         },
         {
          "fillcolor": "rgba(200,0,200,0.2)",
          "layer": "below",
          "line": {
           "color": "rgba(0,0,0,0)",
           "width": 3
          },
          "type": "rect",
          "x0": "2020-02-26T00:00:00",
          "x1": "2020-02-27T00:00:00",
          "xref": "x",
          "y0": 0,
          "y1": 1,
          "yref": "paper"
         },
         {
          "fillcolor": "rgba(200,0,200,0.2)",
          "layer": "below",
          "line": {
           "color": "rgba(0,0,0,0)",
           "width": 3
          },
          "type": "rect",
          "x0": "2020-02-29T00:00:00",
          "x1": "2020-03-02T00:00:00",
          "xref": "x",
          "y0": 0,
          "y1": 1,
          "yref": "paper"
         },
         {
          "fillcolor": "rgba(200,0,200,0.2)",
          "layer": "below",
          "line": {
           "color": "rgba(0,0,0,0)",
           "width": 3
          },
          "type": "rect",
          "x0": "2020-03-11T00:00:00",
          "x1": "2020-03-18T00:00:00",
          "xref": "x",
          "y0": 0,
          "y1": 1,
          "yref": "paper"
         },
         {
          "fillcolor": "rgba(200,0,200,0.2)",
          "layer": "below",
          "line": {
           "color": "rgba(0,0,0,0)",
           "width": 3
          },
          "type": "rect",
          "x0": "2020-03-26T00:00:00",
          "x1": "2020-03-27T00:00:00",
          "xref": "x",
          "y0": 0,
          "y1": 1,
          "yref": "paper"
         },
         {
          "fillcolor": "rgba(200,0,200,0.2)",
          "layer": "below",
          "line": {
           "color": "rgba(0,0,0,0)",
           "width": 3
          },
          "type": "rect",
          "x0": "2020-03-28T00:00:00",
          "x1": "2020-03-29T00:00:00",
          "xref": "x",
          "y0": 0,
          "y1": 1,
          "yref": "paper"
         },
         {
          "fillcolor": "rgba(200,0,200,0.2)",
          "layer": "below",
          "line": {
           "color": "rgba(0,0,0,0)",
           "width": 3
          },
          "type": "rect",
          "x0": "2020-03-31T00:00:00",
          "x1": "2020-04-01T00:00:00",
          "xref": "x",
          "y0": 0,
          "y1": 1,
          "yref": "paper"
         },
         {
          "fillcolor": "rgba(200,0,200,0.2)",
          "layer": "below",
          "line": {
           "color": "rgba(0,0,0,0)",
           "width": 3
          },
          "type": "rect",
          "x0": "2020-04-03T00:00:00",
          "x1": "2020-04-04T00:00:00",
          "xref": "x",
          "y0": 0,
          "y1": 1,
          "yref": "paper"
         },
         {
          "fillcolor": "rgba(200,0,200,0.2)",
          "layer": "below",
          "line": {
           "color": "rgba(0,0,0,0)",
           "width": 3
          },
          "type": "rect",
          "x0": "2020-04-06T00:00:00",
          "x1": "2020-04-09T00:00:00",
          "xref": "x",
          "y0": 0,
          "y1": 1,
          "yref": "paper"
         },
         {
          "fillcolor": "rgba(200,0,200,0.2)",
          "layer": "below",
          "line": {
           "color": "rgba(0,0,0,0)",
           "width": 3
          },
          "type": "rect",
          "x0": "2020-04-10T00:00:00",
          "x1": "2020-04-11T00:00:00",
          "xref": "x",
          "y0": 0,
          "y1": 1,
          "yref": "paper"
         },
         {
          "fillcolor": "rgba(200,0,200,0.2)",
          "layer": "below",
          "line": {
           "color": "rgba(0,0,0,0)",
           "width": 3
          },
          "type": "rect",
          "x0": "2020-04-13T00:00:00",
          "x1": "2020-04-14T00:00:00",
          "xref": "x",
          "y0": 0,
          "y1": 1,
          "yref": "paper"
         }
        ],
        "template": {
         "data": {
          "bar": [
           {
            "error_x": {
             "color": "#2a3f5f"
            },
            "error_y": {
             "color": "#2a3f5f"
            },
            "marker": {
             "line": {
              "color": "#E5ECF6",
              "width": 0.5
             },
             "pattern": {
              "fillmode": "overlay",
              "size": 10,
              "solidity": 0.2
             }
            },
            "type": "bar"
           }
          ],
          "barpolar": [
           {
            "marker": {
             "line": {
              "color": "#E5ECF6",
              "width": 0.5
             },
             "pattern": {
              "fillmode": "overlay",
              "size": 10,
              "solidity": 0.2
             }
            },
            "type": "barpolar"
           }
          ],
          "carpet": [
           {
            "aaxis": {
             "endlinecolor": "#2a3f5f",
             "gridcolor": "white",
             "linecolor": "white",
             "minorgridcolor": "white",
             "startlinecolor": "#2a3f5f"
            },
            "baxis": {
             "endlinecolor": "#2a3f5f",
             "gridcolor": "white",
             "linecolor": "white",
             "minorgridcolor": "white",
             "startlinecolor": "#2a3f5f"
            },
            "type": "carpet"
           }
          ],
          "choropleth": [
           {
            "colorbar": {
             "outlinewidth": 0,
             "ticks": ""
            },
            "type": "choropleth"
           }
          ],
          "contour": [
           {
            "colorbar": {
             "outlinewidth": 0,
             "ticks": ""
            },
            "colorscale": [
             [
              0,
              "#0d0887"
             ],
             [
              0.1111111111111111,
              "#46039f"
             ],
             [
              0.2222222222222222,
              "#7201a8"
             ],
             [
              0.3333333333333333,
              "#9c179e"
             ],
             [
              0.4444444444444444,
              "#bd3786"
             ],
             [
              0.5555555555555556,
              "#d8576b"
             ],
             [
              0.6666666666666666,
              "#ed7953"
             ],
             [
              0.7777777777777778,
              "#fb9f3a"
             ],
             [
              0.8888888888888888,
              "#fdca26"
             ],
             [
              1,
              "#f0f921"
             ]
            ],
            "type": "contour"
           }
          ],
          "contourcarpet": [
           {
            "colorbar": {
             "outlinewidth": 0,
             "ticks": ""
            },
            "type": "contourcarpet"
           }
          ],
          "heatmap": [
           {
            "colorbar": {
             "outlinewidth": 0,
             "ticks": ""
            },
            "colorscale": [
             [
              0,
              "#0d0887"
             ],
             [
              0.1111111111111111,
              "#46039f"
             ],
             [
              0.2222222222222222,
              "#7201a8"
             ],
             [
              0.3333333333333333,
              "#9c179e"
             ],
             [
              0.4444444444444444,
              "#bd3786"
             ],
             [
              0.5555555555555556,
              "#d8576b"
             ],
             [
              0.6666666666666666,
              "#ed7953"
             ],
             [
              0.7777777777777778,
              "#fb9f3a"
             ],
             [
              0.8888888888888888,
              "#fdca26"
             ],
             [
              1,
              "#f0f921"
             ]
            ],
            "type": "heatmap"
           }
          ],
          "heatmapgl": [
           {
            "colorbar": {
             "outlinewidth": 0,
             "ticks": ""
            },
            "colorscale": [
             [
              0,
              "#0d0887"
             ],
             [
              0.1111111111111111,
              "#46039f"
             ],
             [
              0.2222222222222222,
              "#7201a8"
             ],
             [
              0.3333333333333333,
              "#9c179e"
             ],
             [
              0.4444444444444444,
              "#bd3786"
             ],
             [
              0.5555555555555556,
              "#d8576b"
             ],
             [
              0.6666666666666666,
              "#ed7953"
             ],
             [
              0.7777777777777778,
              "#fb9f3a"
             ],
             [
              0.8888888888888888,
              "#fdca26"
             ],
             [
              1,
              "#f0f921"
             ]
            ],
            "type": "heatmapgl"
           }
          ],
          "histogram": [
           {
            "marker": {
             "pattern": {
              "fillmode": "overlay",
              "size": 10,
              "solidity": 0.2
             }
            },
            "type": "histogram"
           }
          ],
          "histogram2d": [
           {
            "colorbar": {
             "outlinewidth": 0,
             "ticks": ""
            },
            "colorscale": [
             [
              0,
              "#0d0887"
             ],
             [
              0.1111111111111111,
              "#46039f"
             ],
             [
              0.2222222222222222,
              "#7201a8"
             ],
             [
              0.3333333333333333,
              "#9c179e"
             ],
             [
              0.4444444444444444,
              "#bd3786"
             ],
             [
              0.5555555555555556,
              "#d8576b"
             ],
             [
              0.6666666666666666,
              "#ed7953"
             ],
             [
              0.7777777777777778,
              "#fb9f3a"
             ],
             [
              0.8888888888888888,
              "#fdca26"
             ],
             [
              1,
              "#f0f921"
             ]
            ],
            "type": "histogram2d"
           }
          ],
          "histogram2dcontour": [
           {
            "colorbar": {
             "outlinewidth": 0,
             "ticks": ""
            },
            "colorscale": [
             [
              0,
              "#0d0887"
             ],
             [
              0.1111111111111111,
              "#46039f"
             ],
             [
              0.2222222222222222,
              "#7201a8"
             ],
             [
              0.3333333333333333,
              "#9c179e"
             ],
             [
              0.4444444444444444,
              "#bd3786"
             ],
             [
              0.5555555555555556,
              "#d8576b"
             ],
             [
              0.6666666666666666,
              "#ed7953"
             ],
             [
              0.7777777777777778,
              "#fb9f3a"
             ],
             [
              0.8888888888888888,
              "#fdca26"
             ],
             [
              1,
              "#f0f921"
             ]
            ],
            "type": "histogram2dcontour"
           }
          ],
          "mesh3d": [
           {
            "colorbar": {
             "outlinewidth": 0,
             "ticks": ""
            },
            "type": "mesh3d"
           }
          ],
          "parcoords": [
           {
            "line": {
             "colorbar": {
              "outlinewidth": 0,
              "ticks": ""
             }
            },
            "type": "parcoords"
           }
          ],
          "pie": [
           {
            "automargin": true,
            "type": "pie"
           }
          ],
          "scatter": [
           {
            "fillpattern": {
             "fillmode": "overlay",
             "size": 10,
             "solidity": 0.2
            },
            "type": "scatter"
           }
          ],
          "scatter3d": [
           {
            "line": {
             "colorbar": {
              "outlinewidth": 0,
              "ticks": ""
             }
            },
            "marker": {
             "colorbar": {
              "outlinewidth": 0,
              "ticks": ""
             }
            },
            "type": "scatter3d"
           }
          ],
          "scattercarpet": [
           {
            "marker": {
             "colorbar": {
              "outlinewidth": 0,
              "ticks": ""
             }
            },
            "type": "scattercarpet"
           }
          ],
          "scattergeo": [
           {
            "marker": {
             "colorbar": {
              "outlinewidth": 0,
              "ticks": ""
             }
            },
            "type": "scattergeo"
           }
          ],
          "scattergl": [
           {
            "marker": {
             "colorbar": {
              "outlinewidth": 0,
              "ticks": ""
             }
            },
            "type": "scattergl"
           }
          ],
          "scattermapbox": [
           {
            "marker": {
             "colorbar": {
              "outlinewidth": 0,
              "ticks": ""
             }
            },
            "type": "scattermapbox"
           }
          ],
          "scatterpolar": [
           {
            "marker": {
             "colorbar": {
              "outlinewidth": 0,
              "ticks": ""
             }
            },
            "type": "scatterpolar"
           }
          ],
          "scatterpolargl": [
           {
            "marker": {
             "colorbar": {
              "outlinewidth": 0,
              "ticks": ""
             }
            },
            "type": "scatterpolargl"
           }
          ],
          "scatterternary": [
           {
            "marker": {
             "colorbar": {
              "outlinewidth": 0,
              "ticks": ""
             }
            },
            "type": "scatterternary"
           }
          ],
          "surface": [
           {
            "colorbar": {
             "outlinewidth": 0,
             "ticks": ""
            },
            "colorscale": [
             [
              0,
              "#0d0887"
             ],
             [
              0.1111111111111111,
              "#46039f"
             ],
             [
              0.2222222222222222,
              "#7201a8"
             ],
             [
              0.3333333333333333,
              "#9c179e"
             ],
             [
              0.4444444444444444,
              "#bd3786"
             ],
             [
              0.5555555555555556,
              "#d8576b"
             ],
             [
              0.6666666666666666,
              "#ed7953"
             ],
             [
              0.7777777777777778,
              "#fb9f3a"
             ],
             [
              0.8888888888888888,
              "#fdca26"
             ],
             [
              1,
              "#f0f921"
             ]
            ],
            "type": "surface"
           }
          ],
          "table": [
           {
            "cells": {
             "fill": {
              "color": "#EBF0F8"
             },
             "line": {
              "color": "white"
             }
            },
            "header": {
             "fill": {
              "color": "#C8D4E3"
             },
             "line": {
              "color": "white"
             }
            },
            "type": "table"
           }
          ]
         },
         "layout": {
          "annotationdefaults": {
           "arrowcolor": "#2a3f5f",
           "arrowhead": 0,
           "arrowwidth": 1
          },
          "autotypenumbers": "strict",
          "coloraxis": {
           "colorbar": {
            "outlinewidth": 0,
            "ticks": ""
           }
          },
          "colorscale": {
           "diverging": [
            [
             0,
             "#8e0152"
            ],
            [
             0.1,
             "#c51b7d"
            ],
            [
             0.2,
             "#de77ae"
            ],
            [
             0.3,
             "#f1b6da"
            ],
            [
             0.4,
             "#fde0ef"
            ],
            [
             0.5,
             "#f7f7f7"
            ],
            [
             0.6,
             "#e6f5d0"
            ],
            [
             0.7,
             "#b8e186"
            ],
            [
             0.8,
             "#7fbc41"
            ],
            [
             0.9,
             "#4d9221"
            ],
            [
             1,
             "#276419"
            ]
           ],
           "sequential": [
            [
             0,
             "#0d0887"
            ],
            [
             0.1111111111111111,
             "#46039f"
            ],
            [
             0.2222222222222222,
             "#7201a8"
            ],
            [
             0.3333333333333333,
             "#9c179e"
            ],
            [
             0.4444444444444444,
             "#bd3786"
            ],
            [
             0.5555555555555556,
             "#d8576b"
            ],
            [
             0.6666666666666666,
             "#ed7953"
            ],
            [
             0.7777777777777778,
             "#fb9f3a"
            ],
            [
             0.8888888888888888,
             "#fdca26"
            ],
            [
             1,
             "#f0f921"
            ]
           ],
           "sequentialminus": [
            [
             0,
             "#0d0887"
            ],
            [
             0.1111111111111111,
             "#46039f"
            ],
            [
             0.2222222222222222,
             "#7201a8"
            ],
            [
             0.3333333333333333,
             "#9c179e"
            ],
            [
             0.4444444444444444,
             "#bd3786"
            ],
            [
             0.5555555555555556,
             "#d8576b"
            ],
            [
             0.6666666666666666,
             "#ed7953"
            ],
            [
             0.7777777777777778,
             "#fb9f3a"
            ],
            [
             0.8888888888888888,
             "#fdca26"
            ],
            [
             1,
             "#f0f921"
            ]
           ]
          },
          "colorway": [
           "#636efa",
           "#EF553B",
           "#00cc96",
           "#ab63fa",
           "#FFA15A",
           "#19d3f3",
           "#FF6692",
           "#B6E880",
           "#FF97FF",
           "#FECB52"
          ],
          "font": {
           "color": "#2a3f5f"
          },
          "geo": {
           "bgcolor": "white",
           "lakecolor": "white",
           "landcolor": "#E5ECF6",
           "showlakes": true,
           "showland": true,
           "subunitcolor": "white"
          },
          "hoverlabel": {
           "align": "left"
          },
          "hovermode": "closest",
          "mapbox": {
           "style": "light"
          },
          "paper_bgcolor": "white",
          "plot_bgcolor": "#E5ECF6",
          "polar": {
           "angularaxis": {
            "gridcolor": "white",
            "linecolor": "white",
            "ticks": ""
           },
           "bgcolor": "#E5ECF6",
           "radialaxis": {
            "gridcolor": "white",
            "linecolor": "white",
            "ticks": ""
           }
          },
          "scene": {
           "xaxis": {
            "backgroundcolor": "#E5ECF6",
            "gridcolor": "white",
            "gridwidth": 2,
            "linecolor": "white",
            "showbackground": true,
            "ticks": "",
            "zerolinecolor": "white"
           },
           "yaxis": {
            "backgroundcolor": "#E5ECF6",
            "gridcolor": "white",
            "gridwidth": 2,
            "linecolor": "white",
            "showbackground": true,
            "ticks": "",
            "zerolinecolor": "white"
           },
           "zaxis": {
            "backgroundcolor": "#E5ECF6",
            "gridcolor": "white",
            "gridwidth": 2,
            "linecolor": "white",
            "showbackground": true,
            "ticks": "",
            "zerolinecolor": "white"
           }
          },
          "shapedefaults": {
           "line": {
            "color": "#2a3f5f"
           }
          },
          "ternary": {
           "aaxis": {
            "gridcolor": "white",
            "linecolor": "white",
            "ticks": ""
           },
           "baxis": {
            "gridcolor": "white",
            "linecolor": "white",
            "ticks": ""
           },
           "bgcolor": "#E5ECF6",
           "caxis": {
            "gridcolor": "white",
            "linecolor": "white",
            "ticks": ""
           }
          },
          "title": {
           "x": 0.05
          },
          "xaxis": {
           "automargin": true,
           "gridcolor": "white",
           "linecolor": "white",
           "ticks": "",
           "title": {
            "standoff": 15
           },
           "zerolinecolor": "white",
           "zerolinewidth": 2
          },
          "yaxis": {
           "automargin": true,
           "gridcolor": "white",
           "linecolor": "white",
           "ticks": "",
           "title": {
            "standoff": 15
           },
           "zerolinecolor": "white",
           "zerolinewidth": 2
          }
         }
        },
        "title": {
         "text": "Time Series Line Chart"
        },
        "xaxis": {
         "anchor": "y",
         "domain": [
          0,
          1
         ],
         "title": {
          "text": "Timestamp"
         }
        },
        "yaxis": {
         "anchor": "x",
         "domain": [
          0,
          1
         ],
         "title": {
          "text": "SDG_Mean"
         }
        }
       }
      },
      "text/html": [
       "<div>                            <div id=\"55e8f9de-fd88-4f27-85b9-757287f46f6e\" class=\"plotly-graph-div\" style=\"height:525px; width:100%;\"></div>            <script type=\"text/javascript\">                require([\"plotly\"], function(Plotly) {                    window.PLOTLYENV=window.PLOTLYENV || {};                                    if (document.getElementById(\"55e8f9de-fd88-4f27-85b9-757287f46f6e\")) {                    Plotly.newPlot(                        \"55e8f9de-fd88-4f27-85b9-757287f46f6e\",                        [{\"hovertemplate\":\"Timestamp=%{x}<br>SDG_Mean=%{y}<extra></extra>\",\"legendgroup\":\"\",\"line\":{\"color\":\"#636efa\",\"dash\":\"solid\"},\"marker\":{\"symbol\":\"circle\"},\"mode\":\"lines\",\"name\":\"\",\"orientation\":\"v\",\"showlegend\":false,\"x\":[\"2019-12-13T00:00:00\",\"2019-12-14T00:00:00\",\"2019-12-15T00:00:00\",\"2019-12-16T00:00:00\",\"2019-12-17T00:00:00\",\"2019-12-18T00:00:00\",\"2019-12-19T00:00:00\",\"2019-12-20T00:00:00\",\"2019-12-21T00:00:00\",\"2019-12-22T00:00:00\",\"2019-12-23T00:00:00\",\"2019-12-24T00:00:00\",\"2019-12-25T00:00:00\",\"2019-12-26T00:00:00\",\"2019-12-27T00:00:00\",\"2019-12-28T00:00:00\",\"2019-12-29T00:00:00\",\"2019-12-30T00:00:00\",\"2019-12-31T00:00:00\",\"2020-01-01T00:00:00\",\"2020-01-02T00:00:00\",\"2020-01-03T00:00:00\",\"2020-01-04T00:00:00\",\"2020-01-05T00:00:00\",\"2020-01-06T00:00:00\",\"2020-01-07T00:00:00\",\"2020-01-08T00:00:00\",\"2020-01-09T00:00:00\",\"2020-01-10T00:00:00\",\"2020-01-11T00:00:00\",\"2020-01-12T00:00:00\",\"2020-01-13T00:00:00\",\"2020-01-14T00:00:00\",\"2020-01-15T00:00:00\",\"2020-01-16T00:00:00\",\"2020-01-17T00:00:00\",\"2020-01-18T00:00:00\",\"2020-01-19T00:00:00\",\"2020-01-20T00:00:00\",\"2020-01-21T00:00:00\",\"2020-01-22T00:00:00\",\"2020-01-23T00:00:00\",\"2020-01-24T00:00:00\",\"2020-01-25T00:00:00\",\"2020-01-26T00:00:00\",\"2020-01-27T00:00:00\",\"2020-01-28T00:00:00\",\"2020-01-29T00:00:00\",\"2020-01-30T00:00:00\",\"2020-01-31T00:00:00\",\"2020-02-01T00:00:00\",\"2020-02-02T00:00:00\",\"2020-02-03T00:00:00\",\"2020-02-04T00:00:00\",\"2020-02-05T00:00:00\",\"2020-02-06T00:00:00\",\"2020-02-07T00:00:00\",\"2020-02-08T00:00:00\",\"2020-02-09T00:00:00\",\"2020-02-10T00:00:00\",\"2020-02-11T00:00:00\",\"2020-02-12T00:00:00\",\"2020-02-13T00:00:00\",\"2020-02-14T00:00:00\",\"2020-02-15T00:00:00\",\"2020-02-16T00:00:00\",\"2020-02-17T00:00:00\",\"2020-02-18T00:00:00\",\"2020-02-19T00:00:00\",\"2020-02-20T00:00:00\",\"2020-02-21T00:00:00\",\"2020-02-22T00:00:00\",\"2020-02-23T00:00:00\",\"2020-02-24T00:00:00\",\"2020-02-25T00:00:00\",\"2020-02-26T00:00:00\",\"2020-02-27T00:00:00\",\"2020-02-28T00:00:00\",\"2020-02-29T00:00:00\",\"2020-03-01T00:00:00\",\"2020-03-02T00:00:00\",\"2020-03-03T00:00:00\",\"2020-03-04T00:00:00\",\"2020-03-05T00:00:00\",\"2020-03-06T00:00:00\",\"2020-03-07T00:00:00\",\"2020-03-08T00:00:00\",\"2020-03-09T00:00:00\",\"2020-03-10T00:00:00\",\"2020-03-11T00:00:00\",\"2020-03-12T00:00:00\",\"2020-03-13T00:00:00\",\"2020-03-14T00:00:00\",\"2020-03-15T00:00:00\",\"2020-03-16T00:00:00\",\"2020-03-17T00:00:00\",\"2020-03-18T00:00:00\",\"2020-03-19T00:00:00\",\"2020-03-20T00:00:00\",\"2020-03-21T00:00:00\",\"2020-03-22T00:00:00\",\"2020-03-23T00:00:00\",\"2020-03-24T00:00:00\",\"2020-03-25T00:00:00\",\"2020-03-26T00:00:00\",\"2020-03-27T00:00:00\",\"2020-03-28T00:00:00\",\"2020-03-29T00:00:00\",\"2020-03-30T00:00:00\",\"2020-03-31T00:00:00\",\"2020-04-01T00:00:00\",\"2020-04-02T00:00:00\",\"2020-04-03T00:00:00\",\"2020-04-04T00:00:00\",\"2020-04-05T00:00:00\",\"2020-04-06T00:00:00\",\"2020-04-07T00:00:00\",\"2020-04-08T00:00:00\",\"2020-04-09T00:00:00\",\"2020-04-10T00:00:00\",\"2020-04-11T00:00:00\",\"2020-04-12T00:00:00\",\"2020-04-13T00:00:00\",\"2020-04-14T00:00:00\",\"2020-04-15T00:00:00\",\"2020-04-16T00:00:00\",\"2020-04-17T00:00:00\",\"2020-04-18T00:00:00\",\"2020-04-19T00:00:00\",\"2020-04-20T00:00:00\",\"2020-04-21T00:00:00\",\"2020-04-22T00:00:00\"],\"xaxis\":\"x\",\"y\":[-0.5961328615187915,-0.53393013334168,-0.6833257811803729,-0.3485622128355935,-1.5017395408381229,-0.6964929080242449,-0.4516815069413033,-0.849230047072009,-1.1757810727304858,-0.9609372974826262,-0.350660370244911,-0.6150682662706619,-0.6228337945796271,-1.5789076739729249,-1.0889871183442357,-0.9253750927604946,-0.9644885359636628,-0.9124137800026736,-1.1558101180210971,-0.8158722907998083,-0.9931761398233346,-0.4187437923193952,-0.7087867289818955,-0.7822972952922196,-0.5558201592394449,-0.5056581115755933,-0.8914272462466679,-0.8047900828069076,-0.4169194707776059,-0.6781603331455478,-0.7534767515853322,-0.5726942591619552,-0.4921624825655673,-0.2790337642755368,-0.4105680454679624,-0.424103396219694,-0.9946391931999816,-0.947388508757087,-0.8184422062764722,-1.0445495300103622,-0.8432425586356677,-0.6458014607981715,-0.8339496895013456,-0.3851138028817408,-1.5598884372844264,-0.9307391366135862,-0.6935110587597524,-0.7302674018605522,-0.8970943748397199,-0.8613798786514535,-1.209972029770065,-1.1065587683344402,-2.338697529782506,-1.246315290020376,-0.8429651353622019,-0.3258272462796641,-0.2458426490620132,-0.6521363103759723,-0.8745785083088586,-0.8137350190304422,-0.5701483184328294,-0.7896623889906039,-0.3405140185623306,-0.7933937890686626,-1.3518828777246674,-0.8133912894955284,-0.7001469524345989,-0.9656963470577292,-0.7045911643095574,-0.937603088421092,-1.0642117146379368,-1.0395859290713376,-1.0584844591909075,-1.321755401111298,-0.6695933360310056,-0.6721707474133055,-0.7186044102091712,-0.6621061542971287,-2.045548877586284,-1.0035637862074631,-0.5675967814300813,-1.1728466808004423,-0.8829938689564872,-1.229543830410113,-1.6163416449411208,-1.3874901964103237,-1.365926198101197,-0.8557462812922986,-1.1792178462952148,-1.1053601067379528,-1.4116139120185145,-1.3955495378181058,-1.7258113985675132,-2.085741670607605,-1.5103540967859688,-1.6243595603362002,-1.2160814214684383,-1.1658831685252051,-1.471221115631797,-1.4017060717729444,-1.5264565440424818,-1.1360839951838857,-0.9591889417300966,-0.9261661387567732,-1.2051394702882252,-1.0217096021215748,-1.1297352831995515,-1.206546107041471,-0.8980740854658688,-1.161638035340613,-1.1491416802721603,-1.0331452462028048,-1.6571239037645942,-1.7404194198581495,-1.0326719849709187,-1.0320067951813725,-0.9847962951972242,-0.819869064748777,-1.131370684105449,-1.068465058901884,-1.4357668724917745,-1.5032243932066909,-1.0187244081097662,-1.594237165944583,-0.8269303071706466,-1.0730517790335463,-1.0885002684216047,-1.1024039224251323,-1.5206036097835762,-1.3844663064277922,-0.9880144142267372,-0.5705797502638776],\"yaxis\":\"y\",\"type\":\"scatter\"}],                        {\"template\":{\"data\":{\"histogram2dcontour\":[{\"type\":\"histogram2dcontour\",\"colorbar\":{\"outlinewidth\":0,\"ticks\":\"\"},\"colorscale\":[[0.0,\"#0d0887\"],[0.1111111111111111,\"#46039f\"],[0.2222222222222222,\"#7201a8\"],[0.3333333333333333,\"#9c179e\"],[0.4444444444444444,\"#bd3786\"],[0.5555555555555556,\"#d8576b\"],[0.6666666666666666,\"#ed7953\"],[0.7777777777777778,\"#fb9f3a\"],[0.8888888888888888,\"#fdca26\"],[1.0,\"#f0f921\"]]}],\"choropleth\":[{\"type\":\"choropleth\",\"colorbar\":{\"outlinewidth\":0,\"ticks\":\"\"}}],\"histogram2d\":[{\"type\":\"histogram2d\",\"colorbar\":{\"outlinewidth\":0,\"ticks\":\"\"},\"colorscale\":[[0.0,\"#0d0887\"],[0.1111111111111111,\"#46039f\"],[0.2222222222222222,\"#7201a8\"],[0.3333333333333333,\"#9c179e\"],[0.4444444444444444,\"#bd3786\"],[0.5555555555555556,\"#d8576b\"],[0.6666666666666666,\"#ed7953\"],[0.7777777777777778,\"#fb9f3a\"],[0.8888888888888888,\"#fdca26\"],[1.0,\"#f0f921\"]]}],\"heatmap\":[{\"type\":\"heatmap\",\"colorbar\":{\"outlinewidth\":0,\"ticks\":\"\"},\"colorscale\":[[0.0,\"#0d0887\"],[0.1111111111111111,\"#46039f\"],[0.2222222222222222,\"#7201a8\"],[0.3333333333333333,\"#9c179e\"],[0.4444444444444444,\"#bd3786\"],[0.5555555555555556,\"#d8576b\"],[0.6666666666666666,\"#ed7953\"],[0.7777777777777778,\"#fb9f3a\"],[0.8888888888888888,\"#fdca26\"],[1.0,\"#f0f921\"]]}],\"heatmapgl\":[{\"type\":\"heatmapgl\",\"colorbar\":{\"outlinewidth\":0,\"ticks\":\"\"},\"colorscale\":[[0.0,\"#0d0887\"],[0.1111111111111111,\"#46039f\"],[0.2222222222222222,\"#7201a8\"],[0.3333333333333333,\"#9c179e\"],[0.4444444444444444,\"#bd3786\"],[0.5555555555555556,\"#d8576b\"],[0.6666666666666666,\"#ed7953\"],[0.7777777777777778,\"#fb9f3a\"],[0.8888888888888888,\"#fdca26\"],[1.0,\"#f0f921\"]]}],\"contourcarpet\":[{\"type\":\"contourcarpet\",\"colorbar\":{\"outlinewidth\":0,\"ticks\":\"\"}}],\"contour\":[{\"type\":\"contour\",\"colorbar\":{\"outlinewidth\":0,\"ticks\":\"\"},\"colorscale\":[[0.0,\"#0d0887\"],[0.1111111111111111,\"#46039f\"],[0.2222222222222222,\"#7201a8\"],[0.3333333333333333,\"#9c179e\"],[0.4444444444444444,\"#bd3786\"],[0.5555555555555556,\"#d8576b\"],[0.6666666666666666,\"#ed7953\"],[0.7777777777777778,\"#fb9f3a\"],[0.8888888888888888,\"#fdca26\"],[1.0,\"#f0f921\"]]}],\"surface\":[{\"type\":\"surface\",\"colorbar\":{\"outlinewidth\":0,\"ticks\":\"\"},\"colorscale\":[[0.0,\"#0d0887\"],[0.1111111111111111,\"#46039f\"],[0.2222222222222222,\"#7201a8\"],[0.3333333333333333,\"#9c179e\"],[0.4444444444444444,\"#bd3786\"],[0.5555555555555556,\"#d8576b\"],[0.6666666666666666,\"#ed7953\"],[0.7777777777777778,\"#fb9f3a\"],[0.8888888888888888,\"#fdca26\"],[1.0,\"#f0f921\"]]}],\"mesh3d\":[{\"type\":\"mesh3d\",\"colorbar\":{\"outlinewidth\":0,\"ticks\":\"\"}}],\"scatter\":[{\"fillpattern\":{\"fillmode\":\"overlay\",\"size\":10,\"solidity\":0.2},\"type\":\"scatter\"}],\"parcoords\":[{\"type\":\"parcoords\",\"line\":{\"colorbar\":{\"outlinewidth\":0,\"ticks\":\"\"}}}],\"scatterpolargl\":[{\"type\":\"scatterpolargl\",\"marker\":{\"colorbar\":{\"outlinewidth\":0,\"ticks\":\"\"}}}],\"bar\":[{\"error_x\":{\"color\":\"#2a3f5f\"},\"error_y\":{\"color\":\"#2a3f5f\"},\"marker\":{\"line\":{\"color\":\"#E5ECF6\",\"width\":0.5},\"pattern\":{\"fillmode\":\"overlay\",\"size\":10,\"solidity\":0.2}},\"type\":\"bar\"}],\"scattergeo\":[{\"type\":\"scattergeo\",\"marker\":{\"colorbar\":{\"outlinewidth\":0,\"ticks\":\"\"}}}],\"scatterpolar\":[{\"type\":\"scatterpolar\",\"marker\":{\"colorbar\":{\"outlinewidth\":0,\"ticks\":\"\"}}}],\"histogram\":[{\"marker\":{\"pattern\":{\"fillmode\":\"overlay\",\"size\":10,\"solidity\":0.2}},\"type\":\"histogram\"}],\"scattergl\":[{\"type\":\"scattergl\",\"marker\":{\"colorbar\":{\"outlinewidth\":0,\"ticks\":\"\"}}}],\"scatter3d\":[{\"type\":\"scatter3d\",\"line\":{\"colorbar\":{\"outlinewidth\":0,\"ticks\":\"\"}},\"marker\":{\"colorbar\":{\"outlinewidth\":0,\"ticks\":\"\"}}}],\"scattermapbox\":[{\"type\":\"scattermapbox\",\"marker\":{\"colorbar\":{\"outlinewidth\":0,\"ticks\":\"\"}}}],\"scatterternary\":[{\"type\":\"scatterternary\",\"marker\":{\"colorbar\":{\"outlinewidth\":0,\"ticks\":\"\"}}}],\"scattercarpet\":[{\"type\":\"scattercarpet\",\"marker\":{\"colorbar\":{\"outlinewidth\":0,\"ticks\":\"\"}}}],\"carpet\":[{\"aaxis\":{\"endlinecolor\":\"#2a3f5f\",\"gridcolor\":\"white\",\"linecolor\":\"white\",\"minorgridcolor\":\"white\",\"startlinecolor\":\"#2a3f5f\"},\"baxis\":{\"endlinecolor\":\"#2a3f5f\",\"gridcolor\":\"white\",\"linecolor\":\"white\",\"minorgridcolor\":\"white\",\"startlinecolor\":\"#2a3f5f\"},\"type\":\"carpet\"}],\"table\":[{\"cells\":{\"fill\":{\"color\":\"#EBF0F8\"},\"line\":{\"color\":\"white\"}},\"header\":{\"fill\":{\"color\":\"#C8D4E3\"},\"line\":{\"color\":\"white\"}},\"type\":\"table\"}],\"barpolar\":[{\"marker\":{\"line\":{\"color\":\"#E5ECF6\",\"width\":0.5},\"pattern\":{\"fillmode\":\"overlay\",\"size\":10,\"solidity\":0.2}},\"type\":\"barpolar\"}],\"pie\":[{\"automargin\":true,\"type\":\"pie\"}]},\"layout\":{\"autotypenumbers\":\"strict\",\"colorway\":[\"#636efa\",\"#EF553B\",\"#00cc96\",\"#ab63fa\",\"#FFA15A\",\"#19d3f3\",\"#FF6692\",\"#B6E880\",\"#FF97FF\",\"#FECB52\"],\"font\":{\"color\":\"#2a3f5f\"},\"hovermode\":\"closest\",\"hoverlabel\":{\"align\":\"left\"},\"paper_bgcolor\":\"white\",\"plot_bgcolor\":\"#E5ECF6\",\"polar\":{\"bgcolor\":\"#E5ECF6\",\"angularaxis\":{\"gridcolor\":\"white\",\"linecolor\":\"white\",\"ticks\":\"\"},\"radialaxis\":{\"gridcolor\":\"white\",\"linecolor\":\"white\",\"ticks\":\"\"}},\"ternary\":{\"bgcolor\":\"#E5ECF6\",\"aaxis\":{\"gridcolor\":\"white\",\"linecolor\":\"white\",\"ticks\":\"\"},\"baxis\":{\"gridcolor\":\"white\",\"linecolor\":\"white\",\"ticks\":\"\"},\"caxis\":{\"gridcolor\":\"white\",\"linecolor\":\"white\",\"ticks\":\"\"}},\"coloraxis\":{\"colorbar\":{\"outlinewidth\":0,\"ticks\":\"\"}},\"colorscale\":{\"sequential\":[[0.0,\"#0d0887\"],[0.1111111111111111,\"#46039f\"],[0.2222222222222222,\"#7201a8\"],[0.3333333333333333,\"#9c179e\"],[0.4444444444444444,\"#bd3786\"],[0.5555555555555556,\"#d8576b\"],[0.6666666666666666,\"#ed7953\"],[0.7777777777777778,\"#fb9f3a\"],[0.8888888888888888,\"#fdca26\"],[1.0,\"#f0f921\"]],\"sequentialminus\":[[0.0,\"#0d0887\"],[0.1111111111111111,\"#46039f\"],[0.2222222222222222,\"#7201a8\"],[0.3333333333333333,\"#9c179e\"],[0.4444444444444444,\"#bd3786\"],[0.5555555555555556,\"#d8576b\"],[0.6666666666666666,\"#ed7953\"],[0.7777777777777778,\"#fb9f3a\"],[0.8888888888888888,\"#fdca26\"],[1.0,\"#f0f921\"]],\"diverging\":[[0,\"#8e0152\"],[0.1,\"#c51b7d\"],[0.2,\"#de77ae\"],[0.3,\"#f1b6da\"],[0.4,\"#fde0ef\"],[0.5,\"#f7f7f7\"],[0.6,\"#e6f5d0\"],[0.7,\"#b8e186\"],[0.8,\"#7fbc41\"],[0.9,\"#4d9221\"],[1,\"#276419\"]]},\"xaxis\":{\"gridcolor\":\"white\",\"linecolor\":\"white\",\"ticks\":\"\",\"title\":{\"standoff\":15},\"zerolinecolor\":\"white\",\"automargin\":true,\"zerolinewidth\":2},\"yaxis\":{\"gridcolor\":\"white\",\"linecolor\":\"white\",\"ticks\":\"\",\"title\":{\"standoff\":15},\"zerolinecolor\":\"white\",\"automargin\":true,\"zerolinewidth\":2},\"scene\":{\"xaxis\":{\"backgroundcolor\":\"#E5ECF6\",\"gridcolor\":\"white\",\"linecolor\":\"white\",\"showbackground\":true,\"ticks\":\"\",\"zerolinecolor\":\"white\",\"gridwidth\":2},\"yaxis\":{\"backgroundcolor\":\"#E5ECF6\",\"gridcolor\":\"white\",\"linecolor\":\"white\",\"showbackground\":true,\"ticks\":\"\",\"zerolinecolor\":\"white\",\"gridwidth\":2},\"zaxis\":{\"backgroundcolor\":\"#E5ECF6\",\"gridcolor\":\"white\",\"linecolor\":\"white\",\"showbackground\":true,\"ticks\":\"\",\"zerolinecolor\":\"white\",\"gridwidth\":2}},\"shapedefaults\":{\"line\":{\"color\":\"#2a3f5f\"}},\"annotationdefaults\":{\"arrowcolor\":\"#2a3f5f\",\"arrowhead\":0,\"arrowwidth\":1},\"geo\":{\"bgcolor\":\"white\",\"landcolor\":\"#E5ECF6\",\"subunitcolor\":\"white\",\"showland\":true,\"showlakes\":true,\"lakecolor\":\"white\"},\"title\":{\"x\":0.05},\"mapbox\":{\"style\":\"light\"}}},\"xaxis\":{\"anchor\":\"y\",\"domain\":[0.0,1.0],\"title\":{\"text\":\"Timestamp\"}},\"yaxis\":{\"anchor\":\"x\",\"domain\":[0.0,1.0],\"title\":{\"text\":\"SDG_Mean\"}},\"legend\":{\"tracegroupgap\":0},\"title\":{\"text\":\"Time Series Line Chart\"},\"shapes\":[{\"fillcolor\":\"rgba(200,0,200,0.2)\",\"layer\":\"below\",\"line\":{\"color\":\"rgba(0,0,0,0)\",\"width\":3},\"type\":\"rect\",\"x0\":\"2019-12-31T00:00:00\",\"x1\":\"2020-01-01T00:00:00\",\"xref\":\"x\",\"y0\":0,\"y1\":1,\"yref\":\"paper\"},{\"fillcolor\":\"rgba(200,0,200,0.2)\",\"layer\":\"below\",\"line\":{\"color\":\"rgba(0,0,0,0)\",\"width\":3},\"type\":\"rect\",\"x0\":\"2020-01-02T00:00:00\",\"x1\":\"2020-01-03T00:00:00\",\"xref\":\"x\",\"y0\":0,\"y1\":1,\"yref\":\"paper\"},{\"fillcolor\":\"rgba(200,0,200,0.2)\",\"layer\":\"below\",\"line\":{\"color\":\"rgba(0,0,0,0)\",\"width\":3},\"type\":\"rect\",\"x0\":\"2020-01-05T00:00:00\",\"x1\":\"2020-01-06T00:00:00\",\"xref\":\"x\",\"y0\":0,\"y1\":1,\"yref\":\"paper\"},{\"fillcolor\":\"rgba(200,0,200,0.2)\",\"layer\":\"below\",\"line\":{\"color\":\"rgba(0,0,0,0)\",\"width\":3},\"type\":\"rect\",\"x0\":\"2020-01-07T00:00:00\",\"x1\":\"2020-01-08T00:00:00\",\"xref\":\"x\",\"y0\":0,\"y1\":1,\"yref\":\"paper\"},{\"fillcolor\":\"rgba(200,0,200,0.2)\",\"layer\":\"below\",\"line\":{\"color\":\"rgba(0,0,0,0)\",\"width\":3},\"type\":\"rect\",\"x0\":\"2020-01-10T00:00:00\",\"x1\":\"2020-01-11T00:00:00\",\"xref\":\"x\",\"y0\":0,\"y1\":1,\"yref\":\"paper\"},{\"fillcolor\":\"rgba(200,0,200,0.2)\",\"layer\":\"below\",\"line\":{\"color\":\"rgba(0,0,0,0)\",\"width\":3},\"type\":\"rect\",\"x0\":\"2020-01-13T00:00:00\",\"x1\":\"2020-01-14T00:00:00\",\"xref\":\"x\",\"y0\":0,\"y1\":1,\"yref\":\"paper\"},{\"fillcolor\":\"rgba(200,0,200,0.2)\",\"layer\":\"below\",\"line\":{\"color\":\"rgba(0,0,0,0)\",\"width\":3},\"type\":\"rect\",\"x0\":\"2020-01-15T00:00:00\",\"x1\":\"2020-01-16T00:00:00\",\"xref\":\"x\",\"y0\":0,\"y1\":1,\"yref\":\"paper\"},{\"fillcolor\":\"rgba(200,0,200,0.2)\",\"layer\":\"below\",\"line\":{\"color\":\"rgba(0,0,0,0)\",\"width\":3},\"type\":\"rect\",\"x0\":\"2020-01-17T00:00:00\",\"x1\":\"2020-01-18T00:00:00\",\"xref\":\"x\",\"y0\":0,\"y1\":1,\"yref\":\"paper\"},{\"fillcolor\":\"rgba(200,0,200,0.2)\",\"layer\":\"below\",\"line\":{\"color\":\"rgba(0,0,0,0)\",\"width\":3},\"type\":\"rect\",\"x0\":\"2020-01-20T00:00:00\",\"x1\":\"2020-01-23T00:00:00\",\"xref\":\"x\",\"y0\":0,\"y1\":1,\"yref\":\"paper\"},{\"fillcolor\":\"rgba(200,0,200,0.2)\",\"layer\":\"below\",\"line\":{\"color\":\"rgba(0,0,0,0)\",\"width\":3},\"type\":\"rect\",\"x0\":\"2020-01-27T00:00:00\",\"x1\":\"2020-01-28T00:00:00\",\"xref\":\"x\",\"y0\":0,\"y1\":1,\"yref\":\"paper\"},{\"fillcolor\":\"rgba(200,0,200,0.2)\",\"layer\":\"below\",\"line\":{\"color\":\"rgba(0,0,0,0)\",\"width\":3},\"type\":\"rect\",\"x0\":\"2020-01-29T00:00:00\",\"x1\":\"2020-01-30T00:00:00\",\"xref\":\"x\",\"y0\":0,\"y1\":1,\"yref\":\"paper\"},{\"fillcolor\":\"rgba(200,0,200,0.2)\",\"layer\":\"below\",\"line\":{\"color\":\"rgba(0,0,0,0)\",\"width\":3},\"type\":\"rect\",\"x0\":\"2020-01-31T00:00:00\",\"x1\":\"2020-02-01T00:00:00\",\"xref\":\"x\",\"y0\":0,\"y1\":1,\"yref\":\"paper\"},{\"fillcolor\":\"rgba(200,0,200,0.2)\",\"layer\":\"below\",\"line\":{\"color\":\"rgba(0,0,0,0)\",\"width\":3},\"type\":\"rect\",\"x0\":\"2020-02-03T00:00:00\",\"x1\":\"2020-02-05T00:00:00\",\"xref\":\"x\",\"y0\":0,\"y1\":1,\"yref\":\"paper\"},{\"fillcolor\":\"rgba(200,0,200,0.2)\",\"layer\":\"below\",\"line\":{\"color\":\"rgba(0,0,0,0)\",\"width\":3},\"type\":\"rect\",\"x0\":\"2020-02-08T00:00:00\",\"x1\":\"2020-02-09T00:00:00\",\"xref\":\"x\",\"y0\":0,\"y1\":1,\"yref\":\"paper\"},{\"fillcolor\":\"rgba(200,0,200,0.2)\",\"layer\":\"below\",\"line\":{\"color\":\"rgba(0,0,0,0)\",\"width\":3},\"type\":\"rect\",\"x0\":\"2020-02-11T00:00:00\",\"x1\":\"2020-02-12T00:00:00\",\"xref\":\"x\",\"y0\":0,\"y1\":1,\"yref\":\"paper\"},{\"fillcolor\":\"rgba(200,0,200,0.2)\",\"layer\":\"below\",\"line\":{\"color\":\"rgba(0,0,0,0)\",\"width\":3},\"type\":\"rect\",\"x0\":\"2020-02-23T00:00:00\",\"x1\":\"2020-02-24T00:00:00\",\"xref\":\"x\",\"y0\":0,\"y1\":1,\"yref\":\"paper\"},{\"fillcolor\":\"rgba(200,0,200,0.2)\",\"layer\":\"below\",\"line\":{\"color\":\"rgba(0,0,0,0)\",\"width\":3},\"type\":\"rect\",\"x0\":\"2020-02-26T00:00:00\",\"x1\":\"2020-02-27T00:00:00\",\"xref\":\"x\",\"y0\":0,\"y1\":1,\"yref\":\"paper\"},{\"fillcolor\":\"rgba(200,0,200,0.2)\",\"layer\":\"below\",\"line\":{\"color\":\"rgba(0,0,0,0)\",\"width\":3},\"type\":\"rect\",\"x0\":\"2020-02-29T00:00:00\",\"x1\":\"2020-03-02T00:00:00\",\"xref\":\"x\",\"y0\":0,\"y1\":1,\"yref\":\"paper\"},{\"fillcolor\":\"rgba(200,0,200,0.2)\",\"layer\":\"below\",\"line\":{\"color\":\"rgba(0,0,0,0)\",\"width\":3},\"type\":\"rect\",\"x0\":\"2020-03-11T00:00:00\",\"x1\":\"2020-03-18T00:00:00\",\"xref\":\"x\",\"y0\":0,\"y1\":1,\"yref\":\"paper\"},{\"fillcolor\":\"rgba(200,0,200,0.2)\",\"layer\":\"below\",\"line\":{\"color\":\"rgba(0,0,0,0)\",\"width\":3},\"type\":\"rect\",\"x0\":\"2020-03-26T00:00:00\",\"x1\":\"2020-03-27T00:00:00\",\"xref\":\"x\",\"y0\":0,\"y1\":1,\"yref\":\"paper\"},{\"fillcolor\":\"rgba(200,0,200,0.2)\",\"layer\":\"below\",\"line\":{\"color\":\"rgba(0,0,0,0)\",\"width\":3},\"type\":\"rect\",\"x0\":\"2020-03-28T00:00:00\",\"x1\":\"2020-03-29T00:00:00\",\"xref\":\"x\",\"y0\":0,\"y1\":1,\"yref\":\"paper\"},{\"fillcolor\":\"rgba(200,0,200,0.2)\",\"layer\":\"below\",\"line\":{\"color\":\"rgba(0,0,0,0)\",\"width\":3},\"type\":\"rect\",\"x0\":\"2020-03-31T00:00:00\",\"x1\":\"2020-04-01T00:00:00\",\"xref\":\"x\",\"y0\":0,\"y1\":1,\"yref\":\"paper\"},{\"fillcolor\":\"rgba(200,0,200,0.2)\",\"layer\":\"below\",\"line\":{\"color\":\"rgba(0,0,0,0)\",\"width\":3},\"type\":\"rect\",\"x0\":\"2020-04-03T00:00:00\",\"x1\":\"2020-04-04T00:00:00\",\"xref\":\"x\",\"y0\":0,\"y1\":1,\"yref\":\"paper\"},{\"fillcolor\":\"rgba(200,0,200,0.2)\",\"layer\":\"below\",\"line\":{\"color\":\"rgba(0,0,0,0)\",\"width\":3},\"type\":\"rect\",\"x0\":\"2020-04-06T00:00:00\",\"x1\":\"2020-04-09T00:00:00\",\"xref\":\"x\",\"y0\":0,\"y1\":1,\"yref\":\"paper\"},{\"fillcolor\":\"rgba(200,0,200,0.2)\",\"layer\":\"below\",\"line\":{\"color\":\"rgba(0,0,0,0)\",\"width\":3},\"type\":\"rect\",\"x0\":\"2020-04-10T00:00:00\",\"x1\":\"2020-04-11T00:00:00\",\"xref\":\"x\",\"y0\":0,\"y1\":1,\"yref\":\"paper\"},{\"fillcolor\":\"rgba(200,0,200,0.2)\",\"layer\":\"below\",\"line\":{\"color\":\"rgba(0,0,0,0)\",\"width\":3},\"type\":\"rect\",\"x0\":\"2020-04-13T00:00:00\",\"x1\":\"2020-04-14T00:00:00\",\"xref\":\"x\",\"y0\":0,\"y1\":1,\"yref\":\"paper\"}]},                        {\"responsive\": true}                    ).then(function(){\n",
       "                            \n",
       "var gd = document.getElementById('55e8f9de-fd88-4f27-85b9-757287f46f6e');\n",
       "var x = new MutationObserver(function (mutations, observer) {{\n",
       "        var display = window.getComputedStyle(gd).display;\n",
       "        if (!display || display === 'none') {{\n",
       "            console.log([gd, 'removed!']);\n",
       "            Plotly.purge(gd);\n",
       "            observer.disconnect();\n",
       "        }}\n",
       "}});\n",
       "\n",
       "// Listen for the removal of the full notebook cells\n",
       "var notebookContainer = gd.closest('#notebook-container');\n",
       "if (notebookContainer) {{\n",
       "    x.observe(notebookContainer, {childList: true});\n",
       "}}\n",
       "\n",
       "// Listen for the clearing of the current output cell\n",
       "var outputEl = gd.closest('.output');\n",
       "if (outputEl) {{\n",
       "    x.observe(outputEl, {childList: true});\n",
       "}}\n",
       "\n",
       "                        })                };                });            </script>        </div>"
      ]
     },
     "metadata": {},
     "output_type": "display_data"
    }
   ],
   "source": [
    "df_GOOGL = df_sdg.loc[df_sdg['Ticker'] == 'GOOGL'].copy()\n",
    "df_GOOGL['Timestamp'] = df_GOOGL['Timestamp'].apply(pd.to_datetime, errors='coerce')\n",
    "df_GOOGL_late = df_GOOGL[df_GOOGL['Timestamp']>'2019-12-12']\n",
    "\n",
    "lineC = px.line(df_GOOGL_late, x=\"Timestamp\", y=\"SDG_Mean\", title='Time Series Line Chart')\n",
    "mask = df_GOOGL_late[\"Timestamp\"].isin(df_time[\"Date\"].unique())\n",
    "\n",
    "df1 = df_GOOGL_late[mask].groupby((~mask).cumsum())['Timestamp'].agg(['first','last'])\n",
    "\n",
    "fillcolor = 'rgba(200,0,200,0.2)'\n",
    "layer = 'below'\n",
    "\n",
    "for index, row in df1.iterrows():\n",
    "        #print(row['first'], row['last'])\n",
    "        lineC.add_shape(type=\"rect\",\n",
    "        xref=\"x\",\n",
    "        yref=\"paper\",\n",
    "        x0=row['first'],\n",
    "        y0=0,\n",
    "        x1=row['last'] + datetime.timedelta(days=1),\n",
    "        y1=1,\n",
    "        line=dict(color=\"rgba(0,0,0,0)\",width=3,),\n",
    "        fillcolor=fillcolor,\n",
    "        layer=layer)\n",
    "\n",
    "lineC.update_layout()\n",
    "\n",
    "lineC.show()"
   ]
  },
  {
   "cell_type": "markdown",
   "id": "6b9bb5d1",
   "metadata": {},
   "source": [
    "# sentiment score"
   ]
  },
  {
   "cell_type": "code",
   "execution_count": 171,
   "id": "3e1c53a8",
   "metadata": {},
   "outputs": [
    {
     "name": "stderr",
     "output_type": "stream",
     "text": [
      "<ipython-input-171-4b31bef5d036>:2: SettingWithCopyWarning:\n",
      "\n",
      "\n",
      "A value is trying to be set on a copy of a slice from a DataFrame.\n",
      "Try using .loc[row_indexer,col_indexer] = value instead\n",
      "\n",
      "See the caveats in the documentation: https://pandas.pydata.org/pandas-docs/stable/user_guide/indexing.html#returning-a-view-versus-a-copy\n",
      "\n"
     ]
    }
   ],
   "source": [
    "df_sent_score = df_sent.loc[df_sent['Ticker'] == 'GOOGL'].copy()\n",
    "df_sent_score['Timestamp'] = df_sent_score['Timestamp'].apply(pd.to_datetime, errors='coerce')\n",
    "df_sent_score = df_sent_score[df_sent_score['Timestamp']>'2019-12-12']\n",
    "\n",
    "lineC = px.line(df_sent_score, x=\"Timestamp\", y=\"Sentiment\", title='Time Series Line Chart')\n",
    "mask = df_sent_score[\"Timestamp\"].isin(df_time[\"Date\"].unique())"
   ]
  },
  {
   "cell_type": "code",
   "execution_count": 172,
   "id": "f18de887",
   "metadata": {},
   "outputs": [
    {
     "data": {
      "text/plain": [
       "count    131.000000\n",
       "mean      -0.001321\n",
       "std        0.274421\n",
       "min       -0.759322\n",
       "25%       -0.173926\n",
       "50%        0.000723\n",
       "75%        0.191667\n",
       "max        0.735680\n",
       "Name: diff, dtype: float64"
      ]
     },
     "execution_count": 172,
     "metadata": {},
     "output_type": "execute_result"
    }
   ],
   "source": [
    "df_sent_score['diff'] = df_sent_score['Sentiment'].diff()\n",
    "\n",
    "df_sent_score['diff'].describe()"
   ]
  },
  {
   "cell_type": "code",
   "execution_count": 173,
   "id": "207666c1",
   "metadata": {},
   "outputs": [
    {
     "data": {
      "text/plain": [
       "count    38.000000\n",
       "mean     -0.009991\n",
       "std       0.293824\n",
       "min      -0.759322\n",
       "25%      -0.162697\n",
       "50%      -0.035755\n",
       "75%       0.194352\n",
       "max       0.735680\n",
       "Name: diff, dtype: float64"
      ]
     },
     "execution_count": 173,
     "metadata": {},
     "output_type": "execute_result"
    }
   ],
   "source": [
    "df_sent_score[mask]['diff'].describe()"
   ]
  },
  {
   "cell_type": "code",
   "execution_count": 177,
   "id": "ffdf2038",
   "metadata": {},
   "outputs": [
    {
     "name": "stderr",
     "output_type": "stream",
     "text": [
      "<ipython-input-177-9856aad0a758>:2: SettingWithCopyWarning:\n",
      "\n",
      "\n",
      "A value is trying to be set on a copy of a slice from a DataFrame.\n",
      "Try using .loc[row_indexer,col_indexer] = value instead\n",
      "\n",
      "See the caveats in the documentation: https://pandas.pydata.org/pandas-docs/stable/user_guide/indexing.html#returning-a-view-versus-a-copy\n",
      "\n"
     ]
    },
    {
     "data": {
      "application/vnd.plotly.v1+json": {
       "config": {
        "plotlyServerURL": "https://plot.ly"
       },
       "data": [
        {
         "hovertemplate": "Timestamp=%{x}<br>Sentiment=%{y}<extra></extra>",
         "legendgroup": "",
         "line": {
          "color": "#636efa",
          "dash": "solid"
         },
         "marker": {
          "symbol": "circle"
         },
         "mode": "lines",
         "name": "",
         "orientation": "v",
         "showlegend": false,
         "type": "scatter",
         "x": [
          "2019-12-13T00:00:00",
          "2019-12-14T00:00:00",
          "2019-12-15T00:00:00",
          "2019-12-16T00:00:00",
          "2019-12-17T00:00:00",
          "2019-12-18T00:00:00",
          "2019-12-19T00:00:00",
          "2019-12-20T00:00:00",
          "2019-12-21T00:00:00",
          "2019-12-22T00:00:00",
          "2019-12-23T00:00:00",
          "2019-12-24T00:00:00",
          "2019-12-25T00:00:00",
          "2019-12-26T00:00:00",
          "2019-12-27T00:00:00",
          "2019-12-28T00:00:00",
          "2019-12-29T00:00:00",
          "2019-12-30T00:00:00",
          "2019-12-31T00:00:00",
          "2020-01-01T00:00:00",
          "2020-01-02T00:00:00",
          "2020-01-03T00:00:00",
          "2020-01-04T00:00:00",
          "2020-01-05T00:00:00",
          "2020-01-06T00:00:00",
          "2020-01-07T00:00:00",
          "2020-01-08T00:00:00",
          "2020-01-09T00:00:00",
          "2020-01-10T00:00:00",
          "2020-01-11T00:00:00",
          "2020-01-12T00:00:00",
          "2020-01-13T00:00:00",
          "2020-01-14T00:00:00",
          "2020-01-15T00:00:00",
          "2020-01-16T00:00:00",
          "2020-01-17T00:00:00",
          "2020-01-18T00:00:00",
          "2020-01-19T00:00:00",
          "2020-01-20T00:00:00",
          "2020-01-21T00:00:00",
          "2020-01-22T00:00:00",
          "2020-01-23T00:00:00",
          "2020-01-24T00:00:00",
          "2020-01-25T00:00:00",
          "2020-01-26T00:00:00",
          "2020-01-27T00:00:00",
          "2020-01-28T00:00:00",
          "2020-01-29T00:00:00",
          "2020-01-30T00:00:00",
          "2020-01-31T00:00:00",
          "2020-02-01T00:00:00",
          "2020-02-02T00:00:00",
          "2020-02-03T00:00:00",
          "2020-02-04T00:00:00",
          "2020-02-05T00:00:00",
          "2020-02-06T00:00:00",
          "2020-02-07T00:00:00",
          "2020-02-08T00:00:00",
          "2020-02-09T00:00:00",
          "2020-02-10T00:00:00",
          "2020-02-11T00:00:00",
          "2020-02-12T00:00:00",
          "2020-02-13T00:00:00",
          "2020-02-14T00:00:00",
          "2020-02-15T00:00:00",
          "2020-02-16T00:00:00",
          "2020-02-17T00:00:00",
          "2020-02-18T00:00:00",
          "2020-02-19T00:00:00",
          "2020-02-20T00:00:00",
          "2020-02-21T00:00:00",
          "2020-02-22T00:00:00",
          "2020-02-23T00:00:00",
          "2020-02-24T00:00:00",
          "2020-02-25T00:00:00",
          "2020-02-26T00:00:00",
          "2020-02-27T00:00:00",
          "2020-02-28T00:00:00",
          "2020-02-29T00:00:00",
          "2020-03-01T00:00:00",
          "2020-03-02T00:00:00",
          "2020-03-03T00:00:00",
          "2020-03-04T00:00:00",
          "2020-03-05T00:00:00",
          "2020-03-06T00:00:00",
          "2020-03-07T00:00:00",
          "2020-03-08T00:00:00",
          "2020-03-09T00:00:00",
          "2020-03-10T00:00:00",
          "2020-03-11T00:00:00",
          "2020-03-12T00:00:00",
          "2020-03-13T00:00:00",
          "2020-03-14T00:00:00",
          "2020-03-15T00:00:00",
          "2020-03-16T00:00:00",
          "2020-03-17T00:00:00",
          "2020-03-18T00:00:00",
          "2020-03-19T00:00:00",
          "2020-03-20T00:00:00",
          "2020-03-21T00:00:00",
          "2020-03-22T00:00:00",
          "2020-03-23T00:00:00",
          "2020-03-24T00:00:00",
          "2020-03-25T00:00:00",
          "2020-03-26T00:00:00",
          "2020-03-27T00:00:00",
          "2020-03-28T00:00:00",
          "2020-03-29T00:00:00",
          "2020-03-30T00:00:00",
          "2020-03-31T00:00:00",
          "2020-04-01T00:00:00",
          "2020-04-02T00:00:00",
          "2020-04-03T00:00:00",
          "2020-04-04T00:00:00",
          "2020-04-05T00:00:00",
          "2020-04-06T00:00:00",
          "2020-04-07T00:00:00",
          "2020-04-08T00:00:00",
          "2020-04-09T00:00:00",
          "2020-04-10T00:00:00",
          "2020-04-11T00:00:00",
          "2020-04-12T00:00:00",
          "2020-04-13T00:00:00",
          "2020-04-14T00:00:00",
          "2020-04-15T00:00:00",
          "2020-04-16T00:00:00",
          "2020-04-17T00:00:00",
          "2020-04-18T00:00:00",
          "2020-04-19T00:00:00",
          "2020-04-20T00:00:00",
          "2020-04-21T00:00:00",
          "2020-04-22T00:00:00"
         ],
         "xaxis": "x",
         "y": [
          0.1447937402791853,
          0.0659292998476358,
          -0.0681193967463041,
          0.1982335923216808,
          -0.3511170082972953,
          0.0496873659335567,
          0.1154864950600228,
          -0.1436474608553349,
          -0.2803441908046141,
          -0.1884451665830869,
          0.3624698273861357,
          0.1464555499886927,
          0.2951223182637817,
          -0.0699480730625588,
          -0.1080870223821539,
          -0.1630884787238124,
          -0.5248320047529424,
          -0.0415069422751428,
          -0.485323967405431,
          -0.2299408449161933,
          -0.2677718437225454,
          0.0312027619215264,
          -0.1099198688741541,
          0.0285948132360435,
          0.2772671945482981,
          0.2435891723194989,
          -0.0973498460286457,
          -0.4140685689983456,
          -0.0788153461582369,
          -0.1310892994903036,
          -0.0907613039385788,
          0.0268998412930574,
          0.1693707537237301,
          0.2811862651715288,
          0.2483394902435828,
          0.1008012601303904,
          -0.258761667844362,
          -0.3307956484481109,
          -0.4588398138667039,
          -0.2146515106248532,
          -0.0283526697760599,
          -0.0103173899420268,
          -0.205213066053236,
          -0.2850717005792495,
          -0.5557946362933679,
          -0.2242049016964776,
          0.1629723904730676,
          -0.0054363788361537,
          -0.4889320819434434,
          -0.2479623741492417,
          -0.7224440407483895,
          -0.5416188497465838,
          -0.6585923304889161,
          -0.3832415539420084,
          -0.2034355400834459,
          0.1109367844722525,
          0.2335721713555024,
          -0.1279768897979035,
          -0.270345405045532,
          -0.0513637134804283,
          0.1456722563417467,
          -0.1103624873647053,
          0.1478310413673813,
          -0.2178680102929856,
          -0.4826991102814179,
          -0.3790053581400287,
          -0.2136078252109357,
          -0.1508312349638776,
          0.1063553630037473,
          -0.2390715400885221,
          -0.5171645919299228,
          -0.3768310598145535,
          -0.5133665728512751,
          -0.1564326623129542,
          -0.1732567706238014,
          -0.2004380204607562,
          -0.0912555360796114,
          -0.2530490944852209,
          -1.0123711986863724,
          -0.2766908764187017,
          0.0706443350413833,
          -0.5014479908914137,
          -0.5478907520938137,
          -0.5327691951710978,
          -0.7910873470257848,
          -0.7020416852084984,
          -0.7449164289220751,
          -0.1952581178963847,
          -0.4660143121775111,
          -0.5350629412126423,
          -0.6581164969814435,
          -0.8258658091266303,
          -1.100110895798249,
          -1.2426720714704418,
          -0.8134576261232803,
          -0.7061999976078351,
          -0.5733206103288856,
          -0.2575635444363171,
          -0.7649909822403254,
          -0.6392417515231084,
          -0.8406021382264189,
          -0.2289203481912874,
          -0.1327134608890082,
          -0.1018206440054448,
          -0.1634932461129941,
          -0.2614562010993884,
          -0.4408985157970904,
          -0.4011034695527527,
          -0.1773579902286949,
          -0.5125278546420113,
          -0.4609091662926666,
          -0.1349470789051592,
          -0.7879016382258865,
          -0.8652147954674395,
          -0.5845274848210735,
          -0.3853291278514426,
          -0.2007972708315602,
          -0.1626989399140506,
          -0.4653657789214223,
          -0.6528960875134737,
          -0.6521729858044474,
          -0.6747148560470136,
          -0.3727427085186106,
          -0.481467689725497,
          -0.1967537185603237,
          -0.5212598323546312,
          -0.3576449420124802,
          -0.2928734902033817,
          -0.6976852349923435,
          -0.6352194605387987,
          -0.3629965580203798,
          -0.028270229655821
         ],
         "yaxis": "y"
        }
       ],
       "layout": {
        "legend": {
         "tracegroupgap": 0
        },
        "shapes": [
         {
          "fillcolor": "rgba(200,0,200,0.2)",
          "layer": "below",
          "line": {
           "color": "rgba(0,0,0,0)",
           "width": 3
          },
          "type": "rect",
          "x0": "2019-12-31T00:00:00",
          "x1": "2020-01-01T00:00:00",
          "xref": "x",
          "y0": 0,
          "y1": 1,
          "yref": "paper"
         },
         {
          "fillcolor": "rgba(200,0,200,0.2)",
          "layer": "below",
          "line": {
           "color": "rgba(0,0,0,0)",
           "width": 3
          },
          "type": "rect",
          "x0": "2020-01-02T00:00:00",
          "x1": "2020-01-03T00:00:00",
          "xref": "x",
          "y0": 0,
          "y1": 1,
          "yref": "paper"
         },
         {
          "fillcolor": "rgba(200,0,200,0.2)",
          "layer": "below",
          "line": {
           "color": "rgba(0,0,0,0)",
           "width": 3
          },
          "type": "rect",
          "x0": "2020-01-05T00:00:00",
          "x1": "2020-01-06T00:00:00",
          "xref": "x",
          "y0": 0,
          "y1": 1,
          "yref": "paper"
         },
         {
          "fillcolor": "rgba(200,0,200,0.2)",
          "layer": "below",
          "line": {
           "color": "rgba(0,0,0,0)",
           "width": 3
          },
          "type": "rect",
          "x0": "2020-01-07T00:00:00",
          "x1": "2020-01-08T00:00:00",
          "xref": "x",
          "y0": 0,
          "y1": 1,
          "yref": "paper"
         },
         {
          "fillcolor": "rgba(200,0,200,0.2)",
          "layer": "below",
          "line": {
           "color": "rgba(0,0,0,0)",
           "width": 3
          },
          "type": "rect",
          "x0": "2020-01-10T00:00:00",
          "x1": "2020-01-11T00:00:00",
          "xref": "x",
          "y0": 0,
          "y1": 1,
          "yref": "paper"
         },
         {
          "fillcolor": "rgba(200,0,200,0.2)",
          "layer": "below",
          "line": {
           "color": "rgba(0,0,0,0)",
           "width": 3
          },
          "type": "rect",
          "x0": "2020-01-13T00:00:00",
          "x1": "2020-01-14T00:00:00",
          "xref": "x",
          "y0": 0,
          "y1": 1,
          "yref": "paper"
         },
         {
          "fillcolor": "rgba(200,0,200,0.2)",
          "layer": "below",
          "line": {
           "color": "rgba(0,0,0,0)",
           "width": 3
          },
          "type": "rect",
          "x0": "2020-01-15T00:00:00",
          "x1": "2020-01-16T00:00:00",
          "xref": "x",
          "y0": 0,
          "y1": 1,
          "yref": "paper"
         },
         {
          "fillcolor": "rgba(200,0,200,0.2)",
          "layer": "below",
          "line": {
           "color": "rgba(0,0,0,0)",
           "width": 3
          },
          "type": "rect",
          "x0": "2020-01-17T00:00:00",
          "x1": "2020-01-18T00:00:00",
          "xref": "x",
          "y0": 0,
          "y1": 1,
          "yref": "paper"
         },
         {
          "fillcolor": "rgba(200,0,200,0.2)",
          "layer": "below",
          "line": {
           "color": "rgba(0,0,0,0)",
           "width": 3
          },
          "type": "rect",
          "x0": "2020-01-20T00:00:00",
          "x1": "2020-01-23T00:00:00",
          "xref": "x",
          "y0": 0,
          "y1": 1,
          "yref": "paper"
         },
         {
          "fillcolor": "rgba(200,0,200,0.2)",
          "layer": "below",
          "line": {
           "color": "rgba(0,0,0,0)",
           "width": 3
          },
          "type": "rect",
          "x0": "2020-01-27T00:00:00",
          "x1": "2020-01-28T00:00:00",
          "xref": "x",
          "y0": 0,
          "y1": 1,
          "yref": "paper"
         },
         {
          "fillcolor": "rgba(200,0,200,0.2)",
          "layer": "below",
          "line": {
           "color": "rgba(0,0,0,0)",
           "width": 3
          },
          "type": "rect",
          "x0": "2020-01-29T00:00:00",
          "x1": "2020-01-30T00:00:00",
          "xref": "x",
          "y0": 0,
          "y1": 1,
          "yref": "paper"
         },
         {
          "fillcolor": "rgba(200,0,200,0.2)",
          "layer": "below",
          "line": {
           "color": "rgba(0,0,0,0)",
           "width": 3
          },
          "type": "rect",
          "x0": "2020-01-31T00:00:00",
          "x1": "2020-02-01T00:00:00",
          "xref": "x",
          "y0": 0,
          "y1": 1,
          "yref": "paper"
         },
         {
          "fillcolor": "rgba(200,0,200,0.2)",
          "layer": "below",
          "line": {
           "color": "rgba(0,0,0,0)",
           "width": 3
          },
          "type": "rect",
          "x0": "2020-02-03T00:00:00",
          "x1": "2020-02-05T00:00:00",
          "xref": "x",
          "y0": 0,
          "y1": 1,
          "yref": "paper"
         },
         {
          "fillcolor": "rgba(200,0,200,0.2)",
          "layer": "below",
          "line": {
           "color": "rgba(0,0,0,0)",
           "width": 3
          },
          "type": "rect",
          "x0": "2020-02-08T00:00:00",
          "x1": "2020-02-09T00:00:00",
          "xref": "x",
          "y0": 0,
          "y1": 1,
          "yref": "paper"
         },
         {
          "fillcolor": "rgba(200,0,200,0.2)",
          "layer": "below",
          "line": {
           "color": "rgba(0,0,0,0)",
           "width": 3
          },
          "type": "rect",
          "x0": "2020-02-11T00:00:00",
          "x1": "2020-02-12T00:00:00",
          "xref": "x",
          "y0": 0,
          "y1": 1,
          "yref": "paper"
         },
         {
          "fillcolor": "rgba(200,0,200,0.2)",
          "layer": "below",
          "line": {
           "color": "rgba(0,0,0,0)",
           "width": 3
          },
          "type": "rect",
          "x0": "2020-02-23T00:00:00",
          "x1": "2020-02-24T00:00:00",
          "xref": "x",
          "y0": 0,
          "y1": 1,
          "yref": "paper"
         },
         {
          "fillcolor": "rgba(200,0,200,0.2)",
          "layer": "below",
          "line": {
           "color": "rgba(0,0,0,0)",
           "width": 3
          },
          "type": "rect",
          "x0": "2020-02-26T00:00:00",
          "x1": "2020-02-27T00:00:00",
          "xref": "x",
          "y0": 0,
          "y1": 1,
          "yref": "paper"
         },
         {
          "fillcolor": "rgba(200,0,200,0.2)",
          "layer": "below",
          "line": {
           "color": "rgba(0,0,0,0)",
           "width": 3
          },
          "type": "rect",
          "x0": "2020-02-29T00:00:00",
          "x1": "2020-03-02T00:00:00",
          "xref": "x",
          "y0": 0,
          "y1": 1,
          "yref": "paper"
         },
         {
          "fillcolor": "rgba(200,0,200,0.2)",
          "layer": "below",
          "line": {
           "color": "rgba(0,0,0,0)",
           "width": 3
          },
          "type": "rect",
          "x0": "2020-03-11T00:00:00",
          "x1": "2020-03-18T00:00:00",
          "xref": "x",
          "y0": 0,
          "y1": 1,
          "yref": "paper"
         },
         {
          "fillcolor": "rgba(200,0,200,0.2)",
          "layer": "below",
          "line": {
           "color": "rgba(0,0,0,0)",
           "width": 3
          },
          "type": "rect",
          "x0": "2020-03-26T00:00:00",
          "x1": "2020-03-27T00:00:00",
          "xref": "x",
          "y0": 0,
          "y1": 1,
          "yref": "paper"
         },
         {
          "fillcolor": "rgba(200,0,200,0.2)",
          "layer": "below",
          "line": {
           "color": "rgba(0,0,0,0)",
           "width": 3
          },
          "type": "rect",
          "x0": "2020-03-28T00:00:00",
          "x1": "2020-03-29T00:00:00",
          "xref": "x",
          "y0": 0,
          "y1": 1,
          "yref": "paper"
         },
         {
          "fillcolor": "rgba(200,0,200,0.2)",
          "layer": "below",
          "line": {
           "color": "rgba(0,0,0,0)",
           "width": 3
          },
          "type": "rect",
          "x0": "2020-03-31T00:00:00",
          "x1": "2020-04-01T00:00:00",
          "xref": "x",
          "y0": 0,
          "y1": 1,
          "yref": "paper"
         },
         {
          "fillcolor": "rgba(200,0,200,0.2)",
          "layer": "below",
          "line": {
           "color": "rgba(0,0,0,0)",
           "width": 3
          },
          "type": "rect",
          "x0": "2020-04-03T00:00:00",
          "x1": "2020-04-04T00:00:00",
          "xref": "x",
          "y0": 0,
          "y1": 1,
          "yref": "paper"
         },
         {
          "fillcolor": "rgba(200,0,200,0.2)",
          "layer": "below",
          "line": {
           "color": "rgba(0,0,0,0)",
           "width": 3
          },
          "type": "rect",
          "x0": "2020-04-06T00:00:00",
          "x1": "2020-04-09T00:00:00",
          "xref": "x",
          "y0": 0,
          "y1": 1,
          "yref": "paper"
         },
         {
          "fillcolor": "rgba(200,0,200,0.2)",
          "layer": "below",
          "line": {
           "color": "rgba(0,0,0,0)",
           "width": 3
          },
          "type": "rect",
          "x0": "2020-04-10T00:00:00",
          "x1": "2020-04-11T00:00:00",
          "xref": "x",
          "y0": 0,
          "y1": 1,
          "yref": "paper"
         },
         {
          "fillcolor": "rgba(200,0,200,0.2)",
          "layer": "below",
          "line": {
           "color": "rgba(0,0,0,0)",
           "width": 3
          },
          "type": "rect",
          "x0": "2020-04-13T00:00:00",
          "x1": "2020-04-14T00:00:00",
          "xref": "x",
          "y0": 0,
          "y1": 1,
          "yref": "paper"
         }
        ],
        "template": {
         "data": {
          "bar": [
           {
            "error_x": {
             "color": "#2a3f5f"
            },
            "error_y": {
             "color": "#2a3f5f"
            },
            "marker": {
             "line": {
              "color": "#E5ECF6",
              "width": 0.5
             },
             "pattern": {
              "fillmode": "overlay",
              "size": 10,
              "solidity": 0.2
             }
            },
            "type": "bar"
           }
          ],
          "barpolar": [
           {
            "marker": {
             "line": {
              "color": "#E5ECF6",
              "width": 0.5
             },
             "pattern": {
              "fillmode": "overlay",
              "size": 10,
              "solidity": 0.2
             }
            },
            "type": "barpolar"
           }
          ],
          "carpet": [
           {
            "aaxis": {
             "endlinecolor": "#2a3f5f",
             "gridcolor": "white",
             "linecolor": "white",
             "minorgridcolor": "white",
             "startlinecolor": "#2a3f5f"
            },
            "baxis": {
             "endlinecolor": "#2a3f5f",
             "gridcolor": "white",
             "linecolor": "white",
             "minorgridcolor": "white",
             "startlinecolor": "#2a3f5f"
            },
            "type": "carpet"
           }
          ],
          "choropleth": [
           {
            "colorbar": {
             "outlinewidth": 0,
             "ticks": ""
            },
            "type": "choropleth"
           }
          ],
          "contour": [
           {
            "colorbar": {
             "outlinewidth": 0,
             "ticks": ""
            },
            "colorscale": [
             [
              0,
              "#0d0887"
             ],
             [
              0.1111111111111111,
              "#46039f"
             ],
             [
              0.2222222222222222,
              "#7201a8"
             ],
             [
              0.3333333333333333,
              "#9c179e"
             ],
             [
              0.4444444444444444,
              "#bd3786"
             ],
             [
              0.5555555555555556,
              "#d8576b"
             ],
             [
              0.6666666666666666,
              "#ed7953"
             ],
             [
              0.7777777777777778,
              "#fb9f3a"
             ],
             [
              0.8888888888888888,
              "#fdca26"
             ],
             [
              1,
              "#f0f921"
             ]
            ],
            "type": "contour"
           }
          ],
          "contourcarpet": [
           {
            "colorbar": {
             "outlinewidth": 0,
             "ticks": ""
            },
            "type": "contourcarpet"
           }
          ],
          "heatmap": [
           {
            "colorbar": {
             "outlinewidth": 0,
             "ticks": ""
            },
            "colorscale": [
             [
              0,
              "#0d0887"
             ],
             [
              0.1111111111111111,
              "#46039f"
             ],
             [
              0.2222222222222222,
              "#7201a8"
             ],
             [
              0.3333333333333333,
              "#9c179e"
             ],
             [
              0.4444444444444444,
              "#bd3786"
             ],
             [
              0.5555555555555556,
              "#d8576b"
             ],
             [
              0.6666666666666666,
              "#ed7953"
             ],
             [
              0.7777777777777778,
              "#fb9f3a"
             ],
             [
              0.8888888888888888,
              "#fdca26"
             ],
             [
              1,
              "#f0f921"
             ]
            ],
            "type": "heatmap"
           }
          ],
          "heatmapgl": [
           {
            "colorbar": {
             "outlinewidth": 0,
             "ticks": ""
            },
            "colorscale": [
             [
              0,
              "#0d0887"
             ],
             [
              0.1111111111111111,
              "#46039f"
             ],
             [
              0.2222222222222222,
              "#7201a8"
             ],
             [
              0.3333333333333333,
              "#9c179e"
             ],
             [
              0.4444444444444444,
              "#bd3786"
             ],
             [
              0.5555555555555556,
              "#d8576b"
             ],
             [
              0.6666666666666666,
              "#ed7953"
             ],
             [
              0.7777777777777778,
              "#fb9f3a"
             ],
             [
              0.8888888888888888,
              "#fdca26"
             ],
             [
              1,
              "#f0f921"
             ]
            ],
            "type": "heatmapgl"
           }
          ],
          "histogram": [
           {
            "marker": {
             "pattern": {
              "fillmode": "overlay",
              "size": 10,
              "solidity": 0.2
             }
            },
            "type": "histogram"
           }
          ],
          "histogram2d": [
           {
            "colorbar": {
             "outlinewidth": 0,
             "ticks": ""
            },
            "colorscale": [
             [
              0,
              "#0d0887"
             ],
             [
              0.1111111111111111,
              "#46039f"
             ],
             [
              0.2222222222222222,
              "#7201a8"
             ],
             [
              0.3333333333333333,
              "#9c179e"
             ],
             [
              0.4444444444444444,
              "#bd3786"
             ],
             [
              0.5555555555555556,
              "#d8576b"
             ],
             [
              0.6666666666666666,
              "#ed7953"
             ],
             [
              0.7777777777777778,
              "#fb9f3a"
             ],
             [
              0.8888888888888888,
              "#fdca26"
             ],
             [
              1,
              "#f0f921"
             ]
            ],
            "type": "histogram2d"
           }
          ],
          "histogram2dcontour": [
           {
            "colorbar": {
             "outlinewidth": 0,
             "ticks": ""
            },
            "colorscale": [
             [
              0,
              "#0d0887"
             ],
             [
              0.1111111111111111,
              "#46039f"
             ],
             [
              0.2222222222222222,
              "#7201a8"
             ],
             [
              0.3333333333333333,
              "#9c179e"
             ],
             [
              0.4444444444444444,
              "#bd3786"
             ],
             [
              0.5555555555555556,
              "#d8576b"
             ],
             [
              0.6666666666666666,
              "#ed7953"
             ],
             [
              0.7777777777777778,
              "#fb9f3a"
             ],
             [
              0.8888888888888888,
              "#fdca26"
             ],
             [
              1,
              "#f0f921"
             ]
            ],
            "type": "histogram2dcontour"
           }
          ],
          "mesh3d": [
           {
            "colorbar": {
             "outlinewidth": 0,
             "ticks": ""
            },
            "type": "mesh3d"
           }
          ],
          "parcoords": [
           {
            "line": {
             "colorbar": {
              "outlinewidth": 0,
              "ticks": ""
             }
            },
            "type": "parcoords"
           }
          ],
          "pie": [
           {
            "automargin": true,
            "type": "pie"
           }
          ],
          "scatter": [
           {
            "fillpattern": {
             "fillmode": "overlay",
             "size": 10,
             "solidity": 0.2
            },
            "type": "scatter"
           }
          ],
          "scatter3d": [
           {
            "line": {
             "colorbar": {
              "outlinewidth": 0,
              "ticks": ""
             }
            },
            "marker": {
             "colorbar": {
              "outlinewidth": 0,
              "ticks": ""
             }
            },
            "type": "scatter3d"
           }
          ],
          "scattercarpet": [
           {
            "marker": {
             "colorbar": {
              "outlinewidth": 0,
              "ticks": ""
             }
            },
            "type": "scattercarpet"
           }
          ],
          "scattergeo": [
           {
            "marker": {
             "colorbar": {
              "outlinewidth": 0,
              "ticks": ""
             }
            },
            "type": "scattergeo"
           }
          ],
          "scattergl": [
           {
            "marker": {
             "colorbar": {
              "outlinewidth": 0,
              "ticks": ""
             }
            },
            "type": "scattergl"
           }
          ],
          "scattermapbox": [
           {
            "marker": {
             "colorbar": {
              "outlinewidth": 0,
              "ticks": ""
             }
            },
            "type": "scattermapbox"
           }
          ],
          "scatterpolar": [
           {
            "marker": {
             "colorbar": {
              "outlinewidth": 0,
              "ticks": ""
             }
            },
            "type": "scatterpolar"
           }
          ],
          "scatterpolargl": [
           {
            "marker": {
             "colorbar": {
              "outlinewidth": 0,
              "ticks": ""
             }
            },
            "type": "scatterpolargl"
           }
          ],
          "scatterternary": [
           {
            "marker": {
             "colorbar": {
              "outlinewidth": 0,
              "ticks": ""
             }
            },
            "type": "scatterternary"
           }
          ],
          "surface": [
           {
            "colorbar": {
             "outlinewidth": 0,
             "ticks": ""
            },
            "colorscale": [
             [
              0,
              "#0d0887"
             ],
             [
              0.1111111111111111,
              "#46039f"
             ],
             [
              0.2222222222222222,
              "#7201a8"
             ],
             [
              0.3333333333333333,
              "#9c179e"
             ],
             [
              0.4444444444444444,
              "#bd3786"
             ],
             [
              0.5555555555555556,
              "#d8576b"
             ],
             [
              0.6666666666666666,
              "#ed7953"
             ],
             [
              0.7777777777777778,
              "#fb9f3a"
             ],
             [
              0.8888888888888888,
              "#fdca26"
             ],
             [
              1,
              "#f0f921"
             ]
            ],
            "type": "surface"
           }
          ],
          "table": [
           {
            "cells": {
             "fill": {
              "color": "#EBF0F8"
             },
             "line": {
              "color": "white"
             }
            },
            "header": {
             "fill": {
              "color": "#C8D4E3"
             },
             "line": {
              "color": "white"
             }
            },
            "type": "table"
           }
          ]
         },
         "layout": {
          "annotationdefaults": {
           "arrowcolor": "#2a3f5f",
           "arrowhead": 0,
           "arrowwidth": 1
          },
          "autotypenumbers": "strict",
          "coloraxis": {
           "colorbar": {
            "outlinewidth": 0,
            "ticks": ""
           }
          },
          "colorscale": {
           "diverging": [
            [
             0,
             "#8e0152"
            ],
            [
             0.1,
             "#c51b7d"
            ],
            [
             0.2,
             "#de77ae"
            ],
            [
             0.3,
             "#f1b6da"
            ],
            [
             0.4,
             "#fde0ef"
            ],
            [
             0.5,
             "#f7f7f7"
            ],
            [
             0.6,
             "#e6f5d0"
            ],
            [
             0.7,
             "#b8e186"
            ],
            [
             0.8,
             "#7fbc41"
            ],
            [
             0.9,
             "#4d9221"
            ],
            [
             1,
             "#276419"
            ]
           ],
           "sequential": [
            [
             0,
             "#0d0887"
            ],
            [
             0.1111111111111111,
             "#46039f"
            ],
            [
             0.2222222222222222,
             "#7201a8"
            ],
            [
             0.3333333333333333,
             "#9c179e"
            ],
            [
             0.4444444444444444,
             "#bd3786"
            ],
            [
             0.5555555555555556,
             "#d8576b"
            ],
            [
             0.6666666666666666,
             "#ed7953"
            ],
            [
             0.7777777777777778,
             "#fb9f3a"
            ],
            [
             0.8888888888888888,
             "#fdca26"
            ],
            [
             1,
             "#f0f921"
            ]
           ],
           "sequentialminus": [
            [
             0,
             "#0d0887"
            ],
            [
             0.1111111111111111,
             "#46039f"
            ],
            [
             0.2222222222222222,
             "#7201a8"
            ],
            [
             0.3333333333333333,
             "#9c179e"
            ],
            [
             0.4444444444444444,
             "#bd3786"
            ],
            [
             0.5555555555555556,
             "#d8576b"
            ],
            [
             0.6666666666666666,
             "#ed7953"
            ],
            [
             0.7777777777777778,
             "#fb9f3a"
            ],
            [
             0.8888888888888888,
             "#fdca26"
            ],
            [
             1,
             "#f0f921"
            ]
           ]
          },
          "colorway": [
           "#636efa",
           "#EF553B",
           "#00cc96",
           "#ab63fa",
           "#FFA15A",
           "#19d3f3",
           "#FF6692",
           "#B6E880",
           "#FF97FF",
           "#FECB52"
          ],
          "font": {
           "color": "#2a3f5f"
          },
          "geo": {
           "bgcolor": "white",
           "lakecolor": "white",
           "landcolor": "#E5ECF6",
           "showlakes": true,
           "showland": true,
           "subunitcolor": "white"
          },
          "hoverlabel": {
           "align": "left"
          },
          "hovermode": "closest",
          "mapbox": {
           "style": "light"
          },
          "paper_bgcolor": "white",
          "plot_bgcolor": "#E5ECF6",
          "polar": {
           "angularaxis": {
            "gridcolor": "white",
            "linecolor": "white",
            "ticks": ""
           },
           "bgcolor": "#E5ECF6",
           "radialaxis": {
            "gridcolor": "white",
            "linecolor": "white",
            "ticks": ""
           }
          },
          "scene": {
           "xaxis": {
            "backgroundcolor": "#E5ECF6",
            "gridcolor": "white",
            "gridwidth": 2,
            "linecolor": "white",
            "showbackground": true,
            "ticks": "",
            "zerolinecolor": "white"
           },
           "yaxis": {
            "backgroundcolor": "#E5ECF6",
            "gridcolor": "white",
            "gridwidth": 2,
            "linecolor": "white",
            "showbackground": true,
            "ticks": "",
            "zerolinecolor": "white"
           },
           "zaxis": {
            "backgroundcolor": "#E5ECF6",
            "gridcolor": "white",
            "gridwidth": 2,
            "linecolor": "white",
            "showbackground": true,
            "ticks": "",
            "zerolinecolor": "white"
           }
          },
          "shapedefaults": {
           "line": {
            "color": "#2a3f5f"
           }
          },
          "ternary": {
           "aaxis": {
            "gridcolor": "white",
            "linecolor": "white",
            "ticks": ""
           },
           "baxis": {
            "gridcolor": "white",
            "linecolor": "white",
            "ticks": ""
           },
           "bgcolor": "#E5ECF6",
           "caxis": {
            "gridcolor": "white",
            "linecolor": "white",
            "ticks": ""
           }
          },
          "title": {
           "x": 0.05
          },
          "xaxis": {
           "automargin": true,
           "gridcolor": "white",
           "linecolor": "white",
           "ticks": "",
           "title": {
            "standoff": 15
           },
           "zerolinecolor": "white",
           "zerolinewidth": 2
          },
          "yaxis": {
           "automargin": true,
           "gridcolor": "white",
           "linecolor": "white",
           "ticks": "",
           "title": {
            "standoff": 15
           },
           "zerolinecolor": "white",
           "zerolinewidth": 2
          }
         }
        },
        "title": {
         "text": "Time Series Line Chart"
        },
        "xaxis": {
         "anchor": "y",
         "domain": [
          0,
          1
         ],
         "title": {
          "text": "Timestamp"
         }
        },
        "yaxis": {
         "anchor": "x",
         "domain": [
          0,
          1
         ],
         "title": {
          "text": "Sentiment"
         }
        }
       }
      },
      "text/html": [
       "<div>                            <div id=\"d7310a81-359c-48e6-8bc8-3bb19a20b89d\" class=\"plotly-graph-div\" style=\"height:525px; width:100%;\"></div>            <script type=\"text/javascript\">                require([\"plotly\"], function(Plotly) {                    window.PLOTLYENV=window.PLOTLYENV || {};                                    if (document.getElementById(\"d7310a81-359c-48e6-8bc8-3bb19a20b89d\")) {                    Plotly.newPlot(                        \"d7310a81-359c-48e6-8bc8-3bb19a20b89d\",                        [{\"hovertemplate\":\"Timestamp=%{x}<br>Sentiment=%{y}<extra></extra>\",\"legendgroup\":\"\",\"line\":{\"color\":\"#636efa\",\"dash\":\"solid\"},\"marker\":{\"symbol\":\"circle\"},\"mode\":\"lines\",\"name\":\"\",\"orientation\":\"v\",\"showlegend\":false,\"x\":[\"2019-12-13T00:00:00\",\"2019-12-14T00:00:00\",\"2019-12-15T00:00:00\",\"2019-12-16T00:00:00\",\"2019-12-17T00:00:00\",\"2019-12-18T00:00:00\",\"2019-12-19T00:00:00\",\"2019-12-20T00:00:00\",\"2019-12-21T00:00:00\",\"2019-12-22T00:00:00\",\"2019-12-23T00:00:00\",\"2019-12-24T00:00:00\",\"2019-12-25T00:00:00\",\"2019-12-26T00:00:00\",\"2019-12-27T00:00:00\",\"2019-12-28T00:00:00\",\"2019-12-29T00:00:00\",\"2019-12-30T00:00:00\",\"2019-12-31T00:00:00\",\"2020-01-01T00:00:00\",\"2020-01-02T00:00:00\",\"2020-01-03T00:00:00\",\"2020-01-04T00:00:00\",\"2020-01-05T00:00:00\",\"2020-01-06T00:00:00\",\"2020-01-07T00:00:00\",\"2020-01-08T00:00:00\",\"2020-01-09T00:00:00\",\"2020-01-10T00:00:00\",\"2020-01-11T00:00:00\",\"2020-01-12T00:00:00\",\"2020-01-13T00:00:00\",\"2020-01-14T00:00:00\",\"2020-01-15T00:00:00\",\"2020-01-16T00:00:00\",\"2020-01-17T00:00:00\",\"2020-01-18T00:00:00\",\"2020-01-19T00:00:00\",\"2020-01-20T00:00:00\",\"2020-01-21T00:00:00\",\"2020-01-22T00:00:00\",\"2020-01-23T00:00:00\",\"2020-01-24T00:00:00\",\"2020-01-25T00:00:00\",\"2020-01-26T00:00:00\",\"2020-01-27T00:00:00\",\"2020-01-28T00:00:00\",\"2020-01-29T00:00:00\",\"2020-01-30T00:00:00\",\"2020-01-31T00:00:00\",\"2020-02-01T00:00:00\",\"2020-02-02T00:00:00\",\"2020-02-03T00:00:00\",\"2020-02-04T00:00:00\",\"2020-02-05T00:00:00\",\"2020-02-06T00:00:00\",\"2020-02-07T00:00:00\",\"2020-02-08T00:00:00\",\"2020-02-09T00:00:00\",\"2020-02-10T00:00:00\",\"2020-02-11T00:00:00\",\"2020-02-12T00:00:00\",\"2020-02-13T00:00:00\",\"2020-02-14T00:00:00\",\"2020-02-15T00:00:00\",\"2020-02-16T00:00:00\",\"2020-02-17T00:00:00\",\"2020-02-18T00:00:00\",\"2020-02-19T00:00:00\",\"2020-02-20T00:00:00\",\"2020-02-21T00:00:00\",\"2020-02-22T00:00:00\",\"2020-02-23T00:00:00\",\"2020-02-24T00:00:00\",\"2020-02-25T00:00:00\",\"2020-02-26T00:00:00\",\"2020-02-27T00:00:00\",\"2020-02-28T00:00:00\",\"2020-02-29T00:00:00\",\"2020-03-01T00:00:00\",\"2020-03-02T00:00:00\",\"2020-03-03T00:00:00\",\"2020-03-04T00:00:00\",\"2020-03-05T00:00:00\",\"2020-03-06T00:00:00\",\"2020-03-07T00:00:00\",\"2020-03-08T00:00:00\",\"2020-03-09T00:00:00\",\"2020-03-10T00:00:00\",\"2020-03-11T00:00:00\",\"2020-03-12T00:00:00\",\"2020-03-13T00:00:00\",\"2020-03-14T00:00:00\",\"2020-03-15T00:00:00\",\"2020-03-16T00:00:00\",\"2020-03-17T00:00:00\",\"2020-03-18T00:00:00\",\"2020-03-19T00:00:00\",\"2020-03-20T00:00:00\",\"2020-03-21T00:00:00\",\"2020-03-22T00:00:00\",\"2020-03-23T00:00:00\",\"2020-03-24T00:00:00\",\"2020-03-25T00:00:00\",\"2020-03-26T00:00:00\",\"2020-03-27T00:00:00\",\"2020-03-28T00:00:00\",\"2020-03-29T00:00:00\",\"2020-03-30T00:00:00\",\"2020-03-31T00:00:00\",\"2020-04-01T00:00:00\",\"2020-04-02T00:00:00\",\"2020-04-03T00:00:00\",\"2020-04-04T00:00:00\",\"2020-04-05T00:00:00\",\"2020-04-06T00:00:00\",\"2020-04-07T00:00:00\",\"2020-04-08T00:00:00\",\"2020-04-09T00:00:00\",\"2020-04-10T00:00:00\",\"2020-04-11T00:00:00\",\"2020-04-12T00:00:00\",\"2020-04-13T00:00:00\",\"2020-04-14T00:00:00\",\"2020-04-15T00:00:00\",\"2020-04-16T00:00:00\",\"2020-04-17T00:00:00\",\"2020-04-18T00:00:00\",\"2020-04-19T00:00:00\",\"2020-04-20T00:00:00\",\"2020-04-21T00:00:00\",\"2020-04-22T00:00:00\"],\"xaxis\":\"x\",\"y\":[0.1447937402791853,0.0659292998476358,-0.0681193967463041,0.1982335923216808,-0.3511170082972953,0.0496873659335567,0.1154864950600228,-0.1436474608553349,-0.2803441908046141,-0.1884451665830869,0.3624698273861357,0.1464555499886927,0.2951223182637817,-0.0699480730625588,-0.1080870223821539,-0.1630884787238124,-0.5248320047529424,-0.0415069422751428,-0.485323967405431,-0.2299408449161933,-0.2677718437225454,0.0312027619215264,-0.1099198688741541,0.0285948132360435,0.2772671945482981,0.2435891723194989,-0.0973498460286457,-0.4140685689983456,-0.0788153461582369,-0.1310892994903036,-0.0907613039385788,0.0268998412930574,0.1693707537237301,0.2811862651715288,0.2483394902435828,0.1008012601303904,-0.258761667844362,-0.3307956484481109,-0.4588398138667039,-0.2146515106248532,-0.0283526697760599,-0.0103173899420268,-0.205213066053236,-0.2850717005792495,-0.5557946362933679,-0.2242049016964776,0.1629723904730676,-0.0054363788361537,-0.4889320819434434,-0.2479623741492417,-0.7224440407483895,-0.5416188497465838,-0.6585923304889161,-0.3832415539420084,-0.2034355400834459,0.1109367844722525,0.2335721713555024,-0.1279768897979035,-0.270345405045532,-0.0513637134804283,0.1456722563417467,-0.1103624873647053,0.1478310413673813,-0.2178680102929856,-0.4826991102814179,-0.3790053581400287,-0.2136078252109357,-0.1508312349638776,0.1063553630037473,-0.2390715400885221,-0.5171645919299228,-0.3768310598145535,-0.5133665728512751,-0.1564326623129542,-0.1732567706238014,-0.2004380204607562,-0.0912555360796114,-0.2530490944852209,-1.0123711986863724,-0.2766908764187017,0.0706443350413833,-0.5014479908914137,-0.5478907520938137,-0.5327691951710978,-0.7910873470257848,-0.7020416852084984,-0.7449164289220751,-0.1952581178963847,-0.4660143121775111,-0.5350629412126423,-0.6581164969814435,-0.8258658091266303,-1.100110895798249,-1.2426720714704418,-0.8134576261232803,-0.7061999976078351,-0.5733206103288856,-0.2575635444363171,-0.7649909822403254,-0.6392417515231084,-0.8406021382264189,-0.2289203481912874,-0.1327134608890082,-0.1018206440054448,-0.1634932461129941,-0.2614562010993884,-0.4408985157970904,-0.4011034695527527,-0.1773579902286949,-0.5125278546420113,-0.4609091662926666,-0.1349470789051592,-0.7879016382258865,-0.8652147954674395,-0.5845274848210735,-0.3853291278514426,-0.2007972708315602,-0.1626989399140506,-0.4653657789214223,-0.6528960875134737,-0.6521729858044474,-0.6747148560470136,-0.3727427085186106,-0.481467689725497,-0.1967537185603237,-0.5212598323546312,-0.3576449420124802,-0.2928734902033817,-0.6976852349923435,-0.6352194605387987,-0.3629965580203798,-0.028270229655821],\"yaxis\":\"y\",\"type\":\"scatter\"}],                        {\"template\":{\"data\":{\"histogram2dcontour\":[{\"type\":\"histogram2dcontour\",\"colorbar\":{\"outlinewidth\":0,\"ticks\":\"\"},\"colorscale\":[[0.0,\"#0d0887\"],[0.1111111111111111,\"#46039f\"],[0.2222222222222222,\"#7201a8\"],[0.3333333333333333,\"#9c179e\"],[0.4444444444444444,\"#bd3786\"],[0.5555555555555556,\"#d8576b\"],[0.6666666666666666,\"#ed7953\"],[0.7777777777777778,\"#fb9f3a\"],[0.8888888888888888,\"#fdca26\"],[1.0,\"#f0f921\"]]}],\"choropleth\":[{\"type\":\"choropleth\",\"colorbar\":{\"outlinewidth\":0,\"ticks\":\"\"}}],\"histogram2d\":[{\"type\":\"histogram2d\",\"colorbar\":{\"outlinewidth\":0,\"ticks\":\"\"},\"colorscale\":[[0.0,\"#0d0887\"],[0.1111111111111111,\"#46039f\"],[0.2222222222222222,\"#7201a8\"],[0.3333333333333333,\"#9c179e\"],[0.4444444444444444,\"#bd3786\"],[0.5555555555555556,\"#d8576b\"],[0.6666666666666666,\"#ed7953\"],[0.7777777777777778,\"#fb9f3a\"],[0.8888888888888888,\"#fdca26\"],[1.0,\"#f0f921\"]]}],\"heatmap\":[{\"type\":\"heatmap\",\"colorbar\":{\"outlinewidth\":0,\"ticks\":\"\"},\"colorscale\":[[0.0,\"#0d0887\"],[0.1111111111111111,\"#46039f\"],[0.2222222222222222,\"#7201a8\"],[0.3333333333333333,\"#9c179e\"],[0.4444444444444444,\"#bd3786\"],[0.5555555555555556,\"#d8576b\"],[0.6666666666666666,\"#ed7953\"],[0.7777777777777778,\"#fb9f3a\"],[0.8888888888888888,\"#fdca26\"],[1.0,\"#f0f921\"]]}],\"heatmapgl\":[{\"type\":\"heatmapgl\",\"colorbar\":{\"outlinewidth\":0,\"ticks\":\"\"},\"colorscale\":[[0.0,\"#0d0887\"],[0.1111111111111111,\"#46039f\"],[0.2222222222222222,\"#7201a8\"],[0.3333333333333333,\"#9c179e\"],[0.4444444444444444,\"#bd3786\"],[0.5555555555555556,\"#d8576b\"],[0.6666666666666666,\"#ed7953\"],[0.7777777777777778,\"#fb9f3a\"],[0.8888888888888888,\"#fdca26\"],[1.0,\"#f0f921\"]]}],\"contourcarpet\":[{\"type\":\"contourcarpet\",\"colorbar\":{\"outlinewidth\":0,\"ticks\":\"\"}}],\"contour\":[{\"type\":\"contour\",\"colorbar\":{\"outlinewidth\":0,\"ticks\":\"\"},\"colorscale\":[[0.0,\"#0d0887\"],[0.1111111111111111,\"#46039f\"],[0.2222222222222222,\"#7201a8\"],[0.3333333333333333,\"#9c179e\"],[0.4444444444444444,\"#bd3786\"],[0.5555555555555556,\"#d8576b\"],[0.6666666666666666,\"#ed7953\"],[0.7777777777777778,\"#fb9f3a\"],[0.8888888888888888,\"#fdca26\"],[1.0,\"#f0f921\"]]}],\"surface\":[{\"type\":\"surface\",\"colorbar\":{\"outlinewidth\":0,\"ticks\":\"\"},\"colorscale\":[[0.0,\"#0d0887\"],[0.1111111111111111,\"#46039f\"],[0.2222222222222222,\"#7201a8\"],[0.3333333333333333,\"#9c179e\"],[0.4444444444444444,\"#bd3786\"],[0.5555555555555556,\"#d8576b\"],[0.6666666666666666,\"#ed7953\"],[0.7777777777777778,\"#fb9f3a\"],[0.8888888888888888,\"#fdca26\"],[1.0,\"#f0f921\"]]}],\"mesh3d\":[{\"type\":\"mesh3d\",\"colorbar\":{\"outlinewidth\":0,\"ticks\":\"\"}}],\"scatter\":[{\"fillpattern\":{\"fillmode\":\"overlay\",\"size\":10,\"solidity\":0.2},\"type\":\"scatter\"}],\"parcoords\":[{\"type\":\"parcoords\",\"line\":{\"colorbar\":{\"outlinewidth\":0,\"ticks\":\"\"}}}],\"scatterpolargl\":[{\"type\":\"scatterpolargl\",\"marker\":{\"colorbar\":{\"outlinewidth\":0,\"ticks\":\"\"}}}],\"bar\":[{\"error_x\":{\"color\":\"#2a3f5f\"},\"error_y\":{\"color\":\"#2a3f5f\"},\"marker\":{\"line\":{\"color\":\"#E5ECF6\",\"width\":0.5},\"pattern\":{\"fillmode\":\"overlay\",\"size\":10,\"solidity\":0.2}},\"type\":\"bar\"}],\"scattergeo\":[{\"type\":\"scattergeo\",\"marker\":{\"colorbar\":{\"outlinewidth\":0,\"ticks\":\"\"}}}],\"scatterpolar\":[{\"type\":\"scatterpolar\",\"marker\":{\"colorbar\":{\"outlinewidth\":0,\"ticks\":\"\"}}}],\"histogram\":[{\"marker\":{\"pattern\":{\"fillmode\":\"overlay\",\"size\":10,\"solidity\":0.2}},\"type\":\"histogram\"}],\"scattergl\":[{\"type\":\"scattergl\",\"marker\":{\"colorbar\":{\"outlinewidth\":0,\"ticks\":\"\"}}}],\"scatter3d\":[{\"type\":\"scatter3d\",\"line\":{\"colorbar\":{\"outlinewidth\":0,\"ticks\":\"\"}},\"marker\":{\"colorbar\":{\"outlinewidth\":0,\"ticks\":\"\"}}}],\"scattermapbox\":[{\"type\":\"scattermapbox\",\"marker\":{\"colorbar\":{\"outlinewidth\":0,\"ticks\":\"\"}}}],\"scatterternary\":[{\"type\":\"scatterternary\",\"marker\":{\"colorbar\":{\"outlinewidth\":0,\"ticks\":\"\"}}}],\"scattercarpet\":[{\"type\":\"scattercarpet\",\"marker\":{\"colorbar\":{\"outlinewidth\":0,\"ticks\":\"\"}}}],\"carpet\":[{\"aaxis\":{\"endlinecolor\":\"#2a3f5f\",\"gridcolor\":\"white\",\"linecolor\":\"white\",\"minorgridcolor\":\"white\",\"startlinecolor\":\"#2a3f5f\"},\"baxis\":{\"endlinecolor\":\"#2a3f5f\",\"gridcolor\":\"white\",\"linecolor\":\"white\",\"minorgridcolor\":\"white\",\"startlinecolor\":\"#2a3f5f\"},\"type\":\"carpet\"}],\"table\":[{\"cells\":{\"fill\":{\"color\":\"#EBF0F8\"},\"line\":{\"color\":\"white\"}},\"header\":{\"fill\":{\"color\":\"#C8D4E3\"},\"line\":{\"color\":\"white\"}},\"type\":\"table\"}],\"barpolar\":[{\"marker\":{\"line\":{\"color\":\"#E5ECF6\",\"width\":0.5},\"pattern\":{\"fillmode\":\"overlay\",\"size\":10,\"solidity\":0.2}},\"type\":\"barpolar\"}],\"pie\":[{\"automargin\":true,\"type\":\"pie\"}]},\"layout\":{\"autotypenumbers\":\"strict\",\"colorway\":[\"#636efa\",\"#EF553B\",\"#00cc96\",\"#ab63fa\",\"#FFA15A\",\"#19d3f3\",\"#FF6692\",\"#B6E880\",\"#FF97FF\",\"#FECB52\"],\"font\":{\"color\":\"#2a3f5f\"},\"hovermode\":\"closest\",\"hoverlabel\":{\"align\":\"left\"},\"paper_bgcolor\":\"white\",\"plot_bgcolor\":\"#E5ECF6\",\"polar\":{\"bgcolor\":\"#E5ECF6\",\"angularaxis\":{\"gridcolor\":\"white\",\"linecolor\":\"white\",\"ticks\":\"\"},\"radialaxis\":{\"gridcolor\":\"white\",\"linecolor\":\"white\",\"ticks\":\"\"}},\"ternary\":{\"bgcolor\":\"#E5ECF6\",\"aaxis\":{\"gridcolor\":\"white\",\"linecolor\":\"white\",\"ticks\":\"\"},\"baxis\":{\"gridcolor\":\"white\",\"linecolor\":\"white\",\"ticks\":\"\"},\"caxis\":{\"gridcolor\":\"white\",\"linecolor\":\"white\",\"ticks\":\"\"}},\"coloraxis\":{\"colorbar\":{\"outlinewidth\":0,\"ticks\":\"\"}},\"colorscale\":{\"sequential\":[[0.0,\"#0d0887\"],[0.1111111111111111,\"#46039f\"],[0.2222222222222222,\"#7201a8\"],[0.3333333333333333,\"#9c179e\"],[0.4444444444444444,\"#bd3786\"],[0.5555555555555556,\"#d8576b\"],[0.6666666666666666,\"#ed7953\"],[0.7777777777777778,\"#fb9f3a\"],[0.8888888888888888,\"#fdca26\"],[1.0,\"#f0f921\"]],\"sequentialminus\":[[0.0,\"#0d0887\"],[0.1111111111111111,\"#46039f\"],[0.2222222222222222,\"#7201a8\"],[0.3333333333333333,\"#9c179e\"],[0.4444444444444444,\"#bd3786\"],[0.5555555555555556,\"#d8576b\"],[0.6666666666666666,\"#ed7953\"],[0.7777777777777778,\"#fb9f3a\"],[0.8888888888888888,\"#fdca26\"],[1.0,\"#f0f921\"]],\"diverging\":[[0,\"#8e0152\"],[0.1,\"#c51b7d\"],[0.2,\"#de77ae\"],[0.3,\"#f1b6da\"],[0.4,\"#fde0ef\"],[0.5,\"#f7f7f7\"],[0.6,\"#e6f5d0\"],[0.7,\"#b8e186\"],[0.8,\"#7fbc41\"],[0.9,\"#4d9221\"],[1,\"#276419\"]]},\"xaxis\":{\"gridcolor\":\"white\",\"linecolor\":\"white\",\"ticks\":\"\",\"title\":{\"standoff\":15},\"zerolinecolor\":\"white\",\"automargin\":true,\"zerolinewidth\":2},\"yaxis\":{\"gridcolor\":\"white\",\"linecolor\":\"white\",\"ticks\":\"\",\"title\":{\"standoff\":15},\"zerolinecolor\":\"white\",\"automargin\":true,\"zerolinewidth\":2},\"scene\":{\"xaxis\":{\"backgroundcolor\":\"#E5ECF6\",\"gridcolor\":\"white\",\"linecolor\":\"white\",\"showbackground\":true,\"ticks\":\"\",\"zerolinecolor\":\"white\",\"gridwidth\":2},\"yaxis\":{\"backgroundcolor\":\"#E5ECF6\",\"gridcolor\":\"white\",\"linecolor\":\"white\",\"showbackground\":true,\"ticks\":\"\",\"zerolinecolor\":\"white\",\"gridwidth\":2},\"zaxis\":{\"backgroundcolor\":\"#E5ECF6\",\"gridcolor\":\"white\",\"linecolor\":\"white\",\"showbackground\":true,\"ticks\":\"\",\"zerolinecolor\":\"white\",\"gridwidth\":2}},\"shapedefaults\":{\"line\":{\"color\":\"#2a3f5f\"}},\"annotationdefaults\":{\"arrowcolor\":\"#2a3f5f\",\"arrowhead\":0,\"arrowwidth\":1},\"geo\":{\"bgcolor\":\"white\",\"landcolor\":\"#E5ECF6\",\"subunitcolor\":\"white\",\"showland\":true,\"showlakes\":true,\"lakecolor\":\"white\"},\"title\":{\"x\":0.05},\"mapbox\":{\"style\":\"light\"}}},\"xaxis\":{\"anchor\":\"y\",\"domain\":[0.0,1.0],\"title\":{\"text\":\"Timestamp\"}},\"yaxis\":{\"anchor\":\"x\",\"domain\":[0.0,1.0],\"title\":{\"text\":\"Sentiment\"}},\"legend\":{\"tracegroupgap\":0},\"title\":{\"text\":\"Time Series Line Chart\"},\"shapes\":[{\"fillcolor\":\"rgba(200,0,200,0.2)\",\"layer\":\"below\",\"line\":{\"color\":\"rgba(0,0,0,0)\",\"width\":3},\"type\":\"rect\",\"x0\":\"2019-12-31T00:00:00\",\"x1\":\"2020-01-01T00:00:00\",\"xref\":\"x\",\"y0\":0,\"y1\":1,\"yref\":\"paper\"},{\"fillcolor\":\"rgba(200,0,200,0.2)\",\"layer\":\"below\",\"line\":{\"color\":\"rgba(0,0,0,0)\",\"width\":3},\"type\":\"rect\",\"x0\":\"2020-01-02T00:00:00\",\"x1\":\"2020-01-03T00:00:00\",\"xref\":\"x\",\"y0\":0,\"y1\":1,\"yref\":\"paper\"},{\"fillcolor\":\"rgba(200,0,200,0.2)\",\"layer\":\"below\",\"line\":{\"color\":\"rgba(0,0,0,0)\",\"width\":3},\"type\":\"rect\",\"x0\":\"2020-01-05T00:00:00\",\"x1\":\"2020-01-06T00:00:00\",\"xref\":\"x\",\"y0\":0,\"y1\":1,\"yref\":\"paper\"},{\"fillcolor\":\"rgba(200,0,200,0.2)\",\"layer\":\"below\",\"line\":{\"color\":\"rgba(0,0,0,0)\",\"width\":3},\"type\":\"rect\",\"x0\":\"2020-01-07T00:00:00\",\"x1\":\"2020-01-08T00:00:00\",\"xref\":\"x\",\"y0\":0,\"y1\":1,\"yref\":\"paper\"},{\"fillcolor\":\"rgba(200,0,200,0.2)\",\"layer\":\"below\",\"line\":{\"color\":\"rgba(0,0,0,0)\",\"width\":3},\"type\":\"rect\",\"x0\":\"2020-01-10T00:00:00\",\"x1\":\"2020-01-11T00:00:00\",\"xref\":\"x\",\"y0\":0,\"y1\":1,\"yref\":\"paper\"},{\"fillcolor\":\"rgba(200,0,200,0.2)\",\"layer\":\"below\",\"line\":{\"color\":\"rgba(0,0,0,0)\",\"width\":3},\"type\":\"rect\",\"x0\":\"2020-01-13T00:00:00\",\"x1\":\"2020-01-14T00:00:00\",\"xref\":\"x\",\"y0\":0,\"y1\":1,\"yref\":\"paper\"},{\"fillcolor\":\"rgba(200,0,200,0.2)\",\"layer\":\"below\",\"line\":{\"color\":\"rgba(0,0,0,0)\",\"width\":3},\"type\":\"rect\",\"x0\":\"2020-01-15T00:00:00\",\"x1\":\"2020-01-16T00:00:00\",\"xref\":\"x\",\"y0\":0,\"y1\":1,\"yref\":\"paper\"},{\"fillcolor\":\"rgba(200,0,200,0.2)\",\"layer\":\"below\",\"line\":{\"color\":\"rgba(0,0,0,0)\",\"width\":3},\"type\":\"rect\",\"x0\":\"2020-01-17T00:00:00\",\"x1\":\"2020-01-18T00:00:00\",\"xref\":\"x\",\"y0\":0,\"y1\":1,\"yref\":\"paper\"},{\"fillcolor\":\"rgba(200,0,200,0.2)\",\"layer\":\"below\",\"line\":{\"color\":\"rgba(0,0,0,0)\",\"width\":3},\"type\":\"rect\",\"x0\":\"2020-01-20T00:00:00\",\"x1\":\"2020-01-23T00:00:00\",\"xref\":\"x\",\"y0\":0,\"y1\":1,\"yref\":\"paper\"},{\"fillcolor\":\"rgba(200,0,200,0.2)\",\"layer\":\"below\",\"line\":{\"color\":\"rgba(0,0,0,0)\",\"width\":3},\"type\":\"rect\",\"x0\":\"2020-01-27T00:00:00\",\"x1\":\"2020-01-28T00:00:00\",\"xref\":\"x\",\"y0\":0,\"y1\":1,\"yref\":\"paper\"},{\"fillcolor\":\"rgba(200,0,200,0.2)\",\"layer\":\"below\",\"line\":{\"color\":\"rgba(0,0,0,0)\",\"width\":3},\"type\":\"rect\",\"x0\":\"2020-01-29T00:00:00\",\"x1\":\"2020-01-30T00:00:00\",\"xref\":\"x\",\"y0\":0,\"y1\":1,\"yref\":\"paper\"},{\"fillcolor\":\"rgba(200,0,200,0.2)\",\"layer\":\"below\",\"line\":{\"color\":\"rgba(0,0,0,0)\",\"width\":3},\"type\":\"rect\",\"x0\":\"2020-01-31T00:00:00\",\"x1\":\"2020-02-01T00:00:00\",\"xref\":\"x\",\"y0\":0,\"y1\":1,\"yref\":\"paper\"},{\"fillcolor\":\"rgba(200,0,200,0.2)\",\"layer\":\"below\",\"line\":{\"color\":\"rgba(0,0,0,0)\",\"width\":3},\"type\":\"rect\",\"x0\":\"2020-02-03T00:00:00\",\"x1\":\"2020-02-05T00:00:00\",\"xref\":\"x\",\"y0\":0,\"y1\":1,\"yref\":\"paper\"},{\"fillcolor\":\"rgba(200,0,200,0.2)\",\"layer\":\"below\",\"line\":{\"color\":\"rgba(0,0,0,0)\",\"width\":3},\"type\":\"rect\",\"x0\":\"2020-02-08T00:00:00\",\"x1\":\"2020-02-09T00:00:00\",\"xref\":\"x\",\"y0\":0,\"y1\":1,\"yref\":\"paper\"},{\"fillcolor\":\"rgba(200,0,200,0.2)\",\"layer\":\"below\",\"line\":{\"color\":\"rgba(0,0,0,0)\",\"width\":3},\"type\":\"rect\",\"x0\":\"2020-02-11T00:00:00\",\"x1\":\"2020-02-12T00:00:00\",\"xref\":\"x\",\"y0\":0,\"y1\":1,\"yref\":\"paper\"},{\"fillcolor\":\"rgba(200,0,200,0.2)\",\"layer\":\"below\",\"line\":{\"color\":\"rgba(0,0,0,0)\",\"width\":3},\"type\":\"rect\",\"x0\":\"2020-02-23T00:00:00\",\"x1\":\"2020-02-24T00:00:00\",\"xref\":\"x\",\"y0\":0,\"y1\":1,\"yref\":\"paper\"},{\"fillcolor\":\"rgba(200,0,200,0.2)\",\"layer\":\"below\",\"line\":{\"color\":\"rgba(0,0,0,0)\",\"width\":3},\"type\":\"rect\",\"x0\":\"2020-02-26T00:00:00\",\"x1\":\"2020-02-27T00:00:00\",\"xref\":\"x\",\"y0\":0,\"y1\":1,\"yref\":\"paper\"},{\"fillcolor\":\"rgba(200,0,200,0.2)\",\"layer\":\"below\",\"line\":{\"color\":\"rgba(0,0,0,0)\",\"width\":3},\"type\":\"rect\",\"x0\":\"2020-02-29T00:00:00\",\"x1\":\"2020-03-02T00:00:00\",\"xref\":\"x\",\"y0\":0,\"y1\":1,\"yref\":\"paper\"},{\"fillcolor\":\"rgba(200,0,200,0.2)\",\"layer\":\"below\",\"line\":{\"color\":\"rgba(0,0,0,0)\",\"width\":3},\"type\":\"rect\",\"x0\":\"2020-03-11T00:00:00\",\"x1\":\"2020-03-18T00:00:00\",\"xref\":\"x\",\"y0\":0,\"y1\":1,\"yref\":\"paper\"},{\"fillcolor\":\"rgba(200,0,200,0.2)\",\"layer\":\"below\",\"line\":{\"color\":\"rgba(0,0,0,0)\",\"width\":3},\"type\":\"rect\",\"x0\":\"2020-03-26T00:00:00\",\"x1\":\"2020-03-27T00:00:00\",\"xref\":\"x\",\"y0\":0,\"y1\":1,\"yref\":\"paper\"},{\"fillcolor\":\"rgba(200,0,200,0.2)\",\"layer\":\"below\",\"line\":{\"color\":\"rgba(0,0,0,0)\",\"width\":3},\"type\":\"rect\",\"x0\":\"2020-03-28T00:00:00\",\"x1\":\"2020-03-29T00:00:00\",\"xref\":\"x\",\"y0\":0,\"y1\":1,\"yref\":\"paper\"},{\"fillcolor\":\"rgba(200,0,200,0.2)\",\"layer\":\"below\",\"line\":{\"color\":\"rgba(0,0,0,0)\",\"width\":3},\"type\":\"rect\",\"x0\":\"2020-03-31T00:00:00\",\"x1\":\"2020-04-01T00:00:00\",\"xref\":\"x\",\"y0\":0,\"y1\":1,\"yref\":\"paper\"},{\"fillcolor\":\"rgba(200,0,200,0.2)\",\"layer\":\"below\",\"line\":{\"color\":\"rgba(0,0,0,0)\",\"width\":3},\"type\":\"rect\",\"x0\":\"2020-04-03T00:00:00\",\"x1\":\"2020-04-04T00:00:00\",\"xref\":\"x\",\"y0\":0,\"y1\":1,\"yref\":\"paper\"},{\"fillcolor\":\"rgba(200,0,200,0.2)\",\"layer\":\"below\",\"line\":{\"color\":\"rgba(0,0,0,0)\",\"width\":3},\"type\":\"rect\",\"x0\":\"2020-04-06T00:00:00\",\"x1\":\"2020-04-09T00:00:00\",\"xref\":\"x\",\"y0\":0,\"y1\":1,\"yref\":\"paper\"},{\"fillcolor\":\"rgba(200,0,200,0.2)\",\"layer\":\"below\",\"line\":{\"color\":\"rgba(0,0,0,0)\",\"width\":3},\"type\":\"rect\",\"x0\":\"2020-04-10T00:00:00\",\"x1\":\"2020-04-11T00:00:00\",\"xref\":\"x\",\"y0\":0,\"y1\":1,\"yref\":\"paper\"},{\"fillcolor\":\"rgba(200,0,200,0.2)\",\"layer\":\"below\",\"line\":{\"color\":\"rgba(0,0,0,0)\",\"width\":3},\"type\":\"rect\",\"x0\":\"2020-04-13T00:00:00\",\"x1\":\"2020-04-14T00:00:00\",\"xref\":\"x\",\"y0\":0,\"y1\":1,\"yref\":\"paper\"}]},                        {\"responsive\": true}                    ).then(function(){\n",
       "                            \n",
       "var gd = document.getElementById('d7310a81-359c-48e6-8bc8-3bb19a20b89d');\n",
       "var x = new MutationObserver(function (mutations, observer) {{\n",
       "        var display = window.getComputedStyle(gd).display;\n",
       "        if (!display || display === 'none') {{\n",
       "            console.log([gd, 'removed!']);\n",
       "            Plotly.purge(gd);\n",
       "            observer.disconnect();\n",
       "        }}\n",
       "}});\n",
       "\n",
       "// Listen for the removal of the full notebook cells\n",
       "var notebookContainer = gd.closest('#notebook-container');\n",
       "if (notebookContainer) {{\n",
       "    x.observe(notebookContainer, {childList: true});\n",
       "}}\n",
       "\n",
       "// Listen for the clearing of the current output cell\n",
       "var outputEl = gd.closest('.output');\n",
       "if (outputEl) {{\n",
       "    x.observe(outputEl, {childList: true});\n",
       "}}\n",
       "\n",
       "                        })                };                });            </script>        </div>"
      ]
     },
     "metadata": {},
     "output_type": "display_data"
    }
   ],
   "source": [
    "\n",
    "df_sent_score = df_sent.loc[df_sent['Ticker'] == 'GOOGL'].copy()\n",
    "df_sent_score['Timestamp'] = df_sent_score['Timestamp'].apply(pd.to_datetime, errors='coerce')\n",
    "df_sent_score_short = df_sent_score[df_sent_score['Timestamp']>'2019-12-12']\n",
    "\n",
    "lineC = px.line(df_sent_score_short, x=\"Timestamp\", y=\"Sentiment\", title='Time Series Line Chart')\n",
    "mask = df_sent_score_short[\"Timestamp\"].isin(df_time[\"Date\"].unique())\n",
    "\n",
    "df1 = df_sent_score_short[mask].groupby((~mask).cumsum())['Timestamp'].agg(['first','last'])\n",
    "\n",
    "fillcolor = 'rgba(200,0,200,0.2)'\n",
    "layer = 'below'\n",
    "\n",
    "for index, row in df1.iterrows():\n",
    "#         print(row['first'], row['last'])\n",
    "        lineC.add_shape(type=\"rect\",\n",
    "        xref=\"x\",\n",
    "        yref=\"paper\",\n",
    "        x0=row['first'],\n",
    "        y0=0,\n",
    "        x1=row['last'] + datetime.timedelta(days=1),\n",
    "        y1=1,\n",
    "        line=dict(color=\"rgba(0,0,0,0)\",width=3,),\n",
    "        fillcolor=fillcolor,\n",
    "        layer=layer)\n",
    "\n",
    "lineC.update_layout()\n",
    "\n",
    "lineC.show()"
   ]
  },
  {
   "cell_type": "markdown",
   "id": "e22456cd",
   "metadata": {},
   "source": [
    "# score outliers"
   ]
  },
  {
   "cell_type": "code",
   "execution_count": 212,
   "id": "a3b4c630",
   "metadata": {},
   "outputs": [
    {
     "data": {
      "text/html": [
       "<div>\n",
       "<style scoped>\n",
       "    .dataframe tbody tr th:only-of-type {\n",
       "        vertical-align: middle;\n",
       "    }\n",
       "\n",
       "    .dataframe tbody tr th {\n",
       "        vertical-align: top;\n",
       "    }\n",
       "\n",
       "    .dataframe thead th {\n",
       "        text-align: right;\n",
       "    }\n",
       "</style>\n",
       "<table border=\"1\" class=\"dataframe\">\n",
       "  <thead>\n",
       "    <tr style=\"text-align: right;\">\n",
       "      <th></th>\n",
       "      <th>Timestamp</th>\n",
       "      <th>Ticker</th>\n",
       "      <th>ISIN</th>\n",
       "      <th>Company_Name</th>\n",
       "      <th>GICS Sector</th>\n",
       "      <th>Sentiment</th>\n",
       "      <th>STS</th>\n",
       "      <th>LTS</th>\n",
       "      <th>Sentiment_STD</th>\n",
       "      <th>Sentiment_News_Volume</th>\n",
       "    </tr>\n",
       "  </thead>\n",
       "  <tbody>\n",
       "    <tr>\n",
       "      <th>74797</th>\n",
       "      <td>2013-04-07</td>\n",
       "      <td>GOOGL</td>\n",
       "      <td>US02079K3059</td>\n",
       "      <td>alphabet inc</td>\n",
       "      <td>Communication Services</td>\n",
       "      <td>-1.544546</td>\n",
       "      <td>-1.335939</td>\n",
       "      <td>NaN</td>\n",
       "      <td>2.227443</td>\n",
       "      <td>87.0</td>\n",
       "    </tr>\n",
       "    <tr>\n",
       "      <th>74812</th>\n",
       "      <td>2013-04-22</td>\n",
       "      <td>GOOGL</td>\n",
       "      <td>US02079K3059</td>\n",
       "      <td>alphabet inc</td>\n",
       "      <td>Communication Services</td>\n",
       "      <td>-1.542181</td>\n",
       "      <td>-0.935076</td>\n",
       "      <td>-1.103926</td>\n",
       "      <td>3.096808</td>\n",
       "      <td>317.0</td>\n",
       "    </tr>\n",
       "    <tr>\n",
       "      <th>74827</th>\n",
       "      <td>2013-05-07</td>\n",
       "      <td>GOOGL</td>\n",
       "      <td>US02079K3059</td>\n",
       "      <td>alphabet inc</td>\n",
       "      <td>Communication Services</td>\n",
       "      <td>-1.507755</td>\n",
       "      <td>-1.148577</td>\n",
       "      <td>-1.003387</td>\n",
       "      <td>3.201218</td>\n",
       "      <td>297.0</td>\n",
       "    </tr>\n",
       "    <tr>\n",
       "      <th>74842</th>\n",
       "      <td>2013-05-22</td>\n",
       "      <td>GOOGL</td>\n",
       "      <td>US02079K3059</td>\n",
       "      <td>alphabet inc</td>\n",
       "      <td>Communication Services</td>\n",
       "      <td>-1.725299</td>\n",
       "      <td>-1.388408</td>\n",
       "      <td>-1.138213</td>\n",
       "      <td>3.008075</td>\n",
       "      <td>352.0</td>\n",
       "    </tr>\n",
       "    <tr>\n",
       "      <th>74845</th>\n",
       "      <td>2013-05-25</td>\n",
       "      <td>GOOGL</td>\n",
       "      <td>US02079K3059</td>\n",
       "      <td>alphabet inc</td>\n",
       "      <td>Communication Services</td>\n",
       "      <td>-1.830493</td>\n",
       "      <td>-1.429265</td>\n",
       "      <td>-1.186091</td>\n",
       "      <td>2.856821</td>\n",
       "      <td>93.0</td>\n",
       "    </tr>\n",
       "    <tr>\n",
       "      <th>74846</th>\n",
       "      <td>2013-05-26</td>\n",
       "      <td>GOOGL</td>\n",
       "      <td>US02079K3059</td>\n",
       "      <td>alphabet inc</td>\n",
       "      <td>Communication Services</td>\n",
       "      <td>-1.853109</td>\n",
       "      <td>-1.691573</td>\n",
       "      <td>-1.239863</td>\n",
       "      <td>2.606592</td>\n",
       "      <td>130.0</td>\n",
       "    </tr>\n",
       "    <tr>\n",
       "      <th>74847</th>\n",
       "      <td>2013-05-27</td>\n",
       "      <td>GOOGL</td>\n",
       "      <td>US02079K3059</td>\n",
       "      <td>alphabet inc</td>\n",
       "      <td>Communication Services</td>\n",
       "      <td>-1.665911</td>\n",
       "      <td>-1.842020</td>\n",
       "      <td>-1.283670</td>\n",
       "      <td>2.934005</td>\n",
       "      <td>136.0</td>\n",
       "    </tr>\n",
       "    <tr>\n",
       "      <th>74851</th>\n",
       "      <td>2013-05-31</td>\n",
       "      <td>GOOGL</td>\n",
       "      <td>US02079K3059</td>\n",
       "      <td>alphabet inc</td>\n",
       "      <td>Communication Services</td>\n",
       "      <td>-1.486391</td>\n",
       "      <td>-1.186431</td>\n",
       "      <td>-1.299974</td>\n",
       "      <td>3.524313</td>\n",
       "      <td>252.0</td>\n",
       "    </tr>\n",
       "    <tr>\n",
       "      <th>74853</th>\n",
       "      <td>2013-06-02</td>\n",
       "      <td>GOOGL</td>\n",
       "      <td>US02079K3059</td>\n",
       "      <td>alphabet inc</td>\n",
       "      <td>Communication Services</td>\n",
       "      <td>-1.723142</td>\n",
       "      <td>-1.435414</td>\n",
       "      <td>-1.354672</td>\n",
       "      <td>2.776412</td>\n",
       "      <td>63.0</td>\n",
       "    </tr>\n",
       "    <tr>\n",
       "      <th>74856</th>\n",
       "      <td>2013-06-05</td>\n",
       "      <td>GOOGL</td>\n",
       "      <td>US02079K3059</td>\n",
       "      <td>alphabet inc</td>\n",
       "      <td>Communication Services</td>\n",
       "      <td>-1.479954</td>\n",
       "      <td>-1.502584</td>\n",
       "      <td>-1.404379</td>\n",
       "      <td>2.937853</td>\n",
       "      <td>263.0</td>\n",
       "    </tr>\n",
       "    <tr>\n",
       "      <th>74858</th>\n",
       "      <td>2013-06-07</td>\n",
       "      <td>GOOGL</td>\n",
       "      <td>US02079K3059</td>\n",
       "      <td>alphabet inc</td>\n",
       "      <td>Communication Services</td>\n",
       "      <td>-1.906171</td>\n",
       "      <td>-1.673802</td>\n",
       "      <td>-1.463473</td>\n",
       "      <td>1.972785</td>\n",
       "      <td>725.0</td>\n",
       "    </tr>\n",
       "    <tr>\n",
       "      <th>74859</th>\n",
       "      <td>2013-06-08</td>\n",
       "      <td>GOOGL</td>\n",
       "      <td>US02079K3059</td>\n",
       "      <td>alphabet inc</td>\n",
       "      <td>Communication Services</td>\n",
       "      <td>-1.810193</td>\n",
       "      <td>-1.876401</td>\n",
       "      <td>-1.511673</td>\n",
       "      <td>1.775601</td>\n",
       "      <td>346.0</td>\n",
       "    </tr>\n",
       "    <tr>\n",
       "      <th>74860</th>\n",
       "      <td>2013-06-09</td>\n",
       "      <td>GOOGL</td>\n",
       "      <td>US02079K3059</td>\n",
       "      <td>alphabet inc</td>\n",
       "      <td>Communication Services</td>\n",
       "      <td>-1.622564</td>\n",
       "      <td>-1.963982</td>\n",
       "      <td>-1.550681</td>\n",
       "      <td>2.009349</td>\n",
       "      <td>347.0</td>\n",
       "    </tr>\n",
       "    <tr>\n",
       "      <th>74864</th>\n",
       "      <td>2013-06-13</td>\n",
       "      <td>GOOGL</td>\n",
       "      <td>US02079K3059</td>\n",
       "      <td>alphabet inc</td>\n",
       "      <td>Communication Services</td>\n",
       "      <td>-2.180916</td>\n",
       "      <td>-1.918914</td>\n",
       "      <td>-1.669462</td>\n",
       "      <td>2.997081</td>\n",
       "      <td>975.0</td>\n",
       "    </tr>\n",
       "    <tr>\n",
       "      <th>74865</th>\n",
       "      <td>2013-06-14</td>\n",
       "      <td>GOOGL</td>\n",
       "      <td>US02079K3059</td>\n",
       "      <td>alphabet inc</td>\n",
       "      <td>Communication Services</td>\n",
       "      <td>-1.432298</td>\n",
       "      <td>-1.917946</td>\n",
       "      <td>-1.695237</td>\n",
       "      <td>2.846148</td>\n",
       "      <td>615.0</td>\n",
       "    </tr>\n",
       "    <tr>\n",
       "      <th>74867</th>\n",
       "      <td>2013-06-16</td>\n",
       "      <td>GOOGL</td>\n",
       "      <td>US02079K3059</td>\n",
       "      <td>alphabet inc</td>\n",
       "      <td>Communication Services</td>\n",
       "      <td>-1.541984</td>\n",
       "      <td>-1.830139</td>\n",
       "      <td>-1.741893</td>\n",
       "      <td>2.681157</td>\n",
       "      <td>361.0</td>\n",
       "    </tr>\n",
       "    <tr>\n",
       "      <th>74872</th>\n",
       "      <td>2013-06-21</td>\n",
       "      <td>GOOGL</td>\n",
       "      <td>US02079K3059</td>\n",
       "      <td>alphabet inc</td>\n",
       "      <td>Communication Services</td>\n",
       "      <td>-1.919808</td>\n",
       "      <td>-1.470031</td>\n",
       "      <td>-1.788297</td>\n",
       "      <td>3.416905</td>\n",
       "      <td>856.0</td>\n",
       "    </tr>\n",
       "    <tr>\n",
       "      <th>74873</th>\n",
       "      <td>2013-06-22</td>\n",
       "      <td>GOOGL</td>\n",
       "      <td>US02079K3059</td>\n",
       "      <td>alphabet inc</td>\n",
       "      <td>Communication Services</td>\n",
       "      <td>-2.974637</td>\n",
       "      <td>-2.110506</td>\n",
       "      <td>-1.882172</td>\n",
       "      <td>3.227727</td>\n",
       "      <td>444.0</td>\n",
       "    </tr>\n",
       "    <tr>\n",
       "      <th>74874</th>\n",
       "      <td>2013-06-23</td>\n",
       "      <td>GOOGL</td>\n",
       "      <td>US02079K3059</td>\n",
       "      <td>alphabet inc</td>\n",
       "      <td>Communication Services</td>\n",
       "      <td>-2.467059</td>\n",
       "      <td>-2.515958</td>\n",
       "      <td>-1.952775</td>\n",
       "      <td>2.356886</td>\n",
       "      <td>477.0</td>\n",
       "    </tr>\n",
       "    <tr>\n",
       "      <th>74902</th>\n",
       "      <td>2013-07-21</td>\n",
       "      <td>GOOGL</td>\n",
       "      <td>US02079K3059</td>\n",
       "      <td>alphabet inc</td>\n",
       "      <td>Communication Services</td>\n",
       "      <td>-1.626794</td>\n",
       "      <td>-1.211845</td>\n",
       "      <td>-1.365860</td>\n",
       "      <td>3.061219</td>\n",
       "      <td>328.0</td>\n",
       "    </tr>\n",
       "    <tr>\n",
       "      <th>75145</th>\n",
       "      <td>2014-03-21</td>\n",
       "      <td>GOOGL</td>\n",
       "      <td>US02079K3059</td>\n",
       "      <td>alphabet inc</td>\n",
       "      <td>Communication Services</td>\n",
       "      <td>-1.752809</td>\n",
       "      <td>-1.217094</td>\n",
       "      <td>-1.030308</td>\n",
       "      <td>3.126136</td>\n",
       "      <td>1454.0</td>\n",
       "    </tr>\n",
       "    <tr>\n",
       "      <th>75146</th>\n",
       "      <td>2014-03-22</td>\n",
       "      <td>GOOGL</td>\n",
       "      <td>US02079K3059</td>\n",
       "      <td>alphabet inc</td>\n",
       "      <td>Communication Services</td>\n",
       "      <td>-2.086610</td>\n",
       "      <td>-1.659294</td>\n",
       "      <td>-1.100202</td>\n",
       "      <td>3.148304</td>\n",
       "      <td>607.0</td>\n",
       "    </tr>\n",
       "    <tr>\n",
       "      <th>75166</th>\n",
       "      <td>2014-04-11</td>\n",
       "      <td>GOOGL</td>\n",
       "      <td>US02079K3059</td>\n",
       "      <td>alphabet inc</td>\n",
       "      <td>Communication Services</td>\n",
       "      <td>-1.404559</td>\n",
       "      <td>-1.183336</td>\n",
       "      <td>-1.313743</td>\n",
       "      <td>2.884003</td>\n",
       "      <td>951.0</td>\n",
       "    </tr>\n",
       "    <tr>\n",
       "      <th>75187</th>\n",
       "      <td>2014-05-02</td>\n",
       "      <td>GOOGL</td>\n",
       "      <td>US02079K3059</td>\n",
       "      <td>alphabet inc</td>\n",
       "      <td>Communication Services</td>\n",
       "      <td>-1.493307</td>\n",
       "      <td>-1.198974</td>\n",
       "      <td>-1.244984</td>\n",
       "      <td>3.055194</td>\n",
       "      <td>976.0</td>\n",
       "    </tr>\n",
       "    <tr>\n",
       "      <th>75188</th>\n",
       "      <td>2014-05-03</td>\n",
       "      <td>GOOGL</td>\n",
       "      <td>US02079K3059</td>\n",
       "      <td>alphabet inc</td>\n",
       "      <td>Communication Services</td>\n",
       "      <td>-1.549387</td>\n",
       "      <td>-1.451798</td>\n",
       "      <td>-1.278775</td>\n",
       "      <td>2.691432</td>\n",
       "      <td>533.0</td>\n",
       "    </tr>\n",
       "    <tr>\n",
       "      <th>75209</th>\n",
       "      <td>2014-05-24</td>\n",
       "      <td>GOOGL</td>\n",
       "      <td>US02079K3059</td>\n",
       "      <td>alphabet inc</td>\n",
       "      <td>Communication Services</td>\n",
       "      <td>-1.920376</td>\n",
       "      <td>-1.207943</td>\n",
       "      <td>-1.198491</td>\n",
       "      <td>3.318849</td>\n",
       "      <td>417.0</td>\n",
       "    </tr>\n",
       "    <tr>\n",
       "      <th>75236</th>\n",
       "      <td>2014-06-20</td>\n",
       "      <td>GOOGL</td>\n",
       "      <td>US02079K3059</td>\n",
       "      <td>alphabet inc</td>\n",
       "      <td>Communication Services</td>\n",
       "      <td>-1.450927</td>\n",
       "      <td>-1.104092</td>\n",
       "      <td>-1.238201</td>\n",
       "      <td>2.889356</td>\n",
       "      <td>951.0</td>\n",
       "    </tr>\n",
       "    <tr>\n",
       "      <th>75249</th>\n",
       "      <td>2014-07-03</td>\n",
       "      <td>GOOGL</td>\n",
       "      <td>US02079K3059</td>\n",
       "      <td>alphabet inc</td>\n",
       "      <td>Communication Services</td>\n",
       "      <td>-1.627290</td>\n",
       "      <td>-1.244560</td>\n",
       "      <td>-1.193931</td>\n",
       "      <td>3.037161</td>\n",
       "      <td>869.0</td>\n",
       "    </tr>\n",
       "    <tr>\n",
       "      <th>75256</th>\n",
       "      <td>2014-07-10</td>\n",
       "      <td>GOOGL</td>\n",
       "      <td>US02079K3059</td>\n",
       "      <td>alphabet inc</td>\n",
       "      <td>Communication Services</td>\n",
       "      <td>-1.701830</td>\n",
       "      <td>-1.092981</td>\n",
       "      <td>-1.222711</td>\n",
       "      <td>3.461983</td>\n",
       "      <td>969.0</td>\n",
       "    </tr>\n",
       "    <tr>\n",
       "      <th>75258</th>\n",
       "      <td>2014-07-12</td>\n",
       "      <td>GOOGL</td>\n",
       "      <td>US02079K3059</td>\n",
       "      <td>alphabet inc</td>\n",
       "      <td>Communication Services</td>\n",
       "      <td>-1.488663</td>\n",
       "      <td>-1.397761</td>\n",
       "      <td>-1.261097</td>\n",
       "      <td>3.156364</td>\n",
       "      <td>465.0</td>\n",
       "    </tr>\n",
       "    <tr>\n",
       "      <th>75262</th>\n",
       "      <td>2014-07-16</td>\n",
       "      <td>GOOGL</td>\n",
       "      <td>US02079K3059</td>\n",
       "      <td>alphabet inc</td>\n",
       "      <td>Communication Services</td>\n",
       "      <td>-1.421833</td>\n",
       "      <td>-1.024148</td>\n",
       "      <td>-1.242952</td>\n",
       "      <td>3.288861</td>\n",
       "      <td>1329.0</td>\n",
       "    </tr>\n",
       "    <tr>\n",
       "      <th>75285</th>\n",
       "      <td>2014-08-08</td>\n",
       "      <td>GOOGL</td>\n",
       "      <td>US02079K3059</td>\n",
       "      <td>alphabet inc</td>\n",
       "      <td>Communication Services</td>\n",
       "      <td>-1.520732</td>\n",
       "      <td>-1.426197</td>\n",
       "      <td>-1.306397</td>\n",
       "      <td>3.146782</td>\n",
       "      <td>806.0</td>\n",
       "    </tr>\n",
       "    <tr>\n",
       "      <th>75286</th>\n",
       "      <td>2014-08-09</td>\n",
       "      <td>GOOGL</td>\n",
       "      <td>US02079K3059</td>\n",
       "      <td>alphabet inc</td>\n",
       "      <td>Communication Services</td>\n",
       "      <td>-2.010591</td>\n",
       "      <td>-1.760284</td>\n",
       "      <td>-1.364439</td>\n",
       "      <td>3.191869</td>\n",
       "      <td>469.0</td>\n",
       "    </tr>\n",
       "    <tr>\n",
       "      <th>75334</th>\n",
       "      <td>2014-09-26</td>\n",
       "      <td>GOOGL</td>\n",
       "      <td>US02079K3059</td>\n",
       "      <td>alphabet inc</td>\n",
       "      <td>Communication Services</td>\n",
       "      <td>-1.445223</td>\n",
       "      <td>-1.084290</td>\n",
       "      <td>-0.740405</td>\n",
       "      <td>3.061783</td>\n",
       "      <td>922.0</td>\n",
       "    </tr>\n",
       "    <tr>\n",
       "      <th>75335</th>\n",
       "      <td>2014-09-27</td>\n",
       "      <td>GOOGL</td>\n",
       "      <td>US02079K3059</td>\n",
       "      <td>alphabet inc</td>\n",
       "      <td>Communication Services</td>\n",
       "      <td>-1.556344</td>\n",
       "      <td>-1.402842</td>\n",
       "      <td>-0.788619</td>\n",
       "      <td>2.939680</td>\n",
       "      <td>387.0</td>\n",
       "    </tr>\n",
       "    <tr>\n",
       "      <th>75426</th>\n",
       "      <td>2014-12-27</td>\n",
       "      <td>GOOGL</td>\n",
       "      <td>US02079K3059</td>\n",
       "      <td>alphabet inc</td>\n",
       "      <td>Communication Services</td>\n",
       "      <td>-1.833653</td>\n",
       "      <td>-1.592101</td>\n",
       "      <td>-1.068142</td>\n",
       "      <td>3.270935</td>\n",
       "      <td>436.0</td>\n",
       "    </tr>\n",
       "    <tr>\n",
       "      <th>75427</th>\n",
       "      <td>2014-12-28</td>\n",
       "      <td>GOOGL</td>\n",
       "      <td>US02079K3059</td>\n",
       "      <td>alphabet inc</td>\n",
       "      <td>Communication Services</td>\n",
       "      <td>-1.506057</td>\n",
       "      <td>-1.729558</td>\n",
       "      <td>-1.113111</td>\n",
       "      <td>3.098722</td>\n",
       "      <td>433.0</td>\n",
       "    </tr>\n",
       "    <tr>\n",
       "      <th>75428</th>\n",
       "      <td>2014-12-29</td>\n",
       "      <td>GOOGL</td>\n",
       "      <td>US02079K3059</td>\n",
       "      <td>alphabet inc</td>\n",
       "      <td>Communication Services</td>\n",
       "      <td>-1.837663</td>\n",
       "      <td>-1.932383</td>\n",
       "      <td>-1.174983</td>\n",
       "      <td>2.884050</td>\n",
       "      <td>1200.0</td>\n",
       "    </tr>\n",
       "    <tr>\n",
       "      <th>75429</th>\n",
       "      <td>2014-12-30</td>\n",
       "      <td>GOOGL</td>\n",
       "      <td>US02079K3059</td>\n",
       "      <td>alphabet inc</td>\n",
       "      <td>Communication Services</td>\n",
       "      <td>-1.432641</td>\n",
       "      <td>-1.935482</td>\n",
       "      <td>-1.215845</td>\n",
       "      <td>2.933192</td>\n",
       "      <td>929.0</td>\n",
       "    </tr>\n",
       "    <tr>\n",
       "      <th>75440</th>\n",
       "      <td>2015-01-10</td>\n",
       "      <td>GOOGL</td>\n",
       "      <td>US02079K3059</td>\n",
       "      <td>alphabet inc</td>\n",
       "      <td>Communication Services</td>\n",
       "      <td>-1.938344</td>\n",
       "      <td>-1.368190</td>\n",
       "      <td>-1.257478</td>\n",
       "      <td>3.657084</td>\n",
       "      <td>854.0</td>\n",
       "    </tr>\n",
       "    <tr>\n",
       "      <th>75441</th>\n",
       "      <td>2015-01-11</td>\n",
       "      <td>GOOGL</td>\n",
       "      <td>US02079K3059</td>\n",
       "      <td>alphabet inc</td>\n",
       "      <td>Communication Services</td>\n",
       "      <td>-1.727981</td>\n",
       "      <td>-1.709352</td>\n",
       "      <td>-1.306608</td>\n",
       "      <td>3.628001</td>\n",
       "      <td>941.0</td>\n",
       "    </tr>\n",
       "    <tr>\n",
       "      <th>75446</th>\n",
       "      <td>2015-01-16</td>\n",
       "      <td>GOOGL</td>\n",
       "      <td>US02079K3059</td>\n",
       "      <td>alphabet inc</td>\n",
       "      <td>Communication Services</td>\n",
       "      <td>-1.508200</td>\n",
       "      <td>-1.195206</td>\n",
       "      <td>-1.328637</td>\n",
       "      <td>3.159585</td>\n",
       "      <td>1105.0</td>\n",
       "    </tr>\n",
       "    <tr>\n",
       "      <th>75447</th>\n",
       "      <td>2015-01-17</td>\n",
       "      <td>GOOGL</td>\n",
       "      <td>US02079K3059</td>\n",
       "      <td>alphabet inc</td>\n",
       "      <td>Communication Services</td>\n",
       "      <td>-1.841486</td>\n",
       "      <td>-1.514957</td>\n",
       "      <td>-1.380334</td>\n",
       "      <td>3.530432</td>\n",
       "      <td>1060.0</td>\n",
       "    </tr>\n",
       "    <tr>\n",
       "      <th>75448</th>\n",
       "      <td>2015-01-18</td>\n",
       "      <td>GOOGL</td>\n",
       "      <td>US02079K3059</td>\n",
       "      <td>alphabet inc</td>\n",
       "      <td>Communication Services</td>\n",
       "      <td>-1.991720</td>\n",
       "      <td>-1.853566</td>\n",
       "      <td>-1.438303</td>\n",
       "      <td>3.379996</td>\n",
       "      <td>838.0</td>\n",
       "    </tr>\n",
       "    <tr>\n",
       "      <th>75454</th>\n",
       "      <td>2015-01-24</td>\n",
       "      <td>GOOGL</td>\n",
       "      <td>US02079K3059</td>\n",
       "      <td>alphabet inc</td>\n",
       "      <td>Communication Services</td>\n",
       "      <td>-1.934865</td>\n",
       "      <td>-1.151011</td>\n",
       "      <td>-1.400199</td>\n",
       "      <td>3.353028</td>\n",
       "      <td>1726.0</td>\n",
       "    </tr>\n",
       "    <tr>\n",
       "      <th>75455</th>\n",
       "      <td>2015-01-25</td>\n",
       "      <td>GOOGL</td>\n",
       "      <td>US02079K3059</td>\n",
       "      <td>alphabet inc</td>\n",
       "      <td>Communication Services</td>\n",
       "      <td>-2.093784</td>\n",
       "      <td>-1.654317</td>\n",
       "      <td>-1.460294</td>\n",
       "      <td>3.595815</td>\n",
       "      <td>1458.0</td>\n",
       "    </tr>\n",
       "    <tr>\n",
       "      <th>75524</th>\n",
       "      <td>2015-04-04</td>\n",
       "      <td>GOOGL</td>\n",
       "      <td>US02079K3059</td>\n",
       "      <td>alphabet inc</td>\n",
       "      <td>Communication Services</td>\n",
       "      <td>-1.556132</td>\n",
       "      <td>-0.750037</td>\n",
       "      <td>-0.335568</td>\n",
       "      <td>3.104590</td>\n",
       "      <td>2162.0</td>\n",
       "    </tr>\n",
       "    <tr>\n",
       "      <th>75546</th>\n",
       "      <td>2015-04-26</td>\n",
       "      <td>GOOGL</td>\n",
       "      <td>US02079K3059</td>\n",
       "      <td>alphabet inc</td>\n",
       "      <td>Communication Services</td>\n",
       "      <td>-1.989807</td>\n",
       "      <td>-0.754941</td>\n",
       "      <td>-0.649863</td>\n",
       "      <td>3.260127</td>\n",
       "      <td>1865.0</td>\n",
       "    </tr>\n",
       "    <tr>\n",
       "      <th>75601</th>\n",
       "      <td>2015-06-20</td>\n",
       "      <td>GOOGL</td>\n",
       "      <td>US02079K3059</td>\n",
       "      <td>alphabet inc</td>\n",
       "      <td>Communication Services</td>\n",
       "      <td>-1.536438</td>\n",
       "      <td>-0.463800</td>\n",
       "      <td>0.068163</td>\n",
       "      <td>3.343880</td>\n",
       "      <td>1195.0</td>\n",
       "    </tr>\n",
       "    <tr>\n",
       "      <th>76190</th>\n",
       "      <td>2017-01-29</td>\n",
       "      <td>GOOGL</td>\n",
       "      <td>US02079K3059</td>\n",
       "      <td>alphabet inc</td>\n",
       "      <td>Communication Services</td>\n",
       "      <td>-1.708444</td>\n",
       "      <td>-0.660579</td>\n",
       "      <td>0.116341</td>\n",
       "      <td>2.431526</td>\n",
       "      <td>2809.0</td>\n",
       "    </tr>\n",
       "    <tr>\n",
       "      <th>76381</th>\n",
       "      <td>2017-08-08</td>\n",
       "      <td>GOOGL</td>\n",
       "      <td>US02079K3059</td>\n",
       "      <td>alphabet inc</td>\n",
       "      <td>Communication Services</td>\n",
       "      <td>-1.527360</td>\n",
       "      <td>-0.899867</td>\n",
       "      <td>-0.180932</td>\n",
       "      <td>3.084498</td>\n",
       "      <td>3358.0</td>\n",
       "    </tr>\n",
       "    <tr>\n",
       "      <th>76390</th>\n",
       "      <td>2017-08-17</td>\n",
       "      <td>GOOGL</td>\n",
       "      <td>US02079K3059</td>\n",
       "      <td>alphabet inc</td>\n",
       "      <td>Communication Services</td>\n",
       "      <td>-1.431209</td>\n",
       "      <td>-1.421953</td>\n",
       "      <td>-0.580756</td>\n",
       "      <td>3.652961</td>\n",
       "      <td>3210.0</td>\n",
       "    </tr>\n",
       "    <tr>\n",
       "      <th>76620</th>\n",
       "      <td>2018-04-04</td>\n",
       "      <td>GOOGL</td>\n",
       "      <td>US02079K3059</td>\n",
       "      <td>alphabet inc</td>\n",
       "      <td>Communication Services</td>\n",
       "      <td>-1.905553</td>\n",
       "      <td>-1.306223</td>\n",
       "      <td>-0.524554</td>\n",
       "      <td>3.181474</td>\n",
       "      <td>5260.0</td>\n",
       "    </tr>\n",
       "    <tr>\n",
       "      <th>76831</th>\n",
       "      <td>2018-11-01</td>\n",
       "      <td>GOOGL</td>\n",
       "      <td>US02079K3059</td>\n",
       "      <td>alphabet inc</td>\n",
       "      <td>Communication Services</td>\n",
       "      <td>-1.870071</td>\n",
       "      <td>-1.020102</td>\n",
       "      <td>-0.197892</td>\n",
       "      <td>3.670023</td>\n",
       "      <td>2968.0</td>\n",
       "    </tr>\n",
       "    <tr>\n",
       "      <th>76966</th>\n",
       "      <td>2019-03-16</td>\n",
       "      <td>GOOGL</td>\n",
       "      <td>US02079K3059</td>\n",
       "      <td>alphabet inc</td>\n",
       "      <td>Communication Services</td>\n",
       "      <td>-1.778348</td>\n",
       "      <td>-0.914679</td>\n",
       "      <td>-0.076141</td>\n",
       "      <td>3.630331</td>\n",
       "      <td>1007.0</td>\n",
       "    </tr>\n",
       "    <tr>\n",
       "      <th>76967</th>\n",
       "      <td>2019-03-17</td>\n",
       "      <td>GOOGL</td>\n",
       "      <td>US02079K3059</td>\n",
       "      <td>alphabet inc</td>\n",
       "      <td>Communication Services</td>\n",
       "      <td>-1.622594</td>\n",
       "      <td>-1.371625</td>\n",
       "      <td>-0.155931</td>\n",
       "      <td>3.175294</td>\n",
       "      <td>993.0</td>\n",
       "    </tr>\n",
       "    <tr>\n",
       "      <th>77009</th>\n",
       "      <td>2019-04-28</td>\n",
       "      <td>GOOGL</td>\n",
       "      <td>US02079K3059</td>\n",
       "      <td>alphabet inc</td>\n",
       "      <td>Communication Services</td>\n",
       "      <td>-1.477111</td>\n",
       "      <td>-0.725096</td>\n",
       "      <td>-0.347176</td>\n",
       "      <td>3.168746</td>\n",
       "      <td>986.0</td>\n",
       "    </tr>\n",
       "    <tr>\n",
       "      <th>77127</th>\n",
       "      <td>2019-08-24</td>\n",
       "      <td>GOOGL</td>\n",
       "      <td>US02079K3059</td>\n",
       "      <td>alphabet inc</td>\n",
       "      <td>Communication Services</td>\n",
       "      <td>-1.423130</td>\n",
       "      <td>-0.971509</td>\n",
       "      <td>-0.536657</td>\n",
       "      <td>3.130512</td>\n",
       "      <td>1070.0</td>\n",
       "    </tr>\n",
       "  </tbody>\n",
       "</table>\n",
       "</div>"
      ],
      "text/plain": [
       "       Timestamp Ticker          ISIN  Company_Name             GICS Sector  \\\n",
       "74797 2013-04-07  GOOGL  US02079K3059  alphabet inc  Communication Services   \n",
       "74812 2013-04-22  GOOGL  US02079K3059  alphabet inc  Communication Services   \n",
       "74827 2013-05-07  GOOGL  US02079K3059  alphabet inc  Communication Services   \n",
       "74842 2013-05-22  GOOGL  US02079K3059  alphabet inc  Communication Services   \n",
       "74845 2013-05-25  GOOGL  US02079K3059  alphabet inc  Communication Services   \n",
       "74846 2013-05-26  GOOGL  US02079K3059  alphabet inc  Communication Services   \n",
       "74847 2013-05-27  GOOGL  US02079K3059  alphabet inc  Communication Services   \n",
       "74851 2013-05-31  GOOGL  US02079K3059  alphabet inc  Communication Services   \n",
       "74853 2013-06-02  GOOGL  US02079K3059  alphabet inc  Communication Services   \n",
       "74856 2013-06-05  GOOGL  US02079K3059  alphabet inc  Communication Services   \n",
       "74858 2013-06-07  GOOGL  US02079K3059  alphabet inc  Communication Services   \n",
       "74859 2013-06-08  GOOGL  US02079K3059  alphabet inc  Communication Services   \n",
       "74860 2013-06-09  GOOGL  US02079K3059  alphabet inc  Communication Services   \n",
       "74864 2013-06-13  GOOGL  US02079K3059  alphabet inc  Communication Services   \n",
       "74865 2013-06-14  GOOGL  US02079K3059  alphabet inc  Communication Services   \n",
       "74867 2013-06-16  GOOGL  US02079K3059  alphabet inc  Communication Services   \n",
       "74872 2013-06-21  GOOGL  US02079K3059  alphabet inc  Communication Services   \n",
       "74873 2013-06-22  GOOGL  US02079K3059  alphabet inc  Communication Services   \n",
       "74874 2013-06-23  GOOGL  US02079K3059  alphabet inc  Communication Services   \n",
       "74902 2013-07-21  GOOGL  US02079K3059  alphabet inc  Communication Services   \n",
       "75145 2014-03-21  GOOGL  US02079K3059  alphabet inc  Communication Services   \n",
       "75146 2014-03-22  GOOGL  US02079K3059  alphabet inc  Communication Services   \n",
       "75166 2014-04-11  GOOGL  US02079K3059  alphabet inc  Communication Services   \n",
       "75187 2014-05-02  GOOGL  US02079K3059  alphabet inc  Communication Services   \n",
       "75188 2014-05-03  GOOGL  US02079K3059  alphabet inc  Communication Services   \n",
       "75209 2014-05-24  GOOGL  US02079K3059  alphabet inc  Communication Services   \n",
       "75236 2014-06-20  GOOGL  US02079K3059  alphabet inc  Communication Services   \n",
       "75249 2014-07-03  GOOGL  US02079K3059  alphabet inc  Communication Services   \n",
       "75256 2014-07-10  GOOGL  US02079K3059  alphabet inc  Communication Services   \n",
       "75258 2014-07-12  GOOGL  US02079K3059  alphabet inc  Communication Services   \n",
       "75262 2014-07-16  GOOGL  US02079K3059  alphabet inc  Communication Services   \n",
       "75285 2014-08-08  GOOGL  US02079K3059  alphabet inc  Communication Services   \n",
       "75286 2014-08-09  GOOGL  US02079K3059  alphabet inc  Communication Services   \n",
       "75334 2014-09-26  GOOGL  US02079K3059  alphabet inc  Communication Services   \n",
       "75335 2014-09-27  GOOGL  US02079K3059  alphabet inc  Communication Services   \n",
       "75426 2014-12-27  GOOGL  US02079K3059  alphabet inc  Communication Services   \n",
       "75427 2014-12-28  GOOGL  US02079K3059  alphabet inc  Communication Services   \n",
       "75428 2014-12-29  GOOGL  US02079K3059  alphabet inc  Communication Services   \n",
       "75429 2014-12-30  GOOGL  US02079K3059  alphabet inc  Communication Services   \n",
       "75440 2015-01-10  GOOGL  US02079K3059  alphabet inc  Communication Services   \n",
       "75441 2015-01-11  GOOGL  US02079K3059  alphabet inc  Communication Services   \n",
       "75446 2015-01-16  GOOGL  US02079K3059  alphabet inc  Communication Services   \n",
       "75447 2015-01-17  GOOGL  US02079K3059  alphabet inc  Communication Services   \n",
       "75448 2015-01-18  GOOGL  US02079K3059  alphabet inc  Communication Services   \n",
       "75454 2015-01-24  GOOGL  US02079K3059  alphabet inc  Communication Services   \n",
       "75455 2015-01-25  GOOGL  US02079K3059  alphabet inc  Communication Services   \n",
       "75524 2015-04-04  GOOGL  US02079K3059  alphabet inc  Communication Services   \n",
       "75546 2015-04-26  GOOGL  US02079K3059  alphabet inc  Communication Services   \n",
       "75601 2015-06-20  GOOGL  US02079K3059  alphabet inc  Communication Services   \n",
       "76190 2017-01-29  GOOGL  US02079K3059  alphabet inc  Communication Services   \n",
       "76381 2017-08-08  GOOGL  US02079K3059  alphabet inc  Communication Services   \n",
       "76390 2017-08-17  GOOGL  US02079K3059  alphabet inc  Communication Services   \n",
       "76620 2018-04-04  GOOGL  US02079K3059  alphabet inc  Communication Services   \n",
       "76831 2018-11-01  GOOGL  US02079K3059  alphabet inc  Communication Services   \n",
       "76966 2019-03-16  GOOGL  US02079K3059  alphabet inc  Communication Services   \n",
       "76967 2019-03-17  GOOGL  US02079K3059  alphabet inc  Communication Services   \n",
       "77009 2019-04-28  GOOGL  US02079K3059  alphabet inc  Communication Services   \n",
       "77127 2019-08-24  GOOGL  US02079K3059  alphabet inc  Communication Services   \n",
       "\n",
       "       Sentiment       STS       LTS  Sentiment_STD  Sentiment_News_Volume  \n",
       "74797  -1.544546 -1.335939       NaN       2.227443                   87.0  \n",
       "74812  -1.542181 -0.935076 -1.103926       3.096808                  317.0  \n",
       "74827  -1.507755 -1.148577 -1.003387       3.201218                  297.0  \n",
       "74842  -1.725299 -1.388408 -1.138213       3.008075                  352.0  \n",
       "74845  -1.830493 -1.429265 -1.186091       2.856821                   93.0  \n",
       "74846  -1.853109 -1.691573 -1.239863       2.606592                  130.0  \n",
       "74847  -1.665911 -1.842020 -1.283670       2.934005                  136.0  \n",
       "74851  -1.486391 -1.186431 -1.299974       3.524313                  252.0  \n",
       "74853  -1.723142 -1.435414 -1.354672       2.776412                   63.0  \n",
       "74856  -1.479954 -1.502584 -1.404379       2.937853                  263.0  \n",
       "74858  -1.906171 -1.673802 -1.463473       1.972785                  725.0  \n",
       "74859  -1.810193 -1.876401 -1.511673       1.775601                  346.0  \n",
       "74860  -1.622564 -1.963982 -1.550681       2.009349                  347.0  \n",
       "74864  -2.180916 -1.918914 -1.669462       2.997081                  975.0  \n",
       "74865  -1.432298 -1.917946 -1.695237       2.846148                  615.0  \n",
       "74867  -1.541984 -1.830139 -1.741893       2.681157                  361.0  \n",
       "74872  -1.919808 -1.470031 -1.788297       3.416905                  856.0  \n",
       "74873  -2.974637 -2.110506 -1.882172       3.227727                  444.0  \n",
       "74874  -2.467059 -2.515958 -1.952775       2.356886                  477.0  \n",
       "74902  -1.626794 -1.211845 -1.365860       3.061219                  328.0  \n",
       "75145  -1.752809 -1.217094 -1.030308       3.126136                 1454.0  \n",
       "75146  -2.086610 -1.659294 -1.100202       3.148304                  607.0  \n",
       "75166  -1.404559 -1.183336 -1.313743       2.884003                  951.0  \n",
       "75187  -1.493307 -1.198974 -1.244984       3.055194                  976.0  \n",
       "75188  -1.549387 -1.451798 -1.278775       2.691432                  533.0  \n",
       "75209  -1.920376 -1.207943 -1.198491       3.318849                  417.0  \n",
       "75236  -1.450927 -1.104092 -1.238201       2.889356                  951.0  \n",
       "75249  -1.627290 -1.244560 -1.193931       3.037161                  869.0  \n",
       "75256  -1.701830 -1.092981 -1.222711       3.461983                  969.0  \n",
       "75258  -1.488663 -1.397761 -1.261097       3.156364                  465.0  \n",
       "75262  -1.421833 -1.024148 -1.242952       3.288861                 1329.0  \n",
       "75285  -1.520732 -1.426197 -1.306397       3.146782                  806.0  \n",
       "75286  -2.010591 -1.760284 -1.364439       3.191869                  469.0  \n",
       "75334  -1.445223 -1.084290 -0.740405       3.061783                  922.0  \n",
       "75335  -1.556344 -1.402842 -0.788619       2.939680                  387.0  \n",
       "75426  -1.833653 -1.592101 -1.068142       3.270935                  436.0  \n",
       "75427  -1.506057 -1.729558 -1.113111       3.098722                  433.0  \n",
       "75428  -1.837663 -1.932383 -1.174983       2.884050                 1200.0  \n",
       "75429  -1.432641 -1.935482 -1.215845       2.933192                  929.0  \n",
       "75440  -1.938344 -1.368190 -1.257478       3.657084                  854.0  \n",
       "75441  -1.727981 -1.709352 -1.306608       3.628001                  941.0  \n",
       "75446  -1.508200 -1.195206 -1.328637       3.159585                 1105.0  \n",
       "75447  -1.841486 -1.514957 -1.380334       3.530432                 1060.0  \n",
       "75448  -1.991720 -1.853566 -1.438303       3.379996                  838.0  \n",
       "75454  -1.934865 -1.151011 -1.400199       3.353028                 1726.0  \n",
       "75455  -2.093784 -1.654317 -1.460294       3.595815                 1458.0  \n",
       "75524  -1.556132 -0.750037 -0.335568       3.104590                 2162.0  \n",
       "75546  -1.989807 -0.754941 -0.649863       3.260127                 1865.0  \n",
       "75601  -1.536438 -0.463800  0.068163       3.343880                 1195.0  \n",
       "76190  -1.708444 -0.660579  0.116341       2.431526                 2809.0  \n",
       "76381  -1.527360 -0.899867 -0.180932       3.084498                 3358.0  \n",
       "76390  -1.431209 -1.421953 -0.580756       3.652961                 3210.0  \n",
       "76620  -1.905553 -1.306223 -0.524554       3.181474                 5260.0  \n",
       "76831  -1.870071 -1.020102 -0.197892       3.670023                 2968.0  \n",
       "76966  -1.778348 -0.914679 -0.076141       3.630331                 1007.0  \n",
       "76967  -1.622594 -1.371625 -0.155931       3.175294                  993.0  \n",
       "77009  -1.477111 -0.725096 -0.347176       3.168746                  986.0  \n",
       "77127  -1.423130 -0.971509 -0.536657       3.130512                 1070.0  "
      ]
     },
     "execution_count": 212,
     "metadata": {},
     "output_type": "execute_result"
    }
   ],
   "source": [
    "std = df_sent_score['Sentiment'].std()\n",
    "df_sent_out = df_sent_score[((df_sent_score['Sentiment'] > std*3) | (df_sent_score['Sentiment'] < -std*3))\n",
    "                            & (df_sent_score['Sentiment_News_Volume'] > 30)]\n",
    "\n",
    "df_sent_out"
   ]
  },
  {
   "cell_type": "markdown",
   "id": "8ac86582",
   "metadata": {},
   "source": [
    "# rank -sdg"
   ]
  },
  {
   "cell_type": "code",
   "execution_count": 213,
   "id": "ebe6a329",
   "metadata": {},
   "outputs": [
    {
     "data": {
      "text/plain": [
       "['A',\n",
       " 'AAL',\n",
       " 'AAP',\n",
       " 'AAPL',\n",
       " 'ABBV',\n",
       " 'ABC',\n",
       " 'ABT',\n",
       " 'ACGL',\n",
       " 'ACN',\n",
       " 'ADBE',\n",
       " 'ADI',\n",
       " 'ADM',\n",
       " 'ADP',\n",
       " 'ADS',\n",
       " 'ADSK',\n",
       " 'AEE',\n",
       " 'AEP',\n",
       " 'AES',\n",
       " 'AET',\n",
       " 'AFG',\n",
       " 'AFL',\n",
       " 'AGCO',\n",
       " 'AGN',\n",
       " 'AIG',\n",
       " 'AIZ',\n",
       " 'AJG',\n",
       " 'AKAM',\n",
       " 'ALB',\n",
       " 'ALGN',\n",
       " 'ALKS',\n",
       " 'ALL',\n",
       " 'ALLE',\n",
       " 'ALLY',\n",
       " 'ALNY',\n",
       " 'ALV',\n",
       " 'ALXN',\n",
       " 'AMAT',\n",
       " 'AMD',\n",
       " 'AME',\n",
       " 'AMG',\n",
       " 'AMGN',\n",
       " 'AMP',\n",
       " 'AMT',\n",
       " 'AMTD',\n",
       " 'AMZN',\n",
       " 'AN',\n",
       " 'ANDV',\n",
       " 'ANET',\n",
       " 'ANSS',\n",
       " 'ANTM',\n",
       " 'AON',\n",
       " 'AOS',\n",
       " 'APA',\n",
       " 'APC',\n",
       " 'APD',\n",
       " 'APH',\n",
       " 'APTV',\n",
       " 'AR',\n",
       " 'ARMK',\n",
       " 'ARW',\n",
       " 'ASH',\n",
       " 'ATH',\n",
       " 'ATO',\n",
       " 'ATVI',\n",
       " 'AVB',\n",
       " 'AVP',\n",
       " 'AVT',\n",
       " 'AVY',\n",
       " 'AWK',\n",
       " 'AXP',\n",
       " 'AXS',\n",
       " 'AXTA',\n",
       " 'AYI',\n",
       " 'AZO',\n",
       " 'BAC',\n",
       " 'BAX',\n",
       " 'BBBY',\n",
       " 'BBT',\n",
       " 'BBY',\n",
       " 'BDX',\n",
       " 'BEN',\n",
       " 'BF/B',\n",
       " 'BG',\n",
       " 'BHF',\n",
       " 'BHGE',\n",
       " 'BIIB',\n",
       " 'BK',\n",
       " 'BLK',\n",
       " 'BLL',\n",
       " 'BMRN',\n",
       " 'BMY',\n",
       " 'BR',\n",
       " 'BRK/B',\n",
       " 'BRX',\n",
       " 'BSX',\n",
       " 'BWA',\n",
       " 'BXP',\n",
       " 'C',\n",
       " 'CA',\n",
       " 'CAG',\n",
       " 'CAH',\n",
       " 'CAT',\n",
       " 'CB',\n",
       " 'CBOE',\n",
       " 'CBRE',\n",
       " 'CBS',\n",
       " 'CC',\n",
       " 'CCI',\n",
       " 'CCK',\n",
       " 'CCL',\n",
       " 'CDK',\n",
       " 'CDNS',\n",
       " 'CDW',\n",
       " 'CE',\n",
       " 'CELG',\n",
       " 'CERN',\n",
       " 'CF',\n",
       " 'CFG',\n",
       " 'CGNX',\n",
       " 'CHD',\n",
       " 'CHK',\n",
       " 'CHRW',\n",
       " 'CHTR',\n",
       " 'CINF',\n",
       " 'CIT',\n",
       " 'CL',\n",
       " 'CLB',\n",
       " 'CLR',\n",
       " 'CLX',\n",
       " 'CMA',\n",
       " 'CMCSA',\n",
       " 'CME',\n",
       " 'CMG',\n",
       " 'CMI',\n",
       " 'CMS',\n",
       " 'CNC',\n",
       " 'CNP',\n",
       " 'COF',\n",
       " 'COG',\n",
       " 'COMM',\n",
       " 'COO',\n",
       " 'COP',\n",
       " 'COST',\n",
       " 'COTY',\n",
       " 'CPB',\n",
       " 'CPT',\n",
       " 'CREE',\n",
       " 'CRM',\n",
       " 'CSCO',\n",
       " 'CSGP',\n",
       " 'CSX',\n",
       " 'CTAS',\n",
       " 'CTL',\n",
       " 'CTSH',\n",
       " 'CTXS',\n",
       " 'CVS',\n",
       " 'CVX',\n",
       " 'CXO',\n",
       " 'D',\n",
       " 'DAL',\n",
       " 'DATA',\n",
       " 'DE',\n",
       " 'DFS',\n",
       " 'DG',\n",
       " 'DGX',\n",
       " 'DHI',\n",
       " 'DHR',\n",
       " 'DIS',\n",
       " 'DISCA',\n",
       " 'DISH',\n",
       " 'DKS',\n",
       " 'DLR',\n",
       " 'DLTR',\n",
       " 'DNB',\n",
       " 'DNR',\n",
       " 'DO',\n",
       " 'DOV',\n",
       " 'DPZ',\n",
       " 'DRE',\n",
       " 'DRI',\n",
       " 'DTE',\n",
       " 'DUK',\n",
       " 'DVA',\n",
       " 'DVMT',\n",
       " 'DVN',\n",
       " 'DXC',\n",
       " 'DXCM',\n",
       " 'EA',\n",
       " 'EBAY',\n",
       " 'ECL',\n",
       " 'ED',\n",
       " 'EFX',\n",
       " 'EGN',\n",
       " 'EIX',\n",
       " 'EL',\n",
       " 'EMN',\n",
       " 'EMR',\n",
       " 'ENDP',\n",
       " 'EOG',\n",
       " 'EPC',\n",
       " 'EQIX',\n",
       " 'EQR',\n",
       " 'EQT',\n",
       " 'ES',\n",
       " 'ESRX',\n",
       " 'ESS',\n",
       " 'ETFC',\n",
       " 'ETN',\n",
       " 'ETR',\n",
       " 'EV',\n",
       " 'EVHC',\n",
       " 'EW',\n",
       " 'EWBC',\n",
       " 'EXC',\n",
       " 'EXPE',\n",
       " 'EXR',\n",
       " 'F',\n",
       " 'FANG',\n",
       " 'FAST',\n",
       " 'FB',\n",
       " 'FBHS',\n",
       " 'FCX',\n",
       " 'FDC',\n",
       " 'FDX',\n",
       " 'FE',\n",
       " 'FEYE',\n",
       " 'FIS',\n",
       " 'FISV',\n",
       " 'FITB',\n",
       " 'FL',\n",
       " 'FLEX',\n",
       " 'FLIR',\n",
       " 'FLR',\n",
       " 'FLS',\n",
       " 'FLT',\n",
       " 'FMC',\n",
       " 'FNF',\n",
       " 'FOSL',\n",
       " 'FRC',\n",
       " 'FRT',\n",
       " 'FTI',\n",
       " 'FTNT',\n",
       " 'FTV',\n",
       " 'FWONK',\n",
       " 'GE',\n",
       " 'GGP',\n",
       " 'GILD',\n",
       " 'GIS',\n",
       " 'GLW',\n",
       " 'GM',\n",
       " 'GME',\n",
       " 'GNW',\n",
       " 'GOOGL',\n",
       " 'GPC',\n",
       " 'GPN',\n",
       " 'GPS',\n",
       " 'GRA',\n",
       " 'GRMN',\n",
       " 'GS',\n",
       " 'GT',\n",
       " 'GWW',\n",
       " 'HAL',\n",
       " 'HAS',\n",
       " 'HBAN',\n",
       " 'HBI',\n",
       " 'HCA',\n",
       " 'HCP',\n",
       " 'HD',\n",
       " 'HDS',\n",
       " 'HES',\n",
       " 'HFC',\n",
       " 'HIG',\n",
       " 'HLF',\n",
       " 'HLT',\n",
       " 'HOG',\n",
       " 'HOLX',\n",
       " 'HON',\n",
       " 'HP',\n",
       " 'HPE',\n",
       " 'HPQ',\n",
       " 'HRB',\n",
       " 'HRL',\n",
       " 'HSIC',\n",
       " 'HST',\n",
       " 'HSY',\n",
       " 'HUM',\n",
       " 'IAC',\n",
       " 'IBM',\n",
       " 'ICE',\n",
       " 'IDXX',\n",
       " 'IEX',\n",
       " 'IFF',\n",
       " 'ILMN',\n",
       " 'INCY',\n",
       " 'INFO',\n",
       " 'INGR',\n",
       " 'INTC',\n",
       " 'INTU',\n",
       " 'IP',\n",
       " 'IPG',\n",
       " 'IPGP',\n",
       " 'IQV',\n",
       " 'IR',\n",
       " 'IRM',\n",
       " 'ISRG',\n",
       " 'IT',\n",
       " 'ITW',\n",
       " 'IVZ',\n",
       " 'JAZZ',\n",
       " 'JBHT',\n",
       " 'JCI',\n",
       " 'JEC',\n",
       " 'JKHY',\n",
       " 'JLL',\n",
       " 'JNJ',\n",
       " 'JNPR',\n",
       " 'JPM',\n",
       " 'JWN',\n",
       " 'K',\n",
       " 'KEY',\n",
       " 'KHC',\n",
       " 'KIM',\n",
       " 'KLAC',\n",
       " 'KMB',\n",
       " 'KMI',\n",
       " 'KMX',\n",
       " 'KNX',\n",
       " 'KO',\n",
       " 'KR',\n",
       " 'KSS',\n",
       " 'KSU',\n",
       " 'L',\n",
       " 'LB',\n",
       " 'LBRDK',\n",
       " 'LBTYK',\n",
       " 'LDOS',\n",
       " 'LEA',\n",
       " 'LEG',\n",
       " 'LEN',\n",
       " 'LH',\n",
       " 'LII',\n",
       " 'LKQ',\n",
       " 'LLY',\n",
       " 'LM',\n",
       " 'LNC',\n",
       " 'LNG',\n",
       " 'LNT',\n",
       " 'LOW',\n",
       " 'LPT',\n",
       " 'LRCX',\n",
       " 'LULU',\n",
       " 'LUV',\n",
       " 'LVS',\n",
       " 'LYB',\n",
       " 'LYV',\n",
       " 'M',\n",
       " 'MA',\n",
       " 'MAC',\n",
       " 'MAN',\n",
       " 'MAR',\n",
       " 'MAS',\n",
       " 'MAT',\n",
       " 'MCD',\n",
       " 'MCHP',\n",
       " 'MCK',\n",
       " 'MCO',\n",
       " 'MD',\n",
       " 'MDLZ',\n",
       " 'MDT',\n",
       " 'MDU',\n",
       " 'MELI',\n",
       " 'MET',\n",
       " 'MGM',\n",
       " 'MHK',\n",
       " 'MIC',\n",
       " 'MIDD',\n",
       " 'MKC',\n",
       " 'MKL',\n",
       " 'MLM',\n",
       " 'MMC',\n",
       " 'MNK',\n",
       " 'MNST',\n",
       " 'MOS',\n",
       " 'MPC',\n",
       " 'MRK',\n",
       " 'MRO',\n",
       " 'MRVL',\n",
       " 'MS',\n",
       " 'MSFT',\n",
       " 'MSI',\n",
       " 'MTB',\n",
       " 'MTD',\n",
       " 'MTN',\n",
       " 'MU',\n",
       " 'MUR',\n",
       " 'MXIM',\n",
       " 'MYL',\n",
       " 'NAVI',\n",
       " 'NBL',\n",
       " 'NBR',\n",
       " 'NCLH',\n",
       " 'NDAQ',\n",
       " 'NEE',\n",
       " 'NEM',\n",
       " 'NFLX',\n",
       " 'NFX',\n",
       " 'NI',\n",
       " 'NKE',\n",
       " 'NLSN',\n",
       " 'NOV',\n",
       " 'NOW',\n",
       " 'NRG',\n",
       " 'NSC',\n",
       " 'NTAP',\n",
       " 'NTRS',\n",
       " 'NUAN',\n",
       " 'NUE',\n",
       " 'NVDA',\n",
       " 'NVR',\n",
       " 'NWL',\n",
       " 'NWSA',\n",
       " 'NYCB',\n",
       " 'O',\n",
       " 'OC',\n",
       " 'ODFL',\n",
       " 'OGE',\n",
       " 'OI',\n",
       " 'OII',\n",
       " 'OKE',\n",
       " 'OMC',\n",
       " 'ORCL',\n",
       " 'ORLY',\n",
       " 'OXY',\n",
       " 'PAGP',\n",
       " 'PANW',\n",
       " 'PAYX',\n",
       " 'PBCT',\n",
       " 'PCAR',\n",
       " 'PCG',\n",
       " 'PDCO',\n",
       " 'PE',\n",
       " 'PEG',\n",
       " 'PEP',\n",
       " 'PFE',\n",
       " 'PFG',\n",
       " 'PG',\n",
       " 'PGR',\n",
       " 'PH',\n",
       " 'PHM',\n",
       " 'PII',\n",
       " 'PKG',\n",
       " 'PLD',\n",
       " 'PNC',\n",
       " 'PNR',\n",
       " 'PNW',\n",
       " 'PPG',\n",
       " 'PPL',\n",
       " 'PRGO',\n",
       " 'PRU',\n",
       " 'PSX',\n",
       " 'PVH',\n",
       " 'PWR',\n",
       " 'PX',\n",
       " 'PXD',\n",
       " 'PYPL',\n",
       " 'QCOM',\n",
       " 'QEP',\n",
       " 'QRVO',\n",
       " 'RCL',\n",
       " 'RE',\n",
       " 'REG',\n",
       " 'REGN',\n",
       " 'RF',\n",
       " 'RGA',\n",
       " 'RHI',\n",
       " 'RHT',\n",
       " 'RJF',\n",
       " 'RL',\n",
       " 'RLGY',\n",
       " 'RMD',\n",
       " 'RNR',\n",
       " 'ROK',\n",
       " 'ROL',\n",
       " 'ROP',\n",
       " 'ROST',\n",
       " 'RRC',\n",
       " 'RSG',\n",
       " 'RYN',\n",
       " 'S',\n",
       " 'SABR',\n",
       " 'SBAC',\n",
       " 'SBNY',\n",
       " 'SBUX',\n",
       " 'SCG',\n",
       " 'SCHW',\n",
       " 'SEE',\n",
       " 'SEIC',\n",
       " 'SGEN',\n",
       " 'SHW',\n",
       " 'SIG',\n",
       " 'SIRI',\n",
       " 'SIVB',\n",
       " 'SJM',\n",
       " 'SLB',\n",
       " 'SLG',\n",
       " 'SNA',\n",
       " 'SNPS',\n",
       " 'SO',\n",
       " 'SPGI',\n",
       " 'SPLK',\n",
       " 'SPXC',\n",
       " 'SQ',\n",
       " 'SRCL',\n",
       " 'SRE',\n",
       " 'SSNC',\n",
       " 'STI',\n",
       " 'STLD',\n",
       " 'STT',\n",
       " 'STX',\n",
       " 'STZ',\n",
       " 'SWK',\n",
       " 'SWKS',\n",
       " 'SWN',\n",
       " 'SYF',\n",
       " 'SYK',\n",
       " 'SYMC',\n",
       " 'SYY',\n",
       " 'T',\n",
       " 'TAP',\n",
       " 'TDC',\n",
       " 'TEL',\n",
       " 'TFX',\n",
       " 'TGNA',\n",
       " 'TGT',\n",
       " 'TIF',\n",
       " 'TJX',\n",
       " 'TMK',\n",
       " 'TMO',\n",
       " 'TMUS',\n",
       " 'TOL',\n",
       " 'TPR',\n",
       " 'TRGP',\n",
       " 'TRIP',\n",
       " 'TRMB',\n",
       " 'TROW',\n",
       " 'TRU',\n",
       " 'TRV',\n",
       " 'TSCO',\n",
       " 'TSLA',\n",
       " 'TSN',\n",
       " 'TSRO',\n",
       " 'TSS',\n",
       " 'TTWO',\n",
       " 'TWTR',\n",
       " 'TXN',\n",
       " 'UAA',\n",
       " 'UAL',\n",
       " 'UDR',\n",
       " 'UGI',\n",
       " 'UHAL',\n",
       " 'ULTA',\n",
       " 'UNH',\n",
       " 'UNM',\n",
       " 'UNP',\n",
       " 'UPS',\n",
       " 'URBN',\n",
       " 'URI',\n",
       " 'USB',\n",
       " 'UTHR',\n",
       " 'V',\n",
       " 'VAR',\n",
       " 'VEEV',\n",
       " 'VER',\n",
       " 'VFC',\n",
       " 'VIAB',\n",
       " 'VLO',\n",
       " 'VMC',\n",
       " 'VMW',\n",
       " 'VOYA',\n",
       " 'VRSK',\n",
       " 'VRSN',\n",
       " 'VRTX',\n",
       " 'VTR',\n",
       " 'VZ',\n",
       " 'WAB',\n",
       " 'WAT',\n",
       " 'WBA',\n",
       " 'WBC',\n",
       " 'WCN',\n",
       " 'WDAY',\n",
       " 'WDC',\n",
       " 'WEC',\n",
       " 'WELL',\n",
       " 'WFC',\n",
       " 'WFTIQ',\n",
       " 'WHR',\n",
       " 'WLK',\n",
       " 'WLTW',\n",
       " 'WM',\n",
       " 'WMB',\n",
       " 'WMT',\n",
       " 'WRB',\n",
       " 'WRK',\n",
       " 'WU',\n",
       " 'WY',\n",
       " 'WYND',\n",
       " 'WYNN',\n",
       " 'XEC',\n",
       " 'XEL',\n",
       " 'XL',\n",
       " 'XLNX',\n",
       " 'XOM',\n",
       " 'XRAY',\n",
       " 'XRX',\n",
       " 'XYL',\n",
       " 'Y',\n",
       " 'YUM',\n",
       " 'Z',\n",
       " 'ZAYO',\n",
       " 'ZBH',\n",
       " 'ZION',\n",
       " 'ZTS']"
      ]
     },
     "execution_count": 213,
     "metadata": {},
     "output_type": "execute_result"
    }
   ],
   "source": [
    "df = df_sdg.copy()\n",
    "tickers = df['Ticker'].unique().tolist()\n",
    "tickers"
   ]
  },
  {
   "cell_type": "code",
   "execution_count": 227,
   "id": "a26548ce",
   "metadata": {},
   "outputs": [
    {
     "data": {
      "text/html": [
       "<div>\n",
       "<style scoped>\n",
       "    .dataframe tbody tr th:only-of-type {\n",
       "        vertical-align: middle;\n",
       "    }\n",
       "\n",
       "    .dataframe tbody tr th {\n",
       "        vertical-align: top;\n",
       "    }\n",
       "\n",
       "    .dataframe thead th {\n",
       "        text-align: right;\n",
       "    }\n",
       "</style>\n",
       "<table border=\"1\" class=\"dataframe\">\n",
       "  <thead>\n",
       "    <tr style=\"text-align: right;\">\n",
       "      <th></th>\n",
       "      <th>Company</th>\n",
       "      <th>Cumulative Diff</th>\n",
       "      <th>Std Dev Diff</th>\n",
       "    </tr>\n",
       "  </thead>\n",
       "  <tbody>\n",
       "    <tr>\n",
       "      <th>0</th>\n",
       "      <td>A</td>\n",
       "      <td>60.977253</td>\n",
       "      <td>2.266252</td>\n",
       "    </tr>\n",
       "    <tr>\n",
       "      <th>1</th>\n",
       "      <td>AAL</td>\n",
       "      <td>23.463574</td>\n",
       "      <td>0.800795</td>\n",
       "    </tr>\n",
       "    <tr>\n",
       "      <th>2</th>\n",
       "      <td>AAP</td>\n",
       "      <td>53.262136</td>\n",
       "      <td>2.613778</td>\n",
       "    </tr>\n",
       "    <tr>\n",
       "      <th>3</th>\n",
       "      <td>AAPL</td>\n",
       "      <td>30.452234</td>\n",
       "      <td>1.004732</td>\n",
       "    </tr>\n",
       "    <tr>\n",
       "      <th>4</th>\n",
       "      <td>ABBV</td>\n",
       "      <td>52.246610</td>\n",
       "      <td>1.987919</td>\n",
       "    </tr>\n",
       "    <tr>\n",
       "      <th>...</th>\n",
       "      <td>...</td>\n",
       "      <td>...</td>\n",
       "      <td>...</td>\n",
       "    </tr>\n",
       "    <tr>\n",
       "      <th>617</th>\n",
       "      <td>Z</td>\n",
       "      <td>37.542719</td>\n",
       "      <td>2.466190</td>\n",
       "    </tr>\n",
       "    <tr>\n",
       "      <th>618</th>\n",
       "      <td>ZAYO</td>\n",
       "      <td>12.039439</td>\n",
       "      <td>0.644001</td>\n",
       "    </tr>\n",
       "    <tr>\n",
       "      <th>619</th>\n",
       "      <td>ZBH</td>\n",
       "      <td>34.346577</td>\n",
       "      <td>2.920034</td>\n",
       "    </tr>\n",
       "    <tr>\n",
       "      <th>620</th>\n",
       "      <td>ZION</td>\n",
       "      <td>32.372300</td>\n",
       "      <td>1.043019</td>\n",
       "    </tr>\n",
       "    <tr>\n",
       "      <th>621</th>\n",
       "      <td>ZTS</td>\n",
       "      <td>22.357818</td>\n",
       "      <td>2.069390</td>\n",
       "    </tr>\n",
       "  </tbody>\n",
       "</table>\n",
       "<p>622 rows × 3 columns</p>\n",
       "</div>"
      ],
      "text/plain": [
       "    Company  Cumulative Diff  Std Dev Diff\n",
       "0         A        60.977253      2.266252\n",
       "1       AAL        23.463574      0.800795\n",
       "2       AAP        53.262136      2.613778\n",
       "3      AAPL        30.452234      1.004732\n",
       "4      ABBV        52.246610      1.987919\n",
       "..      ...              ...           ...\n",
       "617       Z        37.542719      2.466190\n",
       "618    ZAYO        12.039439      0.644001\n",
       "619     ZBH        34.346577      2.920034\n",
       "620    ZION        32.372300      1.043019\n",
       "621     ZTS        22.357818      2.069390\n",
       "\n",
       "[622 rows x 3 columns]"
      ]
     },
     "execution_count": 227,
     "metadata": {},
     "output_type": "execute_result"
    }
   ],
   "source": [
    "dfResult = pd.DataFrame(columns = ['Company', 'Cumulative Diff', 'Std Dev Diff'])\n",
    "\n",
    "for company in tickers:\n",
    "    df_stock = df.loc[df['Ticker'] == company].copy()\n",
    "    df_stock['Timestamp'] = df_stock['Timestamp'].apply(pd.to_datetime, errors='coerce')\n",
    "    df_stock['diff'] = df_stock['SDG_Mean'].diff()\n",
    "    mask = df_stock[\"Timestamp\"].isin(df_time[\"Date\"].unique())\n",
    "    df_score_rs = df_stock[mask]['diff']\n",
    "    std = df_score_rs.std()\n",
    "    cum = np.abs(df_stock[mask]['diff']).sum()\n",
    "    \n",
    "    result = [company, cum, std]\n",
    "    dfResult.loc[len(dfResult)] = result\n",
    "\n",
    "dfResult"
   ]
  },
  {
   "cell_type": "code",
   "execution_count": 229,
   "id": "89c41d37",
   "metadata": {},
   "outputs": [
    {
     "data": {
      "text/html": [
       "<div>\n",
       "<style scoped>\n",
       "    .dataframe tbody tr th:only-of-type {\n",
       "        vertical-align: middle;\n",
       "    }\n",
       "\n",
       "    .dataframe tbody tr th {\n",
       "        vertical-align: top;\n",
       "    }\n",
       "\n",
       "    .dataframe thead th {\n",
       "        text-align: right;\n",
       "    }\n",
       "</style>\n",
       "<table border=\"1\" class=\"dataframe\">\n",
       "  <thead>\n",
       "    <tr style=\"text-align: right;\">\n",
       "      <th></th>\n",
       "      <th>Company</th>\n",
       "      <th>Cumulative Diff</th>\n",
       "      <th>Std Dev Diff</th>\n",
       "    </tr>\n",
       "  </thead>\n",
       "  <tbody>\n",
       "    <tr>\n",
       "      <th>250</th>\n",
       "      <td>GME</td>\n",
       "      <td>136.036308</td>\n",
       "      <td>4.970878</td>\n",
       "    </tr>\n",
       "    <tr>\n",
       "      <th>547</th>\n",
       "      <td>TSCO</td>\n",
       "      <td>109.132633</td>\n",
       "      <td>5.275468</td>\n",
       "    </tr>\n",
       "    <tr>\n",
       "      <th>75</th>\n",
       "      <td>BAX</td>\n",
       "      <td>101.148533</td>\n",
       "      <td>3.646302</td>\n",
       "    </tr>\n",
       "    <tr>\n",
       "      <th>545</th>\n",
       "      <td>TRU</td>\n",
       "      <td>96.958664</td>\n",
       "      <td>3.016821</td>\n",
       "    </tr>\n",
       "    <tr>\n",
       "      <th>346</th>\n",
       "      <td>LNT</td>\n",
       "      <td>89.977004</td>\n",
       "      <td>3.791556</td>\n",
       "    </tr>\n",
       "    <tr>\n",
       "      <th>62</th>\n",
       "      <td>ATO</td>\n",
       "      <td>88.801906</td>\n",
       "      <td>3.088393</td>\n",
       "    </tr>\n",
       "    <tr>\n",
       "      <th>313</th>\n",
       "      <td>JLL</td>\n",
       "      <td>85.278410</td>\n",
       "      <td>2.667879</td>\n",
       "    </tr>\n",
       "    <tr>\n",
       "      <th>298</th>\n",
       "      <td>IP</td>\n",
       "      <td>83.900347</td>\n",
       "      <td>3.553378</td>\n",
       "    </tr>\n",
       "    <tr>\n",
       "      <th>173</th>\n",
       "      <td>DNB</td>\n",
       "      <td>81.971590</td>\n",
       "      <td>3.839308</td>\n",
       "    </tr>\n",
       "    <tr>\n",
       "      <th>193</th>\n",
       "      <td>EIX</td>\n",
       "      <td>81.699495</td>\n",
       "      <td>2.752052</td>\n",
       "    </tr>\n",
       "  </tbody>\n",
       "</table>\n",
       "</div>"
      ],
      "text/plain": [
       "    Company  Cumulative Diff  Std Dev Diff\n",
       "250     GME       136.036308      4.970878\n",
       "547    TSCO       109.132633      5.275468\n",
       "75      BAX       101.148533      3.646302\n",
       "545     TRU        96.958664      3.016821\n",
       "346     LNT        89.977004      3.791556\n",
       "62      ATO        88.801906      3.088393\n",
       "313     JLL        85.278410      2.667879\n",
       "298      IP        83.900347      3.553378\n",
       "173     DNB        81.971590      3.839308\n",
       "193     EIX        81.699495      2.752052"
      ]
     },
     "execution_count": 229,
     "metadata": {},
     "output_type": "execute_result"
    }
   ],
   "source": [
    "dfResult.sort_values(by='Cumulative Diff', ascending=False, inplace=True)\n",
    "\n",
    "dfResult.head(10)"
   ]
  },
  {
   "cell_type": "markdown",
   "id": "6f0bcd44",
   "metadata": {},
   "source": [
    "# rank - sentiment"
   ]
  },
  {
   "cell_type": "code",
   "execution_count": 244,
   "id": "18a1291b",
   "metadata": {},
   "outputs": [
    {
     "data": {
      "text/plain": [
       "['AOS',\n",
       " 'ABT',\n",
       " 'ABBV',\n",
       " 'ACN',\n",
       " 'ATVI',\n",
       " 'AYI',\n",
       " 'ADBE',\n",
       " 'AAP',\n",
       " 'AMD',\n",
       " 'AES',\n",
       " 'AET',\n",
       " 'AMG',\n",
       " 'AFL',\n",
       " 'AGCO',\n",
       " 'A',\n",
       " 'APD',\n",
       " 'AKAM',\n",
       " 'ALB',\n",
       " 'ALXN',\n",
       " 'ALGN',\n",
       " 'ALKS',\n",
       " 'Y',\n",
       " 'ALLE',\n",
       " 'AGN',\n",
       " 'ADS',\n",
       " 'LNT',\n",
       " 'ALL',\n",
       " 'ALLY',\n",
       " 'ALNY',\n",
       " 'GOOGL',\n",
       " 'AMZN',\n",
       " 'UHAL',\n",
       " 'AEE',\n",
       " 'AAL',\n",
       " 'AEP',\n",
       " 'AXP',\n",
       " 'AFG',\n",
       " 'AIG',\n",
       " 'AMT',\n",
       " 'AWK',\n",
       " 'AMP',\n",
       " 'ABC',\n",
       " 'AME',\n",
       " 'AMGN',\n",
       " 'APH',\n",
       " 'APC',\n",
       " 'ADI',\n",
       " 'ANDV',\n",
       " 'ANSS',\n",
       " 'AR',\n",
       " 'ANTM',\n",
       " 'AON',\n",
       " 'APA',\n",
       " 'AAPL',\n",
       " 'AMAT',\n",
       " 'APTV',\n",
       " 'ARMK',\n",
       " 'ACGL',\n",
       " 'ADM',\n",
       " 'ANET',\n",
       " 'ARW',\n",
       " 'ASH',\n",
       " 'AIZ',\n",
       " 'T',\n",
       " 'ATH',\n",
       " 'ATO',\n",
       " 'ADSK',\n",
       " 'ALV',\n",
       " 'ADP',\n",
       " 'AN',\n",
       " 'AZO',\n",
       " 'AVB',\n",
       " 'AVY',\n",
       " 'AVT',\n",
       " 'AVP',\n",
       " 'AXTA',\n",
       " 'AXS',\n",
       " 'BHGE',\n",
       " 'BLL',\n",
       " 'BAC',\n",
       " 'BK',\n",
       " 'BAX',\n",
       " 'BBT',\n",
       " 'BDX',\n",
       " 'BBBY',\n",
       " 'BRK/B',\n",
       " 'BBY',\n",
       " 'BIIB',\n",
       " 'BMRN',\n",
       " 'BLK',\n",
       " 'BWA',\n",
       " 'BXP',\n",
       " 'BSX',\n",
       " 'BHF',\n",
       " 'BMY',\n",
       " 'BRX',\n",
       " 'BR',\n",
       " 'GGP',\n",
       " 'BF/B',\n",
       " 'BG',\n",
       " 'CHRW',\n",
       " 'CA',\n",
       " 'COG',\n",
       " 'CDNS',\n",
       " 'CPT',\n",
       " 'CPB',\n",
       " 'COF',\n",
       " 'CAH',\n",
       " 'KMX',\n",
       " 'CCL',\n",
       " 'CAT',\n",
       " 'CBOE',\n",
       " 'CBRE',\n",
       " 'CBS',\n",
       " 'CDK',\n",
       " 'CDW',\n",
       " 'CE',\n",
       " 'CELG',\n",
       " 'CNC',\n",
       " 'CNP',\n",
       " 'CTL',\n",
       " 'CERN',\n",
       " 'CF',\n",
       " 'SCHW',\n",
       " 'CHTR',\n",
       " 'LNG',\n",
       " 'CHK',\n",
       " 'CVX',\n",
       " 'CMG',\n",
       " 'CB',\n",
       " 'CHD',\n",
       " 'XEC',\n",
       " 'CINF',\n",
       " 'CTAS',\n",
       " 'CSCO',\n",
       " 'CIT',\n",
       " 'C',\n",
       " 'CFG',\n",
       " 'CTXS',\n",
       " 'CLX',\n",
       " 'CME',\n",
       " 'CMS',\n",
       " 'KO',\n",
       " 'CGNX',\n",
       " 'CTSH',\n",
       " 'CL',\n",
       " 'CMCSA',\n",
       " 'CMA',\n",
       " 'COMM',\n",
       " 'CAG',\n",
       " 'CXO',\n",
       " 'COP',\n",
       " 'ED',\n",
       " 'STZ',\n",
       " 'CLR',\n",
       " 'COO',\n",
       " 'CLB',\n",
       " 'GLW',\n",
       " 'CSGP',\n",
       " 'COST',\n",
       " 'COTY',\n",
       " 'CREE',\n",
       " 'CCI',\n",
       " 'CCK',\n",
       " 'CSX',\n",
       " 'CMI',\n",
       " 'CVS',\n",
       " 'DHI',\n",
       " 'DHR',\n",
       " 'DRI',\n",
       " 'DVA',\n",
       " 'DE',\n",
       " 'DVMT',\n",
       " 'DAL',\n",
       " 'DNR',\n",
       " 'XRAY',\n",
       " 'DVN',\n",
       " 'DXCM',\n",
       " 'DO',\n",
       " 'FANG',\n",
       " 'DKS',\n",
       " 'DLR',\n",
       " 'DFS',\n",
       " 'DISCA',\n",
       " 'DISH',\n",
       " 'DG',\n",
       " 'DLTR',\n",
       " 'D',\n",
       " 'DPZ',\n",
       " 'DOV',\n",
       " 'DTE',\n",
       " 'DUK',\n",
       " 'DRE',\n",
       " 'DNB',\n",
       " 'DXC',\n",
       " 'ETFC',\n",
       " 'EWBC',\n",
       " 'EMN',\n",
       " 'ETN',\n",
       " 'EV',\n",
       " 'EBAY',\n",
       " 'ECL',\n",
       " 'EPC',\n",
       " 'EIX',\n",
       " 'EW',\n",
       " 'EA',\n",
       " 'EMR',\n",
       " 'ENDP',\n",
       " 'EGN',\n",
       " 'ETR',\n",
       " 'EVHC',\n",
       " 'EOG',\n",
       " 'EQT',\n",
       " 'EFX',\n",
       " 'EQIX',\n",
       " 'EQR',\n",
       " 'ESS',\n",
       " 'EL',\n",
       " 'RE',\n",
       " 'ES',\n",
       " 'EXC',\n",
       " 'EXPE',\n",
       " 'ESRX',\n",
       " 'EXR',\n",
       " 'XOM',\n",
       " 'FB',\n",
       " 'FAST',\n",
       " 'FRT',\n",
       " 'FDX',\n",
       " 'FNF',\n",
       " 'FIS',\n",
       " 'FITB',\n",
       " 'FEYE',\n",
       " 'FDC',\n",
       " 'FRC',\n",
       " 'FE',\n",
       " 'FISV',\n",
       " 'FLT',\n",
       " 'FLEX',\n",
       " 'FLIR',\n",
       " 'FLS',\n",
       " 'FLR',\n",
       " 'FMC',\n",
       " 'FL',\n",
       " 'F',\n",
       " 'FWONK',\n",
       " 'FTNT',\n",
       " 'FTV',\n",
       " 'FBHS',\n",
       " 'FOSL',\n",
       " 'BEN',\n",
       " 'FCX',\n",
       " 'AJG',\n",
       " 'GME',\n",
       " 'GPS',\n",
       " 'GRMN',\n",
       " 'IT',\n",
       " 'GE',\n",
       " 'GIS',\n",
       " 'GM',\n",
       " 'GPC',\n",
       " 'GNW',\n",
       " 'GILD',\n",
       " 'GPN',\n",
       " 'GS',\n",
       " 'GT',\n",
       " 'HRB',\n",
       " 'HAL',\n",
       " 'HBI',\n",
       " 'HOG',\n",
       " 'HIG',\n",
       " 'HAS',\n",
       " 'HCA',\n",
       " 'HCP',\n",
       " 'HDS',\n",
       " 'HP',\n",
       " 'HSIC',\n",
       " 'HLF',\n",
       " 'HSY',\n",
       " 'HES',\n",
       " 'HPE',\n",
       " 'HLT',\n",
       " 'HFC',\n",
       " 'HOLX',\n",
       " 'HD',\n",
       " 'HON',\n",
       " 'HRL',\n",
       " 'HST',\n",
       " 'HPQ',\n",
       " 'HUM',\n",
       " 'HBAN',\n",
       " 'IAC',\n",
       " 'IEX',\n",
       " 'IDXX',\n",
       " 'INFO',\n",
       " 'ITW',\n",
       " 'ILMN',\n",
       " 'INCY',\n",
       " 'IR',\n",
       " 'INGR',\n",
       " 'INTC',\n",
       " 'ICE',\n",
       " 'IBM',\n",
       " 'IFF',\n",
       " 'IP',\n",
       " 'IPG',\n",
       " 'INTU',\n",
       " 'ISRG',\n",
       " 'IVZ',\n",
       " 'IPGP',\n",
       " 'IQV',\n",
       " 'IRM',\n",
       " 'JBHT',\n",
       " 'SJM',\n",
       " 'JKHY',\n",
       " 'JEC',\n",
       " 'JAZZ',\n",
       " 'JNJ',\n",
       " 'JCI',\n",
       " 'JLL',\n",
       " 'JPM',\n",
       " 'JNPR',\n",
       " 'KSU',\n",
       " 'K',\n",
       " 'KEY',\n",
       " 'KMB',\n",
       " 'KIM',\n",
       " 'KMI',\n",
       " 'KLAC',\n",
       " 'KNX',\n",
       " 'KSS',\n",
       " 'KHC',\n",
       " 'KR',\n",
       " 'LB',\n",
       " 'LH',\n",
       " 'LRCX',\n",
       " 'LVS',\n",
       " 'LEA',\n",
       " 'LM',\n",
       " 'LEG',\n",
       " 'LDOS',\n",
       " 'LEN',\n",
       " 'LII',\n",
       " 'LBRDK',\n",
       " 'LBTYK',\n",
       " 'LPT',\n",
       " 'LLY',\n",
       " 'LNC',\n",
       " 'LYV',\n",
       " 'LKQ',\n",
       " 'L',\n",
       " 'LOW',\n",
       " 'LULU',\n",
       " 'LYB',\n",
       " 'MTB',\n",
       " 'MAC',\n",
       " 'MIC',\n",
       " 'M',\n",
       " 'MNK',\n",
       " 'MAN',\n",
       " 'MRO',\n",
       " 'MPC',\n",
       " 'MKL',\n",
       " 'MAR',\n",
       " 'MMC',\n",
       " 'MLM',\n",
       " 'MRVL',\n",
       " 'MAS',\n",
       " 'MA',\n",
       " 'MAT',\n",
       " 'MXIM',\n",
       " 'MKC',\n",
       " 'MCD',\n",
       " 'MCK',\n",
       " 'MDU',\n",
       " 'MD',\n",
       " 'MDT',\n",
       " 'MELI',\n",
       " 'MRK',\n",
       " 'MET',\n",
       " 'MTD',\n",
       " 'MGM',\n",
       " 'MCHP',\n",
       " 'MU',\n",
       " 'MSFT',\n",
       " 'MIDD',\n",
       " 'MHK',\n",
       " 'TAP',\n",
       " 'MDLZ',\n",
       " 'MNST',\n",
       " 'MCO',\n",
       " 'MS',\n",
       " 'MOS',\n",
       " 'MSI',\n",
       " 'MUR',\n",
       " 'MYL',\n",
       " 'NBR',\n",
       " 'NDAQ',\n",
       " 'NOV',\n",
       " 'NAVI',\n",
       " 'NTAP',\n",
       " 'NFLX',\n",
       " 'NYCB',\n",
       " 'NWL',\n",
       " 'NFX',\n",
       " 'NEM',\n",
       " 'NWSA',\n",
       " 'NEE',\n",
       " 'NLSN',\n",
       " 'NKE',\n",
       " 'NI',\n",
       " 'NBL',\n",
       " 'JWN',\n",
       " 'NSC',\n",
       " 'NTRS',\n",
       " 'NCLH',\n",
       " 'NRG',\n",
       " 'NUAN',\n",
       " 'NUE',\n",
       " 'NVDA',\n",
       " 'NVR',\n",
       " 'ORLY',\n",
       " 'OXY',\n",
       " 'OII',\n",
       " 'OGE',\n",
       " 'ODFL',\n",
       " 'OMC',\n",
       " 'OKE',\n",
       " 'ORCL',\n",
       " 'OC',\n",
       " 'OI',\n",
       " 'PCAR',\n",
       " 'PKG',\n",
       " 'PANW',\n",
       " 'PH',\n",
       " 'PE',\n",
       " 'PDCO',\n",
       " 'PAYX',\n",
       " 'PYPL',\n",
       " 'PNR',\n",
       " 'PBCT',\n",
       " 'PEP',\n",
       " 'PRGO',\n",
       " 'PFE',\n",
       " 'PCG',\n",
       " 'PSX',\n",
       " 'PNW',\n",
       " 'PXD',\n",
       " 'PAGP',\n",
       " 'PNC',\n",
       " 'PII',\n",
       " 'PPG',\n",
       " 'PPL',\n",
       " 'PX',\n",
       " 'PFG',\n",
       " 'PG',\n",
       " 'PGR',\n",
       " 'PLD',\n",
       " 'PRU',\n",
       " 'PEG',\n",
       " 'PHM',\n",
       " 'PVH',\n",
       " 'QEP',\n",
       " 'QRVO',\n",
       " 'QCOM',\n",
       " 'PWR',\n",
       " 'DGX',\n",
       " 'RL',\n",
       " 'RRC',\n",
       " 'RJF',\n",
       " 'RYN',\n",
       " 'RLGY',\n",
       " 'O',\n",
       " 'RHT',\n",
       " 'REG',\n",
       " 'REGN',\n",
       " 'RF',\n",
       " 'RGA',\n",
       " 'RNR',\n",
       " 'RSG',\n",
       " 'RMD',\n",
       " 'RHI',\n",
       " 'ROK',\n",
       " 'ROL',\n",
       " 'ROP',\n",
       " 'ROST',\n",
       " 'RCL',\n",
       " 'SPGI',\n",
       " 'SABR',\n",
       " 'CRM',\n",
       " 'SBAC',\n",
       " 'SCG',\n",
       " 'SLB',\n",
       " 'STX',\n",
       " 'SEE',\n",
       " 'SGEN',\n",
       " 'SEIC',\n",
       " 'SRE',\n",
       " 'NOW',\n",
       " 'SHW',\n",
       " 'SBNY',\n",
       " 'SIG',\n",
       " 'SIRI',\n",
       " 'SWKS',\n",
       " 'SLG',\n",
       " 'SNA',\n",
       " 'SO',\n",
       " 'LUV',\n",
       " 'SWN',\n",
       " 'SPLK',\n",
       " 'S',\n",
       " 'SPXC',\n",
       " 'SQ',\n",
       " 'SSNC',\n",
       " 'SWK',\n",
       " 'SBUX',\n",
       " 'STT',\n",
       " 'STLD',\n",
       " 'SRCL',\n",
       " 'SYK',\n",
       " 'STI',\n",
       " 'SIVB',\n",
       " 'SYMC',\n",
       " 'SYF',\n",
       " 'SNPS',\n",
       " 'SYY',\n",
       " 'TMUS',\n",
       " 'TROW',\n",
       " 'DATA',\n",
       " 'TTWO',\n",
       " 'TPR',\n",
       " 'TRGP',\n",
       " 'TGT',\n",
       " 'AMTD',\n",
       " 'TEL',\n",
       " 'FTI',\n",
       " 'TGNA',\n",
       " 'TFX',\n",
       " 'TDC',\n",
       " 'TSRO',\n",
       " 'TSLA',\n",
       " 'TXN',\n",
       " 'CC',\n",
       " 'TMO',\n",
       " 'TIF',\n",
       " 'TJX',\n",
       " 'TOL',\n",
       " 'TMK',\n",
       " 'TSS',\n",
       " 'TSCO',\n",
       " 'TRU',\n",
       " 'TRV',\n",
       " 'TRMB',\n",
       " 'TRIP',\n",
       " 'TWTR',\n",
       " 'TSN',\n",
       " 'USB',\n",
       " 'UDR',\n",
       " 'UGI',\n",
       " 'ULTA',\n",
       " 'UAA',\n",
       " 'UNP',\n",
       " 'UAL',\n",
       " 'UPS',\n",
       " 'URI',\n",
       " 'UTHR',\n",
       " 'UNH',\n",
       " 'UHS',\n",
       " 'UNM',\n",
       " 'URBN',\n",
       " 'MTN',\n",
       " 'VLO',\n",
       " 'VAR',\n",
       " 'VEEV',\n",
       " 'VTR',\n",
       " 'VER',\n",
       " 'VRSN',\n",
       " 'VRSK',\n",
       " 'VZ',\n",
       " 'VRTX',\n",
       " 'VFC',\n",
       " 'VIAB',\n",
       " 'V',\n",
       " 'VMW',\n",
       " 'VOYA',\n",
       " 'VMC',\n",
       " 'GWW',\n",
       " 'WRB',\n",
       " 'GRA',\n",
       " 'WBC',\n",
       " 'WBA',\n",
       " 'WMT',\n",
       " 'DIS',\n",
       " 'WCN',\n",
       " 'WM',\n",
       " 'WAT',\n",
       " 'WFTIQ',\n",
       " 'WEC',\n",
       " 'WFC',\n",
       " 'WELL',\n",
       " 'WDC',\n",
       " 'WU',\n",
       " 'WAB',\n",
       " 'WLK',\n",
       " 'WRK',\n",
       " 'WY',\n",
       " 'WHR',\n",
       " 'WMB',\n",
       " 'WLTW',\n",
       " 'WDAY',\n",
       " 'WYND',\n",
       " 'WYNN',\n",
       " 'XEL',\n",
       " 'XRX',\n",
       " 'XLNX',\n",
       " 'XL',\n",
       " 'XYL',\n",
       " 'YUM',\n",
       " 'ZAYO',\n",
       " 'Z',\n",
       " 'ZBH',\n",
       " 'ZION',\n",
       " 'ZTS']"
      ]
     },
     "execution_count": 244,
     "metadata": {},
     "output_type": "execute_result"
    }
   ],
   "source": [
    "df = df_sent.copy()\n",
    "tickers = df['Ticker'].unique().tolist()\n",
    "tickers"
   ]
  },
  {
   "cell_type": "code",
   "execution_count": 245,
   "id": "76abd02e",
   "metadata": {},
   "outputs": [
    {
     "data": {
      "text/html": [
       "<div>\n",
       "<style scoped>\n",
       "    .dataframe tbody tr th:only-of-type {\n",
       "        vertical-align: middle;\n",
       "    }\n",
       "\n",
       "    .dataframe tbody tr th {\n",
       "        vertical-align: top;\n",
       "    }\n",
       "\n",
       "    .dataframe thead th {\n",
       "        text-align: right;\n",
       "    }\n",
       "</style>\n",
       "<table border=\"1\" class=\"dataframe\">\n",
       "  <thead>\n",
       "    <tr style=\"text-align: right;\">\n",
       "      <th></th>\n",
       "      <th>Company</th>\n",
       "      <th>Cumulative Diff</th>\n",
       "      <th>Std Dev Diff</th>\n",
       "    </tr>\n",
       "  </thead>\n",
       "  <tbody>\n",
       "    <tr>\n",
       "      <th>409</th>\n",
       "      <td>NKE</td>\n",
       "      <td>94.528548</td>\n",
       "      <td>3.136740</td>\n",
       "    </tr>\n",
       "    <tr>\n",
       "      <th>550</th>\n",
       "      <td>TRU</td>\n",
       "      <td>94.214921</td>\n",
       "      <td>2.894021</td>\n",
       "    </tr>\n",
       "    <tr>\n",
       "      <th>549</th>\n",
       "      <td>TSCO</td>\n",
       "      <td>93.249413</td>\n",
       "      <td>4.762943</td>\n",
       "    </tr>\n",
       "    <tr>\n",
       "      <th>323</th>\n",
       "      <td>K</td>\n",
       "      <td>90.874488</td>\n",
       "      <td>3.672635</td>\n",
       "    </tr>\n",
       "    <tr>\n",
       "      <th>203</th>\n",
       "      <td>EIX</td>\n",
       "      <td>85.667060</td>\n",
       "      <td>3.000138</td>\n",
       "    </tr>\n",
       "    <tr>\n",
       "      <th>241</th>\n",
       "      <td>FLR</td>\n",
       "      <td>85.024350</td>\n",
       "      <td>4.402404</td>\n",
       "    </tr>\n",
       "    <tr>\n",
       "      <th>243</th>\n",
       "      <td>FL</td>\n",
       "      <td>80.537924</td>\n",
       "      <td>3.172658</td>\n",
       "    </tr>\n",
       "    <tr>\n",
       "      <th>129</th>\n",
       "      <td>CB</td>\n",
       "      <td>78.849664</td>\n",
       "      <td>3.832770</td>\n",
       "    </tr>\n",
       "    <tr>\n",
       "      <th>185</th>\n",
       "      <td>DG</td>\n",
       "      <td>78.681390</td>\n",
       "      <td>2.931153</td>\n",
       "    </tr>\n",
       "    <tr>\n",
       "      <th>25</th>\n",
       "      <td>LNT</td>\n",
       "      <td>73.680205</td>\n",
       "      <td>3.138503</td>\n",
       "    </tr>\n",
       "  </tbody>\n",
       "</table>\n",
       "</div>"
      ],
      "text/plain": [
       "    Company  Cumulative Diff  Std Dev Diff\n",
       "409     NKE        94.528548      3.136740\n",
       "550     TRU        94.214921      2.894021\n",
       "549    TSCO        93.249413      4.762943\n",
       "323       K        90.874488      3.672635\n",
       "203     EIX        85.667060      3.000138\n",
       "241     FLR        85.024350      4.402404\n",
       "243      FL        80.537924      3.172658\n",
       "129      CB        78.849664      3.832770\n",
       "185      DG        78.681390      2.931153\n",
       "25      LNT        73.680205      3.138503"
      ]
     },
     "execution_count": 245,
     "metadata": {},
     "output_type": "execute_result"
    }
   ],
   "source": [
    "dfResult_sent = pd.DataFrame(columns = ['Company', 'Cumulative Diff', 'Std Dev Diff'])\n",
    "\n",
    "for company in tickers:\n",
    "    df_stock = df.loc[df['Ticker'] == company].copy()\n",
    "    df_stock['Timestamp'] = df_stock['Timestamp'].apply(pd.to_datetime, errors='coerce')\n",
    "    df_stock['diff'] = df_stock['Sentiment'].diff()\n",
    "    mask = df_stock[\"Timestamp\"].isin(df_time[\"Date\"].unique())\n",
    "    df_score_rs = df_stock[mask]['diff']\n",
    "    std = df_score_rs.std()\n",
    "    cum = np.abs(df_stock[mask]['diff']).sum()\n",
    "    \n",
    "    result = [company, cum, std]\n",
    "    dfResult_sent.loc[len(dfResult_sent)] = result\n",
    "\n",
    "dfResult_sent.sort_values(by='Cumulative Diff', ascending=False, inplace=True)\n",
    "\n",
    "dfResult_sent.head(10)"
   ]
  },
  {
   "cell_type": "markdown",
   "id": "2bb3bf6a",
   "metadata": {},
   "source": [
    "# sectors"
   ]
  },
  {
   "cell_type": "code",
   "execution_count": 252,
   "id": "df77928c",
   "metadata": {},
   "outputs": [
    {
     "data": {
      "text/html": [
       "<div>\n",
       "<style scoped>\n",
       "    .dataframe tbody tr th:only-of-type {\n",
       "        vertical-align: middle;\n",
       "    }\n",
       "\n",
       "    .dataframe tbody tr th {\n",
       "        vertical-align: top;\n",
       "    }\n",
       "\n",
       "    .dataframe thead th {\n",
       "        text-align: right;\n",
       "    }\n",
       "</style>\n",
       "<table border=\"1\" class=\"dataframe\">\n",
       "  <thead>\n",
       "    <tr style=\"text-align: right;\">\n",
       "      <th></th>\n",
       "      <th>Ticker</th>\n",
       "      <th>GICS Sector</th>\n",
       "    </tr>\n",
       "  </thead>\n",
       "  <tbody>\n",
       "    <tr>\n",
       "      <th>321451</th>\n",
       "      <td>CHTR</td>\n",
       "      <td>Communication Services</td>\n",
       "    </tr>\n",
       "    <tr>\n",
       "      <th>1408045</th>\n",
       "      <td>TJX</td>\n",
       "      <td>Consumer Discretionary</td>\n",
       "    </tr>\n",
       "    <tr>\n",
       "      <th>858095</th>\n",
       "      <td>KR</td>\n",
       "      <td>Consumer Staples</td>\n",
       "    </tr>\n",
       "    <tr>\n",
       "      <th>463977</th>\n",
       "      <td>FANG</td>\n",
       "      <td>Energy</td>\n",
       "    </tr>\n",
       "    <tr>\n",
       "      <th>355841</th>\n",
       "      <td>CFG</td>\n",
       "      <td>Financials</td>\n",
       "    </tr>\n",
       "    <tr>\n",
       "      <th>1018917</th>\n",
       "      <td>MYL</td>\n",
       "      <td>Health Care</td>\n",
       "    </tr>\n",
       "    <tr>\n",
       "      <th>57735</th>\n",
       "      <td>ALLE</td>\n",
       "      <td>Industrials</td>\n",
       "    </tr>\n",
       "    <tr>\n",
       "      <th>1284523</th>\n",
       "      <td>NOW</td>\n",
       "      <td>Information Technology</td>\n",
       "    </tr>\n",
       "    <tr>\n",
       "      <th>1115489</th>\n",
       "      <td>PKG</td>\n",
       "      <td>Materials</td>\n",
       "    </tr>\n",
       "    <tr>\n",
       "      <th>1437910</th>\n",
       "      <td>UDR</td>\n",
       "      <td>Real Estate</td>\n",
       "    </tr>\n",
       "    <tr>\n",
       "      <th>1282683</th>\n",
       "      <td>SRE</td>\n",
       "      <td>Utilities</td>\n",
       "    </tr>\n",
       "  </tbody>\n",
       "</table>\n",
       "</div>"
      ],
      "text/plain": [
       "        Ticker             GICS Sector\n",
       "321451    CHTR  Communication Services\n",
       "1408045    TJX  Consumer Discretionary\n",
       "858095      KR        Consumer Staples\n",
       "463977    FANG                  Energy\n",
       "355841     CFG              Financials\n",
       "1018917    MYL             Health Care\n",
       "57735     ALLE             Industrials\n",
       "1284523    NOW  Information Technology\n",
       "1115489    PKG               Materials\n",
       "1437910    UDR             Real Estate\n",
       "1282683    SRE               Utilities"
      ]
     },
     "execution_count": 252,
     "metadata": {},
     "output_type": "execute_result"
    }
   ],
   "source": [
    "sectors = df.groupby('GICS Sector').sample(1)[['Ticker', 'GICS Sector']]\n",
    "sectors"
   ]
  },
  {
   "cell_type": "code",
   "execution_count": null,
   "id": "f04b8a30",
   "metadata": {},
   "outputs": [],
   "source": []
  }
 ],
 "metadata": {
  "kernelspec": {
   "display_name": "Python 3",
   "language": "python",
   "name": "python3"
  },
  "language_info": {
   "codemirror_mode": {
    "name": "ipython",
    "version": 3
   },
   "file_extension": ".py",
   "mimetype": "text/x-python",
   "name": "python",
   "nbconvert_exporter": "python",
   "pygments_lexer": "ipython3",
   "version": "3.8.3"
  }
 },
 "nbformat": 4,
 "nbformat_minor": 5
}
