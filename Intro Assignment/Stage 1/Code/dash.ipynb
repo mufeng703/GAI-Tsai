{
 "cells": [
  {
   "cell_type": "code",
   "execution_count": 1,
   "id": "d7bd9f19",
   "metadata": {},
   "outputs": [
    {
     "name": "stderr",
     "output_type": "stream",
     "text": [
      "<ipython-input-1-d359dae94062>:2: UserWarning: \n",
      "The dash_core_components package is deprecated. Please replace\n",
      "`import dash_core_components as dcc` with `from dash import dcc`\n",
      "  import dash_core_components as dcc\n",
      "<ipython-input-1-d359dae94062>:3: UserWarning: \n",
      "The dash_html_components package is deprecated. Please replace\n",
      "`import dash_html_components as html` with `from dash import html`\n",
      "  import dash_html_components as html\n"
     ]
    }
   ],
   "source": [
    "import dash\n",
    "import dash_core_components as dcc\n",
    "import dash_html_components as html\n",
    "from dash.dependencies import Input, Output, State \n",
    "from datetime import datetime\n",
    "import pandas as pd\n",
    "import numpy as np\n",
    "import plotly.graph_objs as go\n",
    "from plotly.subplots import make_subplots\n",
    "import pymongo\n",
    "import dns\n",
    "import json\n",
    "import dash_bootstrap_components as dbc\n",
    "import plotly\n",
    "from plotly.offline import plot\n",
    "import random\n",
    "from datetime import date"
   ]
  },
  {
   "cell_type": "code",
   "execution_count": null,
   "id": "85652e2f",
   "metadata": {},
   "outputs": [],
   "source": [
    "app = dash.Dash()\n",
    "server = app.server\n",
    "\n",
    "tickers = ['SPY', 'AMZN', 'AAPL', 'TSLA', 'GOOG']\n",
    "stats = ['Daily Returns', 'Std Dev', 'Momentum', 'Differences']\n",
    "path = \"/Users/caichengyun/Documents/User/Documents/Master/Intern/Global AI/Projects/Intro Assignment/Stage 1/Code/Data/fiveStock.csv\"\n",
    "df = pd.read_csv(path, index_col=0)"
   ]
  },
  {
   "cell_type": "code",
   "execution_count": null,
   "id": "cea3d61e",
   "metadata": {},
   "outputs": [
    {
     "name": "stdout",
     "output_type": "stream",
     "text": [
      "Dash is running on http://127.0.0.1:8050/\n",
      "\n",
      " * Serving Flask app '__main__' (lazy loading)\n",
      " * Environment: production\n",
      "\u001b[31m   WARNING: This is a development server. Do not use it in a production deployment.\u001b[0m\n",
      "\u001b[2m   Use a production WSGI server instead.\u001b[0m\n",
      " * Debug mode: off\n"
     ]
    },
    {
     "name": "stderr",
     "output_type": "stream",
     "text": [
      " * Running on http://127.0.0.1:8050/ (Press CTRL+C to quit)\n",
      "127.0.0.1 - - [01/Jul/2022 15:44:55] \"GET / HTTP/1.1\" 200 -\n",
      "127.0.0.1 - - [01/Jul/2022 15:44:56] \"GET /_favicon.ico?v=2.5.1 HTTP/1.1\" 200 -\n",
      "127.0.0.1 - - [01/Jul/2022 15:44:56] \"GET /_dash-dependencies HTTP/1.1\" 200 -\n",
      "127.0.0.1 - - [01/Jul/2022 15:44:56] \"GET /_dash-layout HTTP/1.1\" 200 -\n",
      "127.0.0.1 - - [01/Jul/2022 15:44:56] \"GET /_dash-component-suites/dash/dcc/async-dropdown.js HTTP/1.1\" 200 -\n",
      "127.0.0.1 - - [01/Jul/2022 15:44:56] \"GET /_dash-component-suites/dash/dcc/async-graph.js HTTP/1.1\" 200 -\n",
      "127.0.0.1 - - [01/Jul/2022 15:44:56] \"GET /_dash-component-suites/dash/dcc/async-datepicker.js HTTP/1.1\" 200 -\n",
      "127.0.0.1 - - [01/Jul/2022 15:44:56] \"GET /_dash-component-suites/dash/dcc/async-plotlyjs.js HTTP/1.1\" 200 -\n"
     ]
    },
    {
     "name": "stdout",
     "output_type": "stream",
     "text": [
      "Exception on /_dash-update-component [POST]\n",
      "Traceback (most recent call last):\n",
      "  File \"/Library/Frameworks/Python.framework/Versions/3.8/lib/python3.8/site-packages/flask/app.py\", line 2073, in wsgi_app\n",
      "    response = self.full_dispatch_request()\n",
      "  File \"/Library/Frameworks/Python.framework/Versions/3.8/lib/python3.8/site-packages/flask/app.py\", line 1518, in full_dispatch_request\n",
      "    rv = self.handle_user_exception(e)\n",
      "  File \"/Library/Frameworks/Python.framework/Versions/3.8/lib/python3.8/site-packages/flask/app.py\", line 1516, in full_dispatch_request\n",
      "    rv = self.dispatch_request()\n",
      "  File \"/Library/Frameworks/Python.framework/Versions/3.8/lib/python3.8/site-packages/flask/app.py\", line 1502, in dispatch_request\n",
      "    return self.ensure_sync(self.view_functions[rule.endpoint])(**req.view_args)\n",
      "  File \"/Library/Frameworks/Python.framework/Versions/3.8/lib/python3.8/site-packages/dash/dash.py\", line 1472, in dispatch\n",
      "    response.set_data(func(*args, outputs_list=outputs_list))\n",
      "  File \"/Library/Frameworks/Python.framework/Versions/3.8/lib/python3.8/site-packages/dash/_callback.py\", line 151, in add_context\n",
      "    output_value = func(*func_args, **func_kwargs)  # %% callback invoked %%\n",
      "  File \"<ipython-input-2-4a00a938c605>\", line 87, in graph\n",
      "    hist = ff.create_distplot(hist_data, [ticker, 'SPY'], bin_size=.2)\n",
      "NameError: name 'ff' is not defined\n"
     ]
    },
    {
     "name": "stderr",
     "output_type": "stream",
     "text": [
      "127.0.0.1 - - [01/Jul/2022 15:44:56] \"\u001b[35m\u001b[1mPOST /_dash-update-component HTTP/1.1\u001b[0m\" 500 -\n"
     ]
    },
    {
     "name": "stdout",
     "output_type": "stream",
     "text": [
      "Exception on /_dash-update-component [POST]\n",
      "Traceback (most recent call last):\n",
      "  File \"/Library/Frameworks/Python.framework/Versions/3.8/lib/python3.8/site-packages/flask/app.py\", line 2073, in wsgi_app\n",
      "    response = self.full_dispatch_request()\n",
      "  File \"/Library/Frameworks/Python.framework/Versions/3.8/lib/python3.8/site-packages/flask/app.py\", line 1518, in full_dispatch_request\n",
      "    rv = self.handle_user_exception(e)\n",
      "  File \"/Library/Frameworks/Python.framework/Versions/3.8/lib/python3.8/site-packages/flask/app.py\", line 1516, in full_dispatch_request\n",
      "    rv = self.dispatch_request()\n",
      "  File \"/Library/Frameworks/Python.framework/Versions/3.8/lib/python3.8/site-packages/flask/app.py\", line 1502, in dispatch_request\n",
      "    return self.ensure_sync(self.view_functions[rule.endpoint])(**req.view_args)\n",
      "  File \"/Library/Frameworks/Python.framework/Versions/3.8/lib/python3.8/site-packages/dash/dash.py\", line 1472, in dispatch\n",
      "    response.set_data(func(*args, outputs_list=outputs_list))\n",
      "  File \"/Library/Frameworks/Python.framework/Versions/3.8/lib/python3.8/site-packages/dash/_callback.py\", line 151, in add_context\n",
      "    output_value = func(*func_args, **func_kwargs)  # %% callback invoked %%\n",
      "  File \"<ipython-input-2-4a00a938c605>\", line 87, in graph\n",
      "    hist = ff.create_distplot(hist_data, [ticker, 'SPY'], bin_size=.2)\n",
      "NameError: name 'ff' is not defined\n"
     ]
    },
    {
     "name": "stderr",
     "output_type": "stream",
     "text": [
      "127.0.0.1 - - [01/Jul/2022 15:45:02] \"\u001b[35m\u001b[1mPOST /_dash-update-component HTTP/1.1\u001b[0m\" 500 -\n"
     ]
    },
    {
     "name": "stdout",
     "output_type": "stream",
     "text": [
      "Exception on /_dash-update-component [POST]\n",
      "Traceback (most recent call last):\n",
      "  File \"/Library/Frameworks/Python.framework/Versions/3.8/lib/python3.8/site-packages/flask/app.py\", line 2073, in wsgi_app\n",
      "    response = self.full_dispatch_request()\n",
      "  File \"/Library/Frameworks/Python.framework/Versions/3.8/lib/python3.8/site-packages/flask/app.py\", line 1518, in full_dispatch_request\n",
      "    rv = self.handle_user_exception(e)\n",
      "  File \"/Library/Frameworks/Python.framework/Versions/3.8/lib/python3.8/site-packages/flask/app.py\", line 1516, in full_dispatch_request\n",
      "    rv = self.dispatch_request()\n",
      "  File \"/Library/Frameworks/Python.framework/Versions/3.8/lib/python3.8/site-packages/flask/app.py\", line 1502, in dispatch_request\n",
      "    return self.ensure_sync(self.view_functions[rule.endpoint])(**req.view_args)\n",
      "  File \"/Library/Frameworks/Python.framework/Versions/3.8/lib/python3.8/site-packages/dash/dash.py\", line 1472, in dispatch\n",
      "    response.set_data(func(*args, outputs_list=outputs_list))\n",
      "  File \"/Library/Frameworks/Python.framework/Versions/3.8/lib/python3.8/site-packages/dash/_callback.py\", line 151, in add_context\n",
      "    output_value = func(*func_args, **func_kwargs)  # %% callback invoked %%\n",
      "  File \"<ipython-input-2-4a00a938c605>\", line 87, in graph\n",
      "    hist = ff.create_distplot(hist_data, [ticker, 'SPY'], bin_size=.2)\n",
      "NameError: name 'ff' is not defined\n"
     ]
    },
    {
     "name": "stderr",
     "output_type": "stream",
     "text": [
      "127.0.0.1 - - [01/Jul/2022 15:45:06] \"\u001b[35m\u001b[1mPOST /_dash-update-component HTTP/1.1\u001b[0m\" 500 -\n"
     ]
    },
    {
     "name": "stdout",
     "output_type": "stream",
     "text": [
      "Exception on /_dash-update-component [POST]\n",
      "Traceback (most recent call last):\n",
      "  File \"/Library/Frameworks/Python.framework/Versions/3.8/lib/python3.8/site-packages/flask/app.py\", line 2073, in wsgi_app\n",
      "    response = self.full_dispatch_request()\n",
      "  File \"/Library/Frameworks/Python.framework/Versions/3.8/lib/python3.8/site-packages/flask/app.py\", line 1518, in full_dispatch_request\n",
      "    rv = self.handle_user_exception(e)\n",
      "  File \"/Library/Frameworks/Python.framework/Versions/3.8/lib/python3.8/site-packages/flask/app.py\", line 1516, in full_dispatch_request\n",
      "    rv = self.dispatch_request()\n",
      "  File \"/Library/Frameworks/Python.framework/Versions/3.8/lib/python3.8/site-packages/flask/app.py\", line 1502, in dispatch_request\n",
      "    return self.ensure_sync(self.view_functions[rule.endpoint])(**req.view_args)\n",
      "  File \"/Library/Frameworks/Python.framework/Versions/3.8/lib/python3.8/site-packages/dash/dash.py\", line 1472, in dispatch\n",
      "    response.set_data(func(*args, outputs_list=outputs_list))\n",
      "  File \"/Library/Frameworks/Python.framework/Versions/3.8/lib/python3.8/site-packages/dash/_callback.py\", line 151, in add_context\n",
      "    output_value = func(*func_args, **func_kwargs)  # %% callback invoked %%\n",
      "  File \"<ipython-input-2-4a00a938c605>\", line 87, in graph\n",
      "    hist = ff.create_distplot(hist_data, [ticker, 'SPY'], bin_size=.2)\n",
      "NameError: name 'ff' is not defined\n"
     ]
    },
    {
     "name": "stderr",
     "output_type": "stream",
     "text": [
      "127.0.0.1 - - [01/Jul/2022 15:45:23] \"\u001b[35m\u001b[1mPOST /_dash-update-component HTTP/1.1\u001b[0m\" 500 -\n"
     ]
    }
   ],
   "source": [
    "\n",
    "\n",
    "app.layout = html.Div([html.Br(),\n",
    "                       html.Br(),\n",
    "#                        html.Div([html.H1('SGD',\n",
    "#                                          className='ten columns',\n",
    "#                                          style={'margin-top': 15,\n",
    "#                                                 'margin-left': 20}),\n",
    "                                 html.Img(\n",
    "                                     src='https://images.squarespace-cdn.com/content/5c036cd54eddec1d4ff1c1eb/1557908564936-YSBRPFCGYV2CE43OHI7F/GlobalAI_logo.jpg?content-type=image%2Fpng',\n",
    "                                     style={\n",
    "                                         'height': '13%',\n",
    "                                         'width': '13%',\n",
    "                                         'float': 'right',\n",
    "                                         'position': 'relative',\n",
    "                                         'margin-top': 11,\n",
    "                                         'margin-right': 0,\n",
    "                                         'columnCount': 2\n",
    "                                     },\n",
    "                                     className='two columns'\n",
    "                                 )\n",
    "                                 ]),\n",
    "                       html.Div([html.H3('Select a Company: '),\n",
    "                                 dcc.Dropdown(id='stock',\n",
    "                                              value='AAPL',\n",
    "                                              options=[{'label': x, 'value': x} for x in tickers])]),\n",
    "\n",
    "dbc.Row(\n",
    "        [\n",
    "            ##Dropdown for select TimeRange\n",
    "            dbc.Col(\n",
    "                html.Div([\n",
    "                    html.H4('Select Date Range'),\n",
    "                    dcc.DatePickerRange(id='date_range',\n",
    "                                        min_date_allowed=date(2017, 1, 1),\n",
    "                                        max_date_allowed=date(2021, 12, 31),\n",
    "                                        start_date=date(2017, 1, 1),\n",
    "                                        end_date=date(2021, 12, 31))\n",
    "                ],\n",
    "                    style={'display': 'inline-block', 'color': 'lightblue'}\n",
    "                ), width=4,\n",
    "                align=\"end\",\n",
    "            ),\n",
    "        ]\n",
    "    ),\n",
    "                       html.Br(),\n",
    "                       html.Br(),\n",
    "html.Div([html.Button(id='submit_button',n_clicks=0,children='Submit')]),\n",
    "                       html.Br(),\n",
    "                       html.Br(),\n",
    "                       html.Div([dcc.Graph(id='trend', style={'border-style': 'solid'})]),\n",
    "                       html.Div([dcc.Graph(id='histogram', style={'border-style': 'solid'})]),\n",
    "                       html.Div([dcc.Graph(id='heatmap', style={'border-style': 'solid'})]),\n",
    "                       ])\n",
    "\n",
    "@app.callback([Output(\"trend\", \"figure\"),\n",
    "               Output(\"histogram\", \"figure\"),\n",
    "               Output(\"heatmap\", \"figure\")],\n",
    "              [Input('submit_button', 'n_clicks')],\n",
    "              [State('stock', 'value')])\n",
    "\n",
    "def graph(n_clicks, ticker):\n",
    "    df.index = pd.to_datetime(df.index)\n",
    "\n",
    "    # trend\n",
    "    trend = go.Figure(data=[go.Scatter(x=df.index, y=df[ticker], mode=\"lines\", name=ticker),\n",
    "                            go.Scatter(x=df.index, y=df[ticker].pct_change(), mode=\"lines\", name='change'),\n",
    "                            go.Scatter(x=df.index, y=df[ticker].rolling(20).mean(), mode=\"lines\", name='mean')],\n",
    "                      layout={'title': {'text': f'{ticker} trends',\n",
    "                      'xanchor': 'center', 'x': 0.5},\n",
    "            'xaxis': {'title': 'Date'},\n",
    "            'yaxis': {'title': 'Percent'},\n",
    "            'legend': {'x': 0, 'y': 1},\n",
    "            'hovermode': 'closest',})\n",
    "\n",
    "    # histogram\n",
    "    hist_data = [df[ticker].tolist(), df['AAPL'].tolist()]\n",
    "    hist = ff.create_distplot(hist_data, [ticker, 'SPY'], bin_size=.2)\n",
    "    hist.update_layout(title=f\"{ticker} Stock Price Histogram\")\n",
    "\n",
    "    # heatmap\n",
    "    ret = pd.DataFrame(columns=tickers)\n",
    "    df2 = pd.read_csv('desc_stats.csv')\n",
    "    for i in tickers:\n",
    "        ret[i] = df2[i + 'Daily Returns']\n",
    "    heatmap = go.Figure(data=[go.Heatmap(x=tickers,\n",
    "                                         y=tickers,\n",
    "                                         z=ret.corr(),\n",
    "                                         colorscale=[[0.0, '#F5FFFA'],\n",
    "                         [0.2, '#ADD8E6'],\n",
    "                         [0.4, '#87CEEB'],\n",
    "                         [0.6, '#87CEFA'],\n",
    "                         [0.8, '#40E0D0'],\n",
    "                         [1.0, '#00CED1']])],\n",
    "                        layout={'title': {'text': 'Stocks Heatmap',\n",
    "                                                 'xanchor': 'center', 'x': 0.52,\n",
    "                                                 'yanchor': 'top',\n",
    "                                                 },\n",
    "                                       'paper_bgcolor': \"White\",\n",
    "                                       'plot_bgcolor': 'lightskyblue',\n",
    "                                       'font': {'color': 'lightskyblue'}\n",
    "\n",
    "                                       })\n",
    "\n",
    "    return trend, hist, heatmap\n",
    "\n",
    "if __name__ == '__main__':\n",
    "    app.run_server()"
   ]
  },
  {
   "cell_type": "code",
   "execution_count": null,
   "id": "40c62f9b",
   "metadata": {},
   "outputs": [],
   "source": []
  }
 ],
 "metadata": {
  "kernelspec": {
   "display_name": "Python 3",
   "language": "python",
   "name": "python3"
  },
  "language_info": {
   "codemirror_mode": {
    "name": "ipython",
    "version": 3
   },
   "file_extension": ".py",
   "mimetype": "text/x-python",
   "name": "python",
   "nbconvert_exporter": "python",
   "pygments_lexer": "ipython3",
   "version": "3.8.3"
  }
 },
 "nbformat": 4,
 "nbformat_minor": 5
}
